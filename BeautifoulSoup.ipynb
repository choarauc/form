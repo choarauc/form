{
  "nbformat": 4,
  "nbformat_minor": 0,
  "metadata": {
    "colab": {
      "name": "BeautifoulSoup.ipynb",
      "provenance": [],
      "collapsed_sections": [],
      "authorship_tag": "ABX9TyP49dFIWak11AiuA7+jdCAR",
      "include_colab_link": true
    },
    "kernelspec": {
      "name": "python3",
      "display_name": "Python 3"
    },
    "language_info": {
      "name": "python"
    }
  },
  "cells": [
    {
      "cell_type": "markdown",
      "metadata": {
        "id": "view-in-github",
        "colab_type": "text"
      },
      "source": [
        "<a href=\"https://colab.research.google.com/github/choarauc/form/blob/main/BeautifoulSoup.ipynb\" target=\"_parent\"><img src=\"https://colab.research.google.com/assets/colab-badge.svg\" alt=\"Open In Colab\"/></a>"
      ]
    },
    {
      "cell_type": "markdown",
      "source": [
        "(a) Exécuter les précédentes lignes de code et afficher le contenu de la liste titre_SC.\n",
        "\n",
        "(b) créer les listes annee_sortie_SC et note_SC contenant respectivement l'année de sortie et la note de chaque film présent dans la liste.\n",
        "\n",
        "(c) Utiliser la méthode strip() pour \"nettoyer\" les listes obtenues précédemment (retirer les parenthèses : \"()\" pour l'année de sortie, les espaces inutiles pour la note).\n",
        " \n",
        "\n",
        "> Bloc en retrait   La méthode strip(\"char\") permet de supprimer \"char\" d'une liste ou chaîne de caractères donnée. Quand aucun argument n'est précisé cela retire tous les espaces de la liste ou chaîne de caractères en question.\n",
        "\n",
        "\n",
        "(d) Créer un DataFrame nommé sens_critique à partir de ces trois listes. Les colonnes de ce DataFrame porteront les noms Titre, Annee_sortie_SC et Note_SC.> Bloc en retrait\n",
        "\n",
        "\n",
        "\n"
      ],
      "metadata": {
        "id": "7ESuZ76iznyS"
      }
    },
    {
      "cell_type": "code",
      "execution_count": 1,
      "metadata": {
        "colab": {
          "base_uri": "https://localhost:8080/"
        },
        "id": "j5jKAsfjzceK",
        "outputId": "d801082b-9680-4be0-f108-046912cdbfb1"
      },
      "outputs": [
        {
          "output_type": "stream",
          "name": "stdout",
          "text": [
            "['Douze Hommes en colère', 'Harakiri', 'Le Bon, la Brute et le Truand', 'Barberousse', 'Les Sept Samouraïs', \"Il était une fois dans l'Ouest\", 'Il était une fois en Amérique', 'Le Parrain', 'Le Trou', 'Point limite', \"Entre le ciel et l'enfer\", 'Le Voyage de Chihiro', 'Princesse Mononoké', \"L'Aurore\", 'Dersou Ouzala', 'Sherlock Junior', \"Vol au-dessus d'un nid de coucou\", 'Pour Sama', 'Parasite', 'Le Parrain - 2e Partie', 'Pulp Fiction', 'Apocalypse Now', 'Le Dictateur', \"Voyage au bout de l'enfer\", 'Psychose', 'La Femme des sables', 'Soy Cuba', 'Requiem pour un massacre', 'Sátántangó – Le Tango de Satan', 'Les Affranchis', 'Boulevard du crépuscule', 'Quand passent les cigognes', 'Rébellion', 'Le Tombeau des lucioles', 'Les Enfants du paradis', 'Ève...', 'Andreï Roublev', 'Rendez-vous', 'Les Temps modernes', 'La vie est belle', 'Les Lumières de la ville', 'Jeux dangereux', 'La Foule', 'M le maudit', 'Les Sentiers de la gloire', 'Le Limier', 'Fanny et Alexandre', 'Metropolis', 'Stalker', \"L'Intendant Sansho\", 'Fight Club', 'Fenêtre sur cour', 'Memories of Murder', 'La Vérité', 'Un voyage avec Martin Scorsese à travers le cinéma américain', 'Gentleman Jim', 'Barry Lyndon', 'La Nuit du chasseur', 'Le Kid', \"L'Armée des ombres\", 'La Colline des hommes perdus', 'Les Diaboliques', 'La Parole', 'Le Seigneur des Anneaux - Le Retour du roi', 'Shining', \"L'Empire contre-attaque\", 'Alien - Le 8ème Passager', 'Vivre', 'Le Joli Mai', 'Eureka', 'Old Boy', 'Chantons sous la pluie', 'Persona', \"Autopsie d'un meurtre\", 'De Nuremberg à Nuremberg', 'Furie', \"L'enfer est à lui\", 'Les Évadés', 'La Liste de Schindler', 'Sueurs froides', 'Les salauds dorment en paix', 'Seven', \"L'Impasse\", 'Le Mécano de la Général', 'Une journée particulière', 'Paris Is Burning', 'Les Nibelungen', 'Koyaanisqatsi', 'Les Chaussons rouges', 'Faust', 'Onibaba, les tueuses', 'La Bataille de Tchernobyl', 'Whiplash', 'Elephant Man', \"L'Homme qui tua Liberty Valance\", 'Sans soleil', 'Paris, Texas', 'Freaks - La Monstrueuse Parade', \"L'Opérateur\", 'La Garçonnière', 'Shoah', 'Leçons de Ténèbres', 'Citizen Kane', 'Le Salaire de la peur', \"L'Aventure de Mme Muir\", '12 hommes en colère', 'Le Sabre du mal', \"Le Seigneur des Anneaux - La Communauté de l'anneau\", 'Nuit et Brouillard', 'Ran', 'Le Bateau']\n"
          ]
        }
      ],
      "source": [
        "from urllib.request import urlopen\n",
        "from bs4 import BeautifulSoup\n",
        "import pandas as pd\n",
        "\n",
        "page_SC = urlopen(\"https://www.senscritique.com/films/tops/top111\")\n",
        "\n",
        "soup = BeautifulSoup(page_SC, 'html.parser')\n",
        "\n",
        "noms_SC = soup.findAll(name='a', attrs={'class': 'elco-anchor'})\n",
        "titre_SC = [] # On crée une liste vide qui contiendra tous les titres propres\n",
        "for element in noms_SC:\n",
        "    titre_SC.append(element.text)\n",
        "    \n",
        "print(titre_SC)"
      ]
    },
    {
      "cell_type": "code",
      "source": [
        "annee_sortie_SC = []\n",
        "for element in soup.findAll('span', attrs={'class': 'elco-date'}):\n",
        "    annee_sortie_SC.append(element.text.strip(\"()\")) # On retire les parenthèses\n",
        "\n",
        "note_SC = []\n",
        "for element in soup.findAll('a', attrs={'class': 'erra-global'}):\n",
        "    note_SC.append(element.text.strip()) # On retire les espaces inutiles\n",
        "    \n",
        "# Création du DataFrame\n",
        "\n",
        "sens_critique = pd.DataFrame(list(zip(titre_SC,annee_sortie_SC,note_SC)), columns=[\"Titre\",\"Annee_sortie_SC\",\"Note_SC\"])\n",
        "\n",
        "sens_critique.head()"
      ],
      "metadata": {
        "colab": {
          "base_uri": "https://localhost:8080/",
          "height": 206
        },
        "id": "HusspM4NzjLN",
        "outputId": "14b6fa7f-89df-40c5-dba0-62b7a1e1604c"
      },
      "execution_count": 2,
      "outputs": [
        {
          "output_type": "execute_result",
          "data": {
            "text/plain": [
              "                           Titre Annee_sortie_SC Note_SC\n",
              "0         Douze Hommes en colère            1957     8.7\n",
              "1                       Harakiri            1962     8.6\n",
              "2  Le Bon, la Brute et le Truand            1966     8.5\n",
              "3                    Barberousse            1965     8.5\n",
              "4             Les Sept Samouraïs            1954     8.5"
            ],
            "text/html": [
              "\n",
              "  <div id=\"df-cdf26050-989f-49c6-a4e6-9268b0dc46d6\">\n",
              "    <div class=\"colab-df-container\">\n",
              "      <div>\n",
              "<style scoped>\n",
              "    .dataframe tbody tr th:only-of-type {\n",
              "        vertical-align: middle;\n",
              "    }\n",
              "\n",
              "    .dataframe tbody tr th {\n",
              "        vertical-align: top;\n",
              "    }\n",
              "\n",
              "    .dataframe thead th {\n",
              "        text-align: right;\n",
              "    }\n",
              "</style>\n",
              "<table border=\"1\" class=\"dataframe\">\n",
              "  <thead>\n",
              "    <tr style=\"text-align: right;\">\n",
              "      <th></th>\n",
              "      <th>Titre</th>\n",
              "      <th>Annee_sortie_SC</th>\n",
              "      <th>Note_SC</th>\n",
              "    </tr>\n",
              "  </thead>\n",
              "  <tbody>\n",
              "    <tr>\n",
              "      <th>0</th>\n",
              "      <td>Douze Hommes en colère</td>\n",
              "      <td>1957</td>\n",
              "      <td>8.7</td>\n",
              "    </tr>\n",
              "    <tr>\n",
              "      <th>1</th>\n",
              "      <td>Harakiri</td>\n",
              "      <td>1962</td>\n",
              "      <td>8.6</td>\n",
              "    </tr>\n",
              "    <tr>\n",
              "      <th>2</th>\n",
              "      <td>Le Bon, la Brute et le Truand</td>\n",
              "      <td>1966</td>\n",
              "      <td>8.5</td>\n",
              "    </tr>\n",
              "    <tr>\n",
              "      <th>3</th>\n",
              "      <td>Barberousse</td>\n",
              "      <td>1965</td>\n",
              "      <td>8.5</td>\n",
              "    </tr>\n",
              "    <tr>\n",
              "      <th>4</th>\n",
              "      <td>Les Sept Samouraïs</td>\n",
              "      <td>1954</td>\n",
              "      <td>8.5</td>\n",
              "    </tr>\n",
              "  </tbody>\n",
              "</table>\n",
              "</div>\n",
              "      <button class=\"colab-df-convert\" onclick=\"convertToInteractive('df-cdf26050-989f-49c6-a4e6-9268b0dc46d6')\"\n",
              "              title=\"Convert this dataframe to an interactive table.\"\n",
              "              style=\"display:none;\">\n",
              "        \n",
              "  <svg xmlns=\"http://www.w3.org/2000/svg\" height=\"24px\"viewBox=\"0 0 24 24\"\n",
              "       width=\"24px\">\n",
              "    <path d=\"M0 0h24v24H0V0z\" fill=\"none\"/>\n",
              "    <path d=\"M18.56 5.44l.94 2.06.94-2.06 2.06-.94-2.06-.94-.94-2.06-.94 2.06-2.06.94zm-11 1L8.5 8.5l.94-2.06 2.06-.94-2.06-.94L8.5 2.5l-.94 2.06-2.06.94zm10 10l.94 2.06.94-2.06 2.06-.94-2.06-.94-.94-2.06-.94 2.06-2.06.94z\"/><path d=\"M17.41 7.96l-1.37-1.37c-.4-.4-.92-.59-1.43-.59-.52 0-1.04.2-1.43.59L10.3 9.45l-7.72 7.72c-.78.78-.78 2.05 0 2.83L4 21.41c.39.39.9.59 1.41.59.51 0 1.02-.2 1.41-.59l7.78-7.78 2.81-2.81c.8-.78.8-2.07 0-2.86zM5.41 20L4 18.59l7.72-7.72 1.47 1.35L5.41 20z\"/>\n",
              "  </svg>\n",
              "      </button>\n",
              "      \n",
              "  <style>\n",
              "    .colab-df-container {\n",
              "      display:flex;\n",
              "      flex-wrap:wrap;\n",
              "      gap: 12px;\n",
              "    }\n",
              "\n",
              "    .colab-df-convert {\n",
              "      background-color: #E8F0FE;\n",
              "      border: none;\n",
              "      border-radius: 50%;\n",
              "      cursor: pointer;\n",
              "      display: none;\n",
              "      fill: #1967D2;\n",
              "      height: 32px;\n",
              "      padding: 0 0 0 0;\n",
              "      width: 32px;\n",
              "    }\n",
              "\n",
              "    .colab-df-convert:hover {\n",
              "      background-color: #E2EBFA;\n",
              "      box-shadow: 0px 1px 2px rgba(60, 64, 67, 0.3), 0px 1px 3px 1px rgba(60, 64, 67, 0.15);\n",
              "      fill: #174EA6;\n",
              "    }\n",
              "\n",
              "    [theme=dark] .colab-df-convert {\n",
              "      background-color: #3B4455;\n",
              "      fill: #D2E3FC;\n",
              "    }\n",
              "\n",
              "    [theme=dark] .colab-df-convert:hover {\n",
              "      background-color: #434B5C;\n",
              "      box-shadow: 0px 1px 3px 1px rgba(0, 0, 0, 0.15);\n",
              "      filter: drop-shadow(0px 1px 2px rgba(0, 0, 0, 0.3));\n",
              "      fill: #FFFFFF;\n",
              "    }\n",
              "  </style>\n",
              "\n",
              "      <script>\n",
              "        const buttonEl =\n",
              "          document.querySelector('#df-cdf26050-989f-49c6-a4e6-9268b0dc46d6 button.colab-df-convert');\n",
              "        buttonEl.style.display =\n",
              "          google.colab.kernel.accessAllowed ? 'block' : 'none';\n",
              "\n",
              "        async function convertToInteractive(key) {\n",
              "          const element = document.querySelector('#df-cdf26050-989f-49c6-a4e6-9268b0dc46d6');\n",
              "          const dataTable =\n",
              "            await google.colab.kernel.invokeFunction('convertToInteractive',\n",
              "                                                     [key], {});\n",
              "          if (!dataTable) return;\n",
              "\n",
              "          const docLinkHtml = 'Like what you see? Visit the ' +\n",
              "            '<a target=\"_blank\" href=https://colab.research.google.com/notebooks/data_table.ipynb>data table notebook</a>'\n",
              "            + ' to learn more about interactive tables.';\n",
              "          element.innerHTML = '';\n",
              "          dataTable['output_type'] = 'display_data';\n",
              "          await google.colab.output.renderOutput(dataTable, element);\n",
              "          const docLink = document.createElement('div');\n",
              "          docLink.innerHTML = docLinkHtml;\n",
              "          element.appendChild(docLink);\n",
              "        }\n",
              "      </script>\n",
              "    </div>\n",
              "  </div>\n",
              "  "
            ]
          },
          "metadata": {},
          "execution_count": 2
        }
      ]
    },
    {
      "cell_type": "code",
      "source": [
        "page_imdb = urlopen(\"https://www.imdb.com/chart/top\")\n",
        "\n",
        "soup = BeautifulSoup(page_imdb, 'html.parser')\n",
        "\n",
        "titre_imdb = []\n",
        "for element in soup.select(\".titleColumn a\"):\n",
        "    titre_imdb.append(element.text)\n",
        "    \n",
        "annee_sortie_imdb = []\n",
        "for element in soup.findAll(name='span', attrs={'class': 'secondaryInfo'}):\n",
        "    annee_sortie_imdb.append(element.text.strip(\"()\"))\n",
        "    \n",
        "note_imdb = []\n",
        "for element in soup.select('.ratingColumn strong'):\n",
        "    note_imdb.append(element.text)\n",
        "\n",
        "# Création du DataFrame\n",
        "\n",
        "imdb = pd.DataFrame(list(zip(titre_imdb,annee_sortie_imdb,note_imdb)), columns=[\"Titre\",\"Annee_sortie_imdb\",\"Note_imdb\"])\n",
        "\n",
        "imdb.head()\n",
        "\n"
      ],
      "metadata": {
        "colab": {
          "base_uri": "https://localhost:8080/",
          "height": 206
        },
        "id": "rXauZm6Jz1Sp",
        "outputId": "7674c4cc-0aab-477c-c9c6-3b5dc437e9e8"
      },
      "execution_count": 3,
      "outputs": [
        {
          "output_type": "execute_result",
          "data": {
            "text/plain": [
              "                      Titre Annee_sortie_imdb Note_imdb\n",
              "0  The Shawshank Redemption              1994       9.2\n",
              "1             The Godfather              1972       9.2\n",
              "2           The Dark Knight              2008       9.0\n",
              "3    The Godfather: Part II              1974       9.0\n",
              "4              12 Angry Men              1957       9.0"
            ],
            "text/html": [
              "\n",
              "  <div id=\"df-5e676810-20e0-4e95-85ad-81007a8c0c9c\">\n",
              "    <div class=\"colab-df-container\">\n",
              "      <div>\n",
              "<style scoped>\n",
              "    .dataframe tbody tr th:only-of-type {\n",
              "        vertical-align: middle;\n",
              "    }\n",
              "\n",
              "    .dataframe tbody tr th {\n",
              "        vertical-align: top;\n",
              "    }\n",
              "\n",
              "    .dataframe thead th {\n",
              "        text-align: right;\n",
              "    }\n",
              "</style>\n",
              "<table border=\"1\" class=\"dataframe\">\n",
              "  <thead>\n",
              "    <tr style=\"text-align: right;\">\n",
              "      <th></th>\n",
              "      <th>Titre</th>\n",
              "      <th>Annee_sortie_imdb</th>\n",
              "      <th>Note_imdb</th>\n",
              "    </tr>\n",
              "  </thead>\n",
              "  <tbody>\n",
              "    <tr>\n",
              "      <th>0</th>\n",
              "      <td>The Shawshank Redemption</td>\n",
              "      <td>1994</td>\n",
              "      <td>9.2</td>\n",
              "    </tr>\n",
              "    <tr>\n",
              "      <th>1</th>\n",
              "      <td>The Godfather</td>\n",
              "      <td>1972</td>\n",
              "      <td>9.2</td>\n",
              "    </tr>\n",
              "    <tr>\n",
              "      <th>2</th>\n",
              "      <td>The Dark Knight</td>\n",
              "      <td>2008</td>\n",
              "      <td>9.0</td>\n",
              "    </tr>\n",
              "    <tr>\n",
              "      <th>3</th>\n",
              "      <td>The Godfather: Part II</td>\n",
              "      <td>1974</td>\n",
              "      <td>9.0</td>\n",
              "    </tr>\n",
              "    <tr>\n",
              "      <th>4</th>\n",
              "      <td>12 Angry Men</td>\n",
              "      <td>1957</td>\n",
              "      <td>9.0</td>\n",
              "    </tr>\n",
              "  </tbody>\n",
              "</table>\n",
              "</div>\n",
              "      <button class=\"colab-df-convert\" onclick=\"convertToInteractive('df-5e676810-20e0-4e95-85ad-81007a8c0c9c')\"\n",
              "              title=\"Convert this dataframe to an interactive table.\"\n",
              "              style=\"display:none;\">\n",
              "        \n",
              "  <svg xmlns=\"http://www.w3.org/2000/svg\" height=\"24px\"viewBox=\"0 0 24 24\"\n",
              "       width=\"24px\">\n",
              "    <path d=\"M0 0h24v24H0V0z\" fill=\"none\"/>\n",
              "    <path d=\"M18.56 5.44l.94 2.06.94-2.06 2.06-.94-2.06-.94-.94-2.06-.94 2.06-2.06.94zm-11 1L8.5 8.5l.94-2.06 2.06-.94-2.06-.94L8.5 2.5l-.94 2.06-2.06.94zm10 10l.94 2.06.94-2.06 2.06-.94-2.06-.94-.94-2.06-.94 2.06-2.06.94z\"/><path d=\"M17.41 7.96l-1.37-1.37c-.4-.4-.92-.59-1.43-.59-.52 0-1.04.2-1.43.59L10.3 9.45l-7.72 7.72c-.78.78-.78 2.05 0 2.83L4 21.41c.39.39.9.59 1.41.59.51 0 1.02-.2 1.41-.59l7.78-7.78 2.81-2.81c.8-.78.8-2.07 0-2.86zM5.41 20L4 18.59l7.72-7.72 1.47 1.35L5.41 20z\"/>\n",
              "  </svg>\n",
              "      </button>\n",
              "      \n",
              "  <style>\n",
              "    .colab-df-container {\n",
              "      display:flex;\n",
              "      flex-wrap:wrap;\n",
              "      gap: 12px;\n",
              "    }\n",
              "\n",
              "    .colab-df-convert {\n",
              "      background-color: #E8F0FE;\n",
              "      border: none;\n",
              "      border-radius: 50%;\n",
              "      cursor: pointer;\n",
              "      display: none;\n",
              "      fill: #1967D2;\n",
              "      height: 32px;\n",
              "      padding: 0 0 0 0;\n",
              "      width: 32px;\n",
              "    }\n",
              "\n",
              "    .colab-df-convert:hover {\n",
              "      background-color: #E2EBFA;\n",
              "      box-shadow: 0px 1px 2px rgba(60, 64, 67, 0.3), 0px 1px 3px 1px rgba(60, 64, 67, 0.15);\n",
              "      fill: #174EA6;\n",
              "    }\n",
              "\n",
              "    [theme=dark] .colab-df-convert {\n",
              "      background-color: #3B4455;\n",
              "      fill: #D2E3FC;\n",
              "    }\n",
              "\n",
              "    [theme=dark] .colab-df-convert:hover {\n",
              "      background-color: #434B5C;\n",
              "      box-shadow: 0px 1px 3px 1px rgba(0, 0, 0, 0.15);\n",
              "      filter: drop-shadow(0px 1px 2px rgba(0, 0, 0, 0.3));\n",
              "      fill: #FFFFFF;\n",
              "    }\n",
              "  </style>\n",
              "\n",
              "      <script>\n",
              "        const buttonEl =\n",
              "          document.querySelector('#df-5e676810-20e0-4e95-85ad-81007a8c0c9c button.colab-df-convert');\n",
              "        buttonEl.style.display =\n",
              "          google.colab.kernel.accessAllowed ? 'block' : 'none';\n",
              "\n",
              "        async function convertToInteractive(key) {\n",
              "          const element = document.querySelector('#df-5e676810-20e0-4e95-85ad-81007a8c0c9c');\n",
              "          const dataTable =\n",
              "            await google.colab.kernel.invokeFunction('convertToInteractive',\n",
              "                                                     [key], {});\n",
              "          if (!dataTable) return;\n",
              "\n",
              "          const docLinkHtml = 'Like what you see? Visit the ' +\n",
              "            '<a target=\"_blank\" href=https://colab.research.google.com/notebooks/data_table.ipynb>data table notebook</a>'\n",
              "            + ' to learn more about interactive tables.';\n",
              "          element.innerHTML = '';\n",
              "          dataTable['output_type'] = 'display_data';\n",
              "          await google.colab.output.renderOutput(dataTable, element);\n",
              "          const docLink = document.createElement('div');\n",
              "          docLink.innerHTML = docLinkHtml;\n",
              "          element.appendChild(docLink);\n",
              "        }\n",
              "      </script>\n",
              "    </div>\n",
              "  </div>\n",
              "  "
            ]
          },
          "metadata": {},
          "execution_count": 3
        }
      ]
    },
    {
      "cell_type": "markdown",
      "source": [
        "(f) Utiliser la méthode str.upper() pour mettre en majuscule l'intégralité de la colonne Titre.\n",
        "\n",
        "(g) Réaliser le merge des deux DataFrames sur la colonne Titre en ne sélectionnant que l'intersection des deux.\n",
        "\n",
        "(h) Transformer le type des colonnes Note_IMDB et Note_SC en format numérique si cela n'est pas déjà fait.\n",
        "\n",
        "(i) Faire un test de Student apparié pour comparer les moyennes données par Sens Critique et par IMDB à l'aide de la fonction ttest_rel() du module scipy.stats."
      ],
      "metadata": {
        "id": "ZdvbQSsiz3jO"
      }
    },
    {
      "cell_type": "code",
      "source": [
        "from scipy.stats import ttest_rel\n",
        "\n",
        "# Retirer les accents de la colonne \"Titre\"\n",
        "\n",
        "imdb[\"Titre\"] = imdb[\"Titre\"].str.normalize('NFKD').str.encode('ascii', errors='ignore').str.decode('utf-8')\n",
        "sens_critique[\"Titre\"] = sens_critique[\"Titre\"].str.normalize('NFKD').str.encode('ascii', errors='ignore').str.decode('utf-8')\n",
        "\n",
        "# Mettre tout en majuscule\n",
        "\n",
        "imdb[\"Titre\"] = imdb[\"Titre\"].str.upper()\n",
        "sens_critique[\"Titre\"] = sens_critique[\"Titre\"].str.upper()\n",
        "\n",
        "# Merge\n",
        "\n",
        "note_finale = imdb.merge(sens_critique, how=\"inner\", left_on=\"Titre\", right_on=\"Titre\", )\n",
        "\n",
        "note_finale[\"Note_imdb\"] = pd.to_numeric(note_finale[\"Note_imdb\"])\n",
        "note_finale[\"Note_SC\"] = pd.to_numeric(note_finale[\"Note_SC\"])\n",
        "\n",
        "# T-test\n",
        "\n",
        "ttest_rel(note_finale[\"Note_imdb\"],note_finale[\"Note_SC\"])\n",
        "\n",
        "# La p-value du test de Student est inférieure à 0,05, on rejette donc l'hypothèse que les \n",
        "# moyennes sont égales. Comme la statistique de test est positive, la différence entre la moyenne \n",
        "# IMDB et la moyenne Sens Critique est elle aussi positive, ce qui suggère que les utilisateurs \n",
        "# IMDB sont plus cléments que les utilisateurs Sens Critique quant à la notation."
      ],
      "metadata": {
        "colab": {
          "base_uri": "https://localhost:8080/"
        },
        "id": "iIh8pxkNz6G2",
        "outputId": "6ebcfa56-3efc-4317-c5c2-b9ecae260213"
      },
      "execution_count": 4,
      "outputs": [
        {
          "output_type": "execute_result",
          "data": {
            "text/plain": [
              "Ttest_relResult(statistic=3.041239048167191, pvalue=0.011221731797856767)"
            ]
          },
          "metadata": {},
          "execution_count": 4
        }
      ]
    },
    {
      "cell_type": "markdown",
      "source": [
        "# WEBSCRAPPING GOOGLE"
      ],
      "metadata": {
        "id": "KC03LIlkz-nI"
      }
    },
    {
      "cell_type": "code",
      "source": [
        "from googlesearch import search\n",
        "\n",
        "for url in search('parité en intelligence artificielle', tld='com', lang='fr', start=0, stop=10):\n",
        "    print(url)\n",
        "\n"
      ],
      "metadata": {
        "colab": {
          "base_uri": "https://localhost:8080/"
        },
        "id": "mMi6KBcI0CWp",
        "outputId": "8b59d2ff-d023-49d6-f1b1-83a42bb2825a"
      },
      "execution_count": 5,
      "outputs": [
        {
          "output_type": "stream",
          "name": "stdout",
          "text": [
            "https://datascientest.com/parite-en-intelligence-artificielle-un-enjeu-cle\n",
            "https://www.laboratoiredelegalite.org/le-pacte-pour-une-intelligence-artificielle-egalitaire-entre-les-femmes-et-les-hommes/\n",
            "https://theconversation.com/pourquoi-est-il-important-davoir-une-egalite-femmes-hommes-dans-le-monde-de-lia-157619\n",
            "https://www.actuia.com/tag/parite/\n",
            "https://www.echosciences-grenoble.fr/communautes/marie-rosalind-jane-et-les-sciences/articles/women-in-ai-vers-la-parite-dans-le-monde-du-numerique-et-de-l-intelligence-artificielle\n",
            "https://www.lesechos.fr/idees-debats/cercle/opinion-pas-de-diversite-des-genres-sans-intelligence-artificielle-256956\n",
            "https://www.thalesgroup.com/fr/monde/groupe/news/technologies-et-parite-comment-faire-une-ia-non-discriminatoire\n",
            "https://www.europe1.fr/technologies/edito-lintelligence-artificielle-est-elle-sexiste-3932234\n",
            "https://rm.coe.int/pacte-ia-laboratoire-egalite-fr/1680a05783\n",
            "https://apolitical.co/solution-articles/fr/les-femmes-craignent-l-intelligence-artificielle-les-hommes\n"
          ]
        }
      ]
    },
    {
      "cell_type": "markdown",
      "source": [
        "Web Scraping avec le package NewsPaper"
      ],
      "metadata": {
        "id": "6NrNI0XP0LIJ"
      }
    },
    {
      "cell_type": "code",
      "source": [
        "pip install newspaper"
      ],
      "metadata": {
        "id": "ZNT-u31S0Psc"
      },
      "execution_count": null,
      "outputs": []
    },
    {
      "cell_type": "code",
      "source": [
        "from newspaper import Article\n",
        "\n",
        "url = 'https://datascientest.com/parite-en-intelligence-artificielle-un-enjeu-cle'\n",
        "article = Article(url)\n",
        "article.download()\n",
        "article.parse()\n",
        "print(article.text)"
      ],
      "metadata": {
        "id": "jTV_S6fU0Lv_"
      },
      "execution_count": null,
      "outputs": []
    },
    {
      "cell_type": "markdown",
      "source": [
        " Récupérer les auteurs, la date de publication, le résumé et les mots clefs de l'article de notre blog sur la parité en intelligence artificielle."
      ],
      "metadata": {
        "id": "BNsf5nWS0bYR"
      }
    },
    {
      "cell_type": "code",
      "source": [
        "article.nlp() # on fait avant tout fonctionner le langage naturel\n",
        "article.authors \n",
        "article.publish_date\n",
        "article.summary\n",
        "article.keywords\n"
      ],
      "metadata": {
        "id": "_cPuytly0X-b"
      },
      "execution_count": null,
      "outputs": []
    }
  ]
}