{
  "nbformat": 4,
  "nbformat_minor": 0,
  "metadata": {
    "colab": {
      "name": "methodo_ecommerce.ipynb",
      "provenance": [],
      "collapsed_sections": [],
      "authorship_tag": "ABX9TyMkdaW5aN5vN2TV9eb5SG86",
      "include_colab_link": true
    },
    "kernelspec": {
      "name": "python3",
      "display_name": "Python 3"
    },
    "language_info": {
      "name": "python"
    }
  },
  "cells": [
    {
      "cell_type": "markdown",
      "metadata": {
        "id": "view-in-github",
        "colab_type": "text"
      },
      "source": [
        "<a href=\"https://colab.research.google.com/github/choarauc/form/blob/main/methodo_ecommerce.ipynb\" target=\"_parent\"><img src=\"https://colab.research.google.com/assets/colab-badge.svg\" alt=\"Open In Colab\"/></a>"
      ]
    },
    {
      "cell_type": "code",
      "execution_count": null,
      "metadata": {
        "id": "0_kkgm5zyVYi"
      },
      "outputs": [],
      "source": [
        "import pandas as pd\n",
        "import numpy as np\n",
        "import matplotlib.pyplot as plt\n",
        "import seaborn as sns\n",
        "from bokeh.plotting import figure\n",
        "from bokeh.io import  push_notebook,output_notebook, show\n",
        "from bokeh.models.widgets import Panel, Tabs\n",
        "from bokeh.models import ColumnDataSource\n",
        "from bokeh.models.tools import HoverTool\n",
        "import statsmodels.api\n",
        "\n",
        "df = pd.read_csv('events.csv')\n",
        "df.head()"
      ]
    },
    {
      "cell_type": "code",
      "source": [
        "print(\"Le dataframe contient\", df.shape[0], 'lignes et', df.shape[1], 'colonnes.')\n",
        "\n",
        "# Cette fonction permet de déterminer les variables avec des valeurs manquantes\n",
        "def valeur_manquante(df):\n",
        "    flag=0\n",
        "    for col in df.columns:\n",
        "            if df[col].isna().sum() > 0:\n",
        "                flag=1\n",
        "                print(f'\"{col}\": {df[col].isna().sum()} valeur(s) manquante(s)')\n",
        "    if flag==0:\n",
        "        print(\"Le dataset ne contient plus de valeurs manquantes.\")\n",
        "\n",
        "valeur_manquante(df)"
      ],
      "metadata": {
        "id": "NMmvxKCVyYC0"
      },
      "execution_count": null,
      "outputs": []
    },
    {
      "cell_type": "code",
      "source": [
        "# Calcul des corrélations de Pearson sur les variables quantitatives\n",
        "corr = df.corr()\n",
        "# Affichage de la heatmap de ces corrélations\n",
        "corr.style.background_gradient(cmap='Reds')"
      ],
      "metadata": {
        "id": "YxZvljxCybzb"
      },
      "execution_count": null,
      "outputs": []
    },
    {
      "cell_type": "code",
      "source": [
        "cat = df.select_dtypes(include = ['object']).columns\n",
        "df = df.join( pd.get_dummies(df[cat])) "
      ],
      "metadata": {
        "id": "9soYjgWGydsA"
      },
      "execution_count": null,
      "outputs": []
    },
    {
      "cell_type": "code",
      "source": [
        "df.event.unique()\n",
        "\n",
        "# Calcul des corrélations de Pearson sur les variables quantitatives\n",
        "corr = df.corr()\n",
        "# Affichage de la heatmap de ces corrélations\n",
        "corr.style.background_gradient(cmap='Reds')"
      ],
      "metadata": {
        "id": "unhkIwuXyiXS"
      },
      "execution_count": null,
      "outputs": []
    },
    {
      "cell_type": "code",
      "source": [
        "df['timestamp']=pd.to_datetime(df['timestamp'], unit ='ms')\n",
        "df.head()"
      ],
      "metadata": {
        "id": "HDkldAvTymmq"
      },
      "execution_count": null,
      "outputs": []
    },
    {
      "cell_type": "code",
      "source": [
        "df['event'].value_counts(normalize=True)\n",
        "\n",
        "view           0.966696\n",
        "addtocart      0.025156\n",
        "transaction    0.008148\n",
        "Name: event, dtype: float64"
      ],
      "metadata": {
        "id": "DxsB20Efyn0h"
      },
      "execution_count": null,
      "outputs": []
    },
    {
      "cell_type": "code",
      "source": [
        "df['visitorid'].value_counts()\n",
        "\n",
        "#1M de visiteurs uniques"
      ],
      "metadata": {
        "id": "IKHnsK9wypFc"
      },
      "execution_count": null,
      "outputs": []
    },
    {
      "cell_type": "code",
      "source": [
        "Serie_visitir_id = pd.Series((df['visitorid'].value_counts()==1).index)\n",
        "\n",
        "Serie_visitir_id[df['visitorid'].value_counts()==1] #visiteurs avec un evenement "
      ],
      "metadata": {
        "id": "rqDIRibryvbX"
      },
      "execution_count": null,
      "outputs": []
    },
    {
      "cell_type": "code",
      "source": [
        "unique_visitor = Serie_visitir_id[df['visitorid'].value_counts()==1]"
      ],
      "metadata": {
        "id": "5Pg2cWESyxJu"
      },
      "execution_count": null,
      "outputs": []
    },
    {
      "cell_type": "code",
      "source": [
        "#ce que font les visiteurs uniques\n",
        "\n",
        "df[df['visitorid'].isin(unique_visitor)]['event'].value_counts(normalize=True)\n",
        "\n",
        "view           0.967342\n",
        "addtocart      0.024826\n",
        "transaction    0.007831\n",
        "Name: event, dtype: float64\n"
      ],
      "metadata": {
        "id": "G5U1GVe-yydw"
      },
      "execution_count": null,
      "outputs": []
    },
    {
      "cell_type": "code",
      "source": [
        "len(df['itemid'].unique())"
      ],
      "metadata": {
        "id": "GHYN9pHly1hs"
      },
      "execution_count": null,
      "outputs": []
    }
  ]
}