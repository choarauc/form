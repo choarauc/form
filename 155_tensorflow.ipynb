{
  "nbformat": 4,
  "nbformat_minor": 0,
  "metadata": {
    "colab": {
      "name": "155_tensorflow.ipynb",
      "provenance": [],
      "collapsed_sections": [],
      "authorship_tag": "ABX9TyMnXy4KNPogLDY0zEceEA4h",
      "include_colab_link": true
    },
    "kernelspec": {
      "name": "python3",
      "display_name": "Python 3"
    },
    "language_info": {
      "name": "python"
    }
  },
  "cells": [
    {
      "cell_type": "markdown",
      "metadata": {
        "id": "view-in-github",
        "colab_type": "text"
      },
      "source": [
        "<a href=\"https://colab.research.google.com/github/choarauc/form/blob/main/155_tensorflow.ipynb\" target=\"_parent\"><img src=\"https://colab.research.google.com/assets/colab-badge.svg\" alt=\"Open In Colab\"/></a>"
      ]
    },
    {
      "cell_type": "markdown",
      "source": [
        "\n",
        "\n",
        "<hr style=\"border-width:2px;border-color:#75DFC1\">\n",
        "<h2 style = \"text-align:center\"> Tensorflow - Face Detection</h2> \n",
        "<hr style=\"border-width:2px;border-color:#75DFC1\">\n",
        "\n",
        "> Dans cet examen, nous allons tester vos connaissances sur les idées et concepts de base de Tensorflow. Suite à un exercice court sur un problème d'optimisation, nous testerons ensuite votre capacité à implémenter un réseau de neurones et une métrique pour un problème de régression.\n",
        ">\n",
        "> L'exercice est composé de plusieurs questions, **faites-les dans l'ordre et faites attention à respecter le nom des variables**. \n",
        "\n",
        "\n",
        "<hr style=\"border-width:2px;border-color:#75DFC1\">\n",
        "<h3 style = \"text-align:center\"> Exercice: Warm Up!</h3> \n",
        "<hr style=\"border-width:2px;border-color:#75DFC1\">\n",
        "\n",
        "> Soit $f(x)=\\exp{(x-2)} + 15x² + 50x + 1$.\n",
        "> \n",
        "> L'objectif de cet exercice est de trouver la valeur <b>x</b> qui minimise la fonction f.\n",
        "\n",
        "\n",
        "* Afficher la courbe de la fonction f entre [-5, 5]\n",
        "\n",
        "\n",
        "* Trouver graphiquement la valeur approximative x qui minimise la fonction f."
      ],
      "metadata": {
        "id": "rOU_LtpXeyiJ"
      }
    },
    {
      "cell_type": "code",
      "execution_count": null,
      "metadata": {
        "id": "RMKRhwqUeuoE"
      },
      "outputs": [],
      "source": [
        "import tensorflow as tf\n",
        "import pandas as pd\n",
        "import numpy as np \n",
        "import matplotlib.pyplot as plt"
      ]
    },
    {
      "cell_type": "code",
      "source": [
        ""
      ],
      "metadata": {
        "id": "7gzZ678Gjy8x"
      },
      "execution_count": null,
      "outputs": []
    },
    {
      "cell_type": "code",
      "source": [
        "x = tf.Variable (1.0)\n",
        "\n",
        "#fonction f(x)=exp(x−2)+15x²+50x+1\n",
        "\n",
        "def f(x):\n",
        "    # Création de \"two\" via un objet de type constant\n",
        "    f1 = tf.constant(1.0, dtype=tf.float32)\n",
        "    \n",
        "    # Application d'un bloc with afin de définir une sous-boîte via la fonction name_scope appliquée à 'Function'\n",
        "    with tf.name_scope('Function'):\n",
        "        f_x = tf.exp ( x - 2 ) + (15* x**2 )+ (50 * x) + f1\n",
        "\n",
        "    return f_x\n",
        "\n",
        "\n",
        "f(x).numpy()"
      ],
      "metadata": {
        "id": "4s7WGldte0xZ",
        "colab": {
          "base_uri": "https://localhost:8080/"
        },
        "outputId": "8e83f27d-cf11-43b4-c1ba-5133856c2cee"
      },
      "execution_count": null,
      "outputs": [
        {
          "output_type": "execute_result",
          "data": {
            "text/plain": [
              "66.36788"
            ]
          },
          "metadata": {},
          "execution_count": 2
        }
      ]
    },
    {
      "cell_type": "code",
      "source": [
        "liste_x = [-5.0,-4.0,-3.0,-2.0,-1.0,0.0,1.0,2.0,3.0,4.0,5.0  ]\n",
        "liste_y = []\n",
        "\n",
        "for i in liste_x : \n",
        "\n",
        "    liste_y.append (f(i).numpy())\n",
        "\n",
        "liste_y\n",
        "plt.plot (liste_x,liste_y)\n",
        "plt.show()\n",
        "\n",
        "print(\"entre -2 et -1\")"
      ],
      "metadata": {
        "id": "pJZmRx0xe3JN",
        "colab": {
          "base_uri": "https://localhost:8080/",
          "height": 282
        },
        "outputId": "c8d35350-85f0-4b59-b731-f2525a9e15cd"
      },
      "execution_count": null,
      "outputs": [
        {
          "output_type": "display_data",
          "data": {
            "text/plain": [
              "<Figure size 432x288 with 1 Axes>"
            ],
            "image/png": "[encoded data removed]"
          },
          "metadata": {
            "needs_background": "light"
          }
        },
        {
          "output_type": "stream",
          "name": "stdout",
          "text": [
            "entre -2 et -1\n"
          ]
        }
      ]
    },
    {
      "cell_type": "markdown",
      "source": [
        "Comme  ∂f(x)∂x=0∂f(x)∂x=0  n'admet pas de solution explicite, trouver la valeur numérique x qui minimise la fonction f en utilisant des descentes de gradient.\n",
        "Est-ce que la solution est cohérente avec la solution trouvée graphiquement ?"
      ],
      "metadata": {
        "id": "psufeayqosKH"
      }
    },
    {
      "cell_type": "code",
      "source": [
        "def f_p(x):\n",
        "    e0_p = tf.exp ( tf.subtract ( tf.Variable( x ) , tf.constant ( 2.0,dtype=tf.float32 ) ))       \n",
        "    e1_p = tf.Variable ( tf.constant (30.0,dtype=tf.float32) * tf.Variable(x))\n",
        "    e2_p = tf.constant (50.0,dtype=tf.float32) \n",
        "  \n",
        "    return  e0_p.numpy() + e1_p.numpy() + e2_p.numpy()"
      ],
      "metadata": {
        "id": "yBA2AzmMe35_"
      },
      "execution_count": null,
      "outputs": []
    },
    {
      "cell_type": "code",
      "source": [
        "y_p = []\n",
        "\n",
        "for i in liste_x : \n",
        "    print ('pour x = ',i)\n",
        "    print (f_p(i))\n",
        "    y_p.append (f_p(i))\n",
        "    \n",
        "plt.plot (liste_x,y_p)\n",
        "plt.axhline(0,c ='red')\n",
        "plt.axvline(-2,c ='red')\n",
        "plt.show();\n",
        "\n",
        "#oui c est coherent car = 0 entre -2 - 1"
      ],
      "metadata": {
        "colab": {
          "base_uri": "https://localhost:8080/",
          "height": 646
        },
        "id": "BHjxcU7Ro0b5",
        "outputId": "beda5ce5-7f02-4146-ff10-b49e9b5e612c"
      },
      "execution_count": null,
      "outputs": [
        {
          "output_type": "stream",
          "name": "stdout",
          "text": [
            "pour x =  -5.0\n",
            "-99.999084\n",
            "pour x =  -4.0\n",
            "-69.99752\n",
            "pour x =  -3.0\n",
            "-39.993263\n",
            "pour x =  -2.0\n",
            "-9.981686\n",
            "pour x =  -1.0\n",
            "20.049788\n",
            "pour x =  0.0\n",
            "50.135334\n",
            "pour x =  1.0\n",
            "80.36788\n",
            "pour x =  2.0\n",
            "111.0\n",
            "pour x =  3.0\n",
            "142.71829\n",
            "pour x =  4.0\n",
            "177.38905\n",
            "pour x =  5.0\n",
            "220.08554\n"
          ]
        },
        {
          "output_type": "display_data",
          "data": {
            "text/plain": [
              "<Figure size 432x288 with 1 Axes>"
            ],
            "image/png": "[encoded data removed]"
          },
          "metadata": {
            "needs_background": "light"
          }
        }
      ]
    },
    {
      "cell_type": "markdown",
      "source": [
        "Afficher la valeur du gradient en cette valeur.\n",
        "\n",
        "Est-ce que la valeur du gradient est cohérente ?"
      ],
      "metadata": {
        "id": "jaqO2T9wotja"
      }
    },
    {
      "cell_type": "code",
      "source": [
        "\n",
        "liste_x = [-5.0 , -4.0 , -3.0 , -2.0 , -1.0 , 0.0 , 1.0 , 2.0 , 3.0 , 4.0 ,5.0  ]\n",
        "\n",
        "\n",
        "for i in range (-5,6):\n",
        "    x.assign( float (i))\n",
        "    with tf.GradientTape() as tape:\n",
        "        function = f(x)\n",
        "        \n",
        "    grad = tape.gradient(function, x)\n",
        "    print ('x=',i)\n",
        "    print(grad.numpy())"
      ],
      "metadata": {
        "id": "5ZIUwQ0Ze4Bu",
        "colab": {
          "base_uri": "https://localhost:8080/"
        },
        "outputId": "39b2a17b-8f52-4d36-aed1-2fc79eaf0908"
      },
      "execution_count": null,
      "outputs": [
        {
          "output_type": "stream",
          "name": "stdout",
          "text": [
            "x= -5\n",
            "-99.999084\n",
            "x= -4\n",
            "-69.99752\n",
            "x= -3\n",
            "-39.993263\n",
            "x= -2\n",
            "-9.981686\n",
            "x= -1\n",
            "20.049786\n",
            "x= 0\n",
            "50.135334\n",
            "x= 1\n",
            "80.367874\n",
            "x= 2\n",
            "111.0\n",
            "x= 3\n",
            "142.71828\n",
            "x= 4\n",
            "177.38905\n",
            "x= 5\n",
            "220.08554\n"
          ]
        }
      ]
    },
    {
      "cell_type": "code",
      "source": [
        "f_p (-1.668)"
      ],
      "metadata": {
        "colab": {
          "base_uri": "https://localhost:8080/"
        },
        "id": "Q5iUIFEHo-WH",
        "outputId": "e329f55d-6076-4df7-db05-b43cc672a59c"
      },
      "execution_count": null,
      "outputs": [
        {
          "output_type": "execute_result",
          "data": {
            "text/plain": [
              "-0.014472961"
            ]
          },
          "metadata": {},
          "execution_count": 7
        }
      ]
    },
    {
      "cell_type": "code",
      "source": [
        "%matplotlib inline\n",
        "from sklearn.datasets import make_regression \n",
        "import matplotlib.pyplot as plt\n",
        "from sklearn.model_selection import train_test_split\n",
        "import numpy as np\n",
        "\n",
        "X, y = make_regression(n_samples=100, \n",
        "                       n_features=1,\n",
        "                       n_informative=1,\n",
        "                       noise=10,\n",
        "                       random_state=0)\n",
        "\n",
        "X = np.squeeze(X)\n",
        "\n",
        "# plot data \n",
        "plt.scatter(X, y, color='blue', alpha=0.5)\n",
        "plt.xlabel('x')\n",
        "plt.ylabel('y')\n",
        "plt.title('Our dataset')\n",
        "# display plot\n",
        "print('Shape of X :', X.shape)\n",
        "print('Shape of y :', y.shape)\n",
        "plt.show()"
      ],
      "metadata": {
        "colab": {
          "base_uri": "https://localhost:8080/",
          "height": 329
        },
        "id": "_7S9EAHipMqz",
        "outputId": "8d2b76b5-4410-4af8-99c3-b520c7500059"
      },
      "execution_count": null,
      "outputs": [
        {
          "output_type": "stream",
          "name": "stdout",
          "text": [
            "Shape of X : (100,)\n",
            "Shape of y : (100,)\n"
          ]
        },
        {
          "output_type": "display_data",
          "data": {
            "text/plain": [
              "<Figure size 432x288 with 1 Axes>"
            ],
            "image/png": "[encoded data removed]"
          },
          "metadata": {
            "needs_background": "light"
          }
        }
      ]
    },
    {
      "cell_type": "code",
      "source": [
        "#fonction a modeliser f(x)=exp(x−2)+15x²+50x+1\n",
        "\n",
        "class Polynomial(tf.keras.Model):\n",
        "    def __init__(self):\n",
        "        # Initialisation de tf.keras.Model\n",
        "        super(Polynomial, self).__init__()\n",
        "        # Instantier la variable w0.\n",
        "        self.w0 = tf.Variable(tf.random.normal([1]), name='w0')\n",
        "        \n",
        "        # Instantier la variable w1.\n",
        "        self.w1 = tf.Variable(tf.random.normal([1]), name='w1')\n",
        "        \n",
        "        # Instantier la variable w2.\n",
        "        self.w2 = tf.Variable(tf.random.normal([1]), name='w2')\n",
        "               \n",
        "        # Instantier la variable b.\n",
        "        self.b = tf.Variable(tf.random.normal([1]), name='bias')\n",
        "        \n",
        "    def __call__(self, inputs, training=True):\n",
        "        # Prédiction de notre modèle.\n",
        "        return self.b + self.w0*inputs + self.w1*inputs**2 + self.w2* tf.exp (inputs)"
      ],
      "metadata": {
        "id": "uK_ELrmapM8u"
      },
      "execution_count": null,
      "outputs": []
    },
    {
      "cell_type": "code",
      "source": [
        "import tensorflow as tf\n",
        "import numpy as np\n",
        "\n",
        "def f(x):\n",
        "    e0 = tf.exp ( tf.subtract ( tf.Variable(x) , tf.constant (2.0,dtype=tf.float32) , name='e0' ))       \n",
        "    e1 = tf.Variable ( tf.constant (15.0,dtype=tf.float32) * tf.Variable(x)**2, name='e1')\n",
        "    e2 = tf.Variable( tf.constant (50.0,dtype=tf.float32) * tf.Variable(x), name='e2')\n",
        "    b =  tf.constant (1.0,dtype=tf.float32, name='b')\n",
        "    return b + e0 + e1 + e2\n",
        "\n",
        "import matplotlib.pyplot as plt\n",
        "\n",
        "\n",
        "f([5.0,1.0] ).numpy()"
      ],
      "metadata": {
        "colab": {
          "base_uri": "https://localhost:8080/"
        },
        "id": "3YdhGDqUpOd0",
        "outputId": "d4a56dc1-f80e-417b-fd5c-8f60df98367a"
      },
      "execution_count": null,
      "outputs": [
        {
          "output_type": "execute_result",
          "data": {
            "text/plain": [
              "array([646.0856 ,  66.36788], dtype=float32)"
            ]
          },
          "metadata": {},
          "execution_count": 9
        }
      ]
    },
    {
      "cell_type": "code",
      "source": [
        "x = tf.Variable (3.0)\n",
        "\n",
        "#fonction a modeliser f(x)=exp(x−2)+15x²+50x+1\n",
        "def f(x):\n",
        "    # Création de \"two\" via un objet de type constant\n",
        "    one = tf.constant(1.0, dtype=tf.float32)\n",
        "    \n",
        "    # Application d'un bloc with afin de définir une sous-boîte via la fonction name_scope appliquée à 'Function'\n",
        "    with tf.name_scope('Function'):\n",
        "        f_x = tf.exp ( x - 2 ) + (15* x**2 )+ (50 * x) + one\n",
        "\n",
        "    return f_x\n",
        "\n",
        "\n",
        "f(x).numpy()"
      ],
      "metadata": {
        "colab": {
          "base_uri": "https://localhost:8080/"
        },
        "id": "hTCglF_HpRvm",
        "outputId": "b6dd0f30-2506-48b5-8183-34591f9bd9a8"
      },
      "execution_count": null,
      "outputs": [
        {
          "output_type": "execute_result",
          "data": {
            "text/plain": [
              "288.71826"
            ]
          },
          "metadata": {},
          "execution_count": 10
        }
      ]
    },
    {
      "cell_type": "code",
      "source": [
        "x.assign(4.0)\n",
        "# Compute f(4)\n",
        "\n",
        "\n",
        "for i in range (-5,5):\n",
        "    x.assign( float (i))\n",
        "    with tf.GradientTape() as tape:\n",
        "        function = f(x)\n",
        "        \n",
        "    grad = tape.gradient(function, x)\n",
        "    print(grad.numpy())"
      ],
      "metadata": {
        "colab": {
          "base_uri": "https://localhost:8080/"
        },
        "id": "MQSEOMlCpSxg",
        "outputId": "4825b529-04d6-4336-aad5-b24ec5cd1968"
      },
      "execution_count": null,
      "outputs": [
        {
          "output_type": "stream",
          "name": "stdout",
          "text": [
            "-99.999084\n",
            "-69.99752\n",
            "-39.993263\n",
            "-9.981686\n",
            "20.049786\n",
            "50.135334\n",
            "80.367874\n",
            "111.0\n",
            "142.71828\n",
            "177.38905\n"
          ]
        }
      ]
    },
    {
      "cell_type": "code",
      "source": [
        "#fonction a modeliser f(x)=exp(x−2)+15x²+50x+1\n",
        "\n",
        "class Polynomial(tf.keras.Model):\n",
        "    def __init__(self):\n",
        "        # Initialisation de tf.keras.Model\n",
        "        super(Polynomial, self).__init__()\n",
        "        # Instantier la variable w0.\n",
        "        self.w0 = tf.Variable( 50.0, name='w0')\n",
        "        \n",
        "        # Instantier la variable w1.\n",
        "        self.w1 = tf.Variable(15.0, name='w1')\n",
        "        \n",
        "        # Instantier la variable w2.\n",
        "        self.w2 = tf.Variable(1.0, name='w2')\n",
        "               \n",
        "        # Instantier la variable b.\n",
        "        self.b = tf.constant (1.0, name='bias')\n",
        "        \n",
        "    def __call__(self, inputs, training=True):\n",
        "        # Prédiction de notre modèle.\n",
        "        return self.b + self.w0*inputs + self.w1*inputs**2 + self.w2* tf.exp (inputs - 2.0 )"
      ],
      "metadata": {
        "id": "GeE1KKHepXr7"
      },
      "execution_count": null,
      "outputs": []
    },
    {
      "cell_type": "code",
      "source": [
        "model = Polynomial()\n",
        "# Optimizer\n",
        "optimizer = tf.keras.optimizers.Adam(1e-1)\n",
        "model.compile(optimizer=optimizer, loss='mean_squared_error')"
      ],
      "metadata": {
        "id": "ACelRGVVpYnt"
      },
      "execution_count": null,
      "outputs": []
    },
    {
      "cell_type": "code",
      "source": [
        "training_history = model.fit(x, y, batch_size=16, epochs=10)"
      ],
      "metadata": {
        "colab": {
          "base_uri": "https://localhost:8080/",
          "height": 311
        },
        "id": "NQwUCsI_paKa",
        "outputId": "128792b2-eaa5-4b3f-fb5f-d966f921f453"
      },
      "execution_count": null,
      "outputs": [
        {
          "output_type": "error",
          "ename": "ValueError",
          "evalue": "ignored",
          "traceback": [
            "\u001b[0;31m---------------------------------------------------------------------------\u001b[0m",
            "\u001b[0;31mValueError\u001b[0m                                Traceback (most recent call last)",
            "\u001b[0;32m<ipython-input-25-0fb7aa505c20>\u001b[0m in \u001b[0;36m<module>\u001b[0;34m()\u001b[0m\n\u001b[0;32m----> 1\u001b[0;31m \u001b[0mtraining_history\u001b[0m \u001b[0;34m=\u001b[0m \u001b[0mmodel\u001b[0m\u001b[0;34m.\u001b[0m\u001b[0mfit\u001b[0m\u001b[0;34m(\u001b[0m\u001b[0mx\u001b[0m\u001b[0;34m,\u001b[0m \u001b[0my\u001b[0m\u001b[0;34m,\u001b[0m \u001b[0mbatch_size\u001b[0m\u001b[0;34m=\u001b[0m\u001b[0;36m16\u001b[0m\u001b[0;34m,\u001b[0m \u001b[0mepochs\u001b[0m\u001b[0;34m=\u001b[0m\u001b[0;36m10\u001b[0m\u001b[0;34m)\u001b[0m\u001b[0;34m\u001b[0m\u001b[0;34m\u001b[0m\u001b[0m\n\u001b[0m",
            "\u001b[0;32m/usr/local/lib/python3.7/dist-packages/keras/utils/traceback_utils.py\u001b[0m in \u001b[0;36merror_handler\u001b[0;34m(*args, **kwargs)\u001b[0m\n\u001b[1;32m     65\u001b[0m     \u001b[0;32mexcept\u001b[0m \u001b[0mException\u001b[0m \u001b[0;32mas\u001b[0m \u001b[0me\u001b[0m\u001b[0;34m:\u001b[0m  \u001b[0;31m# pylint: disable=broad-except\u001b[0m\u001b[0;34m\u001b[0m\u001b[0;34m\u001b[0m\u001b[0m\n\u001b[1;32m     66\u001b[0m       \u001b[0mfiltered_tb\u001b[0m \u001b[0;34m=\u001b[0m \u001b[0m_process_traceback_frames\u001b[0m\u001b[0;34m(\u001b[0m\u001b[0me\u001b[0m\u001b[0;34m.\u001b[0m\u001b[0m__traceback__\u001b[0m\u001b[0;34m)\u001b[0m\u001b[0;34m\u001b[0m\u001b[0;34m\u001b[0m\u001b[0m\n\u001b[0;32m---> 67\u001b[0;31m       \u001b[0;32mraise\u001b[0m \u001b[0me\u001b[0m\u001b[0;34m.\u001b[0m\u001b[0mwith_traceback\u001b[0m\u001b[0;34m(\u001b[0m\u001b[0mfiltered_tb\u001b[0m\u001b[0;34m)\u001b[0m \u001b[0;32mfrom\u001b[0m \u001b[0;32mNone\u001b[0m\u001b[0;34m\u001b[0m\u001b[0;34m\u001b[0m\u001b[0m\n\u001b[0m\u001b[1;32m     68\u001b[0m     \u001b[0;32mfinally\u001b[0m\u001b[0;34m:\u001b[0m\u001b[0;34m\u001b[0m\u001b[0;34m\u001b[0m\u001b[0m\n\u001b[1;32m     69\u001b[0m       \u001b[0;32mdel\u001b[0m \u001b[0mfiltered_tb\u001b[0m\u001b[0;34m\u001b[0m\u001b[0;34m\u001b[0m\u001b[0m\n",
            "\u001b[0;32m/usr/local/lib/python3.7/dist-packages/keras/engine/data_adapter.py\u001b[0m in \u001b[0;36mselect_data_adapter\u001b[0;34m(x, y)\u001b[0m\n\u001b[1;32m    985\u001b[0m         \u001b[0;34m\"Failed to find data adapter that can handle \"\u001b[0m\u001b[0;34m\u001b[0m\u001b[0;34m\u001b[0m\u001b[0m\n\u001b[1;32m    986\u001b[0m         \"input: {}, {}\".format(\n\u001b[0;32m--> 987\u001b[0;31m             _type_name(x), _type_name(y)))\n\u001b[0m\u001b[1;32m    988\u001b[0m   \u001b[0;32melif\u001b[0m \u001b[0mlen\u001b[0m\u001b[0;34m(\u001b[0m\u001b[0madapter_cls\u001b[0m\u001b[0;34m)\u001b[0m \u001b[0;34m>\u001b[0m \u001b[0;36m1\u001b[0m\u001b[0;34m:\u001b[0m\u001b[0;34m\u001b[0m\u001b[0;34m\u001b[0m\u001b[0m\n\u001b[1;32m    989\u001b[0m     raise RuntimeError(\n",
            "\u001b[0;31mValueError\u001b[0m: Failed to find data adapter that can handle input: <class 'tensorflow.python.ops.resource_variable_ops.ResourceVariable'>, <class 'numpy.ndarray'>"
          ]
        }
      ]
    },
    {
      "cell_type": "code",
      "source": [
        "#y_pred = model([-5,2])\n",
        "\n",
        "pred = []\n",
        "for i in liste_x : \n",
        "    pred.append ( model (i) )\n",
        "    \n",
        "plt.plot (liste_x,pred)"
      ],
      "metadata": {
        "colab": {
          "base_uri": "https://localhost:8080/",
          "height": 282
        },
        "id": "vqLuNLkspfp8",
        "outputId": "66bbefce-4ccd-4e11-dede-6ee08a46be15"
      },
      "execution_count": null,
      "outputs": [
        {
          "output_type": "execute_result",
          "data": {
            "text/plain": [
              "[<matplotlib.lines.Line2D at 0x7fde10a3c3d0>]"
            ]
          },
          "metadata": {},
          "execution_count": 15
        },
        {
          "output_type": "display_data",
          "data": {
            "text/plain": [
              "<Figure size 432x288 with 1 Axes>"
            ],
            "image/png": "[encoded data removed]"
          },
          "metadata": {
            "needs_background": "light"
          }
        }
      ]
    },
    {
      "cell_type": "code",
      "source": [
        "liste_x = [-5.0,-4.0,-3.0,-2.0,-1.0,0.0,1.0,2.0,3.0,4.0,5.0  ]\n",
        "liste_y = []\n",
        "\n",
        "for i in liste_x : \n",
        "\n",
        "    liste_y.append (f(i).numpy())\n",
        "\n",
        "liste_y\n",
        "plt.plot (liste_x,liste_y)\n",
        "\n",
        "plt.plot (liste_x, pred,'r--')\n",
        "plt.show();"
      ],
      "metadata": {
        "colab": {
          "base_uri": "https://localhost:8080/",
          "height": 265
        },
        "id": "YgBYcEXbpiHY",
        "outputId": "d734d0af-3d59-493f-c0bc-6a1e1109fb4e"
      },
      "execution_count": null,
      "outputs": [
        {
          "output_type": "display_data",
          "data": {
            "text/plain": [
              "<Figure size 432x288 with 1 Axes>"
            ],
            "image/png": "[encoded data removed]"
          },
          "metadata": {
            "needs_background": "light"
          }
        }
      ]
    },
    {
      "cell_type": "code",
      "source": [
        "# Afficher l'évolution de la fonction de perte\n",
        "plt.figure(figsize=(12,4))\n",
        "plt.subplot(121)\n",
        "plt.plot(training_history.history['loss'])\n",
        "plt.xlabel('Iteration')\n",
        "plt.title('Valeur de la fonction de perte')\n",
        "\n",
        "plt.subplot(122)\n",
        "# Afficher les points (x, y).\n",
        "plt.scatter(liste_x, y, alpha=0.5, label = 'True value')\n",
        "# Afficher la prédiction de X.\n",
        "plt.plot(liste_x, pred, 'r', label = 'Prediction')\n",
        "plt.xlabel('x')\n",
        "plt.ylabel('y')\n",
        "plt.title('Prediction')\n",
        "plt.legend()\n",
        "plt.show()"
      ],
      "metadata": {
        "id": "JFdZB3XMpnJG"
      },
      "execution_count": null,
      "outputs": []
    },
    {
      "cell_type": "code",
      "source": [
        "# Afficher l'évolution de la fonction de perte\n",
        "plt.figure(figsize=(12,4))\n",
        "plt.subplot(121)\n",
        "plt.plot(training_history.history['loss'])\n",
        "plt.xlabel('Iteration')\n",
        "plt.title('Valeur de la fonction de perte')\n",
        "\n",
        "plt.subplot(122)\n",
        "# Afficher les points (x, y).\n",
        "plt.scatter(X, y, alpha=0.5, label = 'True value')\n",
        "# Afficher la prédiction de X.\n",
        "plt.plot(np.linspace(-2.5, 2.5, 100), y_pred, 'r', label = 'Prediction')\n",
        "plt.xlabel('x')\n",
        "plt.ylabel('y')\n",
        "plt.title('Prediction')\n",
        "plt.legend()\n",
        "plt.show()"
      ],
      "metadata": {
        "id": "32ooBKaCpvP7"
      },
      "execution_count": null,
      "outputs": []
    },
    {
      "cell_type": "markdown",
      "source": [
        "Problème de régression : Détection de la boîte englobant le visage"
      ],
      "metadata": {
        "id": "Lu36xICte983"
      }
    },
    {
      "cell_type": "markdown",
      "source": [
        "<hr style=\"border-width:2px;border-color:#75DFC1\">\n",
        "<h3 style = \"text-align:center\"> Problème de régression : Détection de la boîte englobant le visage</h3> \n",
        "<hr style=\"border-width:2px;border-color:#75DFC1\">\n",
        "\n",
        "> Dans cet examen, nous allons former un modèle permettant de trouver les coordonnées du rectangle englobant le visage d'une personne. Nous travaillerons sur des images provenant de vidéo YouTube stocké sous forme d'image dans le dossier **imgs\"**. Les cordonnées des points à l'extrémité du rectangle englobant le visage sont sous forme de CSV.\n",
        ">\n",
        "><img src='https://datascientest.fr/train/assets/exam_tensorflow_box.png'>\n",
        ">\n",
        "\n",
        "* Exécuter la cellule suivante pour charger les images dans la variable <b>X</b>."
      ],
      "metadata": {
        "id": "09Yp8odafDdg"
      }
    },
    {
      "cell_type": "code",
      "source": [
        "import matplotlib.pyplot as plt\n",
        "import numpy as np\n",
        "import os\n",
        "\n",
        "X = []\n",
        "for p in os.listdir('imgs'):\n",
        "    X.append(plt.imread('imgs/'+p))\n",
        "\n",
        "X = np.array(X)\n",
        "print('Shape of X :', X.shape)"
      ],
      "metadata": {
        "id": "XyQKRWo8fBEk",
        "colab": {
          "base_uri": "https://localhost:8080/",
          "height": 235
        },
        "outputId": "6b975e8f-50db-4547-a1db-9b93b1ba5de0"
      },
      "execution_count": null,
      "outputs": [
        {
          "output_type": "error",
          "ename": "FileNotFoundError",
          "evalue": "ignored",
          "traceback": [
            "\u001b[0;31m---------------------------------------------------------------------------\u001b[0m",
            "\u001b[0;31mFileNotFoundError\u001b[0m                         Traceback (most recent call last)",
            "\u001b[0;32m<ipython-input-26-dc6a5f490c0c>\u001b[0m in \u001b[0;36m<module>\u001b[0;34m()\u001b[0m\n\u001b[1;32m      5\u001b[0m \u001b[0;34m\u001b[0m\u001b[0m\n\u001b[1;32m      6\u001b[0m \u001b[0mX\u001b[0m \u001b[0;34m=\u001b[0m \u001b[0;34m[\u001b[0m\u001b[0;34m]\u001b[0m\u001b[0;34m\u001b[0m\u001b[0;34m\u001b[0m\u001b[0m\n\u001b[0;32m----> 7\u001b[0;31m \u001b[0;32mfor\u001b[0m \u001b[0mp\u001b[0m \u001b[0;32min\u001b[0m \u001b[0mos\u001b[0m\u001b[0;34m.\u001b[0m\u001b[0mlistdir\u001b[0m\u001b[0;34m(\u001b[0m\u001b[0;34m'imgs'\u001b[0m\u001b[0;34m)\u001b[0m\u001b[0;34m:\u001b[0m\u001b[0;34m\u001b[0m\u001b[0;34m\u001b[0m\u001b[0m\n\u001b[0m\u001b[1;32m      8\u001b[0m     \u001b[0mX\u001b[0m\u001b[0;34m.\u001b[0m\u001b[0mappend\u001b[0m\u001b[0;34m(\u001b[0m\u001b[0mplt\u001b[0m\u001b[0;34m.\u001b[0m\u001b[0mimread\u001b[0m\u001b[0;34m(\u001b[0m\u001b[0;34m'imgs/'\u001b[0m\u001b[0;34m+\u001b[0m\u001b[0mp\u001b[0m\u001b[0;34m)\u001b[0m\u001b[0;34m)\u001b[0m\u001b[0;34m\u001b[0m\u001b[0;34m\u001b[0m\u001b[0m\n\u001b[1;32m      9\u001b[0m \u001b[0;34m\u001b[0m\u001b[0m\n",
            "\u001b[0;31mFileNotFoundError\u001b[0m: [Errno 2] No such file or directory: 'imgs'"
          ]
        }
      ]
    },
    {
      "cell_type": "markdown",
      "source": [
        "Charger le fichier \"face_boxe.csv\" sous le nom df."
      ],
      "metadata": {
        "id": "2iuR7S4gfJj6"
      }
    },
    {
      "cell_type": "code",
      "source": [
        "import pandas as pd\n",
        "\n",
        "df = pd.read_csv ('face_boxe.csv')\n",
        "\n",
        "df.head()"
      ],
      "metadata": {
        "id": "EWS7Z2c3fHBw"
      },
      "execution_count": null,
      "outputs": []
    },
    {
      "cell_type": "markdown",
      "source": [
        "Exécuter la cellule suivante pour afficher des images du jeu de données ainsi que le rectangle englobant le visage correspondant."
      ],
      "metadata": {
        "id": "RP4xTAscfLbA"
      }
    },
    {
      "cell_type": "code",
      "source": [
        "import matplotlib.pyplot as plt\n",
        "plt.figure(figsize=(12,5))\n",
        "j=1\n",
        "for i in np.random.randint(0, len(df), size=[8]):\n",
        "    plt.subplot(2,4,j)\n",
        "    plt.axis('off')\n",
        "    img = X[i]\n",
        "    plt.imshow(img)\n",
        "    x_min = df.xmin[i]\n",
        "    x_max = df.xmax[i]\n",
        "    y_min = df.ymin[i]\n",
        "    y_max = df.ymax[i]\n",
        "    plt.plot([x_min, x_max, x_max, x_min, x_min], [y_min, y_min, y_max, y_max, y_min], '-b')\n",
        "    j+=1"
      ],
      "metadata": {
        "id": "9dLAk_tXfL78"
      },
      "execution_count": null,
      "outputs": []
    },
    {
      "cell_type": "markdown",
      "source": [
        "Pour localiser une unique boîte encadrant la voiture dans l'image, nous pouvons se ramener à un problème de régression sur 4 variables cibles suivante.\n",
        "\n",
        "\n",
        "\n",
        "xmoyxmoy  : position horizontale (normalisé) du milieu de la boîte.\n",
        "ymoyymoy  : position verticale (normalisé) du milieu de la boîte.\n",
        "w : largeur (normalisé) de la boîte.\n",
        "h : hauteur (normalisé) de la boîte.\n",
        "Les valeurs de  xmoyxmoy ,  ymoyymoy , w et h doivent être comprises entre 0 et 1. Il est donc nécessaire de diviser les valeurs de  xmoyxmoy ,  ymoyymoy , w et h par 256.\n",
        "\n",
        "Mettre en forme les données."
      ],
      "metadata": {
        "id": "s9GQArCEfPFO"
      }
    },
    {
      "cell_type": "code",
      "source": [
        "df = df/256\n",
        "df"
      ],
      "metadata": {
        "id": "beV_By2BfQrT"
      },
      "execution_count": null,
      "outputs": []
    },
    {
      "cell_type": "markdown",
      "source": [
        "Séparer le jeu de données en un ensemble d'entraînement et en un ensemble de validation."
      ],
      "metadata": {
        "id": "IcDP0ImLfSGk"
      }
    },
    {
      "cell_type": "markdown",
      "source": [
        "## Modèle :\n",
        "\n",
        "> Vous allez maintenant définir un modèle convolutionnel permettant de prédire les valeurs <b>$x_{moy}$</b>, <b>$y_{moy}$</b>, <b>w</b> et <b>h</b> en fonction des images en entrée.\n",
        ">\n",
        "><img src=https://datascientest.fr/train/assets/masterclass_deeplearning_regressionmodel.png style='width:500px'>\n",
        "\n",
        "\n",
        "* En vous **inspirant** de l'image précédente, définir un modèle convolutionnel permettant d'estimer les paramètres <b>X</b>, <b>Y</b>, <b>w</b> et <b>h</b>."
      ],
      "metadata": {
        "id": "oA990axRfVne"
      }
    },
    {
      "cell_type": "code",
      "source": [
        "from tensorflow.keras.layers import Conv2D, MaxPooling2D, Flatten, Dropout, Dense\n",
        "\n",
        "lenet = tf.keras.Sequential()\n",
        "\n",
        "lenet.add(Conv2D(filters = 30,                  \n",
        "                kernel_size = (5, 5),            \n",
        "                input_shape = (28, 28, 1),      \n",
        "                activation = 'relu'))       \n",
        "\n",
        "lenet.add(MaxPooling2D(pool_size = (2, 2)))\n",
        "\n",
        "lenet.add(Conv2D(filters = 16,                    \n",
        "                kernel_size = (3, 3),\n",
        "                activation = 'relu'))\n",
        "\n",
        "lenet.add(MaxPooling2D(pool_size = (2, 2)))\n",
        "\n",
        "lenet.add(Flatten())\n",
        "\n",
        "lenet.add(Dropout(rate = 0.2))\n",
        "\n",
        "lenet.add(Dense(units = 128, activation = 'relu'))\n",
        "\n",
        "lenet.add(Dense(units = 4 , activation = 'softmax'))\n",
        "\n",
        "lenet.summary()"
      ],
      "metadata": {
        "id": "TKh5sn2QfXok"
      },
      "execution_count": null,
      "outputs": []
    },
    {
      "cell_type": "markdown",
      "source": [
        "> Nous allons utiliser la fonction de coût suivante :\n",
        ">\n",
        ">$$\\mathcal{Loss}= (x_{pred}-x_{true})^2+(y_{pred}-y_{true})^2 + (\\sqrt{|w_{pred}|}-\\sqrt{w_{true}}\\ )^2 + (\\sqrt{|h_{pred}|}-\\sqrt{h_{true}}\\ )^2  $$\n",
        "\n",
        "<div class=\"alert alert-info\">\n",
        "<i class=\"fa fa-info-circle\"></i> &emsp; \n",
        "Astuce : Vous pouvez découper un tensor <b>X</b> en prenant toutes les lignes (:) mais en gardant qu'une colonne spécifique (i) en effectuant l'opéraction X[:, i].\n",
        "</div>\n",
        "\n",
        "* Définir une fonction retournant le résultat de la fonction de coût ci-dessus."
      ],
      "metadata": {
        "id": "PGIPoZvAfcih"
      }
    },
    {
      "cell_type": "code",
      "source": [
        ""
      ],
      "metadata": {
        "id": "qaGQY6K_fdZm"
      },
      "execution_count": null,
      "outputs": []
    },
    {
      "cell_type": "markdown",
      "source": [
        "Entraîner votre modèle sur un nombre d'itérations faibles (moins de 5 minutes d'entraînement)."
      ],
      "metadata": {
        "id": "_7WBdyf8ffTy"
      }
    },
    {
      "cell_type": "code",
      "source": [
        ""
      ],
      "metadata": {
        "id": "zqW133zZfjPf"
      },
      "execution_count": null,
      "outputs": []
    },
    {
      "cell_type": "markdown",
      "source": [
        "Afficher pour une des images de l'ensemble de validation le rectangle estimé par notre modèle à l'aide de la fonction show_img."
      ],
      "metadata": {
        "id": "zhAREnXHfhyU"
      }
    },
    {
      "cell_type": "code",
      "source": [
        "import numpy as np\n",
        "def show_img(img, x0, y0, w0, h0):\n",
        "    plt.imshow(img)\n",
        "    x0 = np.abs(x0)\n",
        "    y0 = np.abs(y0)\n",
        "    w0 = np.abs(w0)\n",
        "    h0 = np.abs(h0)\n",
        "    x1= (x0-w0/2)*256\n",
        "    x2= (x0+w0/2)*256\n",
        "    y1= (y0-h0/2)*256\n",
        "    y2= (y0+h0/2)*256\n",
        "    plt.plot([x1,x2,x2,x1,x1], [y1,y1,y2,y2,y1], \"r\")\n",
        "## Insérez votre code ici\n"
      ],
      "metadata": {
        "id": "PZ32cSNafkMv"
      },
      "execution_count": null,
      "outputs": []
    },
    {
      "cell_type": "markdown",
      "source": [
        "Nous vous rappelons que nous avons entraîné notre modèle que sur peu d'itération ce qui explique de mauvais résultat.\n",
        "\n",
        "Exécuter la cellule suivante pour charger un modèle entraîné sur ce jeu de données plus de 5 heures."
      ],
      "metadata": {
        "id": "BvGQC7Ixfm73"
      }
    },
    {
      "cell_type": "code",
      "source": [
        "from tensorflow.keras.models import model_from_json\n",
        "# load json and create model\n",
        "json_file = open('model.json', 'r')\n",
        "model = json_file.read()\n",
        "json_file.close()\n",
        "# Load model\n",
        "model = model_from_json(model)\n",
        "# Load weights\n",
        "model.load_weights('./weights/face_detection')"
      ],
      "metadata": {
        "id": "KOCsenTCfnnY"
      },
      "execution_count": null,
      "outputs": []
    },
    {
      "cell_type": "markdown",
      "source": [
        "Afficher pour une des images de l'ensemble de validation le rectangle estimé par notre modèle à l'aide de la fonction show_img."
      ],
      "metadata": {
        "id": "d2HWMxsdfqGP"
      }
    },
    {
      "cell_type": "code",
      "source": [
        ""
      ],
      "metadata": {
        "id": "HwAvS8w6fqkL"
      },
      "execution_count": null,
      "outputs": []
    },
    {
      "cell_type": "markdown",
      "source": [
        "Avec la fonction url_to_image, vous pouvez charger une image à partir d'un lien URL.\n",
        "\n",
        "Prédire le rectangle encadrant le visage avec des images sur internet."
      ],
      "metadata": {
        "id": "WwVKzrwifrnP"
      }
    },
    {
      "cell_type": "code",
      "source": [
        "import urllib\n",
        "import cv2\n",
        "def url_to_image(url):\n",
        "    resp = urllib.request.urlopen(url) \n",
        "    img = np.asarray(bytearray(resp.read()), dtype=\"uint8\")\n",
        "    img = cv2.imdecode(img, -1)\n",
        "    img = cv2.resize(img[:,:,[2,1,0]], (256, 256))\n",
        "    return img\n",
        "\n",
        "## Example :\n",
        "img = url_to_image(\"https://starbyface.com/ImgBase/testPhoto/test1.jpg\")\n",
        "\n",
        "## Insérez votre code ici"
      ],
      "metadata": {
        "id": "ATGDGmRhftld"
      },
      "execution_count": null,
      "outputs": []
    },
    {
      "cell_type": "markdown",
      "source": [
        "## Évaluation : Intersection over Union (partie optionnelle)\n",
        "\n",
        "> **Intersection over Union** (IoU) est la métrique d'évaluation la plus populaire utilisée dans les tests de référence de détection d'objets. Cependant, il existe un écart entre les optimisations couramment utilisées pour régresser les paramètres d'une boîte englobante et la maximisation de cette métrique.\n",
        ">\n",
        "> <img src='https://datascientest.fr/train/assets/exam_tensorflow_over_union.png' style='width:500px'>\n",
        ">\n",
        "> Nous allons nous intéresser dans cette partie à évaluer notre modèle à l'aide de cette métrique.\n",
        ">\n",
        "><img src='https://datascientest.fr/train/assets/exam_tensorflow_iou_ab.jpg' style='width:700px'>\n",
        ">\n",
        ">Avec :\n",
        ">\n",
        ">$$ x_A = \\max(x_{11}, x_{21}) $$\n",
        ">$$ y_A = \\max(y_{11}, y_{21}) $$\n",
        ">$$ x_B = \\min(x_{12}, x_{22}) $$\n",
        ">$$ y_B = \\min(y_{12}, y_{22}) $$\n",
        ">\n",
        ">L'air de la zone d'intersection s'écrit :\n",
        ">\n",
        ">$$\\mathcal{A}_{intersection} = \\max(x_B-x_A, 0) \\cdot \\max(y_B - y_A, 0) $$\n",
        ">\n",
        ">L'air de la zone d'union s'écrit :\n",
        ">\n",
        ">$$\\mathcal{A}_{union} = \\mathcal{A}_1 + \\mathcal{A}_2 - \\mathcal{A}_{intersection} $$\n",
        ">\n",
        ">C'est-à-dire :\n",
        ">\n",
        ">$$\\mathcal{A}_{union} = (x_{12}-x_{11})\\cdot(y_{12}-y_{11}) + (x_{22}-x_{21})\\cdot(y_{22}-y_{21}) - \\mathcal{A}_{intersection}$$\n",
        ">\n",
        "> La métrique \"intersection over Union\" s'écrit donc :\n",
        ">\n",
        ">$$ IoU = \\frac{\\mathcal{A}_{intersection}}{\\mathcal{A}_{union}}$$\n",
        "\n",
        "\n",
        "* Définir dans une fonction `iou` avec comme arguments **y_true** (de taille [n_img, 4]) et **y_pred** (de taille [n_img, 4]):\n",
        "    * Définir <b>x1</b>, <b>y1</b>, <b>w1</b> et <b>h1</b> les coordonnées de **y_true**.\n",
        "    * Définir <b>x2</b>, <b>y2</b>, <b>w2</b> et <b>h2</b> les coordonnées de **y_pred**. Appliquer la fonction valeur absolue à ses paramètres (lors du training, le modèle ne distingue pas les valeurs négatives des valeurs positives).\n",
        "    * Calculer <b>xA</b>, <b>yA</b>, <b>xB</b> et <b>yB</b> à l'aide de la fonction `maximum` de **tensorflow**.\n",
        "    * Calculer l'air de la zone d'intersection.\n",
        "    * Calculer l'air de la zone d'union.\n",
        "    * Retourner la valeur IoU."
      ],
      "metadata": {
        "id": "446oUgE1fxGo"
      }
    },
    {
      "cell_type": "code",
      "source": [
        "import tensorflow as tf\n",
        "\n",
        "def IoU(y_pred, y_true):\n",
        "    I = tf.reduce_sum(y_pred * y_true, axis=(1, 2))\n",
        "    U = tf.reduce_sum(y_pred + y_true, axis=(1, 2)) - I\n",
        "    return tf.reduce_mean(I / U)"
      ],
      "metadata": {
        "id": "QcPAlcT9fxqi"
      },
      "execution_count": null,
      "outputs": []
    },
    {
      "cell_type": "markdown",
      "source": [
        "Calculer la métrique IoU de notre modèle sur l'échantillon de validation."
      ],
      "metadata": {
        "id": "YAs_ZyHSfzzv"
      }
    },
    {
      "cell_type": "code",
      "source": [
        ""
      ],
      "metadata": {
        "id": "0Jd3cuLWf0hD"
      },
      "execution_count": null,
      "outputs": []
    }
  ]
}