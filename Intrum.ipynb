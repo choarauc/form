{
  "nbformat": 4,
  "nbformat_minor": 0,
  "metadata": {
    "colab": {
      "name": "Intrum.ipynb",
      "provenance": [],
      "collapsed_sections": [],
      "toc_visible": true,
      "authorship_tag": "ABX9TyOYUQoJI8Ecit44nTvc2LBf",
      "include_colab_link": true
    },
    "kernelspec": {
      "name": "python3",
      "display_name": "Python 3"
    },
    "language_info": {
      "name": "python"
    }
  },
  "cells": [
    {
      "cell_type": "markdown",
      "metadata": {
        "id": "view-in-github",
        "colab_type": "text"
      },
      "source": [
        "<a href=\"https://colab.research.google.com/github/choarauc/form/blob/main/Intrum.ipynb\" target=\"_parent\"><img src=\"https://colab.research.google.com/assets/colab-badge.svg\" alt=\"Open In Colab\"/></a>"
      ]
    },
    {
      "cell_type": "markdown",
      "source": [
        "- This is a small sample of data (both in terms of observations and available variables) that is actually used for training our models in Intrum. All the IDs are replaced, and all datapoints have a slight noise added to them to avoid any chance of identification. Data is stored as a small SQLite database stored in attached `dataset.db` file. There are two tables - `dataset` and `metadata`. The data sample spans 1 year and 30k observations.\n",
        "\n"
      ],
      "metadata": {
        "id": "iJ0OUAfMP1X7"
      }
    },
    {
      "cell_type": "markdown",
      "source": [
        "<hr style=\"border-width:2px;border-color:#75DFC1\">\n",
        "<center><h1>INTRUM</h1></center>\n",
        "<center><h2>predict the probability of the payment within 90 days! </h2></center>\n",
        "<hr style=\"border-width:2px;border-color:#75DFC1\">\n",
        "\n",
        "\n",
        " - We will work with the **Intrum** database. This database initially contains ;\n",
        "\n",
        "       a8404 RatioOfCustomersAtAddressWithSuccessfullyClose\n",
        "       ap090 TargetAmount90Days\n",
        "       c0001 Variable OriginalCapitalOfCaseInvoices\n",
        "       c0015 Variable AmountOfCase\n",
        "       c0019 Variable AgeOfDebt\n",
        "       c0031 Variable NumberOfTelephonesCI\n",
        "       c0039 Variable de code d'industrie\n",
        "       c0044 Variable NomClient\n",
        "       c9008 Variable CustomerAge\n",
        "       ct090 Target90Days target\n",
        "       b0007 AmountOfCustomerPaymentsOnAllCasesBlevel\n",
        "       d0009 Variable AmountOfCustomerOpenCases \n",
        "       d0012 Variable LastOriginalClosingCodeOfCustomer\n",
        "       d0027 NumberOfCustomerIncomingCallDatesTee variable\n",
        "       d1205 Variable NumberOfSuccessfullyClosedCasesInLast24Months\n",
        "       d2112 Variable NumberOfCustomerPaymentsInLast12Months\n",
        "       d0031 NumberOfUnsuccessfullyClosedCustomerCasesLast3\n",
        "\n",
        "\n",
        "> The intended target for prediction is `ct090`, \n",
        "> \n",
        "> `case_id` is the unique identifier, \n",
        "> \n",
        ">  `keydate` is the point in time when some event has happened in the lifecycle of a case, and also a date relative to which all of the backward looking variables and forward looking targets are calculated.\n",
        "> \n",
        ">In this case, it's a general purpose propensity to pay model, which means that it is a freshly registered case, where all the relevant data has been gathered and verified.\n",
        "> \n",
        "> `keydate` is set a few days after registration, and target `ct090` is checking for outcome in 90 days (`ap090` is a similar regression target), while all the rest of the data is only looking backwards!\n",
        "   \n",
        "\n"
      ],
      "metadata": {
        "id": "wf2gSCMJJSIx"
      }
    },
    {
      "cell_type": "markdown",
      "source": [
        "> La estructura es la siguiente : \n",
        ">> I - [Procesamiento de conjuntos de datos](#preparation)\n",
        ">>> A - [Data Cleaning & Preprocessing](#affichage)\n",
        ">>>\n",
        ">>>\n",
        ">>> B - [Visualización de datos](#generateurs)\n",
        ">>\n",
        ">>\n",
        ">> II - [1ra Iteración](#classif)\n",
        ">>> A - [ML - clasificación  ](#affichage2)\n",
        ">>>\n",
        ">>>\n",
        ">>> B - [modelado final](#generateurs2)\n",
        ">>\n",
        ">>\n",
        ">> III - [Interpretación](#test)"
      ],
      "metadata": {
        "id": "5FA6dJa9SGjM"
      }
    },
    {
      "cell_type": "code",
      "execution_count": null,
      "metadata": {
        "colab": {
          "resources": {
            "http://localhost:8080/nbextensions/google.colab/files.js": {
              "data": "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",
              "ok": true,
              "headers": [
                [
                  "content-type",
                  "application/javascript"
                ]
              ],
              "status": 200,
              "status_text": ""
            }
          },
          "base_uri": "https://localhost:8080/",
          "height": 72
        },
        "id": "adyg9-QQ60MU",
        "outputId": "47476843-fa2c-493e-f6d4-14d6c7d8fbde"
      },
      "outputs": [
        {
          "output_type": "display_data",
          "data": {
            "text/plain": [
              "<IPython.core.display.HTML object>"
            ],
            "text/html": [
              "\n",
              "     <input type=\"file\" id=\"files-83398959-66c8-47da-88a5-3f6435552deb\" name=\"files[]\" multiple disabled\n",
              "        style=\"border:none\" />\n",
              "     <output id=\"result-83398959-66c8-47da-88a5-3f6435552deb\">\n",
              "      Upload widget is only available when the cell has been executed in the\n",
              "      current browser session. Please rerun this cell to enable.\n",
              "      </output>\n",
              "      <script src=\"/nbextensions/google.colab/files.js\"></script> "
            ]
          },
          "metadata": {}
        },
        {
          "output_type": "stream",
          "name": "stdout",
          "text": [
            "Saving dataset.csv to dataset.csv\n"
          ]
        }
      ],
      "source": [
        "from google.colab import files \n",
        "uploaded = files.upload()"
      ]
    },
    {
      "cell_type": "markdown",
      "source": [
        "# Librería"
      ],
      "metadata": {
        "id": "6JExhkeXfGmH"
      }
    },
    {
      "cell_type": "code",
      "source": [
        "#@title\n",
        "import pandas as pd\n",
        "import numpy as np\n",
        "import matplotlib.pyplot as plt\n",
        "import seaborn as sns\n",
        "from bokeh.plotting import figure\n",
        "from bokeh.io import  push_notebook,output_notebook, show\n",
        "from bokeh.models.widgets import Panel, Tabs\n",
        "from bokeh.models import ColumnDataSource\n",
        "from bokeh.models.tools import HoverTool\n",
        "import plotly.express as px\n",
        "import statsmodels.api\n",
        "output_notebook()\n",
        "\n",
        "import statsmodels.api\n",
        "from sklearn.preprocessing import MinMaxScaler\n",
        "from sklearn.preprocessing import StandardScaler\n",
        "\n",
        "from sklearn.model_selection import train_test_split, KFold, cross_validate, GridSearchCV\n",
        "from sklearn import svm\n",
        "from sklearn.neighbors import KNeighborsClassifier\n",
        "from sklearn.ensemble import RandomForestClassifier, VotingClassifier, StackingClassifier, BaggingClassifier\n",
        "from xgboost import XGBClassifier\n",
        "\n",
        "from sklearn import metrics\n",
        "from imblearn.metrics import classification_report_imbalanced\n",
        "\n",
        "\n",
        "from sklearn.preprocessing import LabelEncoder\n",
        "from imblearn.over_sampling import RandomOverSampler, SMOTE\n",
        "from imblearn.under_sampling import RandomUnderSampler,  ClusterCentroids\n",
        "from imblearn.metrics import classification_report_imbalanced, geometric_mean_score\n",
        "from sklearn.metrics import f1_score\n",
        "from sklearn.svm import SVC\n",
        "from sklearn.decomposition import PCA\n",
        "\n",
        "from imblearn.ensemble import BalancedRandomForestClassifier\n",
        "\n",
        "from sklearn.linear_model import RidgeCV, LassoCV, Ridge, Lasso"
      ],
      "metadata": {
        "id": "kfZbKJo07LB8",
        "colab": {
          "base_uri": "https://localhost:8080/"
        },
        "outputId": "707d6392-bac3-4ded-f518-2797a72a1aa1"
      },
      "execution_count": null,
      "outputs": [
        {
          "output_type": "stream",
          "name": "stderr",
          "text": [
            "/usr/local/lib/python3.7/dist-packages/statsmodels/tools/_testing.py:19: FutureWarning: pandas.util.testing is deprecated. Use the functions in the public API at pandas.testing instead.\n",
            "  import pandas.util.testing as tm\n"
          ]
        }
      ]
    },
    {
      "cell_type": "code",
      "source": [
        "#@title\n",
        "df = pd.read_csv('dataset.csv', delimiter = ',', parse_dates=['keydate'],dayfirst=True)\n",
        "df.info()\n",
        "\n",
        "print(\"El dataframe contiene\", df.shape[0], 'lineas y', df.shape[1], 'columnas.')\n",
        "print(df.duplicated().sum()) # pas de doublons"
      ],
      "metadata": {
        "colab": {
          "base_uri": "https://localhost:8080/"
        },
        "id": "S1wK65qw7N7H",
        "outputId": "9cafca95-b07e-48b6-d665-4f6cfdf269f1"
      },
      "execution_count": null,
      "outputs": [
        {
          "output_type": "stream",
          "name": "stdout",
          "text": [
            "<class 'pandas.core.frame.DataFrame'>\n",
            "RangeIndex: 30000 entries, 0 to 29999\n",
            "Data columns (total 19 columns):\n",
            " #   Column   Non-Null Count  Dtype         \n",
            "---  ------   --------------  -----         \n",
            " 0   case_id  30000 non-null  int64         \n",
            " 1   keydate  30000 non-null  datetime64[ns]\n",
            " 2   ct090    30000 non-null  float64       \n",
            " 3   ap090    30000 non-null  float64       \n",
            " 4   c0001    29975 non-null  float64       \n",
            " 5   c0039    30000 non-null  object        \n",
            " 6   c0044    30000 non-null  int64         \n",
            " 7   d0031    17371 non-null  float64       \n",
            " 8   b0007    13074 non-null  float64       \n",
            " 9   d0009    30000 non-null  float64       \n",
            " 10  c0031    30000 non-null  float64       \n",
            " 11  a8404    19599 non-null  float64       \n",
            " 12  c0019    30000 non-null  float64       \n",
            " 13  d0027    30000 non-null  float64       \n",
            " 14  c9008    27016 non-null  float64       \n",
            " 15  d2112    13048 non-null  float64       \n",
            " 16  d0012    30000 non-null  int64         \n",
            " 17  d1205    8762 non-null   float64       \n",
            " 18  c0015    30000 non-null  float64       \n",
            "dtypes: datetime64[ns](1), float64(14), int64(3), object(1)\n",
            "memory usage: 4.3+ MB\n",
            "El dataframe contiene 30000 lineas y 19 columnas.\n",
            "0\n"
          ]
        }
      ]
    },
    {
      "cell_type": "markdown",
      "source": [
        "# Procesamiento del dataset "
      ],
      "metadata": {
        "id": "RYIRuMNIvlR3"
      }
    },
    {
      "cell_type": "markdown",
      "source": [
        "## Data Cleaning & Preprocessing "
      ],
      "metadata": {
        "id": "PV4JLgftvq-w"
      }
    },
    {
      "cell_type": "code",
      "source": [
        "dict = {\n",
        "    'case_id' : 'case_id',\n",
        "    'keydate  ' : 'keydate',\n",
        "    'ct090' : 'Target90Days', #Target, case\n",
        "    'ap090' : 'TargetAmount90Days', #Target, case\n",
        "    'c0001' : 'OriginalCapitalOfCaseInvoices', #Variable, case \n",
        "    'c0039' : 'IndustryCode', #Variable, case\n",
        "    'c0044' : 'ClientName', #Variable, case\n",
        "    'd0031' : 'NumberOfUnsuccessfullyClosedCustomerCasesLast36Months', # \n",
        "    'b0007' : 'AmountOfCustomerPaymentsOnAllCasesBlevel' , #Variable, debtor \n",
        "    'd0009' : 'AmountOfCustomerOpenCases', #Variable, debtor_oc\n",
        "    'c0031' : 'NumberOfTelephonesCI', #Variable, case\n",
        "    'a8404' : 'RatioOfCustomersAtAddressWithSuccessfullyClosedCasesLast36Months', #Variable, address \n",
        "    'c0019' : 'AgeOfDebt', #Variable, case\n",
        "    'd0027' : 'NumberOfCustomerIncomingCallDatesTee', #Variable, debtor_oc\n",
        "    'c9008' : 'CustomerAge', #Variable, case\n",
        "    'd2112' : 'NumberOfCustomerPaymentsInLast12Months', #Variable, debtor_oc\n",
        "    'd0012' : 'LastOriginalClosingCodeOfCustomer', #Variable, debtor_oc\n",
        "    'd1205' : 'NumberOfSuccessfullyClosedCasesInLast24Months', #Variable, debtor_oc\n",
        "    'c0015' : 'AmountOfCase' #Variable, case\n",
        "}\n",
        "\n",
        "df = df.rename(dict, axis =1)\n",
        "df.head(5)"
      ],
      "metadata": {
        "colab": {
          "base_uri": "https://localhost:8080/",
          "height": 357
        },
        "id": "rreeP5Z1Ls6Z",
        "outputId": "517ec374-0109-4f56-f9e5-bc4fa3f57772"
      },
      "execution_count": null,
      "outputs": [
        {
          "output_type": "execute_result",
          "data": {
            "text/plain": [
              "   case_id    keydate  Target90Days  TargetAmount90Days  \\\n",
              "0        1 2017-08-12           0.0                 0.0   \n",
              "1        2 2017-02-03           0.0                 0.0   \n",
              "2        3 2017-02-17           0.0                 0.0   \n",
              "3        4 2017-09-18           0.0                 0.0   \n",
              "4        5 2017-07-22           0.0                 0.0   \n",
              "\n",
              "   OriginalCapitalOfCaseInvoices IndustryCode  ClientName  \\\n",
              "0                         221.68        K6622           1   \n",
              "1                         151.36        K6512           2   \n",
              "2                          48.84        K6512           3   \n",
              "3                         413.15        K6622           4   \n",
              "4                         125.83        K6512           5   \n",
              "\n",
              "   NumberOfUnsuccessfullyClosedCustomerCasesLast36Months  \\\n",
              "0                                                2.0       \n",
              "1                                                NaN       \n",
              "2                                                1.0       \n",
              "3                                                NaN       \n",
              "4                                                2.0       \n",
              "\n",
              "   AmountOfCustomerPaymentsOnAllCasesBlevel  AmountOfCustomerOpenCases  \\\n",
              "0                                      0.00                     238.38   \n",
              "1                                    210.53                       0.00   \n",
              "2                                       NaN                       0.00   \n",
              "3                                       NaN                      54.14   \n",
              "4                                     20.00                      83.00   \n",
              "\n",
              "   NumberOfTelephonesCI  \\\n",
              "0                   2.0   \n",
              "1                   5.0   \n",
              "2                   2.0   \n",
              "3                   3.0   \n",
              "4                   6.0   \n",
              "\n",
              "   RatioOfCustomersAtAddressWithSuccessfullyClosedCasesLast36Months  \\\n",
              "0                                                NaN                  \n",
              "1                                                NaN                  \n",
              "2                                                0.0                  \n",
              "3                                                1.0                  \n",
              "4                                                NaN                  \n",
              "\n",
              "   AgeOfDebt  NumberOfCustomerIncomingCallDatesTee  CustomerAge  \\\n",
              "0       98.0                                   0.0         49.0   \n",
              "1      109.0                                   2.0         51.0   \n",
              "2      748.0                                   0.0         48.0   \n",
              "3        8.0                                   0.0         27.0   \n",
              "4      324.0                                   0.0         40.0   \n",
              "\n",
              "   NumberOfCustomerPaymentsInLast12Months  LastOriginalClosingCodeOfCustomer  \\\n",
              "0                                     0.0                                  1   \n",
              "1                                     0.0                                  2   \n",
              "2                                     NaN                                  3   \n",
              "3                                     NaN                                  4   \n",
              "4                                     0.0                                  1   \n",
              "\n",
              "   NumberOfSuccessfullyClosedCasesInLast24Months  AmountOfCase  \n",
              "0                                            NaN        222.69  \n",
              "1                                            1.0        212.72  \n",
              "2                                            NaN         56.84  \n",
              "3                                            NaN        463.15  \n",
              "4                                            NaN        146.09  "
            ],
            "text/html": [
              "\n",
              "  <div id=\"df-43a67833-8ee0-4008-8fb2-6294a35e6a55\">\n",
              "    <div class=\"colab-df-container\">\n",
              "      <div>\n",
              "<style scoped>\n",
              "    .dataframe tbody tr th:only-of-type {\n",
              "        vertical-align: middle;\n",
              "    }\n",
              "\n",
              "    .dataframe tbody tr th {\n",
              "        vertical-align: top;\n",
              "    }\n",
              "\n",
              "    .dataframe thead th {\n",
              "        text-align: right;\n",
              "    }\n",
              "</style>\n",
              "<table border=\"1\" class=\"dataframe\">\n",
              "  <thead>\n",
              "    <tr style=\"text-align: right;\">\n",
              "      <th></th>\n",
              "      <th>case_id</th>\n",
              "      <th>keydate</th>\n",
              "      <th>Target90Days</th>\n",
              "      <th>TargetAmount90Days</th>\n",
              "      <th>OriginalCapitalOfCaseInvoices</th>\n",
              "      <th>IndustryCode</th>\n",
              "      <th>ClientName</th>\n",
              "      <th>NumberOfUnsuccessfullyClosedCustomerCasesLast36Months</th>\n",
              "      <th>AmountOfCustomerPaymentsOnAllCasesBlevel</th>\n",
              "      <th>AmountOfCustomerOpenCases</th>\n",
              "      <th>NumberOfTelephonesCI</th>\n",
              "      <th>RatioOfCustomersAtAddressWithSuccessfullyClosedCasesLast36Months</th>\n",
              "      <th>AgeOfDebt</th>\n",
              "      <th>NumberOfCustomerIncomingCallDatesTee</th>\n",
              "      <th>CustomerAge</th>\n",
              "      <th>NumberOfCustomerPaymentsInLast12Months</th>\n",
              "      <th>LastOriginalClosingCodeOfCustomer</th>\n",
              "      <th>NumberOfSuccessfullyClosedCasesInLast24Months</th>\n",
              "      <th>AmountOfCase</th>\n",
              "    </tr>\n",
              "  </thead>\n",
              "  <tbody>\n",
              "    <tr>\n",
              "      <th>0</th>\n",
              "      <td>1</td>\n",
              "      <td>2017-08-12</td>\n",
              "      <td>0.0</td>\n",
              "      <td>0.0</td>\n",
              "      <td>221.68</td>\n",
              "      <td>K6622</td>\n",
              "      <td>1</td>\n",
              "      <td>2.0</td>\n",
              "      <td>0.00</td>\n",
              "      <td>238.38</td>\n",
              "      <td>2.0</td>\n",
              "      <td>NaN</td>\n",
              "      <td>98.0</td>\n",
              "      <td>0.0</td>\n",
              "      <td>49.0</td>\n",
              "      <td>0.0</td>\n",
              "      <td>1</td>\n",
              "      <td>NaN</td>\n",
              "      <td>222.69</td>\n",
              "    </tr>\n",
              "    <tr>\n",
              "      <th>1</th>\n",
              "      <td>2</td>\n",
              "      <td>2017-02-03</td>\n",
              "      <td>0.0</td>\n",
              "      <td>0.0</td>\n",
              "      <td>151.36</td>\n",
              "      <td>K6512</td>\n",
              "      <td>2</td>\n",
              "      <td>NaN</td>\n",
              "      <td>210.53</td>\n",
              "      <td>0.00</td>\n",
              "      <td>5.0</td>\n",
              "      <td>NaN</td>\n",
              "      <td>109.0</td>\n",
              "      <td>2.0</td>\n",
              "      <td>51.0</td>\n",
              "      <td>0.0</td>\n",
              "      <td>2</td>\n",
              "      <td>1.0</td>\n",
              "      <td>212.72</td>\n",
              "    </tr>\n",
              "    <tr>\n",
              "      <th>2</th>\n",
              "      <td>3</td>\n",
              "      <td>2017-02-17</td>\n",
              "      <td>0.0</td>\n",
              "      <td>0.0</td>\n",
              "      <td>48.84</td>\n",
              "      <td>K6512</td>\n",
              "      <td>3</td>\n",
              "      <td>1.0</td>\n",
              "      <td>NaN</td>\n",
              "      <td>0.00</td>\n",
              "      <td>2.0</td>\n",
              "      <td>0.0</td>\n",
              "      <td>748.0</td>\n",
              "      <td>0.0</td>\n",
              "      <td>48.0</td>\n",
              "      <td>NaN</td>\n",
              "      <td>3</td>\n",
              "      <td>NaN</td>\n",
              "      <td>56.84</td>\n",
              "    </tr>\n",
              "    <tr>\n",
              "      <th>3</th>\n",
              "      <td>4</td>\n",
              "      <td>2017-09-18</td>\n",
              "      <td>0.0</td>\n",
              "      <td>0.0</td>\n",
              "      <td>413.15</td>\n",
              "      <td>K6622</td>\n",
              "      <td>4</td>\n",
              "      <td>NaN</td>\n",
              "      <td>NaN</td>\n",
              "      <td>54.14</td>\n",
              "      <td>3.0</td>\n",
              "      <td>1.0</td>\n",
              "      <td>8.0</td>\n",
              "      <td>0.0</td>\n",
              "      <td>27.0</td>\n",
              "      <td>NaN</td>\n",
              "      <td>4</td>\n",
              "      <td>NaN</td>\n",
              "      <td>463.15</td>\n",
              "    </tr>\n",
              "    <tr>\n",
              "      <th>4</th>\n",
              "      <td>5</td>\n",
              "      <td>2017-07-22</td>\n",
              "      <td>0.0</td>\n",
              "      <td>0.0</td>\n",
              "      <td>125.83</td>\n",
              "      <td>K6512</td>\n",
              "      <td>5</td>\n",
              "      <td>2.0</td>\n",
              "      <td>20.00</td>\n",
              "      <td>83.00</td>\n",
              "      <td>6.0</td>\n",
              "      <td>NaN</td>\n",
              "      <td>324.0</td>\n",
              "      <td>0.0</td>\n",
              "      <td>40.0</td>\n",
              "      <td>0.0</td>\n",
              "      <td>1</td>\n",
              "      <td>NaN</td>\n",
              "      <td>146.09</td>\n",
              "    </tr>\n",
              "  </tbody>\n",
              "</table>\n",
              "</div>\n",
              "      <button class=\"colab-df-convert\" onclick=\"convertToInteractive('df-43a67833-8ee0-4008-8fb2-6294a35e6a55')\"\n",
              "              title=\"Convert this dataframe to an interactive table.\"\n",
              "              style=\"display:none;\">\n",
              "        \n",
              "  <svg xmlns=\"http://www.w3.org/2000/svg\" height=\"24px\"viewBox=\"0 0 24 24\"\n",
              "       width=\"24px\">\n",
              "    <path d=\"M0 0h24v24H0V0z\" fill=\"none\"/>\n",
              "    <path d=\"M18.56 5.44l.94 2.06.94-2.06 2.06-.94-2.06-.94-.94-2.06-.94 2.06-2.06.94zm-11 1L8.5 8.5l.94-2.06 2.06-.94-2.06-.94L8.5 2.5l-.94 2.06-2.06.94zm10 10l.94 2.06.94-2.06 2.06-.94-2.06-.94-.94-2.06-.94 2.06-2.06.94z\"/><path d=\"M17.41 7.96l-1.37-1.37c-.4-.4-.92-.59-1.43-.59-.52 0-1.04.2-1.43.59L10.3 9.45l-7.72 7.72c-.78.78-.78 2.05 0 2.83L4 21.41c.39.39.9.59 1.41.59.51 0 1.02-.2 1.41-.59l7.78-7.78 2.81-2.81c.8-.78.8-2.07 0-2.86zM5.41 20L4 18.59l7.72-7.72 1.47 1.35L5.41 20z\"/>\n",
              "  </svg>\n",
              "      </button>\n",
              "      \n",
              "  <style>\n",
              "    .colab-df-container {\n",
              "      display:flex;\n",
              "      flex-wrap:wrap;\n",
              "      gap: 12px;\n",
              "    }\n",
              "\n",
              "    .colab-df-convert {\n",
              "      background-color: #E8F0FE;\n",
              "      border: none;\n",
              "      border-radius: 50%;\n",
              "      cursor: pointer;\n",
              "      display: none;\n",
              "      fill: #1967D2;\n",
              "      height: 32px;\n",
              "      padding: 0 0 0 0;\n",
              "      width: 32px;\n",
              "    }\n",
              "\n",
              "    .colab-df-convert:hover {\n",
              "      background-color: #E2EBFA;\n",
              "      box-shadow: 0px 1px 2px rgba(60, 64, 67, 0.3), 0px 1px 3px 1px rgba(60, 64, 67, 0.15);\n",
              "      fill: #174EA6;\n",
              "    }\n",
              "\n",
              "    [theme=dark] .colab-df-convert {\n",
              "      background-color: #3B4455;\n",
              "      fill: #D2E3FC;\n",
              "    }\n",
              "\n",
              "    [theme=dark] .colab-df-convert:hover {\n",
              "      background-color: #434B5C;\n",
              "      box-shadow: 0px 1px 3px 1px rgba(0, 0, 0, 0.15);\n",
              "      filter: drop-shadow(0px 1px 2px rgba(0, 0, 0, 0.3));\n",
              "      fill: #FFFFFF;\n",
              "    }\n",
              "  </style>\n",
              "\n",
              "      <script>\n",
              "        const buttonEl =\n",
              "          document.querySelector('#df-43a67833-8ee0-4008-8fb2-6294a35e6a55 button.colab-df-convert');\n",
              "        buttonEl.style.display =\n",
              "          google.colab.kernel.accessAllowed ? 'block' : 'none';\n",
              "\n",
              "        async function convertToInteractive(key) {\n",
              "          const element = document.querySelector('#df-43a67833-8ee0-4008-8fb2-6294a35e6a55');\n",
              "          const dataTable =\n",
              "            await google.colab.kernel.invokeFunction('convertToInteractive',\n",
              "                                                     [key], {});\n",
              "          if (!dataTable) return;\n",
              "\n",
              "          const docLinkHtml = 'Like what you see? Visit the ' +\n",
              "            '<a target=\"_blank\" href=https://colab.research.google.com/notebooks/data_table.ipynb>data table notebook</a>'\n",
              "            + ' to learn more about interactive tables.';\n",
              "          element.innerHTML = '';\n",
              "          dataTable['output_type'] = 'display_data';\n",
              "          await google.colab.output.renderOutput(dataTable, element);\n",
              "          const docLink = document.createElement('div');\n",
              "          docLink.innerHTML = docLinkHtml;\n",
              "          element.appendChild(docLink);\n",
              "        }\n",
              "      </script>\n",
              "    </div>\n",
              "  </div>\n",
              "  "
            ]
          },
          "metadata": {},
          "execution_count": 6
        }
      ]
    },
    {
      "cell_type": "code",
      "source": [
        "#@title\n",
        "df.describe()"
      ],
      "metadata": {
        "id": "W-NuaNEJPMCi",
        "colab": {
          "base_uri": "https://localhost:8080/",
          "height": 365
        },
        "cellView": "form",
        "outputId": "34ed7205-9f3a-436e-ca2c-e783dabe9881"
      },
      "execution_count": null,
      "outputs": [
        {
          "output_type": "execute_result",
          "data": {
            "text/plain": [
              "            case_id  Target90Days  TargetAmount90Days  \\\n",
              "count  30000.000000  30000.000000        30000.000000   \n",
              "mean   15000.500000      0.168733           49.215836   \n",
              "std     8660.398374      0.374522          240.063401   \n",
              "min        1.000000      0.000000            0.000000   \n",
              "25%     7500.750000      0.000000            0.000000   \n",
              "50%    15000.500000      0.000000            0.000000   \n",
              "75%    22500.250000      0.000000            0.000000   \n",
              "max    30000.000000      1.000000        25000.000000   \n",
              "\n",
              "       OriginalCapitalOfCaseInvoices    ClientName  \\\n",
              "count                   29975.000000  30000.000000   \n",
              "mean                      538.590694     22.106433   \n",
              "std                      1248.533877     24.037819   \n",
              "min                         0.000000      1.000000   \n",
              "25%                       145.100000      6.000000   \n",
              "50%                       298.720000     12.000000   \n",
              "75%                       638.645000     30.000000   \n",
              "max                     84561.840000    181.000000   \n",
              "\n",
              "       NumberOfUnsuccessfullyClosedCustomerCasesLast36Months  \\\n",
              "count                                       17371.000000       \n",
              "mean                                            1.634391       \n",
              "std                                             1.318419       \n",
              "min                                             0.000000       \n",
              "25%                                             1.000000       \n",
              "50%                                             1.000000       \n",
              "75%                                             2.000000       \n",
              "max                                            15.000000       \n",
              "\n",
              "       AmountOfCustomerPaymentsOnAllCasesBlevel  AmountOfCustomerOpenCases  \\\n",
              "count                              13074.000000               30000.000000   \n",
              "mean                                 423.156043                 555.063823   \n",
              "std                                  902.166491                1939.588574   \n",
              "min                                    0.000000                -319.010000   \n",
              "25%                                   76.000000                   0.000000   \n",
              "50%                                  202.715000                   0.000000   \n",
              "75%                                  500.677500                 481.322500   \n",
              "max                                53982.610000              110158.640000   \n",
              "\n",
              "       NumberOfTelephonesCI  \\\n",
              "count          30000.000000   \n",
              "mean               3.092900   \n",
              "std                2.151021   \n",
              "min                0.000000   \n",
              "25%                2.000000   \n",
              "50%                3.000000   \n",
              "75%                4.000000   \n",
              "max               35.000000   \n",
              "\n",
              "       RatioOfCustomersAtAddressWithSuccessfullyClosedCasesLast36Months  \\\n",
              "count                                       19599.000000                  \n",
              "mean                                            0.283395                  \n",
              "std                                             0.312366                  \n",
              "min                                             0.000000                  \n",
              "25%                                             0.000000                  \n",
              "50%                                             0.210000                  \n",
              "75%                                             0.450000                  \n",
              "max                                             1.000000                  \n",
              "\n",
              "          AgeOfDebt  NumberOfCustomerIncomingCallDatesTee   CustomerAge  \\\n",
              "count  30000.000000                          30000.000000  27016.000000   \n",
              "mean     104.948833                              0.473067     42.339466   \n",
              "std      196.864753                              1.397094     13.215883   \n",
              "min        3.000000                              0.000000      6.000000   \n",
              "25%       10.000000                              0.000000     32.000000   \n",
              "50%       77.000000                              0.000000     41.000000   \n",
              "75%      126.000000                              0.000000     51.000000   \n",
              "max     6193.000000                             40.000000    117.000000   \n",
              "\n",
              "       NumberOfCustomerPaymentsInLast12Months  \\\n",
              "count                            13048.000000   \n",
              "mean                                 0.935622   \n",
              "std                                  1.755761   \n",
              "min                                  0.000000   \n",
              "25%                                  0.000000   \n",
              "50%                                  0.000000   \n",
              "75%                                  1.000000   \n",
              "max                                 24.000000   \n",
              "\n",
              "       LastOriginalClosingCodeOfCustomer  \\\n",
              "count                       30000.000000   \n",
              "mean                            5.273033   \n",
              "std                             7.241761   \n",
              "min                             1.000000   \n",
              "25%                             1.000000   \n",
              "50%                             4.000000   \n",
              "75%                             7.000000   \n",
              "max                           102.000000   \n",
              "\n",
              "       NumberOfSuccessfullyClosedCasesInLast24Months  AmountOfCase  \n",
              "count                                    8762.000000  30000.000000  \n",
              "mean                                        0.897170    605.535361  \n",
              "std                                         0.814515   1223.783876  \n",
              "min                                         0.000000      9.750000  \n",
              "25%                                         0.000000    185.410000  \n",
              "50%                                         1.000000    355.650000  \n",
              "75%                                         1.000000    725.480000  \n",
              "max                                        15.000000  84561.840000  "
            ],
            "text/html": [
              "\n",
              "  <div id=\"df-c5dd690e-8ead-4a2d-8469-5dc2d2ba1ffc\">\n",
              "    <div class=\"colab-df-container\">\n",
              "      <div>\n",
              "<style scoped>\n",
              "    .dataframe tbody tr th:only-of-type {\n",
              "        vertical-align: middle;\n",
              "    }\n",
              "\n",
              "    .dataframe tbody tr th {\n",
              "        vertical-align: top;\n",
              "    }\n",
              "\n",
              "    .dataframe thead th {\n",
              "        text-align: right;\n",
              "    }\n",
              "</style>\n",
              "<table border=\"1\" class=\"dataframe\">\n",
              "  <thead>\n",
              "    <tr style=\"text-align: right;\">\n",
              "      <th></th>\n",
              "      <th>case_id</th>\n",
              "      <th>Target90Days</th>\n",
              "      <th>TargetAmount90Days</th>\n",
              "      <th>OriginalCapitalOfCaseInvoices</th>\n",
              "      <th>ClientName</th>\n",
              "      <th>NumberOfUnsuccessfullyClosedCustomerCasesLast36Months</th>\n",
              "      <th>AmountOfCustomerPaymentsOnAllCasesBlevel</th>\n",
              "      <th>AmountOfCustomerOpenCases</th>\n",
              "      <th>NumberOfTelephonesCI</th>\n",
              "      <th>RatioOfCustomersAtAddressWithSuccessfullyClosedCasesLast36Months</th>\n",
              "      <th>AgeOfDebt</th>\n",
              "      <th>NumberOfCustomerIncomingCallDatesTee</th>\n",
              "      <th>CustomerAge</th>\n",
              "      <th>NumberOfCustomerPaymentsInLast12Months</th>\n",
              "      <th>LastOriginalClosingCodeOfCustomer</th>\n",
              "      <th>NumberOfSuccessfullyClosedCasesInLast24Months</th>\n",
              "      <th>AmountOfCase</th>\n",
              "    </tr>\n",
              "  </thead>\n",
              "  <tbody>\n",
              "    <tr>\n",
              "      <th>count</th>\n",
              "      <td>30000.000000</td>\n",
              "      <td>30000.000000</td>\n",
              "      <td>30000.000000</td>\n",
              "      <td>29975.000000</td>\n",
              "      <td>30000.000000</td>\n",
              "      <td>17371.000000</td>\n",
              "      <td>13074.000000</td>\n",
              "      <td>30000.000000</td>\n",
              "      <td>30000.000000</td>\n",
              "      <td>19599.000000</td>\n",
              "      <td>30000.000000</td>\n",
              "      <td>30000.000000</td>\n",
              "      <td>27016.000000</td>\n",
              "      <td>13048.000000</td>\n",
              "      <td>30000.000000</td>\n",
              "      <td>8762.000000</td>\n",
              "      <td>30000.000000</td>\n",
              "    </tr>\n",
              "    <tr>\n",
              "      <th>mean</th>\n",
              "      <td>15000.500000</td>\n",
              "      <td>0.168733</td>\n",
              "      <td>49.215836</td>\n",
              "      <td>538.590694</td>\n",
              "      <td>22.106433</td>\n",
              "      <td>1.634391</td>\n",
              "      <td>423.156043</td>\n",
              "      <td>555.063823</td>\n",
              "      <td>3.092900</td>\n",
              "      <td>0.283395</td>\n",
              "      <td>104.948833</td>\n",
              "      <td>0.473067</td>\n",
              "      <td>42.339466</td>\n",
              "      <td>0.935622</td>\n",
              "      <td>5.273033</td>\n",
              "      <td>0.897170</td>\n",
              "      <td>605.535361</td>\n",
              "    </tr>\n",
              "    <tr>\n",
              "      <th>std</th>\n",
              "      <td>8660.398374</td>\n",
              "      <td>0.374522</td>\n",
              "      <td>240.063401</td>\n",
              "      <td>1248.533877</td>\n",
              "      <td>24.037819</td>\n",
              "      <td>1.318419</td>\n",
              "      <td>902.166491</td>\n",
              "      <td>1939.588574</td>\n",
              "      <td>2.151021</td>\n",
              "      <td>0.312366</td>\n",
              "      <td>196.864753</td>\n",
              "      <td>1.397094</td>\n",
              "      <td>13.215883</td>\n",
              "      <td>1.755761</td>\n",
              "      <td>7.241761</td>\n",
              "      <td>0.814515</td>\n",
              "      <td>1223.783876</td>\n",
              "    </tr>\n",
              "    <tr>\n",
              "      <th>min</th>\n",
              "      <td>1.000000</td>\n",
              "      <td>0.000000</td>\n",
              "      <td>0.000000</td>\n",
              "      <td>0.000000</td>\n",
              "      <td>1.000000</td>\n",
              "      <td>0.000000</td>\n",
              "      <td>0.000000</td>\n",
              "      <td>-319.010000</td>\n",
              "      <td>0.000000</td>\n",
              "      <td>0.000000</td>\n",
              "      <td>3.000000</td>\n",
              "      <td>0.000000</td>\n",
              "      <td>6.000000</td>\n",
              "      <td>0.000000</td>\n",
              "      <td>1.000000</td>\n",
              "      <td>0.000000</td>\n",
              "      <td>9.750000</td>\n",
              "    </tr>\n",
              "    <tr>\n",
              "      <th>25%</th>\n",
              "      <td>7500.750000</td>\n",
              "      <td>0.000000</td>\n",
              "      <td>0.000000</td>\n",
              "      <td>145.100000</td>\n",
              "      <td>6.000000</td>\n",
              "      <td>1.000000</td>\n",
              "      <td>76.000000</td>\n",
              "      <td>0.000000</td>\n",
              "      <td>2.000000</td>\n",
              "      <td>0.000000</td>\n",
              "      <td>10.000000</td>\n",
              "      <td>0.000000</td>\n",
              "      <td>32.000000</td>\n",
              "      <td>0.000000</td>\n",
              "      <td>1.000000</td>\n",
              "      <td>0.000000</td>\n",
              "      <td>185.410000</td>\n",
              "    </tr>\n",
              "    <tr>\n",
              "      <th>50%</th>\n",
              "      <td>15000.500000</td>\n",
              "      <td>0.000000</td>\n",
              "      <td>0.000000</td>\n",
              "      <td>298.720000</td>\n",
              "      <td>12.000000</td>\n",
              "      <td>1.000000</td>\n",
              "      <td>202.715000</td>\n",
              "      <td>0.000000</td>\n",
              "      <td>3.000000</td>\n",
              "      <td>0.210000</td>\n",
              "      <td>77.000000</td>\n",
              "      <td>0.000000</td>\n",
              "      <td>41.000000</td>\n",
              "      <td>0.000000</td>\n",
              "      <td>4.000000</td>\n",
              "      <td>1.000000</td>\n",
              "      <td>355.650000</td>\n",
              "    </tr>\n",
              "    <tr>\n",
              "      <th>75%</th>\n",
              "      <td>22500.250000</td>\n",
              "      <td>0.000000</td>\n",
              "      <td>0.000000</td>\n",
              "      <td>638.645000</td>\n",
              "      <td>30.000000</td>\n",
              "      <td>2.000000</td>\n",
              "      <td>500.677500</td>\n",
              "      <td>481.322500</td>\n",
              "      <td>4.000000</td>\n",
              "      <td>0.450000</td>\n",
              "      <td>126.000000</td>\n",
              "      <td>0.000000</td>\n",
              "      <td>51.000000</td>\n",
              "      <td>1.000000</td>\n",
              "      <td>7.000000</td>\n",
              "      <td>1.000000</td>\n",
              "      <td>725.480000</td>\n",
              "    </tr>\n",
              "    <tr>\n",
              "      <th>max</th>\n",
              "      <td>30000.000000</td>\n",
              "      <td>1.000000</td>\n",
              "      <td>25000.000000</td>\n",
              "      <td>84561.840000</td>\n",
              "      <td>181.000000</td>\n",
              "      <td>15.000000</td>\n",
              "      <td>53982.610000</td>\n",
              "      <td>110158.640000</td>\n",
              "      <td>35.000000</td>\n",
              "      <td>1.000000</td>\n",
              "      <td>6193.000000</td>\n",
              "      <td>40.000000</td>\n",
              "      <td>117.000000</td>\n",
              "      <td>24.000000</td>\n",
              "      <td>102.000000</td>\n",
              "      <td>15.000000</td>\n",
              "      <td>84561.840000</td>\n",
              "    </tr>\n",
              "  </tbody>\n",
              "</table>\n",
              "</div>\n",
              "      <button class=\"colab-df-convert\" onclick=\"convertToInteractive('df-c5dd690e-8ead-4a2d-8469-5dc2d2ba1ffc')\"\n",
              "              title=\"Convert this dataframe to an interactive table.\"\n",
              "              style=\"display:none;\">\n",
              "        \n",
              "  <svg xmlns=\"http://www.w3.org/2000/svg\" height=\"24px\"viewBox=\"0 0 24 24\"\n",
              "       width=\"24px\">\n",
              "    <path d=\"M0 0h24v24H0V0z\" fill=\"none\"/>\n",
              "    <path d=\"M18.56 5.44l.94 2.06.94-2.06 2.06-.94-2.06-.94-.94-2.06-.94 2.06-2.06.94zm-11 1L8.5 8.5l.94-2.06 2.06-.94-2.06-.94L8.5 2.5l-.94 2.06-2.06.94zm10 10l.94 2.06.94-2.06 2.06-.94-2.06-.94-.94-2.06-.94 2.06-2.06.94z\"/><path d=\"M17.41 7.96l-1.37-1.37c-.4-.4-.92-.59-1.43-.59-.52 0-1.04.2-1.43.59L10.3 9.45l-7.72 7.72c-.78.78-.78 2.05 0 2.83L4 21.41c.39.39.9.59 1.41.59.51 0 1.02-.2 1.41-.59l7.78-7.78 2.81-2.81c.8-.78.8-2.07 0-2.86zM5.41 20L4 18.59l7.72-7.72 1.47 1.35L5.41 20z\"/>\n",
              "  </svg>\n",
              "      </button>\n",
              "      \n",
              "  <style>\n",
              "    .colab-df-container {\n",
              "      display:flex;\n",
              "      flex-wrap:wrap;\n",
              "      gap: 12px;\n",
              "    }\n",
              "\n",
              "    .colab-df-convert {\n",
              "      background-color: #E8F0FE;\n",
              "      border: none;\n",
              "      border-radius: 50%;\n",
              "      cursor: pointer;\n",
              "      display: none;\n",
              "      fill: #1967D2;\n",
              "      height: 32px;\n",
              "      padding: 0 0 0 0;\n",
              "      width: 32px;\n",
              "    }\n",
              "\n",
              "    .colab-df-convert:hover {\n",
              "      background-color: #E2EBFA;\n",
              "      box-shadow: 0px 1px 2px rgba(60, 64, 67, 0.3), 0px 1px 3px 1px rgba(60, 64, 67, 0.15);\n",
              "      fill: #174EA6;\n",
              "    }\n",
              "\n",
              "    [theme=dark] .colab-df-convert {\n",
              "      background-color: #3B4455;\n",
              "      fill: #D2E3FC;\n",
              "    }\n",
              "\n",
              "    [theme=dark] .colab-df-convert:hover {\n",
              "      background-color: #434B5C;\n",
              "      box-shadow: 0px 1px 3px 1px rgba(0, 0, 0, 0.15);\n",
              "      filter: drop-shadow(0px 1px 2px rgba(0, 0, 0, 0.3));\n",
              "      fill: #FFFFFF;\n",
              "    }\n",
              "  </style>\n",
              "\n",
              "      <script>\n",
              "        const buttonEl =\n",
              "          document.querySelector('#df-c5dd690e-8ead-4a2d-8469-5dc2d2ba1ffc button.colab-df-convert');\n",
              "        buttonEl.style.display =\n",
              "          google.colab.kernel.accessAllowed ? 'block' : 'none';\n",
              "\n",
              "        async function convertToInteractive(key) {\n",
              "          const element = document.querySelector('#df-c5dd690e-8ead-4a2d-8469-5dc2d2ba1ffc');\n",
              "          const dataTable =\n",
              "            await google.colab.kernel.invokeFunction('convertToInteractive',\n",
              "                                                     [key], {});\n",
              "          if (!dataTable) return;\n",
              "\n",
              "          const docLinkHtml = 'Like what you see? Visit the ' +\n",
              "            '<a target=\"_blank\" href=https://colab.research.google.com/notebooks/data_table.ipynb>data table notebook</a>'\n",
              "            + ' to learn more about interactive tables.';\n",
              "          element.innerHTML = '';\n",
              "          dataTable['output_type'] = 'display_data';\n",
              "          await google.colab.output.renderOutput(dataTable, element);\n",
              "          const docLink = document.createElement('div');\n",
              "          docLink.innerHTML = docLinkHtml;\n",
              "          element.appendChild(docLink);\n",
              "        }\n",
              "      </script>\n",
              "    </div>\n",
              "  </div>\n",
              "  "
            ]
          },
          "metadata": {},
          "execution_count": 5
        }
      ]
    },
    {
      "cell_type": "markdown",
      "source": [
        "-   basée sur des préfixes qui définissent les niveaux d'agrégation - `cXXXX` en regardant les données de ce cas uniquement, `dXXXX` en regardant les autres cas du même débiteur, `bXXXX` en regardant tous les cas du débiteur, `aXXXX` regardant tous les cas sur la même adresse. "
      ],
      "metadata": {
        "id": "rS7PMOvAXmvO"
      }
    },
    {
      "cell_type": "markdown",
      "source": [
        "> Variables cuantitativas en gráfico de barras"
      ],
      "metadata": {
        "id": "OG1Qzr-qnHNZ"
      }
    },
    {
      "cell_type": "code",
      "source": [
        "#@title\n",
        "# Variables cuantitativas en gráfico de barras\n",
        "df.hist(bins=10,figsize=(20,15));"
      ],
      "metadata": {
        "colab": {
          "base_uri": "https://localhost:8080/",
          "height": 879
        },
        "id": "tW3qrBH0YIqj",
        "outputId": "91615b16-b8d3-4986-a6f6-68daac3e9ff6",
        "cellView": "form"
      },
      "execution_count": null,
      "outputs": [
        {
          "output_type": "display_data",
          "data": {
            "text/plain": [
              "<Figure size 1440x1080 with 20 Axes>"
            ],
            "image/png": "[encoded data removed]"
          },
          "metadata": {
            "needs_background": "light"
          }
        }
      ]
    },
    {
      "cell_type": "markdown",
      "source": [
        "* **Target**"
      ],
      "metadata": {
        "id": "Ax534pU-nPnH"
      }
    },
    {
      "cell_type": "code",
      "source": [
        "# analyse de ma target\n",
        "\n",
        "df['Target90Days'] = df['Target90Days'].astype(int)\n",
        "print(df.Target90Days.unique())\n",
        "\n",
        "#@title\n",
        "def countX(lst, x):\n",
        "    count = 0\n",
        "    for ele in lst:\n",
        "        if (ele == x):\n",
        "            count = count + 1\n",
        "    return count\n",
        "\n",
        "lst = df.Target90Days\n",
        "\n",
        "x = 1\n",
        "\n",
        "print('{} has occurred {} times'.format(x, countX(lst, x)) )\n",
        "print(countX(lst, x) * x)"
      ],
      "metadata": {
        "colab": {
          "base_uri": "https://localhost:8080/"
        },
        "id": "PmCJxVQUnDLM",
        "outputId": "8ba7b1a6-fa12-46db-d568-1edbce386680"
      },
      "execution_count": null,
      "outputs": [
        {
          "output_type": "stream",
          "name": "stdout",
          "text": [
            "[0 1]\n",
            "1 has occurred 5062 times\n",
            "5062\n"
          ]
        }
      ]
    },
    {
      "cell_type": "markdown",
      "source": [
        "* **Data Cleaning**"
      ],
      "metadata": {
        "id": "Y6P0UZrm7hWW"
      }
    },
    {
      "cell_type": "code",
      "source": [
        "#@title\n",
        "def valeur_manquante(df):\n",
        "    flag=0\n",
        "    for col in df.columns:\n",
        "            if df[col].isna().sum() > 0:\n",
        "                flag=1\n",
        "                print(f'\"{col}\": {df[col].isna().sum()} valeur(s) manquante(s)')\n",
        "    if flag==0:\n",
        "        print(\"Le dataset ne contient plus de valeurs manquantes.\")\n",
        "\n",
        "valeur_manquante(df)"
      ],
      "metadata": {
        "colab": {
          "base_uri": "https://localhost:8080/"
        },
        "id": "dCckzyArLT3k",
        "outputId": "f559c929-4880-45eb-e766-a15020e415e7"
      },
      "execution_count": null,
      "outputs": [
        {
          "output_type": "stream",
          "name": "stdout",
          "text": [
            "\"OriginalCapitalOfCaseInvoices\": 25 valeur(s) manquante(s)\n",
            "\"NumberOfUnsuccessfullyClosedCustomerCasesLast36Months\": 12629 valeur(s) manquante(s)\n",
            "\"AmountOfCustomerPaymentsOnAllCasesBlevel\": 16926 valeur(s) manquante(s)\n",
            "\"RatioOfCustomersAtAddressWithSuccessfullyClosedCasesLast36Months\": 10401 valeur(s) manquante(s)\n",
            "\"CustomerAge\": 2984 valeur(s) manquante(s)\n",
            "\"NumberOfCustomerPaymentsInLast12Months\": 16952 valeur(s) manquante(s)\n",
            "\"NumberOfSuccessfullyClosedCasesInLast24Months\": 21238 valeur(s) manquante(s)\n"
          ]
        }
      ]
    },
    {
      "cell_type": "markdown",
      "source": [
        "- ***IndustryCode***\n",
        "- ***Original Capital Of Case Invoices***\n",
        "- ***Customer Age & Age of Debt***"
      ],
      "metadata": {
        "id": "3ECvU26WasA6"
      }
    },
    {
      "cell_type": "code",
      "source": [
        "df['AgeOfDebt'] = df['AgeOfDebt'].astype(int)\n",
        "df['NumberOfTelephonesCI'] = df['NumberOfTelephonesCI'].astype(int)\n",
        "df['NumberOfCustomerIncomingCallDatesTee'] = df['NumberOfCustomerIncomingCallDatesTee'].astype(int)\n",
        "\n",
        "df['IndustryCode'] = df['IndustryCode'].astype('category').cat.codes  # puede tener sentido en una gran base de datos para la predicción de fallas\n",
        "\n",
        "df = df.dropna(subset = ['OriginalCapitalOfCaseInvoices'], axis=0) # 25 nan, drop is null \n",
        "df['CustomerAge'] = df['CustomerAge'].fillna(df['CustomerAge'].mode()[0]) # reemplazar por el modo no debería tener impacto en el puntaje \n",
        "df = df[df['AgeOfDebt'] < 2000 ] # eliminar filas > 2000 días = valores atípicos que podrían sesgar nuestras puntuaciones"
      ],
      "metadata": {
        "id": "3YLCo57Yy45t",
        "colab": {
          "base_uri": "https://localhost:8080/"
        },
        "outputId": "9646a4ff-3ef1-4b27-b613-bc9bda453584"
      },
      "execution_count": null,
      "outputs": [
        {
          "output_type": "stream",
          "name": "stderr",
          "text": [
            "/usr/local/lib/python3.7/dist-packages/ipykernel_launcher.py:8: SettingWithCopyWarning: \n",
            "A value is trying to be set on a copy of a slice from a DataFrame.\n",
            "Try using .loc[row_indexer,col_indexer] = value instead\n",
            "\n",
            "See the caveats in the documentation: https://pandas.pydata.org/pandas-docs/stable/user_guide/indexing.html#returning-a-view-versus-a-copy\n",
            "  \n"
          ]
        }
      ]
    },
    {
      "cell_type": "code",
      "source": [
        "df.info()"
      ],
      "metadata": {
        "colab": {
          "base_uri": "https://localhost:8080/"
        },
        "id": "Wa1lg1TddYWm",
        "outputId": "d438ee21-83c7-44ce-f31e-64cae1a8ba55"
      },
      "execution_count": null,
      "outputs": [
        {
          "output_type": "stream",
          "name": "stdout",
          "text": [
            "<class 'pandas.core.frame.DataFrame'>\n",
            "Int64Index: 29932 entries, 0 to 29999\n",
            "Data columns (total 19 columns):\n",
            " #   Column                                                            Non-Null Count  Dtype         \n",
            "---  ------                                                            --------------  -----         \n",
            " 0   case_id                                                           29932 non-null  int64         \n",
            " 1   keydate                                                           29932 non-null  datetime64[ns]\n",
            " 2   Target90Days                                                      29932 non-null  int64         \n",
            " 3   TargetAmount90Days                                                29932 non-null  float64       \n",
            " 4   OriginalCapitalOfCaseInvoices                                     29932 non-null  float64       \n",
            " 5   IndustryCode                                                      29932 non-null  int8          \n",
            " 6   ClientName                                                        29932 non-null  int64         \n",
            " 7   NumberOfUnsuccessfullyClosedCustomerCasesLast36Months             17332 non-null  float64       \n",
            " 8   AmountOfCustomerPaymentsOnAllCasesBlevel                          13046 non-null  float64       \n",
            " 9   AmountOfCustomerOpenCases                                         29932 non-null  float64       \n",
            " 10  NumberOfTelephonesCI                                              29932 non-null  int64         \n",
            " 11  RatioOfCustomersAtAddressWithSuccessfullyClosedCasesLast36Months  19551 non-null  float64       \n",
            " 12  AgeOfDebt                                                         29932 non-null  int64         \n",
            " 13  NumberOfCustomerIncomingCallDatesTee                              29932 non-null  int64         \n",
            " 14  CustomerAge                                                       29932 non-null  float64       \n",
            " 15  NumberOfCustomerPaymentsInLast12Months                            13020 non-null  float64       \n",
            " 16  LastOriginalClosingCodeOfCustomer                                 29932 non-null  int64         \n",
            " 17  NumberOfSuccessfullyClosedCasesInLast24Months                     8745 non-null   float64       \n",
            " 18  AmountOfCase                                                      29932 non-null  float64       \n",
            "dtypes: datetime64[ns](1), float64(10), int64(7), int8(1)\n",
            "memory usage: 4.4 MB\n"
          ]
        }
      ]
    },
    {
      "cell_type": "markdown",
      "source": [
        "***Number Of Unsuccessfully Closed Customer Cases Last 36 Months***\n",
        "\n",
        "* interprétation des valeurs manquantes : \n",
        "> si la variable est liée à une fenêtre temporelle, par exemple `d2112 NumberOfCustomerPaymentsInLast12Months`, \n",
        "> \n",
        "> la valeur `NA` implique qu'il n'y a jamais eu de valeurs, \n",
        "> \n",
        "> tandis que `0` signifierait qu'il n'y a eu aucune valeur dans période de délimitation (dans ce cas 12 mois). \n",
        "> \n",
        "> '0' et 'NA' ont une interprétation **différente**.\n"
      ],
      "metadata": {
        "id": "OHBKNxyXWyWA"
      }
    },
    {
      "cell_type": "markdown",
      "source": [
        ""
      ],
      "metadata": {
        "id": "zl7W2r93dnii"
      }
    },
    {
      "cell_type": "code",
      "source": [
        "#@title\n",
        "# 12616 nan\n",
        "\n",
        "df['NumberOfUnsuccessfullyClosedCustomerCasesLast36Months'] = df['NumberOfUnsuccessfullyClosedCustomerCasesLast36Months'].replace(np.nan, 0)\n",
        "df.NumberOfUnsuccessfullyClosedCustomerCasesLast36Months.unique()\n"
      ],
      "metadata": {
        "colab": {
          "base_uri": "https://localhost:8080/"
        },
        "id": "P5o3VHho2djw",
        "outputId": "ff519826-c87b-49df-feb4-f6f6b59e8aab"
      },
      "execution_count": null,
      "outputs": [
        {
          "output_type": "execute_result",
          "data": {
            "text/plain": [
              "array([ 2.,  0.,  1.,  3.,  6.,  5.,  7.,  4.,  8., 10.,  9., 11., 14.,\n",
              "       13., 15., 12.])"
            ]
          },
          "metadata": {},
          "execution_count": 11
        }
      ]
    },
    {
      "cell_type": "markdown",
      "source": [
        "***Amount Of Customer Payments On All Cases B level***"
      ],
      "metadata": {
        "id": "dXbZQn2JcxuH"
      }
    },
    {
      "cell_type": "code",
      "source": [
        "#@title\n",
        "# 16910 nan\n",
        "\n",
        "df.AmountOfCustomerPaymentsOnAllCasesBlevel.unique()\n",
        "\n",
        "df['AmountOfCustomerPaymentsOnAllCasesBlevel'] = df['AmountOfCustomerPaymentsOnAllCasesBlevel'].replace(np.nan, 0)"
      ],
      "metadata": {
        "id": "tu6n7jse2IUZ"
      },
      "execution_count": null,
      "outputs": []
    },
    {
      "cell_type": "markdown",
      "source": [
        "***Ratio Of Customers At Address With Successfully Closed Cases Last 36Months***"
      ],
      "metadata": {
        "id": "fR8n-g9jc6bO"
      }
    },
    {
      "cell_type": "code",
      "source": [
        "#@title\n",
        "# 10393 nan\n",
        "\n",
        "df.RatioOfCustomersAtAddressWithSuccessfullyClosedCasesLast36Months.unique()\n"
      ],
      "metadata": {
        "colab": {
          "base_uri": "https://localhost:8080/"
        },
        "id": "3HZuSqOO2NVJ",
        "outputId": "d0269afc-297e-485d-b05a-933d56a40cbe"
      },
      "execution_count": null,
      "outputs": [
        {
          "output_type": "execute_result",
          "data": {
            "text/plain": [
              "array([ nan, 0.  , 1.  , 0.36, 0.25, 0.33, 0.29, 0.37, 0.28, 0.09, 0.4 ,\n",
              "       0.13, 0.5 , 0.18, 0.45, 0.17, 0.3 , 0.47, 0.2 , 0.15, 0.21, 0.07,\n",
              "       0.08, 0.52, 0.41, 0.6 , 0.75, 0.22, 0.38, 0.12, 0.11, 0.19, 0.16,\n",
              "       0.44, 0.66, 0.23, 0.06, 0.46, 0.8 , 0.26, 0.57, 0.03, 0.43, 0.27,\n",
              "       0.14, 0.31, 0.1 , 0.64, 0.42, 0.7 , 0.34, 0.71, 0.58, 0.35, 0.54,\n",
              "       0.55, 0.83, 0.39, 0.56, 0.49, 0.04, 0.05, 0.24, 0.63, 0.62, 0.53,\n",
              "       0.67, 0.61, 0.32, 0.65, 0.48, 0.69, 0.72, 0.85, 0.77, 0.76, 0.51,\n",
              "       0.02, 0.59, 0.87, 0.68, 0.88, 0.78, 0.73, 0.81])"
            ]
          },
          "metadata": {},
          "execution_count": 13
        }
      ]
    },
    {
      "cell_type": "markdown",
      "source": [
        "***Number Of Customer Payments In Last 12Months***"
      ],
      "metadata": {
        "id": "5b_pGPuEdIhF"
      }
    },
    {
      "cell_type": "code",
      "source": [
        "#@title\n",
        "# 16936 nan\n",
        "\n",
        "df.NumberOfCustomerPaymentsInLast12Months.unique()\n",
        "\n",
        "df['NumberOfCustomerPaymentsInLast12Months'] = df['NumberOfCustomerPaymentsInLast12Months'].replace(np.nan, 0)"
      ],
      "metadata": {
        "id": "JFcbbctd2AhN"
      },
      "execution_count": null,
      "outputs": []
    },
    {
      "cell_type": "markdown",
      "source": [
        "***Number Of Successfully Closed Cases In Last 24 Months***"
      ],
      "metadata": {
        "id": "EpNzrEPWdOQB"
      }
    },
    {
      "cell_type": "code",
      "source": [
        "#@title\n",
        "# 21218 nan\n",
        "\n",
        "df.NumberOfSuccessfullyClosedCasesInLast24Months.unique()"
      ],
      "metadata": {
        "colab": {
          "base_uri": "https://localhost:8080/"
        },
        "id": "8oDE9JCL1oUb",
        "outputId": "f3eb0c41-f199-4c62-ec70-a0403ad62ad7"
      },
      "execution_count": null,
      "outputs": [
        {
          "output_type": "execute_result",
          "data": {
            "text/plain": [
              "array([nan,  1.,  0.,  2.,  3.,  4.,  5.,  8., 11.,  7.,  6., 13., 15.])"
            ]
          },
          "metadata": {},
          "execution_count": 15
        }
      ]
    },
    {
      "cell_type": "markdown",
      "source": [
        "## Data Visualisation"
      ],
      "metadata": {
        "id": "paJdH4Iiv3e0"
      }
    },
    {
      "cell_type": "code",
      "source": [
        "# Calcul des corrélations de Pearson sur les variables quantitatives\n",
        "corr = df.corr()\n",
        "\n",
        "# Affichage de la heatmap de ces corrélations\n",
        "corr.style.background_gradient(cmap='Reds')"
      ],
      "metadata": {
        "colab": {
          "base_uri": "https://localhost:8080/",
          "height": 728
        },
        "id": "8Kow5J_9lTSX",
        "outputId": "3a20bafc-34a6-4ffa-d22b-19ea7c36e0d1"
      },
      "execution_count": null,
      "outputs": [
        {
          "output_type": "execute_result",
          "data": {
            "text/plain": [
              "<pandas.io.formats.style.Styler at 0x7f5f9ea1c550>"
            ],
            "text/html": [
              "<style type=\"text/css\">\n",
              "#T_367f5_row0_col0, #T_367f5_row1_col1, #T_367f5_row2_col2, #T_367f5_row3_col3, #T_367f5_row4_col4, #T_367f5_row5_col5, #T_367f5_row6_col6, #T_367f5_row6_col18, #T_367f5_row7_col7, #T_367f5_row7_col19, #T_367f5_row8_col8, #T_367f5_row9_col9, #T_367f5_row10_col10, #T_367f5_row11_col11, #T_367f5_row12_col12, #T_367f5_row13_col13, #T_367f5_row14_col14, #T_367f5_row14_col20, #T_367f5_row15_col15, #T_367f5_row16_col16, #T_367f5_row17_col17, #T_367f5_row18_col6, #T_367f5_row18_col18, #T_367f5_row19_col7, #T_367f5_row19_col19, #T_367f5_row20_col14, #T_367f5_row20_col20 {\n",
              "  background-color: #67000d;\n",
              "  color: #f1f1f1;\n",
              "}\n",
              "#T_367f5_row0_col1, #T_367f5_row1_col17, #T_367f5_row3_col8, #T_367f5_row5_col18, #T_367f5_row8_col5, #T_367f5_row12_col5, #T_367f5_row15_col5, #T_367f5_row15_col6, #T_367f5_row16_col4, #T_367f5_row18_col11, #T_367f5_row19_col2 {\n",
              "  background-color: #fee1d4;\n",
              "  color: #000000;\n",
              "}\n",
              "#T_367f5_row0_col2, #T_367f5_row0_col8, #T_367f5_row2_col7, #T_367f5_row3_col16, #T_367f5_row4_col8, #T_367f5_row5_col8, #T_367f5_row6_col20, #T_367f5_row8_col19, #T_367f5_row11_col15, #T_367f5_row13_col5, #T_367f5_row14_col13, #T_367f5_row16_col13, #T_367f5_row17_col13, #T_367f5_row17_col16 {\n",
              "  background-color: #ffece3;\n",
              "  color: #000000;\n",
              "}\n",
              "#T_367f5_row0_col3, #T_367f5_row12_col3, #T_367f5_row14_col11, #T_367f5_row15_col11, #T_367f5_row20_col4, #T_367f5_row20_col11 {\n",
              "  background-color: #fedccd;\n",
              "  color: #000000;\n",
              "}\n",
              "#T_367f5_row0_col4, #T_367f5_row1_col10, #T_367f5_row2_col11, #T_367f5_row6_col3, #T_367f5_row14_col1, #T_367f5_row14_col8, #T_367f5_row15_col4, #T_367f5_row16_col17, #T_367f5_row17_col18, #T_367f5_row19_col11 {\n",
              "  background-color: #fed9c9;\n",
              "  color: #000000;\n",
              "}\n",
              "#T_367f5_row0_col5, #T_367f5_row7_col8, #T_367f5_row7_col10, #T_367f5_row9_col13, #T_367f5_row10_col4, #T_367f5_row10_col5, #T_367f5_row13_col18, #T_367f5_row14_col5, #T_367f5_row18_col8, #T_367f5_row19_col10, #T_367f5_row19_col13, #T_367f5_row20_col15 {\n",
              "  background-color: #fee0d2;\n",
              "  color: #000000;\n",
              "}\n",
              "#T_367f5_row0_col6, #T_367f5_row6_col12, #T_367f5_row8_col7, #T_367f5_row13_col6, #T_367f5_row13_col8, #T_367f5_row13_col15, #T_367f5_row14_col15, #T_367f5_row15_col13, #T_367f5_row19_col8 {\n",
              "  background-color: #fee6da;\n",
              "  color: #000000;\n",
              "}\n",
              "#T_367f5_row0_col7, #T_367f5_row1_col6, #T_367f5_row1_col8, #T_367f5_row1_col9, #T_367f5_row1_col18, #T_367f5_row4_col3, #T_367f5_row4_col5, #T_367f5_row4_col11, #T_367f5_row4_col17, #T_367f5_row5_col7, #T_367f5_row5_col13, #T_367f5_row5_col19, #T_367f5_row6_col7, #T_367f5_row7_col0, #T_367f5_row11_col12, #T_367f5_row17_col4, #T_367f5_row18_col1, #T_367f5_row18_col2, #T_367f5_row18_col10, #T_367f5_row18_col14, #T_367f5_row18_col15, #T_367f5_row18_col16, #T_367f5_row18_col20 {\n",
              "  background-color: #fff5f0;\n",
              "  color: #000000;\n",
              "}\n",
              "#T_367f5_row0_col9, #T_367f5_row1_col19, #T_367f5_row2_col13, #T_367f5_row3_col10, #T_367f5_row12_col2, #T_367f5_row13_col2, #T_367f5_row15_col12, #T_367f5_row16_col2, #T_367f5_row18_col12, #T_367f5_row20_col13 {\n",
              "  background-color: #fee7dc;\n",
              "  color: #000000;\n",
              "}\n",
              "#T_367f5_row0_col10, #T_367f5_row1_col12, #T_367f5_row5_col6, #T_367f5_row5_col9, #T_367f5_row7_col6, #T_367f5_row8_col15, #T_367f5_row11_col2, #T_367f5_row14_col10, #T_367f5_row16_col18 {\n",
              "  background-color: #fee9df;\n",
              "  color: #000000;\n",
              "}\n",
              "#T_367f5_row0_col11, #T_367f5_row3_col18, #T_367f5_row4_col9, #T_367f5_row7_col1, #T_367f5_row11_col1, #T_367f5_row13_col9, #T_367f5_row13_col17, #T_367f5_row14_col3, #T_367f5_row14_col4, #T_367f5_row15_col3, #T_367f5_row20_col3 {\n",
              "  background-color: #fedbcc;\n",
              "  color: #000000;\n",
              "}\n",
              "#T_367f5_row0_col12, #T_367f5_row4_col0, #T_367f5_row4_col19, #T_367f5_row6_col14, #T_367f5_row9_col0, #T_367f5_row12_col0, #T_367f5_row13_col0, #T_367f5_row18_col0, #T_367f5_row18_col19 {\n",
              "  background-color: #fff3ed;\n",
              "  color: #000000;\n",
              "}\n",
              "#T_367f5_row0_col13, #T_367f5_row0_col16, #T_367f5_row1_col14, #T_367f5_row4_col15, #T_367f5_row5_col15, #T_367f5_row10_col7, #T_367f5_row10_col19, #T_367f5_row11_col6, #T_367f5_row15_col8, #T_367f5_row15_col14, #T_367f5_row15_col18 {\n",
              "  background-color: #feeae1;\n",
              "  color: #000000;\n",
              "}\n",
              "#T_367f5_row0_col14, #T_367f5_row2_col9, #T_367f5_row3_col19, #T_367f5_row6_col1, #T_367f5_row10_col8, #T_367f5_row13_col20 {\n",
              "  background-color: #ffeee7;\n",
              "  color: #000000;\n",
              "}\n",
              "#T_367f5_row0_col15, #T_367f5_row2_col15, #T_367f5_row2_col16, #T_367f5_row2_col19, #T_367f5_row2_col20, #T_367f5_row8_col1, #T_367f5_row8_col20, #T_367f5_row9_col20, #T_367f5_row15_col2, #T_367f5_row16_col15, #T_367f5_row17_col10 {\n",
              "  background-color: #fee8de;\n",
              "  color: #000000;\n",
              "}\n",
              "#T_367f5_row0_col17, #T_367f5_row10_col3, #T_367f5_row10_col17, #T_367f5_row12_col17, #T_367f5_row15_col17, #T_367f5_row16_col3, #T_367f5_row16_col11, #T_367f5_row19_col4, #T_367f5_row20_col17 {\n",
              "  background-color: #fedaca;\n",
              "  color: #000000;\n",
              "}\n",
              "#T_367f5_row0_col18, #T_367f5_row4_col6, #T_367f5_row6_col11, #T_367f5_row7_col13, #T_367f5_row16_col5, #T_367f5_row16_col10, #T_367f5_row17_col8, #T_367f5_row19_col6, #T_367f5_row19_col18, #T_367f5_row20_col6 {\n",
              "  background-color: #fee1d3;\n",
              "  color: #000000;\n",
              "}\n",
              "#T_367f5_row0_col19, #T_367f5_row2_col0, #T_367f5_row3_col0, #T_367f5_row4_col2, #T_367f5_row11_col0, #T_367f5_row17_col12 {\n",
              "  background-color: #fff4ee;\n",
              "  color: #000000;\n",
              "}\n",
              "#T_367f5_row0_col20, #T_367f5_row4_col12, #T_367f5_row4_col14, #T_367f5_row4_col16, #T_367f5_row9_col16, #T_367f5_row11_col19 {\n",
              "  background-color: #fff1ea;\n",
              "  color: #000000;\n",
              "}\n",
              "#T_367f5_row1_col0, #T_367f5_row3_col4, #T_367f5_row3_col12, #T_367f5_row4_col20, #T_367f5_row10_col0, #T_367f5_row11_col4, #T_367f5_row17_col0, #T_367f5_row18_col7, #T_367f5_row19_col0 {\n",
              "  background-color: #fff4ef;\n",
              "  color: #000000;\n",
              "}\n",
              "#T_367f5_row1_col2 {\n",
              "  background-color: #fb6e4e;\n",
              "  color: #f1f1f1;\n",
              "}\n",
              "#T_367f5_row1_col3, #T_367f5_row2_col5, #T_367f5_row2_col10, #T_367f5_row5_col1, #T_367f5_row7_col18, #T_367f5_row20_col2, #T_367f5_row20_col5 {\n",
              "  background-color: #fee2d5;\n",
              "  color: #000000;\n",
              "}\n",
              "#T_367f5_row1_col4, #T_367f5_row3_col7, #T_367f5_row3_col15, #T_367f5_row5_col2, #T_367f5_row5_col16, #T_367f5_row8_col12, #T_367f5_row11_col16, #T_367f5_row13_col12, #T_367f5_row15_col7, #T_367f5_row16_col12, #T_367f5_row17_col15 {\n",
              "  background-color: #ffebe2;\n",
              "  color: #000000;\n",
              "}\n",
              "#T_367f5_row1_col5, #T_367f5_row12_col13, #T_367f5_row17_col9, #T_367f5_row20_col8, #T_367f5_row20_col18 {\n",
              "  background-color: #fee3d7;\n",
              "  color: #000000;\n",
              "}\n",
              "#T_367f5_row1_col7, #T_367f5_row2_col12, #T_367f5_row8_col16 {\n",
              "  background-color: #fff0e8;\n",
              "  color: #000000;\n",
              "}\n",
              "#T_367f5_row1_col11, #T_367f5_row6_col17, #T_367f5_row9_col3, #T_367f5_row9_col12, #T_367f5_row12_col4, #T_367f5_row12_col6, #T_367f5_row13_col1, #T_367f5_row18_col3 {\n",
              "  background-color: #fdd5c4;\n",
              "  color: #000000;\n",
              "}\n",
              "#T_367f5_row1_col13, #T_367f5_row1_col16, #T_367f5_row6_col5, #T_367f5_row7_col2, #T_367f5_row7_col5, #T_367f5_row7_col15, #T_367f5_row8_col13, #T_367f5_row19_col5 {\n",
              "  background-color: #fee4d8;\n",
              "  color: #000000;\n",
              "}\n",
              "#T_367f5_row1_col15, #T_367f5_row3_col1, #T_367f5_row3_col6, #T_367f5_row9_col11, #T_367f5_row9_col19, #T_367f5_row10_col13, #T_367f5_row11_col10, #T_367f5_row12_col10, #T_367f5_row14_col2, #T_367f5_row14_col9, #T_367f5_row14_col18, #T_367f5_row17_col1, #T_367f5_row20_col10 {\n",
              "  background-color: #fee5d9;\n",
              "  color: #000000;\n",
              "}\n",
              "#T_367f5_row1_col20, #T_367f5_row2_col4, #T_367f5_row3_col9, #T_367f5_row6_col15, #T_367f5_row10_col2, #T_367f5_row10_col16, #T_367f5_row11_col18, #T_367f5_row12_col8, #T_367f5_row12_col16, #T_367f5_row15_col9, #T_367f5_row17_col6 {\n",
              "  background-color: #fee5d8;\n",
              "  color: #000000;\n",
              "}\n",
              "#T_367f5_row2_col1 {\n",
              "  background-color: #f96245;\n",
              "  color: #f1f1f1;\n",
              "}\n",
              "#T_367f5_row2_col3 {\n",
              "  background-color: #fcad90;\n",
              "  color: #000000;\n",
              "}\n",
              "#T_367f5_row2_col6, #T_367f5_row4_col10, #T_367f5_row6_col19 {\n",
              "  background-color: #ffece4;\n",
              "  color: #000000;\n",
              "}\n",
              "#T_367f5_row2_col8, #T_367f5_row3_col14, #T_367f5_row4_col1, #T_367f5_row5_col4, #T_367f5_row6_col16, #T_367f5_row10_col20, #T_367f5_row11_col8, #T_367f5_row17_col14 {\n",
              "  background-color: #ffefe8;\n",
              "  color: #000000;\n",
              "}\n",
              "#T_367f5_row2_col14, #T_367f5_row2_col18, #T_367f5_row6_col13, #T_367f5_row8_col10, #T_367f5_row9_col7, #T_367f5_row10_col15, #T_367f5_row14_col6, #T_367f5_row15_col16, #T_367f5_row16_col6, #T_367f5_row17_col7, #T_367f5_row18_col13 {\n",
              "  background-color: #feeae0;\n",
              "  color: #000000;\n",
              "}\n",
              "#T_367f5_row2_col17 {\n",
              "  background-color: #fca78b;\n",
              "  color: #000000;\n",
              "}\n",
              "#T_367f5_row3_col2 {\n",
              "  background-color: #fcc2aa;\n",
              "  color: #000000;\n",
              "}\n",
              "#T_367f5_row3_col5, #T_367f5_row5_col11 {\n",
              "  background-color: #fcb99f;\n",
              "  color: #000000;\n",
              "}\n",
              "#T_367f5_row3_col11, #T_367f5_row5_col17, #T_367f5_row11_col3 {\n",
              "  background-color: #fcb89e;\n",
              "  color: #000000;\n",
              "}\n",
              "#T_367f5_row3_col13, #T_367f5_row8_col2, #T_367f5_row9_col1, #T_367f5_row9_col14, #T_367f5_row10_col18, #T_367f5_row11_col13, #T_367f5_row13_col16, #T_367f5_row16_col9 {\n",
              "  background-color: #ffede5;\n",
              "  color: #000000;\n",
              "}\n",
              "#T_367f5_row3_col17, #T_367f5_row17_col3 {\n",
              "  background-color: #800610;\n",
              "  color: #f1f1f1;\n",
              "}\n",
              "#T_367f5_row3_col20, #T_367f5_row5_col12, #T_367f5_row5_col20, #T_367f5_row6_col0, #T_367f5_row8_col0, #T_367f5_row11_col20, #T_367f5_row14_col0, #T_367f5_row17_col20, #T_367f5_row20_col0 {\n",
              "  background-color: #fff2ec;\n",
              "  color: #000000;\n",
              "}\n",
              "#T_367f5_row4_col7, #T_367f5_row5_col0, #T_367f5_row6_col10, #T_367f5_row9_col2, #T_367f5_row9_col10, #T_367f5_row10_col9, #T_367f5_row16_col0 {\n",
              "  background-color: #fff2eb;\n",
              "  color: #000000;\n",
              "}\n",
              "#T_367f5_row4_col13, #T_367f5_row9_col15, #T_367f5_row13_col7, #T_367f5_row13_col19 {\n",
              "  background-color: #fee8dd;\n",
              "  color: #000000;\n",
              "}\n",
              "#T_367f5_row4_col18, #T_367f5_row6_col8, #T_367f5_row9_col17, #T_367f5_row16_col7, #T_367f5_row16_col19, #T_367f5_row18_col17, #T_367f5_row19_col17 {\n",
              "  background-color: #fdd2bf;\n",
              "  color: #000000;\n",
              "}\n",
              "#T_367f5_row5_col3 {\n",
              "  background-color: #fcb296;\n",
              "  color: #000000;\n",
              "}\n",
              "#T_367f5_row5_col10, #T_367f5_row15_col10, #T_367f5_row15_col19, #T_367f5_row15_col20 {\n",
              "  background-color: #fee7db;\n",
              "  color: #000000;\n",
              "}\n",
              "#T_367f5_row5_col14, #T_367f5_row17_col19 {\n",
              "  background-color: #ffeee6;\n",
              "  color: #000000;\n",
              "}\n",
              "#T_367f5_row6_col2, #T_367f5_row10_col6, #T_367f5_row10_col12, #T_367f5_row10_col14, #T_367f5_row11_col7, #T_367f5_row11_col9, #T_367f5_row11_col14, #T_367f5_row13_col14, #T_367f5_row15_col0, #T_367f5_row16_col8 {\n",
              "  background-color: #fff0e9;\n",
              "  color: #000000;\n",
              "}\n",
              "#T_367f5_row6_col4, #T_367f5_row19_col1 {\n",
              "  background-color: #fdcebb;\n",
              "  color: #000000;\n",
              "}\n",
              "#T_367f5_row6_col9, #T_367f5_row9_col6 {\n",
              "  background-color: #fb7757;\n",
              "  color: #f1f1f1;\n",
              "}\n",
              "#T_367f5_row7_col3 {\n",
              "  background-color: #fdd0bc;\n",
              "  color: #000000;\n",
              "}\n",
              "#T_367f5_row7_col4, #T_367f5_row8_col4, #T_367f5_row14_col17, #T_367f5_row15_col1, #T_367f5_row19_col9 {\n",
              "  background-color: #fed8c7;\n",
              "  color: #000000;\n",
              "}\n",
              "#T_367f5_row7_col9, #T_367f5_row8_col14, #T_367f5_row12_col11, #T_367f5_row20_col9 {\n",
              "  background-color: #fedecf;\n",
              "  color: #000000;\n",
              "}\n",
              "#T_367f5_row7_col11, #T_367f5_row10_col11 {\n",
              "  background-color: #fdd7c6;\n",
              "  color: #000000;\n",
              "}\n",
              "#T_367f5_row7_col12, #T_367f5_row13_col4, #T_367f5_row19_col3 {\n",
              "  background-color: #fdd4c2;\n",
              "  color: #000000;\n",
              "}\n",
              "#T_367f5_row7_col14, #T_367f5_row19_col14 {\n",
              "  background-color: #fdc5ae;\n",
              "  color: #000000;\n",
              "}\n",
              "#T_367f5_row7_col16, #T_367f5_row7_col20, #T_367f5_row8_col6, #T_367f5_row9_col4, #T_367f5_row19_col16 {\n",
              "  background-color: #fdc9b3;\n",
              "  color: #000000;\n",
              "}\n",
              "#T_367f5_row7_col17, #T_367f5_row18_col4, #T_367f5_row20_col1 {\n",
              "  background-color: #fdcbb6;\n",
              "  color: #000000;\n",
              "}\n",
              "#T_367f5_row8_col3, #T_367f5_row14_col7, #T_367f5_row14_col19, #T_367f5_row20_col7 {\n",
              "  background-color: #fdcab5;\n",
              "  color: #000000;\n",
              "}\n",
              "#T_367f5_row8_col9 {\n",
              "  background-color: #fcbfa7;\n",
              "  color: #000000;\n",
              "}\n",
              "#T_367f5_row8_col11, #T_367f5_row12_col15, #T_367f5_row13_col3, #T_367f5_row13_col11, #T_367f5_row19_col15 {\n",
              "  background-color: #fedfd0;\n",
              "  color: #000000;\n",
              "}\n",
              "#T_367f5_row8_col17 {\n",
              "  background-color: #fdc6b0;\n",
              "  color: #000000;\n",
              "}\n",
              "#T_367f5_row8_col18, #T_367f5_row10_col1 {\n",
              "  background-color: #fdccb8;\n",
              "  color: #000000;\n",
              "}\n",
              "#T_367f5_row9_col5, #T_367f5_row13_col10, #T_367f5_row18_col5 {\n",
              "  background-color: #fee3d6;\n",
              "  color: #000000;\n",
              "}\n",
              "#T_367f5_row9_col8 {\n",
              "  background-color: #fdc7b2;\n",
              "  color: #000000;\n",
              "}\n",
              "#T_367f5_row9_col18 {\n",
              "  background-color: #f96346;\n",
              "  color: #f1f1f1;\n",
              "}\n",
              "#T_367f5_row11_col5, #T_367f5_row17_col5 {\n",
              "  background-color: #fcc1a8;\n",
              "  color: #000000;\n",
              "}\n",
              "#T_367f5_row11_col17 {\n",
              "  background-color: #fcbca2;\n",
              "  color: #000000;\n",
              "}\n",
              "#T_367f5_row12_col1 {\n",
              "  background-color: #fdd1be;\n",
              "  color: #000000;\n",
              "}\n",
              "#T_367f5_row12_col7, #T_367f5_row16_col1 {\n",
              "  background-color: #fdd3c1;\n",
              "  color: #000000;\n",
              "}\n",
              "#T_367f5_row12_col9 {\n",
              "  background-color: #fcc4ad;\n",
              "  color: #000000;\n",
              "}\n",
              "#T_367f5_row12_col14 {\n",
              "  background-color: #fcb69b;\n",
              "  color: #000000;\n",
              "}\n",
              "#T_367f5_row12_col18 {\n",
              "  background-color: #fdcdb9;\n",
              "  color: #000000;\n",
              "}\n",
              "#T_367f5_row12_col19, #T_367f5_row17_col11 {\n",
              "  background-color: #fcbda4;\n",
              "  color: #000000;\n",
              "}\n",
              "#T_367f5_row12_col20 {\n",
              "  background-color: #fca285;\n",
              "  color: #000000;\n",
              "}\n",
              "#T_367f5_row14_col12 {\n",
              "  background-color: #fcbba1;\n",
              "  color: #000000;\n",
              "}\n",
              "#T_367f5_row14_col16, #T_367f5_row20_col16 {\n",
              "  background-color: #fc9879;\n",
              "  color: #000000;\n",
              "}\n",
              "#T_367f5_row16_col14 {\n",
              "  background-color: #fc9d7f;\n",
              "  color: #000000;\n",
              "}\n",
              "#T_367f5_row16_col20 {\n",
              "  background-color: #fca082;\n",
              "  color: #000000;\n",
              "}\n",
              "#T_367f5_row17_col2, #T_367f5_row19_col12 {\n",
              "  background-color: #fcbea5;\n",
              "  color: #000000;\n",
              "}\n",
              "#T_367f5_row18_col9 {\n",
              "  background-color: #fb6c4c;\n",
              "  color: #f1f1f1;\n",
              "}\n",
              "#T_367f5_row19_col20 {\n",
              "  background-color: #fcaa8d;\n",
              "  color: #000000;\n",
              "}\n",
              "#T_367f5_row20_col12 {\n",
              "  background-color: #fca486;\n",
              "  color: #000000;\n",
              "}\n",
              "#T_367f5_row20_col19 {\n",
              "  background-color: #fcab8f;\n",
              "  color: #000000;\n",
              "}\n",
              "</style>\n",
              "<table id=\"T_367f5_\" class=\"dataframe\">\n",
              "  <thead>\n",
              "    <tr>\n",
              "      <th class=\"blank level0\" >&nbsp;</th>\n",
              "      <th class=\"col_heading level0 col0\" >case_id</th>\n",
              "      <th class=\"col_heading level0 col1\" >Target90Days</th>\n",
              "      <th class=\"col_heading level0 col2\" >TargetAmount90Days</th>\n",
              "      <th class=\"col_heading level0 col3\" >OriginalCapitalOfCaseInvoices</th>\n",
              "      <th class=\"col_heading level0 col4\" >IndustryCode</th>\n",
              "      <th class=\"col_heading level0 col5\" >ClientName</th>\n",
              "      <th class=\"col_heading level0 col6\" >NumberOfUnsuccessfullyClosedCustomerCasesLast36Months</th>\n",
              "      <th class=\"col_heading level0 col7\" >AmountOfCustomerPaymentsOnAllCasesBlevel</th>\n",
              "      <th class=\"col_heading level0 col8\" >AmountOfCustomerOpenCases</th>\n",
              "      <th class=\"col_heading level0 col9\" >NumberOfTelephonesCI</th>\n",
              "      <th class=\"col_heading level0 col10\" >RatioOfCustomersAtAddressWithSuccessfullyClosedCasesLast36Months</th>\n",
              "      <th class=\"col_heading level0 col11\" >AgeOfDebt</th>\n",
              "      <th class=\"col_heading level0 col12\" >NumberOfCustomerIncomingCallDatesTee</th>\n",
              "      <th class=\"col_heading level0 col13\" >CustomerAge</th>\n",
              "      <th class=\"col_heading level0 col14\" >NumberOfCustomerPaymentsInLast12Months</th>\n",
              "      <th class=\"col_heading level0 col15\" >LastOriginalClosingCodeOfCustomer</th>\n",
              "      <th class=\"col_heading level0 col16\" >NumberOfSuccessfullyClosedCasesInLast24Months</th>\n",
              "      <th class=\"col_heading level0 col17\" >AmountOfCase</th>\n",
              "      <th class=\"col_heading level0 col18\" >NumberOfUnsuccessfullyClosedCustomerCasesLast36Months </th>\n",
              "      <th class=\"col_heading level0 col19\" >AmountOfCustomerPaymentsOnAllCasesBlevel </th>\n",
              "      <th class=\"col_heading level0 col20\" >NumberOfCustomerPaymentsInLast12Months </th>\n",
              "    </tr>\n",
              "  </thead>\n",
              "  <tbody>\n",
              "    <tr>\n",
              "      <th id=\"T_367f5_level0_row0\" class=\"row_heading level0 row0\" >case_id</th>\n",
              "      <td id=\"T_367f5_row0_col0\" class=\"data row0 col0\" >1.000000</td>\n",
              "      <td id=\"T_367f5_row0_col1\" class=\"data row0 col1\" >-0.003822</td>\n",
              "      <td id=\"T_367f5_row0_col2\" class=\"data row0 col2\" >-0.001785</td>\n",
              "      <td id=\"T_367f5_row0_col3\" class=\"data row0 col3\" >-0.001834</td>\n",
              "      <td id=\"T_367f5_row0_col4\" class=\"data row0 col4\" >0.003147</td>\n",
              "      <td id=\"T_367f5_row0_col5\" class=\"data row0 col5\" >0.012564</td>\n",
              "      <td id=\"T_367f5_row0_col6\" class=\"data row0 col6\" >0.006916</td>\n",
              "      <td id=\"T_367f5_row0_col7\" class=\"data row0 col7\" >-0.010089</td>\n",
              "      <td id=\"T_367f5_row0_col8\" class=\"data row0 col8\" >0.006208</td>\n",
              "      <td id=\"T_367f5_row0_col9\" class=\"data row0 col9\" >0.004343</td>\n",
              "      <td id=\"T_367f5_row0_col10\" class=\"data row0 col10\" >-0.006132</td>\n",
              "      <td id=\"T_367f5_row0_col11\" class=\"data row0 col11\" >0.001337</td>\n",
              "      <td id=\"T_367f5_row0_col12\" class=\"data row0 col12\" >0.002666</td>\n",
              "      <td id=\"T_367f5_row0_col13\" class=\"data row0 col13\" >0.003300</td>\n",
              "      <td id=\"T_367f5_row0_col14\" class=\"data row0 col14\" >0.009187</td>\n",
              "      <td id=\"T_367f5_row0_col15\" class=\"data row0 col15\" >0.018333</td>\n",
              "      <td id=\"T_367f5_row0_col16\" class=\"data row0 col16\" >0.011761</td>\n",
              "      <td id=\"T_367f5_row0_col17\" class=\"data row0 col17\" >-0.002248</td>\n",
              "      <td id=\"T_367f5_row0_col18\" class=\"data row0 col18\" >0.002479</td>\n",
              "      <td id=\"T_367f5_row0_col19\" class=\"data row0 col19\" >-0.003816</td>\n",
              "      <td id=\"T_367f5_row0_col20\" class=\"data row0 col20\" >0.008324</td>\n",
              "    </tr>\n",
              "    <tr>\n",
              "      <th id=\"T_367f5_level0_row1\" class=\"row_heading level0 row1\" >Target90Days</th>\n",
              "      <td id=\"T_367f5_row1_col0\" class=\"data row1 col0\" >-0.003822</td>\n",
              "      <td id=\"T_367f5_row1_col1\" class=\"data row1 col1\" >1.000000</td>\n",
              "      <td id=\"T_367f5_row1_col2\" class=\"data row1 col2\" >0.454981</td>\n",
              "      <td id=\"T_367f5_row1_col3\" class=\"data row1 col3\" >-0.031666</td>\n",
              "      <td id=\"T_367f5_row1_col4\" class=\"data row1 col4\" >-0.098535</td>\n",
              "      <td id=\"T_367f5_row1_col5\" class=\"data row1 col5\" >-0.007864</td>\n",
              "      <td id=\"T_367f5_row1_col6\" class=\"data row1 col6\" >-0.091394</td>\n",
              "      <td id=\"T_367f5_row1_col7\" class=\"data row1 col7\" >0.021060</td>\n",
              "      <td id=\"T_367f5_row1_col8\" class=\"data row1 col8\" >-0.051461</td>\n",
              "      <td id=\"T_367f5_row1_col9\" class=\"data row1 col9\" >-0.085011</td>\n",
              "      <td id=\"T_367f5_row1_col10\" class=\"data row1 col10\" >0.080477</td>\n",
              "      <td id=\"T_367f5_row1_col11\" class=\"data row1 col11\" >0.024598</td>\n",
              "      <td id=\"T_367f5_row1_col12\" class=\"data row1 col12\" >0.064768</td>\n",
              "      <td id=\"T_367f5_row1_col13\" class=\"data row1 col13\" >0.043934</td>\n",
              "      <td id=\"T_367f5_row1_col14\" class=\"data row1 col14\" >0.032738</td>\n",
              "      <td id=\"T_367f5_row1_col15\" class=\"data row1 col15\" >0.038491</td>\n",
              "      <td id=\"T_367f5_row1_col16\" class=\"data row1 col16\" >0.052054</td>\n",
              "      <td id=\"T_367f5_row1_col17\" class=\"data row1 col17\" >-0.030036</td>\n",
              "      <td id=\"T_367f5_row1_col18\" class=\"data row1 col18\" >-0.139486</td>\n",
              "      <td id=\"T_367f5_row1_col19\" class=\"data row1 col19\" >0.071863</td>\n",
              "      <td id=\"T_367f5_row1_col20\" class=\"data row1 col20\" >0.085676</td>\n",
              "    </tr>\n",
              "    <tr>\n",
              "      <th id=\"T_367f5_level0_row2\" class=\"row_heading level0 row2\" >TargetAmount90Days</th>\n",
              "      <td id=\"T_367f5_row2_col0\" class=\"data row2 col0\" >-0.001785</td>\n",
              "      <td id=\"T_367f5_row2_col1\" class=\"data row2 col1\" >0.454981</td>\n",
              "      <td id=\"T_367f5_row2_col2\" class=\"data row2 col2\" >1.000000</td>\n",
              "      <td id=\"T_367f5_row2_col3\" class=\"data row2 col3\" >0.178123</td>\n",
              "      <td id=\"T_367f5_row2_col4\" class=\"data row2 col4\" >-0.054635</td>\n",
              "      <td id=\"T_367f5_row2_col5\" class=\"data row2 col5\" >0.001953</td>\n",
              "      <td id=\"T_367f5_row2_col6\" class=\"data row2 col6\" >-0.032645</td>\n",
              "      <td id=\"T_367f5_row2_col7\" class=\"data row2 col7\" >0.045214</td>\n",
              "      <td id=\"T_367f5_row2_col8\" class=\"data row2 col8\" >-0.012141</td>\n",
              "      <td id=\"T_367f5_row2_col9\" class=\"data row2 col9\" >-0.042489</td>\n",
              "      <td id=\"T_367f5_row2_col10\" class=\"data row2 col10\" >0.042254</td>\n",
              "      <td id=\"T_367f5_row2_col11\" class=\"data row2 col11\" >0.011710</td>\n",
              "      <td id=\"T_367f5_row2_col12\" class=\"data row2 col12\" >0.024039</td>\n",
              "      <td id=\"T_367f5_row2_col13\" class=\"data row2 col13\" >0.026201</td>\n",
              "      <td id=\"T_367f5_row2_col14\" class=\"data row2 col14\" >0.036354</td>\n",
              "      <td id=\"T_367f5_row2_col15\" class=\"data row2 col15\" >0.018637</td>\n",
              "      <td id=\"T_367f5_row2_col16\" class=\"data row2 col16\" >0.024990</td>\n",
              "      <td id=\"T_367f5_row2_col17\" class=\"data row2 col17\" >0.189968</td>\n",
              "      <td id=\"T_367f5_row2_col18\" class=\"data row2 col18\" >-0.063527</td>\n",
              "      <td id=\"T_367f5_row2_col19\" class=\"data row2 col19\" >0.063977</td>\n",
              "      <td id=\"T_367f5_row2_col20\" class=\"data row2 col20\" >0.059288</td>\n",
              "    </tr>\n",
              "    <tr>\n",
              "      <th id=\"T_367f5_level0_row3\" class=\"row_heading level0 row3\" >OriginalCapitalOfCaseInvoices</th>\n",
              "      <td id=\"T_367f5_row3_col0\" class=\"data row3 col0\" >-0.001834</td>\n",
              "      <td id=\"T_367f5_row3_col1\" class=\"data row3 col1\" >-0.031666</td>\n",
              "      <td id=\"T_367f5_row3_col2\" class=\"data row3 col2\" >0.178123</td>\n",
              "      <td id=\"T_367f5_row3_col3\" class=\"data row3 col3\" >1.000000</td>\n",
              "      <td id=\"T_367f5_row3_col4\" class=\"data row3 col4\" >-0.163689</td>\n",
              "      <td id=\"T_367f5_row3_col5\" class=\"data row3 col5\" >0.160152</td>\n",
              "      <td id=\"T_367f5_row3_col6\" class=\"data row3 col6\" >0.013388</td>\n",
              "      <td id=\"T_367f5_row3_col7\" class=\"data row3 col7\" >0.049563</td>\n",
              "      <td id=\"T_367f5_row3_col8\" class=\"data row3 col8\" >0.072639</td>\n",
              "      <td id=\"T_367f5_row3_col9\" class=\"data row3 col9\" >0.024220</td>\n",
              "      <td id=\"T_367f5_row3_col10\" class=\"data row3 col10\" >0.005935</td>\n",
              "      <td id=\"T_367f5_row3_col11\" class=\"data row3 col11\" >0.137680</td>\n",
              "      <td id=\"T_367f5_row3_col12\" class=\"data row3 col12\" >-0.001509</td>\n",
              "      <td id=\"T_367f5_row3_col13\" class=\"data row3 col13\" >-0.011059</td>\n",
              "      <td id=\"T_367f5_row3_col14\" class=\"data row3 col14\" >0.004407</td>\n",
              "      <td id=\"T_367f5_row3_col15\" class=\"data row3 col15\" >0.000723</td>\n",
              "      <td id=\"T_367f5_row3_col16\" class=\"data row3 col16\" >0.004901</td>\n",
              "      <td id=\"T_367f5_row3_col17\" class=\"data row3 col17\" >0.936868</td>\n",
              "      <td id=\"T_367f5_row3_col18\" class=\"data row3 col18\" >0.024042</td>\n",
              "      <td id=\"T_367f5_row3_col19\" class=\"data row3 col19\" >0.030555</td>\n",
              "      <td id=\"T_367f5_row3_col20\" class=\"data row3 col20\" >0.001665</td>\n",
              "    </tr>\n",
              "    <tr>\n",
              "      <th id=\"T_367f5_level0_row4\" class=\"row_heading level0 row4\" >IndustryCode</th>\n",
              "      <td id=\"T_367f5_row4_col0\" class=\"data row4 col0\" >0.003147</td>\n",
              "      <td id=\"T_367f5_row4_col1\" class=\"data row4 col1\" >-0.098535</td>\n",
              "      <td id=\"T_367f5_row4_col2\" class=\"data row4 col2\" >-0.054635</td>\n",
              "      <td id=\"T_367f5_row4_col3\" class=\"data row4 col3\" >-0.163689</td>\n",
              "      <td id=\"T_367f5_row4_col4\" class=\"data row4 col4\" >1.000000</td>\n",
              "      <td id=\"T_367f5_row4_col5\" class=\"data row4 col5\" >-0.128884</td>\n",
              "      <td id=\"T_367f5_row4_col6\" class=\"data row4 col6\" >0.043650</td>\n",
              "      <td id=\"T_367f5_row4_col7\" class=\"data row4 col7\" >0.011196</td>\n",
              "      <td id=\"T_367f5_row4_col8\" class=\"data row4 col8\" >0.009015</td>\n",
              "      <td id=\"T_367f5_row4_col9\" class=\"data row4 col9\" >0.068798</td>\n",
              "      <td id=\"T_367f5_row4_col10\" class=\"data row4 col10\" >-0.024728</td>\n",
              "      <td id=\"T_367f5_row4_col11\" class=\"data row4 col11\" >-0.164296</td>\n",
              "      <td id=\"T_367f5_row4_col12\" class=\"data row4 col12\" >0.016911</td>\n",
              "      <td id=\"T_367f5_row4_col13\" class=\"data row4 col13\" >0.021626</td>\n",
              "      <td id=\"T_367f5_row4_col14\" class=\"data row4 col14\" >-0.006738</td>\n",
              "      <td id=\"T_367f5_row4_col15\" class=\"data row4 col15\" >0.006590</td>\n",
              "      <td id=\"T_367f5_row4_col16\" class=\"data row4 col16\" >-0.029855</td>\n",
              "      <td id=\"T_367f5_row4_col17\" class=\"data row4 col17\" >-0.171586</td>\n",
              "      <td id=\"T_367f5_row4_col18\" class=\"data row4 col18\" >0.058244</td>\n",
              "      <td id=\"T_367f5_row4_col19\" class=\"data row4 col19\" >0.000662</td>\n",
              "      <td id=\"T_367f5_row4_col20\" class=\"data row4 col20\" >-0.010551</td>\n",
              "    </tr>\n",
              "    <tr>\n",
              "      <th id=\"T_367f5_level0_row5\" class=\"row_heading level0 row5\" >ClientName</th>\n",
              "      <td id=\"T_367f5_row5_col0\" class=\"data row5 col0\" >0.012564</td>\n",
              "      <td id=\"T_367f5_row5_col1\" class=\"data row5 col1\" >-0.007864</td>\n",
              "      <td id=\"T_367f5_row5_col2\" class=\"data row5 col2\" >0.001953</td>\n",
              "      <td id=\"T_367f5_row5_col3\" class=\"data row5 col3\" >0.160152</td>\n",
              "      <td id=\"T_367f5_row5_col4\" class=\"data row5 col4\" >-0.128884</td>\n",
              "      <td id=\"T_367f5_row5_col5\" class=\"data row5 col5\" >1.000000</td>\n",
              "      <td id=\"T_367f5_row5_col6\" class=\"data row5 col6\" >-0.011622</td>\n",
              "      <td id=\"T_367f5_row5_col7\" class=\"data row5 col7\" >-0.010489</td>\n",
              "      <td id=\"T_367f5_row5_col8\" class=\"data row5 col8\" >0.007142</td>\n",
              "      <td id=\"T_367f5_row5_col9\" class=\"data row5 col9\" >-0.005134</td>\n",
              "      <td id=\"T_367f5_row5_col10\" class=\"data row5 col10\" >0.012561</td>\n",
              "      <td id=\"T_367f5_row5_col11\" class=\"data row5 col11\" >0.132040</td>\n",
              "      <td id=\"T_367f5_row5_col12\" class=\"data row5 col12\" >0.007528</td>\n",
              "      <td id=\"T_367f5_row5_col13\" class=\"data row5 col13\" >-0.064174</td>\n",
              "      <td id=\"T_367f5_row5_col14\" class=\"data row5 col14\" >0.013068</td>\n",
              "      <td id=\"T_367f5_row5_col15\" class=\"data row5 col15\" >0.004339</td>\n",
              "      <td id=\"T_367f5_row5_col16\" class=\"data row5 col16\" >0.008766</td>\n",
              "      <td id=\"T_367f5_row5_col17\" class=\"data row5 col17\" >0.134920</td>\n",
              "      <td id=\"T_367f5_row5_col18\" class=\"data row5 col18\" >-0.004912</td>\n",
              "      <td id=\"T_367f5_row5_col19\" class=\"data row5 col19\" >-0.012501</td>\n",
              "      <td id=\"T_367f5_row5_col20\" class=\"data row5 col20\" >0.001191</td>\n",
              "    </tr>\n",
              "    <tr>\n",
              "      <th id=\"T_367f5_level0_row6\" class=\"row_heading level0 row6\" >NumberOfUnsuccessfullyClosedCustomerCasesLast36Months</th>\n",
              "      <td id=\"T_367f5_row6_col0\" class=\"data row6 col0\" >0.006916</td>\n",
              "      <td id=\"T_367f5_row6_col1\" class=\"data row6 col1\" >-0.091394</td>\n",
              "      <td id=\"T_367f5_row6_col2\" class=\"data row6 col2\" >-0.032645</td>\n",
              "      <td id=\"T_367f5_row6_col3\" class=\"data row6 col3\" >0.013388</td>\n",
              "      <td id=\"T_367f5_row6_col4\" class=\"data row6 col4\" >0.043650</td>\n",
              "      <td id=\"T_367f5_row6_col5\" class=\"data row6 col5\" >-0.011622</td>\n",
              "      <td id=\"T_367f5_row6_col6\" class=\"data row6 col6\" >1.000000</td>\n",
              "      <td id=\"T_367f5_row6_col7\" class=\"data row6 col7\" >-0.011612</td>\n",
              "      <td id=\"T_367f5_row6_col8\" class=\"data row6 col8\" >0.130877</td>\n",
              "      <td id=\"T_367f5_row6_col9\" class=\"data row6 col9\" >0.411154</td>\n",
              "      <td id=\"T_367f5_row6_col10\" class=\"data row6 col10\" >-0.061152</td>\n",
              "      <td id=\"T_367f5_row6_col11\" class=\"data row6 col11\" >-0.021950</td>\n",
              "      <td id=\"T_367f5_row6_col12\" class=\"data row6 col12\" >0.084930</td>\n",
              "      <td id=\"T_367f5_row6_col13\" class=\"data row6 col13\" >0.008482</td>\n",
              "      <td id=\"T_367f5_row6_col14\" class=\"data row6 col14\" >-0.016120</td>\n",
              "      <td id=\"T_367f5_row6_col15\" class=\"data row6 col15\" >0.040357</td>\n",
              "      <td id=\"T_367f5_row6_col16\" class=\"data row6 col16\" >-0.017165</td>\n",
              "      <td id=\"T_367f5_row6_col17\" class=\"data row6 col17\" >0.017166</td>\n",
              "      <td id=\"T_367f5_row6_col18\" class=\"data row6 col18\" >1.000000</td>\n",
              "      <td id=\"T_367f5_row6_col19\" class=\"data row6 col19\" >0.041894</td>\n",
              "      <td id=\"T_367f5_row6_col20\" class=\"data row6 col20\" >0.041425</td>\n",
              "    </tr>\n",
              "    <tr>\n",
              "      <th id=\"T_367f5_level0_row7\" class=\"row_heading level0 row7\" >AmountOfCustomerPaymentsOnAllCasesBlevel</th>\n",
              "      <td id=\"T_367f5_row7_col0\" class=\"data row7 col0\" >-0.010089</td>\n",
              "      <td id=\"T_367f5_row7_col1\" class=\"data row7 col1\" >0.021060</td>\n",
              "      <td id=\"T_367f5_row7_col2\" class=\"data row7 col2\" >0.045214</td>\n",
              "      <td id=\"T_367f5_row7_col3\" class=\"data row7 col3\" >0.049563</td>\n",
              "      <td id=\"T_367f5_row7_col4\" class=\"data row7 col4\" >0.011196</td>\n",
              "      <td id=\"T_367f5_row7_col5\" class=\"data row7 col5\" >-0.010489</td>\n",
              "      <td id=\"T_367f5_row7_col6\" class=\"data row7 col6\" >-0.011612</td>\n",
              "      <td id=\"T_367f5_row7_col7\" class=\"data row7 col7\" >1.000000</td>\n",
              "      <td id=\"T_367f5_row7_col8\" class=\"data row7 col8\" >0.081726</td>\n",
              "      <td id=\"T_367f5_row7_col9\" class=\"data row7 col9\" >0.059241</td>\n",
              "      <td id=\"T_367f5_row7_col10\" class=\"data row7 col10\" >0.054399</td>\n",
              "      <td id=\"T_367f5_row7_col11\" class=\"data row7 col11\" >0.017833</td>\n",
              "      <td id=\"T_367f5_row7_col12\" class=\"data row7 col12\" >0.159578</td>\n",
              "      <td id=\"T_367f5_row7_col13\" class=\"data row7 col13\" >0.068427</td>\n",
              "      <td id=\"T_367f5_row7_col14\" class=\"data row7 col14\" >0.191491</td>\n",
              "      <td id=\"T_367f5_row7_col15\" class=\"data row7 col15\" >0.048018</td>\n",
              "      <td id=\"T_367f5_row7_col16\" class=\"data row7 col16\" >0.162478</td>\n",
              "      <td id=\"T_367f5_row7_col17\" class=\"data row7 col17\" >0.058658</td>\n",
              "      <td id=\"T_367f5_row7_col18\" class=\"data row7 col18\" >-0.006251</td>\n",
              "      <td id=\"T_367f5_row7_col19\" class=\"data row7 col19\" >1.000000</td>\n",
              "      <td id=\"T_367f5_row7_col20\" class=\"data row7 col20\" >0.191602</td>\n",
              "    </tr>\n",
              "    <tr>\n",
              "      <th id=\"T_367f5_level0_row8\" class=\"row_heading level0 row8\" >AmountOfCustomerOpenCases</th>\n",
              "      <td id=\"T_367f5_row8_col0\" class=\"data row8 col0\" >0.006208</td>\n",
              "      <td id=\"T_367f5_row8_col1\" class=\"data row8 col1\" >-0.051461</td>\n",
              "      <td id=\"T_367f5_row8_col2\" class=\"data row8 col2\" >-0.012141</td>\n",
              "      <td id=\"T_367f5_row8_col3\" class=\"data row8 col3\" >0.072639</td>\n",
              "      <td id=\"T_367f5_row8_col4\" class=\"data row8 col4\" >0.009015</td>\n",
              "      <td id=\"T_367f5_row8_col5\" class=\"data row8 col5\" >0.007142</td>\n",
              "      <td id=\"T_367f5_row8_col6\" class=\"data row8 col6\" >0.130877</td>\n",
              "      <td id=\"T_367f5_row8_col7\" class=\"data row8 col7\" >0.081726</td>\n",
              "      <td id=\"T_367f5_row8_col8\" class=\"data row8 col8\" >1.000000</td>\n",
              "      <td id=\"T_367f5_row8_col9\" class=\"data row8 col9\" >0.170135</td>\n",
              "      <td id=\"T_367f5_row8_col10\" class=\"data row8 col10\" >-0.009219</td>\n",
              "      <td id=\"T_367f5_row8_col11\" class=\"data row8 col11\" >-0.013972</td>\n",
              "      <td id=\"T_367f5_row8_col12\" class=\"data row8 col12\" >0.052982</td>\n",
              "      <td id=\"T_367f5_row8_col13\" class=\"data row8 col13\" >0.045030</td>\n",
              "      <td id=\"T_367f5_row8_col14\" class=\"data row8 col14\" >0.106701</td>\n",
              "      <td id=\"T_367f5_row8_col15\" class=\"data row8 col15\" >0.014733</td>\n",
              "      <td id=\"T_367f5_row8_col16\" class=\"data row8 col16\" >-0.020135</td>\n",
              "      <td id=\"T_367f5_row8_col17\" class=\"data row8 col17\" >0.078220</td>\n",
              "      <td id=\"T_367f5_row8_col18\" class=\"data row8 col18\" >0.081492</td>\n",
              "      <td id=\"T_367f5_row8_col19\" class=\"data row8 col19\" >0.046263</td>\n",
              "      <td id=\"T_367f5_row8_col20\" class=\"data row8 col20\" >0.060501</td>\n",
              "    </tr>\n",
              "    <tr>\n",
              "      <th id=\"T_367f5_level0_row9\" class=\"row_heading level0 row9\" >NumberOfTelephonesCI</th>\n",
              "      <td id=\"T_367f5_row9_col0\" class=\"data row9 col0\" >0.004343</td>\n",
              "      <td id=\"T_367f5_row9_col1\" class=\"data row9 col1\" >-0.085011</td>\n",
              "      <td id=\"T_367f5_row9_col2\" class=\"data row9 col2\" >-0.042489</td>\n",
              "      <td id=\"T_367f5_row9_col3\" class=\"data row9 col3\" >0.024220</td>\n",
              "      <td id=\"T_367f5_row9_col4\" class=\"data row9 col4\" >0.068798</td>\n",
              "      <td id=\"T_367f5_row9_col5\" class=\"data row9 col5\" >-0.005134</td>\n",
              "      <td id=\"T_367f5_row9_col6\" class=\"data row9 col6\" >0.411154</td>\n",
              "      <td id=\"T_367f5_row9_col7\" class=\"data row9 col7\" >0.059241</td>\n",
              "      <td id=\"T_367f5_row9_col8\" class=\"data row9 col8\" >0.170135</td>\n",
              "      <td id=\"T_367f5_row9_col9\" class=\"data row9 col9\" >1.000000</td>\n",
              "      <td id=\"T_367f5_row9_col10\" class=\"data row9 col10\" >-0.061460</td>\n",
              "      <td id=\"T_367f5_row9_col11\" class=\"data row9 col11\" >-0.053748</td>\n",
              "      <td id=\"T_367f5_row9_col12\" class=\"data row9 col12\" >0.156082</td>\n",
              "      <td id=\"T_367f5_row9_col13\" class=\"data row9 col13\" >0.069567</td>\n",
              "      <td id=\"T_367f5_row9_col14\" class=\"data row9 col14\" >0.018873</td>\n",
              "      <td id=\"T_367f5_row9_col15\" class=\"data row9 col15\" >0.022073</td>\n",
              "      <td id=\"T_367f5_row9_col16\" class=\"data row9 col16\" >-0.030447</td>\n",
              "      <td id=\"T_367f5_row9_col17\" class=\"data row9 col17\" >0.033473</td>\n",
              "      <td id=\"T_367f5_row9_col18\" class=\"data row9 col18\" >0.451956</td>\n",
              "      <td id=\"T_367f5_row9_col19\" class=\"data row9 col19\" >0.083638</td>\n",
              "      <td id=\"T_367f5_row9_col20\" class=\"data row9 col20\" >0.060384</td>\n",
              "    </tr>\n",
              "    <tr>\n",
              "      <th id=\"T_367f5_level0_row10\" class=\"row_heading level0 row10\" >RatioOfCustomersAtAddressWithSuccessfullyClosedCasesLast36Months</th>\n",
              "      <td id=\"T_367f5_row10_col0\" class=\"data row10 col0\" >-0.006132</td>\n",
              "      <td id=\"T_367f5_row10_col1\" class=\"data row10 col1\" >0.080477</td>\n",
              "      <td id=\"T_367f5_row10_col2\" class=\"data row10 col2\" >0.042254</td>\n",
              "      <td id=\"T_367f5_row10_col3\" class=\"data row10 col3\" >0.005935</td>\n",
              "      <td id=\"T_367f5_row10_col4\" class=\"data row10 col4\" >-0.024728</td>\n",
              "      <td id=\"T_367f5_row10_col5\" class=\"data row10 col5\" >0.012561</td>\n",
              "      <td id=\"T_367f5_row10_col6\" class=\"data row10 col6\" >-0.061152</td>\n",
              "      <td id=\"T_367f5_row10_col7\" class=\"data row10 col7\" >0.054399</td>\n",
              "      <td id=\"T_367f5_row10_col8\" class=\"data row10 col8\" >-0.009219</td>\n",
              "      <td id=\"T_367f5_row10_col9\" class=\"data row10 col9\" >-0.061460</td>\n",
              "      <td id=\"T_367f5_row10_col10\" class=\"data row10 col10\" >1.000000</td>\n",
              "      <td id=\"T_367f5_row10_col11\" class=\"data row10 col11\" >0.019538</td>\n",
              "      <td id=\"T_367f5_row10_col12\" class=\"data row10 col12\" >0.020119</td>\n",
              "      <td id=\"T_367f5_row10_col13\" class=\"data row10 col13\" >0.038836</td>\n",
              "      <td id=\"T_367f5_row10_col14\" class=\"data row10 col14\" >-0.003450</td>\n",
              "      <td id=\"T_367f5_row10_col15\" class=\"data row10 col15\" >0.010712</td>\n",
              "      <td id=\"T_367f5_row10_col16\" class=\"data row10 col16\" >0.049969</td>\n",
              "      <td id=\"T_367f5_row10_col17\" class=\"data row10 col17\" >0.001011</td>\n",
              "      <td id=\"T_367f5_row10_col18\" class=\"data row10 col18\" >-0.083088</td>\n",
              "      <td id=\"T_367f5_row10_col19\" class=\"data row10 col19\" >0.054616</td>\n",
              "      <td id=\"T_367f5_row10_col20\" class=\"data row10 col20\" >0.022038</td>\n",
              "    </tr>\n",
              "    <tr>\n",
              "      <th id=\"T_367f5_level0_row11\" class=\"row_heading level0 row11\" >AgeOfDebt</th>\n",
              "      <td id=\"T_367f5_row11_col0\" class=\"data row11 col0\" >0.001337</td>\n",
              "      <td id=\"T_367f5_row11_col1\" class=\"data row11 col1\" >0.024598</td>\n",
              "      <td id=\"T_367f5_row11_col2\" class=\"data row11 col2\" >0.011710</td>\n",
              "      <td id=\"T_367f5_row11_col3\" class=\"data row11 col3\" >0.137680</td>\n",
              "      <td id=\"T_367f5_row11_col4\" class=\"data row11 col4\" >-0.164296</td>\n",
              "      <td id=\"T_367f5_row11_col5\" class=\"data row11 col5\" >0.132040</td>\n",
              "      <td id=\"T_367f5_row11_col6\" class=\"data row11 col6\" >-0.021950</td>\n",
              "      <td id=\"T_367f5_row11_col7\" class=\"data row11 col7\" >0.017833</td>\n",
              "      <td id=\"T_367f5_row11_col8\" class=\"data row11 col8\" >-0.013972</td>\n",
              "      <td id=\"T_367f5_row11_col9\" class=\"data row11 col9\" >-0.053748</td>\n",
              "      <td id=\"T_367f5_row11_col10\" class=\"data row11 col10\" >0.019538</td>\n",
              "      <td id=\"T_367f5_row11_col11\" class=\"data row11 col11\" >1.000000</td>\n",
              "      <td id=\"T_367f5_row11_col12\" class=\"data row11 col12\" >-0.009346</td>\n",
              "      <td id=\"T_367f5_row11_col13\" class=\"data row11 col13\" >-0.011730</td>\n",
              "      <td id=\"T_367f5_row11_col14\" class=\"data row11 col14\" >-0.002525</td>\n",
              "      <td id=\"T_367f5_row11_col15\" class=\"data row11 col15\" >-0.004355</td>\n",
              "      <td id=\"T_367f5_row11_col16\" class=\"data row11 col16\" >0.007965</td>\n",
              "      <td id=\"T_367f5_row11_col17\" class=\"data row11 col17\" >0.119246</td>\n",
              "      <td id=\"T_367f5_row11_col18\" class=\"data row11 col18\" >-0.025440</td>\n",
              "      <td id=\"T_367f5_row11_col19\" class=\"data row11 col19\" >0.011579</td>\n",
              "      <td id=\"T_367f5_row11_col20\" class=\"data row11 col20\" >-0.000973</td>\n",
              "    </tr>\n",
              "    <tr>\n",
              "      <th id=\"T_367f5_level0_row12\" class=\"row_heading level0 row12\" >NumberOfCustomerIncomingCallDatesTee</th>\n",
              "      <td id=\"T_367f5_row12_col0\" class=\"data row12 col0\" >0.002666</td>\n",
              "      <td id=\"T_367f5_row12_col1\" class=\"data row12 col1\" >0.064768</td>\n",
              "      <td id=\"T_367f5_row12_col2\" class=\"data row12 col2\" >0.024039</td>\n",
              "      <td id=\"T_367f5_row12_col3\" class=\"data row12 col3\" >-0.001509</td>\n",
              "      <td id=\"T_367f5_row12_col4\" class=\"data row12 col4\" >0.016911</td>\n",
              "      <td id=\"T_367f5_row12_col5\" class=\"data row12 col5\" >0.007528</td>\n",
              "      <td id=\"T_367f5_row12_col6\" class=\"data row12 col6\" >0.084930</td>\n",
              "      <td id=\"T_367f5_row12_col7\" class=\"data row12 col7\" >0.159578</td>\n",
              "      <td id=\"T_367f5_row12_col8\" class=\"data row12 col8\" >0.052982</td>\n",
              "      <td id=\"T_367f5_row12_col9\" class=\"data row12 col9\" >0.156082</td>\n",
              "      <td id=\"T_367f5_row12_col10\" class=\"data row12 col10\" >0.020119</td>\n",
              "      <td id=\"T_367f5_row12_col11\" class=\"data row12 col11\" >-0.009346</td>\n",
              "      <td id=\"T_367f5_row12_col12\" class=\"data row12 col12\" >1.000000</td>\n",
              "      <td id=\"T_367f5_row12_col13\" class=\"data row12 col13\" >0.051939</td>\n",
              "      <td id=\"T_367f5_row12_col14\" class=\"data row12 col14\" >0.244481</td>\n",
              "      <td id=\"T_367f5_row12_col15\" class=\"data row12 col15\" >0.074532</td>\n",
              "      <td id=\"T_367f5_row12_col16\" class=\"data row12 col16\" >0.049968</td>\n",
              "      <td id=\"T_367f5_row12_col17\" class=\"data row12 col17\" >0.000612</td>\n",
              "      <td id=\"T_367f5_row12_col18\" class=\"data row12 col18\" >0.076085</td>\n",
              "      <td id=\"T_367f5_row12_col19\" class=\"data row12 col19\" >0.233489</td>\n",
              "      <td id=\"T_367f5_row12_col20\" class=\"data row12 col20\" >0.315655</td>\n",
              "    </tr>\n",
              "    <tr>\n",
              "      <th id=\"T_367f5_level0_row13\" class=\"row_heading level0 row13\" >CustomerAge</th>\n",
              "      <td id=\"T_367f5_row13_col0\" class=\"data row13 col0\" >0.003300</td>\n",
              "      <td id=\"T_367f5_row13_col1\" class=\"data row13 col1\" >0.043934</td>\n",
              "      <td id=\"T_367f5_row13_col2\" class=\"data row13 col2\" >0.026201</td>\n",
              "      <td id=\"T_367f5_row13_col3\" class=\"data row13 col3\" >-0.011059</td>\n",
              "      <td id=\"T_367f5_row13_col4\" class=\"data row13 col4\" >0.021626</td>\n",
              "      <td id=\"T_367f5_row13_col5\" class=\"data row13 col5\" >-0.064174</td>\n",
              "      <td id=\"T_367f5_row13_col6\" class=\"data row13 col6\" >0.008482</td>\n",
              "      <td id=\"T_367f5_row13_col7\" class=\"data row13 col7\" >0.068427</td>\n",
              "      <td id=\"T_367f5_row13_col8\" class=\"data row13 col8\" >0.045030</td>\n",
              "      <td id=\"T_367f5_row13_col9\" class=\"data row13 col9\" >0.069567</td>\n",
              "      <td id=\"T_367f5_row13_col10\" class=\"data row13 col10\" >0.038836</td>\n",
              "      <td id=\"T_367f5_row13_col11\" class=\"data row13 col11\" >-0.011730</td>\n",
              "      <td id=\"T_367f5_row13_col12\" class=\"data row13 col12\" >0.051939</td>\n",
              "      <td id=\"T_367f5_row13_col13\" class=\"data row13 col13\" >1.000000</td>\n",
              "      <td id=\"T_367f5_row13_col14\" class=\"data row13 col14\" >-0.003962</td>\n",
              "      <td id=\"T_367f5_row13_col15\" class=\"data row13 col15\" >0.032587</td>\n",
              "      <td id=\"T_367f5_row13_col16\" class=\"data row13 col16\" >-0.004433</td>\n",
              "      <td id=\"T_367f5_row13_col17\" class=\"data row13 col17\" >-0.003776</td>\n",
              "      <td id=\"T_367f5_row13_col18\" class=\"data row13 col18\" >0.006654</td>\n",
              "      <td id=\"T_367f5_row13_col19\" class=\"data row13 col19\" >0.069315</td>\n",
              "      <td id=\"T_367f5_row13_col20\" class=\"data row13 col20\" >0.025950</td>\n",
              "    </tr>\n",
              "    <tr>\n",
              "      <th id=\"T_367f5_level0_row14\" class=\"row_heading level0 row14\" >NumberOfCustomerPaymentsInLast12Months</th>\n",
              "      <td id=\"T_367f5_row14_col0\" class=\"data row14 col0\" >0.009187</td>\n",
              "      <td id=\"T_367f5_row14_col1\" class=\"data row14 col1\" >0.032738</td>\n",
              "      <td id=\"T_367f5_row14_col2\" class=\"data row14 col2\" >0.036354</td>\n",
              "      <td id=\"T_367f5_row14_col3\" class=\"data row14 col3\" >0.004407</td>\n",
              "      <td id=\"T_367f5_row14_col4\" class=\"data row14 col4\" >-0.006738</td>\n",
              "      <td id=\"T_367f5_row14_col5\" class=\"data row14 col5\" >0.013068</td>\n",
              "      <td id=\"T_367f5_row14_col6\" class=\"data row14 col6\" >-0.016120</td>\n",
              "      <td id=\"T_367f5_row14_col7\" class=\"data row14 col7\" >0.191491</td>\n",
              "      <td id=\"T_367f5_row14_col8\" class=\"data row14 col8\" >0.106701</td>\n",
              "      <td id=\"T_367f5_row14_col9\" class=\"data row14 col9\" >0.018873</td>\n",
              "      <td id=\"T_367f5_row14_col10\" class=\"data row14 col10\" >-0.003450</td>\n",
              "      <td id=\"T_367f5_row14_col11\" class=\"data row14 col11\" >-0.002525</td>\n",
              "      <td id=\"T_367f5_row14_col12\" class=\"data row14 col12\" >0.244481</td>\n",
              "      <td id=\"T_367f5_row14_col13\" class=\"data row14 col13\" >-0.003962</td>\n",
              "      <td id=\"T_367f5_row14_col14\" class=\"data row14 col14\" >1.000000</td>\n",
              "      <td id=\"T_367f5_row14_col15\" class=\"data row14 col15\" >0.034165</td>\n",
              "      <td id=\"T_367f5_row14_col16\" class=\"data row14 col16\" >0.321519</td>\n",
              "      <td id=\"T_367f5_row14_col17\" class=\"data row14 col17\" >0.007153</td>\n",
              "      <td id=\"T_367f5_row14_col18\" class=\"data row14 col18\" >-0.032243</td>\n",
              "      <td id=\"T_367f5_row14_col19\" class=\"data row14 col19\" >0.191491</td>\n",
              "      <td id=\"T_367f5_row14_col20\" class=\"data row14 col20\" >1.000000</td>\n",
              "    </tr>\n",
              "    <tr>\n",
              "      <th id=\"T_367f5_level0_row15\" class=\"row_heading level0 row15\" >LastOriginalClosingCodeOfCustomer</th>\n",
              "      <td id=\"T_367f5_row15_col0\" class=\"data row15 col0\" >0.018333</td>\n",
              "      <td id=\"T_367f5_row15_col1\" class=\"data row15 col1\" >0.038491</td>\n",
              "      <td id=\"T_367f5_row15_col2\" class=\"data row15 col2\" >0.018637</td>\n",
              "      <td id=\"T_367f5_row15_col3\" class=\"data row15 col3\" >0.000723</td>\n",
              "      <td id=\"T_367f5_row15_col4\" class=\"data row15 col4\" >0.006590</td>\n",
              "      <td id=\"T_367f5_row15_col5\" class=\"data row15 col5\" >0.004339</td>\n",
              "      <td id=\"T_367f5_row15_col6\" class=\"data row15 col6\" >0.040357</td>\n",
              "      <td id=\"T_367f5_row15_col7\" class=\"data row15 col7\" >0.048018</td>\n",
              "      <td id=\"T_367f5_row15_col8\" class=\"data row15 col8\" >0.014733</td>\n",
              "      <td id=\"T_367f5_row15_col9\" class=\"data row15 col9\" >0.022073</td>\n",
              "      <td id=\"T_367f5_row15_col10\" class=\"data row15 col10\" >0.010712</td>\n",
              "      <td id=\"T_367f5_row15_col11\" class=\"data row15 col11\" >-0.004355</td>\n",
              "      <td id=\"T_367f5_row15_col12\" class=\"data row15 col12\" >0.074532</td>\n",
              "      <td id=\"T_367f5_row15_col13\" class=\"data row15 col13\" >0.032587</td>\n",
              "      <td id=\"T_367f5_row15_col14\" class=\"data row15 col14\" >0.034165</td>\n",
              "      <td id=\"T_367f5_row15_col15\" class=\"data row15 col15\" >1.000000</td>\n",
              "      <td id=\"T_367f5_row15_col16\" class=\"data row15 col16\" >0.016280</td>\n",
              "      <td id=\"T_367f5_row15_col17\" class=\"data row15 col17\" >0.001812</td>\n",
              "      <td id=\"T_367f5_row15_col18\" class=\"data row15 col18\" >-0.063831</td>\n",
              "      <td id=\"T_367f5_row15_col19\" class=\"data row15 col19\" >0.076410</td>\n",
              "      <td id=\"T_367f5_row15_col20\" class=\"data row15 col20\" >0.072776</td>\n",
              "    </tr>\n",
              "    <tr>\n",
              "      <th id=\"T_367f5_level0_row16\" class=\"row_heading level0 row16\" >NumberOfSuccessfullyClosedCasesInLast24Months</th>\n",
              "      <td id=\"T_367f5_row16_col0\" class=\"data row16 col0\" >0.011761</td>\n",
              "      <td id=\"T_367f5_row16_col1\" class=\"data row16 col1\" >0.052054</td>\n",
              "      <td id=\"T_367f5_row16_col2\" class=\"data row16 col2\" >0.024990</td>\n",
              "      <td id=\"T_367f5_row16_col3\" class=\"data row16 col3\" >0.004901</td>\n",
              "      <td id=\"T_367f5_row16_col4\" class=\"data row16 col4\" >-0.029855</td>\n",
              "      <td id=\"T_367f5_row16_col5\" class=\"data row16 col5\" >0.008766</td>\n",
              "      <td id=\"T_367f5_row16_col6\" class=\"data row16 col6\" >-0.017165</td>\n",
              "      <td id=\"T_367f5_row16_col7\" class=\"data row16 col7\" >0.162478</td>\n",
              "      <td id=\"T_367f5_row16_col8\" class=\"data row16 col8\" >-0.020135</td>\n",
              "      <td id=\"T_367f5_row16_col9\" class=\"data row16 col9\" >-0.030447</td>\n",
              "      <td id=\"T_367f5_row16_col10\" class=\"data row16 col10\" >0.049969</td>\n",
              "      <td id=\"T_367f5_row16_col11\" class=\"data row16 col11\" >0.007965</td>\n",
              "      <td id=\"T_367f5_row16_col12\" class=\"data row16 col12\" >0.049968</td>\n",
              "      <td id=\"T_367f5_row16_col13\" class=\"data row16 col13\" >-0.004433</td>\n",
              "      <td id=\"T_367f5_row16_col14\" class=\"data row16 col14\" >0.321519</td>\n",
              "      <td id=\"T_367f5_row16_col15\" class=\"data row16 col15\" >0.016280</td>\n",
              "      <td id=\"T_367f5_row16_col16\" class=\"data row16 col16\" >1.000000</td>\n",
              "      <td id=\"T_367f5_row16_col17\" class=\"data row16 col17\" >0.003393</td>\n",
              "      <td id=\"T_367f5_row16_col18\" class=\"data row16 col18\" >-0.055599</td>\n",
              "      <td id=\"T_367f5_row16_col19\" class=\"data row16 col19\" >0.162724</td>\n",
              "      <td id=\"T_367f5_row16_col20\" class=\"data row16 col20\" >0.321716</td>\n",
              "    </tr>\n",
              "    <tr>\n",
              "      <th id=\"T_367f5_level0_row17\" class=\"row_heading level0 row17\" >AmountOfCase</th>\n",
              "      <td id=\"T_367f5_row17_col0\" class=\"data row17 col0\" >-0.002248</td>\n",
              "      <td id=\"T_367f5_row17_col1\" class=\"data row17 col1\" >-0.030036</td>\n",
              "      <td id=\"T_367f5_row17_col2\" class=\"data row17 col2\" >0.189968</td>\n",
              "      <td id=\"T_367f5_row17_col3\" class=\"data row17 col3\" >0.936868</td>\n",
              "      <td id=\"T_367f5_row17_col4\" class=\"data row17 col4\" >-0.171586</td>\n",
              "      <td id=\"T_367f5_row17_col5\" class=\"data row17 col5\" >0.134920</td>\n",
              "      <td id=\"T_367f5_row17_col6\" class=\"data row17 col6\" >0.017166</td>\n",
              "      <td id=\"T_367f5_row17_col7\" class=\"data row17 col7\" >0.058658</td>\n",
              "      <td id=\"T_367f5_row17_col8\" class=\"data row17 col8\" >0.078220</td>\n",
              "      <td id=\"T_367f5_row17_col9\" class=\"data row17 col9\" >0.033473</td>\n",
              "      <td id=\"T_367f5_row17_col10\" class=\"data row17 col10\" >0.001011</td>\n",
              "      <td id=\"T_367f5_row17_col11\" class=\"data row17 col11\" >0.119246</td>\n",
              "      <td id=\"T_367f5_row17_col12\" class=\"data row17 col12\" >0.000612</td>\n",
              "      <td id=\"T_367f5_row17_col13\" class=\"data row17 col13\" >-0.003776</td>\n",
              "      <td id=\"T_367f5_row17_col14\" class=\"data row17 col14\" >0.007153</td>\n",
              "      <td id=\"T_367f5_row17_col15\" class=\"data row17 col15\" >0.001812</td>\n",
              "      <td id=\"T_367f5_row17_col16\" class=\"data row17 col16\" >0.003393</td>\n",
              "      <td id=\"T_367f5_row17_col17\" class=\"data row17 col17\" >1.000000</td>\n",
              "      <td id=\"T_367f5_row17_col18\" class=\"data row17 col18\" >0.032396</td>\n",
              "      <td id=\"T_367f5_row17_col19\" class=\"data row17 col19\" >0.032899</td>\n",
              "      <td id=\"T_367f5_row17_col20\" class=\"data row17 col20\" >0.002182</td>\n",
              "    </tr>\n",
              "    <tr>\n",
              "      <th id=\"T_367f5_level0_row18\" class=\"row_heading level0 row18\" >NumberOfUnsuccessfullyClosedCustomerCasesLast36Months </th>\n",
              "      <td id=\"T_367f5_row18_col0\" class=\"data row18 col0\" >0.002479</td>\n",
              "      <td id=\"T_367f5_row18_col1\" class=\"data row18 col1\" >-0.139486</td>\n",
              "      <td id=\"T_367f5_row18_col2\" class=\"data row18 col2\" >-0.063527</td>\n",
              "      <td id=\"T_367f5_row18_col3\" class=\"data row18 col3\" >0.024042</td>\n",
              "      <td id=\"T_367f5_row18_col4\" class=\"data row18 col4\" >0.058244</td>\n",
              "      <td id=\"T_367f5_row18_col5\" class=\"data row18 col5\" >-0.004912</td>\n",
              "      <td id=\"T_367f5_row18_col6\" class=\"data row18 col6\" >1.000000</td>\n",
              "      <td id=\"T_367f5_row18_col7\" class=\"data row18 col7\" >-0.006251</td>\n",
              "      <td id=\"T_367f5_row18_col8\" class=\"data row18 col8\" >0.081492</td>\n",
              "      <td id=\"T_367f5_row18_col9\" class=\"data row18 col9\" >0.451956</td>\n",
              "      <td id=\"T_367f5_row18_col10\" class=\"data row18 col10\" >-0.083088</td>\n",
              "      <td id=\"T_367f5_row18_col11\" class=\"data row18 col11\" >-0.025440</td>\n",
              "      <td id=\"T_367f5_row18_col12\" class=\"data row18 col12\" >0.076085</td>\n",
              "      <td id=\"T_367f5_row18_col13\" class=\"data row18 col13\" >0.006654</td>\n",
              "      <td id=\"T_367f5_row18_col14\" class=\"data row18 col14\" >-0.032243</td>\n",
              "      <td id=\"T_367f5_row18_col15\" class=\"data row18 col15\" >-0.063831</td>\n",
              "      <td id=\"T_367f5_row18_col16\" class=\"data row18 col16\" >-0.055599</td>\n",
              "      <td id=\"T_367f5_row18_col17\" class=\"data row18 col17\" >0.032396</td>\n",
              "      <td id=\"T_367f5_row18_col18\" class=\"data row18 col18\" >1.000000</td>\n",
              "      <td id=\"T_367f5_row18_col19\" class=\"data row18 col19\" >0.000051</td>\n",
              "      <td id=\"T_367f5_row18_col20\" class=\"data row18 col20\" >-0.017633</td>\n",
              "    </tr>\n",
              "    <tr>\n",
              "      <th id=\"T_367f5_level0_row19\" class=\"row_heading level0 row19\" >AmountOfCustomerPaymentsOnAllCasesBlevel </th>\n",
              "      <td id=\"T_367f5_row19_col0\" class=\"data row19 col0\" >-0.003816</td>\n",
              "      <td id=\"T_367f5_row19_col1\" class=\"data row19 col1\" >0.071863</td>\n",
              "      <td id=\"T_367f5_row19_col2\" class=\"data row19 col2\" >0.063977</td>\n",
              "      <td id=\"T_367f5_row19_col3\" class=\"data row19 col3\" >0.030555</td>\n",
              "      <td id=\"T_367f5_row19_col4\" class=\"data row19 col4\" >0.000662</td>\n",
              "      <td id=\"T_367f5_row19_col5\" class=\"data row19 col5\" >-0.012501</td>\n",
              "      <td id=\"T_367f5_row19_col6\" class=\"data row19 col6\" >0.041894</td>\n",
              "      <td id=\"T_367f5_row19_col7\" class=\"data row19 col7\" >1.000000</td>\n",
              "      <td id=\"T_367f5_row19_col8\" class=\"data row19 col8\" >0.046263</td>\n",
              "      <td id=\"T_367f5_row19_col9\" class=\"data row19 col9\" >0.083638</td>\n",
              "      <td id=\"T_367f5_row19_col10\" class=\"data row19 col10\" >0.054616</td>\n",
              "      <td id=\"T_367f5_row19_col11\" class=\"data row19 col11\" >0.011579</td>\n",
              "      <td id=\"T_367f5_row19_col12\" class=\"data row19 col12\" >0.233489</td>\n",
              "      <td id=\"T_367f5_row19_col13\" class=\"data row19 col13\" >0.069315</td>\n",
              "      <td id=\"T_367f5_row19_col14\" class=\"data row19 col14\" >0.191491</td>\n",
              "      <td id=\"T_367f5_row19_col15\" class=\"data row19 col15\" >0.076410</td>\n",
              "      <td id=\"T_367f5_row19_col16\" class=\"data row19 col16\" >0.162724</td>\n",
              "      <td id=\"T_367f5_row19_col17\" class=\"data row19 col17\" >0.032899</td>\n",
              "      <td id=\"T_367f5_row19_col18\" class=\"data row19 col18\" >0.000051</td>\n",
              "      <td id=\"T_367f5_row19_col19\" class=\"data row19 col19\" >1.000000</td>\n",
              "      <td id=\"T_367f5_row19_col20\" class=\"data row19 col20\" >0.291121</td>\n",
              "    </tr>\n",
              "    <tr>\n",
              "      <th id=\"T_367f5_level0_row20\" class=\"row_heading level0 row20\" >NumberOfCustomerPaymentsInLast12Months </th>\n",
              "      <td id=\"T_367f5_row20_col0\" class=\"data row20 col0\" >0.008324</td>\n",
              "      <td id=\"T_367f5_row20_col1\" class=\"data row20 col1\" >0.085676</td>\n",
              "      <td id=\"T_367f5_row20_col2\" class=\"data row20 col2\" >0.059288</td>\n",
              "      <td id=\"T_367f5_row20_col3\" class=\"data row20 col3\" >0.001665</td>\n",
              "      <td id=\"T_367f5_row20_col4\" class=\"data row20 col4\" >-0.010551</td>\n",
              "      <td id=\"T_367f5_row20_col5\" class=\"data row20 col5\" >0.001191</td>\n",
              "      <td id=\"T_367f5_row20_col6\" class=\"data row20 col6\" >0.041425</td>\n",
              "      <td id=\"T_367f5_row20_col7\" class=\"data row20 col7\" >0.191602</td>\n",
              "      <td id=\"T_367f5_row20_col8\" class=\"data row20 col8\" >0.060501</td>\n",
              "      <td id=\"T_367f5_row20_col9\" class=\"data row20 col9\" >0.060384</td>\n",
              "      <td id=\"T_367f5_row20_col10\" class=\"data row20 col10\" >0.022038</td>\n",
              "      <td id=\"T_367f5_row20_col11\" class=\"data row20 col11\" >-0.000973</td>\n",
              "      <td id=\"T_367f5_row20_col12\" class=\"data row20 col12\" >0.315655</td>\n",
              "      <td id=\"T_367f5_row20_col13\" class=\"data row20 col13\" >0.025950</td>\n",
              "      <td id=\"T_367f5_row20_col14\" class=\"data row20 col14\" >1.000000</td>\n",
              "      <td id=\"T_367f5_row20_col15\" class=\"data row20 col15\" >0.072776</td>\n",
              "      <td id=\"T_367f5_row20_col16\" class=\"data row20 col16\" >0.321716</td>\n",
              "      <td id=\"T_367f5_row20_col17\" class=\"data row20 col17\" >0.002182</td>\n",
              "      <td id=\"T_367f5_row20_col18\" class=\"data row20 col18\" >-0.017633</td>\n",
              "      <td id=\"T_367f5_row20_col19\" class=\"data row20 col19\" >0.291121</td>\n",
              "      <td id=\"T_367f5_row20_col20\" class=\"data row20 col20\" >1.000000</td>\n",
              "    </tr>\n",
              "  </tbody>\n",
              "</table>\n"
            ]
          },
          "metadata": {},
          "execution_count": 17
        }
      ]
    },
    {
      "cell_type": "markdown",
      "source": [
        "### Acreedores más grandes"
      ],
      "metadata": {
        "id": "7RKl8zVWsGAB"
      }
    },
    {
      "cell_type": "code",
      "source": [
        "fig = px.treemap(df, path=['ClientName'], values='AmountOfCase', color='ClientName')\n",
        "fig.show()\n",
        "\n",
        "print(df['ClientName'].value_counts(normalize=True))"
      ],
      "metadata": {
        "colab": {
          "base_uri": "https://localhost:8080/",
          "height": 761
        },
        "id": "J1VjTmR6bj7z",
        "outputId": "eb815034-bd6a-47a4-e153-725a35368ebb"
      },
      "execution_count": null,
      "outputs": [
        {
          "output_type": "display_data",
          "data": {
            "text/html": [
              "<html>\n",
              "<head><meta charset=\"utf-8\" /></head>\n",
              "<body>\n",
              "    <div>            <script src=\"https://cdnjs.cloudflare.com/ajax/libs/mathjax/2.7.5/MathJax.js?config=TeX-AMS-MML_SVG\"></script><script type=\"text/javascript\">if (window.MathJax) {MathJax.Hub.Config({SVG: {font: \"STIX-Web\"}});}</script>                <script type=\"text/javascript\">window.PlotlyConfig = {MathJaxConfig: 'local'};</script>\n",
              "        <script src=\"https://cdn.plot.ly/plotly-2.8.3.min.js\"></script>                <div id=\"bd527116-1022-406e-9da8-ce0b13cd2f86\" class=\"plotly-graph-div\" style=\"height:525px; width:100%;\"></div>            <script type=\"text/javascript\">                                    window.PLOTLYENV=window.PLOTLYENV || {};                                    if (document.getElementById(\"bd527116-1022-406e-9da8-ce0b13cd2f86\")) {                    Plotly.newPlot(                        \"bd527116-1022-406e-9da8-ce0b13cd2f86\",                        [{\"branchvalues\":\"total\",\"customdata\":[[1.0],[2.0],[3.0000000000000004],[4.0],[4.999999999999999],[6.000000000000001],[7.0],[8.0],[9.000000000000002],[10.0],[11.0],[12.0],[12.999999999999995],[13.999999999999998],[14.999999999999998],[16.0],[16.999999999999996],[17.999999999999993],[19.000000000000004],[19.999999999999996],[21.000000000000004],[22.000000000000004],[23.000000000000004],[24.0],[24.999999999999996],[26.000000000000004],[27.0],[28.0],[28.999999999999996],[29.999999999999993],[31.000000000000004],[32.0],[33.0],[34.00000000000001],[35.0],[36.0],[37.00000000000001],[37.99999999999999],[39.0],[39.99999999999999],[41.0],[42.0],[43.0],[44.0],[45.0],[46.0],[47.0],[48.00000000000001],[48.99999999999999],[49.99999999999999],[51.0],[52.000000000000014],[53.00000000000001],[54.0],[55.00000000000003],[56.0],[57.000000000000014],[58.000000000000014],[59.00000000000001],[60.000000000000014],[61.0],[61.99999999999999],[63.00000000000001],[64.0],[65.00000000000001],[66.00000000000001],[67.0],[68.00000000000001],[69.00000000000001],[69.99999999999999],[71.0],[72.0],[73.0],[74.00000000000001],[75.0],[76.0],[76.99999999999999],[78.0],[78.99999999999999],[79.99999999999997],[81.0],[81.99999999999999],[83.00000000000001],[84.0],[85.00000000000001],[86.0],[86.99999999999997],[88.0],[89.00000000000001],[89.99999999999999],[91.00000000000001],[92.00000000000001],[93.00000000000003],[94.0],[95.00000000000001],[96.0],[97.0],[98.00000000000001],[99.00000000000001],[100.0],[101.00000000000001],[102.0],[102.99999999999999],[104.00000000000001],[104.99999999999999],[106.0],[106.99999999999997],[108.0],[109.0],[110.0],[110.99999999999999],[112.0],[113.0],[114.00000000000001],[115.00000000000001],[116.0],[116.99999999999997],[118.0],[119.00000000000001],[119.99999999999999],[120.99999999999999],[121.99999999999999],[122.99999999999999],[123.99999999999999],[124.99999999999999],[126.00000000000004],[127.0],[128.0],[129.0],[130.00000000000003],[131.00000000000003],[132.0],[132.99999999999997],[134.0],[134.99999999999997],[136.00000000000003],[137.0],[138.0],[139.00000000000003],[140.0],[141.0],[142.0],[142.99999999999997],[144.00000000000003],[145.00000000000003],[146.0],[147.0],[148.0],[149.0],[150.0],[151.0],[152.0],[153.0],[154.0],[155.00000000000003],[156.0],[157.00000000000006],[158.0],[159.0],[160.0],[160.99999999999997],[161.99999999999997],[163.0],[163.99999999999997],[165.0],[166.0],[167.00000000000003],[168.0],[169.0],[170.0],[171.00000000000003],[172.0],[173.0],[174.0],[175.0],[176.0],[177.00000000000003],[178.0],[179.0],[180.0],[181.0]],\"domain\":{\"x\":[0.0,1.0],\"y\":[0.0,1.0]},\"hovertemplate\":\"labels=%{label}<br>AmountOfCase=%{value}<br>parent=%{parent}<br>id=%{id}<br>ClientName=%{color}<extra></extra>\",\"ids\":[\"1\",\"2\",\"3\",\"4\",\"5\",\"6\",\"7\",\"8\",\"9\",\"10\",\"11\",\"12\",\"13\",\"14\",\"15\",\"16\",\"17\",\"18\",\"19\",\"20\",\"21\",\"22\",\"23\",\"24\",\"25\",\"26\",\"27\",\"28\",\"29\",\"30\",\"31\",\"32\",\"33\",\"34\",\"35\",\"36\",\"37\",\"38\",\"39\",\"40\",\"41\",\"42\",\"43\",\"44\",\"45\",\"46\",\"47\",\"48\",\"49\",\"50\",\"51\",\"52\",\"53\",\"54\",\"55\",\"56\",\"57\",\"58\",\"59\",\"60\",\"61\",\"62\",\"63\",\"64\",\"65\",\"66\",\"67\",\"68\",\"69\",\"70\",\"71\",\"72\",\"73\",\"74\",\"75\",\"76\",\"77\",\"78\",\"79\",\"80\",\"81\",\"82\",\"83\",\"84\",\"85\",\"86\",\"87\",\"88\",\"89\",\"90\",\"91\",\"92\",\"93\",\"94\",\"95\",\"96\",\"97\",\"98\",\"99\",\"100\",\"101\",\"102\",\"103\",\"104\",\"105\",\"106\",\"107\",\"108\",\"109\",\"110\",\"111\",\"112\",\"113\",\"114\",\"115\",\"116\",\"117\",\"118\",\"119\",\"120\",\"121\",\"122\",\"123\",\"124\",\"125\",\"126\",\"127\",\"128\",\"129\",\"130\",\"131\",\"132\",\"133\",\"134\",\"135\",\"136\",\"137\",\"138\",\"139\",\"140\",\"141\",\"142\",\"143\",\"144\",\"145\",\"146\",\"147\",\"148\",\"149\",\"150\",\"151\",\"152\",\"153\",\"154\",\"155\",\"156\",\"157\",\"158\",\"159\",\"160\",\"161\",\"162\",\"163\",\"164\",\"165\",\"166\",\"167\",\"168\",\"169\",\"170\",\"171\",\"172\",\"173\",\"174\",\"175\",\"176\",\"177\",\"178\",\"179\",\"180\",\"181\"],\"labels\":[\"1\",\"2\",\"3\",\"4\",\"5\",\"6\",\"7\",\"8\",\"9\",\"10\",\"11\",\"12\",\"13\",\"14\",\"15\",\"16\",\"17\",\"18\",\"19\",\"20\",\"21\",\"22\",\"23\",\"24\",\"25\",\"26\",\"27\",\"28\",\"29\",\"30\",\"31\",\"32\",\"33\",\"34\",\"35\",\"36\",\"37\",\"38\",\"39\",\"40\",\"41\",\"42\",\"43\",\"44\",\"45\",\"46\",\"47\",\"48\",\"49\",\"50\",\"51\",\"52\",\"53\",\"54\",\"55\",\"56\",\"57\",\"58\",\"59\",\"60\",\"61\",\"62\",\"63\",\"64\",\"65\",\"66\",\"67\",\"68\",\"69\",\"70\",\"71\",\"72\",\"73\",\"74\",\"75\",\"76\",\"77\",\"78\",\"79\",\"80\",\"81\",\"82\",\"83\",\"84\",\"85\",\"86\",\"87\",\"88\",\"89\",\"90\",\"91\",\"92\",\"93\",\"94\",\"95\",\"96\",\"97\",\"98\",\"99\",\"100\",\"101\",\"102\",\"103\",\"104\",\"105\",\"106\",\"107\",\"108\",\"109\",\"110\",\"111\",\"112\",\"113\",\"114\",\"115\",\"116\",\"117\",\"118\",\"119\",\"120\",\"121\",\"122\",\"123\",\"124\",\"125\",\"126\",\"127\",\"128\",\"129\",\"130\",\"131\",\"132\",\"133\",\"134\",\"135\",\"136\",\"137\",\"138\",\"139\",\"140\",\"141\",\"142\",\"143\",\"144\",\"145\",\"146\",\"147\",\"148\",\"149\",\"150\",\"151\",\"152\",\"153\",\"154\",\"155\",\"156\",\"157\",\"158\",\"159\",\"160\",\"161\",\"162\",\"163\",\"164\",\"165\",\"166\",\"167\",\"168\",\"169\",\"170\",\"171\",\"172\",\"173\",\"174\",\"175\",\"176\",\"177\",\"178\",\"179\",\"180\",\"181\"],\"marker\":{\"coloraxis\":\"coloraxis\",\"colors\":[1.0,2.0,3.0000000000000004,4.0,4.999999999999999,6.000000000000001,7.0,8.0,9.000000000000002,10.0,11.0,12.0,12.999999999999995,13.999999999999998,14.999999999999998,16.0,16.999999999999996,17.999999999999993,19.000000000000004,19.999999999999996,21.000000000000004,22.000000000000004,23.000000000000004,24.0,24.999999999999996,26.000000000000004,27.0,28.0,28.999999999999996,29.999999999999993,31.000000000000004,32.0,33.0,34.00000000000001,35.0,36.0,37.00000000000001,37.99999999999999,39.0,39.99999999999999,41.0,42.0,43.0,44.0,45.0,46.0,47.0,48.00000000000001,48.99999999999999,49.99999999999999,51.0,52.000000000000014,53.00000000000001,54.0,55.00000000000003,56.0,57.000000000000014,58.000000000000014,59.00000000000001,60.000000000000014,61.0,61.99999999999999,63.00000000000001,64.0,65.00000000000001,66.00000000000001,67.0,68.00000000000001,69.00000000000001,69.99999999999999,71.0,72.0,73.0,74.00000000000001,75.0,76.0,76.99999999999999,78.0,78.99999999999999,79.99999999999997,81.0,81.99999999999999,83.00000000000001,84.0,85.00000000000001,86.0,86.99999999999997,88.0,89.00000000000001,89.99999999999999,91.00000000000001,92.00000000000001,93.00000000000003,94.0,95.00000000000001,96.0,97.0,98.00000000000001,99.00000000000001,100.0,101.00000000000001,102.0,102.99999999999999,104.00000000000001,104.99999999999999,106.0,106.99999999999997,108.0,109.0,110.0,110.99999999999999,112.0,113.0,114.00000000000001,115.00000000000001,116.0,116.99999999999997,118.0,119.00000000000001,119.99999999999999,120.99999999999999,121.99999999999999,122.99999999999999,123.99999999999999,124.99999999999999,126.00000000000004,127.0,128.0,129.0,130.00000000000003,131.00000000000003,132.0,132.99999999999997,134.0,134.99999999999997,136.00000000000003,137.0,138.0,139.00000000000003,140.0,141.0,142.0,142.99999999999997,144.00000000000003,145.00000000000003,146.0,147.0,148.0,149.0,150.0,151.0,152.0,153.0,154.0,155.00000000000003,156.0,157.00000000000006,158.0,159.0,160.0,160.99999999999997,161.99999999999997,163.0,163.99999999999997,165.0,166.0,167.00000000000003,168.0,169.0,170.0,171.00000000000003,172.0,173.0,174.0,175.0,176.0,177.00000000000003,178.0,179.0,180.0,181.0]},\"name\":\"\",\"parents\":[\"\",\"\",\"\",\"\",\"\",\"\",\"\",\"\",\"\",\"\",\"\",\"\",\"\",\"\",\"\",\"\",\"\",\"\",\"\",\"\",\"\",\"\",\"\",\"\",\"\",\"\",\"\",\"\",\"\",\"\",\"\",\"\",\"\",\"\",\"\",\"\",\"\",\"\",\"\",\"\",\"\",\"\",\"\",\"\",\"\",\"\",\"\",\"\",\"\",\"\",\"\",\"\",\"\",\"\",\"\",\"\",\"\",\"\",\"\",\"\",\"\",\"\",\"\",\"\",\"\",\"\",\"\",\"\",\"\",\"\",\"\",\"\",\"\",\"\",\"\",\"\",\"\",\"\",\"\",\"\",\"\",\"\",\"\",\"\",\"\",\"\",\"\",\"\",\"\",\"\",\"\",\"\",\"\",\"\",\"\",\"\",\"\",\"\",\"\",\"\",\"\",\"\",\"\",\"\",\"\",\"\",\"\",\"\",\"\",\"\",\"\",\"\",\"\",\"\",\"\",\"\",\"\",\"\",\"\",\"\",\"\",\"\",\"\",\"\",\"\",\"\",\"\",\"\",\"\",\"\",\"\",\"\",\"\",\"\",\"\",\"\",\"\",\"\",\"\",\"\",\"\",\"\",\"\",\"\",\"\",\"\",\"\",\"\",\"\",\"\",\"\",\"\",\"\",\"\",\"\",\"\",\"\",\"\",\"\",\"\",\"\",\"\",\"\",\"\",\"\",\"\",\"\",\"\",\"\",\"\",\"\",\"\",\"\",\"\",\"\",\"\",\"\",\"\",\"\",\"\",\"\"],\"values\":[19722.02,1787942.32,96374.56,521499.24,184649.34,2001703.18,407798.1,248425.36000000002,210850.02,1200785.35,608507.98,2042313.83,45072.12,10487.96,369408.94,156698.42,286141.12,67062.39,388364.99,854.35,64995.95,250722.77,209771.03,106902.13,251860.86,182750.04,175074.8,270875.26,16054.9,69368.71,94631.06,150599.14,79773.62,271962.48,61693.44,34033.99,157770.6,407272.07,210963.99,55924.619999999995,148755.72,102401.81,146823.5,395518.1,43587.49,3786.9,3754.4500000000003,202211.46,140931.82,1283.85,131587.72,12173.09,101648.54,38802.4,83793.54,36603.43,40685.36,71252.18,174134.38,22476.71,3948.81,91050.48,232636.81,2604.21,81044.72,84657.61,15768.66,13745.31,7803.75,9555.46,7551.99,32079.989999999998,50657.53,38905.21,27226.760000000002,51755.84,2490.82,47741.27,11314.31,17557.58,1033.01,66996.05,21871.25,4070.75,9924.45,57978.78,10666.16,23878.6,1794.75,33464.74,113823.5,57108.31,5871.28,2516.07,29814.93,23161.52,20958.7,20626.93,8329.55,150.0,49578.28,4697.2300000000005,24404.93,4899.22,3019.73,9238.66,18391.55,21456.15,9421.86,3380.5,4988.79,48748.51,470.96,8587.06,16316.289999999999,16709.0,29415.43,3292.0299999999997,4186.87,936.21,1964.52,6895.93,1103.6599999999999,4878.76,2004.8600000000001,37181.7,751.24,20443.05,9356.0,19270.27,21972.920000000002,8970.56,9998.36,50.0,644.79,15792.6,1448.26,6572.95,63044.02,2204.34,2864.23,1385.26,1126.59,16385.38,614.5799999999999,22321.27,11564.83,1626.0,1530.21,10147.17,2280.0,1052.71,2258.9700000000003,3389.8,2147.21,10.44,4491.3,14461.23,4059.4,580.0,1550.28,3458.05,11870.85,162693.44,4000.0,776.09,452.13,189.01,296.14,2441.33,1131.8799999999999,921.6,56.01,214.5,3000.0,2769.26,5291.78,710.24,3594.49,157.33,10500.0],\"type\":\"treemap\"}],                        {\"template\":{\"data\":{\"bar\":[{\"error_x\":{\"color\":\"#2a3f5f\"},\"error_y\":{\"color\":\"#2a3f5f\"},\"marker\":{\"line\":{\"color\":\"#E5ECF6\",\"width\":0.5},\"pattern\":{\"fillmode\":\"overlay\",\"size\":10,\"solidity\":0.2}},\"type\":\"bar\"}],\"barpolar\":[{\"marker\":{\"line\":{\"color\":\"#E5ECF6\",\"width\":0.5},\"pattern\":{\"fillmode\":\"overlay\",\"size\":10,\"solidity\":0.2}},\"type\":\"barpolar\"}],\"carpet\":[{\"aaxis\":{\"endlinecolor\":\"#2a3f5f\",\"gridcolor\":\"white\",\"linecolor\":\"white\",\"minorgridcolor\":\"white\",\"startlinecolor\":\"#2a3f5f\"},\"baxis\":{\"endlinecolor\":\"#2a3f5f\",\"gridcolor\":\"white\",\"linecolor\":\"white\",\"minorgridcolor\":\"white\",\"startlinecolor\":\"#2a3f5f\"},\"type\":\"carpet\"}],\"choropleth\":[{\"colorbar\":{\"outlinewidth\":0,\"ticks\":\"\"},\"type\":\"choropleth\"}],\"contour\":[{\"colorbar\":{\"outlinewidth\":0,\"ticks\":\"\"},\"colorscale\":[[0.0,\"#0d0887\"],[0.1111111111111111,\"#46039f\"],[0.2222222222222222,\"#7201a8\"],[0.3333333333333333,\"#9c179e\"],[0.4444444444444444,\"#bd3786\"],[0.5555555555555556,\"#d8576b\"],[0.6666666666666666,\"#ed7953\"],[0.7777777777777778,\"#fb9f3a\"],[0.8888888888888888,\"#fdca26\"],[1.0,\"#f0f921\"]],\"type\":\"contour\"}],\"contourcarpet\":[{\"colorbar\":{\"outlinewidth\":0,\"ticks\":\"\"},\"type\":\"contourcarpet\"}],\"heatmap\":[{\"colorbar\":{\"outlinewidth\":0,\"ticks\":\"\"},\"colorscale\":[[0.0,\"#0d0887\"],[0.1111111111111111,\"#46039f\"],[0.2222222222222222,\"#7201a8\"],[0.3333333333333333,\"#9c179e\"],[0.4444444444444444,\"#bd3786\"],[0.5555555555555556,\"#d8576b\"],[0.6666666666666666,\"#ed7953\"],[0.7777777777777778,\"#fb9f3a\"],[0.8888888888888888,\"#fdca26\"],[1.0,\"#f0f921\"]],\"type\":\"heatmap\"}],\"heatmapgl\":[{\"colorbar\":{\"outlinewidth\":0,\"ticks\":\"\"},\"colorscale\":[[0.0,\"#0d0887\"],[0.1111111111111111,\"#46039f\"],[0.2222222222222222,\"#7201a8\"],[0.3333333333333333,\"#9c179e\"],[0.4444444444444444,\"#bd3786\"],[0.5555555555555556,\"#d8576b\"],[0.6666666666666666,\"#ed7953\"],[0.7777777777777778,\"#fb9f3a\"],[0.8888888888888888,\"#fdca26\"],[1.0,\"#f0f921\"]],\"type\":\"heatmapgl\"}],\"histogram\":[{\"marker\":{\"pattern\":{\"fillmode\":\"overlay\",\"size\":10,\"solidity\":0.2}},\"type\":\"histogram\"}],\"histogram2d\":[{\"colorbar\":{\"outlinewidth\":0,\"ticks\":\"\"},\"colorscale\":[[0.0,\"#0d0887\"],[0.1111111111111111,\"#46039f\"],[0.2222222222222222,\"#7201a8\"],[0.3333333333333333,\"#9c179e\"],[0.4444444444444444,\"#bd3786\"],[0.5555555555555556,\"#d8576b\"],[0.6666666666666666,\"#ed7953\"],[0.7777777777777778,\"#fb9f3a\"],[0.8888888888888888,\"#fdca26\"],[1.0,\"#f0f921\"]],\"type\":\"histogram2d\"}],\"histogram2dcontour\":[{\"colorbar\":{\"outlinewidth\":0,\"ticks\":\"\"},\"colorscale\":[[0.0,\"#0d0887\"],[0.1111111111111111,\"#46039f\"],[0.2222222222222222,\"#7201a8\"],[0.3333333333333333,\"#9c179e\"],[0.4444444444444444,\"#bd3786\"],[0.5555555555555556,\"#d8576b\"],[0.6666666666666666,\"#ed7953\"],[0.7777777777777778,\"#fb9f3a\"],[0.8888888888888888,\"#fdca26\"],[1.0,\"#f0f921\"]],\"type\":\"histogram2dcontour\"}],\"mesh3d\":[{\"colorbar\":{\"outlinewidth\":0,\"ticks\":\"\"},\"type\":\"mesh3d\"}],\"parcoords\":[{\"line\":{\"colorbar\":{\"outlinewidth\":0,\"ticks\":\"\"}},\"type\":\"parcoords\"}],\"pie\":[{\"automargin\":true,\"type\":\"pie\"}],\"scatter\":[{\"marker\":{\"colorbar\":{\"outlinewidth\":0,\"ticks\":\"\"}},\"type\":\"scatter\"}],\"scatter3d\":[{\"line\":{\"colorbar\":{\"outlinewidth\":0,\"ticks\":\"\"}},\"marker\":{\"colorbar\":{\"outlinewidth\":0,\"ticks\":\"\"}},\"type\":\"scatter3d\"}],\"scattercarpet\":[{\"marker\":{\"colorbar\":{\"outlinewidth\":0,\"ticks\":\"\"}},\"type\":\"scattercarpet\"}],\"scattergeo\":[{\"marker\":{\"colorbar\":{\"outlinewidth\":0,\"ticks\":\"\"}},\"type\":\"scattergeo\"}],\"scattergl\":[{\"marker\":{\"colorbar\":{\"outlinewidth\":0,\"ticks\":\"\"}},\"type\":\"scattergl\"}],\"scattermapbox\":[{\"marker\":{\"colorbar\":{\"outlinewidth\":0,\"ticks\":\"\"}},\"type\":\"scattermapbox\"}],\"scatterpolar\":[{\"marker\":{\"colorbar\":{\"outlinewidth\":0,\"ticks\":\"\"}},\"type\":\"scatterpolar\"}],\"scatterpolargl\":[{\"marker\":{\"colorbar\":{\"outlinewidth\":0,\"ticks\":\"\"}},\"type\":\"scatterpolargl\"}],\"scatterternary\":[{\"marker\":{\"colorbar\":{\"outlinewidth\":0,\"ticks\":\"\"}},\"type\":\"scatterternary\"}],\"surface\":[{\"colorbar\":{\"outlinewidth\":0,\"ticks\":\"\"},\"colorscale\":[[0.0,\"#0d0887\"],[0.1111111111111111,\"#46039f\"],[0.2222222222222222,\"#7201a8\"],[0.3333333333333333,\"#9c179e\"],[0.4444444444444444,\"#bd3786\"],[0.5555555555555556,\"#d8576b\"],[0.6666666666666666,\"#ed7953\"],[0.7777777777777778,\"#fb9f3a\"],[0.8888888888888888,\"#fdca26\"],[1.0,\"#f0f921\"]],\"type\":\"surface\"}],\"table\":[{\"cells\":{\"fill\":{\"color\":\"#EBF0F8\"},\"line\":{\"color\":\"white\"}},\"header\":{\"fill\":{\"color\":\"#C8D4E3\"},\"line\":{\"color\":\"white\"}},\"type\":\"table\"}]},\"layout\":{\"annotationdefaults\":{\"arrowcolor\":\"#2a3f5f\",\"arrowhead\":0,\"arrowwidth\":1},\"autotypenumbers\":\"strict\",\"coloraxis\":{\"colorbar\":{\"outlinewidth\":0,\"ticks\":\"\"}},\"colorscale\":{\"diverging\":[[0,\"#8e0152\"],[0.1,\"#c51b7d\"],[0.2,\"#de77ae\"],[0.3,\"#f1b6da\"],[0.4,\"#fde0ef\"],[0.5,\"#f7f7f7\"],[0.6,\"#e6f5d0\"],[0.7,\"#b8e186\"],[0.8,\"#7fbc41\"],[0.9,\"#4d9221\"],[1,\"#276419\"]],\"sequential\":[[0.0,\"#0d0887\"],[0.1111111111111111,\"#46039f\"],[0.2222222222222222,\"#7201a8\"],[0.3333333333333333,\"#9c179e\"],[0.4444444444444444,\"#bd3786\"],[0.5555555555555556,\"#d8576b\"],[0.6666666666666666,\"#ed7953\"],[0.7777777777777778,\"#fb9f3a\"],[0.8888888888888888,\"#fdca26\"],[1.0,\"#f0f921\"]],\"sequentialminus\":[[0.0,\"#0d0887\"],[0.1111111111111111,\"#46039f\"],[0.2222222222222222,\"#7201a8\"],[0.3333333333333333,\"#9c179e\"],[0.4444444444444444,\"#bd3786\"],[0.5555555555555556,\"#d8576b\"],[0.6666666666666666,\"#ed7953\"],[0.7777777777777778,\"#fb9f3a\"],[0.8888888888888888,\"#fdca26\"],[1.0,\"#f0f921\"]]},\"colorway\":[\"#636efa\",\"#EF553B\",\"#00cc96\",\"#ab63fa\",\"#FFA15A\",\"#19d3f3\",\"#FF6692\",\"#B6E880\",\"#FF97FF\",\"#FECB52\"],\"font\":{\"color\":\"#2a3f5f\"},\"geo\":{\"bgcolor\":\"white\",\"lakecolor\":\"white\",\"landcolor\":\"#E5ECF6\",\"showlakes\":true,\"showland\":true,\"subunitcolor\":\"white\"},\"hoverlabel\":{\"align\":\"left\"},\"hovermode\":\"closest\",\"mapbox\":{\"style\":\"light\"},\"paper_bgcolor\":\"white\",\"plot_bgcolor\":\"#E5ECF6\",\"polar\":{\"angularaxis\":{\"gridcolor\":\"white\",\"linecolor\":\"white\",\"ticks\":\"\"},\"bgcolor\":\"#E5ECF6\",\"radialaxis\":{\"gridcolor\":\"white\",\"linecolor\":\"white\",\"ticks\":\"\"}},\"scene\":{\"xaxis\":{\"backgroundcolor\":\"#E5ECF6\",\"gridcolor\":\"white\",\"gridwidth\":2,\"linecolor\":\"white\",\"showbackground\":true,\"ticks\":\"\",\"zerolinecolor\":\"white\"},\"yaxis\":{\"backgroundcolor\":\"#E5ECF6\",\"gridcolor\":\"white\",\"gridwidth\":2,\"linecolor\":\"white\",\"showbackground\":true,\"ticks\":\"\",\"zerolinecolor\":\"white\"},\"zaxis\":{\"backgroundcolor\":\"#E5ECF6\",\"gridcolor\":\"white\",\"gridwidth\":2,\"linecolor\":\"white\",\"showbackground\":true,\"ticks\":\"\",\"zerolinecolor\":\"white\"}},\"shapedefaults\":{\"line\":{\"color\":\"#2a3f5f\"}},\"ternary\":{\"aaxis\":{\"gridcolor\":\"white\",\"linecolor\":\"white\",\"ticks\":\"\"},\"baxis\":{\"gridcolor\":\"white\",\"linecolor\":\"white\",\"ticks\":\"\"},\"bgcolor\":\"#E5ECF6\",\"caxis\":{\"gridcolor\":\"white\",\"linecolor\":\"white\",\"ticks\":\"\"}},\"title\":{\"x\":0.05},\"xaxis\":{\"automargin\":true,\"gridcolor\":\"white\",\"linecolor\":\"white\",\"ticks\":\"\",\"title\":{\"standoff\":15},\"zerolinecolor\":\"white\",\"zerolinewidth\":2},\"yaxis\":{\"automargin\":true,\"gridcolor\":\"white\",\"linecolor\":\"white\",\"ticks\":\"\",\"title\":{\"standoff\":15},\"zerolinecolor\":\"white\",\"zerolinewidth\":2}}},\"coloraxis\":{\"colorbar\":{\"title\":{\"text\":\"ClientName\"}},\"colorscale\":[[0.0,\"#0d0887\"],[0.1111111111111111,\"#46039f\"],[0.2222222222222222,\"#7201a8\"],[0.3333333333333333,\"#9c179e\"],[0.4444444444444444,\"#bd3786\"],[0.5555555555555556,\"#d8576b\"],[0.6666666666666666,\"#ed7953\"],[0.7777777777777778,\"#fb9f3a\"],[0.8888888888888888,\"#fdca26\"],[1.0,\"#f0f921\"]]},\"legend\":{\"tracegroupgap\":0},\"margin\":{\"t\":60}},                        {\"responsive\": true}                    ).then(function(){\n",
              "                            \n",
              "var gd = document.getElementById('bd527116-1022-406e-9da8-ce0b13cd2f86');\n",
              "var x = new MutationObserver(function (mutations, observer) {{\n",
              "        var display = window.getComputedStyle(gd).display;\n",
              "        if (!display || display === 'none') {{\n",
              "            console.log([gd, 'removed!']);\n",
              "            Plotly.purge(gd);\n",
              "            observer.disconnect();\n",
              "        }}\n",
              "}});\n",
              "\n",
              "// Listen for the removal of the full notebook cells\n",
              "var notebookContainer = gd.closest('#notebook-container');\n",
              "if (notebookContainer) {{\n",
              "    x.observe(notebookContainer, {childList: true});\n",
              "}}\n",
              "\n",
              "// Listen for the clearing of the current output cell\n",
              "var outputEl = gd.closest('.output');\n",
              "if (outputEl) {{\n",
              "    x.observe(outputEl, {childList: true});\n",
              "}}\n",
              "\n",
              "                        })                };                            </script>        </div>\n",
              "</body>\n",
              "</html>"
            ]
          },
          "metadata": {}
        },
        {
          "output_type": "stream",
          "name": "stdout",
          "text": [
            "6      0.104437\n",
            "12     0.102365\n",
            "2      0.091474\n",
            "10     0.090772\n",
            "11     0.037051\n",
            "         ...   \n",
            "167    0.000033\n",
            "134    0.000033\n",
            "156    0.000033\n",
            "121    0.000033\n",
            "181    0.000033\n",
            "Name: ClientName, Length: 181, dtype: float64\n"
          ]
        }
      ]
    },
    {
      "cell_type": "markdown",
      "source": [
        "> Dada la importancia de ciertos acreedores, podría ser apropiado desarrollar modelos individuales.\n",
        ">\n",
        "> Podría ser diferente el puntaje en una hipoteca que en una factura de teléfono?"
      ],
      "metadata": {
        "id": "9W2VpJbXToG6"
      }
    },
    {
      "cell_type": "code",
      "source": [
        "import statsmodels.api  #Méthode ANOVA \n",
        "\n",
        "result = statsmodels.formula.api.ols('Target90Days ~ NumberOfTelephonesCI', data=df).fit()\n",
        "table = statsmodels.api.stats.anova_lm(result)\n",
        "table"
      ],
      "metadata": {
        "colab": {
          "base_uri": "https://localhost:8080/",
          "height": 112
        },
        "id": "2TTz7VrgsOY2",
        "outputId": "012cfb6c-70da-4745-b80f-77da02474edc"
      },
      "execution_count": null,
      "outputs": [
        {
          "output_type": "execute_result",
          "data": {
            "text/plain": [
              "                           df       sum_sq    mean_sq           F  \\\n",
              "NumberOfTelephonesCI      1.0    30.371526  30.371526  217.872783   \n",
              "Residual              29930.0  4172.250250   0.139400         NaN   \n",
              "\n",
              "                            PR(>F)  \n",
              "NumberOfTelephonesCI  3.920400e-49  \n",
              "Residual                       NaN  "
            ],
            "text/html": [
              "\n",
              "  <div id=\"df-99733073-a555-4183-9d16-033c226c76f2\">\n",
              "    <div class=\"colab-df-container\">\n",
              "      <div>\n",
              "<style scoped>\n",
              "    .dataframe tbody tr th:only-of-type {\n",
              "        vertical-align: middle;\n",
              "    }\n",
              "\n",
              "    .dataframe tbody tr th {\n",
              "        vertical-align: top;\n",
              "    }\n",
              "\n",
              "    .dataframe thead th {\n",
              "        text-align: right;\n",
              "    }\n",
              "</style>\n",
              "<table border=\"1\" class=\"dataframe\">\n",
              "  <thead>\n",
              "    <tr style=\"text-align: right;\">\n",
              "      <th></th>\n",
              "      <th>df</th>\n",
              "      <th>sum_sq</th>\n",
              "      <th>mean_sq</th>\n",
              "      <th>F</th>\n",
              "      <th>PR(&gt;F)</th>\n",
              "    </tr>\n",
              "  </thead>\n",
              "  <tbody>\n",
              "    <tr>\n",
              "      <th>NumberOfTelephonesCI</th>\n",
              "      <td>1.0</td>\n",
              "      <td>30.371526</td>\n",
              "      <td>30.371526</td>\n",
              "      <td>217.872783</td>\n",
              "      <td>3.920400e-49</td>\n",
              "    </tr>\n",
              "    <tr>\n",
              "      <th>Residual</th>\n",
              "      <td>29930.0</td>\n",
              "      <td>4172.250250</td>\n",
              "      <td>0.139400</td>\n",
              "      <td>NaN</td>\n",
              "      <td>NaN</td>\n",
              "    </tr>\n",
              "  </tbody>\n",
              "</table>\n",
              "</div>\n",
              "      <button class=\"colab-df-convert\" onclick=\"convertToInteractive('df-99733073-a555-4183-9d16-033c226c76f2')\"\n",
              "              title=\"Convert this dataframe to an interactive table.\"\n",
              "              style=\"display:none;\">\n",
              "        \n",
              "  <svg xmlns=\"http://www.w3.org/2000/svg\" height=\"24px\"viewBox=\"0 0 24 24\"\n",
              "       width=\"24px\">\n",
              "    <path d=\"M0 0h24v24H0V0z\" fill=\"none\"/>\n",
              "    <path d=\"M18.56 5.44l.94 2.06.94-2.06 2.06-.94-2.06-.94-.94-2.06-.94 2.06-2.06.94zm-11 1L8.5 8.5l.94-2.06 2.06-.94-2.06-.94L8.5 2.5l-.94 2.06-2.06.94zm10 10l.94 2.06.94-2.06 2.06-.94-2.06-.94-.94-2.06-.94 2.06-2.06.94z\"/><path d=\"M17.41 7.96l-1.37-1.37c-.4-.4-.92-.59-1.43-.59-.52 0-1.04.2-1.43.59L10.3 9.45l-7.72 7.72c-.78.78-.78 2.05 0 2.83L4 21.41c.39.39.9.59 1.41.59.51 0 1.02-.2 1.41-.59l7.78-7.78 2.81-2.81c.8-.78.8-2.07 0-2.86zM5.41 20L4 18.59l7.72-7.72 1.47 1.35L5.41 20z\"/>\n",
              "  </svg>\n",
              "      </button>\n",
              "      \n",
              "  <style>\n",
              "    .colab-df-container {\n",
              "      display:flex;\n",
              "      flex-wrap:wrap;\n",
              "      gap: 12px;\n",
              "    }\n",
              "\n",
              "    .colab-df-convert {\n",
              "      background-color: #E8F0FE;\n",
              "      border: none;\n",
              "      border-radius: 50%;\n",
              "      cursor: pointer;\n",
              "      display: none;\n",
              "      fill: #1967D2;\n",
              "      height: 32px;\n",
              "      padding: 0 0 0 0;\n",
              "      width: 32px;\n",
              "    }\n",
              "\n",
              "    .colab-df-convert:hover {\n",
              "      background-color: #E2EBFA;\n",
              "      box-shadow: 0px 1px 2px rgba(60, 64, 67, 0.3), 0px 1px 3px 1px rgba(60, 64, 67, 0.15);\n",
              "      fill: #174EA6;\n",
              "    }\n",
              "\n",
              "    [theme=dark] .colab-df-convert {\n",
              "      background-color: #3B4455;\n",
              "      fill: #D2E3FC;\n",
              "    }\n",
              "\n",
              "    [theme=dark] .colab-df-convert:hover {\n",
              "      background-color: #434B5C;\n",
              "      box-shadow: 0px 1px 3px 1px rgba(0, 0, 0, 0.15);\n",
              "      filter: drop-shadow(0px 1px 2px rgba(0, 0, 0, 0.3));\n",
              "      fill: #FFFFFF;\n",
              "    }\n",
              "  </style>\n",
              "\n",
              "      <script>\n",
              "        const buttonEl =\n",
              "          document.querySelector('#df-99733073-a555-4183-9d16-033c226c76f2 button.colab-df-convert');\n",
              "        buttonEl.style.display =\n",
              "          google.colab.kernel.accessAllowed ? 'block' : 'none';\n",
              "\n",
              "        async function convertToInteractive(key) {\n",
              "          const element = document.querySelector('#df-99733073-a555-4183-9d16-033c226c76f2');\n",
              "          const dataTable =\n",
              "            await google.colab.kernel.invokeFunction('convertToInteractive',\n",
              "                                                     [key], {});\n",
              "          if (!dataTable) return;\n",
              "\n",
              "          const docLinkHtml = 'Like what you see? Visit the ' +\n",
              "            '<a target=\"_blank\" href=https://colab.research.google.com/notebooks/data_table.ipynb>data table notebook</a>'\n",
              "            + ' to learn more about interactive tables.';\n",
              "          element.innerHTML = '';\n",
              "          dataTable['output_type'] = 'display_data';\n",
              "          await google.colab.output.renderOutput(dataTable, element);\n",
              "          const docLink = document.createElement('div');\n",
              "          docLink.innerHTML = docLinkHtml;\n",
              "          element.appendChild(docLink);\n",
              "        }\n",
              "      </script>\n",
              "    </div>\n",
              "  </div>\n",
              "  "
            ]
          },
          "metadata": {},
          "execution_count": 20
        }
      ]
    },
    {
      "cell_type": "code",
      "source": [
        "fig = px.density_heatmap(df, x=\"Target90Days\", y=\"NumberOfTelephonesCI\")\n",
        "fig.show()"
      ],
      "metadata": {
        "colab": {
          "base_uri": "https://localhost:8080/",
          "height": 542
        },
        "id": "a3Dg6j9tUnDy",
        "outputId": "d4d5af29-0472-4785-ea0f-dd147a5f668e"
      },
      "execution_count": null,
      "outputs": [
        {
          "output_type": "display_data",
          "data": {
            "text/html": [
              "<html>\n",
              "<head><meta charset=\"utf-8\" /></head>\n",
              "<body>\n",
              "    <div>            <script src=\"https://cdnjs.cloudflare.com/ajax/libs/mathjax/2.7.5/MathJax.js?config=TeX-AMS-MML_SVG\"></script><script type=\"text/javascript\">if (window.MathJax) {MathJax.Hub.Config({SVG: {font: \"STIX-Web\"}});}</script>                <script type=\"text/javascript\">window.PlotlyConfig = {MathJaxConfig: 'local'};</script>\n",
              "        <script src=\"https://cdn.plot.ly/plotly-2.8.3.min.js\"></script>                <div id=\"33fe2bb2-d787-4be1-9cc4-b1197ef051da\" class=\"plotly-graph-div\" style=\"height:525px; width:100%;\"></div>            <script type=\"text/javascript\">                                    window.PLOTLYENV=window.PLOTLYENV || {};                                    if (document.getElementById(\"33fe2bb2-d787-4be1-9cc4-b1197ef051da\")) {                    Plotly.newPlot(                        \"33fe2bb2-d787-4be1-9cc4-b1197ef051da\",                        [{\"coloraxis\":\"coloraxis\",\"hovertemplate\":\"Target90Days=%{x}<br>NumberOfTelephonesCI=%{y}<br>count=%{z}<extra></extra>\",\"name\":\"\",\"x\":[0.0,0.0,0.0,0.0,0.0,0.0,0.0,0.0,0.0,0.0,1.0,0.0,1.0,0.0,1.0,0.0,1.0,1.0,0.0,0.0,0.0,0.0,0.0,0.0,0.0,0.0,0.0,0.0,0.0,0.0,0.0,0.0,0.0,1.0,0.0,0.0,0.0,0.0,1.0,0.0,0.0,0.0,0.0,0.0,0.0,0.0,0.0,0.0,0.0,0.0,0.0,0.0,0.0,0.0,1.0,0.0,0.0,0.0,0.0,0.0,0.0,1.0,0.0,1.0,0.0,0.0,0.0,0.0,0.0,0.0,0.0,0.0,0.0,0.0,0.0,0.0,0.0,0.0,0.0,0.0,1.0,0.0,0.0,1.0,1.0,0.0,0.0,0.0,0.0,0.0,0.0,0.0,1.0,1.0,0.0,0.0,1.0,0.0,0.0,0.0,0.0,0.0,0.0,0.0,0.0,0.0,0.0,0.0,0.0,0.0,1.0,0.0,0.0,0.0,0.0,0.0,0.0,0.0,1.0,0.0,1.0,0.0,0.0,0.0,1.0,0.0,1.0,0.0,0.0,0.0,0.0,0.0,0.0,0.0,0.0,1.0,0.0,0.0,0.0,1.0,0.0,0.0,0.0,0.0,0.0,0.0,0.0,0.0,0.0,0.0,0.0,0.0,0.0,0.0,0.0,0.0,0.0,1.0,0.0,1.0,1.0,0.0,0.0,0.0,0.0,0.0,0.0,0.0,0.0,0.0,0.0,0.0,0.0,0.0,0.0,0.0,0.0,0.0,0.0,0.0,1.0,1.0,0.0,1.0,0.0,0.0,1.0,0.0,0.0,0.0,0.0,0.0,0.0,0.0,0.0,0.0,0.0,0.0,0.0,1.0,0.0,0.0,0.0,1.0,1.0,0.0,0.0,0.0,1.0,0.0,0.0,0.0,0.0,0.0,1.0,0.0,0.0,1.0,1.0,0.0,0.0,1.0,0.0,0.0,1.0,0.0,0.0,0.0,0.0,0.0,0.0,0.0,0.0,0.0,1.0,0.0,0.0,0.0,0.0,0.0,1.0,0.0,0.0,0.0,0.0,0.0,0.0,0.0,0.0,0.0,0.0,0.0,0.0,0.0,1.0,0.0,0.0,1.0,0.0,0.0,0.0,0.0,0.0,0.0,0.0,1.0,0.0,0.0,0.0,0.0,0.0,1.0,0.0,0.0,0.0,0.0,0.0,0.0,0.0,0.0,0.0,0.0,1.0,0.0,1.0,0.0,1.0,0.0,0.0,0.0,0.0,0.0,1.0,0.0,0.0,0.0,0.0,0.0,0.0,0.0,0.0,0.0,0.0,1.0,0.0,0.0,0.0,0.0,0.0,0.0,0.0,1.0,0.0,0.0,0.0,0.0,0.0,0.0,0.0,0.0,1.0,0.0,0.0,0.0,0.0,0.0,0.0,0.0,1.0,1.0,0.0,0.0,0.0,0.0,0.0,0.0,0.0,0.0,0.0,1.0,1.0,0.0,0.0,0.0,0.0,0.0,0.0,0.0,0.0,0.0,0.0,0.0,0.0,0.0,0.0,0.0,0.0,1.0,0.0,0.0,0.0,0.0,0.0,0.0,0.0,0.0,0.0,0.0,0.0,0.0,0.0,0.0,0.0,0.0,1.0,0.0,0.0,0.0,1.0,1.0,0.0,0.0,0.0,0.0,0.0,0.0,0.0,0.0,1.0,0.0,0.0,1.0,0.0,0.0,0.0,0.0,0.0,0.0,1.0,0.0,0.0,1.0,0.0,0.0,0.0,0.0,0.0,0.0,0.0,1.0,1.0,0.0,0.0,0.0,0.0,0.0,0.0,0.0,0.0,1.0,0.0,0.0,0.0,0.0,0.0,0.0,0.0,0.0,1.0,0.0,0.0,0.0,1.0,0.0,0.0,0.0,0.0,0.0,1.0,0.0,0.0,1.0,0.0,1.0,0.0,0.0,0.0,0.0,0.0,0.0,1.0,0.0,1.0,0.0,0.0,0.0,0.0,0.0,1.0,0.0,0.0,0.0,0.0,0.0,0.0,1.0,1.0,0.0,0.0,0.0,0.0,1.0,0.0,0.0,0.0,1.0,0.0,0.0,1.0,0.0,0.0,0.0,0.0,0.0,1.0,0.0,0.0,0.0,0.0,0.0,0.0,0.0,0.0,0.0,0.0,0.0,0.0,0.0,0.0,0.0,0.0,0.0,1.0,0.0,0.0,0.0,1.0,0.0,0.0,1.0,0.0,1.0,0.0,0.0,0.0,1.0,0.0,0.0,0.0,0.0,0.0,0.0,0.0,0.0,0.0,1.0,0.0,0.0,0.0,0.0,0.0,0.0,0.0,0.0,0.0,0.0,0.0,0.0,0.0,0.0,0.0,0.0,0.0,1.0,1.0,0.0,0.0,0.0,0.0,0.0,1.0,1.0,0.0,0.0,1.0,0.0,0.0,0.0,0.0,0.0,0.0,0.0,0.0,0.0,1.0,0.0,0.0,0.0,0.0,0.0,0.0,0.0,0.0,1.0,0.0,0.0,0.0,1.0,0.0,1.0,0.0,0.0,0.0,0.0,0.0,0.0,0.0,0.0,0.0,0.0,0.0,0.0,0.0,1.0,0.0,0.0,0.0,0.0,0.0,0.0,0.0,0.0,0.0,1.0,0.0,0.0,0.0,0.0,0.0,1.0,0.0,1.0,0.0,0.0,0.0,0.0,1.0,0.0,0.0,0.0,0.0,0.0,0.0,0.0,1.0,0.0,0.0,0.0,0.0,0.0,0.0,0.0,1.0,0.0,1.0,0.0,0.0,0.0,0.0,1.0,0.0,1.0,1.0,0.0,0.0,0.0,0.0,0.0,0.0,0.0,0.0,0.0,0.0,1.0,0.0,0.0,0.0,0.0,0.0,0.0,0.0,0.0,0.0,0.0,1.0,0.0,1.0,0.0,1.0,0.0,0.0,0.0,0.0,0.0,0.0,1.0,0.0,1.0,0.0,0.0,1.0,0.0,0.0,0.0,0.0,0.0,0.0,0.0,0.0,0.0,0.0,0.0,0.0,0.0,0.0,1.0,0.0,0.0,0.0,0.0,0.0,0.0,0.0,0.0,0.0,0.0,0.0,0.0,1.0,0.0,0.0,0.0,0.0,0.0,0.0,0.0,0.0,0.0,0.0,0.0,0.0,0.0,0.0,0.0,0.0,1.0,0.0,1.0,0.0,0.0,0.0,0.0,0.0,0.0,0.0,0.0,0.0,0.0,0.0,1.0,0.0,1.0,1.0,0.0,0.0,0.0,1.0,0.0,0.0,0.0,0.0,0.0,1.0,0.0,0.0,0.0,0.0,1.0,0.0,1.0,1.0,0.0,1.0,0.0,0.0,0.0,1.0,0.0,1.0,1.0,1.0,0.0,0.0,0.0,0.0,0.0,0.0,0.0,0.0,0.0,0.0,0.0,0.0,0.0,0.0,1.0,0.0,0.0,0.0,0.0,0.0,1.0,1.0,0.0,0.0,0.0,0.0,0.0,0.0,0.0,0.0,0.0,0.0,0.0,0.0,0.0,0.0,0.0,1.0,0.0,0.0,0.0,0.0,0.0,1.0,0.0,1.0,0.0,0.0,0.0,0.0,0.0,0.0,0.0,0.0,0.0,0.0,0.0,0.0,1.0,0.0,0.0,0.0,1.0,0.0,0.0,0.0,1.0,1.0,1.0,0.0,1.0,0.0,0.0,0.0,1.0,0.0,0.0,1.0,0.0,0.0,0.0,0.0,0.0,1.0,0.0,0.0,0.0,0.0,0.0,0.0,0.0,0.0,0.0,0.0,0.0,1.0,0.0,1.0,0.0,0.0,0.0,0.0,0.0,0.0,0.0,0.0,0.0,0.0,0.0,0.0,0.0,0.0,0.0,1.0,0.0,0.0,0.0,0.0,0.0,0.0,0.0,0.0,0.0,1.0,0.0,1.0,1.0,0.0,1.0,0.0,0.0,0.0,1.0,0.0,0.0,0.0,1.0,0.0,0.0,0.0,0.0,0.0,1.0,1.0,0.0,0.0,1.0,0.0,0.0,0.0,0.0,0.0,0.0,0.0,0.0,0.0,0.0,0.0,0.0,0.0,0.0,0.0,0.0,0.0,0.0,1.0,0.0,0.0,0.0,0.0,0.0,0.0,0.0,0.0,0.0,0.0,1.0,0.0,0.0,0.0,0.0,0.0,0.0,0.0,1.0,0.0,0.0,0.0,0.0,0.0,1.0,0.0,0.0,0.0,1.0,0.0,1.0,0.0,0.0,0.0,0.0,0.0,0.0,0.0,0.0,0.0,0.0,0.0,1.0,0.0,0.0,0.0,0.0,0.0,0.0,0.0,0.0,1.0,0.0,0.0,0.0,0.0,0.0,0.0,0.0,1.0,0.0,1.0,0.0,1.0,0.0,1.0,0.0,0.0,0.0,0.0,0.0,0.0,0.0,0.0,1.0,0.0,1.0,0.0,0.0,0.0,0.0,0.0,0.0,0.0,0.0,1.0,0.0,0.0,0.0,0.0,0.0,0.0,0.0,0.0,0.0,0.0,1.0,0.0,0.0,0.0,0.0,0.0,0.0,0.0,0.0,1.0,0.0,0.0,0.0,0.0,0.0,0.0,1.0,1.0,0.0,0.0,1.0,0.0,0.0,0.0,1.0,0.0,0.0,0.0,0.0,0.0,1.0,0.0,1.0,0.0,0.0,0.0,0.0,0.0,0.0,0.0,0.0,0.0,1.0,0.0,0.0,0.0,0.0,0.0,0.0,0.0,0.0,1.0,0.0,0.0,0.0,1.0,0.0,0.0,0.0,0.0,0.0,0.0,1.0,0.0,0.0,1.0,0.0,0.0,0.0,0.0,0.0,0.0,0.0,0.0,0.0,0.0,0.0,0.0,1.0,0.0,0.0,0.0,0.0,1.0,0.0,0.0,1.0,1.0,0.0,0.0,0.0,0.0,0.0,0.0,1.0,0.0,0.0,0.0,0.0,0.0,0.0,1.0,0.0,0.0,1.0,0.0,0.0,0.0,1.0,0.0,1.0,0.0,1.0,0.0,0.0,0.0,0.0,0.0,0.0,0.0,0.0,0.0,0.0,0.0,0.0,0.0,0.0,0.0,0.0,1.0,0.0,0.0,0.0,0.0,0.0,1.0,0.0,0.0,0.0,0.0,0.0,0.0,0.0,0.0,0.0,1.0,1.0,0.0,1.0,0.0,0.0,1.0,0.0,1.0,0.0,0.0,0.0,0.0,1.0,0.0,0.0,0.0,0.0,0.0,0.0,0.0,0.0,0.0,0.0,0.0,0.0,0.0,1.0,0.0,0.0,0.0,0.0,0.0,0.0,0.0,0.0,0.0,0.0,0.0,0.0,0.0,0.0,0.0,0.0,0.0,0.0,1.0,0.0,0.0,0.0,0.0,0.0,1.0,0.0,0.0,0.0,0.0,0.0,0.0,0.0,0.0,0.0,0.0,0.0,0.0,0.0,1.0,0.0,0.0,0.0,0.0,0.0,1.0,0.0,0.0,0.0,1.0,0.0,0.0,1.0,1.0,0.0,1.0,0.0,0.0,0.0,0.0,1.0,0.0,0.0,0.0,0.0,0.0,0.0,0.0,0.0,0.0,1.0,0.0,0.0,0.0,0.0,0.0,0.0,0.0,0.0,0.0,1.0,0.0,0.0,0.0,0.0,0.0,0.0,0.0,0.0,0.0,0.0,1.0,0.0,0.0,0.0,0.0,0.0,0.0,0.0,0.0,0.0,0.0,0.0,0.0,0.0,1.0,0.0,0.0,0.0,0.0,0.0,1.0,0.0,0.0,1.0,0.0,0.0,0.0,0.0,0.0,1.0,0.0,0.0,0.0,0.0,0.0,0.0,0.0,0.0,0.0,0.0,0.0,0.0,0.0,0.0,0.0,0.0,0.0,0.0,0.0,0.0,1.0,0.0,0.0,0.0,0.0,0.0,0.0,0.0,1.0,0.0,0.0,1.0,0.0,0.0,1.0,1.0,0.0,0.0,0.0,0.0,0.0,0.0,1.0,1.0,0.0,0.0,0.0,0.0,0.0,0.0,1.0,0.0,1.0,0.0,1.0,0.0,0.0,0.0,0.0,0.0,0.0,0.0,0.0,0.0,0.0,1.0,0.0,0.0,0.0,1.0,1.0,0.0,0.0,0.0,0.0,0.0,1.0,0.0,0.0,1.0,0.0,0.0,0.0,0.0,0.0,0.0,1.0,1.0,0.0,0.0,0.0,0.0,0.0,1.0,1.0,0.0,0.0,0.0,0.0,0.0,0.0,1.0,1.0,0.0,0.0,0.0,0.0,0.0,1.0,0.0,0.0,0.0,0.0,0.0,0.0,0.0,0.0,0.0,0.0,0.0,1.0,0.0,1.0,1.0,0.0,1.0,0.0,0.0,0.0,0.0,0.0,1.0,0.0,0.0,0.0,0.0,0.0,0.0,0.0,0.0,1.0,0.0,0.0,0.0,0.0,0.0,0.0,0.0,1.0,0.0,1.0,0.0,0.0,0.0,1.0,0.0,0.0,1.0,0.0,0.0,1.0,0.0,1.0,0.0,0.0,0.0,0.0,0.0,0.0,0.0,0.0,0.0,0.0,0.0,1.0,0.0,0.0,0.0,0.0,0.0,0.0,1.0,0.0,0.0,0.0,0.0,0.0,0.0,0.0,0.0,0.0,0.0,0.0,0.0,0.0,1.0,0.0,0.0,0.0,0.0,0.0,0.0,1.0,0.0,1.0,1.0,0.0,0.0,0.0,0.0,0.0,0.0,0.0,0.0,0.0,1.0,0.0,0.0,0.0,0.0,0.0,0.0,0.0,0.0,0.0,1.0,0.0,0.0,0.0,0.0,0.0,0.0,1.0,0.0,0.0,0.0,0.0,1.0,1.0,1.0,1.0,0.0,0.0,0.0,0.0,0.0,0.0,0.0,0.0,0.0,0.0,0.0,0.0,0.0,0.0,0.0,1.0,0.0,0.0,0.0,0.0,0.0,1.0,1.0,0.0,0.0,0.0,0.0,0.0,0.0,0.0,0.0,0.0,0.0,0.0,1.0,1.0,0.0,1.0,0.0,0.0,0.0,0.0,0.0,0.0,1.0,0.0,1.0,0.0,0.0,1.0,0.0,1.0,0.0,0.0,0.0,0.0,0.0,0.0,0.0,0.0,0.0,0.0,0.0,0.0,0.0,0.0,0.0,0.0,0.0,0.0,0.0,0.0,0.0,0.0,0.0,0.0,0.0,0.0,0.0,1.0,1.0,0.0,0.0,0.0,1.0,0.0,0.0,0.0,0.0,1.0,0.0,0.0,0.0,1.0,0.0,0.0,0.0,1.0,1.0,0.0,0.0,0.0,0.0,0.0,1.0,0.0,0.0,0.0,0.0,0.0,0.0,0.0,1.0,0.0,0.0,1.0,0.0,0.0,0.0,0.0,0.0,0.0,0.0,0.0,0.0,0.0,0.0,0.0,0.0,1.0,0.0,1.0,0.0,0.0,0.0,0.0,0.0,0.0,0.0,1.0,0.0,0.0,1.0,0.0,0.0,0.0,0.0,0.0,0.0,0.0,1.0,0.0,1.0,1.0,0.0,0.0,0.0,0.0,0.0,0.0,0.0,0.0,0.0,0.0,1.0,0.0,1.0,1.0,0.0,0.0,0.0,0.0,0.0,1.0,0.0,0.0,0.0,0.0,0.0,1.0,0.0,0.0,0.0,0.0,0.0,0.0,0.0,1.0,0.0,0.0,1.0,0.0,0.0,0.0,0.0,0.0,0.0,0.0,0.0,0.0,0.0,0.0,0.0,0.0,0.0,0.0,0.0,1.0,0.0,0.0,0.0,0.0,1.0,0.0,0.0,0.0,0.0,0.0,0.0,0.0,0.0,0.0,0.0,0.0,0.0,1.0,0.0,0.0,0.0,0.0,1.0,0.0,0.0,0.0,0.0,1.0,0.0,0.0,0.0,0.0,0.0,0.0,0.0,0.0,1.0,0.0,0.0,0.0,1.0,1.0,0.0,0.0,0.0,0.0,0.0,0.0,0.0,0.0,0.0,0.0,0.0,0.0,1.0,0.0,0.0,0.0,0.0,0.0,0.0,0.0,1.0,0.0,0.0,0.0,0.0,0.0,0.0,0.0,0.0,0.0,0.0,0.0,0.0,0.0,0.0,0.0,1.0,0.0,0.0,0.0,0.0,0.0,0.0,1.0,0.0,0.0,1.0,0.0,1.0,0.0,0.0,0.0,0.0,0.0,0.0,0.0,0.0,0.0,0.0,0.0,0.0,1.0,0.0,0.0,0.0,0.0,0.0,1.0,0.0,0.0,0.0,0.0,0.0,0.0,0.0,0.0,1.0,0.0,0.0,0.0,0.0,0.0,0.0,1.0,0.0,0.0,0.0,0.0,0.0,0.0,0.0,0.0,1.0,0.0,0.0,0.0,0.0,0.0,0.0,0.0,0.0,0.0,0.0,0.0,1.0,0.0,0.0,0.0,0.0,0.0,0.0,0.0,0.0,1.0,0.0,0.0,0.0,0.0,1.0,1.0,0.0,0.0,0.0,1.0,0.0,0.0,0.0,0.0,0.0,0.0,0.0,0.0,0.0,0.0,0.0,0.0,0.0,0.0,1.0,0.0,0.0,0.0,0.0,0.0,1.0,0.0,0.0,0.0,0.0,0.0,0.0,0.0,0.0,0.0,1.0,0.0,0.0,0.0,0.0,0.0,0.0,0.0,0.0,1.0,0.0,0.0,0.0,0.0,0.0,0.0,0.0,0.0,0.0,0.0,0.0,1.0,1.0,1.0,0.0,0.0,0.0,0.0,0.0,1.0,0.0,1.0,0.0,0.0,0.0,0.0,0.0,0.0,0.0,0.0,0.0,0.0,0.0,0.0,0.0,1.0,0.0,0.0,0.0,0.0,1.0,0.0,0.0,0.0,0.0,1.0,0.0,0.0,0.0,1.0,0.0,1.0,1.0,0.0,0.0,0.0,0.0,0.0,0.0,1.0,0.0,0.0,0.0,1.0,0.0,0.0,0.0,0.0,0.0,0.0,0.0,0.0,0.0,1.0,1.0,0.0,0.0,0.0,0.0,0.0,0.0,0.0,0.0,1.0,1.0,0.0,1.0,0.0,0.0,1.0,0.0,0.0,0.0,1.0,0.0,0.0,0.0,0.0,1.0,0.0,0.0,0.0,1.0,0.0,0.0,0.0,0.0,1.0,0.0,0.0,0.0,0.0,1.0,0.0,0.0,0.0,0.0,0.0,0.0,1.0,0.0,0.0,0.0,1.0,0.0,0.0,0.0,0.0,0.0,0.0,0.0,1.0,1.0,0.0,0.0,0.0,0.0,0.0,0.0,1.0,0.0,0.0,0.0,0.0,0.0,0.0,0.0,0.0,0.0,1.0,1.0,0.0,0.0,0.0,0.0,1.0,0.0,1.0,0.0,0.0,0.0,0.0,0.0,1.0,0.0,0.0,1.0,0.0,0.0,0.0,1.0,0.0,0.0,0.0,0.0,0.0,0.0,0.0,0.0,0.0,0.0,0.0,1.0,0.0,1.0,0.0,0.0,0.0,0.0,0.0,0.0,0.0,0.0,0.0,0.0,0.0,1.0,0.0,0.0,0.0,1.0,0.0,0.0,0.0,0.0,0.0,0.0,0.0,0.0,0.0,0.0,1.0,0.0,0.0,0.0,0.0,0.0,0.0,0.0,0.0,1.0,0.0,0.0,1.0,1.0,0.0,0.0,0.0,0.0,0.0,1.0,0.0,0.0,0.0,0.0,0.0,0.0,0.0,1.0,0.0,0.0,1.0,0.0,0.0,0.0,0.0,0.0,0.0,0.0,0.0,0.0,0.0,0.0,0.0,0.0,1.0,0.0,0.0,0.0,0.0,0.0,0.0,1.0,0.0,0.0,0.0,0.0,0.0,0.0,1.0,0.0,0.0,0.0,0.0,1.0,0.0,1.0,1.0,0.0,0.0,0.0,0.0,0.0,0.0,0.0,0.0,1.0,0.0,0.0,0.0,0.0,0.0,0.0,0.0,0.0,0.0,0.0,0.0,0.0,0.0,1.0,0.0,0.0,0.0,0.0,1.0,0.0,0.0,0.0,0.0,0.0,0.0,0.0,0.0,0.0,0.0,0.0,0.0,1.0,0.0,1.0,1.0,0.0,0.0,0.0,0.0,0.0,0.0,0.0,0.0,0.0,0.0,0.0,0.0,0.0,0.0,0.0,0.0,0.0,0.0,0.0,0.0,0.0,0.0,0.0,0.0,0.0,0.0,1.0,1.0,0.0,0.0,0.0,0.0,0.0,0.0,0.0,0.0,0.0,0.0,0.0,0.0,0.0,0.0,0.0,0.0,0.0,0.0,0.0,1.0,0.0,0.0,1.0,0.0,0.0,1.0,0.0,0.0,0.0,0.0,1.0,0.0,0.0,0.0,1.0,0.0,0.0,1.0,0.0,0.0,0.0,0.0,0.0,1.0,0.0,0.0,1.0,0.0,1.0,1.0,0.0,1.0,0.0,0.0,0.0,0.0,1.0,0.0,0.0,0.0,0.0,0.0,0.0,0.0,1.0,0.0,1.0,0.0,0.0,0.0,0.0,0.0,0.0,0.0,1.0,0.0,0.0,0.0,0.0,0.0,1.0,0.0,0.0,0.0,0.0,0.0,0.0,0.0,0.0,0.0,0.0,0.0,0.0,0.0,1.0,1.0,0.0,0.0,0.0,0.0,0.0,0.0,0.0,0.0,0.0,0.0,0.0,0.0,0.0,0.0,0.0,0.0,0.0,0.0,1.0,0.0,0.0,0.0,0.0,0.0,0.0,0.0,0.0,0.0,0.0,0.0,0.0,0.0,1.0,0.0,0.0,1.0,0.0,0.0,1.0,0.0,0.0,0.0,0.0,0.0,0.0,1.0,0.0,0.0,0.0,0.0,0.0,0.0,0.0,0.0,0.0,1.0,0.0,0.0,0.0,0.0,0.0,0.0,0.0,0.0,0.0,0.0,0.0,1.0,1.0,0.0,0.0,0.0,1.0,0.0,1.0,0.0,0.0,0.0,0.0,0.0,0.0,1.0,0.0,0.0,0.0,0.0,1.0,0.0,0.0,0.0,0.0,0.0,0.0,1.0,0.0,0.0,0.0,0.0,0.0,0.0,0.0,0.0,0.0,0.0,1.0,0.0,1.0,0.0,1.0,0.0,0.0,1.0,1.0,0.0,0.0,0.0,0.0,0.0,0.0,0.0,0.0,0.0,1.0,0.0,0.0,0.0,0.0,0.0,0.0,0.0,0.0,0.0,0.0,0.0,0.0,0.0,0.0,0.0,0.0,0.0,1.0,0.0,0.0,1.0,0.0,1.0,1.0,0.0,0.0,0.0,0.0,0.0,0.0,1.0,0.0,0.0,0.0,0.0,0.0,0.0,0.0,0.0,0.0,0.0,0.0,1.0,0.0,1.0,1.0,0.0,0.0,0.0,1.0,1.0,0.0,0.0,0.0,0.0,0.0,0.0,0.0,0.0,1.0,0.0,0.0,1.0,0.0,0.0,0.0,0.0,0.0,0.0,0.0,0.0,1.0,0.0,0.0,0.0,0.0,0.0,0.0,0.0,0.0,0.0,1.0,0.0,0.0,0.0,0.0,0.0,0.0,0.0,0.0,0.0,0.0,0.0,0.0,0.0,0.0,1.0,0.0,0.0,0.0,0.0,0.0,1.0,1.0,0.0,0.0,0.0,0.0,1.0,0.0,0.0,0.0,0.0,1.0,0.0,1.0,0.0,1.0,0.0,0.0,1.0,0.0,0.0,0.0,0.0,0.0,0.0,0.0,1.0,1.0,0.0,0.0,1.0,0.0,0.0,0.0,0.0,0.0,0.0,0.0,0.0,0.0,0.0,1.0,0.0,0.0,1.0,0.0,0.0,0.0,0.0,0.0,0.0,0.0,0.0,0.0,0.0,0.0,0.0,0.0,0.0,0.0,0.0,0.0,0.0,0.0,0.0,0.0,0.0,0.0,0.0,0.0,0.0,0.0,0.0,0.0,0.0,0.0,0.0,0.0,0.0,1.0,1.0,1.0,0.0,0.0,0.0,0.0,0.0,0.0,0.0,0.0,0.0,0.0,0.0,0.0,1.0,1.0,1.0,0.0,0.0,0.0,1.0,0.0,1.0,1.0,0.0,0.0,0.0,0.0,0.0,0.0,0.0,1.0,0.0,0.0,0.0,0.0,0.0,0.0,0.0,0.0,0.0,0.0,0.0,0.0,1.0,0.0,0.0,0.0,0.0,0.0,1.0,0.0,0.0,0.0,0.0,0.0,0.0,0.0,0.0,0.0,0.0,1.0,1.0,0.0,0.0,0.0,0.0,0.0,1.0,0.0,0.0,0.0,0.0,0.0,0.0,0.0,0.0,0.0,0.0,0.0,0.0,0.0,0.0,0.0,0.0,0.0,1.0,0.0,1.0,0.0,0.0,1.0,0.0,1.0,0.0,0.0,0.0,0.0,0.0,0.0,1.0,0.0,1.0,1.0,0.0,0.0,0.0,0.0,0.0,1.0,0.0,0.0,0.0,0.0,0.0,0.0,0.0,1.0,0.0,0.0,0.0,0.0,0.0,0.0,1.0,0.0,0.0,0.0,1.0,1.0,0.0,0.0,0.0,1.0,0.0,0.0,0.0,0.0,0.0,0.0,1.0,0.0,0.0,0.0,0.0,0.0,0.0,0.0,1.0,0.0,0.0,0.0,0.0,0.0,1.0,0.0,0.0,1.0,0.0,1.0,0.0,0.0,0.0,0.0,1.0,0.0,0.0,0.0,0.0,1.0,0.0,0.0,1.0,0.0,0.0,1.0,0.0,0.0,0.0,1.0,0.0,1.0,0.0,0.0,0.0,0.0,0.0,0.0,0.0,0.0,0.0,1.0,1.0,0.0,0.0,0.0,0.0,0.0,0.0,0.0,1.0,0.0,0.0,0.0,0.0,0.0,0.0,0.0,1.0,0.0,0.0,0.0,0.0,1.0,0.0,0.0,0.0,1.0,0.0,0.0,1.0,0.0,1.0,0.0,0.0,1.0,0.0,0.0,0.0,0.0,1.0,0.0,1.0,0.0,0.0,0.0,0.0,1.0,0.0,0.0,0.0,0.0,0.0,0.0,0.0,0.0,0.0,1.0,0.0,0.0,0.0,1.0,0.0,0.0,0.0,0.0,1.0,0.0,0.0,0.0,0.0,0.0,0.0,0.0,0.0,0.0,0.0,1.0,0.0,0.0,0.0,0.0,0.0,1.0,0.0,0.0,0.0,0.0,0.0,0.0,1.0,0.0,0.0,0.0,0.0,0.0,1.0,0.0,0.0,0.0,0.0,0.0,0.0,0.0,1.0,0.0,0.0,0.0,0.0,0.0,0.0,0.0,0.0,0.0,0.0,0.0,1.0,0.0,0.0,0.0,0.0,0.0,1.0,0.0,0.0,0.0,0.0,1.0,1.0,0.0,0.0,0.0,0.0,0.0,0.0,0.0,0.0,0.0,1.0,1.0,0.0,0.0,0.0,0.0,0.0,0.0,0.0,0.0,0.0,0.0,0.0,0.0,0.0,0.0,1.0,0.0,1.0,0.0,0.0,1.0,0.0,0.0,0.0,0.0,0.0,0.0,0.0,0.0,0.0,1.0,0.0,0.0,0.0,0.0,0.0,0.0,0.0,0.0,0.0,0.0,0.0,0.0,1.0,0.0,0.0,0.0,0.0,0.0,0.0,0.0,1.0,0.0,1.0,0.0,0.0,0.0,0.0,0.0,0.0,1.0,0.0,0.0,0.0,0.0,1.0,0.0,0.0,1.0,1.0,1.0,0.0,0.0,1.0,0.0,1.0,0.0,0.0,0.0,1.0,0.0,0.0,0.0,0.0,0.0,1.0,0.0,0.0,1.0,0.0,1.0,1.0,1.0,0.0,0.0,1.0,1.0,0.0,0.0,1.0,1.0,0.0,0.0,0.0,0.0,0.0,0.0,0.0,1.0,0.0,0.0,1.0,0.0,0.0,0.0,0.0,1.0,0.0,1.0,0.0,0.0,0.0,0.0,0.0,0.0,0.0,0.0,1.0,0.0,0.0,0.0,1.0,1.0,0.0,0.0,0.0,0.0,0.0,1.0,0.0,0.0,0.0,0.0,0.0,0.0,0.0,0.0,0.0,0.0,0.0,0.0,0.0,0.0,0.0,1.0,1.0,0.0,0.0,0.0,0.0,1.0,0.0,0.0,0.0,0.0,0.0,0.0,0.0,1.0,0.0,0.0,0.0,0.0,0.0,0.0,0.0,0.0,1.0,0.0,0.0,0.0,0.0,0.0,0.0,0.0,0.0,0.0,0.0,0.0,0.0,0.0,0.0,1.0,0.0,0.0,0.0,0.0,0.0,0.0,0.0,1.0,1.0,0.0,0.0,0.0,0.0,0.0,0.0,0.0,0.0,0.0,1.0,0.0,1.0,0.0,0.0,0.0,0.0,0.0,0.0,1.0,0.0,0.0,1.0,1.0,1.0,0.0,0.0,0.0,0.0,0.0,0.0,1.0,0.0,0.0,0.0,0.0,0.0,0.0,1.0,0.0,0.0,1.0,0.0,1.0,0.0,0.0,1.0,0.0,0.0,0.0,0.0,0.0,0.0,0.0,0.0,1.0,0.0,0.0,1.0,0.0,0.0,0.0,0.0,1.0,0.0,0.0,0.0,0.0,0.0,0.0,0.0,0.0,0.0,0.0,0.0,0.0,0.0,0.0,0.0,0.0,0.0,0.0,1.0,1.0,0.0,0.0,0.0,0.0,0.0,0.0,1.0,1.0,0.0,0.0,0.0,0.0,0.0,0.0,0.0,0.0,1.0,0.0,0.0,1.0,0.0,0.0,0.0,0.0,1.0,0.0,0.0,0.0,0.0,0.0,1.0,0.0,0.0,0.0,0.0,0.0,1.0,1.0,0.0,1.0,0.0,0.0,0.0,0.0,0.0,1.0,0.0,0.0,0.0,0.0,0.0,1.0,0.0,1.0,0.0,0.0,0.0,1.0,0.0,0.0,0.0,0.0,0.0,0.0,1.0,1.0,0.0,0.0,0.0,1.0,0.0,0.0,0.0,1.0,0.0,0.0,0.0,1.0,1.0,0.0,0.0,0.0,0.0,0.0,1.0,0.0,0.0,0.0,0.0,0.0,0.0,1.0,0.0,0.0,0.0,0.0,0.0,0.0,0.0,1.0,0.0,0.0,1.0,1.0,0.0,0.0,0.0,0.0,0.0,0.0,0.0,0.0,0.0,0.0,0.0,0.0,0.0,1.0,1.0,0.0,0.0,0.0,0.0,0.0,0.0,0.0,0.0,0.0,1.0,0.0,0.0,0.0,0.0,0.0,0.0,0.0,0.0,0.0,0.0,0.0,0.0,1.0,0.0,1.0,0.0,0.0,0.0,0.0,1.0,0.0,0.0,0.0,0.0,0.0,0.0,0.0,0.0,0.0,0.0,0.0,0.0,0.0,0.0,0.0,1.0,0.0,1.0,1.0,0.0,0.0,1.0,0.0,0.0,0.0,1.0,0.0,0.0,1.0,0.0,1.0,0.0,0.0,1.0,0.0,0.0,0.0,0.0,0.0,0.0,0.0,1.0,0.0,0.0,0.0,0.0,0.0,0.0,0.0,0.0,0.0,0.0,0.0,1.0,0.0,0.0,0.0,0.0,0.0,0.0,0.0,0.0,1.0,0.0,0.0,0.0,1.0,0.0,1.0,0.0,0.0,0.0,0.0,0.0,0.0,0.0,0.0,0.0,0.0,0.0,0.0,0.0,0.0,0.0,0.0,0.0,0.0,0.0,0.0,0.0,0.0,0.0,0.0,0.0,0.0,0.0,0.0,0.0,0.0,0.0,1.0,1.0,1.0,0.0,0.0,0.0,0.0,0.0,0.0,0.0,0.0,0.0,0.0,0.0,0.0,0.0,0.0,0.0,0.0,0.0,0.0,0.0,1.0,0.0,0.0,0.0,0.0,0.0,0.0,0.0,0.0,0.0,0.0,0.0,0.0,0.0,0.0,0.0,1.0,0.0,1.0,0.0,0.0,0.0,0.0,0.0,0.0,0.0,0.0,0.0,0.0,0.0,0.0,0.0,1.0,1.0,0.0,0.0,0.0,0.0,0.0,0.0,0.0,0.0,1.0,0.0,0.0,0.0,0.0,0.0,0.0,1.0,1.0,0.0,0.0,0.0,0.0,0.0,0.0,0.0,0.0,0.0,0.0,0.0,0.0,0.0,0.0,0.0,0.0,0.0,0.0,0.0,0.0,0.0,0.0,0.0,0.0,0.0,0.0,0.0,0.0,0.0,0.0,0.0,0.0,1.0,0.0,0.0,0.0,1.0,0.0,0.0,0.0,0.0,0.0,0.0,1.0,0.0,0.0,1.0,0.0,0.0,0.0,0.0,1.0,1.0,0.0,0.0,0.0,0.0,1.0,1.0,1.0,0.0,0.0,0.0,0.0,0.0,0.0,1.0,1.0,0.0,0.0,0.0,0.0,0.0,1.0,0.0,1.0,1.0,0.0,0.0,1.0,0.0,0.0,0.0,0.0,0.0,1.0,0.0,0.0,0.0,0.0,0.0,0.0,0.0,1.0,0.0,0.0,0.0,1.0,0.0,1.0,0.0,0.0,0.0,0.0,0.0,1.0,0.0,0.0,1.0,0.0,0.0,0.0,0.0,1.0,0.0,0.0,0.0,0.0,0.0,0.0,1.0,0.0,0.0,0.0,0.0,0.0,0.0,0.0,1.0,0.0,0.0,1.0,0.0,0.0,0.0,0.0,0.0,0.0,0.0,0.0,0.0,1.0,0.0,0.0,1.0,1.0,0.0,0.0,0.0,0.0,1.0,0.0,0.0,0.0,0.0,0.0,0.0,0.0,0.0,0.0,0.0,0.0,0.0,0.0,0.0,1.0,0.0,0.0,0.0,0.0,0.0,0.0,0.0,0.0,0.0,0.0,1.0,0.0,0.0,1.0,0.0,0.0,1.0,0.0,0.0,0.0,0.0,0.0,0.0,0.0,0.0,0.0,0.0,0.0,0.0,0.0,0.0,0.0,1.0,0.0,0.0,0.0,1.0,1.0,0.0,0.0,0.0,0.0,1.0,0.0,1.0,0.0,0.0,0.0,0.0,0.0,0.0,0.0,0.0,1.0,1.0,1.0,1.0,1.0,0.0,0.0,0.0,0.0,0.0,0.0,0.0,1.0,0.0,0.0,0.0,0.0,0.0,0.0,1.0,1.0,0.0,0.0,0.0,0.0,0.0,0.0,0.0,0.0,0.0,0.0,0.0,0.0,1.0,0.0,0.0,0.0,0.0,0.0,1.0,1.0,0.0,0.0,0.0,1.0,0.0,0.0,0.0,0.0,0.0,0.0,0.0,0.0,1.0,1.0,0.0,0.0,1.0,1.0,0.0,1.0,0.0,1.0,0.0,0.0,1.0,0.0,0.0,0.0,0.0,0.0,0.0,0.0,0.0,0.0,0.0,0.0,0.0,1.0,0.0,0.0,0.0,0.0,0.0,0.0,0.0,0.0,0.0,0.0,0.0,0.0,0.0,0.0,1.0,0.0,0.0,0.0,1.0,1.0,0.0,0.0,0.0,0.0,0.0,0.0,0.0,0.0,0.0,0.0,1.0,0.0,0.0,0.0,0.0,0.0,0.0,0.0,0.0,0.0,0.0,0.0,0.0,0.0,1.0,0.0,1.0,0.0,0.0,0.0,0.0,0.0,1.0,0.0,0.0,1.0,0.0,0.0,0.0,0.0,1.0,0.0,0.0,0.0,0.0,0.0,1.0,0.0,0.0,0.0,0.0,0.0,0.0,0.0,0.0,0.0,0.0,0.0,1.0,0.0,0.0,0.0,0.0,0.0,0.0,0.0,0.0,0.0,0.0,0.0,0.0,1.0,0.0,0.0,1.0,1.0,0.0,0.0,0.0,0.0,0.0,0.0,0.0,1.0,1.0,0.0,0.0,0.0,0.0,0.0,0.0,0.0,1.0,0.0,1.0,0.0,0.0,0.0,1.0,0.0,1.0,0.0,1.0,0.0,0.0,0.0,0.0,0.0,0.0,0.0,0.0,0.0,0.0,0.0,0.0,1.0,0.0,0.0,1.0,1.0,0.0,0.0,0.0,0.0,1.0,0.0,1.0,0.0,0.0,1.0,1.0,0.0,0.0,0.0,0.0,1.0,0.0,0.0,1.0,1.0,0.0,0.0,0.0,0.0,0.0,0.0,1.0,0.0,0.0,0.0,0.0,0.0,0.0,1.0,1.0,0.0,0.0,0.0,0.0,1.0,0.0,0.0,0.0,0.0,0.0,0.0,0.0,0.0,0.0,0.0,0.0,0.0,0.0,0.0,0.0,0.0,0.0,0.0,0.0,0.0,0.0,1.0,0.0,0.0,1.0,0.0,0.0,0.0,0.0,0.0,0.0,0.0,0.0,0.0,1.0,0.0,0.0,0.0,0.0,0.0,0.0,0.0,0.0,0.0,0.0,1.0,0.0,1.0,0.0,0.0,1.0,0.0,0.0,1.0,0.0,0.0,1.0,1.0,1.0,0.0,0.0,0.0,0.0,0.0,0.0,0.0,1.0,0.0,1.0,0.0,1.0,0.0,0.0,0.0,0.0,0.0,0.0,0.0,0.0,0.0,0.0,0.0,0.0,1.0,0.0,0.0,1.0,0.0,0.0,1.0,0.0,1.0,0.0,0.0,0.0,0.0,0.0,1.0,0.0,0.0,0.0,0.0,1.0,0.0,0.0,1.0,0.0,0.0,0.0,0.0,0.0,1.0,1.0,0.0,0.0,0.0,0.0,0.0,0.0,0.0,0.0,0.0,0.0,0.0,1.0,1.0,0.0,0.0,1.0,1.0,0.0,1.0,0.0,0.0,0.0,0.0,0.0,0.0,0.0,0.0,0.0,0.0,1.0,0.0,1.0,1.0,0.0,0.0,0.0,1.0,0.0,0.0,0.0,1.0,0.0,1.0,0.0,0.0,0.0,0.0,0.0,1.0,0.0,0.0,1.0,0.0,1.0,1.0,1.0,0.0,1.0,0.0,1.0,0.0,0.0,1.0,0.0,1.0,0.0,0.0,1.0,0.0,0.0,0.0,0.0,1.0,0.0,0.0,0.0,0.0,0.0,0.0,0.0,0.0,0.0,1.0,0.0,0.0,0.0,0.0,0.0,0.0,1.0,0.0,0.0,0.0,1.0,0.0,0.0,0.0,0.0,0.0,0.0,0.0,0.0,0.0,1.0,0.0,0.0,1.0,1.0,0.0,0.0,0.0,0.0,0.0,0.0,0.0,0.0,0.0,0.0,1.0,0.0,0.0,0.0,0.0,0.0,0.0,0.0,0.0,0.0,0.0,0.0,0.0,0.0,0.0,0.0,0.0,0.0,0.0,0.0,0.0,0.0,0.0,0.0,0.0,0.0,0.0,1.0,0.0,0.0,0.0,0.0,0.0,1.0,1.0,0.0,0.0,0.0,0.0,0.0,1.0,0.0,0.0,0.0,0.0,0.0,0.0,0.0,1.0,0.0,1.0,0.0,0.0,0.0,0.0,0.0,0.0,0.0,0.0,0.0,0.0,0.0,0.0,0.0,0.0,0.0,0.0,0.0,0.0,0.0,0.0,0.0,0.0,0.0,0.0,0.0,0.0,0.0,1.0,0.0,0.0,0.0,0.0,0.0,0.0,0.0,0.0,0.0,0.0,0.0,0.0,0.0,0.0,0.0,1.0,1.0,0.0,0.0,0.0,1.0,0.0,0.0,0.0,1.0,0.0,0.0,1.0,0.0,0.0,0.0,0.0,1.0,0.0,0.0,0.0,0.0,1.0,0.0,1.0,0.0,0.0,0.0,0.0,1.0,0.0,0.0,0.0,0.0,0.0,0.0,0.0,1.0,0.0,0.0,0.0,0.0,0.0,0.0,0.0,0.0,1.0,0.0,1.0,0.0,0.0,0.0,0.0,0.0,0.0,0.0,1.0,0.0,1.0,0.0,0.0,1.0,0.0,0.0,0.0,0.0,0.0,0.0,0.0,0.0,0.0,0.0,0.0,0.0,0.0,0.0,0.0,0.0,0.0,0.0,1.0,0.0,0.0,0.0,0.0,0.0,0.0,0.0,0.0,0.0,0.0,0.0,0.0,0.0,0.0,0.0,0.0,0.0,0.0,0.0,0.0,1.0,0.0,1.0,0.0,0.0,0.0,0.0,0.0,0.0,1.0,0.0,0.0,0.0,1.0,0.0,0.0,0.0,0.0,0.0,0.0,0.0,0.0,0.0,0.0,1.0,1.0,0.0,0.0,1.0,0.0,0.0,0.0,0.0,0.0,0.0,0.0,0.0,0.0,0.0,0.0,0.0,0.0,1.0,0.0,0.0,0.0,0.0,0.0,0.0,0.0,0.0,0.0,0.0,0.0,0.0,0.0,0.0,1.0,0.0,0.0,0.0,0.0,0.0,1.0,0.0,0.0,0.0,0.0,0.0,1.0,0.0,0.0,0.0,0.0,0.0,0.0,0.0,1.0,0.0,0.0,0.0,0.0,1.0,0.0,0.0,1.0,0.0,0.0,0.0,0.0,0.0,1.0,0.0,0.0,1.0,1.0,1.0,0.0,0.0,0.0,0.0,1.0,0.0,0.0,0.0,1.0,0.0,0.0,0.0,0.0,0.0,0.0,0.0,1.0,0.0,0.0,0.0,0.0,0.0,0.0,0.0,0.0,0.0,1.0,0.0,0.0,0.0,0.0,0.0,1.0,0.0,0.0,0.0,0.0,0.0,0.0,0.0,1.0,0.0,0.0,0.0,0.0,0.0,0.0,0.0,0.0,0.0,0.0,1.0,0.0,0.0,0.0,0.0,0.0,1.0,0.0,1.0,0.0,0.0,0.0,0.0,1.0,0.0,0.0,1.0,0.0,0.0,0.0,0.0,0.0,0.0,0.0,0.0,0.0,0.0,0.0,0.0,0.0,0.0,0.0,0.0,0.0,0.0,0.0,0.0,1.0,0.0,1.0,0.0,0.0,0.0,0.0,0.0,1.0,0.0,1.0,0.0,0.0,0.0,0.0,0.0,0.0,0.0,0.0,0.0,0.0,0.0,0.0,0.0,0.0,0.0,0.0,0.0,1.0,0.0,0.0,0.0,0.0,0.0,0.0,0.0,0.0,1.0,0.0,0.0,0.0,0.0,0.0,0.0,0.0,0.0,0.0,0.0,0.0,1.0,0.0,0.0,0.0,0.0,0.0,0.0,0.0,0.0,0.0,0.0,0.0,0.0,0.0,0.0,0.0,0.0,0.0,0.0,0.0,0.0,1.0,0.0,0.0,0.0,1.0,0.0,0.0,0.0,0.0,0.0,1.0,0.0,0.0,0.0,1.0,0.0,1.0,0.0,1.0,0.0,0.0,0.0,0.0,0.0,0.0,0.0,1.0,0.0,0.0,1.0,0.0,0.0,0.0,0.0,1.0,0.0,0.0,1.0,0.0,1.0,0.0,0.0,1.0,0.0,1.0,0.0,0.0,0.0,1.0,0.0,0.0,0.0,0.0,0.0,0.0,0.0,0.0,0.0,1.0,0.0,1.0,0.0,0.0,0.0,0.0,0.0,1.0,0.0,0.0,0.0,0.0,0.0,0.0,0.0,0.0,0.0,0.0,0.0,0.0,0.0,0.0,0.0,0.0,0.0,0.0,0.0,0.0,0.0,0.0,1.0,0.0,0.0,0.0,0.0,0.0,0.0,0.0,0.0,0.0,0.0,0.0,0.0,0.0,0.0,0.0,0.0,1.0,0.0,0.0,0.0,1.0,1.0,1.0,0.0,0.0,0.0,0.0,0.0,0.0,0.0,0.0,1.0,0.0,0.0,0.0,0.0,0.0,0.0,0.0,0.0,0.0,0.0,0.0,0.0,0.0,0.0,0.0,0.0,0.0,0.0,1.0,0.0,0.0,0.0,0.0,0.0,0.0,0.0,0.0,0.0,0.0,0.0,0.0,0.0,1.0,0.0,1.0,0.0,0.0,1.0,0.0,0.0,0.0,0.0,0.0,1.0,1.0,0.0,0.0,0.0,1.0,0.0,0.0,1.0,1.0,1.0,0.0,0.0,0.0,1.0,0.0,0.0,1.0,0.0,0.0,1.0,0.0,0.0,1.0,0.0,0.0,0.0,0.0,0.0,0.0,0.0,0.0,0.0,0.0,1.0,0.0,0.0,0.0,0.0,0.0,0.0,1.0,0.0,0.0,0.0,1.0,0.0,0.0,0.0,0.0,0.0,0.0,0.0,0.0,0.0,0.0,0.0,1.0,0.0,0.0,0.0,0.0,0.0,0.0,0.0,0.0,0.0,1.0,0.0,0.0,0.0,0.0,0.0,0.0,0.0,1.0,1.0,0.0,0.0,0.0,0.0,0.0,0.0,0.0,0.0,0.0,0.0,1.0,1.0,0.0,1.0,1.0,1.0,0.0,0.0,0.0,1.0,0.0,1.0,0.0,1.0,0.0,0.0,1.0,0.0,1.0,0.0,0.0,0.0,0.0,0.0,0.0,0.0,0.0,0.0,1.0,0.0,0.0,1.0,1.0,0.0,0.0,1.0,1.0,0.0,0.0,0.0,1.0,1.0,0.0,0.0,0.0,0.0,0.0,0.0,0.0,0.0,0.0,0.0,0.0,0.0,0.0,0.0,0.0,0.0,0.0,0.0,0.0,0.0,0.0,0.0,0.0,0.0,0.0,0.0,0.0,0.0,0.0,0.0,0.0,0.0,0.0,0.0,0.0,1.0,1.0,0.0,0.0,1.0,0.0,1.0,0.0,0.0,1.0,0.0,0.0,1.0,0.0,0.0,0.0,0.0,0.0,0.0,0.0,0.0,0.0,0.0,0.0,0.0,1.0,0.0,0.0,0.0,0.0,0.0,0.0,1.0,0.0,0.0,1.0,0.0,0.0,0.0,0.0,0.0,0.0,0.0,0.0,0.0,0.0,0.0,1.0,0.0,0.0,0.0,0.0,1.0,0.0,0.0,1.0,0.0,0.0,1.0,0.0,0.0,1.0,0.0,0.0,0.0,0.0,0.0,0.0,0.0,0.0,0.0,0.0,0.0,0.0,0.0,0.0,0.0,0.0,0.0,0.0,0.0,0.0,0.0,0.0,0.0,0.0,0.0,0.0,1.0,0.0,0.0,0.0,0.0,1.0,0.0,0.0,1.0,0.0,0.0,0.0,0.0,0.0,0.0,1.0,0.0,0.0,0.0,0.0,0.0,0.0,0.0,0.0,0.0,0.0,1.0,0.0,0.0,1.0,1.0,0.0,0.0,0.0,1.0,0.0,0.0,0.0,0.0,0.0,0.0,0.0,1.0,0.0,0.0,0.0,0.0,0.0,0.0,0.0,0.0,0.0,0.0,0.0,1.0,0.0,0.0,0.0,0.0,0.0,0.0,0.0,0.0,0.0,0.0,0.0,0.0,0.0,1.0,0.0,0.0,0.0,1.0,1.0,0.0,0.0,1.0,1.0,0.0,0.0,0.0,0.0,0.0,0.0,0.0,0.0,0.0,0.0,0.0,0.0,0.0,1.0,0.0,1.0,0.0,0.0,0.0,0.0,0.0,0.0,0.0,1.0,0.0,0.0,0.0,0.0,0.0,1.0,1.0,0.0,0.0,0.0,1.0,0.0,0.0,1.0,0.0,0.0,0.0,0.0,0.0,0.0,1.0,1.0,0.0,0.0,0.0,0.0,0.0,0.0,0.0,0.0,1.0,0.0,0.0,0.0,0.0,0.0,0.0,1.0,0.0,1.0,0.0,0.0,0.0,0.0,0.0,0.0,0.0,0.0,1.0,0.0,0.0,1.0,0.0,1.0,0.0,0.0,1.0,0.0,0.0,1.0,0.0,1.0,0.0,0.0,0.0,0.0,1.0,0.0,1.0,0.0,1.0,1.0,1.0,0.0,0.0,1.0,0.0,0.0,0.0,0.0,0.0,0.0,0.0,0.0,0.0,0.0,1.0,1.0,1.0,0.0,0.0,1.0,0.0,0.0,0.0,1.0,0.0,0.0,1.0,1.0,0.0,0.0,0.0,0.0,0.0,0.0,0.0,0.0,0.0,0.0,0.0,0.0,0.0,0.0,1.0,1.0,0.0,0.0,0.0,0.0,0.0,0.0,0.0,1.0,0.0,0.0,0.0,0.0,0.0,0.0,0.0,0.0,0.0,0.0,0.0,0.0,0.0,0.0,1.0,0.0,0.0,1.0,1.0,0.0,0.0,0.0,1.0,0.0,0.0,0.0,1.0,0.0,0.0,0.0,0.0,0.0,0.0,0.0,0.0,0.0,0.0,0.0,0.0,0.0,0.0,1.0,0.0,1.0,0.0,0.0,0.0,0.0,0.0,0.0,1.0,0.0,0.0,1.0,0.0,0.0,1.0,0.0,0.0,0.0,1.0,0.0,1.0,0.0,1.0,0.0,0.0,0.0,0.0,0.0,0.0,0.0,0.0,1.0,0.0,1.0,0.0,0.0,0.0,0.0,0.0,0.0,0.0,0.0,0.0,1.0,0.0,1.0,0.0,0.0,1.0,0.0,1.0,0.0,0.0,0.0,0.0,0.0,0.0,0.0,0.0,0.0,0.0,0.0,0.0,0.0,0.0,0.0,0.0,0.0,0.0,1.0,0.0,0.0,1.0,0.0,0.0,0.0,0.0,0.0,1.0,0.0,0.0,0.0,1.0,1.0,0.0,1.0,1.0,0.0,0.0,0.0,0.0,0.0,0.0,1.0,0.0,0.0,0.0,1.0,0.0,0.0,1.0,0.0,0.0,0.0,0.0,0.0,0.0,0.0,0.0,0.0,0.0,0.0,0.0,0.0,0.0,0.0,1.0,0.0,0.0,1.0,0.0,1.0,0.0,0.0,0.0,1.0,0.0,0.0,0.0,0.0,0.0,0.0,0.0,0.0,0.0,0.0,0.0,0.0,0.0,0.0,1.0,0.0,0.0,0.0,0.0,0.0,0.0,0.0,0.0,0.0,0.0,0.0,0.0,0.0,1.0,0.0,1.0,0.0,0.0,0.0,0.0,0.0,1.0,0.0,0.0,0.0,0.0,0.0,0.0,1.0,0.0,0.0,1.0,0.0,0.0,0.0,1.0,1.0,0.0,0.0,0.0,0.0,1.0,0.0,0.0,0.0,0.0,1.0,1.0,0.0,0.0,0.0,1.0,0.0,0.0,1.0,0.0,0.0,1.0,0.0,1.0,0.0,0.0,0.0,0.0,0.0,0.0,1.0,0.0,1.0,0.0,0.0,0.0,1.0,0.0,0.0,0.0,0.0,1.0,0.0,1.0,0.0,1.0,0.0,0.0,0.0,0.0,0.0,0.0,0.0,1.0,1.0,1.0,0.0,1.0,0.0,1.0,0.0,0.0,1.0,0.0,0.0,0.0,0.0,0.0,0.0,0.0,0.0,0.0,1.0,0.0,0.0,0.0,1.0,0.0,0.0,0.0,0.0,0.0,0.0,0.0,0.0,1.0,1.0,0.0,0.0,0.0,0.0,0.0,0.0,0.0,0.0,1.0,0.0,0.0,0.0,0.0,0.0,0.0,0.0,1.0,0.0,0.0,0.0,1.0,0.0,0.0,0.0,0.0,0.0,0.0,0.0,0.0,0.0,1.0,0.0,0.0,0.0,0.0,0.0,1.0,0.0,0.0,1.0,0.0,0.0,0.0,0.0,0.0,0.0,0.0,0.0,0.0,0.0,0.0,0.0,1.0,0.0,0.0,0.0,0.0,0.0,0.0,0.0,0.0,1.0,0.0,1.0,1.0,1.0,0.0,0.0,1.0,0.0,0.0,0.0,0.0,0.0,0.0,0.0,0.0,0.0,0.0,0.0,0.0,0.0,0.0,0.0,0.0,0.0,0.0,0.0,0.0,0.0,0.0,0.0,0.0,1.0,0.0,0.0,0.0,0.0,0.0,1.0,0.0,0.0,1.0,0.0,0.0,0.0,0.0,0.0,1.0,0.0,0.0,1.0,0.0,0.0,0.0,0.0,0.0,0.0,0.0,0.0,1.0,0.0,0.0,0.0,0.0,1.0,0.0,0.0,0.0,0.0,0.0,0.0,0.0,1.0,1.0,0.0,1.0,0.0,0.0,0.0,0.0,0.0,0.0,0.0,0.0,0.0,0.0,0.0,0.0,0.0,0.0,0.0,0.0,0.0,1.0,0.0,0.0,1.0,0.0,0.0,0.0,0.0,0.0,0.0,0.0,0.0,1.0,0.0,0.0,0.0,0.0,1.0,0.0,0.0,0.0,0.0,0.0,1.0,0.0,0.0,1.0,1.0,0.0,0.0,0.0,0.0,0.0,0.0,1.0,0.0,0.0,1.0,1.0,0.0,0.0,1.0,0.0,1.0,0.0,0.0,1.0,0.0,0.0,0.0,1.0,0.0,0.0,1.0,0.0,0.0,0.0,0.0,1.0,1.0,1.0,0.0,0.0,1.0,1.0,0.0,0.0,0.0,0.0,0.0,0.0,0.0,0.0,0.0,0.0,0.0,0.0,0.0,0.0,1.0,1.0,0.0,1.0,0.0,0.0,1.0,0.0,0.0,0.0,0.0,0.0,0.0,0.0,0.0,0.0,1.0,0.0,0.0,1.0,0.0,0.0,0.0,1.0,0.0,0.0,0.0,1.0,0.0,0.0,0.0,0.0,1.0,1.0,0.0,0.0,0.0,1.0,0.0,0.0,0.0,0.0,0.0,0.0,0.0,0.0,0.0,0.0,0.0,0.0,0.0,1.0,1.0,0.0,1.0,0.0,0.0,0.0,0.0,0.0,0.0,0.0,1.0,0.0,0.0,0.0,1.0,1.0,1.0,0.0,0.0,0.0,0.0,0.0,0.0,0.0,0.0,1.0,0.0,0.0,0.0,0.0,0.0,1.0,0.0,0.0,0.0,0.0,1.0,0.0,0.0,0.0,1.0,0.0,0.0,0.0,0.0,0.0,1.0,0.0,0.0,0.0,0.0,1.0,1.0,0.0,0.0,0.0,1.0,0.0,0.0,0.0,0.0,0.0,0.0,1.0,0.0,0.0,1.0,0.0,0.0,0.0,0.0,0.0,0.0,0.0,0.0,1.0,0.0,0.0,0.0,1.0,1.0,0.0,0.0,0.0,0.0,1.0,1.0,0.0,0.0,0.0,0.0,0.0,0.0,0.0,0.0,0.0,0.0,0.0,1.0,1.0,1.0,1.0,0.0,0.0,0.0,0.0,0.0,0.0,1.0,0.0,0.0,0.0,0.0,0.0,0.0,0.0,0.0,0.0,0.0,0.0,0.0,0.0,0.0,0.0,0.0,1.0,0.0,0.0,0.0,0.0,0.0,0.0,0.0,0.0,1.0,0.0,0.0,0.0,0.0,0.0,0.0,1.0,1.0,0.0,0.0,0.0,0.0,0.0,0.0,0.0,0.0,0.0,1.0,0.0,0.0,0.0,0.0,0.0,0.0,1.0,0.0,0.0,1.0,0.0,1.0,0.0,0.0,0.0,0.0,1.0,0.0,0.0,0.0,0.0,0.0,0.0,1.0,0.0,0.0,0.0,0.0,0.0,0.0,0.0,0.0,0.0,1.0,1.0,0.0,0.0,0.0,0.0,0.0,0.0,0.0,0.0,1.0,0.0,0.0,0.0,0.0,0.0,0.0,1.0,0.0,0.0,0.0,0.0,0.0,0.0,0.0,0.0,0.0,0.0,1.0,0.0,0.0,1.0,0.0,1.0,0.0,0.0,0.0,0.0,0.0,1.0,0.0,0.0,0.0,0.0,0.0,0.0,1.0,0.0,0.0,0.0,0.0,1.0,0.0,1.0,0.0,0.0,0.0,0.0,0.0,0.0,0.0,0.0,0.0,1.0,0.0,1.0,0.0,0.0,0.0,0.0,0.0,1.0,0.0,1.0,0.0,0.0,0.0,0.0,1.0,1.0,0.0,0.0,0.0,1.0,0.0,0.0,0.0,0.0,0.0,0.0,1.0,0.0,0.0,0.0,0.0,1.0,1.0,1.0,0.0,0.0,0.0,1.0,0.0,1.0,0.0,0.0,0.0,0.0,0.0,0.0,0.0,0.0,0.0,0.0,0.0,0.0,0.0,0.0,0.0,0.0,0.0,0.0,0.0,0.0,0.0,0.0,0.0,0.0,0.0,0.0,0.0,1.0,0.0,1.0,0.0,1.0,0.0,0.0,0.0,0.0,0.0,0.0,0.0,1.0,0.0,0.0,1.0,0.0,0.0,0.0,0.0,0.0,0.0,0.0,0.0,0.0,0.0,1.0,0.0,0.0,0.0,0.0,0.0,0.0,0.0,1.0,0.0,0.0,0.0,0.0,0.0,1.0,0.0,0.0,0.0,0.0,1.0,0.0,0.0,0.0,0.0,1.0,0.0,0.0,0.0,1.0,0.0,0.0,0.0,0.0,0.0,1.0,0.0,0.0,0.0,0.0,0.0,0.0,0.0,0.0,0.0,0.0,0.0,1.0,0.0,0.0,0.0,0.0,0.0,0.0,0.0,0.0,0.0,1.0,0.0,0.0,0.0,0.0,0.0,0.0,0.0,1.0,0.0,1.0,0.0,1.0,0.0,0.0,1.0,0.0,0.0,0.0,0.0,0.0,1.0,0.0,1.0,0.0,0.0,1.0,0.0,1.0,0.0,0.0,0.0,0.0,0.0,0.0,1.0,0.0,0.0,1.0,0.0,0.0,0.0,0.0,0.0,0.0,0.0,1.0,0.0,0.0,1.0,0.0,0.0,0.0,0.0,0.0,0.0,0.0,0.0,0.0,0.0,0.0,0.0,0.0,0.0,0.0,1.0,1.0,0.0,0.0,0.0,0.0,1.0,0.0,0.0,0.0,0.0,0.0,1.0,0.0,0.0,0.0,0.0,0.0,0.0,1.0,0.0,0.0,0.0,0.0,0.0,0.0,1.0,0.0,0.0,0.0,0.0,0.0,0.0,0.0,0.0,0.0,0.0,0.0,0.0,0.0,0.0,0.0,0.0,0.0,0.0,0.0,0.0,0.0,0.0,0.0,0.0,0.0,0.0,1.0,0.0,0.0,0.0,1.0,0.0,0.0,0.0,0.0,0.0,0.0,0.0,0.0,0.0,0.0,0.0,0.0,1.0,1.0,0.0,0.0,0.0,0.0,0.0,0.0,1.0,0.0,0.0,0.0,0.0,0.0,0.0,0.0,1.0,0.0,0.0,0.0,0.0,0.0,0.0,0.0,0.0,0.0,0.0,0.0,0.0,0.0,0.0,0.0,0.0,0.0,0.0,0.0,0.0,0.0,0.0,0.0,0.0,0.0,0.0,0.0,0.0,0.0,0.0,0.0,0.0,0.0,0.0,0.0,0.0,0.0,0.0,0.0,0.0,0.0,0.0,0.0,1.0,0.0,0.0,0.0,0.0,0.0,1.0,0.0,0.0,0.0,0.0,0.0,0.0,0.0,0.0,0.0,0.0,0.0,0.0,0.0,0.0,0.0,0.0,0.0,0.0,0.0,0.0,0.0,0.0,0.0,0.0,0.0,0.0,0.0,1.0,0.0,0.0,0.0,0.0,0.0,0.0,0.0,0.0,0.0,0.0,0.0,0.0,0.0,0.0,0.0,0.0,0.0,0.0,1.0,1.0,0.0,1.0,0.0,0.0,1.0,0.0,1.0,1.0,1.0,1.0,0.0,0.0,0.0,0.0,0.0,0.0,0.0,1.0,0.0,1.0,0.0,0.0,0.0,0.0,0.0,0.0,0.0,0.0,1.0,0.0,1.0,0.0,0.0,0.0,0.0,0.0,0.0,0.0,0.0,0.0,1.0,1.0,1.0,0.0,0.0,0.0,0.0,0.0,0.0,0.0,1.0,0.0,0.0,0.0,1.0,1.0,0.0,0.0,1.0,0.0,0.0,1.0,0.0,0.0,0.0,0.0,0.0,0.0,0.0,0.0,0.0,1.0,0.0,0.0,0.0,0.0,0.0,0.0,1.0,0.0,0.0,0.0,0.0,0.0,0.0,0.0,0.0,0.0,0.0,0.0,1.0,0.0,0.0,0.0,0.0,0.0,0.0,0.0,0.0,0.0,0.0,0.0,0.0,0.0,0.0,1.0,1.0,0.0,0.0,0.0,0.0,0.0,0.0,0.0,0.0,0.0,0.0,0.0,0.0,0.0,0.0,0.0,0.0,0.0,0.0,0.0,0.0,0.0,0.0,0.0,0.0,0.0,0.0,0.0,1.0,0.0,0.0,1.0,0.0,0.0,0.0,0.0,0.0,1.0,0.0,0.0,1.0,0.0,0.0,0.0,0.0,1.0,0.0,0.0,0.0,0.0,1.0,0.0,1.0,0.0,1.0,0.0,0.0,0.0,0.0,0.0,0.0,0.0,0.0,0.0,0.0,0.0,1.0,0.0,1.0,0.0,0.0,1.0,1.0,0.0,0.0,0.0,0.0,0.0,0.0,0.0,0.0,0.0,0.0,0.0,0.0,0.0,0.0,0.0,0.0,0.0,0.0,1.0,1.0,0.0,0.0,0.0,1.0,0.0,0.0,0.0,0.0,0.0,0.0,0.0,0.0,0.0,0.0,0.0,0.0,1.0,1.0,0.0,1.0,0.0,0.0,0.0,0.0,1.0,1.0,0.0,0.0,1.0,0.0,1.0,0.0,1.0,0.0,0.0,0.0,0.0,1.0,0.0,0.0,0.0,0.0,1.0,0.0,0.0,1.0,0.0,0.0,0.0,1.0,0.0,0.0,0.0,1.0,0.0,0.0,1.0,1.0,0.0,0.0,0.0,0.0,0.0,1.0,0.0,0.0,0.0,0.0,0.0,0.0,0.0,0.0,0.0,0.0,0.0,0.0,0.0,0.0,0.0,0.0,0.0,1.0,1.0,0.0,0.0,0.0,0.0,0.0,0.0,0.0,0.0,0.0,1.0,0.0,0.0,1.0,0.0,0.0,0.0,0.0,0.0,0.0,0.0,0.0,0.0,0.0,0.0,0.0,0.0,0.0,1.0,0.0,0.0,0.0,0.0,1.0,0.0,0.0,1.0,1.0,0.0,0.0,0.0,0.0,0.0,0.0,0.0,0.0,0.0,0.0,1.0,0.0,0.0,0.0,0.0,0.0,0.0,0.0,0.0,1.0,1.0,0.0,1.0,0.0,1.0,0.0,0.0,0.0,0.0,0.0,0.0,1.0,0.0,0.0,1.0,0.0,0.0,0.0,0.0,0.0,0.0,1.0,0.0,0.0,0.0,0.0,0.0,0.0,0.0,0.0,1.0,0.0,1.0,0.0,0.0,0.0,0.0,0.0,0.0,1.0,0.0,0.0,0.0,0.0,0.0,1.0,1.0,0.0,0.0,0.0,0.0,1.0,1.0,0.0,1.0,1.0,0.0,0.0,0.0,0.0,0.0,0.0,0.0,0.0,0.0,0.0,0.0,1.0,0.0,0.0,0.0,0.0,0.0,0.0,0.0,0.0,0.0,0.0,0.0,0.0,0.0,0.0,0.0,0.0,0.0,0.0,0.0,0.0,1.0,0.0,0.0,0.0,0.0,0.0,0.0,0.0,0.0,0.0,0.0,0.0,0.0,0.0,0.0,0.0,0.0,1.0,0.0,0.0,0.0,0.0,0.0,0.0,0.0,0.0,0.0,0.0,0.0,0.0,1.0,1.0,0.0,0.0,0.0,0.0,1.0,0.0,0.0,0.0,0.0,0.0,0.0,0.0,0.0,0.0,0.0,0.0,0.0,0.0,1.0,0.0,1.0,0.0,0.0,0.0,0.0,0.0,0.0,1.0,0.0,0.0,0.0,0.0,0.0,0.0,0.0,1.0,0.0,0.0,0.0,0.0,1.0,0.0,0.0,0.0,0.0,0.0,0.0,0.0,1.0,0.0,0.0,0.0,0.0,0.0,1.0,0.0,0.0,1.0,0.0,0.0,0.0,1.0,0.0,0.0,0.0,0.0,0.0,0.0,0.0,0.0,0.0,0.0,0.0,0.0,0.0,0.0,0.0,0.0,0.0,1.0,0.0,0.0,0.0,0.0,0.0,0.0,0.0,0.0,0.0,0.0,0.0,0.0,0.0,0.0,0.0,0.0,0.0,0.0,0.0,1.0,0.0,0.0,0.0,1.0,0.0,0.0,0.0,0.0,1.0,0.0,0.0,0.0,1.0,0.0,0.0,0.0,1.0,1.0,0.0,0.0,0.0,0.0,0.0,1.0,0.0,0.0,0.0,0.0,0.0,0.0,0.0,1.0,0.0,1.0,0.0,0.0,0.0,0.0,0.0,0.0,0.0,0.0,0.0,0.0,0.0,0.0,0.0,0.0,0.0,0.0,0.0,0.0,0.0,0.0,0.0,0.0,0.0,0.0,1.0,0.0,1.0,0.0,0.0,0.0,0.0,0.0,1.0,0.0,0.0,1.0,0.0,0.0,0.0,0.0,0.0,0.0,1.0,0.0,0.0,0.0,0.0,0.0,0.0,1.0,0.0,0.0,0.0,1.0,0.0,0.0,0.0,0.0,0.0,0.0,0.0,0.0,0.0,1.0,1.0,0.0,0.0,0.0,0.0,0.0,0.0,0.0,0.0,0.0,0.0,0.0,1.0,0.0,0.0,0.0,0.0,0.0,0.0,0.0,0.0,0.0,0.0,0.0,0.0,0.0,0.0,0.0,0.0,1.0,0.0,0.0,0.0,0.0,0.0,0.0,0.0,0.0,0.0,1.0,1.0,0.0,0.0,0.0,1.0,0.0,0.0,0.0,0.0,0.0,0.0,1.0,0.0,0.0,0.0,0.0,0.0,0.0,0.0,0.0,0.0,0.0,0.0,0.0,1.0,0.0,0.0,0.0,1.0,0.0,0.0,0.0,0.0,0.0,1.0,0.0,0.0,0.0,0.0,0.0,0.0,0.0,0.0,0.0,0.0,0.0,0.0,0.0,0.0,0.0,0.0,0.0,1.0,0.0,1.0,0.0,0.0,0.0,0.0,0.0,1.0,0.0,0.0,0.0,0.0,0.0,0.0,1.0,0.0,0.0,0.0,0.0,1.0,0.0,1.0,1.0,0.0,0.0,0.0,1.0,0.0,0.0,0.0,0.0,0.0,0.0,0.0,0.0,0.0,1.0,1.0,0.0,0.0,0.0,0.0,0.0,0.0,0.0,0.0,0.0,0.0,0.0,0.0,0.0,0.0,0.0,0.0,0.0,0.0,0.0,0.0,1.0,1.0,0.0,0.0,0.0,0.0,1.0,0.0,0.0,0.0,0.0,0.0,0.0,0.0,0.0,0.0,0.0,0.0,0.0,0.0,0.0,0.0,0.0,0.0,0.0,0.0,0.0,0.0,0.0,0.0,0.0,0.0,0.0,0.0,0.0,0.0,0.0,0.0,1.0,0.0,0.0,0.0,0.0,0.0,0.0,0.0,1.0,0.0,0.0,0.0,0.0,1.0,0.0,1.0,0.0,0.0,1.0,0.0,1.0,0.0,0.0,0.0,0.0,0.0,0.0,1.0,0.0,0.0,0.0,0.0,1.0,0.0,0.0,0.0,1.0,0.0,0.0,1.0,1.0,0.0,1.0,0.0,0.0,0.0,0.0,0.0,0.0,0.0,1.0,0.0,0.0,1.0,0.0,1.0,0.0,0.0,0.0,1.0,0.0,1.0,0.0,0.0,0.0,1.0,0.0,0.0,0.0,0.0,0.0,1.0,0.0,0.0,0.0,0.0,0.0,0.0,1.0,1.0,0.0,0.0,0.0,0.0,0.0,1.0,0.0,1.0,0.0,0.0,0.0,0.0,0.0,0.0,0.0,1.0,0.0,0.0,0.0,1.0,0.0,0.0,0.0,0.0,1.0,0.0,0.0,0.0,0.0,1.0,0.0,0.0,1.0,0.0,0.0,1.0,0.0,0.0,0.0,0.0,0.0,1.0,0.0,0.0,0.0,1.0,0.0,0.0,0.0,0.0,0.0,1.0,0.0,0.0,0.0,0.0,0.0,0.0,0.0,0.0,0.0,0.0,0.0,1.0,0.0,0.0,0.0,0.0,0.0,0.0,0.0,0.0,0.0,0.0,0.0,0.0,1.0,0.0,0.0,0.0,1.0,0.0,0.0,0.0,0.0,0.0,0.0,1.0,1.0,0.0,0.0,0.0,1.0,1.0,1.0,0.0,0.0,0.0,0.0,0.0,0.0,0.0,0.0,1.0,0.0,1.0,0.0,0.0,0.0,0.0,1.0,0.0,0.0,0.0,0.0,0.0,0.0,0.0,1.0,0.0,0.0,0.0,0.0,0.0,1.0,0.0,0.0,1.0,1.0,0.0,0.0,0.0,0.0,0.0,0.0,1.0,0.0,0.0,0.0,0.0,0.0,0.0,0.0,0.0,0.0,0.0,0.0,0.0,0.0,0.0,0.0,0.0,0.0,1.0,1.0,0.0,0.0,0.0,0.0,0.0,0.0,0.0,0.0,0.0,1.0,0.0,0.0,0.0,0.0,0.0,0.0,0.0,0.0,0.0,0.0,0.0,0.0,0.0,0.0,0.0,0.0,1.0,0.0,0.0,0.0,0.0,0.0,0.0,0.0,0.0,1.0,1.0,0.0,0.0,0.0,0.0,0.0,0.0,0.0,0.0,0.0,0.0,0.0,0.0,0.0,0.0,0.0,0.0,0.0,0.0,0.0,0.0,0.0,0.0,0.0,0.0,0.0,0.0,0.0,0.0,0.0,0.0,0.0,0.0,0.0,0.0,0.0,1.0,0.0,0.0,1.0,0.0,0.0,0.0,0.0,1.0,0.0,0.0,0.0,0.0,0.0,0.0,1.0,0.0,0.0,0.0,0.0,0.0,0.0,0.0,0.0,0.0,0.0,0.0,0.0,1.0,0.0,0.0,0.0,0.0,0.0,0.0,0.0,1.0,0.0,1.0,0.0,0.0,1.0,0.0,0.0,0.0,1.0,0.0,0.0,0.0,0.0,0.0,0.0,0.0,0.0,0.0,1.0,0.0,0.0,0.0,0.0,1.0,1.0,0.0,0.0,1.0,0.0,0.0,0.0,0.0,1.0,0.0,0.0,0.0,0.0,0.0,0.0,1.0,1.0,0.0,1.0,0.0,0.0,0.0,0.0,1.0,0.0,0.0,1.0,0.0,0.0,0.0,0.0,1.0,0.0,1.0,0.0,0.0,1.0,0.0,0.0,0.0,0.0,1.0,0.0,0.0,0.0,0.0,0.0,1.0,0.0,0.0,0.0,0.0,0.0,0.0,1.0,1.0,0.0,1.0,1.0,0.0,0.0,1.0,1.0,1.0,0.0,1.0,0.0,0.0,0.0,0.0,0.0,0.0,0.0,1.0,0.0,0.0,1.0,0.0,0.0,1.0,1.0,0.0,0.0,1.0,1.0,0.0,1.0,0.0,0.0,0.0,0.0,0.0,0.0,0.0,1.0,0.0,0.0,0.0,1.0,0.0,0.0,0.0,0.0,0.0,0.0,0.0,0.0,0.0,0.0,0.0,0.0,0.0,0.0,0.0,0.0,0.0,0.0,0.0,0.0,0.0,0.0,1.0,0.0,1.0,0.0,0.0,0.0,0.0,0.0,1.0,0.0,0.0,0.0,1.0,0.0,1.0,1.0,0.0,0.0,0.0,1.0,1.0,0.0,1.0,0.0,0.0,0.0,0.0,0.0,0.0,0.0,0.0,0.0,0.0,0.0,0.0,0.0,0.0,0.0,0.0,0.0,0.0,0.0,0.0,0.0,1.0,0.0,0.0,0.0,1.0,0.0,0.0,0.0,1.0,0.0,0.0,0.0,0.0,0.0,0.0,0.0,0.0,0.0,0.0,0.0,0.0,0.0,1.0,0.0,1.0,1.0,0.0,1.0,0.0,0.0,0.0,1.0,0.0,0.0,1.0,0.0,0.0,0.0,1.0,0.0,0.0,0.0,0.0,1.0,0.0,1.0,0.0,0.0,0.0,1.0,0.0,0.0,0.0,0.0,0.0,0.0,0.0,0.0,0.0,0.0,0.0,0.0,0.0,0.0,0.0,0.0,0.0,0.0,0.0,0.0,0.0,0.0,0.0,0.0,0.0,0.0,0.0,0.0,0.0,0.0,0.0,1.0,0.0,0.0,0.0,0.0,0.0,0.0,0.0,0.0,0.0,1.0,0.0,0.0,0.0,0.0,0.0,0.0,0.0,0.0,0.0,0.0,0.0,1.0,0.0,0.0,0.0,0.0,0.0,0.0,0.0,0.0,0.0,0.0,0.0,0.0,0.0,0.0,1.0,0.0,0.0,1.0,0.0,0.0,0.0,0.0,0.0,0.0,0.0,0.0,0.0,0.0,0.0,0.0,0.0,1.0,0.0,0.0,0.0,0.0,0.0,0.0,0.0,1.0,0.0,0.0,0.0,0.0,0.0,0.0,0.0,0.0,0.0,0.0,0.0,0.0,0.0,0.0,0.0,1.0,0.0,0.0,0.0,0.0,0.0,0.0,0.0,0.0,0.0,0.0,1.0,1.0,0.0,0.0,0.0,0.0,1.0,0.0,0.0,0.0,0.0,0.0,0.0,0.0,0.0,0.0,0.0,0.0,0.0,0.0,0.0,0.0,0.0,0.0,0.0,0.0,0.0,0.0,0.0,0.0,1.0,1.0,1.0,0.0,0.0,0.0,0.0,0.0,0.0,0.0,0.0,1.0,0.0,0.0,0.0,0.0,0.0,0.0,0.0,0.0,0.0,1.0,0.0,1.0,0.0,0.0,0.0,1.0,0.0,1.0,0.0,0.0,0.0,1.0,0.0,0.0,1.0,0.0,1.0,0.0,0.0,0.0,0.0,0.0,0.0,0.0,0.0,0.0,0.0,0.0,0.0,0.0,0.0,1.0,0.0,0.0,0.0,1.0,0.0,1.0,0.0,0.0,0.0,0.0,1.0,0.0,1.0,0.0,1.0,1.0,0.0,0.0,0.0,0.0,1.0,1.0,0.0,0.0,0.0,0.0,0.0,0.0,0.0,0.0,1.0,0.0,0.0,1.0,0.0,0.0,0.0,1.0,0.0,1.0,1.0,1.0,0.0,0.0,0.0,0.0,1.0,0.0,1.0,0.0,0.0,0.0,0.0,1.0,0.0,0.0,0.0,0.0,0.0,0.0,0.0,0.0,1.0,0.0,0.0,1.0,0.0,1.0,0.0,0.0,0.0,0.0,0.0,0.0,1.0,0.0,0.0,0.0,1.0,1.0,0.0,0.0,0.0,0.0,0.0,0.0,0.0,0.0,0.0,1.0,1.0,0.0,0.0,0.0,0.0,0.0,0.0,0.0,0.0,0.0,0.0,1.0,0.0,0.0,0.0,0.0,0.0,0.0,0.0,0.0,0.0,0.0,0.0,0.0,1.0,0.0,0.0,0.0,0.0,0.0,0.0,0.0,0.0,0.0,0.0,0.0,0.0,0.0,0.0,0.0,0.0,0.0,0.0,1.0,0.0,1.0,0.0,0.0,0.0,0.0,0.0,0.0,0.0,0.0,0.0,0.0,0.0,0.0,0.0,0.0,0.0,0.0,0.0,0.0,0.0,0.0,1.0,1.0,0.0,0.0,0.0,1.0,0.0,0.0,0.0,0.0,0.0,0.0,1.0,0.0,1.0,0.0,1.0,0.0,1.0,0.0,0.0,0.0,1.0,0.0,0.0,0.0,0.0,1.0,1.0,0.0,1.0,0.0,0.0,0.0,0.0,0.0,0.0,1.0,0.0,0.0,0.0,0.0,0.0,0.0,0.0,0.0,0.0,1.0,0.0,0.0,0.0,0.0,0.0,0.0,0.0,0.0,0.0,1.0,1.0,0.0,1.0,0.0,0.0,1.0,0.0,0.0,0.0,0.0,0.0,0.0,0.0,0.0,0.0,0.0,0.0,1.0,1.0,0.0,0.0,0.0,0.0,0.0,0.0,0.0,1.0,0.0,0.0,0.0,0.0,0.0,0.0,0.0,0.0,0.0,0.0,0.0,0.0,0.0,0.0,0.0,0.0,0.0,1.0,0.0,0.0,0.0,1.0,0.0,0.0,0.0,0.0,0.0,0.0,0.0,0.0,0.0,0.0,0.0,1.0,1.0,0.0,0.0,0.0,0.0,0.0,0.0,0.0,0.0,0.0,0.0,0.0,1.0,0.0,0.0,0.0,0.0,1.0,0.0,0.0,0.0,0.0,0.0,0.0,0.0,0.0,0.0,0.0,0.0,0.0,0.0,0.0,0.0,0.0,0.0,1.0,0.0,1.0,0.0,1.0,0.0,1.0,0.0,0.0,0.0,0.0,0.0,0.0,1.0,0.0,0.0,0.0,0.0,0.0,1.0,0.0,0.0,0.0,0.0,0.0,0.0,0.0,0.0,1.0,0.0,0.0,0.0,1.0,0.0,0.0,0.0,0.0,1.0,0.0,0.0,0.0,0.0,0.0,0.0,0.0,0.0,0.0,0.0,0.0,0.0,0.0,1.0,0.0,0.0,0.0,0.0,0.0,1.0,1.0,0.0,1.0,0.0,0.0,0.0,0.0,0.0,0.0,0.0,0.0,0.0,0.0,0.0,1.0,1.0,0.0,0.0,0.0,0.0,0.0,0.0,0.0,0.0,0.0,0.0,0.0,1.0,0.0,1.0,0.0,1.0,1.0,0.0,0.0,0.0,0.0,0.0,0.0,0.0,0.0,1.0,0.0,0.0,0.0,0.0,0.0,1.0,0.0,0.0,0.0,1.0,0.0,0.0,0.0,0.0,0.0,0.0,0.0,0.0,1.0,0.0,0.0,0.0,0.0,0.0,0.0,0.0,0.0,0.0,0.0,0.0,0.0,0.0,1.0,0.0,1.0,0.0,0.0,0.0,0.0,0.0,1.0,0.0,0.0,0.0,0.0,0.0,1.0,0.0,0.0,0.0,0.0,0.0,0.0,0.0,0.0,1.0,0.0,0.0,0.0,0.0,0.0,0.0,0.0,0.0,0.0,1.0,0.0,0.0,0.0,0.0,0.0,0.0,0.0,0.0,0.0,0.0,0.0,1.0,0.0,0.0,0.0,0.0,0.0,0.0,0.0,0.0,0.0,0.0,0.0,0.0,0.0,1.0,0.0,0.0,0.0,0.0,0.0,1.0,0.0,0.0,0.0,0.0,0.0,0.0,0.0,1.0,0.0,0.0,0.0,0.0,0.0,0.0,0.0,0.0,0.0,0.0,0.0,1.0,1.0,0.0,0.0,0.0,0.0,0.0,0.0,0.0,0.0,0.0,1.0,0.0,0.0,0.0,0.0,0.0,0.0,0.0,0.0,0.0,0.0,0.0,0.0,0.0,0.0,0.0,0.0,0.0,0.0,0.0,0.0,0.0,0.0,0.0,0.0,0.0,0.0,1.0,0.0,0.0,1.0,0.0,0.0,0.0,0.0,0.0,0.0,0.0,0.0,0.0,0.0,0.0,0.0,0.0,0.0,0.0,0.0,0.0,0.0,0.0,0.0,1.0,0.0,0.0,0.0,0.0,0.0,0.0,0.0,0.0,0.0,0.0,0.0,0.0,0.0,0.0,0.0,0.0,0.0,0.0,1.0,1.0,0.0,0.0,0.0,0.0,0.0,1.0,0.0,0.0,0.0,0.0,0.0,0.0,0.0,0.0,1.0,0.0,0.0,1.0,0.0,0.0,0.0,1.0,1.0,0.0,0.0,0.0,0.0,0.0,0.0,0.0,1.0,0.0,0.0,0.0,0.0,0.0,0.0,0.0,1.0,0.0,0.0,0.0,1.0,0.0,0.0,0.0,0.0,0.0,0.0,0.0,0.0,0.0,0.0,0.0,0.0,0.0,0.0,0.0,1.0,0.0,0.0,0.0,0.0,1.0,0.0,0.0,0.0,1.0,0.0,0.0,0.0,0.0,1.0,0.0,0.0,0.0,0.0,0.0,0.0,0.0,1.0,0.0,0.0,0.0,0.0,0.0,0.0,0.0,0.0,0.0,1.0,0.0,0.0,0.0,0.0,0.0,0.0,0.0,0.0,0.0,0.0,0.0,0.0,0.0,0.0,0.0,0.0,0.0,0.0,0.0,1.0,0.0,0.0,0.0,0.0,0.0,0.0,0.0,0.0,0.0,0.0,1.0,0.0,0.0,0.0,0.0,0.0,0.0,1.0,1.0,0.0,1.0,0.0,0.0,0.0,0.0,0.0,0.0,1.0,0.0,0.0,1.0,0.0,0.0,0.0,0.0,0.0,0.0,0.0,0.0,0.0,0.0,0.0,0.0,0.0,0.0,0.0,0.0,1.0,1.0,0.0,0.0,0.0,0.0,0.0,0.0,0.0,1.0,0.0,0.0,0.0,0.0,0.0,0.0,0.0,0.0,0.0,0.0,0.0,0.0,0.0,0.0,0.0,0.0,0.0,0.0,1.0,0.0,0.0,0.0,0.0,1.0,1.0,0.0,0.0,0.0,0.0,0.0,0.0,1.0,0.0,0.0,0.0,0.0,0.0,0.0,0.0,0.0,0.0,0.0,0.0,0.0,0.0,0.0,1.0,0.0,0.0,0.0,0.0,0.0,0.0,0.0,0.0,0.0,0.0,0.0,0.0,0.0,0.0,1.0,0.0,0.0,1.0,0.0,0.0,1.0,0.0,0.0,0.0,0.0,0.0,1.0,0.0,0.0,0.0,1.0,0.0,0.0,0.0,0.0,0.0,0.0,1.0,0.0,0.0,1.0,0.0,0.0,0.0,1.0,1.0,0.0,0.0,1.0,0.0,1.0,0.0,0.0,1.0,0.0,0.0,0.0,0.0,0.0,0.0,0.0,0.0,0.0,0.0,1.0,0.0,0.0,0.0,0.0,0.0,0.0,0.0,1.0,0.0,0.0,0.0,0.0,0.0,0.0,0.0,0.0,0.0,0.0,0.0,0.0,0.0,0.0,0.0,1.0,0.0,0.0,0.0,1.0,0.0,0.0,0.0,1.0,0.0,0.0,1.0,0.0,0.0,0.0,0.0,0.0,0.0,0.0,0.0,0.0,0.0,0.0,0.0,0.0,0.0,0.0,0.0,0.0,0.0,0.0,0.0,0.0,0.0,0.0,0.0,1.0,0.0,1.0,0.0,0.0,0.0,0.0,1.0,0.0,0.0,0.0,0.0,0.0,1.0,0.0,0.0,0.0,0.0,0.0,0.0,0.0,0.0,0.0,0.0,0.0,0.0,0.0,0.0,0.0,1.0,0.0,0.0,0.0,0.0,0.0,0.0,0.0,1.0,0.0,0.0,0.0,0.0,0.0,0.0,0.0,0.0,0.0,0.0,0.0,0.0,0.0,0.0,0.0,0.0,0.0,0.0,0.0,1.0,0.0,0.0,0.0,0.0,0.0,0.0,0.0,0.0,1.0,1.0,0.0,0.0,0.0,0.0,0.0,1.0,0.0,1.0,0.0,0.0,0.0,0.0,0.0,0.0,0.0,0.0,0.0,0.0,0.0,0.0,0.0,0.0,0.0,0.0,1.0,0.0,1.0,0.0,0.0,1.0,0.0,0.0,1.0,0.0,1.0,0.0,0.0,0.0,0.0,0.0,0.0,0.0,0.0,1.0,0.0,0.0,1.0,0.0,0.0,0.0,0.0,0.0,0.0,0.0,0.0,0.0,0.0,0.0,0.0,0.0,0.0,0.0,0.0,0.0,0.0,1.0,0.0,0.0,0.0,0.0,0.0,1.0,0.0,0.0,0.0,0.0,0.0,1.0,0.0,0.0,0.0,0.0,0.0,0.0,0.0,1.0,0.0,1.0,0.0,0.0,0.0,0.0,0.0,0.0,0.0,1.0,1.0,0.0,1.0,0.0,0.0,1.0,0.0,0.0,0.0,0.0,1.0,0.0,0.0,0.0,0.0,0.0,0.0,0.0,1.0,0.0,0.0,0.0,0.0,0.0,0.0,0.0,0.0,0.0,0.0,1.0,0.0,0.0,1.0,0.0,0.0,1.0,0.0,0.0,0.0,0.0,0.0,0.0,0.0,0.0,0.0,0.0,1.0,0.0,1.0,0.0,0.0,1.0,0.0,0.0,0.0,0.0,0.0,0.0,0.0,0.0,0.0,0.0,0.0,0.0,0.0,0.0,0.0,1.0,0.0,0.0,0.0,0.0,1.0,0.0,0.0,0.0,0.0,0.0,0.0,0.0,0.0,0.0,0.0,0.0,1.0,1.0,0.0,0.0,1.0,1.0,1.0,0.0,0.0,0.0,0.0,1.0,0.0,0.0,0.0,0.0,0.0,0.0,0.0,1.0,0.0,0.0,0.0,0.0,0.0,0.0,0.0,0.0,0.0,0.0,0.0,0.0,0.0,0.0,0.0,0.0,0.0,0.0,1.0,1.0,0.0,0.0,0.0,0.0,0.0,0.0,0.0,0.0,0.0,0.0,0.0,0.0,0.0,0.0,0.0,0.0,0.0,0.0,1.0,0.0,0.0,0.0,0.0,0.0,0.0,0.0,0.0,0.0,0.0,0.0,0.0,0.0,0.0,0.0,0.0,0.0,0.0,0.0,0.0,0.0,0.0,0.0,0.0,1.0,0.0,0.0,0.0,0.0,0.0,0.0,0.0,1.0,0.0,0.0,0.0,0.0,1.0,0.0,0.0,1.0,0.0,0.0,0.0,1.0,1.0,1.0,0.0,0.0,0.0,0.0,0.0,0.0,1.0,0.0,0.0,0.0,1.0,0.0,0.0,0.0,0.0,0.0,0.0,0.0,0.0,0.0,0.0,1.0,0.0,0.0,0.0,0.0,1.0,0.0,0.0,0.0,0.0,1.0,1.0,0.0,0.0,0.0,0.0,0.0,0.0,0.0,0.0,1.0,0.0,1.0,0.0,0.0,0.0,0.0,0.0,0.0,0.0,1.0,1.0,0.0,0.0,0.0,1.0,0.0,0.0,0.0,0.0,0.0,0.0,0.0,1.0,0.0,0.0,0.0,0.0,0.0,1.0,0.0,0.0,0.0,0.0,0.0,1.0,0.0,0.0,0.0,0.0,0.0,0.0,0.0,1.0,1.0,0.0,0.0,0.0,0.0,1.0,0.0,0.0,0.0,0.0,1.0,0.0,0.0,0.0,0.0,1.0,0.0,1.0,0.0,0.0,0.0,0.0,1.0,0.0,0.0,0.0,1.0,0.0,0.0,1.0,1.0,1.0,1.0,0.0,1.0,0.0,0.0,1.0,0.0,0.0,0.0,1.0,0.0,0.0,1.0,0.0,0.0,0.0,0.0,0.0,0.0,0.0,0.0,0.0,0.0,0.0,0.0,0.0,0.0,0.0,0.0,0.0,0.0,1.0,0.0,1.0,0.0,0.0,0.0,0.0,0.0,0.0,0.0,1.0,0.0,0.0,0.0,0.0,0.0,0.0,0.0,0.0,0.0,0.0,0.0,0.0,0.0,0.0,0.0,0.0,0.0,0.0,0.0,0.0,0.0,1.0,0.0,1.0,0.0,1.0,1.0,0.0,0.0,0.0,0.0,0.0,0.0,0.0,0.0,1.0,0.0,0.0,0.0,0.0,0.0,0.0,1.0,1.0,0.0,0.0,0.0,0.0,0.0,0.0,0.0,0.0,0.0,0.0,1.0,1.0,0.0,0.0,1.0,0.0,0.0,0.0,0.0,0.0,0.0,0.0,0.0,0.0,1.0,0.0,0.0,0.0,0.0,0.0,0.0,0.0,0.0,1.0,0.0,0.0,0.0,0.0,0.0,0.0,0.0,0.0,0.0,0.0,0.0,0.0,0.0,0.0,0.0,0.0,1.0,0.0,0.0,0.0,0.0,1.0,0.0,0.0,0.0,0.0,0.0,0.0,0.0,1.0,1.0,1.0,1.0,0.0,0.0,0.0,0.0,0.0,0.0,0.0,0.0,0.0,0.0,0.0,0.0,0.0,0.0,0.0,0.0,0.0,0.0,0.0,0.0,1.0,0.0,0.0,0.0,0.0,0.0,0.0,0.0,0.0,1.0,0.0,1.0,0.0,0.0,0.0,0.0,0.0,0.0,0.0,0.0,0.0,0.0,0.0,0.0,0.0,0.0,0.0,0.0,0.0,0.0,0.0,0.0,0.0,0.0,1.0,0.0,0.0,0.0,0.0,0.0,0.0,1.0,0.0,0.0,0.0,1.0,0.0,0.0,0.0,0.0,0.0,0.0,0.0,0.0,1.0,0.0,0.0,0.0,0.0,1.0,0.0,0.0,0.0,0.0,1.0,0.0,0.0,0.0,0.0,1.0,0.0,0.0,1.0,0.0,0.0,0.0,0.0,0.0,0.0,1.0,1.0,0.0,0.0,0.0,0.0,0.0,0.0,1.0,0.0,0.0,0.0,0.0,0.0,1.0,0.0,0.0,1.0,0.0,0.0,0.0,0.0,0.0,0.0,0.0,0.0,0.0,0.0,0.0,0.0,1.0,0.0,0.0,0.0,0.0,0.0,0.0,0.0,0.0,0.0,1.0,0.0,0.0,0.0,0.0,1.0,0.0,1.0,0.0,0.0,0.0,1.0,0.0,0.0,1.0,0.0,0.0,1.0,0.0,0.0,1.0,0.0,0.0,0.0,1.0,0.0,0.0,0.0,0.0,0.0,0.0,1.0,1.0,0.0,0.0,0.0,0.0,0.0,0.0,0.0,0.0,1.0,1.0,0.0,0.0,0.0,1.0,1.0,0.0,0.0,0.0,0.0,0.0,0.0,0.0,0.0,0.0,1.0,1.0,0.0,0.0,0.0,0.0,0.0,0.0,0.0,0.0,0.0,0.0,1.0,0.0,1.0,1.0,0.0,0.0,1.0,0.0,0.0,0.0,0.0,0.0,0.0,0.0,0.0,0.0,0.0,1.0,0.0,0.0,0.0,0.0,0.0,0.0,1.0,1.0,1.0,1.0,0.0,0.0,0.0,0.0,0.0,0.0,0.0,0.0,0.0,1.0,0.0,1.0,0.0,0.0,0.0,1.0,0.0,0.0,0.0,0.0,0.0,0.0,0.0,1.0,0.0,0.0,0.0,0.0,0.0,0.0,1.0,0.0,1.0,0.0,0.0,0.0,0.0,0.0,1.0,0.0,0.0,0.0,0.0,0.0,0.0,0.0,0.0,0.0,0.0,0.0,0.0,0.0,0.0,0.0,1.0,0.0,0.0,0.0,0.0,0.0,1.0,0.0,0.0,0.0,0.0,1.0,1.0,0.0,0.0,0.0,0.0,0.0,0.0,0.0,0.0,0.0,0.0,0.0,0.0,0.0,1.0,0.0,0.0,0.0,0.0,0.0,0.0,0.0,0.0,0.0,1.0,0.0,0.0,0.0,0.0,0.0,0.0,0.0,1.0,0.0,1.0,0.0,0.0,0.0,0.0,0.0,0.0,0.0,0.0,0.0,1.0,0.0,0.0,0.0,0.0,0.0,0.0,0.0,0.0,1.0,0.0,1.0,0.0,0.0,0.0,0.0,0.0,1.0,0.0,0.0,0.0,0.0,0.0,0.0,0.0,0.0,0.0,0.0,0.0,0.0,0.0,0.0,1.0,0.0,0.0,0.0,0.0,0.0,0.0,1.0,1.0,0.0,0.0,0.0,0.0,0.0,0.0,0.0,0.0,0.0,0.0,0.0,0.0,0.0,1.0,0.0,0.0,0.0,1.0,0.0,0.0,0.0,0.0,0.0,1.0,0.0,0.0,0.0,0.0,0.0,1.0,0.0,0.0,0.0,0.0,0.0,0.0,0.0,0.0,0.0,0.0,1.0,0.0,0.0,0.0,1.0,0.0,0.0,0.0,0.0,1.0,0.0,0.0,0.0,0.0,0.0,1.0,0.0,0.0,0.0,0.0,0.0,0.0,1.0,0.0,0.0,0.0,0.0,1.0,1.0,1.0,1.0,0.0,0.0,0.0,0.0,0.0,0.0,0.0,0.0,0.0,0.0,0.0,0.0,0.0,1.0,0.0,0.0,0.0,0.0,0.0,0.0,0.0,0.0,0.0,0.0,0.0,0.0,0.0,0.0,0.0,0.0,0.0,0.0,1.0,0.0,0.0,0.0,1.0,0.0,0.0,0.0,1.0,0.0,0.0,0.0,0.0,1.0,0.0,1.0,0.0,1.0,0.0,0.0,0.0,0.0,1.0,1.0,0.0,0.0,0.0,0.0,0.0,0.0,0.0,0.0,0.0,0.0,1.0,0.0,1.0,0.0,0.0,0.0,0.0,1.0,0.0,0.0,0.0,1.0,1.0,0.0,0.0,1.0,0.0,1.0,0.0,0.0,0.0,0.0,1.0,0.0,0.0,0.0,0.0,0.0,1.0,1.0,1.0,0.0,0.0,0.0,0.0,0.0,1.0,0.0,0.0,0.0,0.0,0.0,1.0,1.0,0.0,1.0,0.0,0.0,0.0,1.0,0.0,0.0,0.0,0.0,0.0,0.0,0.0,0.0,0.0,1.0,0.0,0.0,0.0,0.0,1.0,0.0,0.0,0.0,0.0,0.0,0.0,0.0,0.0,0.0,0.0,0.0,0.0,0.0,0.0,0.0,1.0,0.0,0.0,0.0,0.0,0.0,0.0,0.0,0.0,1.0,0.0,0.0,1.0,0.0,0.0,1.0,1.0,0.0,0.0,0.0,0.0,0.0,0.0,0.0,1.0,0.0,0.0,0.0,0.0,0.0,0.0,1.0,0.0,0.0,0.0,0.0,0.0,0.0,0.0,0.0,0.0,0.0,1.0,0.0,0.0,0.0,0.0,0.0,0.0,0.0,1.0,0.0,0.0,1.0,0.0,1.0,0.0,0.0,0.0,0.0,0.0,0.0,0.0,0.0,0.0,0.0,0.0,0.0,0.0,0.0,0.0,0.0,1.0,0.0,0.0,0.0,0.0,0.0,1.0,0.0,0.0,0.0,1.0,0.0,0.0,1.0,0.0,0.0,0.0,0.0,0.0,0.0,0.0,1.0,0.0,0.0,0.0,0.0,0.0,0.0,0.0,0.0,0.0,1.0,0.0,0.0,0.0,0.0,1.0,0.0,0.0,0.0,0.0,0.0,0.0,0.0,0.0,0.0,1.0,0.0,1.0,0.0,1.0,0.0,0.0,1.0,0.0,0.0,0.0,0.0,0.0,1.0,0.0,0.0,0.0,1.0,0.0,0.0,0.0,0.0,0.0,0.0,0.0,0.0,0.0,0.0,0.0,1.0,0.0,0.0,0.0,0.0,0.0,0.0,0.0,1.0,0.0,1.0,0.0,0.0,0.0,0.0,0.0,0.0,0.0,0.0,0.0,0.0,0.0,0.0,0.0,0.0,1.0,0.0,0.0,0.0,0.0,1.0,0.0,0.0,0.0,0.0,0.0,0.0,0.0,0.0,1.0,1.0,0.0,0.0,0.0,0.0,0.0,1.0,0.0,0.0,0.0,0.0,0.0,1.0,1.0,0.0,0.0,0.0,0.0,0.0,0.0,1.0,0.0,0.0,0.0,0.0,0.0,0.0,0.0,1.0,1.0,0.0,0.0,0.0,0.0,0.0,0.0,0.0,0.0,0.0,0.0,1.0,1.0,0.0,0.0,0.0,0.0,0.0,0.0,0.0,0.0,0.0,0.0,0.0,0.0,0.0,0.0,0.0,1.0,1.0,0.0,0.0,0.0,0.0,0.0,0.0,0.0,1.0,0.0,0.0,0.0,0.0,0.0,0.0,0.0,0.0,0.0,1.0,0.0,0.0,0.0,0.0,0.0,1.0,0.0,1.0,0.0,0.0,0.0,0.0,1.0,0.0,0.0,0.0,0.0,0.0,1.0,0.0,0.0,0.0,0.0,0.0,0.0,0.0,1.0,0.0,0.0,0.0,0.0,0.0,1.0,0.0,0.0,0.0,0.0,0.0,0.0,0.0,0.0,1.0,0.0,0.0,0.0,0.0,0.0,0.0,0.0,0.0,0.0,0.0,1.0,1.0,0.0,0.0,0.0,1.0,0.0,0.0,0.0,0.0,0.0,0.0,0.0,0.0,1.0,1.0,0.0,0.0,0.0,0.0,0.0,1.0,0.0,0.0,0.0,0.0,0.0,0.0,0.0,0.0,0.0,0.0,0.0,1.0,0.0,0.0,0.0,1.0,1.0,0.0,1.0,0.0,0.0,0.0,0.0,1.0,0.0,1.0,0.0,0.0,0.0,0.0,0.0,0.0,1.0,0.0,0.0,1.0,1.0,0.0,0.0,0.0,0.0,0.0,0.0,0.0,0.0,0.0,0.0,0.0,0.0,0.0,0.0,0.0,0.0,0.0,0.0,0.0,0.0,0.0,0.0,0.0,0.0,0.0,0.0,0.0,0.0,0.0,0.0,1.0,1.0,0.0,1.0,0.0,0.0,0.0,0.0,0.0,0.0,0.0,0.0,1.0,0.0,0.0,0.0,0.0,0.0,0.0,1.0,0.0,0.0,0.0,1.0,0.0,1.0,1.0,0.0,0.0,0.0,0.0,1.0,0.0,1.0,0.0,0.0,0.0,1.0,0.0,0.0,1.0,1.0,1.0,0.0,0.0,1.0,0.0,1.0,0.0,0.0,0.0,0.0,0.0,0.0,1.0,1.0,0.0,0.0,0.0,1.0,1.0,0.0,0.0,1.0,0.0,0.0,0.0,0.0,0.0,0.0,1.0,0.0,0.0,1.0,0.0,0.0,0.0,0.0,0.0,0.0,0.0,0.0,1.0,0.0,0.0,0.0,0.0,0.0,0.0,0.0,0.0,0.0,0.0,0.0,0.0,0.0,0.0,0.0,0.0,0.0,0.0,0.0,0.0,1.0,0.0,0.0,0.0,0.0,0.0,0.0,0.0,0.0,1.0,0.0,0.0,1.0,0.0,1.0,0.0,0.0,1.0,0.0,0.0,0.0,0.0,0.0,1.0,0.0,0.0,0.0,0.0,1.0,1.0,0.0,0.0,0.0,0.0,0.0,0.0,0.0,0.0,0.0,0.0,1.0,0.0,0.0,1.0,0.0,0.0,1.0,0.0,0.0,0.0,0.0,0.0,0.0,0.0,1.0,0.0,0.0,0.0,0.0,0.0,0.0,0.0,0.0,0.0,1.0,0.0,0.0,0.0,0.0,0.0,0.0,0.0,0.0,1.0,0.0,0.0,0.0,0.0,0.0,0.0,0.0,0.0,0.0,0.0,0.0,0.0,0.0,0.0,0.0,0.0,0.0,0.0,0.0,0.0,0.0,0.0,0.0,0.0,1.0,0.0,0.0,0.0,0.0,0.0,0.0,0.0,0.0,0.0,0.0,1.0,0.0,0.0,0.0,0.0,0.0,0.0,1.0,0.0,0.0,0.0,0.0,0.0,0.0,0.0,0.0,0.0,0.0,0.0,1.0,0.0,0.0,1.0,0.0,0.0,0.0,0.0,0.0,0.0,0.0,0.0,0.0,0.0,1.0,0.0,0.0,0.0,0.0,0.0,0.0,0.0,1.0,0.0,0.0,0.0,0.0,0.0,0.0,1.0,1.0,0.0,0.0,0.0,0.0,0.0,0.0,0.0,0.0,0.0,0.0,0.0,1.0,0.0,0.0,0.0,0.0,0.0,0.0,0.0,0.0,0.0,1.0,0.0,0.0,0.0,0.0,1.0,0.0,0.0,1.0,0.0,0.0,0.0,0.0,0.0,0.0,0.0,0.0,0.0,0.0,0.0,0.0,0.0,0.0,0.0,0.0,0.0,0.0,0.0,0.0,0.0,0.0,0.0,1.0,0.0,0.0,0.0,0.0,0.0,0.0,1.0,0.0,0.0,0.0,0.0,0.0,1.0,0.0,0.0,1.0,0.0,0.0,0.0,0.0,0.0,0.0,0.0,0.0,0.0,0.0,0.0,0.0,0.0,0.0,0.0,0.0,0.0,0.0,0.0,0.0,0.0,0.0,0.0,0.0,0.0,0.0,0.0,0.0,0.0,0.0,0.0,0.0,1.0,0.0,1.0,1.0,0.0,0.0,0.0,0.0,0.0,0.0,0.0,0.0,0.0,1.0,1.0,0.0,0.0,0.0,1.0,1.0,0.0,0.0,0.0,0.0,0.0,0.0,0.0,0.0,0.0,1.0,0.0,1.0,0.0,0.0,0.0,0.0,0.0,0.0,0.0,0.0,1.0,1.0,0.0,0.0,0.0,0.0,0.0,0.0,0.0,0.0,1.0,0.0,0.0,0.0,0.0,1.0,0.0,0.0,0.0,0.0,0.0,1.0,1.0,0.0,0.0,0.0,0.0,0.0,0.0,0.0,0.0,1.0,0.0,0.0,0.0,1.0,0.0,0.0,0.0,1.0,0.0,0.0,1.0,0.0,0.0,0.0,0.0,0.0,0.0,0.0,0.0,0.0,0.0,0.0,0.0,0.0,0.0,0.0,0.0,0.0,1.0,0.0,0.0,0.0,0.0,0.0,0.0,0.0,0.0,1.0,0.0,0.0,0.0,1.0,0.0,0.0,1.0,0.0,0.0,1.0,0.0,1.0,0.0,1.0,0.0,0.0,0.0,0.0,0.0,0.0,0.0,0.0,0.0,0.0,0.0,0.0,0.0,0.0,0.0,0.0,0.0,0.0,0.0,0.0,0.0,0.0,0.0,0.0,1.0,0.0,0.0,0.0,0.0,0.0,0.0,0.0,0.0,0.0,0.0,0.0,0.0,0.0,0.0,0.0,1.0,0.0,1.0,0.0,0.0,0.0,0.0,0.0,0.0,0.0,1.0,0.0,0.0,0.0,0.0,0.0,1.0,1.0,1.0,1.0,1.0,0.0,0.0,1.0,0.0,0.0,0.0,1.0,1.0,1.0,1.0,0.0,0.0,0.0,0.0,0.0,0.0,0.0,1.0,0.0,0.0,0.0,0.0,0.0,0.0,0.0,0.0,0.0,0.0,0.0,1.0,1.0,0.0,1.0,1.0,0.0,1.0,1.0,0.0,0.0,1.0,0.0,0.0,0.0,0.0,0.0,0.0,0.0,0.0,0.0,0.0,0.0,0.0,0.0,0.0,0.0,0.0,1.0,0.0,0.0,0.0,0.0,0.0,0.0,0.0,0.0,1.0,0.0,0.0,0.0,0.0,0.0,0.0,0.0,0.0,0.0,0.0,0.0,1.0,0.0,0.0,0.0,0.0,0.0,0.0,1.0,0.0,0.0,0.0,1.0,1.0,1.0,1.0,0.0,0.0,0.0,0.0,0.0,1.0,0.0,0.0,0.0,0.0,0.0,0.0,1.0,0.0,0.0,0.0,0.0,0.0,0.0,0.0,0.0,0.0,0.0,0.0,0.0,0.0,0.0,0.0,0.0,1.0,0.0,1.0,0.0,1.0,0.0,0.0,0.0,0.0,0.0,1.0,0.0,0.0,1.0,0.0,0.0,0.0,0.0,0.0,0.0,1.0,0.0,0.0,0.0,0.0,0.0,0.0,1.0,0.0,0.0,0.0,0.0,0.0,0.0,0.0,0.0,0.0,0.0,0.0,1.0,0.0,0.0,0.0,1.0,0.0,0.0,0.0,0.0,0.0,1.0,0.0,0.0,1.0,0.0,0.0,0.0,0.0,0.0,0.0,0.0,0.0,1.0,0.0,0.0,0.0,1.0,1.0,0.0,0.0,0.0,0.0,0.0,1.0,0.0,1.0,0.0,1.0,0.0,0.0,0.0,0.0,0.0,0.0,0.0,0.0,0.0,0.0,0.0,1.0,0.0,0.0,0.0,0.0,1.0,0.0,1.0,0.0,0.0,0.0,0.0,0.0,0.0,0.0,1.0,1.0,0.0,0.0,0.0,0.0,0.0,0.0,0.0,0.0,0.0,0.0,0.0,0.0,0.0,0.0,1.0,0.0,0.0,0.0,0.0,1.0,0.0,0.0,0.0,1.0,0.0,0.0,0.0,1.0,0.0,1.0,0.0,0.0,1.0,0.0,0.0,0.0,0.0,0.0,1.0,0.0,0.0,0.0,0.0,0.0,0.0,0.0,1.0,0.0,1.0,0.0,0.0,0.0,0.0,0.0,0.0,0.0,0.0,0.0,0.0,1.0,0.0,1.0,0.0,0.0,0.0,0.0,0.0,0.0,0.0,0.0,0.0,0.0,1.0,1.0,0.0,0.0,0.0,0.0,0.0,0.0,0.0,0.0,0.0,0.0,1.0,1.0,0.0,1.0,0.0,1.0,0.0,0.0,0.0,0.0,1.0,0.0,0.0,0.0,0.0,0.0,0.0,0.0,0.0,0.0,0.0,1.0,0.0,0.0,0.0,0.0,0.0,0.0,0.0,0.0,0.0,0.0,0.0,0.0,0.0,0.0,0.0,0.0,1.0,0.0,0.0,1.0,0.0,0.0,0.0,0.0,1.0,0.0,0.0,0.0,0.0,1.0,0.0,0.0,1.0,0.0,0.0,0.0,0.0,0.0,0.0,0.0,0.0,1.0,0.0,0.0,0.0,0.0,0.0,0.0,0.0,0.0,0.0,0.0,0.0,0.0,0.0,0.0,0.0,0.0,0.0,0.0,0.0,0.0,0.0,1.0,1.0,0.0,0.0,0.0,0.0,0.0,0.0,0.0,0.0,0.0,0.0,1.0,0.0,0.0,0.0,0.0,0.0,0.0,0.0,0.0,1.0,0.0,1.0,0.0,0.0,0.0,1.0,0.0,0.0,0.0,0.0,0.0,0.0,0.0,1.0,0.0,1.0,0.0,0.0,0.0,0.0,0.0,0.0,0.0,0.0,1.0,0.0,0.0,0.0,0.0,0.0,1.0,1.0,0.0,1.0,0.0,0.0,0.0,0.0,0.0,0.0,0.0,1.0,1.0,0.0,1.0,1.0,1.0,1.0,0.0,0.0,0.0,0.0,0.0,1.0,0.0,0.0,0.0,0.0,0.0,0.0,0.0,1.0,0.0,1.0,0.0,0.0,0.0,0.0,1.0,0.0,0.0,0.0,0.0,1.0,0.0,1.0,0.0,0.0,1.0,1.0,0.0,0.0,0.0,0.0,1.0,0.0,0.0,0.0,1.0,0.0,0.0,0.0,0.0,0.0,0.0,0.0,1.0,1.0,0.0,0.0,0.0,0.0,0.0,0.0,0.0,1.0,0.0,1.0,0.0,0.0,0.0,0.0,0.0,0.0,0.0,0.0,1.0,1.0,0.0,0.0,1.0,0.0,0.0,0.0,1.0,0.0,1.0,1.0,0.0,0.0,1.0,0.0,1.0,1.0,0.0,0.0,1.0,0.0,0.0,0.0,0.0,0.0,0.0,1.0,1.0,0.0,0.0,0.0,0.0,0.0,0.0,0.0,0.0,1.0,0.0,0.0,1.0,1.0,0.0,0.0,1.0,0.0,0.0,0.0,0.0,0.0,0.0,0.0,0.0,0.0,0.0,0.0,1.0,0.0,0.0,0.0,1.0,1.0,0.0,0.0,1.0,0.0,0.0,1.0,0.0,0.0,0.0,0.0,0.0,1.0,0.0,0.0,0.0,0.0,0.0,0.0,0.0,0.0,0.0,0.0,0.0,0.0,0.0,0.0,0.0,0.0,0.0,0.0,0.0,0.0,1.0,0.0,0.0,0.0,0.0,0.0,1.0,0.0,0.0,0.0,0.0,0.0,1.0,0.0,0.0,0.0,0.0,0.0,0.0,0.0,0.0,0.0,1.0,0.0,0.0,0.0,0.0,0.0,0.0,0.0,0.0,1.0,0.0,0.0,0.0,0.0,0.0,1.0,0.0,0.0,1.0,1.0,0.0,0.0,0.0,0.0,0.0,0.0,0.0,0.0,1.0,0.0,0.0,0.0,0.0,0.0,0.0,0.0,0.0,0.0,1.0,1.0,0.0,0.0,0.0,1.0,0.0,0.0,0.0,0.0,0.0,1.0,0.0,0.0,0.0,0.0,0.0,0.0,0.0,1.0,0.0,0.0,0.0,0.0,0.0,0.0,0.0,0.0,0.0,0.0,0.0,0.0,0.0,1.0,0.0,0.0,1.0,0.0,0.0,1.0,0.0,0.0,0.0,0.0,0.0,0.0,0.0,0.0,0.0,0.0,0.0,0.0,0.0,1.0,1.0,0.0,0.0,0.0,0.0,0.0,0.0,0.0,1.0,0.0,0.0,0.0,1.0,0.0,0.0,0.0,0.0,0.0,0.0,0.0,0.0,1.0,0.0,0.0,0.0,1.0,0.0,0.0,0.0,0.0,0.0,0.0,0.0,0.0,1.0,1.0,0.0,0.0,0.0,0.0,0.0,0.0,1.0,1.0,0.0,1.0,0.0,0.0,0.0,0.0,0.0,0.0,0.0,0.0,0.0,0.0,0.0,0.0,0.0,0.0,0.0,0.0,1.0,0.0,0.0,0.0,0.0,0.0,0.0,1.0,0.0,1.0,0.0,0.0,1.0,1.0,0.0,1.0,0.0,0.0,1.0,1.0,0.0,0.0,1.0,0.0,0.0,0.0,1.0,0.0,0.0,0.0,0.0,0.0,0.0,0.0,0.0,0.0,0.0,0.0,1.0,0.0,1.0,0.0,0.0,0.0,1.0,0.0,0.0,0.0,0.0,0.0,0.0,0.0,0.0,0.0,0.0,0.0,0.0,0.0,0.0,1.0,0.0,0.0,0.0,0.0,0.0,1.0,1.0,0.0,0.0,0.0,0.0,1.0,0.0,0.0,1.0,0.0,0.0,0.0,0.0,0.0,0.0,0.0,0.0,0.0,0.0,0.0,0.0,0.0,0.0,0.0,0.0,0.0,1.0,0.0,0.0,1.0,0.0,1.0,0.0,0.0,0.0,0.0,0.0,1.0,0.0,0.0,0.0,1.0,0.0,0.0,0.0,1.0,0.0,0.0,0.0,0.0,0.0,0.0,0.0,0.0,0.0,1.0,1.0,0.0,1.0,1.0,0.0,1.0,0.0,0.0,0.0,0.0,0.0,0.0,0.0,1.0,0.0,1.0,0.0,0.0,0.0,0.0,0.0,1.0,0.0,0.0,0.0,0.0,0.0,0.0,0.0,0.0,0.0,0.0,1.0,1.0,0.0,0.0,0.0,0.0,1.0,0.0,0.0,1.0,0.0,0.0,0.0,0.0,0.0,0.0,1.0,0.0,0.0,0.0,1.0,0.0,1.0,0.0,0.0,0.0,0.0,0.0,0.0,0.0,0.0,0.0,0.0,0.0,0.0,1.0,1.0,0.0,0.0,1.0,1.0,0.0,1.0,1.0,0.0,0.0,0.0,0.0,0.0,0.0,1.0,0.0,0.0,0.0,0.0,0.0,0.0,0.0,1.0,0.0,0.0,0.0,0.0,0.0,0.0,0.0,0.0,0.0,0.0,0.0,1.0,0.0,0.0,0.0,0.0,0.0,0.0,0.0,0.0,0.0,0.0,0.0,0.0,0.0,0.0,0.0,0.0,1.0,0.0,0.0,0.0,1.0,0.0,1.0,0.0,0.0,0.0,0.0,1.0,1.0,0.0,0.0,0.0,1.0,0.0,0.0,0.0,0.0,0.0,0.0,0.0,0.0,0.0,1.0,1.0,0.0,0.0,0.0,1.0,1.0,0.0,0.0,0.0,0.0,0.0,0.0,0.0,1.0,0.0,1.0,0.0,0.0,0.0,0.0,0.0,0.0,0.0,1.0,0.0,0.0,0.0,0.0,0.0,0.0,0.0,0.0,0.0,0.0,1.0,0.0,0.0,0.0,0.0,1.0,0.0,0.0,0.0,0.0,0.0,0.0,0.0,0.0,1.0,0.0,0.0,0.0,0.0,0.0,0.0,0.0,0.0,0.0,1.0,0.0,0.0,0.0,0.0,0.0,0.0,0.0,0.0,0.0,1.0,0.0,1.0,0.0,0.0,1.0,0.0,0.0,0.0,0.0,1.0,1.0,0.0,1.0,0.0,0.0,0.0,1.0,0.0,0.0,0.0,0.0,0.0,0.0,0.0,0.0,0.0,0.0,0.0,0.0,1.0,0.0,0.0,0.0,0.0,0.0,0.0,0.0,0.0,1.0,0.0,0.0,0.0,0.0,1.0,0.0,0.0,0.0,1.0,1.0,1.0,1.0,0.0,1.0,1.0,0.0,0.0,0.0,0.0,0.0,1.0,0.0,0.0,1.0,0.0,0.0,1.0,0.0,0.0,0.0,1.0,0.0,1.0,0.0,1.0,0.0,1.0,0.0,0.0,0.0,0.0,0.0,0.0,0.0,0.0,0.0,0.0,0.0,0.0,0.0,0.0,0.0,0.0,0.0,0.0,1.0,0.0,0.0,0.0,0.0,0.0,0.0,0.0,0.0,0.0,0.0,1.0,0.0,0.0,0.0,0.0,0.0,0.0,0.0,0.0,0.0,0.0,0.0,0.0,0.0,1.0,0.0,0.0,1.0,0.0,1.0,0.0,0.0,0.0,0.0,0.0,1.0,0.0,0.0,0.0,0.0,0.0,0.0,1.0,0.0,0.0,0.0,0.0,0.0,1.0,0.0,0.0,0.0,0.0,0.0,0.0,0.0,0.0,0.0,0.0,1.0,0.0,0.0,0.0,0.0,0.0,0.0,0.0,0.0,0.0,0.0,0.0,0.0,0.0,0.0,0.0,0.0,1.0,0.0,1.0,0.0,0.0,0.0,0.0,0.0,0.0,0.0,0.0,0.0,0.0,0.0,1.0,0.0,0.0,0.0,1.0,0.0,0.0,0.0,0.0,0.0,0.0,0.0,0.0,1.0,0.0,0.0,0.0,1.0,0.0,0.0,1.0,0.0,0.0,0.0,0.0,0.0,0.0,0.0,0.0,1.0,1.0,0.0,0.0,0.0,0.0,0.0,0.0,0.0,0.0,0.0,0.0,0.0,0.0,0.0,0.0,1.0,0.0,0.0,0.0,0.0,0.0,0.0,0.0,0.0,0.0,1.0,0.0,0.0,0.0,0.0,0.0,0.0,1.0,1.0,0.0,0.0,0.0,0.0,0.0,0.0,0.0,1.0,0.0,0.0,1.0,0.0,0.0,0.0,0.0,1.0,1.0,0.0,0.0,1.0,0.0,0.0,1.0,0.0,0.0,0.0,0.0,0.0,0.0,0.0,1.0,0.0,0.0,0.0,0.0,0.0,0.0,0.0,0.0,0.0,0.0,1.0,0.0,1.0,1.0,0.0,1.0,0.0,1.0,1.0,0.0,1.0,0.0,0.0,0.0,0.0,0.0,0.0,0.0,0.0,0.0,0.0,0.0,0.0,0.0,0.0,0.0,0.0,0.0,0.0,0.0,1.0,0.0,0.0,0.0,0.0,0.0,0.0,0.0,0.0,0.0,0.0,0.0,0.0,0.0,0.0,1.0,1.0,1.0,0.0,0.0,0.0,0.0,0.0,1.0,1.0,0.0,0.0,0.0,0.0,0.0,0.0,1.0,0.0,0.0,0.0,0.0,0.0,0.0,0.0,0.0,1.0,0.0,0.0,0.0,0.0,0.0,0.0,0.0,0.0,0.0,0.0,0.0,1.0,0.0,1.0,0.0,0.0,1.0,0.0,1.0,0.0,0.0,0.0,1.0,0.0,0.0,0.0,0.0,0.0,0.0,0.0,0.0,0.0,1.0,0.0,0.0,0.0,0.0,0.0,0.0,0.0,0.0,0.0,0.0,0.0,0.0,0.0,0.0,1.0,0.0,0.0,0.0,0.0,0.0,0.0,0.0,0.0,1.0,0.0,1.0,0.0,0.0,1.0,1.0,0.0,0.0,1.0,0.0,0.0,0.0,0.0,0.0,1.0,0.0,0.0,1.0,0.0,0.0,0.0,1.0,0.0,0.0,1.0,0.0,0.0,0.0,0.0,0.0,0.0,0.0,0.0,1.0,0.0,0.0,0.0,0.0,0.0,1.0,0.0,0.0,1.0,1.0,1.0,0.0,0.0,0.0,0.0,0.0,0.0,0.0,0.0,1.0,0.0,1.0,0.0,0.0,0.0,0.0,1.0,0.0,0.0,0.0,0.0,0.0,0.0,0.0,0.0,1.0,0.0,0.0,1.0,0.0,1.0,0.0,0.0,1.0,0.0,0.0,0.0,1.0,0.0,1.0,0.0,0.0,1.0,0.0,1.0,1.0,0.0,0.0,0.0,1.0,0.0,0.0,0.0,1.0,0.0,0.0,0.0,0.0,0.0,0.0,0.0,1.0,0.0,0.0,0.0,0.0,0.0,0.0,0.0,1.0,0.0,0.0,0.0,0.0,1.0,0.0,1.0,0.0,0.0,0.0,0.0,0.0,0.0,1.0,1.0,0.0,0.0,1.0,0.0,0.0,0.0,0.0,0.0,1.0,0.0,0.0,0.0,0.0,1.0,0.0,0.0,0.0,0.0,0.0,0.0,1.0,0.0,1.0,0.0,0.0,0.0,0.0,1.0,0.0,0.0,0.0,0.0,0.0,1.0,1.0,0.0,0.0,0.0,0.0,1.0,1.0,0.0,0.0,0.0,0.0,0.0,0.0,0.0,0.0,0.0,0.0,0.0,1.0,0.0,0.0,0.0,0.0,0.0,0.0,0.0,0.0,0.0,1.0,1.0,0.0,0.0,0.0,0.0,0.0,0.0,1.0,0.0,1.0,1.0,1.0,0.0,0.0,0.0,0.0,0.0,0.0,0.0,0.0,0.0,0.0,0.0,0.0,0.0,1.0,0.0,0.0,0.0,0.0,0.0,0.0,0.0,1.0,0.0,0.0,0.0,0.0,0.0,0.0,1.0,0.0,0.0,0.0,1.0,0.0,1.0,0.0,0.0,0.0,0.0,0.0,0.0,1.0,0.0,0.0,0.0,0.0,0.0,0.0,0.0,0.0,0.0,0.0,0.0,0.0,1.0,0.0,0.0,1.0,1.0,0.0,0.0,0.0,0.0,0.0,0.0,0.0,0.0,0.0,0.0,0.0,0.0,0.0,0.0,0.0,0.0,1.0,0.0,0.0,1.0,0.0,0.0,1.0,0.0,0.0,0.0,0.0,1.0,0.0,1.0,0.0,1.0,0.0,0.0,0.0,0.0,0.0,0.0,0.0,0.0,0.0,1.0,0.0,1.0,0.0,1.0,0.0,0.0,0.0,1.0,0.0,0.0,0.0,0.0,0.0,0.0,0.0,0.0,0.0,0.0,0.0,0.0,1.0,0.0,0.0,0.0,0.0,0.0,0.0,0.0,1.0,0.0,0.0,0.0,0.0,0.0,0.0,0.0,0.0,0.0,0.0,0.0,0.0,1.0,0.0,0.0,1.0,0.0,0.0,0.0,1.0,0.0,0.0,1.0,0.0,0.0,1.0,1.0,0.0,0.0,0.0,0.0,0.0,0.0,0.0,0.0,0.0,0.0,0.0,0.0,0.0,0.0,0.0,0.0,0.0,0.0,0.0,1.0,0.0,0.0,1.0,0.0,0.0,0.0,0.0,0.0,0.0,0.0,0.0,1.0,0.0,1.0,0.0,0.0,0.0,0.0,1.0,0.0,1.0,1.0,0.0,0.0,0.0,0.0,0.0,0.0,1.0,1.0,1.0,0.0,0.0,1.0,1.0,0.0,0.0,0.0,0.0,0.0,0.0,0.0,1.0,0.0,0.0,0.0,0.0,0.0,0.0,0.0,0.0,0.0,0.0,0.0,0.0,0.0,0.0,0.0,0.0,0.0,0.0,0.0,0.0,0.0,0.0,0.0,0.0,0.0,0.0,0.0,0.0,0.0,0.0,0.0,1.0,0.0,1.0,0.0,0.0,0.0,0.0,0.0,1.0,0.0,0.0,0.0,0.0,0.0,0.0,0.0,0.0,0.0,1.0,1.0,1.0,0.0,1.0,0.0,1.0,0.0,0.0,0.0,0.0,0.0,0.0,0.0,0.0,0.0,0.0,0.0,0.0,0.0,0.0,0.0,0.0,0.0,0.0,1.0,0.0,1.0,0.0,0.0,1.0,0.0,0.0,1.0,0.0,0.0,0.0,0.0,0.0,0.0,0.0,0.0,0.0,0.0,0.0,0.0,0.0,0.0,0.0,0.0,0.0,0.0,0.0,0.0,0.0,0.0,0.0,0.0,0.0,0.0,0.0,1.0,0.0,0.0,0.0,0.0,0.0,1.0,0.0,1.0,0.0,0.0,0.0,0.0,0.0,0.0,0.0,0.0,0.0,0.0,0.0,0.0,0.0,0.0,0.0,0.0,0.0,0.0,0.0,0.0,1.0,0.0,0.0,0.0,0.0,0.0,0.0,0.0,0.0,1.0,0.0,0.0,1.0,0.0,0.0,0.0,0.0,0.0,0.0,0.0,0.0,0.0,0.0,0.0,0.0,0.0,0.0,0.0,1.0,0.0,0.0,0.0,1.0,0.0,0.0,0.0,0.0,0.0,0.0,0.0,0.0,0.0,0.0,0.0,0.0,0.0,1.0,1.0,0.0,0.0,0.0,0.0,1.0,0.0,0.0,0.0,0.0,0.0,0.0,0.0,0.0,0.0,0.0,1.0,0.0,0.0,0.0,0.0,0.0,0.0,0.0,0.0,0.0,0.0,0.0,1.0,0.0,0.0,0.0,0.0,0.0,1.0,0.0,1.0,0.0,0.0,0.0,0.0,0.0,0.0,0.0,0.0,0.0,0.0,0.0,0.0,0.0,0.0,0.0,1.0,0.0,0.0,0.0,0.0,0.0,0.0,0.0,1.0,1.0,0.0,1.0,0.0,0.0,0.0,0.0,0.0,0.0,0.0,0.0,0.0,0.0,0.0,0.0,0.0,0.0,0.0,0.0,0.0,1.0,0.0,0.0,0.0,0.0,1.0,0.0,0.0,0.0,0.0,0.0,0.0,0.0,0.0,1.0,0.0,0.0,0.0,0.0,0.0,0.0,1.0,1.0,0.0,0.0,0.0,0.0,0.0,0.0,0.0,0.0,0.0,1.0,0.0,0.0,0.0,1.0,1.0,0.0,0.0,0.0,0.0,1.0,0.0,0.0,0.0,0.0,0.0,1.0,0.0,1.0,0.0,0.0,1.0,1.0,0.0,0.0,0.0,0.0,0.0,1.0,1.0,0.0,0.0,0.0,0.0,0.0,0.0,1.0,0.0,0.0,0.0,0.0,0.0,0.0,0.0,0.0,0.0,0.0,0.0,0.0,0.0,0.0,0.0,0.0,1.0,0.0,0.0,0.0,0.0,0.0,0.0,0.0,0.0,0.0,0.0,0.0,0.0,0.0,0.0,0.0,0.0,0.0,0.0,0.0,1.0,0.0,0.0,0.0,1.0,0.0,0.0,0.0,1.0,0.0,0.0,0.0,0.0,0.0,1.0,0.0,0.0,0.0,0.0,0.0,0.0,0.0,0.0,0.0,0.0,0.0,0.0,0.0,0.0,1.0,0.0,1.0,0.0,0.0,0.0,0.0,0.0,0.0,0.0,1.0,0.0,0.0,0.0,0.0,0.0,0.0,0.0,1.0,1.0,0.0,0.0,0.0,0.0,0.0,0.0,0.0,1.0,0.0,0.0,0.0,0.0,0.0,0.0,0.0,0.0,1.0,0.0,0.0,0.0,0.0,1.0,0.0,0.0,0.0,0.0,0.0,0.0,0.0,0.0,0.0,0.0,1.0,0.0,0.0,0.0,0.0,0.0,0.0,0.0,0.0,0.0,1.0,0.0,0.0,0.0,0.0,0.0,0.0,0.0,0.0,0.0,0.0,0.0,0.0,1.0,0.0,1.0,0.0,0.0,0.0,0.0,0.0,1.0,0.0,0.0,0.0,0.0,0.0,0.0,0.0,0.0,0.0,0.0,0.0,0.0,0.0,0.0,1.0,0.0,1.0,0.0,0.0,1.0,0.0,1.0,0.0,1.0,0.0,0.0,0.0,0.0,0.0,0.0,0.0,0.0,0.0,0.0,0.0,0.0,1.0,1.0,0.0,0.0,0.0,0.0,1.0,0.0,0.0,1.0,0.0,1.0,0.0,0.0,0.0,1.0,0.0,0.0,0.0,0.0,0.0,0.0,0.0,0.0,0.0,0.0,0.0,1.0,1.0,0.0,0.0,0.0,0.0,0.0,0.0,0.0,0.0,0.0,0.0,0.0,0.0,0.0,0.0,0.0,0.0,0.0,0.0,1.0,0.0,0.0,0.0,0.0,0.0,0.0,0.0,0.0,0.0,0.0,0.0,1.0,0.0,1.0,0.0,0.0,0.0,0.0,0.0,0.0,0.0,0.0,0.0,0.0,0.0,0.0,0.0,1.0,0.0,0.0,0.0,0.0,0.0,0.0,1.0,0.0,0.0,1.0,0.0,0.0,0.0,0.0,1.0,0.0,1.0,0.0,0.0,0.0,0.0,0.0,0.0,1.0,0.0,0.0,0.0,0.0,1.0,0.0,0.0,0.0,0.0,0.0,0.0,0.0,0.0,0.0,0.0,0.0,1.0,0.0,0.0,0.0,0.0,0.0,0.0,0.0,0.0,0.0,0.0,0.0,0.0,1.0,0.0,0.0,0.0,1.0,1.0,0.0,0.0,1.0,0.0,0.0,0.0,0.0,0.0,0.0,0.0,1.0,0.0,0.0,0.0,0.0,0.0,0.0,0.0,0.0,0.0,0.0,0.0,0.0,0.0,1.0,0.0,0.0,0.0,0.0,0.0,0.0,0.0,0.0,0.0,0.0,0.0,0.0,0.0,0.0,0.0,0.0,0.0,0.0,1.0,0.0,0.0,1.0,0.0,0.0,0.0,0.0,1.0,0.0,0.0,0.0,0.0,0.0,0.0,1.0,0.0,0.0,0.0,1.0,1.0,0.0,0.0,0.0,0.0,0.0,0.0,1.0,0.0,0.0,0.0,0.0,0.0,0.0,0.0,0.0,0.0,0.0,0.0,0.0,0.0,0.0,0.0,0.0,0.0,0.0,0.0,0.0,1.0,1.0,0.0,0.0,0.0,0.0,0.0,0.0,1.0,0.0,0.0,0.0,1.0,0.0,0.0,0.0,1.0,0.0,0.0,0.0,0.0,1.0,0.0,0.0,1.0,0.0,1.0,0.0,0.0,0.0,0.0,0.0,0.0,0.0,0.0,0.0,0.0,0.0,0.0,0.0,0.0,0.0,0.0,0.0,0.0,0.0,1.0,0.0,0.0,0.0,0.0,0.0,0.0,0.0,0.0,1.0,0.0,0.0,0.0,0.0,0.0,0.0,1.0,0.0,0.0,0.0,0.0,0.0,0.0,0.0,0.0,0.0,0.0,0.0,0.0,0.0,0.0,0.0,1.0,1.0,0.0,1.0,0.0,0.0,0.0,1.0,1.0,0.0,0.0,0.0,1.0,0.0,0.0,0.0,0.0,0.0,1.0,0.0,0.0,1.0,1.0,0.0,1.0,0.0,0.0,0.0,0.0,0.0,0.0,1.0,0.0,0.0,0.0,0.0,0.0,0.0,0.0,0.0,0.0,0.0,0.0,0.0,0.0,0.0,1.0,0.0,1.0,1.0,0.0,1.0,0.0,1.0,0.0,1.0,0.0,1.0,0.0,0.0,0.0,0.0,0.0,0.0,0.0,0.0,0.0,0.0,0.0,0.0,0.0,1.0,0.0,0.0,0.0,0.0,0.0,0.0,1.0,0.0,0.0,0.0,0.0,0.0,1.0,0.0,1.0,1.0,1.0,0.0,0.0,1.0,0.0,0.0,1.0,0.0,0.0,0.0,0.0,0.0,1.0,1.0,1.0,0.0,1.0,0.0,0.0,0.0,0.0,0.0,0.0,0.0,1.0,0.0,0.0,0.0,0.0,0.0,1.0,0.0,1.0,1.0,0.0,0.0,1.0,0.0,0.0,1.0,0.0,1.0,0.0,1.0,0.0,0.0,1.0,0.0,1.0,0.0,0.0,1.0,0.0,0.0,1.0,0.0,0.0,1.0,0.0,0.0,0.0,0.0,0.0,0.0,0.0,0.0,0.0,0.0,0.0,0.0,0.0,0.0,1.0,0.0,0.0,1.0,1.0,0.0,1.0,1.0,0.0,0.0,0.0,0.0,0.0,0.0,1.0,0.0,0.0,1.0,0.0,0.0,0.0,0.0,0.0,0.0,0.0,0.0,0.0,0.0,0.0,0.0,0.0,0.0,0.0,0.0,0.0,0.0,1.0,0.0,0.0,0.0,1.0,0.0,0.0,0.0,0.0,0.0,1.0,0.0,0.0,1.0,0.0,0.0,1.0,0.0,0.0,0.0,0.0,0.0,0.0,0.0,0.0,0.0,0.0,0.0,0.0,0.0,1.0,0.0,1.0,1.0,0.0,0.0,0.0,0.0,1.0,0.0,0.0,1.0,0.0,0.0,0.0,0.0,1.0,0.0,0.0,0.0,0.0,1.0,0.0,0.0,0.0,0.0,0.0,0.0,0.0,0.0,0.0,0.0,1.0,1.0,1.0,0.0,0.0,0.0,0.0,0.0,1.0,0.0,0.0,0.0,0.0,1.0,1.0,0.0,0.0,0.0,1.0,0.0,1.0,0.0,1.0,0.0,1.0,0.0,0.0,0.0,0.0,0.0,0.0,0.0,0.0,1.0,1.0,0.0,0.0,0.0,1.0,0.0,0.0,0.0,1.0,0.0,0.0,0.0,0.0,0.0,0.0,0.0,0.0,0.0,0.0,1.0,1.0,0.0,0.0,0.0,0.0,0.0,1.0,0.0,1.0,0.0,0.0,0.0,0.0,1.0,1.0,0.0,0.0,0.0,0.0,1.0,1.0,0.0,1.0,0.0,0.0,0.0,0.0,0.0,0.0,0.0,0.0,0.0,0.0,0.0,0.0,0.0,0.0,0.0,0.0,1.0,0.0,0.0,0.0,0.0,0.0,0.0,0.0,0.0,0.0,0.0,0.0,0.0,0.0,0.0,1.0,0.0,0.0,0.0,1.0,0.0,0.0,0.0,0.0,0.0,0.0,0.0,0.0,1.0,0.0,0.0,1.0,0.0,0.0,0.0,0.0,0.0,1.0,0.0,1.0,0.0,0.0,0.0,0.0,0.0,0.0,0.0,0.0,0.0,0.0,0.0,0.0,1.0,0.0,0.0,0.0,0.0,0.0,0.0,0.0,1.0,0.0,0.0,1.0,0.0,0.0,0.0,1.0,0.0,0.0,1.0,0.0,0.0,0.0,0.0,0.0,0.0,0.0,0.0,0.0,0.0,1.0,1.0,0.0,0.0,1.0,0.0,0.0,0.0,1.0,0.0,0.0,0.0,0.0,0.0,0.0,0.0,0.0,0.0,0.0,0.0,0.0,0.0,0.0,0.0,0.0,1.0,1.0,0.0,1.0,0.0,0.0,0.0,0.0,0.0,0.0,0.0,0.0,0.0,1.0,0.0,0.0,0.0,1.0,0.0,0.0,0.0,0.0,0.0,0.0,0.0,0.0,1.0,1.0,0.0,0.0,1.0,0.0,0.0,0.0,0.0,1.0,0.0,1.0,0.0,0.0,0.0,0.0,0.0,0.0,0.0,0.0,0.0,0.0,0.0,0.0,0.0,0.0,0.0,0.0,0.0,0.0,0.0,0.0,0.0,0.0,0.0,0.0,1.0,0.0,0.0,0.0,0.0,1.0,0.0,0.0,0.0,0.0,0.0,0.0,0.0,1.0,0.0,0.0,0.0,0.0,0.0,0.0,0.0,0.0,0.0,0.0,0.0,0.0,0.0,0.0,1.0,0.0,0.0,0.0,0.0,0.0,1.0,0.0,0.0,0.0,0.0,0.0,0.0,0.0,0.0,0.0,0.0,0.0,0.0,0.0,0.0,0.0,0.0,0.0,0.0,1.0,0.0,0.0,1.0,0.0,1.0,0.0,0.0,0.0,0.0,0.0,0.0,0.0,0.0,0.0,0.0,1.0,1.0,0.0,0.0,0.0,0.0,0.0,0.0,0.0,0.0,0.0,0.0,0.0,0.0,0.0,1.0,1.0,0.0,0.0,1.0,0.0,0.0,1.0,0.0,0.0,0.0,0.0,0.0,0.0,1.0,1.0,1.0,0.0,0.0,0.0,0.0,0.0,0.0,0.0,0.0,0.0,0.0,1.0,0.0,0.0,0.0,1.0,0.0,0.0,0.0,0.0,0.0,0.0,0.0,0.0,0.0,0.0,0.0,0.0,0.0,0.0,0.0,1.0,0.0,0.0,0.0,0.0,1.0,0.0,1.0,0.0,0.0,0.0,0.0,0.0,0.0,0.0,0.0,0.0,0.0,0.0,0.0,0.0,0.0,0.0,0.0,0.0,0.0,0.0,0.0,0.0,0.0,0.0,1.0,0.0,1.0,0.0,0.0,1.0,0.0,1.0,0.0,0.0,0.0,0.0,0.0,0.0,0.0,0.0,0.0,0.0,0.0,0.0,0.0,0.0,1.0,0.0,0.0,0.0,0.0,0.0,0.0,0.0,0.0,0.0,0.0,1.0,0.0,1.0,0.0,1.0,1.0,0.0,1.0,0.0,0.0,0.0,0.0,1.0,0.0,0.0,0.0,0.0,0.0,0.0,0.0,1.0,0.0,0.0,0.0,0.0,0.0,0.0,1.0,0.0,1.0,0.0,0.0,1.0,0.0,0.0,1.0,1.0,0.0,0.0,0.0,0.0,0.0,0.0,0.0,0.0,0.0,0.0,1.0,1.0,0.0,1.0,1.0,0.0,0.0,0.0,0.0,0.0,0.0,0.0,1.0,0.0,0.0,0.0,0.0,1.0,0.0,0.0,1.0,0.0,0.0,0.0,1.0,0.0,0.0,0.0,0.0,1.0,0.0,0.0,1.0,1.0,0.0,0.0,0.0,0.0,1.0,0.0,0.0,0.0,0.0,0.0,0.0,1.0,0.0,0.0,0.0,0.0,0.0,0.0,1.0,0.0,1.0,0.0,0.0,0.0,0.0,0.0,0.0,0.0,0.0,0.0,1.0,0.0,0.0,0.0,1.0,0.0,0.0,0.0,1.0,0.0,0.0,0.0,0.0,0.0,0.0,0.0,0.0,0.0,0.0,0.0,0.0,0.0,0.0,0.0,0.0,0.0,0.0,0.0,1.0,0.0,0.0,0.0,0.0,0.0,1.0,0.0,0.0,0.0,0.0,0.0,0.0,0.0,0.0,1.0,1.0,0.0,0.0,0.0,0.0,0.0,1.0,0.0,0.0,0.0,0.0,0.0,0.0,0.0,0.0,0.0,0.0,1.0,1.0,0.0,0.0,0.0,0.0,0.0,0.0,0.0,0.0,0.0,0.0,0.0,0.0,0.0,0.0,0.0,0.0,0.0,0.0,0.0,0.0,0.0,0.0,1.0,0.0,0.0,0.0,0.0,0.0,1.0,0.0,0.0,0.0,0.0,0.0,0.0,1.0,0.0,1.0,0.0,0.0,0.0,0.0,0.0,0.0,0.0,1.0,0.0,1.0,0.0,0.0,1.0,0.0,0.0,1.0,1.0,0.0,0.0,0.0,0.0,0.0,1.0,0.0,0.0,1.0,0.0,0.0,0.0,0.0,0.0,0.0,0.0,1.0,1.0,0.0,0.0,0.0,0.0,0.0,1.0,0.0,0.0,0.0,1.0,0.0,0.0,0.0,0.0,0.0,0.0,0.0,0.0,0.0,0.0,0.0,0.0,1.0,0.0,0.0,0.0,0.0,1.0,0.0,0.0,0.0,1.0,0.0,1.0,0.0,0.0,0.0,0.0,0.0,0.0,0.0,0.0,0.0,0.0,1.0,0.0,0.0,0.0,0.0,0.0,0.0,0.0,0.0,0.0,0.0,1.0,0.0,0.0,0.0,0.0,0.0,0.0,0.0,1.0,0.0,0.0,0.0,0.0,0.0,0.0,0.0,0.0,0.0,0.0,0.0,0.0,0.0,1.0,0.0,0.0,0.0,0.0,1.0,0.0,0.0,0.0,0.0,0.0,0.0,0.0,0.0,0.0,0.0,0.0,1.0,0.0,0.0,0.0,0.0,1.0,0.0,0.0,0.0,1.0,1.0,1.0,0.0,0.0,0.0,0.0,0.0,0.0,0.0,0.0,1.0,0.0,1.0,1.0,0.0,0.0,0.0,0.0,0.0,0.0,0.0,0.0,0.0,0.0,0.0,0.0,0.0,0.0,1.0,0.0,1.0,0.0,0.0,0.0,0.0,0.0,1.0,0.0,1.0,1.0,0.0,0.0,0.0,0.0,1.0,0.0,0.0,0.0,0.0,0.0,0.0,1.0,0.0,0.0,0.0,1.0,1.0,0.0,0.0,0.0,0.0,0.0,0.0,0.0,0.0,0.0,0.0,0.0,0.0,0.0,0.0,0.0,0.0,0.0,1.0,0.0,0.0,0.0,0.0,1.0,0.0,0.0,1.0,0.0,0.0,0.0,0.0,1.0,0.0,0.0,0.0,0.0,0.0,0.0,0.0,0.0,0.0,0.0,0.0,0.0,0.0,0.0,0.0,1.0,0.0,0.0,0.0,0.0,0.0,0.0,1.0,0.0,0.0,0.0,0.0,0.0,0.0,0.0,0.0,0.0,1.0,0.0,0.0,0.0,0.0,1.0,0.0,0.0,0.0,0.0,0.0,0.0,0.0,0.0,1.0,0.0,0.0,0.0,0.0,0.0,0.0,0.0,0.0,1.0,0.0,0.0,1.0,0.0,0.0,1.0,0.0,0.0,0.0,0.0,0.0,1.0,0.0,1.0,0.0,1.0,1.0,0.0,0.0,1.0,0.0,0.0,0.0,0.0,0.0,0.0,0.0,0.0,1.0,0.0,0.0,0.0,0.0,0.0,0.0,0.0,0.0,1.0,0.0,0.0,0.0,0.0,0.0,0.0,0.0,0.0,0.0,0.0,0.0,1.0,0.0,0.0,0.0,0.0,0.0,0.0,0.0,0.0,0.0,0.0,0.0,1.0,0.0,0.0,0.0,0.0,1.0,0.0,0.0,0.0,0.0,0.0,0.0,0.0,0.0,0.0,1.0,0.0,1.0,0.0,0.0,0.0,0.0,0.0,0.0,1.0,1.0,0.0,0.0,0.0,0.0,0.0,0.0,0.0,0.0,0.0,0.0,0.0,0.0,0.0,0.0,0.0,1.0,0.0,0.0,0.0,1.0,0.0,0.0,0.0,0.0,0.0,0.0,0.0,0.0,0.0,0.0,1.0,0.0,0.0,0.0,0.0,1.0,0.0,0.0,0.0,0.0,0.0,0.0,0.0,0.0,0.0,0.0,0.0,0.0,0.0,0.0,0.0,0.0,0.0,1.0,0.0,0.0,0.0,0.0,0.0,0.0,0.0,0.0,0.0,0.0,0.0,1.0,0.0,0.0,0.0,0.0,0.0,0.0,0.0,0.0,0.0,0.0,0.0,1.0,0.0,1.0,0.0,1.0,0.0,0.0,0.0,0.0,0.0,0.0,0.0,0.0,1.0,0.0,0.0,0.0,0.0,0.0,0.0,0.0,0.0,0.0,0.0,1.0,1.0,0.0,0.0,0.0,0.0,0.0,0.0,0.0,0.0,0.0,0.0,0.0,0.0,0.0,0.0,0.0,0.0,0.0,0.0,0.0,0.0,0.0,0.0,0.0,0.0,0.0,0.0,0.0,0.0,0.0,0.0,0.0,0.0,0.0,0.0,0.0,0.0,1.0,0.0,0.0,1.0,0.0,0.0,0.0,0.0,0.0,0.0,0.0,0.0,0.0,1.0,1.0,0.0,0.0,0.0,0.0,0.0,0.0,0.0,0.0,0.0,0.0,0.0,1.0,0.0,0.0,0.0,0.0,1.0,1.0,1.0,0.0,1.0,1.0,0.0,0.0,0.0,1.0,0.0,0.0,0.0,0.0,0.0,0.0,0.0,0.0,0.0,0.0,0.0,1.0,0.0,1.0,0.0,0.0,1.0,0.0,0.0,0.0,0.0,1.0,0.0,0.0,0.0,0.0,0.0,0.0,0.0,0.0,0.0,1.0,1.0,1.0,0.0,0.0,0.0,0.0,0.0,0.0,0.0,0.0,1.0,0.0,0.0,0.0,0.0,0.0,0.0,1.0,0.0,0.0,0.0,0.0,0.0,0.0,0.0,0.0,0.0,1.0,0.0,0.0,0.0,1.0,0.0,0.0,0.0,1.0,0.0,0.0,0.0,0.0,0.0,0.0,0.0,0.0,0.0,0.0,0.0,0.0,1.0,0.0,0.0,1.0,0.0,0.0,0.0,0.0,0.0,1.0,0.0,0.0,1.0,0.0,0.0,0.0,0.0,0.0,0.0,0.0,0.0,0.0,0.0,1.0,1.0,0.0,0.0,0.0,0.0,1.0,0.0,1.0,0.0,0.0,0.0,1.0,0.0,1.0,0.0,0.0,0.0,0.0,0.0,0.0,0.0,0.0,1.0,0.0,0.0,0.0,0.0,0.0,0.0,0.0,0.0,0.0,0.0,0.0,0.0,0.0,0.0,0.0,0.0,0.0,0.0,0.0,0.0,0.0,1.0,0.0,0.0,0.0,0.0,0.0,1.0,0.0,0.0,0.0,0.0,0.0,1.0,0.0,0.0,0.0,0.0,1.0,0.0,0.0,0.0,1.0,0.0,1.0,0.0,0.0,0.0,0.0,0.0,0.0,1.0,0.0,1.0,0.0,0.0,0.0,0.0,0.0,0.0,0.0,0.0,0.0,0.0,0.0,0.0,1.0,0.0,0.0,0.0,0.0,0.0,0.0,0.0,1.0,1.0,1.0,0.0,0.0,1.0,0.0,0.0,0.0,0.0,0.0,0.0,0.0,0.0,0.0,1.0,0.0,0.0,0.0,0.0,0.0,0.0,0.0,0.0,0.0,1.0,1.0,0.0,0.0,0.0,0.0,0.0,0.0,0.0,0.0,0.0,0.0,1.0,0.0,1.0,0.0,1.0,0.0,0.0,0.0,0.0,1.0,0.0,0.0,0.0,0.0,0.0,0.0,0.0,0.0,0.0,0.0,0.0,1.0,1.0,0.0,0.0,0.0,0.0,0.0,0.0,0.0,0.0,0.0,0.0,0.0,0.0,1.0,0.0,0.0,0.0,0.0,1.0,0.0,0.0,0.0,0.0,0.0,0.0,0.0,0.0,0.0,1.0,0.0,0.0,0.0,0.0,1.0,0.0,0.0,0.0,0.0,1.0,0.0,0.0,0.0,0.0,0.0,0.0,0.0,1.0,0.0,0.0,0.0,0.0,0.0,0.0,0.0,1.0,0.0,0.0,0.0,0.0,0.0,1.0,1.0,0.0,0.0,0.0,1.0,0.0,0.0,0.0,0.0,1.0,0.0,0.0,0.0,0.0,0.0,0.0,0.0,0.0,0.0,0.0,0.0,0.0,0.0,0.0,0.0,1.0,0.0,1.0,0.0,0.0,0.0,0.0,0.0,0.0,0.0,1.0,0.0,0.0,0.0,1.0,0.0,0.0,0.0,0.0,0.0,0.0,0.0,0.0,0.0,0.0,0.0,0.0,0.0,0.0,0.0,0.0,0.0,1.0,0.0,0.0,0.0,0.0,0.0,0.0,0.0,0.0,0.0,0.0,0.0,1.0,0.0,0.0,0.0,0.0,0.0,0.0,1.0,0.0,0.0,0.0,0.0,0.0,0.0,0.0,0.0,0.0,0.0,0.0,0.0,1.0,0.0,1.0,1.0,0.0,0.0,0.0,0.0,0.0,0.0,1.0,0.0,1.0,0.0,0.0,0.0,0.0,0.0,0.0,1.0,0.0,0.0,0.0,0.0,0.0,0.0,1.0,0.0,0.0,0.0,1.0,0.0,0.0,0.0,1.0,0.0,0.0,0.0,0.0,0.0,0.0,0.0,0.0,0.0,0.0,0.0,0.0,0.0,1.0,0.0,0.0,1.0,0.0,1.0,0.0,0.0,0.0,1.0,0.0,0.0,0.0,0.0,0.0,0.0,0.0,0.0,0.0,0.0,0.0,0.0,0.0,0.0,0.0,0.0,0.0,0.0,0.0,0.0,0.0,0.0,0.0,0.0,0.0,0.0,0.0,0.0,0.0,0.0,0.0,0.0,1.0,0.0,0.0,0.0,0.0,0.0,1.0,0.0,0.0,0.0,0.0,0.0,0.0,0.0,0.0,0.0,1.0,0.0,1.0,0.0,0.0,1.0,1.0,1.0,0.0,0.0,0.0,0.0,0.0,0.0,0.0,1.0,0.0,0.0,0.0,0.0,0.0,0.0,0.0,0.0,1.0,0.0,0.0,0.0,0.0,1.0,0.0,0.0,1.0,1.0,0.0,0.0,1.0,1.0,1.0,0.0,0.0,1.0,0.0,0.0,0.0,0.0,1.0,0.0,0.0,1.0,0.0,0.0,0.0,1.0,0.0,0.0,1.0,0.0,1.0,1.0,1.0,0.0,1.0,1.0,0.0,0.0,0.0,1.0,1.0,0.0,0.0,0.0,0.0,0.0,0.0,0.0,0.0,0.0,0.0,0.0,0.0,0.0,0.0,0.0,0.0,0.0,1.0,1.0,0.0,0.0,0.0,0.0,0.0,0.0,0.0,0.0,0.0,0.0,0.0,0.0,0.0,0.0,0.0,0.0,0.0,0.0,0.0,0.0,0.0,0.0,0.0,1.0,0.0,1.0,0.0,0.0,1.0,1.0,1.0,0.0,0.0,0.0,0.0,0.0,0.0,0.0,0.0,0.0,1.0,0.0,0.0,0.0,1.0,0.0,0.0,0.0,0.0,0.0,0.0,0.0,0.0,0.0,0.0,1.0,0.0,1.0,0.0,0.0,0.0,0.0,0.0,1.0,1.0,0.0,0.0,1.0,0.0,0.0,0.0,0.0,0.0,0.0,0.0,0.0,0.0,0.0,0.0,1.0,0.0,1.0,0.0,1.0,0.0,0.0,1.0,1.0,0.0,0.0,0.0,0.0,0.0,0.0,1.0,1.0,0.0,0.0,0.0,0.0,0.0,0.0,0.0,0.0,0.0,0.0,0.0,1.0,0.0,0.0,1.0,0.0,1.0,0.0,0.0,0.0,0.0,0.0,0.0,0.0,0.0,1.0,0.0,0.0,0.0,0.0,0.0,0.0,0.0,0.0,1.0,0.0,1.0,0.0,0.0,0.0,0.0,0.0,0.0,0.0,0.0,0.0,1.0,0.0,0.0,0.0,0.0,1.0,0.0,0.0,0.0,0.0,0.0,0.0,0.0,0.0,0.0,1.0,1.0,1.0,0.0,0.0,0.0,0.0,0.0,0.0,0.0,0.0,0.0,0.0,0.0,1.0,1.0,0.0,0.0,0.0,0.0,0.0,0.0,0.0,1.0,0.0,0.0,0.0,0.0,0.0,0.0,0.0,0.0,0.0,0.0,0.0,0.0,0.0,0.0,0.0,0.0,0.0,0.0,1.0,0.0,1.0,0.0,0.0,0.0,0.0,0.0,0.0,0.0,0.0,0.0,0.0,0.0,0.0,0.0,0.0,0.0,0.0,0.0,0.0,0.0,0.0,1.0,0.0,0.0,0.0,0.0,0.0,0.0,0.0,0.0,0.0,0.0,1.0,0.0,0.0,0.0,0.0,0.0,0.0,0.0,0.0,0.0,0.0,0.0,0.0,0.0,0.0,0.0,0.0,0.0,1.0,0.0,0.0,0.0,0.0,0.0,0.0,0.0,0.0,0.0,0.0,0.0,0.0,0.0,0.0,0.0,0.0,0.0,0.0,0.0,0.0,0.0,0.0,0.0,0.0,1.0,0.0,0.0,0.0,1.0,0.0,0.0,0.0,0.0,0.0,1.0,0.0,0.0,0.0,0.0,0.0,1.0,0.0,0.0,0.0,1.0,0.0,0.0,0.0,0.0,0.0,0.0,1.0,0.0,1.0,0.0,0.0,0.0,0.0,0.0,0.0,0.0,0.0,0.0,0.0,0.0,0.0,0.0,1.0,0.0,0.0,0.0,0.0,1.0,0.0,0.0,0.0,0.0,0.0,0.0,0.0,0.0,0.0,0.0,0.0,1.0,0.0,0.0,0.0,0.0,0.0,0.0,1.0,0.0,0.0,0.0,0.0,1.0,1.0,0.0,0.0,0.0,0.0,1.0,0.0,0.0,0.0,0.0,0.0,1.0,1.0,0.0,0.0,0.0,0.0,1.0,0.0,0.0,0.0,0.0,0.0,0.0,0.0,0.0,0.0,0.0,0.0,0.0,0.0,1.0,0.0,0.0,0.0,0.0,0.0,0.0,0.0,0.0,0.0,0.0,0.0,0.0,0.0,0.0,0.0,0.0,0.0,0.0,0.0,0.0,0.0,1.0,0.0,1.0,0.0,0.0,0.0,0.0,0.0,0.0,0.0,0.0,0.0,0.0,1.0,0.0,0.0,0.0,0.0,0.0,0.0,0.0,1.0,0.0,0.0,0.0,0.0,0.0,0.0,0.0,1.0,0.0,0.0,1.0,0.0,0.0,0.0,0.0,0.0,0.0,0.0,1.0,0.0,0.0,1.0,0.0,0.0,1.0,0.0,1.0,0.0,0.0,0.0,0.0,0.0,0.0,0.0,0.0,1.0,1.0,0.0,0.0,1.0,0.0,0.0,0.0,0.0,0.0,0.0,0.0,0.0,0.0,0.0,0.0,0.0,0.0,0.0,0.0,0.0,0.0,1.0,0.0,0.0,0.0,0.0,0.0,0.0,0.0,0.0,1.0,0.0,1.0,1.0,0.0,0.0,0.0,1.0,1.0,0.0,0.0,0.0,1.0,0.0,0.0,0.0,0.0,0.0,0.0,0.0,0.0,0.0,0.0,0.0,0.0,0.0,1.0,0.0,0.0,1.0,0.0,0.0,0.0,0.0,1.0,0.0,0.0,0.0,0.0,0.0,0.0,0.0,0.0,0.0,0.0,0.0,0.0,0.0,0.0,0.0,0.0,0.0,0.0,0.0,0.0,0.0,0.0,1.0,0.0,1.0,0.0,1.0,0.0,0.0,0.0,0.0,0.0,0.0,0.0,1.0,0.0,0.0,0.0,0.0,0.0,0.0,0.0,0.0,0.0,0.0,0.0,1.0,0.0,0.0,0.0,0.0,0.0,1.0,0.0,1.0,0.0,0.0,0.0,0.0,0.0,1.0,0.0,0.0,0.0,0.0,0.0,0.0,0.0,1.0,0.0,0.0,0.0,0.0,0.0,0.0,0.0,1.0,0.0,0.0,0.0,0.0,0.0,0.0,0.0,0.0,0.0,0.0,0.0,0.0,0.0,0.0,0.0,0.0,0.0,1.0,0.0,0.0,1.0,0.0,1.0,0.0,0.0,0.0,0.0,1.0,0.0,0.0,0.0,0.0,0.0,0.0,1.0,0.0,0.0,0.0,1.0,0.0,0.0,0.0,0.0,0.0,1.0,1.0,0.0,0.0,0.0,0.0,0.0,0.0,1.0,0.0,0.0,0.0,0.0,0.0,0.0,1.0,1.0,0.0,0.0,0.0,1.0,0.0,0.0,1.0,0.0,0.0,1.0,0.0,1.0,0.0,0.0,0.0,0.0,0.0,0.0,0.0,0.0,0.0,0.0,0.0,0.0,0.0,0.0,1.0,0.0,1.0,0.0,1.0,0.0,0.0,0.0,0.0,1.0,1.0,0.0,0.0,1.0,0.0,1.0,0.0,0.0,1.0,0.0,0.0,0.0,0.0,0.0,0.0,0.0,0.0,0.0,0.0,1.0,0.0,0.0,0.0,0.0,0.0,0.0,0.0,0.0,0.0,0.0,0.0,0.0,0.0,1.0,0.0,0.0,0.0,0.0,0.0,0.0,0.0,0.0,0.0,0.0,0.0,0.0,0.0,0.0,0.0,0.0,1.0,0.0,0.0,0.0,1.0,0.0,0.0,1.0,0.0,1.0,0.0,1.0,0.0,0.0,0.0,0.0,0.0,0.0,0.0,0.0,0.0,0.0,0.0,0.0,0.0,1.0,0.0,0.0,0.0,0.0,0.0,1.0,0.0,0.0,0.0,0.0,0.0,0.0,0.0,0.0,0.0,0.0,0.0,1.0,0.0,0.0,0.0,0.0,0.0,0.0,1.0,0.0,0.0,0.0,0.0,0.0,0.0,1.0,0.0,0.0,0.0,1.0,0.0,0.0,0.0,0.0,1.0,0.0,0.0,0.0,0.0,0.0,0.0,1.0,0.0,1.0,0.0,1.0,0.0,1.0,0.0,0.0,0.0,0.0,0.0,0.0,1.0,0.0,0.0,0.0,0.0,0.0,0.0,0.0,0.0,0.0,0.0,0.0,0.0,0.0,0.0,0.0,0.0,0.0,1.0,0.0,0.0,0.0,0.0,0.0,0.0,0.0,0.0,0.0,0.0,0.0,0.0,1.0,0.0,0.0,1.0,0.0,0.0,0.0,0.0,0.0,0.0,1.0,0.0,0.0,1.0,0.0,0.0,0.0,1.0,0.0,0.0,0.0,1.0,0.0,0.0,0.0,0.0,0.0,0.0,0.0,0.0,0.0,0.0,0.0,0.0,0.0,0.0,0.0,0.0,0.0,1.0,0.0,0.0,0.0,0.0,0.0,0.0,0.0,0.0,0.0,0.0,0.0,0.0,0.0,0.0,0.0,0.0,0.0,0.0,0.0,0.0,1.0,0.0,0.0,0.0,0.0,0.0,1.0,0.0,0.0,0.0,0.0,0.0,0.0,0.0,0.0,0.0,1.0,0.0,0.0,0.0,1.0,0.0,0.0,0.0,0.0,0.0,0.0,1.0,0.0,0.0,0.0,0.0,0.0,0.0,0.0,0.0,0.0,0.0,0.0,0.0,1.0,0.0,1.0,0.0,0.0,1.0,0.0,0.0,0.0,0.0,0.0,0.0,1.0,0.0,0.0,0.0,0.0,0.0,0.0,1.0,0.0,0.0,0.0,0.0,0.0,1.0,0.0,0.0,0.0,0.0,0.0,0.0,0.0,0.0,0.0,0.0,0.0,0.0,0.0,0.0,0.0,0.0,0.0,0.0,1.0,0.0,1.0,0.0,0.0,0.0,0.0,0.0,1.0,0.0,0.0,0.0,0.0,0.0,0.0,0.0,0.0,0.0,0.0,0.0,0.0,0.0,1.0,0.0,0.0,0.0,0.0,1.0,0.0,1.0,1.0,0.0,0.0,0.0,0.0,0.0,1.0,0.0,0.0,0.0,0.0,1.0,0.0,0.0,0.0,0.0,0.0,1.0,0.0,0.0,0.0,0.0,0.0,0.0,0.0,0.0,0.0,0.0,0.0,1.0,0.0,1.0,0.0,0.0,1.0,0.0,0.0,0.0,0.0,0.0,0.0,0.0,1.0,0.0,0.0,0.0,0.0,0.0,1.0,0.0,0.0,0.0,0.0,0.0,0.0,0.0,0.0,1.0,0.0,0.0,0.0,0.0,0.0,0.0,0.0,0.0,0.0,0.0,0.0,1.0,0.0,1.0,0.0,0.0,1.0,0.0,0.0,0.0,0.0,0.0,0.0,0.0,0.0,1.0,0.0,0.0,0.0,0.0,0.0,0.0,0.0,0.0,1.0,0.0,0.0,0.0,0.0,0.0,0.0,0.0,1.0,0.0,0.0,0.0,0.0,0.0,0.0,0.0,1.0,0.0,0.0,0.0,0.0,0.0,0.0,0.0,1.0,0.0,0.0,0.0,0.0,0.0,0.0,1.0,0.0,0.0,0.0,0.0,0.0,0.0,0.0,1.0,1.0,0.0,0.0,0.0,0.0,0.0,0.0,0.0,0.0,0.0,0.0,0.0,0.0,0.0,0.0,0.0,0.0,0.0,0.0,0.0,0.0,1.0,0.0,0.0,0.0,1.0,0.0,0.0,0.0,0.0,0.0,0.0,0.0,0.0,0.0,0.0,0.0,0.0,0.0,0.0,0.0,0.0,0.0,1.0,0.0,0.0,0.0,1.0,0.0,1.0,0.0,0.0,0.0,0.0,0.0,1.0,0.0,0.0,0.0,0.0,0.0,0.0,0.0,1.0,0.0,0.0,0.0,0.0,0.0,1.0,0.0,1.0,1.0,0.0,0.0,0.0,0.0,0.0,0.0,0.0,0.0,0.0,0.0,0.0,0.0,0.0,0.0,0.0,0.0,0.0,0.0,1.0,1.0,0.0,0.0,0.0,0.0,1.0,0.0,0.0,0.0,0.0,0.0,0.0,1.0,0.0,0.0,0.0,0.0,0.0,0.0,0.0,0.0,0.0,0.0,0.0,0.0,1.0,0.0,1.0,0.0,0.0,0.0,1.0,0.0,0.0,0.0,0.0,0.0,0.0,0.0,1.0,0.0,0.0,0.0,0.0,0.0,1.0,1.0,1.0,1.0,0.0,0.0,1.0,0.0,0.0,0.0,1.0,0.0,1.0,0.0,0.0,0.0,0.0,0.0,0.0,0.0,0.0,0.0,1.0,0.0,0.0,0.0,1.0,0.0,0.0,0.0,0.0,0.0,0.0,0.0,0.0,0.0,0.0,0.0,0.0,0.0,0.0,0.0,0.0,0.0,0.0,0.0,1.0,0.0,0.0,1.0,0.0,0.0,0.0,0.0,0.0,0.0,0.0,0.0,0.0,0.0,0.0,0.0,0.0,0.0,0.0,0.0,1.0,0.0,0.0,0.0,0.0,1.0,0.0,0.0,0.0,0.0,0.0,1.0,0.0,1.0,0.0,0.0,0.0,0.0,0.0,1.0,0.0,0.0,1.0,0.0,1.0,0.0,0.0,0.0,0.0,1.0,0.0,0.0,0.0,0.0,0.0,0.0,0.0,0.0,0.0,0.0,0.0,1.0,0.0,0.0,0.0,0.0,1.0,1.0,0.0,1.0,0.0,0.0,0.0,0.0,1.0,0.0,1.0,0.0,0.0,0.0,1.0,0.0,1.0,0.0,0.0,0.0,0.0,0.0,0.0,0.0,1.0,0.0,1.0,0.0,0.0,0.0,0.0,0.0,0.0,0.0,0.0,0.0,0.0,0.0,0.0,0.0,1.0,0.0,0.0,0.0,0.0,1.0,0.0,0.0,0.0,0.0,0.0,0.0,0.0,0.0,0.0,0.0,0.0,0.0,0.0,0.0,0.0,0.0,0.0,0.0,0.0,0.0,0.0,0.0,0.0,0.0,0.0,0.0,0.0,1.0,1.0,0.0,0.0,0.0,0.0,0.0,0.0,0.0,0.0,0.0,0.0,1.0,0.0,0.0,0.0,1.0,0.0,0.0,0.0,0.0,1.0,0.0,1.0,0.0,0.0,0.0,1.0,0.0,0.0,0.0,0.0,0.0,0.0,0.0,0.0,0.0,0.0,0.0,0.0,1.0,0.0,0.0,0.0,0.0,0.0,0.0,0.0,0.0,0.0,0.0,1.0,0.0,0.0,0.0,0.0,0.0,1.0,0.0,0.0,0.0,0.0,0.0,0.0,0.0,0.0,0.0,0.0,0.0,1.0,1.0,0.0,0.0,0.0,0.0,0.0,1.0,0.0,0.0,0.0,0.0,0.0,0.0,0.0,0.0,0.0,0.0,0.0,0.0,0.0,1.0,0.0,0.0,0.0,1.0,1.0,1.0,0.0,0.0,0.0,1.0,0.0,0.0,0.0,1.0,0.0,0.0,0.0,0.0,0.0,0.0,0.0,0.0,1.0,1.0,0.0,0.0,0.0,0.0,0.0,0.0,0.0,0.0,1.0,0.0,1.0,0.0,0.0,1.0,0.0,0.0,0.0,0.0,0.0,0.0,1.0,0.0,0.0,0.0,0.0,0.0,0.0,0.0,0.0,0.0,0.0,0.0,1.0,0.0,1.0,0.0,0.0,0.0,0.0,0.0,0.0,0.0,0.0,0.0,0.0,0.0,0.0,0.0,0.0,1.0,0.0,1.0,0.0,0.0,0.0,1.0,0.0,1.0,0.0,0.0,0.0,0.0,0.0,0.0,0.0,0.0,0.0,0.0,0.0,0.0,0.0,0.0,0.0,0.0,0.0,0.0,0.0,0.0,0.0,0.0,0.0,0.0,0.0,0.0,0.0,0.0,0.0,0.0,0.0,0.0,1.0,1.0,0.0,0.0,1.0,1.0,1.0,0.0,0.0,0.0,0.0,0.0,1.0,0.0,0.0,0.0,0.0,0.0,0.0,0.0,0.0,0.0,0.0,0.0,0.0,0.0,0.0,0.0,0.0,0.0,0.0,0.0,0.0,0.0,0.0,0.0,1.0,0.0,0.0,0.0,0.0,0.0,0.0,0.0,0.0,0.0,0.0,0.0,0.0,0.0,0.0,0.0,0.0,0.0,0.0,1.0,1.0,0.0,0.0,0.0,0.0,0.0,0.0,1.0,0.0,0.0,0.0,1.0,0.0,1.0,0.0,1.0,0.0,0.0,0.0,0.0,0.0,1.0,0.0,1.0,0.0,0.0,1.0,0.0,0.0,0.0,0.0,0.0,0.0,0.0,1.0,0.0,0.0,0.0,0.0,0.0,0.0,0.0,0.0,0.0,0.0,0.0,0.0,0.0,0.0,0.0,0.0,1.0,0.0,0.0,0.0,0.0,0.0,0.0,1.0,0.0,0.0,0.0,0.0,0.0,0.0,1.0,0.0,0.0,1.0,0.0,0.0,0.0,0.0,0.0,0.0,1.0,1.0,1.0,0.0,0.0,0.0,0.0,0.0,0.0,0.0,1.0,0.0,0.0,0.0,1.0,0.0,0.0,0.0,0.0,0.0,0.0,0.0,0.0,0.0,1.0,0.0,0.0,0.0,0.0,0.0,0.0,0.0,0.0,0.0,0.0,0.0,0.0,0.0,0.0,0.0,0.0,0.0,0.0,0.0,0.0,0.0,1.0,0.0,0.0,0.0,0.0,0.0,0.0,1.0,0.0,0.0,1.0,0.0,0.0,0.0,0.0,1.0,0.0,0.0,0.0,0.0,0.0,0.0,0.0,1.0,0.0,0.0,0.0,0.0,0.0,1.0,0.0,0.0,0.0,0.0,0.0,0.0,0.0,1.0,1.0,0.0,0.0,0.0,0.0,0.0,0.0,1.0,0.0,0.0,0.0,0.0,1.0,0.0,0.0,0.0,0.0,0.0,0.0,0.0,1.0,1.0,0.0,0.0,0.0,0.0,0.0,0.0,0.0,0.0,0.0,0.0,0.0,1.0,0.0,0.0,0.0,0.0,0.0,1.0,0.0,0.0,0.0,0.0,0.0,0.0,0.0,0.0,0.0,1.0,0.0,0.0,0.0,0.0,0.0,0.0,0.0,0.0,0.0,0.0,0.0,0.0,0.0,0.0,1.0,0.0,0.0,0.0,0.0,0.0,0.0,0.0,0.0,0.0,0.0,1.0,0.0,0.0,0.0,0.0,0.0,0.0,0.0,0.0,0.0,0.0,0.0,0.0,0.0,0.0,0.0,0.0,0.0,0.0,0.0,0.0,0.0,0.0,0.0,1.0,0.0,0.0,0.0,0.0,0.0,0.0,0.0,0.0,0.0,1.0,0.0,1.0,0.0,0.0,0.0,0.0,0.0,0.0,0.0,1.0,1.0,0.0,0.0,1.0,0.0,0.0,0.0,0.0,0.0,0.0,0.0,0.0,1.0,0.0,0.0,0.0,0.0,0.0,0.0,0.0,0.0,0.0,1.0,0.0,1.0,0.0,1.0,0.0,0.0,0.0,0.0,0.0,0.0,0.0,0.0,1.0,0.0,0.0,0.0,1.0,0.0,0.0,0.0,0.0,0.0,0.0,0.0,0.0,0.0,0.0,0.0,0.0,0.0,0.0,1.0,1.0,0.0,0.0,0.0,0.0,1.0,0.0,0.0,0.0,0.0,0.0,0.0,1.0,0.0,0.0,0.0,0.0,0.0,0.0,0.0,0.0,0.0,0.0,0.0,0.0,0.0,0.0,0.0,0.0,0.0,0.0,0.0,0.0,1.0,0.0,1.0,0.0,0.0,0.0,0.0,0.0,0.0,0.0,0.0,0.0,0.0,0.0,0.0,0.0,1.0,1.0,0.0,0.0,0.0,0.0,0.0,0.0,0.0,1.0,1.0,0.0,0.0,0.0,0.0,0.0,1.0,0.0,0.0,0.0,0.0,1.0,0.0,1.0,0.0,0.0,0.0,0.0,0.0,1.0,0.0,0.0,1.0,0.0,0.0,0.0,0.0,0.0,0.0,0.0,0.0,0.0,1.0,0.0,1.0,0.0,1.0,0.0,0.0,1.0,1.0,0.0,0.0,0.0,1.0,0.0,0.0,0.0,0.0,0.0,0.0,0.0,0.0,0.0,0.0,0.0,0.0,0.0,0.0,0.0,0.0,0.0,0.0,0.0,0.0,0.0,0.0,0.0,0.0,0.0,0.0,1.0,0.0,0.0,0.0,0.0,0.0,0.0,0.0,0.0,0.0,1.0,1.0,0.0,0.0,0.0,0.0,0.0,0.0,0.0,0.0,0.0,0.0,0.0,0.0,0.0,0.0,0.0,1.0,0.0,0.0,0.0,1.0,0.0,0.0,0.0,0.0,0.0,0.0,0.0,0.0,0.0,0.0,0.0,0.0,0.0,1.0,0.0,0.0,0.0,0.0,0.0,0.0,0.0,0.0,0.0,0.0,0.0,0.0,0.0,0.0,0.0,0.0,0.0,0.0,0.0,0.0,0.0,0.0,0.0,1.0,0.0,0.0,0.0,0.0,1.0,1.0,0.0,0.0,0.0,0.0,0.0,0.0,0.0,0.0,0.0,0.0,0.0,0.0,0.0,1.0,0.0,0.0,0.0,1.0,0.0,0.0,0.0,0.0,0.0,0.0,0.0,0.0,0.0,0.0,0.0,0.0,0.0,0.0,0.0,0.0,0.0,0.0,0.0,0.0,0.0,0.0,0.0,0.0,0.0,0.0,1.0,0.0,0.0,1.0,0.0,0.0,0.0,0.0,1.0,0.0,0.0,0.0,0.0,0.0,0.0,1.0,1.0,0.0,1.0,0.0,0.0,0.0,0.0,0.0,0.0,0.0,0.0,0.0,0.0,0.0,0.0,0.0,1.0,1.0,0.0,0.0,0.0,0.0,0.0,1.0,1.0,1.0,0.0,0.0,0.0,0.0,0.0,0.0,0.0,0.0,0.0,0.0,0.0,0.0,0.0,0.0,0.0,0.0,0.0,1.0,0.0,0.0,0.0,1.0,0.0,1.0,0.0,0.0,0.0,0.0,0.0,0.0,0.0,0.0,0.0,0.0,0.0,0.0,1.0,0.0,0.0,1.0,0.0,0.0,0.0,0.0,0.0,0.0,1.0,0.0,0.0,0.0,0.0,0.0,0.0,1.0,0.0,0.0,0.0,0.0,0.0,0.0,0.0,0.0,1.0,0.0,0.0,0.0,0.0,0.0,0.0,0.0,0.0,1.0,0.0,1.0,0.0,0.0,0.0,0.0,0.0,0.0,0.0,1.0,0.0,0.0,0.0,0.0,0.0,0.0,0.0,0.0,0.0,0.0,0.0,0.0,1.0,0.0,1.0,0.0,0.0,0.0,0.0,0.0,0.0,0.0,0.0,0.0,0.0,1.0,0.0,0.0,0.0,0.0,0.0,1.0,0.0,0.0,0.0,0.0,0.0,0.0,0.0,0.0,0.0,0.0,1.0,0.0,0.0,0.0,0.0,0.0,0.0,0.0,0.0,0.0,0.0,0.0,0.0,0.0,0.0,0.0,0.0,0.0,0.0,0.0,0.0,0.0,0.0,0.0,0.0,0.0,1.0,0.0,1.0,0.0,0.0,0.0,0.0,0.0,1.0,1.0,0.0,0.0,1.0,0.0,1.0,0.0,0.0,0.0,0.0,0.0,0.0,0.0,1.0,0.0,0.0,1.0,1.0,0.0,0.0,1.0,1.0,0.0,0.0,0.0,0.0,0.0,0.0,0.0,0.0,0.0,0.0,0.0,0.0,0.0,0.0,0.0,0.0,0.0,0.0,0.0,0.0,0.0,0.0,0.0,0.0,0.0,0.0,0.0,0.0,0.0,1.0,1.0,1.0,0.0,0.0,0.0,1.0,0.0,0.0,0.0,0.0,0.0,0.0,0.0,0.0,0.0,1.0,0.0,1.0,0.0,0.0,0.0,1.0,0.0,0.0,0.0,0.0,0.0,0.0,0.0,0.0,0.0,0.0,0.0,0.0,0.0,0.0,0.0,1.0,0.0,0.0,1.0,0.0,0.0,0.0,0.0,0.0,0.0,0.0,0.0,0.0,0.0,0.0,0.0,1.0,1.0,0.0,1.0,0.0,1.0,0.0,0.0,0.0,0.0,0.0,0.0,0.0,0.0,0.0,0.0,0.0,0.0,0.0,0.0,0.0,0.0,0.0,0.0,0.0,0.0,0.0,0.0,0.0,0.0,0.0,0.0,1.0,0.0,0.0,0.0,0.0,0.0,0.0,0.0,0.0,0.0,0.0,1.0,0.0,0.0,0.0,0.0,0.0,0.0,0.0,1.0,0.0,0.0,1.0,0.0,0.0,0.0,0.0,0.0,0.0,0.0,0.0,1.0,1.0,0.0,0.0,0.0,0.0,0.0,0.0,0.0,0.0,0.0,0.0,0.0,0.0,0.0,0.0,0.0,0.0,0.0,0.0,0.0,1.0,1.0,1.0,0.0,0.0,0.0,0.0,0.0,0.0,0.0,0.0,0.0,0.0,0.0,0.0,0.0,0.0,0.0,0.0,0.0,0.0,1.0,0.0,0.0,0.0,0.0,0.0,1.0,0.0,0.0,1.0,1.0,0.0,0.0,0.0,0.0,0.0,0.0,1.0,1.0,1.0,0.0,0.0,0.0,0.0,0.0,0.0,0.0,0.0,0.0,0.0,0.0,0.0,0.0,0.0,0.0,0.0,0.0,0.0,0.0,0.0,0.0,0.0,0.0,0.0,0.0,0.0,0.0,0.0,0.0,0.0,0.0,1.0,0.0,1.0,0.0,1.0,0.0,0.0,0.0,0.0,0.0,0.0,0.0,0.0,0.0,0.0,0.0,0.0,0.0,0.0,0.0,0.0,1.0,0.0,0.0,0.0,0.0,0.0,0.0,0.0,0.0,1.0,1.0,0.0,0.0,0.0,1.0,0.0,0.0,0.0,0.0,1.0,0.0,0.0,0.0,0.0,1.0,0.0,0.0,0.0,0.0,1.0,0.0,0.0,0.0,0.0,0.0,0.0,0.0,0.0,0.0,1.0,0.0,0.0,0.0,0.0,0.0,0.0,0.0,1.0,0.0,0.0,0.0,0.0,0.0,0.0,0.0,0.0,0.0,0.0,0.0,0.0,0.0,0.0,0.0,0.0,0.0,0.0,0.0,0.0,0.0,0.0,0.0,0.0,0.0,0.0,0.0,0.0,0.0,0.0,0.0,0.0,0.0,0.0,0.0,0.0,0.0,0.0,0.0,0.0,0.0,0.0,1.0,0.0,1.0,0.0,0.0,0.0,1.0,0.0,0.0,0.0,0.0,0.0,0.0,0.0,1.0,0.0,0.0,0.0,0.0,0.0,0.0,0.0,0.0,0.0,0.0,0.0,0.0,0.0,0.0,0.0,1.0,0.0,1.0,0.0,0.0,0.0,0.0,0.0,1.0,0.0,0.0,0.0,0.0,0.0,0.0,0.0,0.0,0.0,0.0,0.0,0.0,0.0,0.0,0.0,0.0,0.0,1.0,0.0,1.0,0.0,0.0,0.0,0.0,1.0,0.0,0.0,0.0,0.0,1.0,1.0,0.0,0.0,1.0,0.0,0.0,0.0,0.0,1.0,0.0,0.0,0.0,0.0,0.0,0.0,0.0,0.0,0.0,0.0,0.0,0.0,0.0,0.0,0.0,0.0,1.0,0.0,0.0,0.0,0.0,0.0,0.0,0.0,0.0,0.0,0.0,0.0,0.0,0.0,0.0,0.0,1.0,1.0,0.0,0.0,0.0,0.0,0.0,0.0,1.0,0.0,1.0,0.0,0.0,0.0,0.0,0.0,0.0,0.0,0.0,0.0,1.0,1.0,0.0,0.0,0.0,0.0,0.0,0.0,0.0,1.0,0.0,0.0,0.0,0.0,0.0,0.0,1.0,0.0,0.0,0.0,0.0,1.0,0.0,0.0,0.0,0.0,0.0,1.0,0.0,0.0,0.0,0.0,1.0,0.0,0.0,1.0,0.0,0.0,0.0,0.0,0.0,1.0,0.0,0.0,0.0,0.0,0.0,0.0,0.0,0.0,0.0,0.0,0.0,0.0,0.0,0.0,1.0,0.0,0.0,0.0,0.0,0.0,1.0,0.0,0.0,0.0,0.0,1.0,0.0,0.0,0.0,0.0,1.0,0.0,0.0,0.0,0.0,0.0,0.0,0.0,0.0,0.0,1.0,0.0,0.0,0.0,0.0,0.0,1.0,0.0,0.0,1.0,0.0,0.0,0.0,0.0,0.0,0.0,0.0,0.0,1.0,0.0,0.0,0.0,0.0,0.0,0.0,0.0,0.0,0.0,0.0,0.0,0.0,0.0,0.0,0.0,0.0,0.0,0.0,0.0,0.0,1.0,0.0,0.0,0.0,0.0,0.0,0.0,0.0,0.0,0.0,0.0,1.0,0.0,0.0,0.0,0.0,0.0,0.0,0.0,0.0,0.0,1.0,0.0,0.0,0.0,0.0,1.0,0.0,1.0,0.0,0.0,0.0,1.0,0.0,0.0,0.0,0.0,0.0,0.0,1.0,0.0,0.0,0.0,0.0,0.0,0.0,0.0,0.0,0.0,0.0,1.0,0.0,0.0,1.0,0.0,0.0,0.0,0.0,0.0,0.0,0.0,0.0,1.0,0.0,0.0,0.0,0.0,0.0,0.0,0.0,1.0,0.0,0.0,0.0,0.0,0.0,0.0,0.0,0.0,0.0,0.0,0.0,0.0,0.0,1.0,0.0,0.0,1.0,0.0,0.0,0.0,0.0,0.0,1.0,0.0,1.0,0.0,1.0,0.0,0.0,0.0,0.0,0.0,0.0,0.0,0.0,0.0,0.0,0.0,1.0,1.0,0.0,0.0,0.0,0.0,0.0,0.0,1.0,0.0,0.0,0.0,1.0,0.0,0.0,1.0,0.0,0.0,0.0,0.0,1.0,0.0,0.0,0.0,0.0,0.0,0.0,0.0,1.0,1.0,0.0,0.0,0.0,0.0,0.0,0.0,0.0,1.0,0.0,0.0,1.0,0.0,0.0,0.0,0.0,0.0,0.0,0.0,0.0,0.0,0.0,1.0,0.0,0.0,0.0,0.0,0.0,0.0,0.0,0.0,0.0,1.0,0.0,0.0,0.0,0.0,1.0,0.0,0.0,1.0,0.0,0.0,0.0,0.0,1.0,0.0,0.0,0.0,0.0,0.0,0.0,0.0,0.0,1.0,0.0,0.0,1.0,1.0,1.0,0.0,0.0,1.0,0.0,0.0,0.0,0.0,0.0,0.0,0.0,1.0,0.0,0.0,0.0,0.0,0.0,1.0,0.0,0.0,1.0,0.0,1.0,0.0,0.0,0.0,0.0,0.0,0.0,0.0,0.0,0.0,0.0,0.0,0.0,0.0,1.0,0.0,0.0,0.0,1.0,0.0,0.0,0.0,0.0,1.0,0.0,0.0,0.0,0.0,0.0,0.0,0.0,0.0,0.0,0.0,0.0,0.0,0.0,0.0,0.0,0.0,0.0,0.0,0.0,1.0,0.0,0.0,0.0,0.0,0.0,0.0,0.0,0.0,1.0,0.0,1.0,0.0,0.0,0.0,0.0,0.0,0.0,0.0,1.0,0.0,0.0,0.0,0.0,0.0,0.0,0.0,0.0,0.0,0.0,0.0,1.0,0.0,0.0,0.0,0.0,0.0,0.0,0.0,0.0,1.0,0.0,0.0,0.0,0.0,0.0,0.0,0.0,0.0,1.0,0.0,1.0,1.0,0.0,0.0,1.0,0.0,0.0,0.0,0.0,0.0,0.0,0.0,0.0,0.0,0.0,1.0,0.0,0.0,1.0,0.0,1.0,0.0,0.0,0.0,0.0,1.0,0.0,0.0,0.0,0.0,0.0,0.0,1.0,0.0,0.0,0.0,0.0,0.0,1.0,0.0,0.0,1.0,0.0,0.0,0.0,0.0,0.0,0.0,0.0,1.0,0.0,0.0,0.0,0.0,0.0,0.0,0.0,0.0,0.0,0.0,0.0,1.0,0.0,0.0,1.0,0.0,1.0,1.0,0.0,0.0,1.0,0.0,0.0,0.0,0.0,0.0,0.0,0.0,1.0,0.0,0.0,0.0,0.0,0.0,0.0,0.0,1.0,0.0,0.0,0.0,0.0,0.0,1.0,0.0,0.0,1.0,1.0,0.0,0.0,0.0,0.0,1.0,0.0,0.0,0.0,0.0,0.0,0.0,0.0,1.0,0.0,0.0,0.0,0.0,0.0,1.0,0.0,0.0,1.0,0.0,0.0,0.0,0.0,0.0,0.0,0.0,0.0,0.0,0.0,0.0,0.0,0.0,0.0,0.0,0.0,0.0,0.0,0.0,0.0,0.0,0.0,0.0,1.0,0.0,0.0,0.0,0.0,0.0,1.0,0.0,0.0,0.0,0.0,0.0,0.0,0.0,0.0,0.0,0.0,1.0,1.0,0.0,0.0,1.0,0.0,0.0,0.0,0.0,1.0,0.0,0.0,0.0,1.0,0.0,0.0,0.0,0.0,1.0,0.0,0.0,0.0,0.0,0.0,0.0,0.0,0.0,0.0,0.0,0.0,0.0,0.0,0.0,0.0,0.0,0.0,0.0,0.0,0.0,0.0,0.0,0.0,0.0,0.0,1.0,0.0,0.0,0.0,1.0,0.0,0.0,0.0,0.0,0.0,0.0,0.0,0.0,0.0,0.0,0.0,0.0,0.0,0.0,0.0,0.0,0.0,0.0,0.0,0.0,1.0,0.0,0.0,0.0,0.0,1.0,0.0,1.0,1.0,0.0,0.0,0.0,0.0,0.0,0.0,1.0,0.0,0.0,0.0,0.0,1.0,0.0,0.0,0.0,0.0,1.0,0.0,0.0,0.0,0.0,0.0,0.0,0.0,0.0,0.0,0.0,0.0,0.0,1.0,1.0,0.0,0.0,0.0,0.0,0.0,0.0,0.0,0.0,0.0,0.0,0.0,0.0,0.0,0.0,0.0,0.0,0.0,0.0,0.0,0.0,0.0,0.0,0.0,1.0,1.0,1.0,1.0,0.0,1.0,1.0,0.0,0.0,0.0,0.0,0.0,0.0,0.0,0.0,0.0,0.0,1.0,1.0,1.0,1.0,0.0,0.0,0.0,0.0,0.0,0.0,0.0,0.0,0.0,0.0,1.0,0.0,0.0,0.0,0.0,0.0,0.0,0.0,1.0,1.0,0.0,0.0,1.0,0.0,1.0,0.0,1.0,0.0,0.0,1.0,0.0,0.0,0.0,0.0,0.0,0.0,0.0,0.0,1.0,0.0,0.0,0.0,0.0,0.0,0.0,1.0,1.0,0.0,0.0,0.0,0.0,0.0,0.0,0.0,0.0,0.0,0.0,0.0,0.0,0.0,0.0,0.0,0.0,0.0,0.0,0.0,0.0,1.0,0.0,0.0,0.0,0.0,0.0,0.0,0.0,0.0,0.0,0.0,0.0,0.0,0.0,1.0,0.0,0.0,0.0,0.0,0.0,0.0,0.0,0.0,1.0,0.0,0.0,0.0,0.0,0.0,0.0,0.0,0.0,0.0,1.0,0.0,0.0,0.0,0.0,0.0,0.0,0.0,0.0,0.0,0.0,0.0,0.0,0.0,0.0,0.0,0.0,0.0,0.0,0.0,0.0,0.0,0.0,0.0,0.0,0.0,0.0,0.0,1.0,0.0,1.0,0.0,0.0,1.0,1.0,0.0,0.0,0.0,0.0,0.0,0.0,0.0,0.0,1.0,0.0,0.0,0.0,0.0,0.0,0.0,0.0,1.0,0.0,1.0,0.0,0.0,0.0,0.0,0.0,0.0,1.0,0.0,0.0,0.0,0.0,1.0,0.0,0.0,0.0,1.0,0.0,0.0,1.0,0.0,0.0,1.0,0.0,0.0,0.0,0.0,0.0,0.0,0.0,0.0,0.0,0.0,1.0,0.0,0.0,0.0,0.0,0.0,0.0,0.0,0.0,0.0,0.0,1.0,0.0,0.0,0.0,0.0,0.0,0.0,0.0,0.0,1.0,1.0,0.0,0.0,0.0,1.0,0.0,0.0,0.0,0.0,0.0,0.0,0.0,0.0,1.0,0.0,0.0,0.0,0.0,0.0,0.0,1.0,0.0,0.0,0.0,1.0,0.0,0.0,0.0,1.0,0.0,0.0,0.0,0.0,1.0,0.0,0.0,0.0,0.0,0.0,1.0,0.0,0.0,0.0,1.0,0.0,0.0,0.0,0.0,0.0,0.0,0.0,1.0,0.0,0.0,0.0,0.0,0.0,1.0,0.0,0.0,0.0,0.0,0.0,0.0,0.0,0.0,0.0,0.0,0.0,0.0,0.0,1.0,0.0,0.0,0.0,0.0,1.0,0.0,0.0,0.0,0.0,0.0,0.0,0.0,0.0,0.0,0.0,0.0,0.0,0.0,0.0,1.0,1.0,0.0,0.0,0.0,0.0,1.0,0.0,0.0,1.0,0.0,1.0,0.0,0.0,1.0,0.0,1.0,0.0,1.0,0.0,0.0,0.0,0.0,1.0,0.0,0.0,0.0,0.0,0.0,0.0,0.0,0.0,0.0,0.0,0.0,0.0,0.0,0.0,0.0,0.0,1.0,0.0,0.0,0.0,0.0,1.0,0.0,0.0,0.0,0.0,0.0,0.0,0.0,0.0,0.0,0.0,0.0,0.0,0.0,0.0,0.0,0.0,0.0,0.0,0.0,0.0,0.0,0.0,1.0,0.0,0.0,0.0,0.0,0.0,0.0,0.0,0.0,0.0,0.0,0.0,0.0,0.0,0.0,0.0,0.0,0.0,1.0,0.0,1.0,0.0,0.0,0.0,0.0,0.0,0.0,0.0,0.0,0.0,0.0,0.0,0.0,0.0,0.0,1.0,0.0,0.0,0.0,0.0,0.0,0.0,1.0,0.0,1.0,0.0,0.0,0.0,1.0,0.0,1.0,0.0,0.0,0.0,0.0,0.0,0.0,1.0,0.0,0.0,1.0,0.0,0.0,0.0,1.0,0.0,0.0,0.0,0.0,1.0,0.0,0.0,1.0,0.0,0.0,1.0,0.0,0.0,0.0,0.0,0.0,0.0,0.0,0.0,0.0,1.0,0.0,0.0,0.0,0.0,1.0,1.0,0.0,0.0,0.0,0.0,0.0,0.0,0.0,0.0,0.0,1.0,0.0,0.0,0.0,1.0,1.0,0.0,0.0,0.0,0.0,0.0,0.0,0.0,0.0,0.0,1.0,0.0,0.0,0.0,0.0,0.0,0.0,0.0,0.0,0.0,0.0,0.0,0.0,0.0,0.0,1.0,0.0,1.0,0.0,0.0,0.0,0.0,0.0,0.0,0.0,1.0,0.0,0.0,0.0,0.0,0.0,0.0,0.0,0.0,0.0,0.0,0.0,0.0,1.0,0.0,0.0,0.0,0.0,1.0,0.0,0.0,0.0,0.0,1.0,0.0,0.0,0.0,0.0,0.0,0.0,1.0,0.0,1.0,0.0,1.0,0.0,0.0,0.0,0.0,0.0,1.0,0.0,0.0,1.0,0.0,0.0,0.0,0.0,0.0,0.0,1.0,0.0,0.0,0.0,0.0,0.0,0.0,0.0,1.0,0.0,0.0,0.0,0.0,0.0,1.0,0.0,0.0,0.0,1.0,0.0,0.0,0.0,1.0,0.0,1.0,0.0,0.0,0.0,0.0,0.0,1.0,0.0,1.0,0.0,0.0,0.0,0.0,0.0,0.0,1.0,1.0,0.0,0.0,0.0,0.0,0.0,0.0,1.0,0.0,1.0,0.0,0.0,0.0,0.0,0.0,0.0,1.0,0.0,1.0,0.0,0.0,0.0,0.0,0.0,0.0,0.0,0.0,0.0,1.0,1.0,0.0,1.0,0.0,0.0,0.0,0.0,0.0,0.0,0.0,0.0,0.0,0.0,0.0,1.0,0.0,1.0,0.0,0.0,0.0,0.0,0.0,0.0,0.0,0.0,1.0,0.0,1.0,0.0,0.0,0.0,0.0,0.0,0.0,0.0,0.0,0.0,0.0,0.0,0.0,0.0,0.0,0.0,0.0,1.0,1.0,0.0,1.0,0.0,0.0,0.0,0.0,0.0,0.0,0.0,0.0,0.0,0.0,0.0,0.0,1.0,0.0,0.0,0.0,0.0,0.0,0.0,0.0,0.0,0.0,0.0,0.0,1.0,0.0,0.0,0.0,0.0,0.0,0.0,0.0,0.0,0.0,0.0,0.0,0.0,0.0,0.0,0.0,0.0,0.0,1.0,1.0,0.0,0.0,0.0,0.0,0.0,0.0,1.0,0.0,0.0,0.0,0.0,0.0,0.0,0.0,0.0,0.0,0.0,0.0,0.0,0.0,0.0,0.0,0.0,0.0,0.0,0.0,1.0,0.0,0.0,0.0,0.0,0.0,0.0,0.0,0.0,0.0,0.0,1.0,0.0,0.0,0.0,1.0,0.0,0.0,0.0,1.0,0.0,0.0,0.0,0.0,0.0,0.0,0.0,0.0,0.0,0.0,0.0,0.0,0.0,0.0,0.0,0.0,1.0,0.0,0.0,0.0,0.0,0.0,0.0,0.0,0.0,0.0,1.0,0.0,0.0,0.0,0.0,1.0,0.0,0.0,0.0,0.0,0.0,0.0,0.0,0.0,1.0,0.0,1.0,0.0,1.0,0.0,0.0,0.0,0.0,1.0,0.0,0.0,1.0,0.0,0.0,1.0,0.0,0.0,0.0,0.0,0.0,0.0,0.0,0.0,0.0,0.0,0.0,0.0,1.0,0.0,0.0,0.0,0.0,0.0,0.0,0.0,0.0,0.0,0.0,0.0,0.0,0.0,0.0,1.0,1.0,0.0,0.0,0.0,0.0,0.0,1.0,1.0,0.0,0.0,0.0,0.0,0.0,0.0,0.0,0.0,0.0,0.0,0.0,0.0,0.0,0.0,0.0,0.0,1.0,0.0,0.0,0.0,0.0,0.0,0.0,0.0,1.0,0.0,0.0,1.0,0.0,0.0,0.0,0.0,0.0,1.0,0.0,0.0,0.0,0.0,1.0,0.0,0.0,0.0,0.0,0.0,0.0,0.0,0.0,0.0,0.0,0.0,0.0,0.0,0.0,0.0,1.0,0.0,0.0,0.0,0.0,0.0,0.0,0.0,0.0,0.0,0.0,0.0,0.0,0.0,0.0,0.0,0.0,1.0,0.0,0.0,0.0,0.0,0.0,0.0,0.0,0.0,0.0,0.0,0.0,1.0,0.0,1.0,0.0,1.0,0.0,0.0,0.0,0.0,0.0,1.0,1.0,1.0,0.0,0.0,1.0,0.0,0.0,0.0,0.0,0.0,0.0,0.0,0.0,0.0,0.0,0.0,0.0,0.0,0.0,0.0,0.0,1.0,0.0,0.0,0.0,0.0,1.0,0.0,0.0,0.0,0.0,0.0,0.0,0.0,0.0,0.0,1.0,0.0,0.0,0.0,0.0,0.0,0.0,0.0,0.0,0.0,0.0,0.0,1.0,0.0,0.0,0.0,0.0,0.0,0.0,0.0,1.0,0.0,0.0,1.0,0.0,0.0,0.0,0.0,0.0,0.0,0.0,1.0,0.0,0.0,0.0,0.0,1.0,0.0,0.0,0.0,0.0,0.0,0.0,0.0,1.0,0.0,1.0,0.0,0.0,0.0,0.0,1.0,1.0,0.0,0.0,0.0,0.0,0.0,1.0,0.0,0.0,0.0,0.0,0.0,0.0,1.0,0.0,0.0,0.0,0.0,0.0,1.0,0.0,0.0,0.0,1.0,0.0,0.0,0.0,0.0,0.0,1.0,0.0,0.0,0.0,0.0,0.0,0.0,0.0,0.0,0.0,0.0,0.0,0.0,0.0,0.0,0.0,0.0,0.0,0.0,0.0,1.0,0.0,0.0,1.0,0.0,0.0,1.0,0.0,0.0,0.0,0.0,0.0,0.0,0.0,1.0,0.0,0.0,0.0,0.0,1.0,0.0,0.0,0.0,1.0,0.0,0.0,0.0,0.0,0.0,0.0,0.0,0.0,0.0,1.0,0.0,0.0,0.0,0.0,0.0,0.0,0.0,0.0,0.0,0.0,0.0,1.0,1.0,0.0,0.0,0.0,0.0,0.0,0.0,0.0,0.0,1.0,0.0,1.0,0.0,1.0,0.0,0.0,1.0,0.0,0.0,0.0,0.0,1.0,0.0,1.0,0.0,0.0,0.0,0.0,0.0,0.0,0.0,1.0,0.0,0.0,0.0,0.0,0.0,0.0,0.0,0.0,0.0,1.0,0.0,0.0,0.0,0.0,0.0,0.0,0.0,0.0,0.0,0.0,0.0,0.0,0.0,0.0,0.0,0.0,1.0,1.0,0.0,0.0,0.0,0.0,0.0,0.0,0.0,0.0,0.0,0.0,0.0,0.0,1.0,0.0,0.0,1.0,0.0,0.0,0.0,0.0,0.0,0.0,0.0,0.0,0.0,0.0,0.0,0.0,0.0,0.0,0.0,1.0,0.0,1.0,0.0,1.0,0.0,0.0,0.0,0.0,0.0,0.0,0.0,0.0,1.0,0.0,0.0,0.0,1.0,0.0,0.0,0.0,0.0,0.0,0.0,1.0,1.0,1.0,0.0,0.0,0.0,0.0,0.0,0.0,0.0,0.0,0.0,1.0,0.0,1.0,0.0,0.0,0.0,0.0,0.0,1.0,1.0,0.0,0.0,0.0,0.0,1.0,1.0,0.0,0.0,0.0,0.0,0.0,0.0,0.0,0.0,0.0,1.0,1.0,0.0,0.0,1.0,0.0,0.0,0.0,1.0,1.0,0.0,0.0,0.0,0.0,0.0,0.0,0.0,0.0,0.0,0.0,0.0,0.0,0.0,0.0,1.0,0.0,0.0,0.0,0.0,0.0,0.0,0.0,0.0,1.0,0.0,1.0,0.0,1.0,1.0,1.0,0.0,0.0,0.0,0.0,0.0,0.0,0.0,0.0,0.0,0.0,1.0,0.0,1.0,0.0,1.0,0.0,0.0,0.0,0.0,0.0,1.0,0.0,0.0,0.0,0.0,0.0,0.0,0.0,0.0,0.0,0.0,0.0,0.0,0.0,0.0,0.0,0.0,0.0,0.0,1.0,1.0,0.0,0.0,0.0,0.0,0.0,1.0,0.0,0.0,0.0,0.0,0.0,0.0,0.0,1.0,0.0,0.0,0.0,0.0,0.0,1.0,0.0,0.0,0.0,1.0,1.0,0.0,0.0,0.0,0.0,0.0,0.0,0.0,0.0,0.0,0.0,0.0,0.0,0.0,0.0,0.0,0.0,0.0,0.0,0.0,0.0,0.0,0.0,0.0,0.0,0.0,0.0,0.0,1.0,0.0,0.0,0.0,0.0,0.0,0.0,0.0,0.0,0.0,0.0,1.0,0.0,0.0,0.0,0.0,0.0,0.0,0.0,0.0,0.0,0.0,0.0,1.0,0.0,0.0,0.0,0.0,0.0,0.0,1.0,1.0,0.0,0.0,0.0,0.0,0.0,0.0,0.0,0.0,0.0,0.0,0.0,0.0,0.0,1.0,0.0,0.0,0.0,0.0,0.0,0.0,0.0,0.0,0.0,0.0,1.0,0.0,0.0,0.0,0.0,1.0,0.0,0.0,1.0,0.0,0.0,0.0,0.0,1.0,1.0,0.0,0.0,0.0,0.0,0.0,1.0,0.0,1.0,0.0,0.0,0.0,0.0,0.0,1.0,1.0,1.0,1.0,1.0,1.0,0.0,0.0,0.0,0.0,1.0,0.0,1.0,0.0,0.0,0.0,0.0,0.0,0.0,1.0,1.0,0.0,1.0,0.0,0.0,0.0,1.0,0.0,0.0,0.0,0.0,0.0,1.0,0.0,0.0,0.0,0.0,0.0,0.0,0.0,0.0,0.0,0.0,0.0,0.0,0.0,0.0,1.0,0.0,0.0,0.0,0.0,1.0,0.0,0.0,0.0,0.0,0.0,0.0,0.0,0.0,0.0,0.0,0.0,0.0,0.0,0.0,0.0,1.0,0.0,0.0,0.0,0.0,0.0,0.0,0.0,0.0,0.0,0.0,1.0,0.0,0.0,1.0,0.0,0.0,0.0,0.0,0.0,1.0,0.0,0.0,0.0,0.0,0.0,1.0,0.0,0.0,0.0,0.0,1.0,0.0,0.0,0.0,0.0,0.0,0.0,0.0,0.0,0.0,0.0,0.0,1.0,0.0,1.0,0.0,0.0,0.0,0.0,0.0,0.0,0.0,0.0,0.0,0.0,0.0,0.0,0.0,0.0,1.0,0.0,0.0,0.0,0.0,0.0,0.0,0.0,1.0,1.0,0.0,0.0,1.0,1.0,0.0,0.0,0.0,0.0,0.0,1.0,0.0,0.0,0.0,0.0,0.0,0.0,1.0,0.0,0.0,0.0,0.0,1.0,0.0,0.0,0.0,0.0,0.0,0.0,1.0,0.0,0.0,0.0,0.0,1.0,0.0,0.0,1.0,1.0,0.0,0.0,0.0,0.0,0.0,0.0,0.0,0.0,0.0,0.0,0.0,0.0,0.0,0.0,0.0,0.0,1.0,0.0,0.0,0.0,0.0,1.0,0.0,0.0,1.0,1.0,1.0,0.0,0.0,1.0,0.0,0.0,0.0,0.0,0.0,0.0,0.0,1.0,0.0,1.0,1.0,0.0,0.0,0.0,1.0,0.0,0.0,0.0,0.0,0.0,0.0,0.0,0.0,0.0,0.0,0.0,1.0,0.0,0.0,0.0,0.0,0.0,1.0,0.0,0.0,0.0,0.0,0.0,0.0,0.0,0.0,0.0,0.0,0.0,0.0,0.0,1.0,0.0,0.0,0.0,0.0,1.0,0.0,0.0,0.0,1.0,0.0,0.0,0.0,0.0,0.0,0.0,0.0,0.0,0.0,0.0,0.0,0.0,0.0,0.0,0.0,0.0,0.0,0.0,0.0,0.0,1.0,0.0,0.0,0.0,0.0,0.0,0.0,0.0,1.0,0.0,0.0,0.0,0.0,1.0,0.0,0.0,1.0,1.0,0.0,0.0,0.0,0.0,1.0,1.0,0.0,0.0,0.0,1.0,0.0,0.0,0.0,0.0,0.0,1.0,0.0,0.0,0.0,0.0,0.0,0.0,0.0,0.0,0.0,0.0,0.0,0.0,0.0,1.0,0.0,0.0,0.0,0.0,0.0,0.0,0.0,1.0,0.0,0.0,0.0,0.0,0.0,0.0,0.0,0.0,0.0,0.0,0.0,0.0,1.0,0.0,0.0,0.0,0.0,0.0,0.0,1.0,0.0,0.0,0.0,0.0,0.0,0.0,0.0,0.0,0.0,0.0,0.0,0.0,0.0,0.0,0.0,0.0,0.0,0.0,0.0,0.0,0.0,0.0,0.0,1.0,0.0,0.0,1.0,0.0,0.0,0.0,0.0,0.0,0.0,1.0,0.0,0.0,0.0,0.0,0.0,0.0,0.0,0.0,0.0,0.0,1.0,1.0,0.0,0.0,0.0,1.0,0.0,0.0,0.0,0.0,0.0,0.0,1.0,1.0,0.0,0.0,0.0,1.0,0.0,0.0,0.0,1.0,0.0,0.0,0.0,0.0,0.0,0.0,1.0,0.0,0.0,0.0,0.0,0.0,1.0,0.0,0.0,0.0,0.0,0.0,0.0,0.0,0.0,0.0,0.0,0.0,0.0,0.0,0.0,1.0,0.0,0.0,0.0,0.0,0.0,0.0,0.0,1.0,0.0,1.0,0.0,0.0,0.0,1.0,1.0,1.0,0.0,0.0,0.0,0.0,0.0,0.0,1.0,0.0,0.0,0.0,1.0,0.0,0.0,0.0,0.0,0.0,1.0,0.0,0.0,1.0,0.0,0.0,0.0,0.0,0.0,0.0,0.0,0.0,1.0,1.0,0.0,0.0,0.0,0.0,0.0,0.0,1.0,0.0,1.0,1.0,0.0,0.0,1.0,0.0,1.0,0.0,0.0,0.0,0.0,0.0,0.0,0.0,0.0,0.0,0.0,1.0,1.0,0.0,0.0,0.0,0.0,1.0,0.0,0.0,0.0,0.0,0.0,1.0,0.0,0.0,0.0,0.0,0.0,0.0,0.0,0.0,0.0,0.0,0.0,0.0,0.0,0.0,0.0,0.0,0.0,0.0,0.0,0.0,1.0,0.0,0.0,0.0,0.0,0.0,0.0,0.0,0.0,0.0,0.0,1.0,0.0,0.0,0.0,1.0,0.0,0.0,0.0,1.0,0.0,0.0,0.0,1.0,0.0,0.0,0.0,0.0,0.0,0.0,1.0,0.0,0.0,1.0,0.0,0.0,0.0,0.0,1.0,0.0,0.0,0.0,0.0,0.0,0.0,0.0,0.0,0.0,0.0,0.0,1.0,1.0,0.0,0.0,0.0,0.0,0.0,0.0,0.0,0.0,0.0,0.0,0.0,0.0,0.0,0.0,1.0,0.0,0.0,0.0,0.0,1.0,0.0,0.0,0.0,0.0,0.0,0.0,0.0,0.0,0.0,0.0,1.0,0.0,0.0,0.0,0.0,0.0,0.0,1.0,0.0,0.0,0.0,0.0,0.0,1.0,0.0,0.0,0.0,0.0,1.0,0.0,0.0,0.0,0.0,0.0,0.0,0.0,0.0,1.0,0.0,0.0,0.0,0.0,0.0,0.0,0.0,0.0,0.0,0.0,0.0,0.0,0.0,1.0,0.0,1.0,0.0,1.0,0.0,1.0,0.0,1.0,0.0,0.0,0.0,0.0,0.0,0.0,0.0,0.0,0.0,0.0,0.0,0.0,0.0,0.0,0.0,0.0,0.0,0.0,0.0,0.0,0.0,0.0,1.0,0.0,1.0,0.0,0.0,0.0,0.0,1.0,0.0,1.0,0.0,0.0,0.0,0.0,0.0,1.0,0.0,0.0,1.0,0.0,0.0,0.0,0.0,0.0,0.0,0.0,1.0,0.0,0.0,0.0,0.0,0.0,1.0,0.0,0.0,0.0,1.0,0.0,0.0,0.0,0.0,0.0,1.0,0.0,0.0,0.0,0.0,1.0,0.0,0.0,1.0,0.0,0.0,1.0,0.0,0.0,0.0,1.0,0.0,1.0,0.0,0.0,0.0,1.0,0.0,0.0,1.0,0.0,0.0,0.0,0.0,1.0,0.0,0.0,1.0,0.0,0.0,0.0,0.0,0.0,0.0,0.0,1.0,0.0,0.0,0.0,0.0,0.0,0.0,0.0,0.0,0.0,0.0,0.0,0.0,0.0,0.0,0.0,0.0,0.0,1.0,0.0,0.0,0.0,0.0,0.0,1.0,0.0,0.0,0.0,1.0,0.0,0.0,0.0,1.0,0.0,1.0,0.0,0.0,0.0,0.0,1.0,0.0,0.0,0.0,0.0,0.0,1.0,0.0,0.0,0.0,0.0,0.0,0.0,0.0,0.0,0.0,0.0,1.0,0.0,0.0,0.0,0.0,0.0,0.0,0.0,0.0,0.0,0.0,0.0,0.0,1.0,0.0,0.0,0.0,0.0,0.0,0.0,0.0,0.0,0.0,0.0,0.0,1.0,1.0,0.0,0.0,0.0,0.0,0.0,0.0,0.0,0.0,1.0,0.0,1.0,0.0,0.0,0.0,0.0,0.0,0.0,0.0,0.0,0.0,0.0,0.0,1.0,0.0,0.0,0.0,0.0,0.0,0.0,0.0,0.0,0.0,1.0,0.0,0.0,0.0,0.0,0.0,0.0,0.0,0.0,1.0,0.0,0.0,0.0,0.0,0.0,0.0,1.0,0.0,0.0,0.0,0.0,0.0,0.0,0.0,0.0,0.0,1.0,0.0,0.0,0.0,0.0,0.0,0.0,0.0,1.0,0.0,0.0,0.0,1.0,0.0,0.0,0.0,0.0,1.0,0.0,0.0,1.0,0.0,0.0,0.0,0.0,0.0,0.0,0.0,0.0,0.0,0.0,0.0,0.0,0.0,0.0,1.0,0.0,0.0,0.0,0.0,1.0,1.0,0.0,0.0,0.0,0.0,0.0,0.0,0.0,0.0,0.0,0.0,0.0,0.0,0.0,0.0,0.0,0.0,1.0,0.0,0.0,0.0,0.0,1.0,0.0,0.0,0.0,0.0,0.0,0.0,0.0,0.0,0.0,0.0,0.0,0.0,1.0,0.0,0.0,1.0,0.0,1.0,0.0,0.0,0.0,0.0,0.0,0.0,0.0,0.0,0.0,0.0,1.0,0.0,0.0,1.0,0.0,0.0,0.0,1.0,0.0,0.0,0.0,0.0,0.0,0.0,0.0,0.0,0.0,0.0,0.0,1.0,0.0,0.0,0.0,0.0,1.0,0.0,0.0,0.0,0.0,0.0,0.0,0.0,0.0,0.0,1.0,0.0,1.0,0.0,1.0,0.0,0.0,0.0,1.0,0.0,0.0,1.0,0.0,0.0,1.0,0.0,0.0,0.0,0.0,0.0,0.0,0.0,0.0,0.0,0.0,0.0,0.0,0.0,0.0,0.0,0.0,1.0,0.0,0.0,0.0,0.0,0.0,1.0,0.0,0.0,1.0,0.0,0.0,0.0,0.0,0.0,0.0,0.0,0.0,1.0,0.0,0.0,0.0,0.0,0.0,0.0,0.0,0.0,0.0,0.0,0.0,0.0,0.0,1.0,0.0,0.0,0.0,0.0,1.0,1.0,0.0,1.0,0.0,0.0,1.0,0.0,0.0,0.0,0.0,0.0,0.0,0.0,0.0,0.0,0.0,0.0,0.0,1.0,1.0,0.0,0.0,0.0,0.0,0.0,0.0,0.0,1.0,1.0,0.0,1.0,0.0,0.0,0.0,0.0,0.0,0.0,0.0,0.0,0.0,0.0,1.0,0.0,0.0,0.0,0.0,0.0,1.0,0.0,0.0,0.0,0.0,0.0,0.0,1.0,0.0,0.0,0.0,0.0,0.0,0.0,1.0,0.0,1.0,0.0,0.0,0.0,0.0,0.0,0.0,0.0,0.0,0.0,0.0,1.0,0.0,0.0,0.0,0.0,1.0,0.0,0.0,0.0,0.0,0.0,0.0,0.0,0.0,0.0,0.0,0.0,0.0,0.0,0.0,0.0,0.0,0.0,0.0,0.0,1.0,0.0,0.0,0.0,1.0,0.0,1.0,0.0,0.0,1.0,0.0,0.0,0.0,0.0,0.0,0.0,0.0,0.0,0.0,0.0,0.0,0.0,1.0,1.0,0.0,1.0,1.0,0.0,0.0,0.0,0.0,0.0,1.0,0.0,0.0,0.0,0.0,0.0,0.0,0.0,0.0,0.0,1.0,0.0,0.0,0.0,0.0,0.0,1.0,0.0,0.0,0.0,1.0,0.0,0.0,0.0,0.0,1.0,0.0,1.0,0.0,0.0,1.0,0.0,0.0,0.0,0.0,0.0,0.0,0.0,0.0,0.0,0.0,0.0,1.0,1.0,0.0,0.0,0.0,1.0,0.0,0.0,0.0,0.0,0.0,1.0,0.0,0.0,0.0,1.0,1.0,0.0,1.0,1.0,0.0,0.0,0.0,0.0,0.0,0.0,0.0,0.0,1.0,0.0,0.0,1.0,1.0,1.0,0.0,0.0,0.0,0.0,0.0,1.0,0.0,0.0,1.0,0.0,0.0,0.0,0.0,1.0,1.0,0.0,0.0,0.0,0.0,0.0,0.0,0.0,0.0,0.0,0.0,0.0,0.0,0.0,0.0,0.0,0.0,0.0,0.0,0.0,0.0,0.0,0.0,0.0,1.0,0.0,1.0,1.0,0.0,0.0,1.0,1.0,1.0,0.0,0.0,0.0,0.0,0.0,1.0,0.0,0.0,0.0,1.0,0.0,0.0,1.0,0.0,0.0,0.0,0.0,0.0,0.0,0.0,0.0,1.0,0.0,0.0,0.0,0.0,0.0,0.0,0.0,0.0,1.0,0.0,1.0,0.0,0.0,0.0,0.0,0.0,0.0,0.0,0.0,0.0,0.0,0.0,0.0,0.0,1.0,1.0,1.0,0.0,0.0,0.0,0.0,0.0,0.0,0.0,0.0,0.0,0.0,0.0,0.0,1.0,0.0,0.0,0.0,0.0,0.0,1.0,0.0,0.0,1.0,0.0,0.0,0.0,0.0,0.0,1.0,0.0,0.0,0.0,0.0,0.0,0.0,0.0,0.0,0.0,0.0,0.0,0.0,1.0,0.0,0.0,0.0,0.0,0.0,0.0,0.0,0.0,0.0,0.0,0.0,0.0,1.0,0.0,1.0,0.0,1.0,0.0,0.0,0.0,0.0,0.0,0.0,0.0,0.0,1.0,0.0,1.0,0.0,0.0,1.0,0.0,1.0,0.0,0.0,0.0,0.0,1.0,0.0,0.0,1.0,0.0,0.0,0.0,0.0,0.0,0.0,1.0,0.0,1.0,0.0,0.0,0.0,0.0,0.0,0.0,0.0,0.0,0.0,0.0,1.0,1.0,0.0,0.0,0.0,0.0,0.0,0.0,1.0,0.0,0.0,0.0,0.0,0.0,0.0,0.0,0.0,0.0,0.0,0.0,1.0,1.0,1.0,0.0,0.0,1.0,0.0,0.0,0.0,1.0,0.0,0.0,0.0,0.0,0.0,0.0,0.0,1.0,1.0,0.0,0.0,0.0,0.0,1.0,0.0,0.0,0.0,0.0,0.0,0.0,0.0,0.0,0.0,0.0,0.0,0.0,0.0,0.0,0.0,1.0,0.0,0.0,0.0,1.0,1.0,0.0,0.0,0.0,0.0,1.0,1.0,1.0,1.0,0.0,0.0,1.0,0.0,1.0,0.0,0.0,0.0,0.0,0.0,0.0,0.0,0.0,0.0,0.0,0.0,1.0,0.0,0.0,0.0,0.0,0.0,0.0,0.0,0.0,0.0,0.0,0.0,0.0,0.0,0.0,0.0,1.0,0.0,0.0,0.0,0.0,1.0,0.0,0.0,0.0,0.0,0.0,0.0,0.0,1.0,1.0,0.0,0.0,1.0,1.0,0.0,0.0,0.0,0.0,0.0,0.0,0.0,0.0,0.0,0.0,0.0,0.0,0.0,0.0,0.0,0.0,0.0,1.0,0.0,0.0,0.0,0.0,0.0,1.0,0.0,1.0,0.0,0.0,0.0,0.0,0.0,0.0,1.0,0.0,0.0,0.0,0.0,0.0,0.0,0.0,1.0,1.0,0.0,1.0,0.0,1.0,1.0,0.0,0.0,0.0,0.0,0.0,0.0,0.0,0.0,0.0,0.0,0.0,0.0,0.0,1.0,0.0,0.0,0.0,0.0,1.0,0.0,0.0,1.0,0.0,0.0,0.0,0.0,0.0,0.0,0.0,0.0,0.0,0.0,0.0,1.0,0.0,0.0,0.0,0.0,0.0,0.0,0.0,0.0,1.0,1.0,0.0,0.0,0.0,0.0,0.0,0.0,0.0,0.0,0.0,1.0,0.0,0.0,0.0,0.0,0.0,0.0,0.0,0.0,0.0,0.0,0.0,0.0,1.0,0.0,0.0,0.0,0.0,0.0,1.0,1.0,0.0,0.0,0.0,1.0,0.0,0.0,0.0,0.0,0.0,0.0,0.0,1.0,0.0,0.0,0.0,1.0,0.0,0.0,0.0,0.0,1.0,0.0,0.0,1.0,0.0,0.0,0.0,0.0,1.0,0.0,0.0,0.0,1.0,0.0,1.0,0.0,0.0,1.0,0.0,0.0,0.0,1.0,0.0,1.0,0.0,0.0,0.0,0.0,0.0,0.0,0.0,0.0,0.0,0.0,0.0,1.0,0.0,0.0,0.0,1.0,0.0,0.0,0.0,0.0,0.0,1.0,0.0,0.0,0.0,0.0,0.0,0.0,1.0,0.0,0.0,0.0,0.0,1.0,0.0,0.0,0.0,0.0,0.0,0.0,0.0,0.0,0.0,0.0,0.0,0.0,0.0,0.0,0.0,0.0,0.0,0.0,0.0,0.0,0.0,0.0,0.0,1.0,1.0,1.0,0.0,0.0,0.0,0.0,1.0,0.0,0.0,1.0,0.0,0.0,0.0,1.0,0.0,0.0,0.0,1.0,0.0,1.0,1.0,0.0,1.0,0.0,0.0,0.0,0.0,0.0,1.0,0.0,0.0,0.0,0.0,0.0,0.0,0.0,0.0,1.0,1.0,0.0,0.0,0.0,0.0,0.0,0.0,0.0,0.0,0.0,0.0,0.0,0.0,0.0,1.0,0.0,0.0,0.0,0.0,0.0,0.0,1.0,0.0,0.0,0.0,0.0,0.0,0.0,0.0,0.0,0.0,0.0,0.0,0.0,0.0,1.0,0.0,0.0,0.0,0.0,0.0,0.0,1.0,0.0,0.0,0.0,0.0,0.0,0.0,0.0,0.0,0.0,0.0,1.0,1.0,0.0,0.0,0.0,1.0,0.0,0.0,0.0,0.0,0.0,0.0,0.0,0.0,0.0,0.0,0.0,1.0,0.0,0.0,0.0,1.0,0.0,0.0,1.0,0.0,1.0,0.0,0.0,0.0,0.0,0.0,0.0,0.0,0.0,0.0,0.0,0.0,0.0,0.0,0.0,0.0,0.0,0.0,0.0,0.0,0.0,0.0,0.0,0.0,0.0,0.0,0.0,0.0,0.0,0.0,0.0,0.0,1.0,0.0,0.0,0.0,0.0,0.0,0.0,0.0,0.0,1.0,0.0,0.0,0.0,1.0,0.0,0.0,0.0,0.0,0.0,0.0,0.0,0.0,0.0,0.0,0.0,0.0,1.0,0.0,0.0,1.0,0.0,1.0,0.0,0.0,0.0,0.0,0.0,0.0,0.0,0.0,0.0,0.0,0.0,0.0,0.0,1.0,1.0,1.0,0.0,0.0,0.0,0.0,1.0,0.0,0.0,0.0,1.0,1.0,0.0,0.0,0.0,0.0,0.0,0.0,0.0,0.0,1.0,0.0,0.0,0.0,0.0,0.0,0.0,0.0,0.0,0.0,1.0,1.0,1.0,0.0,0.0,0.0,0.0,0.0,0.0,0.0,0.0,1.0,0.0,0.0,0.0,0.0,0.0,0.0,0.0,1.0,1.0,0.0,0.0,1.0,0.0,0.0,0.0,0.0,0.0,0.0,1.0,1.0,0.0,0.0,0.0,0.0,0.0,0.0,0.0,0.0,0.0,0.0,0.0,0.0,0.0,0.0,0.0,1.0,0.0,0.0,0.0,0.0,0.0,0.0,0.0,0.0,0.0,0.0,1.0,0.0,0.0,0.0,0.0,0.0,1.0,0.0,0.0,0.0,0.0,0.0,0.0,0.0,0.0,0.0,0.0,1.0,0.0,0.0,0.0,0.0,0.0,0.0,0.0,0.0,0.0,0.0,0.0,0.0,0.0,0.0,0.0,1.0,1.0,0.0,0.0,0.0,0.0,0.0,0.0,0.0,1.0,1.0,0.0,0.0,0.0,1.0,0.0,0.0,0.0,0.0,1.0,0.0,0.0,0.0,0.0,0.0,0.0,0.0,0.0,1.0,0.0,0.0,0.0,1.0,0.0,0.0,0.0,1.0,1.0,0.0,0.0,0.0,0.0,0.0,0.0,0.0,1.0,1.0,0.0,0.0,1.0,0.0,0.0,0.0,0.0,0.0,0.0,0.0,0.0,0.0,0.0,0.0,0.0,0.0,0.0,1.0,0.0,0.0,0.0,0.0,0.0,0.0,0.0,0.0,0.0,1.0,1.0,0.0,0.0,0.0,0.0,1.0,0.0,1.0,0.0,0.0,0.0,0.0,0.0,0.0,1.0,0.0,1.0,0.0,1.0,0.0,0.0,0.0,0.0,0.0,1.0,0.0,0.0,1.0,0.0,0.0,0.0,0.0,0.0,0.0,0.0,0.0,0.0,0.0,1.0,0.0,0.0,0.0,0.0,1.0,0.0,0.0,0.0,0.0,0.0,0.0,0.0,0.0,0.0,0.0,1.0,1.0,1.0,1.0,0.0,0.0,0.0,0.0,0.0,0.0,1.0,0.0,0.0,0.0,0.0,1.0,0.0,0.0,0.0,1.0,0.0,1.0,0.0,0.0,1.0,0.0,0.0,0.0,0.0,1.0,1.0,0.0,1.0,0.0,1.0,0.0,1.0,0.0,0.0,0.0,0.0,0.0,0.0,0.0,0.0,1.0,0.0,0.0,0.0,0.0,0.0,0.0,0.0,0.0,0.0,0.0,0.0,1.0,1.0,0.0,0.0,0.0,0.0,1.0,0.0,0.0,0.0,0.0,0.0,0.0,1.0,0.0,1.0,0.0,0.0,1.0,0.0,0.0,0.0,1.0,0.0,0.0,0.0,1.0,0.0,1.0,0.0,0.0,0.0,0.0,1.0,0.0,0.0,0.0,0.0,0.0,1.0,0.0,0.0,0.0,0.0,0.0,0.0,1.0,0.0,0.0,0.0,0.0,0.0,1.0,0.0,0.0,0.0,0.0,0.0,0.0,0.0,0.0,0.0,0.0,0.0,0.0,0.0,0.0,0.0,0.0,0.0,0.0,1.0,1.0,0.0,0.0,0.0,0.0,0.0,0.0,0.0,0.0,0.0,0.0,0.0,1.0,0.0,1.0,0.0,0.0,0.0,0.0,0.0,0.0,1.0,0.0,0.0,1.0,0.0,0.0,0.0,0.0,0.0,0.0,0.0,0.0,0.0,0.0,0.0,0.0,0.0,0.0,0.0,0.0,0.0,1.0,0.0,0.0,1.0,0.0,0.0,0.0,0.0,0.0,0.0,0.0,1.0,0.0,0.0,0.0,0.0,0.0,0.0,0.0,1.0,0.0,0.0,0.0,0.0,0.0,0.0,1.0,0.0,0.0,0.0,0.0,0.0,0.0,0.0,1.0,0.0,0.0,1.0,0.0,0.0,0.0,0.0,0.0,1.0,0.0,0.0,0.0,0.0,0.0,0.0,0.0,0.0,0.0,0.0,1.0,1.0,0.0,0.0,0.0,0.0,0.0,0.0,0.0,0.0,0.0,1.0,0.0,0.0,0.0,0.0,1.0,0.0,0.0,0.0,0.0,0.0,0.0,0.0,0.0,1.0,1.0,1.0,0.0,0.0,0.0,0.0,0.0,0.0,0.0,1.0,0.0,0.0,0.0,1.0,0.0,1.0,0.0,0.0,0.0,0.0,0.0,0.0,0.0,0.0,0.0,0.0,0.0,1.0,0.0,0.0,0.0,0.0,0.0,0.0,0.0,0.0,0.0,0.0,0.0,0.0,0.0,0.0,0.0,0.0,0.0,0.0,0.0,1.0,0.0,0.0,1.0,1.0,0.0,0.0,0.0,1.0,0.0,0.0,0.0,0.0,0.0,0.0,0.0,0.0,0.0,1.0,0.0,1.0,0.0,0.0,0.0,1.0,0.0,0.0,1.0,1.0,0.0,0.0,0.0,0.0,1.0,0.0,0.0,0.0,0.0,0.0,0.0,0.0,0.0,0.0,0.0,0.0,0.0,0.0,0.0,0.0,0.0,1.0,0.0,1.0,0.0,0.0,0.0,0.0,1.0,0.0,0.0,0.0,0.0,0.0,0.0,0.0,0.0,0.0,0.0,0.0,0.0,0.0,0.0,1.0,0.0,0.0,0.0,0.0,0.0,0.0,0.0,1.0,0.0,0.0,0.0,0.0,0.0,0.0,0.0,0.0,0.0,0.0,1.0,0.0,0.0,0.0,0.0,0.0,0.0,0.0,0.0,1.0,0.0,0.0,0.0,0.0,0.0,0.0,0.0,0.0,0.0,0.0,1.0,0.0,0.0,0.0,0.0,0.0,0.0,0.0,0.0,0.0,1.0,0.0,1.0,0.0,1.0,0.0,1.0,0.0,1.0,0.0,0.0,0.0,0.0,0.0,0.0,1.0,0.0,0.0,1.0,0.0,0.0,0.0,0.0,1.0,0.0,0.0,0.0,0.0,0.0,1.0,0.0,0.0,1.0,0.0,0.0,0.0,0.0,0.0,0.0,0.0,1.0,0.0,0.0,1.0,0.0,0.0,0.0,0.0,0.0,0.0,1.0,0.0,1.0,0.0,0.0,0.0,0.0,0.0,0.0,1.0,0.0,1.0,0.0,0.0,0.0,0.0,0.0,0.0,0.0,0.0,0.0,0.0,0.0,0.0,0.0,1.0,0.0,0.0,0.0,0.0,0.0,0.0,0.0,0.0,0.0,0.0,0.0,1.0,1.0,0.0,0.0,0.0,0.0,0.0,0.0,0.0,1.0,0.0,0.0,0.0,0.0,0.0,0.0,0.0,0.0,1.0,0.0,0.0,0.0,0.0,0.0,0.0,0.0,1.0,0.0,0.0,0.0,0.0,0.0,0.0,0.0,0.0,0.0,0.0,0.0,0.0,0.0,0.0,1.0,1.0,0.0,0.0,0.0,0.0,1.0,0.0,0.0,0.0,0.0,0.0,0.0,0.0,0.0,1.0,1.0,0.0,1.0,0.0,0.0,0.0,0.0,0.0,1.0,0.0,0.0,0.0,0.0,0.0,0.0,0.0,0.0,0.0,0.0,0.0,0.0,0.0,0.0,0.0,0.0,0.0,0.0,0.0,0.0,0.0,0.0,0.0,0.0,0.0,0.0,0.0,0.0,0.0,0.0,1.0,0.0,1.0,0.0,0.0,0.0,0.0,0.0,0.0,0.0,0.0,0.0,0.0,1.0,0.0,0.0,1.0,0.0,0.0,1.0,0.0,0.0,0.0,0.0,1.0,0.0,0.0,0.0,0.0,0.0,1.0,0.0,0.0,0.0,0.0,0.0,0.0,0.0,0.0,0.0,0.0,0.0,0.0,0.0,0.0,0.0,0.0,0.0,0.0,0.0,0.0,0.0,0.0,0.0,0.0,0.0,0.0,0.0,0.0,1.0,0.0,0.0,0.0,0.0,0.0,1.0,0.0,0.0,0.0,0.0,0.0,0.0,0.0,0.0,1.0,0.0,0.0,0.0,0.0,0.0,0.0,0.0,0.0,0.0,0.0,0.0,0.0,0.0,0.0,0.0,0.0,1.0,1.0,0.0,1.0,0.0,1.0,0.0,0.0,0.0,0.0,1.0,0.0,0.0,0.0,0.0,0.0,0.0,0.0,0.0,0.0,0.0,0.0,0.0,0.0,0.0,0.0,1.0,0.0,0.0,0.0,0.0,0.0,0.0,1.0,0.0,0.0,0.0,0.0,0.0,0.0,0.0,0.0,1.0,0.0,0.0,1.0,0.0,0.0,0.0,0.0,1.0,0.0,0.0,0.0,1.0,0.0,1.0,0.0,0.0,1.0,0.0,0.0,0.0,0.0,0.0,0.0,0.0,0.0,1.0,0.0,0.0,0.0,0.0,0.0,0.0,0.0,1.0,0.0,0.0,0.0,0.0,0.0,0.0,1.0,0.0,0.0,0.0,0.0,0.0,0.0,0.0,0.0,0.0,0.0,0.0,0.0,0.0,0.0,0.0,0.0,0.0,1.0,0.0,0.0,1.0,0.0,1.0,0.0,0.0,1.0,0.0,0.0,1.0,0.0,0.0,0.0,0.0,0.0,0.0,0.0,0.0,0.0,0.0,0.0,0.0,0.0,1.0,1.0,1.0,0.0,0.0,0.0,0.0,0.0,0.0,0.0,0.0,0.0,0.0,0.0,1.0,0.0,0.0,1.0,0.0,0.0,0.0,0.0,0.0,0.0,0.0,0.0,0.0,1.0,1.0,0.0,0.0,1.0,1.0,0.0,1.0,1.0,1.0,0.0,0.0,0.0,0.0,1.0,0.0,0.0,0.0,0.0,0.0,0.0,0.0,0.0,1.0,0.0,1.0,1.0,0.0,1.0,1.0,0.0,1.0,1.0,0.0,0.0,0.0,0.0,1.0,0.0,0.0,0.0,0.0,0.0,0.0,0.0,0.0,0.0,1.0,0.0,0.0,0.0,1.0,0.0,0.0,0.0,0.0,0.0,0.0,0.0,0.0,0.0,0.0,0.0,0.0,0.0,0.0,0.0,1.0,0.0,0.0,0.0,0.0,0.0,0.0,0.0,0.0,0.0,0.0,0.0,0.0,0.0,0.0,0.0,0.0,0.0,0.0,1.0,0.0,0.0,0.0,0.0,0.0,0.0,0.0,0.0,1.0,0.0,0.0,0.0,0.0,0.0,0.0,0.0,0.0,0.0,1.0,0.0,0.0,0.0,0.0,0.0,0.0,1.0,0.0,0.0,1.0,0.0,0.0,0.0,1.0,0.0,0.0,0.0,0.0,1.0,1.0,0.0,0.0,0.0,1.0,0.0,0.0,0.0,1.0,0.0,0.0,0.0,0.0,1.0,0.0,0.0,0.0,0.0,0.0,0.0,0.0,0.0,0.0,0.0,0.0,0.0,0.0,0.0,0.0,0.0,1.0,0.0,0.0,0.0,0.0,1.0,1.0,0.0,0.0,1.0,0.0,1.0,0.0,0.0,0.0,1.0,0.0,0.0,0.0,0.0,0.0,0.0,0.0,0.0,0.0,0.0,0.0,0.0,0.0,0.0,1.0,0.0,0.0,0.0,0.0,1.0,0.0,0.0,0.0,0.0,0.0,0.0,0.0,1.0,0.0,0.0,0.0,0.0,1.0,0.0,0.0,0.0,1.0,1.0,0.0,0.0,1.0,0.0,1.0,0.0,0.0,0.0,0.0,0.0,0.0,0.0,0.0,1.0,1.0,1.0,0.0,0.0,0.0,0.0,0.0,0.0,0.0,0.0,0.0,0.0,0.0,0.0,0.0,0.0,0.0,0.0,0.0,0.0,0.0,0.0,0.0,0.0,0.0,0.0,0.0,1.0,0.0,0.0,0.0,0.0,0.0,0.0,0.0,0.0,0.0,0.0,0.0,0.0,0.0,0.0,0.0,0.0,1.0,0.0,1.0,0.0,0.0,1.0,0.0,0.0,0.0,0.0,0.0,0.0,0.0,1.0,0.0,0.0,0.0,0.0,0.0,0.0,0.0,1.0,0.0,0.0,0.0,0.0,0.0,0.0,1.0,0.0,1.0,0.0,0.0,0.0,0.0,0.0,0.0,1.0,1.0,1.0,0.0,0.0,0.0,0.0,1.0,0.0,0.0,0.0,1.0,0.0,0.0,1.0,0.0,0.0,1.0,1.0,0.0,0.0,0.0,0.0,0.0,0.0,0.0,0.0,0.0,0.0,0.0,0.0,1.0,1.0,0.0,0.0,0.0,0.0,0.0,0.0,0.0,0.0,0.0,0.0,0.0,0.0,1.0,1.0,1.0,0.0,0.0,0.0,1.0,0.0,1.0,0.0,0.0,0.0,0.0,1.0,0.0,1.0,0.0,0.0,0.0,0.0,0.0,0.0,0.0,1.0,0.0,0.0,0.0,0.0,0.0,0.0,1.0,0.0,0.0,0.0,0.0,0.0,0.0,1.0,0.0,0.0,0.0,0.0,0.0,1.0,0.0,0.0,0.0,0.0,0.0,0.0,0.0,0.0,0.0,0.0,0.0,1.0,0.0,0.0,0.0,0.0,0.0,0.0,0.0,1.0,0.0,0.0,0.0,0.0,0.0,0.0,1.0,0.0,0.0,0.0,0.0,0.0,0.0,0.0,0.0,0.0,0.0,0.0,0.0,0.0,0.0,1.0,0.0,0.0,0.0,0.0,0.0,0.0,0.0,0.0,0.0,0.0,0.0,0.0,1.0,0.0,0.0,0.0,0.0,1.0,1.0,0.0,0.0,0.0,0.0,0.0,0.0,0.0,0.0,0.0,1.0,1.0,1.0,0.0,0.0,0.0,0.0,0.0,0.0,0.0,0.0,0.0,0.0,0.0,0.0,0.0,0.0,0.0,0.0,0.0,0.0,0.0,0.0,0.0,0.0,0.0,0.0,0.0,0.0,0.0,0.0,0.0,0.0,0.0,1.0,0.0,0.0,0.0,1.0,0.0,0.0,0.0,0.0,0.0,1.0,0.0,1.0,0.0,0.0,0.0,0.0,1.0,0.0,1.0,0.0,0.0,0.0,0.0,0.0,0.0,0.0,0.0,0.0,0.0,1.0,0.0,1.0,0.0,0.0,0.0,0.0,0.0,0.0,0.0,0.0,1.0,0.0,0.0,0.0,0.0,0.0,0.0,1.0,0.0,0.0,0.0,0.0,0.0,1.0,0.0,0.0,0.0,0.0,0.0,0.0,0.0,0.0,0.0,0.0,1.0,0.0,0.0,1.0,0.0,0.0,1.0,0.0,0.0,0.0,1.0,0.0,0.0,0.0,1.0,0.0,0.0,0.0,0.0,0.0,0.0,0.0,0.0,0.0,1.0,0.0,0.0,0.0,0.0,0.0,0.0,0.0,1.0,0.0,0.0,1.0,0.0,0.0,1.0,0.0,0.0,0.0,0.0,1.0,0.0,0.0,1.0,0.0,0.0,0.0,0.0,1.0,1.0,1.0,1.0,0.0,0.0,0.0,0.0,0.0,0.0,0.0,0.0,0.0,0.0,1.0,0.0,0.0,0.0,0.0,0.0,0.0,1.0,0.0,0.0,0.0,0.0,0.0,0.0,0.0,0.0,0.0,0.0,0.0,0.0,0.0,0.0,1.0,0.0,0.0,0.0,0.0,1.0,1.0,0.0,0.0,0.0,0.0,0.0,0.0,0.0,1.0,0.0,0.0,0.0,0.0,0.0,0.0,0.0,0.0,1.0,0.0,1.0,0.0,0.0,1.0,0.0,1.0,0.0,0.0,1.0,0.0,0.0,0.0,0.0,0.0,0.0,0.0,0.0,0.0,0.0,0.0,0.0,0.0,0.0,0.0,0.0,0.0,0.0,0.0,0.0,1.0,0.0,0.0,0.0,0.0,1.0,0.0,0.0,0.0,0.0,0.0,0.0,0.0,0.0,0.0,0.0,0.0,0.0,0.0,0.0,0.0,0.0,0.0,0.0,0.0,0.0,1.0,0.0,0.0,0.0,0.0,0.0,0.0,0.0,0.0,0.0,0.0,0.0,1.0,0.0,0.0,1.0,1.0,0.0,0.0,0.0,1.0,0.0,1.0,1.0,0.0,0.0,0.0,0.0,0.0,0.0,0.0,0.0,0.0,0.0,0.0,0.0,0.0,0.0,0.0,0.0,0.0,0.0,0.0,0.0,1.0,0.0,0.0,1.0,0.0,0.0,0.0,0.0,0.0,0.0,0.0,0.0,0.0,0.0,1.0,0.0,0.0,0.0,0.0,0.0,0.0,0.0,1.0,0.0,0.0,0.0,1.0,1.0,0.0,1.0,0.0,0.0,1.0,1.0,1.0,0.0,0.0,1.0,0.0,1.0,1.0,0.0,0.0,0.0,0.0,0.0,0.0,0.0,0.0,0.0,0.0,0.0,0.0,1.0,0.0,0.0,1.0,0.0,0.0,0.0,0.0,0.0,0.0,1.0,0.0,0.0,0.0,0.0,0.0,0.0,0.0,0.0,0.0,0.0,0.0,0.0,0.0,0.0,0.0,0.0,1.0,0.0,1.0,0.0,0.0,0.0,0.0,0.0,0.0,0.0,0.0,0.0,0.0,0.0,0.0,0.0,0.0,0.0,1.0,0.0,0.0,0.0,1.0,1.0,0.0,0.0,0.0,1.0,1.0,0.0,0.0,0.0,0.0,0.0,0.0,0.0,0.0,0.0,0.0,0.0,0.0,0.0,0.0,0.0,0.0,0.0,1.0,0.0,0.0,1.0,0.0,0.0,0.0,0.0,0.0,0.0,0.0,0.0,0.0,0.0,0.0,1.0,0.0,0.0,0.0,0.0,0.0,0.0,0.0,0.0,0.0,0.0,0.0,0.0,0.0,0.0,0.0,0.0,0.0,0.0,0.0,0.0,0.0,0.0,0.0,0.0,0.0,0.0,0.0,0.0,0.0,0.0,0.0,0.0,0.0,1.0,0.0,0.0,0.0,0.0,0.0,0.0,0.0,0.0,0.0,0.0,0.0,0.0,0.0,0.0,1.0,0.0,0.0,0.0,0.0,0.0,0.0,0.0,0.0,0.0,1.0,0.0,0.0,1.0,0.0,0.0,0.0,0.0,0.0,0.0,1.0,0.0,0.0,0.0,1.0,0.0,0.0,1.0,0.0,0.0,0.0,0.0,1.0,0.0,1.0,1.0,0.0,1.0,0.0,1.0,0.0,0.0,0.0,0.0,0.0,0.0,0.0,0.0,0.0,0.0,0.0,0.0,0.0,0.0,1.0,0.0,0.0,0.0,0.0,0.0,0.0,0.0,1.0,0.0,0.0,0.0,0.0,0.0,0.0,0.0,0.0,0.0,0.0,0.0,0.0,0.0,0.0,1.0,0.0,0.0,0.0,0.0,0.0,0.0,1.0,0.0,0.0,0.0,0.0,0.0,0.0,0.0,0.0,0.0,0.0,0.0,0.0,1.0,1.0,1.0,1.0,0.0,0.0,0.0,0.0,0.0,0.0,0.0,0.0,0.0,0.0,1.0,1.0,1.0,0.0,0.0,0.0,0.0,0.0,0.0,0.0,0.0,1.0,0.0,1.0,0.0,0.0,0.0,0.0,0.0,0.0,1.0,0.0,0.0,1.0,0.0,0.0,0.0,0.0,0.0,0.0,0.0,0.0,0.0,1.0,0.0,0.0,0.0,0.0,1.0,0.0,0.0,1.0,0.0,0.0,1.0,0.0,0.0,0.0,0.0,0.0,1.0,0.0,1.0,0.0,0.0,0.0,1.0,0.0,0.0,0.0,0.0,0.0,0.0,0.0,0.0,0.0,0.0,1.0,0.0,0.0,0.0,0.0,0.0,0.0,0.0,1.0,1.0,0.0,0.0,0.0,0.0,0.0,0.0,0.0,0.0,1.0,0.0,0.0,1.0,0.0,0.0,1.0,0.0,0.0,0.0,1.0,0.0,0.0,0.0,0.0,0.0,0.0,0.0,0.0,0.0,0.0,0.0,1.0,0.0,0.0,0.0,1.0,0.0,0.0,1.0,1.0,1.0,0.0,0.0,1.0,0.0,0.0,0.0,0.0,0.0,0.0,0.0,0.0,0.0,0.0,0.0,0.0,1.0,0.0,0.0,0.0,0.0,0.0,1.0,0.0,0.0,0.0,0.0,0.0,0.0,1.0,0.0,0.0,0.0,0.0,0.0,0.0,0.0,0.0,0.0,0.0,1.0,0.0,0.0,0.0,0.0,0.0,1.0,0.0,0.0,0.0,0.0,0.0,1.0,0.0,0.0,0.0,0.0,1.0,0.0,0.0,1.0,0.0,0.0,0.0,0.0,0.0,0.0,0.0,0.0,1.0,0.0,0.0,0.0,0.0,0.0,1.0,0.0,0.0,0.0,0.0,0.0,0.0,0.0,0.0,0.0,0.0,1.0,0.0,0.0,0.0,0.0,0.0,0.0,0.0,0.0,0.0,0.0,1.0,0.0,0.0,1.0,0.0,0.0,1.0,1.0,0.0,0.0,0.0,1.0,1.0,0.0,0.0,0.0,1.0,0.0,0.0,0.0,1.0,0.0,0.0,0.0,0.0,0.0,0.0,0.0,1.0,0.0,0.0,0.0,1.0,0.0,0.0,0.0,1.0,0.0,0.0,0.0,1.0,0.0,1.0,0.0,0.0,1.0,1.0,0.0,0.0,0.0,0.0,1.0,0.0,0.0,0.0,0.0,0.0,0.0,0.0,0.0,0.0,0.0,0.0,0.0,0.0,0.0,0.0,0.0,0.0,1.0,0.0,0.0,0.0,0.0,0.0,1.0,0.0,0.0,1.0,0.0,0.0,0.0,1.0,0.0,1.0,0.0,0.0,0.0,0.0,1.0,0.0,0.0,0.0,0.0,1.0,1.0,0.0,1.0,0.0,0.0,0.0,1.0,1.0,0.0,0.0,0.0,0.0,0.0,0.0,0.0,0.0,0.0,1.0,1.0,0.0,0.0,0.0,0.0,0.0,0.0,1.0,1.0,0.0,0.0,0.0,0.0,1.0,0.0,0.0,0.0,0.0,0.0,0.0,0.0,0.0,0.0,1.0,0.0,0.0,1.0,0.0,1.0,0.0,0.0,0.0,0.0,0.0,0.0,1.0,0.0,0.0,0.0,0.0,1.0,0.0,0.0,0.0,0.0,0.0,0.0,0.0,0.0,0.0,0.0,0.0,0.0,0.0,1.0,0.0,0.0,1.0,0.0,1.0,0.0,0.0,0.0,1.0,0.0,0.0,1.0,0.0,0.0,0.0,0.0,0.0,0.0,1.0,1.0,1.0,0.0,0.0,1.0,0.0,0.0,0.0,1.0,0.0,0.0,1.0,0.0,0.0,0.0,0.0,0.0,1.0,1.0,0.0,0.0,0.0,0.0,0.0,1.0,0.0,0.0,0.0,1.0,0.0,0.0,0.0,0.0,0.0,0.0,0.0,0.0,0.0,0.0,0.0,1.0,0.0,0.0,0.0,0.0,0.0,0.0,0.0,0.0,0.0,0.0,0.0,0.0,1.0,0.0,0.0,0.0,0.0,0.0,0.0,0.0,0.0,1.0,0.0,0.0,0.0,0.0,0.0,0.0,0.0,0.0,1.0,0.0,1.0,0.0,1.0,0.0,0.0,0.0,0.0,1.0,0.0,1.0,0.0,0.0,0.0,1.0,0.0,0.0,0.0,0.0,1.0,0.0,0.0,0.0,0.0,0.0,0.0,0.0,0.0,0.0,1.0,1.0,0.0,0.0,0.0,1.0,0.0,1.0,0.0,0.0,1.0,0.0,0.0,0.0,0.0,0.0,0.0,0.0,0.0,1.0,0.0,0.0,0.0,0.0,0.0,1.0,0.0,0.0,0.0,0.0,0.0,0.0,0.0,0.0,0.0,0.0,0.0,0.0,0.0,0.0,0.0,0.0,1.0,1.0,0.0,1.0,0.0,1.0,1.0,1.0,0.0,0.0,0.0,0.0,0.0,0.0,0.0,0.0,0.0,0.0,0.0,0.0,1.0,0.0,0.0,1.0,0.0,0.0,0.0,0.0,0.0,0.0,0.0,0.0,0.0,0.0,0.0,0.0,0.0,0.0,0.0,0.0,0.0,0.0,0.0,0.0,0.0,1.0,0.0,1.0,0.0,1.0,1.0,0.0,1.0,0.0,0.0,1.0,0.0,0.0,1.0,0.0,0.0,0.0,0.0,0.0,0.0,0.0,0.0,0.0,0.0,0.0,1.0,0.0,0.0,1.0,0.0,1.0,0.0,0.0,0.0,1.0,0.0,0.0,0.0,0.0,0.0,1.0,0.0,0.0,0.0,0.0,0.0,0.0,0.0,1.0,0.0,0.0,0.0,0.0,0.0,0.0,0.0,0.0,0.0,0.0,0.0,0.0,0.0,0.0,0.0,0.0,0.0,0.0,0.0,0.0,0.0,0.0,0.0,0.0,1.0,1.0,0.0,0.0,0.0,1.0,1.0,0.0,0.0,1.0,1.0,0.0,0.0,0.0,0.0,0.0,1.0,0.0,0.0,0.0,0.0,0.0,0.0,1.0,1.0,0.0,0.0,0.0,0.0,0.0,0.0,0.0,0.0,0.0,0.0,0.0,0.0,0.0,0.0,1.0,0.0,0.0,0.0,0.0,0.0,0.0,0.0,1.0,0.0,1.0,0.0,0.0,0.0,1.0,0.0,0.0,0.0,0.0,0.0,1.0,0.0,0.0,1.0,0.0,0.0,0.0,0.0,0.0,0.0,0.0,0.0,0.0,0.0,0.0,0.0,0.0,0.0,0.0,0.0,0.0,0.0,0.0,0.0,1.0,0.0,0.0,1.0,0.0,0.0,0.0,0.0,0.0,0.0,0.0,0.0,0.0,0.0,0.0,0.0,0.0,0.0,0.0,0.0,0.0,0.0,0.0,0.0,0.0,0.0,0.0,0.0,0.0,0.0,0.0,0.0,0.0,0.0,1.0,0.0,0.0,0.0,0.0,0.0,0.0,0.0,0.0,0.0,0.0,0.0,0.0,1.0,1.0,0.0,0.0,0.0,0.0,0.0,0.0,0.0,0.0,0.0,1.0,0.0,0.0,0.0,0.0,1.0,0.0,0.0,0.0,1.0,0.0,1.0,0.0,1.0,0.0,1.0,0.0,0.0,0.0,0.0,0.0,0.0,0.0,0.0,0.0,0.0,0.0,0.0,0.0,1.0,0.0,1.0,1.0,0.0,0.0,0.0,1.0,0.0,0.0,1.0,1.0,0.0,0.0,0.0,0.0,0.0,0.0,0.0,0.0,1.0,0.0,0.0,0.0,0.0,0.0,0.0,0.0,0.0,0.0,0.0,0.0,0.0,0.0,0.0,0.0,0.0,0.0,1.0,0.0,0.0,0.0,0.0,0.0,0.0,0.0,0.0,0.0,0.0,1.0,0.0,0.0,1.0,1.0,0.0,0.0,0.0,0.0,1.0,0.0,0.0,0.0,0.0,0.0,0.0,0.0,1.0,0.0,0.0,1.0,0.0,0.0,0.0,0.0,0.0,0.0,0.0,1.0,0.0,1.0,0.0,0.0,0.0,0.0,0.0,0.0,0.0,0.0,1.0,0.0,0.0,1.0,0.0,0.0,0.0,0.0,0.0,0.0,0.0,0.0,0.0,0.0,0.0,0.0,0.0,0.0,0.0,0.0,0.0,0.0,0.0,0.0,0.0,0.0,0.0,0.0,0.0,0.0,1.0,0.0,0.0,0.0,0.0,1.0,0.0,0.0,0.0,1.0,0.0,0.0,0.0,0.0,0.0,1.0,0.0,0.0,0.0,0.0,0.0,0.0,0.0,0.0,0.0,0.0,1.0,0.0,0.0,1.0,0.0,0.0,0.0,0.0,0.0,0.0,0.0,0.0,0.0,0.0,0.0,0.0,0.0,0.0,0.0,0.0,1.0,0.0,0.0,0.0,0.0,0.0,1.0,0.0,0.0,0.0,0.0,0.0,0.0,0.0,0.0,0.0,1.0,0.0,1.0,0.0,0.0,0.0,0.0,0.0,0.0,0.0,0.0,0.0,0.0,1.0,0.0,0.0,0.0,0.0,0.0,1.0,0.0,0.0,0.0,0.0,0.0,0.0,0.0,0.0,0.0,0.0,0.0,0.0,0.0,0.0,0.0,0.0,0.0,0.0,0.0,1.0,0.0,0.0,1.0,0.0,0.0,0.0,0.0,0.0,0.0,0.0,0.0,1.0,0.0,0.0,0.0,0.0,0.0,0.0,0.0,1.0,1.0,0.0,0.0,0.0,0.0,1.0,0.0,0.0,0.0,0.0,1.0,0.0,0.0,1.0,0.0,0.0,0.0,0.0,0.0,0.0,0.0,0.0,0.0,0.0,0.0,0.0,0.0,1.0,0.0,0.0,0.0,0.0,0.0,0.0,0.0,0.0,0.0,0.0,0.0,0.0,0.0,0.0,0.0,1.0,0.0,0.0,1.0,1.0,0.0,0.0,1.0,1.0,0.0,0.0,0.0,0.0,0.0,0.0,1.0,0.0,0.0,1.0,0.0,0.0,1.0,0.0,0.0,0.0,0.0,0.0,1.0,0.0,0.0,0.0,0.0,0.0,0.0,0.0,0.0,1.0,1.0,0.0,0.0,1.0,1.0,0.0,0.0,0.0,0.0,0.0,0.0,0.0,0.0,0.0,0.0,0.0,0.0,0.0,0.0,0.0,0.0,0.0,0.0,1.0,0.0,1.0,0.0,0.0,1.0,0.0,0.0,0.0,0.0,0.0,0.0,0.0,0.0,0.0,0.0,0.0,0.0,0.0,0.0,0.0,0.0,0.0,1.0,0.0,0.0,1.0,0.0,0.0,0.0,0.0,0.0,0.0,0.0,0.0,0.0,0.0,0.0,0.0,0.0,0.0,0.0,0.0,0.0,1.0,0.0,0.0,1.0,1.0,0.0,0.0,1.0,0.0,0.0,0.0,0.0,0.0,0.0,0.0,0.0,0.0,0.0,0.0,1.0,0.0,0.0,0.0,0.0,0.0,0.0,0.0,0.0,1.0,1.0,0.0,0.0,1.0,0.0,0.0,0.0,0.0,0.0,0.0,0.0,0.0,1.0,0.0,1.0,0.0,0.0,0.0,0.0,0.0,0.0,0.0,0.0,1.0,0.0,0.0,0.0,0.0,0.0,0.0,0.0,0.0,0.0,0.0,1.0,0.0,1.0,0.0,1.0,0.0,0.0,0.0,0.0,1.0,0.0,0.0,0.0,0.0,0.0,0.0,0.0,0.0,0.0,0.0,0.0,0.0,0.0,0.0,0.0,0.0,0.0,1.0,0.0,1.0,1.0,0.0,0.0,0.0,1.0,0.0,0.0,0.0,0.0,1.0,0.0,0.0,0.0,0.0,0.0,0.0,0.0,0.0,1.0,0.0,0.0,1.0,0.0,1.0,0.0,0.0,0.0,0.0,0.0,0.0,0.0,1.0,0.0,1.0,0.0,0.0,0.0,0.0,0.0,0.0,1.0,1.0,0.0,0.0,0.0,1.0,0.0,0.0,0.0,0.0,0.0,0.0,0.0,0.0,1.0,0.0,0.0,0.0,0.0,0.0,1.0,1.0,0.0,1.0,0.0,1.0,0.0,0.0,0.0,0.0,1.0,0.0,1.0,0.0,0.0,0.0,0.0,0.0,0.0,0.0,0.0,0.0,0.0,0.0,0.0,1.0,0.0,0.0,0.0,0.0,0.0,0.0,0.0,0.0,0.0,0.0,0.0,0.0,1.0,0.0,1.0,1.0,1.0,0.0,0.0,0.0,0.0,0.0,0.0,0.0,1.0,1.0,0.0,1.0,1.0,0.0,0.0,0.0,1.0,0.0,0.0,1.0,0.0,0.0,0.0,0.0,1.0,0.0,1.0,0.0,0.0,0.0,0.0,0.0,1.0,0.0,0.0,0.0,1.0,0.0,1.0,0.0,0.0,1.0,0.0,0.0,0.0,0.0,0.0,0.0,0.0,1.0,0.0,0.0,0.0,0.0,1.0,0.0,0.0,0.0,0.0,0.0,1.0,0.0,1.0,1.0,0.0,0.0,1.0,0.0,0.0,0.0,0.0,0.0,1.0,0.0,0.0,0.0,0.0,0.0,1.0,1.0,0.0,0.0,0.0,0.0,1.0,1.0,0.0,0.0,1.0,0.0,0.0,0.0,0.0,1.0,0.0,0.0,0.0,0.0,1.0,1.0,0.0,0.0,0.0,0.0,1.0,0.0,0.0,1.0,0.0,0.0,0.0,1.0,0.0,0.0,0.0,0.0,1.0,1.0,0.0,0.0,0.0,1.0,1.0,0.0,0.0,1.0,0.0,0.0,0.0,0.0,0.0,0.0,0.0,0.0,0.0,1.0,0.0,0.0,1.0,0.0,0.0,0.0,0.0,0.0,0.0,0.0,0.0,0.0,0.0,1.0,1.0,0.0,0.0,0.0,0.0,0.0,0.0,0.0,0.0,0.0,0.0,0.0,0.0,0.0,0.0,0.0,1.0,1.0,0.0,0.0,0.0,0.0,0.0,0.0,0.0,1.0,0.0,0.0,0.0,0.0,0.0,0.0,0.0,1.0,0.0,1.0,0.0,0.0,0.0,1.0,0.0,0.0,0.0,0.0,1.0,1.0,0.0,0.0,0.0,0.0,0.0,0.0,1.0,0.0,0.0,0.0,0.0,0.0,0.0,0.0,0.0,0.0,1.0,0.0,0.0,0.0,0.0,0.0,1.0,0.0,0.0,0.0,0.0,0.0,0.0,1.0,0.0,1.0,0.0,1.0,0.0,0.0,0.0,0.0,0.0,0.0,0.0,1.0,0.0,0.0,0.0,0.0,1.0,1.0,0.0,0.0,0.0,1.0,0.0,0.0,0.0,0.0,0.0,0.0,1.0,0.0,0.0,0.0,0.0,0.0,0.0,1.0,0.0,0.0,0.0,0.0,0.0,0.0,0.0,0.0,0.0,0.0,0.0,0.0,0.0,0.0,0.0,0.0,0.0,0.0,0.0,0.0,0.0,0.0,0.0,0.0,0.0,1.0,1.0,1.0,0.0,0.0,0.0,0.0,0.0,0.0,0.0,0.0,1.0,0.0,1.0,0.0,0.0,0.0,1.0,0.0,0.0,0.0,0.0,0.0,0.0,0.0,0.0,0.0,0.0,1.0,0.0,0.0,0.0,0.0,0.0,0.0,0.0,0.0,0.0,1.0,0.0,0.0,1.0,0.0,0.0,0.0,0.0,0.0,1.0,0.0,1.0,0.0,0.0,1.0,0.0,1.0,0.0,0.0,0.0,1.0,0.0,0.0,1.0,0.0,0.0,1.0,0.0,0.0,0.0,1.0,0.0,0.0,0.0,0.0,0.0,0.0,0.0,1.0,1.0,1.0,0.0,0.0,0.0,1.0,0.0,0.0,0.0,0.0,0.0,0.0,0.0,0.0,0.0,0.0,0.0,0.0,0.0,1.0,0.0,1.0,0.0,1.0,0.0,0.0,1.0,0.0,0.0,0.0,1.0,0.0,0.0,0.0,0.0,0.0,0.0,0.0,1.0,0.0,1.0,0.0,0.0,0.0,1.0,0.0,0.0,0.0,0.0,0.0,0.0,0.0,0.0,0.0,0.0,0.0,0.0,0.0,1.0,0.0,0.0,0.0,0.0,0.0,0.0,0.0,1.0,0.0,0.0,0.0,0.0,0.0,0.0,0.0,0.0,0.0,0.0,0.0,1.0,0.0,0.0,0.0,0.0,0.0,0.0,0.0,0.0,0.0,0.0,0.0,1.0,0.0,0.0,0.0,1.0,1.0,0.0,0.0,1.0,0.0,0.0,1.0,0.0,0.0,1.0,0.0,0.0,0.0,0.0,1.0,0.0,0.0,0.0,0.0,0.0,0.0,0.0,0.0,0.0,0.0,1.0,0.0,0.0,0.0,0.0,0.0,0.0,0.0,0.0,0.0,0.0,0.0,0.0,0.0,0.0,0.0,0.0,0.0,0.0,0.0,1.0,0.0,0.0,0.0,0.0,0.0,0.0,0.0,0.0,0.0,1.0,0.0,1.0,0.0,0.0,0.0,0.0,0.0,0.0,0.0,1.0,0.0,0.0,0.0,0.0,0.0,0.0,1.0,0.0,0.0,0.0,0.0,0.0,0.0,1.0,0.0,0.0,0.0,1.0,0.0,0.0,0.0,0.0,0.0,0.0,0.0,0.0,0.0,0.0,0.0,0.0,0.0,0.0,0.0,1.0,0.0,0.0,1.0,0.0,0.0,1.0,0.0,0.0,0.0,0.0,0.0,1.0,0.0,0.0,1.0,0.0,0.0,0.0,0.0,0.0,0.0,1.0,0.0,1.0,0.0,0.0,0.0,0.0,0.0,0.0,0.0,1.0,0.0,0.0,0.0,0.0,0.0,0.0,0.0,0.0,0.0,0.0,0.0,0.0,0.0,0.0,0.0,0.0,0.0,0.0,0.0,1.0,0.0,0.0,0.0,0.0,0.0,0.0,0.0,0.0,1.0,0.0,0.0,0.0,0.0,0.0,0.0,0.0,1.0,0.0,1.0,0.0,0.0,0.0,0.0,0.0,0.0,0.0,0.0,0.0,0.0,0.0,0.0,0.0,0.0,0.0,0.0,0.0,0.0,0.0,1.0,0.0,0.0,1.0,0.0,0.0,0.0,1.0,0.0,0.0,0.0,0.0,1.0,0.0,1.0,1.0,0.0,0.0,0.0,0.0,1.0,0.0,0.0,0.0,0.0,1.0,0.0,0.0,0.0,0.0,0.0,0.0,0.0,0.0,0.0,1.0,0.0,1.0,0.0,1.0,0.0,0.0,0.0,0.0,0.0,0.0,0.0,1.0,0.0,0.0,0.0,0.0,0.0,0.0,0.0,0.0,1.0,0.0,0.0,0.0,0.0,1.0,0.0,0.0,0.0,0.0,0.0,1.0,1.0,0.0,0.0,1.0,0.0,0.0,0.0,0.0,0.0,0.0,0.0,0.0,1.0,0.0,0.0,0.0,1.0,1.0,1.0,0.0,0.0,0.0,1.0,0.0,1.0,0.0,0.0,0.0,0.0,0.0,0.0,0.0,0.0,0.0,0.0,0.0,0.0,0.0,0.0,1.0,0.0,0.0,0.0,0.0,0.0,0.0,0.0,0.0,1.0,0.0,0.0,0.0,0.0,0.0,0.0,0.0,0.0,0.0,0.0,0.0,0.0,0.0,0.0,1.0,0.0,0.0,1.0,1.0,0.0,0.0,0.0,0.0,0.0,0.0,0.0,0.0,0.0,1.0,0.0,0.0,0.0,0.0,0.0,0.0,0.0,0.0,1.0,1.0,0.0,0.0,0.0,0.0,0.0,0.0,0.0,0.0,1.0,0.0,0.0,0.0,0.0,0.0,1.0,0.0,0.0,1.0,0.0,1.0,0.0,0.0,0.0,1.0,0.0,0.0,1.0,0.0,0.0,1.0,0.0,0.0,0.0,0.0,1.0,0.0,0.0,0.0,0.0,0.0,1.0,0.0,0.0,0.0,1.0,1.0,0.0,0.0,0.0,1.0,1.0,0.0,0.0,0.0,0.0,0.0,0.0,1.0,0.0,0.0,0.0,0.0,0.0,0.0,1.0,1.0,0.0,0.0,0.0,0.0,0.0,0.0,0.0,0.0,0.0,1.0,1.0,0.0,0.0,0.0,0.0,0.0,0.0,0.0,0.0,0.0,0.0,0.0,0.0,1.0,0.0,0.0,0.0,0.0,0.0,0.0,0.0,0.0,1.0,0.0,1.0,0.0,0.0,0.0,0.0,0.0,0.0,0.0,1.0,1.0,0.0,0.0,0.0,0.0,0.0,1.0,0.0,0.0,0.0,1.0,0.0,0.0,0.0,0.0,1.0,0.0,0.0,0.0,0.0,0.0,0.0,0.0,0.0,1.0,0.0,0.0,1.0,0.0,0.0,0.0,0.0,0.0,0.0,0.0,0.0,0.0,0.0,0.0,0.0,0.0,0.0,1.0,0.0,0.0,0.0,1.0,1.0,0.0,0.0,0.0,0.0,0.0,0.0,0.0,0.0,0.0,0.0,0.0,0.0,0.0,0.0,1.0,0.0,0.0,0.0,0.0,0.0,1.0,0.0,0.0,0.0,1.0,1.0,0.0,0.0,0.0,0.0,0.0,0.0,0.0,0.0,0.0,0.0,1.0,0.0,0.0,0.0,0.0,0.0,0.0,0.0,0.0,0.0,0.0,1.0,0.0,0.0,0.0,0.0,0.0,0.0,0.0,0.0,0.0,0.0,1.0,0.0,0.0,0.0,0.0,0.0,0.0,0.0,0.0,0.0,0.0,0.0,0.0,0.0,0.0,0.0,0.0,0.0,0.0,0.0,0.0,0.0,0.0,0.0,0.0,0.0,0.0,0.0,0.0,0.0,0.0,0.0,0.0,1.0,1.0,0.0,0.0,0.0,1.0,0.0,0.0,1.0,0.0,0.0,0.0,0.0,0.0,0.0,0.0,0.0,0.0,0.0,1.0,0.0,1.0,0.0,1.0,0.0,0.0,0.0,0.0,0.0,0.0,0.0,0.0,0.0,0.0,0.0,1.0,1.0,0.0,0.0,1.0,0.0,0.0,0.0,0.0,0.0,0.0,1.0,1.0,0.0,0.0,0.0,1.0,0.0,1.0,0.0,0.0,0.0,0.0,0.0,0.0,0.0,0.0,0.0,0.0,0.0,0.0,1.0,1.0,0.0,0.0,0.0,0.0,0.0,0.0,0.0,0.0,0.0,0.0,0.0,0.0,1.0,0.0,1.0,0.0,0.0,0.0,0.0,0.0,1.0,0.0,0.0,0.0,0.0,0.0,0.0,0.0,0.0,1.0,0.0,0.0,0.0,0.0,1.0,1.0,0.0,1.0,0.0,1.0,0.0,1.0,0.0,1.0,0.0,0.0,0.0,0.0,0.0,0.0,0.0,0.0,1.0,0.0,0.0,1.0,0.0,0.0,0.0,0.0,0.0,0.0,0.0,0.0,0.0,0.0,0.0,0.0,0.0,0.0,0.0,0.0,0.0,0.0,0.0,0.0,0.0,0.0,0.0,0.0,0.0,0.0,0.0,0.0,1.0,0.0,0.0,0.0,0.0,0.0,1.0,0.0,0.0,0.0,0.0,0.0,0.0,1.0,0.0,0.0,0.0,1.0,0.0,1.0,0.0,0.0,1.0,0.0,0.0,0.0,0.0,0.0,0.0,0.0,0.0,0.0,0.0,0.0,0.0,1.0,0.0,0.0,0.0,0.0,0.0,1.0,0.0,0.0,0.0,0.0,1.0,0.0,1.0,0.0,1.0,0.0,0.0,0.0,0.0,1.0,0.0,0.0,0.0,0.0,0.0,0.0,0.0,1.0,0.0,0.0,0.0,1.0,0.0,0.0,0.0,0.0,0.0,0.0,0.0,0.0,0.0,1.0,0.0,1.0,1.0,1.0,1.0,1.0,0.0,0.0,0.0,1.0,0.0,0.0,0.0,1.0,0.0,0.0,0.0,0.0,0.0,0.0,0.0,0.0,0.0,0.0,0.0,0.0,1.0,0.0,0.0,0.0,0.0,0.0,0.0,0.0,0.0,0.0,0.0,1.0,0.0,1.0,0.0,0.0,0.0,1.0,0.0,1.0,0.0,1.0,0.0,0.0,1.0,0.0,0.0,0.0,0.0,0.0,0.0,0.0,0.0,1.0,0.0,0.0,0.0,0.0,1.0,0.0,0.0,0.0,0.0,1.0,0.0,0.0,0.0,0.0,0.0,0.0,0.0,0.0,0.0,0.0,0.0,0.0,0.0,1.0,0.0,1.0,0.0,1.0,0.0,0.0,1.0,1.0,0.0,0.0,0.0,0.0,0.0,0.0,0.0,0.0,0.0,0.0,1.0,1.0,0.0,0.0,0.0,0.0,0.0,0.0,0.0,0.0,0.0,0.0,0.0,0.0,0.0,0.0,1.0,0.0,1.0,0.0,0.0,1.0,1.0,0.0,0.0,1.0,0.0,0.0,0.0,1.0,1.0,1.0,0.0,0.0,0.0,0.0,0.0,0.0,0.0,0.0,0.0,0.0,0.0,0.0,0.0,0.0,1.0,0.0,1.0,0.0,1.0,0.0,0.0,0.0,0.0,1.0,0.0,0.0,1.0,0.0,0.0,0.0,0.0,0.0,0.0,0.0,0.0,0.0,0.0,0.0,0.0,0.0,1.0,0.0,0.0,0.0,1.0,0.0,0.0,0.0,0.0,0.0,0.0,0.0,0.0,0.0,0.0,0.0,0.0,0.0,0.0,0.0,0.0,0.0,0.0,0.0,0.0,0.0,0.0,1.0,0.0,0.0,0.0,0.0,0.0,0.0,0.0,1.0,0.0,0.0,0.0,1.0,0.0,0.0,1.0,0.0,0.0,0.0,0.0,0.0,0.0,0.0,0.0,1.0,0.0,0.0,0.0,0.0,0.0,0.0,0.0,0.0,0.0,1.0,0.0,0.0,0.0,0.0,0.0,0.0,0.0,0.0,0.0,1.0,0.0,0.0,0.0,0.0,0.0,0.0,0.0,0.0,0.0,0.0,0.0,0.0,1.0,0.0,0.0,1.0,0.0,0.0,1.0,0.0,1.0,0.0,0.0,1.0,0.0,1.0,0.0,0.0,0.0,0.0,0.0,1.0,0.0,1.0,0.0,0.0,0.0,0.0,0.0,0.0,0.0,0.0,0.0,0.0,0.0,0.0,0.0,0.0,0.0,0.0,0.0,0.0,1.0,0.0,0.0,0.0,1.0,0.0,0.0,0.0,0.0,0.0,0.0,1.0,0.0,0.0,0.0,0.0,0.0,0.0,1.0,0.0,1.0,0.0,0.0,0.0,0.0,1.0,0.0,0.0,0.0,0.0,0.0,0.0,0.0,0.0,0.0,0.0,0.0,0.0,0.0,0.0,0.0,0.0,0.0,0.0,1.0,0.0,1.0,0.0,0.0,1.0,0.0,0.0,0.0,0.0,0.0,0.0,1.0,0.0,0.0,0.0,1.0,0.0,0.0,0.0,0.0,0.0,0.0,0.0,0.0,0.0,1.0,0.0,0.0,0.0,0.0,1.0,0.0,0.0,0.0,0.0,0.0,0.0,0.0,0.0,1.0,0.0,1.0,1.0,0.0,0.0,1.0,0.0,0.0,0.0,1.0,1.0,0.0,0.0,0.0,0.0,0.0,0.0,0.0,1.0,1.0,0.0,0.0,0.0,0.0,1.0,1.0,0.0,0.0,0.0,0.0,0.0,0.0,1.0,1.0,0.0,0.0,1.0,1.0,0.0,0.0,0.0,0.0,1.0,0.0,0.0,0.0,0.0,0.0,0.0,0.0,0.0,0.0,0.0,0.0,0.0,1.0,0.0,0.0,1.0,0.0,0.0,0.0,0.0,0.0,0.0,1.0,0.0,0.0,0.0,1.0,0.0,0.0,0.0,0.0,1.0,0.0,0.0,1.0,0.0,0.0,0.0,0.0,1.0,1.0,0.0,1.0,0.0,0.0,0.0,1.0,0.0,0.0,1.0,0.0,0.0,0.0,0.0,0.0,0.0,0.0,0.0,0.0,0.0,0.0,0.0,0.0,0.0,1.0,0.0,0.0,0.0,1.0,0.0,0.0,1.0,0.0,0.0,0.0,0.0,1.0,0.0,0.0,0.0,0.0,1.0,0.0,0.0,0.0,0.0,0.0,0.0,0.0,0.0,0.0,0.0,0.0,0.0,0.0,0.0,1.0,0.0,0.0,0.0,0.0,1.0,0.0,0.0,1.0,0.0,0.0,0.0,0.0,0.0,0.0,1.0,0.0,1.0,0.0,0.0,0.0,0.0,0.0,0.0,1.0,0.0,0.0,1.0,0.0,0.0,0.0,1.0,0.0,0.0,0.0,1.0,0.0,0.0,0.0,0.0,1.0,0.0,0.0,0.0,0.0,1.0,0.0,0.0,0.0,0.0,0.0,0.0,0.0,0.0,0.0,0.0,0.0,0.0,0.0,0.0,0.0,0.0,0.0,1.0,0.0,0.0,0.0,1.0,0.0,0.0,0.0,0.0,0.0,0.0,1.0,0.0,0.0,0.0,1.0,0.0,0.0,0.0,0.0,0.0,0.0,0.0,0.0,0.0,0.0,0.0,1.0,0.0,0.0,0.0,0.0,1.0,0.0,0.0,0.0,1.0,0.0,0.0,0.0,0.0,0.0,0.0,0.0,0.0,0.0,0.0,0.0,0.0,1.0,0.0,1.0,1.0,1.0,0.0,0.0,0.0,0.0,0.0,0.0,0.0,0.0,0.0,0.0,1.0,0.0,1.0,0.0,0.0,0.0,0.0,0.0,0.0,0.0,0.0,0.0,0.0,0.0,0.0,0.0,0.0,0.0,0.0,0.0,0.0,0.0,0.0,0.0,0.0,1.0,0.0,0.0,0.0,0.0,1.0,0.0,1.0,0.0,0.0,0.0,1.0,0.0,0.0,0.0,0.0,0.0,1.0,0.0,0.0,0.0,0.0,0.0,0.0,0.0,0.0,0.0,1.0,0.0,0.0,0.0,0.0,1.0,1.0,0.0,0.0,0.0,0.0,0.0,0.0,0.0,0.0,0.0,0.0,0.0,0.0,0.0,1.0,0.0,0.0,0.0,0.0,0.0,0.0,0.0,1.0,0.0,0.0,0.0,0.0,0.0,0.0,0.0,0.0,1.0,1.0,0.0,0.0,1.0,0.0,0.0,0.0,0.0,0.0,0.0,0.0,0.0,0.0,0.0,0.0,0.0,0.0,0.0,0.0,0.0,0.0,0.0,0.0,0.0,0.0,0.0,0.0,0.0,0.0,0.0,0.0,0.0,0.0,0.0,0.0,1.0,0.0,0.0,1.0,0.0,0.0,1.0,0.0,0.0,0.0,0.0,0.0,0.0,1.0,0.0,0.0,0.0,0.0,1.0,1.0,0.0,1.0,0.0,1.0,0.0,0.0,1.0,0.0,0.0,1.0,0.0,0.0,0.0,0.0,0.0,0.0,1.0,0.0,0.0,0.0,0.0,0.0,0.0,1.0,0.0,0.0,0.0,0.0,0.0,0.0,0.0,1.0,0.0,0.0,0.0,0.0,0.0,0.0,0.0,0.0,0.0,1.0,0.0,0.0,0.0,0.0,0.0,0.0,0.0,0.0,0.0,1.0,0.0,1.0,0.0,1.0,0.0,0.0,0.0,0.0,0.0,0.0,0.0,0.0,0.0,0.0,0.0,0.0,0.0,0.0,0.0,1.0,0.0,0.0,0.0,0.0,0.0,1.0,0.0,0.0,0.0,0.0,0.0,0.0,0.0,0.0,0.0,0.0,0.0,0.0,0.0,0.0,1.0,0.0,0.0,0.0,0.0,0.0,0.0,0.0,0.0,0.0,0.0,0.0,0.0,0.0,0.0,0.0,1.0,0.0,0.0,0.0,0.0,0.0,0.0,0.0,0.0,0.0,0.0,0.0,1.0,1.0,1.0,0.0,0.0,0.0,0.0,0.0,0.0,0.0,1.0,1.0,1.0,0.0,1.0,0.0,0.0,1.0,0.0,0.0,0.0,0.0,0.0,0.0,1.0,0.0,0.0,0.0,0.0,0.0,0.0,0.0,0.0,0.0,0.0,0.0,1.0,0.0,0.0,0.0,0.0,1.0,0.0,0.0,0.0,0.0,0.0,0.0,0.0,0.0,0.0,0.0,0.0,0.0,0.0,1.0,0.0,0.0,0.0,0.0,1.0,0.0,1.0,0.0,1.0,0.0,0.0,0.0,0.0,0.0,0.0,0.0,0.0,0.0,0.0,0.0,0.0,0.0,0.0,0.0,0.0,1.0,0.0,0.0,0.0,0.0,0.0,0.0,0.0,0.0,0.0,0.0,0.0,0.0,1.0,0.0,1.0,0.0,1.0,1.0,0.0,1.0,1.0,0.0,0.0,0.0,0.0,0.0,1.0,0.0,0.0,0.0,0.0,0.0,0.0,1.0,0.0,0.0,0.0,1.0,0.0,0.0,0.0,0.0,0.0,0.0,0.0,0.0,0.0,0.0,0.0,0.0,0.0,0.0,0.0,0.0,0.0,0.0,1.0,0.0,0.0,1.0,1.0,0.0,1.0,0.0,0.0,1.0,0.0,0.0,0.0,0.0,1.0,0.0,0.0,0.0,0.0,1.0,0.0,0.0,0.0,1.0,0.0,0.0,0.0,0.0,0.0,1.0,1.0,0.0,0.0,0.0,0.0,0.0,1.0,0.0,0.0,1.0,0.0,0.0,0.0,0.0,0.0,0.0,0.0,0.0,1.0,0.0,0.0,0.0,0.0,1.0,0.0,0.0,0.0,0.0,1.0,0.0,0.0,0.0,1.0,0.0,0.0,0.0,1.0,0.0,1.0,0.0,0.0,0.0,1.0,1.0,0.0,1.0,0.0,0.0,0.0,0.0,0.0,0.0,0.0,0.0,1.0,0.0,0.0,0.0,0.0,0.0,0.0,0.0,0.0,0.0,0.0,0.0,0.0,0.0,0.0,0.0,1.0,0.0,1.0,0.0,0.0,0.0,1.0,0.0,0.0,0.0,0.0,0.0,1.0,0.0,0.0,0.0,0.0,0.0,0.0,0.0,0.0,1.0,0.0,0.0,0.0,0.0,0.0,0.0,0.0,0.0,0.0,1.0,1.0,1.0,0.0,0.0,1.0,1.0,0.0,0.0,0.0,0.0,0.0,0.0,0.0,0.0,0.0,0.0,0.0,0.0,0.0,0.0,0.0,0.0,0.0,1.0,0.0,0.0,0.0,0.0,0.0,0.0,0.0,0.0,0.0,0.0,0.0,0.0,0.0,0.0,0.0,0.0,1.0,0.0,0.0,0.0,1.0,0.0,0.0,0.0,1.0,0.0,0.0,0.0,0.0,0.0,0.0,0.0,0.0,0.0,1.0,0.0,0.0,0.0,0.0,0.0,1.0,0.0,0.0,0.0,0.0,0.0,1.0,1.0,0.0,1.0,0.0,0.0,0.0,1.0,0.0,1.0,0.0,1.0,0.0,0.0,1.0,0.0,0.0,0.0,1.0,1.0,1.0,0.0,0.0,0.0,0.0,0.0,0.0,0.0,0.0,0.0,0.0,0.0,1.0,0.0,0.0,1.0,0.0,0.0,0.0,0.0,0.0,0.0,1.0,0.0,0.0,0.0,1.0,0.0,0.0,0.0,0.0,0.0,0.0,1.0,1.0,0.0,0.0,0.0,0.0,0.0,0.0,1.0,0.0,0.0,0.0,0.0,0.0,1.0,0.0,0.0,0.0,1.0,1.0,0.0,0.0,0.0,0.0,0.0,1.0,0.0,0.0,0.0,0.0,1.0,0.0,0.0,0.0],\"xaxis\":\"x\",\"xbingroup\":\"x\",\"y\":[2.0,5.0,2.0,3.0,6.0,3.0,4.0,1.0,4.0,1.0,1.0,1.0,3.0,3.0,2.0,2.0,2.0,3.0,3.0,4.0,4.0,3.0,0.0,4.0,4.0,1.0,3.0,1.0,2.0,2.0,3.0,4.0,5.0,4.0,1.0,1.0,2.0,6.0,1.0,0.0,5.0,4.0,1.0,1.0,2.0,1.0,2.0,2.0,1.0,1.0,2.0,4.0,11.0,3.0,3.0,2.0,2.0,4.0,4.0,2.0,3.0,3.0,2.0,2.0,2.0,3.0,3.0,9.0,4.0,1.0,0.0,2.0,0.0,3.0,4.0,8.0,5.0,1.0,4.0,4.0,2.0,2.0,2.0,2.0,2.0,3.0,2.0,2.0,4.0,4.0,2.0,1.0,4.0,5.0,1.0,2.0,3.0,5.0,11.0,8.0,1.0,1.0,4.0,1.0,5.0,3.0,2.0,3.0,2.0,2.0,1.0,2.0,5.0,2.0,2.0,6.0,1.0,4.0,2.0,0.0,1.0,3.0,4.0,3.0,6.0,2.0,3.0,7.0,4.0,1.0,2.0,3.0,2.0,5.0,5.0,2.0,2.0,5.0,1.0,3.0,1.0,4.0,5.0,2.0,2.0,3.0,4.0,2.0,1.0,6.0,3.0,2.0,1.0,2.0,0.0,1.0,1.0,4.0,1.0,4.0,3.0,6.0,2.0,3.0,2.0,4.0,5.0,1.0,3.0,2.0,2.0,5.0,3.0,2.0,5.0,3.0,2.0,8.0,3.0,5.0,4.0,4.0,4.0,2.0,4.0,1.0,5.0,1.0,2.0,5.0,2.0,2.0,5.0,1.0,1.0,3.0,1.0,1.0,3.0,4.0,5.0,1.0,3.0,3.0,2.0,6.0,2.0,1.0,3.0,2.0,8.0,2.0,1.0,2.0,2.0,2.0,11.0,1.0,1.0,4.0,2.0,2.0,3.0,1.0,3.0,2.0,7.0,1.0,4.0,2.0,0.0,2.0,2.0,4.0,1.0,2.0,3.0,5.0,2.0,2.0,2.0,3.0,2.0,2.0,2.0,2.0,5.0,2.0,3.0,3.0,1.0,6.0,2.0,3.0,2.0,6.0,5.0,7.0,2.0,1.0,3.0,7.0,6.0,1.0,4.0,4.0,2.0,2.0,3.0,2.0,3.0,4.0,1.0,3.0,6.0,0.0,4.0,3.0,3.0,3.0,5.0,3.0,6.0,3.0,3.0,1.0,2.0,3.0,1.0,2.0,1.0,9.0,4.0,1.0,1.0,0.0,3.0,4.0,1.0,1.0,1.0,1.0,2.0,2.0,3.0,1.0,8.0,7.0,2.0,3.0,5.0,1.0,1.0,2.0,2.0,4.0,2.0,6.0,3.0,5.0,6.0,1.0,7.0,2.0,4.0,0.0,3.0,2.0,1.0,5.0,1.0,2.0,1.0,3.0,2.0,4.0,3.0,3.0,4.0,2.0,3.0,2.0,4.0,2.0,2.0,2.0,9.0,3.0,3.0,2.0,1.0,5.0,2.0,4.0,2.0,4.0,2.0,1.0,5.0,2.0,1.0,4.0,3.0,2.0,11.0,1.0,3.0,4.0,0.0,2.0,1.0,3.0,6.0,2.0,1.0,1.0,3.0,1.0,2.0,1.0,2.0,3.0,3.0,5.0,4.0,1.0,3.0,5.0,2.0,6.0,6.0,1.0,4.0,7.0,8.0,1.0,3.0,2.0,4.0,3.0,2.0,4.0,5.0,3.0,2.0,4.0,0.0,1.0,2.0,2.0,8.0,3.0,2.0,3.0,1.0,4.0,4.0,1.0,3.0,4.0,4.0,5.0,4.0,4.0,4.0,2.0,3.0,4.0,2.0,1.0,3.0,6.0,3.0,15.0,3.0,3.0,1.0,3.0,2.0,2.0,5.0,2.0,3.0,2.0,3.0,0.0,3.0,10.0,2.0,3.0,2.0,1.0,2.0,2.0,3.0,1.0,2.0,4.0,5.0,1.0,5.0,2.0,4.0,4.0,3.0,1.0,2.0,2.0,4.0,4.0,1.0,6.0,5.0,6.0,2.0,2.0,2.0,1.0,2.0,1.0,2.0,2.0,2.0,6.0,3.0,5.0,6.0,4.0,2.0,2.0,2.0,2.0,3.0,1.0,4.0,3.0,2.0,2.0,4.0,2.0,1.0,3.0,3.0,1.0,1.0,3.0,3.0,2.0,0.0,2.0,2.0,4.0,1.0,0.0,3.0,2.0,7.0,5.0,1.0,4.0,3.0,2.0,4.0,5.0,2.0,0.0,1.0,6.0,3.0,5.0,3.0,2.0,5.0,1.0,3.0,7.0,4.0,2.0,4.0,4.0,3.0,2.0,3.0,1.0,0.0,1.0,1.0,3.0,1.0,1.0,4.0,1.0,4.0,12.0,3.0,2.0,3.0,1.0,2.0,4.0,3.0,3.0,4.0,2.0,0.0,3.0,6.0,1.0,7.0,4.0,4.0,2.0,7.0,2.0,1.0,2.0,1.0,4.0,3.0,2.0,2.0,2.0,5.0,4.0,3.0,2.0,1.0,7.0,2.0,1.0,1.0,4.0,3.0,2.0,4.0,11.0,2.0,2.0,1.0,2.0,5.0,7.0,6.0,2.0,2.0,2.0,1.0,4.0,2.0,3.0,1.0,2.0,2.0,2.0,3.0,4.0,7.0,4.0,1.0,1.0,4.0,5.0,5.0,6.0,3.0,2.0,1.0,1.0,4.0,2.0,2.0,4.0,1.0,3.0,3.0,1.0,5.0,2.0,2.0,3.0,4.0,2.0,1.0,3.0,4.0,3.0,4.0,3.0,2.0,6.0,4.0,2.0,4.0,1.0,3.0,0.0,2.0,4.0,5.0,5.0,4.0,3.0,1.0,2.0,6.0,2.0,2.0,4.0,2.0,5.0,4.0,2.0,3.0,3.0,2.0,1.0,5.0,3.0,6.0,1.0,3.0,1.0,3.0,3.0,1.0,7.0,3.0,4.0,3.0,2.0,9.0,3.0,3.0,4.0,9.0,0.0,2.0,9.0,2.0,4.0,1.0,10.0,4.0,2.0,3.0,5.0,4.0,2.0,2.0,1.0,3.0,1.0,5.0,5.0,4.0,3.0,4.0,3.0,4.0,2.0,4.0,2.0,9.0,4.0,3.0,4.0,5.0,1.0,1.0,2.0,4.0,4.0,2.0,2.0,2.0,2.0,4.0,4.0,3.0,2.0,4.0,5.0,2.0,3.0,3.0,1.0,3.0,5.0,2.0,4.0,2.0,4.0,3.0,3.0,4.0,1.0,7.0,2.0,1.0,2.0,2.0,1.0,2.0,2.0,2.0,3.0,4.0,6.0,3.0,4.0,1.0,2.0,4.0,2.0,1.0,3.0,6.0,0.0,6.0,2.0,0.0,2.0,3.0,2.0,4.0,3.0,2.0,5.0,6.0,3.0,5.0,1.0,7.0,3.0,1.0,6.0,5.0,2.0,3.0,1.0,3.0,3.0,1.0,6.0,4.0,4.0,3.0,3.0,2.0,2.0,4.0,4.0,1.0,9.0,2.0,7.0,4.0,2.0,5.0,6.0,2.0,2.0,3.0,2.0,1.0,6.0,5.0,5.0,1.0,3.0,1.0,4.0,5.0,2.0,4.0,2.0,2.0,2.0,5.0,2.0,2.0,2.0,2.0,4.0,1.0,2.0,2.0,2.0,1.0,1.0,3.0,5.0,4.0,3.0,1.0,3.0,6.0,5.0,2.0,4.0,2.0,1.0,5.0,1.0,5.0,4.0,2.0,11.0,4.0,1.0,10.0,4.0,3.0,10.0,2.0,8.0,3.0,4.0,6.0,3.0,2.0,2.0,1.0,2.0,2.0,4.0,1.0,1.0,4.0,3.0,4.0,1.0,3.0,8.0,0.0,1.0,2.0,4.0,2.0,3.0,3.0,1.0,2.0,3.0,4.0,1.0,2.0,10.0,4.0,2.0,4.0,4.0,2.0,2.0,1.0,1.0,2.0,5.0,3.0,2.0,3.0,3.0,2.0,1.0,2.0,3.0,6.0,7.0,7.0,1.0,6.0,1.0,1.0,7.0,1.0,1.0,1.0,21.0,3.0,5.0,1.0,0.0,5.0,2.0,4.0,2.0,5.0,7.0,3.0,2.0,2.0,2.0,7.0,3.0,5.0,3.0,1.0,4.0,2.0,8.0,4.0,4.0,6.0,2.0,4.0,3.0,3.0,0.0,4.0,4.0,1.0,2.0,3.0,2.0,6.0,2.0,2.0,3.0,3.0,3.0,4.0,2.0,7.0,2.0,3.0,1.0,3.0,5.0,1.0,2.0,1.0,9.0,2.0,2.0,3.0,2.0,4.0,4.0,3.0,3.0,2.0,7.0,2.0,3.0,2.0,3.0,3.0,2.0,3.0,3.0,5.0,1.0,4.0,4.0,4.0,3.0,2.0,1.0,2.0,4.0,3.0,1.0,2.0,1.0,1.0,2.0,8.0,1.0,5.0,2.0,3.0,4.0,2.0,2.0,1.0,3.0,2.0,7.0,1.0,3.0,2.0,2.0,1.0,2.0,3.0,3.0,6.0,2.0,3.0,1.0,1.0,1.0,3.0,1.0,4.0,11.0,3.0,1.0,2.0,4.0,2.0,6.0,6.0,2.0,2.0,1.0,4.0,1.0,1.0,2.0,3.0,4.0,2.0,1.0,3.0,2.0,2.0,1.0,2.0,4.0,2.0,4.0,7.0,5.0,3.0,3.0,3.0,3.0,4.0,6.0,2.0,1.0,3.0,4.0,6.0,2.0,1.0,4.0,2.0,0.0,3.0,2.0,2.0,2.0,4.0,1.0,7.0,4.0,3.0,4.0,6.0,3.0,5.0,3.0,3.0,6.0,2.0,2.0,4.0,5.0,4.0,3.0,3.0,2.0,1.0,1.0,1.0,0.0,10.0,3.0,2.0,2.0,1.0,12.0,4.0,9.0,1.0,5.0,4.0,6.0,1.0,2.0,1.0,1.0,1.0,1.0,1.0,10.0,2.0,5.0,3.0,6.0,2.0,1.0,4.0,3.0,7.0,6.0,2.0,3.0,4.0,3.0,3.0,4.0,2.0,3.0,3.0,2.0,2.0,2.0,3.0,6.0,2.0,3.0,2.0,1.0,1.0,3.0,2.0,1.0,2.0,3.0,4.0,2.0,2.0,9.0,4.0,4.0,2.0,2.0,0.0,2.0,1.0,0.0,5.0,2.0,2.0,2.0,1.0,6.0,3.0,2.0,7.0,1.0,2.0,3.0,1.0,5.0,2.0,6.0,3.0,6.0,8.0,2.0,4.0,3.0,2.0,3.0,6.0,4.0,2.0,2.0,2.0,3.0,5.0,0.0,1.0,3.0,1.0,2.0,3.0,1.0,5.0,1.0,5.0,4.0,5.0,4.0,5.0,4.0,2.0,4.0,4.0,2.0,3.0,2.0,8.0,3.0,2.0,1.0,6.0,0.0,3.0,5.0,0.0,4.0,3.0,7.0,3.0,1.0,1.0,10.0,1.0,6.0,4.0,2.0,4.0,2.0,2.0,9.0,2.0,3.0,2.0,9.0,3.0,5.0,15.0,2.0,1.0,10.0,7.0,4.0,1.0,2.0,1.0,3.0,1.0,0.0,10.0,1.0,4.0,3.0,2.0,4.0,7.0,7.0,4.0,3.0,4.0,3.0,6.0,0.0,3.0,1.0,4.0,2.0,3.0,1.0,5.0,1.0,3.0,3.0,12.0,3.0,2.0,4.0,3.0,4.0,6.0,3.0,6.0,7.0,1.0,1.0,1.0,2.0,3.0,4.0,3.0,3.0,7.0,2.0,1.0,2.0,1.0,9.0,5.0,2.0,3.0,1.0,2.0,5.0,5.0,8.0,7.0,2.0,2.0,1.0,2.0,1.0,2.0,7.0,5.0,1.0,1.0,9.0,2.0,2.0,3.0,8.0,3.0,2.0,7.0,6.0,2.0,5.0,3.0,2.0,3.0,2.0,1.0,6.0,6.0,2.0,1.0,5.0,3.0,2.0,3.0,0.0,1.0,2.0,10.0,1.0,3.0,3.0,6.0,3.0,3.0,1.0,4.0,1.0,2.0,5.0,2.0,4.0,5.0,10.0,5.0,6.0,1.0,2.0,1.0,4.0,6.0,2.0,3.0,1.0,10.0,3.0,5.0,4.0,2.0,4.0,3.0,2.0,1.0,3.0,1.0,2.0,1.0,2.0,3.0,1.0,2.0,3.0,2.0,5.0,1.0,1.0,4.0,3.0,1.0,6.0,2.0,3.0,4.0,2.0,3.0,1.0,1.0,4.0,1.0,6.0,3.0,4.0,4.0,8.0,1.0,2.0,6.0,1.0,2.0,3.0,7.0,1.0,7.0,6.0,4.0,4.0,2.0,4.0,1.0,3.0,2.0,6.0,4.0,5.0,4.0,4.0,9.0,4.0,5.0,4.0,1.0,4.0,5.0,2.0,8.0,3.0,1.0,2.0,4.0,1.0,3.0,2.0,2.0,4.0,1.0,0.0,3.0,1.0,5.0,2.0,5.0,0.0,3.0,4.0,2.0,1.0,1.0,1.0,2.0,4.0,14.0,2.0,5.0,1.0,4.0,5.0,8.0,2.0,2.0,6.0,4.0,3.0,4.0,3.0,8.0,1.0,5.0,2.0,2.0,1.0,4.0,1.0,7.0,4.0,4.0,2.0,3.0,2.0,2.0,2.0,1.0,7.0,2.0,2.0,1.0,1.0,4.0,5.0,2.0,2.0,3.0,4.0,3.0,7.0,6.0,7.0,1.0,0.0,2.0,1.0,2.0,5.0,6.0,3.0,4.0,4.0,6.0,1.0,2.0,2.0,1.0,1.0,1.0,1.0,4.0,5.0,5.0,1.0,4.0,2.0,2.0,4.0,6.0,2.0,1.0,2.0,3.0,2.0,3.0,6.0,2.0,1.0,6.0,3.0,3.0,1.0,3.0,2.0,1.0,12.0,3.0,2.0,3.0,2.0,5.0,1.0,1.0,2.0,17.0,2.0,2.0,3.0,3.0,3.0,2.0,1.0,2.0,3.0,5.0,5.0,5.0,2.0,1.0,1.0,3.0,0.0,1.0,5.0,3.0,4.0,5.0,3.0,7.0,3.0,2.0,3.0,2.0,1.0,2.0,1.0,4.0,6.0,5.0,1.0,3.0,3.0,8.0,3.0,3.0,1.0,2.0,4.0,6.0,1.0,1.0,7.0,2.0,8.0,3.0,3.0,7.0,4.0,3.0,2.0,1.0,3.0,4.0,4.0,4.0,2.0,2.0,5.0,1.0,4.0,2.0,3.0,6.0,2.0,12.0,3.0,2.0,5.0,1.0,2.0,1.0,3.0,0.0,4.0,3.0,5.0,5.0,3.0,3.0,4.0,4.0,2.0,4.0,3.0,3.0,2.0,4.0,4.0,2.0,7.0,1.0,4.0,3.0,3.0,1.0,3.0,2.0,1.0,3.0,5.0,5.0,6.0,4.0,1.0,1.0,3.0,3.0,2.0,3.0,7.0,2.0,1.0,2.0,1.0,7.0,2.0,1.0,1.0,4.0,2.0,1.0,4.0,5.0,2.0,2.0,1.0,2.0,2.0,2.0,1.0,1.0,2.0,1.0,5.0,1.0,5.0,2.0,1.0,3.0,4.0,1.0,2.0,2.0,4.0,5.0,3.0,1.0,9.0,5.0,6.0,2.0,3.0,2.0,1.0,2.0,4.0,3.0,4.0,4.0,1.0,29.0,2.0,3.0,1.0,1.0,6.0,5.0,2.0,1.0,7.0,3.0,3.0,2.0,2.0,3.0,9.0,9.0,6.0,1.0,3.0,3.0,10.0,4.0,6.0,3.0,3.0,2.0,2.0,3.0,3.0,3.0,2.0,0.0,2.0,5.0,1.0,6.0,2.0,10.0,2.0,3.0,3.0,1.0,1.0,1.0,3.0,3.0,1.0,2.0,2.0,2.0,2.0,2.0,3.0,3.0,2.0,3.0,5.0,3.0,3.0,7.0,3.0,6.0,2.0,4.0,4.0,5.0,3.0,7.0,2.0,4.0,1.0,6.0,7.0,2.0,5.0,4.0,6.0,0.0,5.0,4.0,1.0,1.0,4.0,3.0,5.0,2.0,3.0,6.0,2.0,4.0,2.0,2.0,0.0,4.0,1.0,4.0,2.0,5.0,2.0,1.0,1.0,2.0,3.0,1.0,8.0,2.0,3.0,1.0,1.0,3.0,2.0,2.0,1.0,2.0,2.0,2.0,1.0,3.0,2.0,4.0,8.0,3.0,4.0,3.0,3.0,3.0,1.0,2.0,4.0,4.0,3.0,5.0,1.0,0.0,4.0,4.0,4.0,4.0,2.0,5.0,1.0,2.0,3.0,4.0,1.0,3.0,1.0,4.0,4.0,5.0,1.0,2.0,2.0,6.0,1.0,8.0,3.0,1.0,1.0,2.0,2.0,2.0,2.0,3.0,1.0,5.0,2.0,3.0,1.0,1.0,2.0,3.0,2.0,3.0,1.0,5.0,1.0,3.0,5.0,12.0,2.0,2.0,1.0,6.0,4.0,3.0,1.0,4.0,4.0,3.0,1.0,4.0,2.0,2.0,2.0,3.0,1.0,3.0,2.0,2.0,3.0,10.0,3.0,9.0,3.0,3.0,7.0,4.0,2.0,2.0,1.0,0.0,4.0,2.0,1.0,2.0,1.0,2.0,4.0,2.0,2.0,2.0,2.0,3.0,3.0,1.0,2.0,2.0,3.0,2.0,3.0,3.0,5.0,1.0,3.0,5.0,3.0,4.0,5.0,2.0,4.0,3.0,1.0,2.0,4.0,4.0,3.0,4.0,3.0,2.0,4.0,3.0,4.0,6.0,2.0,7.0,1.0,1.0,2.0,5.0,2.0,1.0,1.0,2.0,5.0,6.0,4.0,4.0,5.0,5.0,1.0,1.0,4.0,4.0,2.0,1.0,3.0,3.0,2.0,1.0,8.0,4.0,4.0,1.0,1.0,1.0,7.0,2.0,6.0,3.0,3.0,1.0,3.0,0.0,2.0,3.0,1.0,1.0,3.0,1.0,0.0,4.0,0.0,0.0,2.0,2.0,5.0,2.0,7.0,5.0,5.0,3.0,4.0,5.0,2.0,3.0,1.0,3.0,1.0,2.0,4.0,0.0,8.0,5.0,4.0,3.0,3.0,2.0,7.0,3.0,1.0,2.0,1.0,1.0,7.0,1.0,0.0,2.0,1.0,2.0,1.0,1.0,2.0,2.0,2.0,1.0,5.0,2.0,1.0,2.0,2.0,12.0,4.0,8.0,2.0,2.0,2.0,2.0,2.0,6.0,1.0,1.0,0.0,1.0,3.0,9.0,2.0,3.0,4.0,2.0,4.0,1.0,10.0,3.0,4.0,4.0,4.0,2.0,2.0,4.0,4.0,4.0,2.0,5.0,3.0,4.0,2.0,3.0,2.0,1.0,2.0,2.0,3.0,1.0,1.0,3.0,3.0,1.0,4.0,2.0,1.0,1.0,3.0,4.0,1.0,6.0,3.0,2.0,2.0,7.0,3.0,5.0,1.0,2.0,5.0,4.0,2.0,0.0,3.0,1.0,1.0,1.0,2.0,2.0,2.0,3.0,6.0,4.0,2.0,2.0,1.0,4.0,2.0,2.0,3.0,3.0,2.0,4.0,2.0,2.0,3.0,2.0,7.0,6.0,3.0,4.0,3.0,4.0,3.0,3.0,8.0,2.0,1.0,2.0,4.0,2.0,3.0,1.0,2.0,2.0,1.0,2.0,3.0,2.0,2.0,5.0,1.0,3.0,1.0,2.0,2.0,4.0,2.0,2.0,2.0,2.0,3.0,4.0,5.0,3.0,3.0,1.0,1.0,1.0,1.0,6.0,2.0,3.0,2.0,4.0,6.0,2.0,4.0,4.0,1.0,1.0,2.0,4.0,6.0,3.0,2.0,6.0,3.0,3.0,2.0,1.0,11.0,2.0,1.0,3.0,1.0,2.0,1.0,5.0,3.0,5.0,2.0,2.0,1.0,4.0,6.0,2.0,5.0,2.0,3.0,2.0,1.0,1.0,4.0,2.0,1.0,1.0,2.0,0.0,1.0,2.0,1.0,3.0,3.0,1.0,4.0,3.0,3.0,2.0,5.0,3.0,3.0,3.0,7.0,1.0,2.0,2.0,3.0,4.0,4.0,4.0,3.0,2.0,1.0,4.0,3.0,2.0,2.0,2.0,0.0,4.0,1.0,2.0,9.0,0.0,3.0,4.0,2.0,4.0,2.0,3.0,2.0,4.0,4.0,1.0,5.0,2.0,3.0,1.0,1.0,5.0,5.0,3.0,2.0,1.0,2.0,6.0,2.0,1.0,3.0,3.0,1.0,1.0,2.0,2.0,4.0,3.0,3.0,3.0,3.0,2.0,2.0,2.0,1.0,5.0,3.0,2.0,1.0,2.0,2.0,2.0,3.0,1.0,1.0,3.0,3.0,4.0,2.0,4.0,1.0,4.0,1.0,3.0,3.0,1.0,3.0,1.0,3.0,3.0,2.0,1.0,5.0,3.0,2.0,1.0,2.0,3.0,2.0,5.0,3.0,3.0,1.0,5.0,9.0,1.0,1.0,3.0,3.0,5.0,5.0,5.0,1.0,6.0,0.0,2.0,4.0,3.0,5.0,2.0,2.0,6.0,2.0,2.0,2.0,1.0,8.0,3.0,2.0,3.0,2.0,3.0,2.0,2.0,4.0,1.0,2.0,3.0,2.0,1.0,2.0,2.0,8.0,5.0,3.0,3.0,1.0,0.0,1.0,2.0,3.0,2.0,1.0,4.0,5.0,1.0,2.0,1.0,4.0,1.0,4.0,4.0,3.0,15.0,2.0,3.0,1.0,2.0,3.0,6.0,1.0,3.0,1.0,3.0,1.0,5.0,1.0,2.0,1.0,3.0,3.0,1.0,3.0,7.0,6.0,3.0,1.0,6.0,3.0,4.0,3.0,1.0,11.0,3.0,1.0,4.0,3.0,4.0,2.0,1.0,1.0,3.0,3.0,2.0,2.0,3.0,8.0,4.0,5.0,1.0,3.0,3.0,7.0,9.0,4.0,1.0,2.0,2.0,3.0,3.0,1.0,3.0,1.0,4.0,2.0,1.0,4.0,1.0,1.0,4.0,5.0,7.0,3.0,1.0,3.0,2.0,4.0,1.0,2.0,3.0,4.0,6.0,5.0,4.0,2.0,14.0,3.0,3.0,5.0,7.0,3.0,5.0,4.0,0.0,2.0,3.0,1.0,3.0,2.0,5.0,3.0,4.0,1.0,2.0,5.0,3.0,1.0,1.0,2.0,3.0,4.0,8.0,2.0,1.0,1.0,2.0,1.0,2.0,5.0,0.0,3.0,1.0,3.0,0.0,3.0,6.0,1.0,2.0,2.0,3.0,6.0,2.0,3.0,1.0,6.0,0.0,4.0,1.0,2.0,1.0,6.0,5.0,4.0,2.0,4.0,4.0,1.0,3.0,3.0,1.0,3.0,2.0,2.0,1.0,2.0,5.0,1.0,7.0,1.0,3.0,4.0,1.0,7.0,1.0,3.0,11.0,1.0,3.0,7.0,3.0,4.0,1.0,4.0,1.0,4.0,0.0,2.0,1.0,4.0,3.0,2.0,2.0,1.0,1.0,8.0,2.0,3.0,1.0,1.0,1.0,3.0,2.0,2.0,3.0,8.0,1.0,1.0,2.0,4.0,6.0,10.0,2.0,1.0,4.0,3.0,3.0,6.0,3.0,2.0,3.0,3.0,3.0,9.0,4.0,2.0,2.0,8.0,5.0,2.0,2.0,4.0,1.0,2.0,1.0,7.0,1.0,3.0,7.0,4.0,3.0,4.0,10.0,1.0,11.0,4.0,4.0,4.0,3.0,1.0,5.0,2.0,2.0,7.0,7.0,5.0,4.0,0.0,3.0,4.0,1.0,5.0,1.0,1.0,3.0,3.0,2.0,2.0,2.0,3.0,1.0,2.0,3.0,1.0,2.0,6.0,2.0,5.0,2.0,3.0,2.0,1.0,3.0,7.0,2.0,1.0,7.0,2.0,3.0,2.0,2.0,0.0,1.0,1.0,3.0,5.0,4.0,2.0,2.0,4.0,3.0,10.0,3.0,8.0,1.0,4.0,1.0,1.0,6.0,1.0,2.0,2.0,3.0,2.0,0.0,2.0,4.0,4.0,4.0,3.0,4.0,2.0,2.0,2.0,1.0,2.0,4.0,2.0,2.0,7.0,1.0,4.0,2.0,8.0,2.0,1.0,1.0,9.0,3.0,4.0,6.0,3.0,0.0,4.0,2.0,1.0,4.0,2.0,4.0,1.0,1.0,3.0,2.0,2.0,5.0,1.0,5.0,6.0,2.0,1.0,2.0,3.0,4.0,1.0,2.0,10.0,3.0,3.0,2.0,2.0,4.0,4.0,14.0,4.0,3.0,1.0,3.0,4.0,3.0,0.0,5.0,6.0,7.0,3.0,2.0,1.0,6.0,4.0,1.0,3.0,2.0,3.0,4.0,2.0,2.0,7.0,5.0,1.0,2.0,1.0,1.0,4.0,1.0,3.0,7.0,2.0,2.0,6.0,1.0,2.0,1.0,2.0,4.0,2.0,3.0,1.0,4.0,2.0,2.0,5.0,4.0,0.0,8.0,2.0,4.0,3.0,3.0,1.0,7.0,2.0,1.0,1.0,6.0,3.0,3.0,3.0,3.0,3.0,2.0,4.0,1.0,2.0,1.0,2.0,2.0,1.0,5.0,2.0,2.0,2.0,3.0,1.0,4.0,2.0,1.0,2.0,3.0,5.0,7.0,4.0,4.0,1.0,7.0,1.0,5.0,5.0,1.0,3.0,2.0,0.0,3.0,5.0,4.0,6.0,6.0,3.0,1.0,3.0,5.0,4.0,7.0,6.0,2.0,1.0,7.0,2.0,1.0,2.0,2.0,2.0,1.0,1.0,2.0,1.0,2.0,3.0,3.0,2.0,4.0,2.0,3.0,4.0,1.0,5.0,3.0,2.0,1.0,3.0,1.0,2.0,3.0,2.0,4.0,4.0,2.0,6.0,3.0,9.0,2.0,6.0,2.0,1.0,3.0,3.0,2.0,0.0,10.0,2.0,2.0,1.0,3.0,2.0,0.0,3.0,2.0,1.0,3.0,2.0,1.0,5.0,2.0,2.0,2.0,2.0,1.0,2.0,5.0,3.0,4.0,8.0,2.0,3.0,3.0,9.0,2.0,5.0,4.0,0.0,5.0,2.0,1.0,1.0,10.0,2.0,3.0,4.0,3.0,2.0,6.0,2.0,1.0,1.0,3.0,1.0,3.0,1.0,2.0,2.0,5.0,3.0,2.0,7.0,5.0,1.0,2.0,7.0,2.0,6.0,4.0,2.0,3.0,4.0,4.0,2.0,1.0,3.0,2.0,4.0,1.0,1.0,2.0,2.0,6.0,4.0,4.0,2.0,3.0,3.0,1.0,5.0,3.0,1.0,4.0,2.0,2.0,4.0,3.0,3.0,3.0,2.0,5.0,1.0,2.0,3.0,2.0,4.0,2.0,2.0,2.0,3.0,1.0,6.0,4.0,5.0,1.0,5.0,1.0,3.0,5.0,4.0,4.0,3.0,1.0,2.0,2.0,4.0,4.0,4.0,1.0,3.0,3.0,3.0,1.0,3.0,3.0,1.0,4.0,4.0,5.0,0.0,5.0,1.0,1.0,6.0,1.0,3.0,6.0,1.0,2.0,3.0,3.0,2.0,3.0,5.0,2.0,5.0,2.0,2.0,1.0,2.0,2.0,6.0,3.0,6.0,3.0,0.0,2.0,6.0,4.0,5.0,3.0,1.0,2.0,7.0,1.0,0.0,2.0,2.0,4.0,3.0,3.0,5.0,3.0,3.0,2.0,1.0,2.0,1.0,15.0,2.0,5.0,4.0,2.0,3.0,2.0,4.0,5.0,1.0,5.0,3.0,3.0,1.0,1.0,7.0,2.0,4.0,2.0,2.0,1.0,2.0,2.0,2.0,5.0,1.0,3.0,3.0,3.0,1.0,8.0,3.0,2.0,5.0,2.0,7.0,2.0,3.0,2.0,5.0,2.0,2.0,5.0,2.0,2.0,2.0,3.0,1.0,6.0,2.0,2.0,6.0,2.0,6.0,5.0,1.0,2.0,1.0,1.0,2.0,1.0,2.0,2.0,6.0,2.0,2.0,2.0,2.0,3.0,3.0,3.0,3.0,4.0,2.0,2.0,2.0,3.0,1.0,2.0,2.0,4.0,6.0,4.0,2.0,3.0,3.0,5.0,3.0,3.0,1.0,3.0,2.0,3.0,3.0,1.0,2.0,4.0,4.0,2.0,2.0,7.0,2.0,1.0,8.0,5.0,1.0,2.0,1.0,2.0,2.0,5.0,1.0,1.0,0.0,4.0,3.0,3.0,6.0,2.0,1.0,5.0,3.0,1.0,5.0,1.0,2.0,2.0,2.0,4.0,7.0,3.0,4.0,5.0,7.0,6.0,2.0,2.0,3.0,1.0,3.0,2.0,1.0,1.0,1.0,2.0,3.0,4.0,5.0,8.0,3.0,3.0,3.0,5.0,7.0,5.0,0.0,3.0,6.0,5.0,3.0,1.0,3.0,4.0,2.0,3.0,2.0,2.0,2.0,4.0,3.0,4.0,1.0,4.0,3.0,2.0,2.0,5.0,2.0,2.0,1.0,9.0,0.0,2.0,2.0,3.0,5.0,1.0,2.0,1.0,1.0,3.0,2.0,3.0,2.0,4.0,2.0,2.0,3.0,5.0,10.0,2.0,1.0,4.0,3.0,2.0,4.0,1.0,3.0,5.0,5.0,8.0,4.0,2.0,3.0,4.0,3.0,1.0,1.0,2.0,1.0,2.0,1.0,4.0,1.0,1.0,3.0,2.0,4.0,5.0,5.0,2.0,1.0,2.0,3.0,4.0,4.0,3.0,4.0,1.0,5.0,1.0,7.0,1.0,3.0,2.0,2.0,3.0,3.0,3.0,1.0,3.0,3.0,2.0,1.0,1.0,2.0,4.0,5.0,4.0,2.0,3.0,4.0,3.0,5.0,1.0,4.0,1.0,9.0,4.0,3.0,4.0,2.0,6.0,1.0,7.0,1.0,4.0,0.0,3.0,2.0,6.0,3.0,2.0,2.0,3.0,2.0,2.0,3.0,1.0,2.0,2.0,2.0,2.0,4.0,11.0,10.0,5.0,4.0,1.0,6.0,5.0,8.0,1.0,6.0,1.0,1.0,3.0,3.0,2.0,2.0,1.0,1.0,1.0,2.0,1.0,4.0,1.0,2.0,1.0,4.0,5.0,3.0,1.0,2.0,4.0,2.0,1.0,1.0,2.0,0.0,3.0,11.0,5.0,1.0,6.0,4.0,5.0,3.0,1.0,2.0,1.0,2.0,4.0,2.0,5.0,2.0,2.0,3.0,7.0,1.0,2.0,7.0,5.0,3.0,1.0,1.0,2.0,2.0,2.0,1.0,9.0,3.0,3.0,1.0,4.0,1.0,2.0,1.0,5.0,7.0,6.0,6.0,3.0,7.0,4.0,1.0,2.0,3.0,2.0,5.0,5.0,5.0,1.0,4.0,3.0,1.0,4.0,2.0,1.0,3.0,2.0,1.0,3.0,6.0,6.0,6.0,6.0,3.0,5.0,4.0,4.0,5.0,3.0,1.0,3.0,4.0,5.0,3.0,7.0,3.0,2.0,2.0,6.0,1.0,1.0,2.0,1.0,3.0,6.0,8.0,6.0,9.0,1.0,2.0,2.0,2.0,2.0,2.0,1.0,2.0,7.0,2.0,3.0,4.0,4.0,3.0,3.0,4.0,2.0,1.0,2.0,2.0,1.0,5.0,8.0,2.0,4.0,2.0,3.0,2.0,2.0,4.0,2.0,0.0,1.0,10.0,4.0,3.0,3.0,2.0,3.0,1.0,4.0,3.0,5.0,4.0,1.0,2.0,2.0,1.0,4.0,2.0,1.0,1.0,5.0,5.0,1.0,4.0,2.0,4.0,2.0,2.0,3.0,3.0,1.0,8.0,3.0,2.0,4.0,1.0,3.0,3.0,5.0,1.0,3.0,2.0,4.0,2.0,3.0,2.0,2.0,8.0,1.0,2.0,2.0,2.0,2.0,4.0,1.0,2.0,2.0,2.0,1.0,5.0,1.0,2.0,2.0,11.0,3.0,0.0,0.0,1.0,2.0,1.0,1.0,2.0,5.0,6.0,2.0,2.0,3.0,2.0,3.0,2.0,4.0,3.0,6.0,2.0,4.0,2.0,1.0,1.0,2.0,1.0,5.0,2.0,2.0,1.0,3.0,3.0,2.0,1.0,4.0,3.0,2.0,1.0,2.0,5.0,2.0,3.0,4.0,3.0,3.0,2.0,2.0,3.0,5.0,2.0,10.0,2.0,3.0,9.0,1.0,3.0,2.0,1.0,3.0,1.0,2.0,3.0,5.0,4.0,2.0,3.0,3.0,5.0,2.0,4.0,4.0,1.0,2.0,2.0,4.0,3.0,2.0,1.0,3.0,1.0,1.0,7.0,4.0,7.0,1.0,1.0,2.0,3.0,12.0,7.0,4.0,5.0,2.0,1.0,1.0,1.0,1.0,1.0,2.0,4.0,1.0,4.0,3.0,3.0,15.0,2.0,2.0,3.0,3.0,2.0,8.0,3.0,3.0,3.0,4.0,3.0,1.0,2.0,4.0,5.0,2.0,3.0,1.0,7.0,5.0,2.0,2.0,2.0,8.0,5.0,1.0,1.0,8.0,1.0,0.0,4.0,2.0,1.0,4.0,1.0,3.0,2.0,3.0,1.0,2.0,2.0,3.0,1.0,3.0,6.0,5.0,4.0,2.0,2.0,2.0,1.0,1.0,3.0,3.0,4.0,4.0,8.0,2.0,1.0,4.0,4.0,1.0,6.0,4.0,6.0,1.0,1.0,3.0,10.0,8.0,4.0,5.0,1.0,1.0,2.0,4.0,3.0,3.0,3.0,1.0,1.0,2.0,2.0,2.0,4.0,3.0,3.0,2.0,2.0,4.0,3.0,2.0,4.0,3.0,3.0,2.0,3.0,2.0,3.0,4.0,2.0,3.0,6.0,2.0,2.0,4.0,2.0,2.0,1.0,2.0,3.0,2.0,1.0,1.0,2.0,2.0,7.0,2.0,4.0,2.0,3.0,9.0,2.0,2.0,1.0,4.0,2.0,3.0,4.0,5.0,2.0,7.0,2.0,2.0,3.0,1.0,1.0,2.0,4.0,3.0,0.0,3.0,1.0,2.0,2.0,4.0,3.0,4.0,3.0,5.0,1.0,1.0,2.0,4.0,3.0,4.0,1.0,1.0,5.0,1.0,4.0,5.0,4.0,3.0,4.0,1.0,5.0,3.0,5.0,3.0,5.0,3.0,4.0,1.0,2.0,3.0,1.0,3.0,2.0,5.0,7.0,2.0,4.0,5.0,6.0,2.0,1.0,2.0,2.0,3.0,5.0,3.0,3.0,2.0,3.0,3.0,3.0,4.0,3.0,2.0,3.0,1.0,3.0,5.0,5.0,1.0,2.0,1.0,8.0,6.0,2.0,4.0,2.0,3.0,2.0,0.0,2.0,6.0,2.0,4.0,4.0,1.0,2.0,5.0,8.0,2.0,4.0,2.0,1.0,4.0,3.0,1.0,3.0,3.0,1.0,2.0,3.0,7.0,6.0,6.0,3.0,1.0,2.0,2.0,2.0,5.0,2.0,6.0,1.0,3.0,3.0,2.0,1.0,2.0,4.0,2.0,2.0,2.0,1.0,5.0,4.0,3.0,5.0,3.0,3.0,1.0,6.0,2.0,5.0,3.0,13.0,4.0,4.0,1.0,7.0,3.0,2.0,2.0,2.0,5.0,1.0,2.0,2.0,2.0,3.0,2.0,3.0,1.0,2.0,3.0,3.0,2.0,6.0,3.0,5.0,1.0,3.0,0.0,1.0,6.0,3.0,1.0,1.0,3.0,4.0,2.0,3.0,2.0,6.0,1.0,4.0,1.0,5.0,3.0,2.0,5.0,2.0,3.0,1.0,3.0,6.0,10.0,1.0,5.0,5.0,5.0,2.0,2.0,2.0,2.0,3.0,1.0,5.0,3.0,2.0,1.0,1.0,3.0,0.0,2.0,2.0,2.0,2.0,1.0,2.0,5.0,3.0,6.0,2.0,3.0,9.0,2.0,1.0,4.0,2.0,6.0,2.0,1.0,3.0,1.0,2.0,3.0,4.0,4.0,3.0,3.0,3.0,1.0,3.0,0.0,5.0,2.0,2.0,5.0,1.0,7.0,1.0,3.0,4.0,6.0,0.0,5.0,2.0,3.0,3.0,2.0,1.0,1.0,3.0,1.0,3.0,3.0,4.0,3.0,4.0,2.0,0.0,4.0,0.0,1.0,2.0,2.0,5.0,3.0,1.0,2.0,3.0,11.0,2.0,2.0,5.0,1.0,1.0,2.0,5.0,3.0,6.0,5.0,10.0,4.0,4.0,5.0,1.0,6.0,3.0,2.0,3.0,1.0,7.0,1.0,3.0,4.0,1.0,2.0,1.0,2.0,3.0,4.0,3.0,1.0,1.0,8.0,1.0,1.0,2.0,2.0,1.0,3.0,0.0,1.0,1.0,3.0,2.0,1.0,2.0,6.0,5.0,3.0,2.0,3.0,0.0,8.0,3.0,3.0,2.0,2.0,3.0,7.0,2.0,7.0,1.0,2.0,3.0,5.0,4.0,4.0,3.0,3.0,2.0,2.0,5.0,0.0,3.0,2.0,2.0,5.0,5.0,3.0,3.0,2.0,6.0,4.0,2.0,4.0,2.0,3.0,2.0,3.0,5.0,3.0,3.0,1.0,4.0,6.0,4.0,1.0,2.0,4.0,3.0,4.0,2.0,3.0,9.0,4.0,3.0,6.0,5.0,2.0,5.0,2.0,4.0,3.0,1.0,3.0,1.0,2.0,4.0,1.0,2.0,2.0,2.0,5.0,0.0,6.0,1.0,4.0,1.0,4.0,3.0,1.0,2.0,2.0,2.0,2.0,3.0,1.0,2.0,3.0,1.0,3.0,6.0,2.0,4.0,8.0,4.0,4.0,3.0,1.0,5.0,2.0,4.0,1.0,1.0,2.0,3.0,1.0,1.0,1.0,3.0,3.0,3.0,5.0,1.0,2.0,3.0,2.0,3.0,2.0,1.0,2.0,4.0,2.0,8.0,2.0,2.0,2.0,2.0,4.0,3.0,5.0,9.0,6.0,3.0,4.0,1.0,1.0,3.0,2.0,2.0,1.0,6.0,8.0,3.0,3.0,1.0,2.0,2.0,4.0,3.0,1.0,2.0,3.0,1.0,2.0,1.0,4.0,3.0,2.0,3.0,3.0,3.0,4.0,1.0,4.0,3.0,4.0,9.0,1.0,4.0,2.0,1.0,6.0,2.0,2.0,1.0,3.0,2.0,5.0,9.0,1.0,1.0,2.0,4.0,4.0,3.0,2.0,5.0,1.0,2.0,3.0,0.0,2.0,2.0,4.0,3.0,5.0,2.0,3.0,3.0,2.0,3.0,10.0,2.0,4.0,3.0,1.0,2.0,4.0,4.0,1.0,1.0,1.0,2.0,1.0,4.0,1.0,2.0,4.0,6.0,4.0,2.0,1.0,1.0,2.0,4.0,3.0,2.0,2.0,2.0,4.0,1.0,3.0,2.0,8.0,2.0,2.0,5.0,6.0,5.0,6.0,2.0,1.0,5.0,2.0,3.0,4.0,3.0,2.0,6.0,4.0,3.0,4.0,3.0,3.0,5.0,5.0,2.0,3.0,4.0,3.0,3.0,4.0,2.0,1.0,3.0,3.0,3.0,1.0,1.0,6.0,3.0,4.0,5.0,7.0,2.0,4.0,4.0,2.0,4.0,6.0,2.0,4.0,3.0,2.0,9.0,5.0,2.0,9.0,1.0,6.0,4.0,2.0,2.0,4.0,1.0,4.0,3.0,1.0,1.0,3.0,2.0,4.0,1.0,2.0,3.0,9.0,2.0,2.0,5.0,2.0,3.0,5.0,5.0,2.0,3.0,2.0,2.0,3.0,3.0,1.0,6.0,2.0,7.0,1.0,6.0,2.0,4.0,5.0,3.0,3.0,2.0,3.0,2.0,4.0,3.0,3.0,2.0,1.0,2.0,1.0,3.0,9.0,3.0,3.0,2.0,1.0,8.0,2.0,2.0,1.0,1.0,3.0,3.0,1.0,2.0,4.0,8.0,3.0,4.0,1.0,2.0,2.0,1.0,4.0,2.0,1.0,2.0,1.0,4.0,3.0,3.0,2.0,6.0,1.0,1.0,5.0,2.0,4.0,3.0,3.0,3.0,4.0,4.0,5.0,4.0,2.0,3.0,6.0,1.0,1.0,2.0,5.0,1.0,3.0,3.0,2.0,4.0,2.0,1.0,4.0,5.0,2.0,5.0,3.0,1.0,6.0,3.0,3.0,3.0,2.0,4.0,2.0,3.0,2.0,2.0,4.0,1.0,4.0,2.0,3.0,3.0,8.0,6.0,2.0,1.0,3.0,3.0,1.0,5.0,2.0,2.0,1.0,7.0,2.0,3.0,2.0,6.0,7.0,3.0,4.0,4.0,4.0,1.0,0.0,6.0,1.0,3.0,3.0,1.0,2.0,2.0,10.0,9.0,3.0,2.0,1.0,2.0,2.0,2.0,2.0,8.0,4.0,1.0,5.0,4.0,3.0,2.0,3.0,3.0,11.0,6.0,2.0,1.0,5.0,3.0,7.0,3.0,6.0,5.0,11.0,0.0,2.0,4.0,3.0,2.0,1.0,2.0,1.0,1.0,3.0,4.0,2.0,3.0,2.0,1.0,2.0,8.0,1.0,2.0,1.0,3.0,5.0,2.0,1.0,2.0,2.0,1.0,3.0,1.0,1.0,3.0,2.0,3.0,5.0,7.0,5.0,1.0,5.0,1.0,4.0,1.0,4.0,2.0,6.0,4.0,3.0,5.0,1.0,1.0,4.0,3.0,1.0,4.0,1.0,6.0,6.0,5.0,2.0,2.0,4.0,5.0,2.0,4.0,2.0,3.0,2.0,3.0,6.0,1.0,1.0,1.0,2.0,4.0,2.0,2.0,3.0,9.0,5.0,1.0,1.0,2.0,8.0,1.0,3.0,4.0,2.0,3.0,1.0,4.0,3.0,2.0,1.0,1.0,2.0,3.0,4.0,5.0,3.0,1.0,4.0,6.0,3.0,5.0,2.0,2.0,2.0,4.0,2.0,4.0,2.0,3.0,4.0,1.0,2.0,2.0,3.0,4.0,4.0,2.0,1.0,2.0,3.0,1.0,3.0,1.0,2.0,5.0,1.0,2.0,4.0,3.0,2.0,3.0,1.0,1.0,2.0,4.0,2.0,2.0,4.0,3.0,1.0,1.0,3.0,7.0,3.0,3.0,2.0,1.0,2.0,2.0,3.0,1.0,5.0,5.0,2.0,4.0,2.0,3.0,4.0,1.0,2.0,2.0,5.0,2.0,2.0,2.0,1.0,1.0,3.0,4.0,4.0,3.0,4.0,3.0,2.0,1.0,5.0,3.0,1.0,1.0,3.0,4.0,1.0,3.0,1.0,3.0,1.0,1.0,1.0,1.0,2.0,7.0,5.0,1.0,2.0,5.0,2.0,2.0,3.0,3.0,2.0,6.0,3.0,2.0,3.0,4.0,3.0,1.0,2.0,4.0,7.0,2.0,1.0,4.0,2.0,10.0,2.0,3.0,2.0,1.0,3.0,3.0,2.0,4.0,3.0,6.0,2.0,2.0,3.0,3.0,3.0,5.0,3.0,3.0,1.0,3.0,2.0,1.0,4.0,1.0,1.0,2.0,3.0,3.0,1.0,3.0,4.0,2.0,2.0,5.0,3.0,8.0,5.0,5.0,2.0,5.0,1.0,1.0,1.0,1.0,3.0,1.0,3.0,2.0,1.0,1.0,2.0,4.0,0.0,4.0,7.0,2.0,3.0,1.0,6.0,2.0,1.0,5.0,2.0,8.0,3.0,2.0,4.0,4.0,2.0,4.0,0.0,2.0,1.0,5.0,2.0,3.0,4.0,1.0,3.0,8.0,2.0,2.0,3.0,1.0,6.0,2.0,1.0,6.0,9.0,4.0,1.0,3.0,3.0,3.0,6.0,3.0,5.0,6.0,7.0,3.0,2.0,2.0,2.0,1.0,1.0,1.0,7.0,1.0,4.0,2.0,3.0,2.0,2.0,1.0,1.0,2.0,4.0,2.0,2.0,2.0,2.0,1.0,1.0,1.0,3.0,3.0,6.0,6.0,4.0,5.0,1.0,6.0,1.0,6.0,1.0,1.0,5.0,5.0,4.0,1.0,3.0,1.0,2.0,3.0,1.0,2.0,4.0,2.0,3.0,2.0,2.0,2.0,4.0,4.0,7.0,5.0,3.0,3.0,3.0,3.0,2.0,3.0,2.0,4.0,1.0,2.0,1.0,1.0,1.0,2.0,2.0,2.0,2.0,5.0,1.0,4.0,4.0,3.0,7.0,3.0,4.0,6.0,2.0,4.0,3.0,2.0,6.0,2.0,1.0,5.0,1.0,3.0,3.0,2.0,1.0,6.0,4.0,0.0,6.0,1.0,2.0,6.0,3.0,2.0,4.0,2.0,0.0,1.0,4.0,4.0,6.0,3.0,3.0,1.0,3.0,2.0,2.0,1.0,2.0,2.0,5.0,5.0,5.0,1.0,3.0,5.0,1.0,1.0,2.0,3.0,6.0,2.0,2.0,2.0,2.0,1.0,3.0,1.0,4.0,1.0,5.0,3.0,4.0,1.0,2.0,8.0,2.0,1.0,5.0,9.0,1.0,3.0,2.0,1.0,4.0,2.0,3.0,4.0,5.0,6.0,5.0,2.0,2.0,3.0,2.0,3.0,8.0,2.0,4.0,4.0,4.0,2.0,2.0,1.0,2.0,2.0,2.0,4.0,4.0,3.0,3.0,6.0,8.0,2.0,2.0,6.0,10.0,4.0,5.0,1.0,2.0,3.0,2.0,5.0,1.0,4.0,1.0,1.0,6.0,3.0,1.0,2.0,1.0,1.0,3.0,4.0,4.0,5.0,1.0,0.0,2.0,4.0,1.0,2.0,5.0,2.0,1.0,2.0,0.0,4.0,1.0,3.0,3.0,4.0,3.0,1.0,3.0,2.0,2.0,4.0,7.0,3.0,4.0,2.0,3.0,2.0,2.0,3.0,2.0,1.0,11.0,1.0,3.0,1.0,3.0,1.0,6.0,3.0,1.0,4.0,3.0,2.0,1.0,5.0,5.0,6.0,5.0,5.0,8.0,15.0,5.0,2.0,4.0,4.0,1.0,2.0,1.0,1.0,4.0,3.0,5.0,2.0,5.0,3.0,1.0,2.0,1.0,6.0,1.0,2.0,6.0,4.0,1.0,3.0,1.0,2.0,6.0,4.0,3.0,2.0,5.0,3.0,3.0,5.0,1.0,2.0,2.0,3.0,5.0,2.0,2.0,1.0,3.0,9.0,5.0,1.0,3.0,8.0,4.0,2.0,9.0,2.0,4.0,3.0,2.0,4.0,2.0,4.0,4.0,5.0,2.0,8.0,4.0,3.0,8.0,1.0,2.0,6.0,1.0,3.0,2.0,2.0,2.0,5.0,2.0,3.0,2.0,3.0,7.0,6.0,4.0,1.0,1.0,3.0,5.0,2.0,5.0,2.0,9.0,2.0,9.0,4.0,2.0,6.0,2.0,1.0,2.0,3.0,4.0,1.0,3.0,2.0,2.0,0.0,3.0,3.0,3.0,2.0,2.0,3.0,1.0,2.0,6.0,3.0,3.0,5.0,1.0,2.0,4.0,4.0,2.0,7.0,2.0,2.0,5.0,1.0,1.0,2.0,3.0,3.0,4.0,3.0,2.0,3.0,3.0,3.0,3.0,5.0,1.0,2.0,1.0,2.0,4.0,1.0,3.0,2.0,3.0,7.0,3.0,4.0,4.0,1.0,1.0,2.0,4.0,4.0,2.0,3.0,3.0,3.0,1.0,0.0,5.0,5.0,2.0,3.0,4.0,3.0,1.0,3.0,5.0,0.0,2.0,5.0,2.0,1.0,2.0,1.0,2.0,4.0,5.0,0.0,6.0,4.0,3.0,3.0,4.0,0.0,1.0,2.0,1.0,3.0,2.0,1.0,4.0,7.0,1.0,2.0,1.0,3.0,10.0,6.0,4.0,0.0,3.0,5.0,4.0,4.0,3.0,2.0,4.0,5.0,4.0,2.0,1.0,5.0,3.0,1.0,3.0,2.0,5.0,6.0,3.0,3.0,3.0,2.0,6.0,3.0,6.0,2.0,7.0,8.0,2.0,2.0,3.0,4.0,3.0,3.0,5.0,2.0,2.0,5.0,5.0,3.0,1.0,2.0,2.0,2.0,2.0,5.0,2.0,2.0,4.0,3.0,1.0,0.0,0.0,1.0,2.0,4.0,11.0,4.0,2.0,2.0,2.0,6.0,1.0,2.0,5.0,1.0,3.0,7.0,4.0,2.0,1.0,4.0,8.0,3.0,2.0,3.0,4.0,3.0,2.0,3.0,1.0,3.0,3.0,2.0,1.0,2.0,4.0,1.0,3.0,7.0,2.0,1.0,1.0,3.0,4.0,5.0,2.0,4.0,2.0,4.0,4.0,2.0,4.0,4.0,3.0,2.0,8.0,3.0,4.0,2.0,3.0,6.0,1.0,7.0,5.0,6.0,1.0,4.0,3.0,6.0,4.0,2.0,3.0,4.0,3.0,2.0,4.0,7.0,1.0,1.0,2.0,2.0,2.0,1.0,3.0,3.0,4.0,2.0,3.0,5.0,2.0,3.0,2.0,1.0,3.0,7.0,3.0,2.0,7.0,4.0,5.0,2.0,3.0,3.0,6.0,2.0,4.0,2.0,4.0,1.0,2.0,2.0,9.0,2.0,1.0,2.0,1.0,7.0,2.0,5.0,1.0,2.0,1.0,4.0,5.0,3.0,4.0,1.0,1.0,4.0,6.0,1.0,6.0,4.0,7.0,3.0,2.0,5.0,5.0,3.0,2.0,1.0,3.0,3.0,10.0,2.0,2.0,2.0,5.0,4.0,1.0,2.0,2.0,4.0,5.0,1.0,1.0,1.0,2.0,1.0,4.0,1.0,10.0,2.0,1.0,2.0,4.0,2.0,3.0,4.0,1.0,3.0,5.0,3.0,3.0,2.0,8.0,7.0,1.0,5.0,4.0,3.0,1.0,3.0,2.0,11.0,2.0,2.0,3.0,9.0,2.0,2.0,2.0,1.0,2.0,3.0,2.0,2.0,6.0,3.0,6.0,4.0,3.0,1.0,3.0,7.0,1.0,2.0,3.0,4.0,4.0,3.0,1.0,1.0,6.0,3.0,2.0,3.0,2.0,5.0,2.0,1.0,1.0,3.0,6.0,3.0,5.0,3.0,1.0,1.0,3.0,1.0,3.0,1.0,2.0,4.0,2.0,1.0,5.0,2.0,3.0,3.0,2.0,2.0,12.0,0.0,1.0,8.0,1.0,3.0,5.0,1.0,2.0,3.0,3.0,4.0,4.0,9.0,0.0,3.0,2.0,3.0,3.0,13.0,3.0,5.0,2.0,2.0,2.0,6.0,6.0,1.0,1.0,4.0,3.0,2.0,2.0,3.0,1.0,2.0,3.0,11.0,7.0,3.0,3.0,6.0,8.0,2.0,5.0,6.0,4.0,1.0,5.0,1.0,2.0,5.0,2.0,2.0,1.0,1.0,2.0,3.0,1.0,7.0,6.0,2.0,5.0,2.0,10.0,1.0,4.0,4.0,1.0,5.0,3.0,3.0,2.0,6.0,4.0,2.0,1.0,1.0,6.0,3.0,3.0,3.0,3.0,13.0,1.0,2.0,5.0,2.0,7.0,2.0,1.0,3.0,2.0,2.0,7.0,5.0,4.0,3.0,2.0,1.0,1.0,2.0,0.0,3.0,3.0,2.0,2.0,5.0,8.0,1.0,2.0,9.0,3.0,4.0,2.0,3.0,1.0,4.0,3.0,3.0,1.0,10.0,2.0,3.0,4.0,8.0,3.0,3.0,1.0,2.0,7.0,2.0,5.0,3.0,1.0,2.0,5.0,4.0,6.0,3.0,3.0,1.0,3.0,2.0,7.0,1.0,4.0,5.0,6.0,1.0,5.0,2.0,2.0,6.0,2.0,6.0,2.0,6.0,5.0,3.0,3.0,2.0,5.0,1.0,3.0,1.0,2.0,2.0,2.0,1.0,5.0,1.0,2.0,2.0,1.0,4.0,1.0,4.0,1.0,5.0,2.0,1.0,3.0,3.0,5.0,3.0,3.0,3.0,5.0,2.0,5.0,2.0,2.0,2.0,4.0,4.0,6.0,9.0,4.0,2.0,1.0,4.0,1.0,2.0,6.0,4.0,2.0,1.0,1.0,2.0,2.0,5.0,4.0,6.0,2.0,4.0,3.0,4.0,1.0,1.0,3.0,5.0,3.0,3.0,1.0,4.0,3.0,2.0,4.0,3.0,2.0,7.0,7.0,3.0,1.0,4.0,2.0,3.0,5.0,1.0,3.0,1.0,2.0,4.0,2.0,1.0,12.0,5.0,1.0,3.0,7.0,2.0,2.0,4.0,6.0,5.0,1.0,4.0,3.0,9.0,3.0,5.0,1.0,3.0,3.0,1.0,2.0,1.0,6.0,2.0,2.0,2.0,3.0,2.0,2.0,2.0,1.0,1.0,2.0,1.0,2.0,3.0,2.0,9.0,6.0,2.0,2.0,2.0,3.0,1.0,1.0,1.0,1.0,4.0,0.0,2.0,1.0,2.0,1.0,3.0,1.0,3.0,3.0,4.0,2.0,3.0,2.0,3.0,1.0,2.0,1.0,1.0,6.0,3.0,7.0,3.0,4.0,3.0,4.0,2.0,9.0,6.0,6.0,3.0,1.0,5.0,8.0,8.0,1.0,2.0,2.0,1.0,8.0,1.0,2.0,4.0,3.0,4.0,2.0,2.0,1.0,3.0,2.0,2.0,3.0,3.0,1.0,2.0,4.0,4.0,1.0,3.0,3.0,1.0,5.0,5.0,6.0,3.0,6.0,2.0,13.0,0.0,3.0,2.0,4.0,3.0,2.0,4.0,10.0,3.0,2.0,1.0,3.0,2.0,4.0,4.0,6.0,10.0,2.0,3.0,3.0,1.0,5.0,3.0,12.0,1.0,1.0,5.0,1.0,7.0,1.0,2.0,3.0,1.0,1.0,4.0,4.0,2.0,3.0,3.0,3.0,5.0,2.0,3.0,2.0,3.0,1.0,4.0,2.0,2.0,2.0,5.0,2.0,7.0,4.0,3.0,6.0,2.0,4.0,4.0,2.0,6.0,3.0,2.0,4.0,2.0,1.0,1.0,2.0,3.0,7.0,3.0,1.0,6.0,5.0,2.0,3.0,2.0,8.0,7.0,1.0,1.0,4.0,2.0,1.0,4.0,4.0,6.0,3.0,2.0,5.0,3.0,2.0,2.0,5.0,6.0,3.0,4.0,3.0,3.0,6.0,2.0,6.0,4.0,8.0,2.0,1.0,3.0,7.0,1.0,1.0,2.0,2.0,4.0,4.0,2.0,3.0,3.0,4.0,8.0,2.0,8.0,6.0,2.0,8.0,2.0,13.0,1.0,3.0,4.0,8.0,4.0,4.0,4.0,3.0,9.0,5.0,4.0,2.0,3.0,4.0,7.0,3.0,4.0,2.0,10.0,3.0,4.0,2.0,4.0,3.0,1.0,3.0,3.0,2.0,2.0,2.0,1.0,3.0,9.0,27.0,1.0,3.0,3.0,3.0,3.0,2.0,4.0,9.0,1.0,4.0,2.0,2.0,1.0,4.0,3.0,2.0,1.0,2.0,1.0,2.0,24.0,1.0,3.0,2.0,3.0,3.0,2.0,5.0,2.0,4.0,5.0,3.0,5.0,1.0,1.0,2.0,5.0,1.0,2.0,3.0,1.0,1.0,10.0,2.0,6.0,4.0,2.0,4.0,4.0,2.0,5.0,1.0,3.0,3.0,2.0,5.0,3.0,6.0,3.0,2.0,5.0,2.0,5.0,3.0,5.0,2.0,2.0,3.0,1.0,3.0,3.0,2.0,1.0,4.0,1.0,2.0,1.0,2.0,1.0,2.0,1.0,3.0,3.0,7.0,2.0,1.0,2.0,5.0,8.0,2.0,3.0,3.0,2.0,4.0,2.0,12.0,2.0,5.0,6.0,4.0,3.0,3.0,3.0,9.0,4.0,1.0,4.0,0.0,3.0,5.0,5.0,3.0,1.0,3.0,7.0,10.0,3.0,8.0,1.0,2.0,2.0,4.0,1.0,4.0,1.0,2.0,3.0,10.0,3.0,1.0,2.0,9.0,3.0,1.0,9.0,1.0,6.0,2.0,1.0,3.0,10.0,2.0,6.0,5.0,2.0,1.0,3.0,7.0,2.0,2.0,2.0,2.0,2.0,4.0,1.0,3.0,4.0,2.0,3.0,7.0,2.0,2.0,2.0,5.0,3.0,2.0,2.0,3.0,2.0,1.0,1.0,2.0,3.0,1.0,7.0,2.0,6.0,5.0,1.0,3.0,6.0,1.0,2.0,2.0,2.0,3.0,5.0,4.0,1.0,2.0,7.0,2.0,1.0,7.0,3.0,4.0,1.0,2.0,5.0,1.0,1.0,5.0,1.0,3.0,3.0,3.0,4.0,2.0,2.0,3.0,4.0,2.0,7.0,1.0,2.0,2.0,3.0,1.0,5.0,0.0,1.0,1.0,2.0,1.0,2.0,2.0,1.0,4.0,4.0,2.0,3.0,2.0,8.0,4.0,3.0,3.0,2.0,4.0,4.0,1.0,6.0,2.0,2.0,2.0,3.0,4.0,1.0,7.0,6.0,5.0,1.0,2.0,2.0,2.0,1.0,3.0,3.0,9.0,3.0,1.0,6.0,1.0,0.0,4.0,5.0,1.0,1.0,2.0,2.0,2.0,9.0,2.0,2.0,2.0,5.0,4.0,6.0,4.0,3.0,6.0,3.0,1.0,4.0,2.0,5.0,2.0,4.0,1.0,3.0,2.0,4.0,5.0,4.0,4.0,1.0,2.0,2.0,3.0,1.0,5.0,3.0,1.0,4.0,8.0,2.0,2.0,2.0,3.0,4.0,3.0,4.0,5.0,3.0,1.0,2.0,4.0,2.0,2.0,7.0,3.0,2.0,4.0,5.0,1.0,5.0,2.0,2.0,2.0,3.0,1.0,3.0,6.0,6.0,3.0,3.0,2.0,2.0,1.0,2.0,5.0,5.0,2.0,1.0,2.0,2.0,5.0,1.0,6.0,6.0,4.0,3.0,2.0,1.0,4.0,2.0,2.0,2.0,1.0,3.0,1.0,4.0,3.0,2.0,3.0,3.0,8.0,2.0,2.0,2.0,3.0,2.0,1.0,1.0,3.0,3.0,3.0,2.0,1.0,3.0,1.0,0.0,2.0,2.0,2.0,2.0,2.0,3.0,3.0,1.0,5.0,3.0,3.0,4.0,3.0,4.0,3.0,2.0,2.0,1.0,2.0,3.0,6.0,0.0,5.0,4.0,1.0,2.0,7.0,2.0,4.0,3.0,2.0,3.0,1.0,3.0,2.0,5.0,6.0,10.0,2.0,2.0,2.0,3.0,5.0,5.0,2.0,1.0,2.0,1.0,1.0,5.0,1.0,5.0,7.0,7.0,1.0,6.0,2.0,2.0,5.0,3.0,2.0,4.0,3.0,4.0,3.0,7.0,2.0,0.0,3.0,1.0,2.0,2.0,3.0,2.0,1.0,2.0,3.0,3.0,1.0,2.0,1.0,1.0,1.0,3.0,5.0,6.0,3.0,10.0,2.0,1.0,2.0,1.0,3.0,5.0,2.0,2.0,6.0,5.0,2.0,4.0,3.0,5.0,0.0,2.0,1.0,3.0,2.0,1.0,1.0,4.0,3.0,1.0,1.0,3.0,4.0,2.0,3.0,2.0,3.0,3.0,1.0,1.0,3.0,4.0,2.0,2.0,5.0,3.0,1.0,5.0,5.0,0.0,1.0,2.0,2.0,2.0,3.0,2.0,3.0,2.0,3.0,1.0,2.0,2.0,2.0,8.0,4.0,4.0,3.0,3.0,1.0,4.0,3.0,1.0,1.0,3.0,2.0,4.0,5.0,6.0,3.0,4.0,6.0,4.0,1.0,1.0,2.0,2.0,1.0,1.0,3.0,4.0,4.0,2.0,3.0,3.0,3.0,3.0,1.0,3.0,5.0,8.0,4.0,6.0,2.0,3.0,4.0,5.0,2.0,1.0,2.0,3.0,1.0,3.0,2.0,2.0,4.0,2.0,3.0,4.0,6.0,2.0,3.0,2.0,6.0,3.0,6.0,9.0,2.0,6.0,3.0,6.0,4.0,2.0,2.0,4.0,1.0,4.0,7.0,2.0,1.0,1.0,6.0,2.0,2.0,3.0,5.0,4.0,3.0,2.0,1.0,2.0,4.0,0.0,3.0,5.0,2.0,1.0,7.0,3.0,3.0,1.0,1.0,1.0,1.0,2.0,3.0,3.0,3.0,2.0,3.0,2.0,2.0,4.0,2.0,1.0,4.0,9.0,10.0,3.0,7.0,2.0,2.0,3.0,2.0,4.0,3.0,2.0,4.0,4.0,2.0,1.0,4.0,3.0,1.0,1.0,5.0,1.0,1.0,3.0,1.0,3.0,2.0,2.0,3.0,1.0,1.0,5.0,2.0,2.0,2.0,1.0,2.0,2.0,1.0,2.0,7.0,3.0,3.0,4.0,3.0,2.0,1.0,8.0,2.0,4.0,10.0,3.0,4.0,5.0,3.0,10.0,4.0,2.0,4.0,2.0,3.0,3.0,1.0,5.0,4.0,5.0,2.0,1.0,4.0,1.0,3.0,2.0,4.0,2.0,2.0,7.0,9.0,3.0,1.0,2.0,3.0,4.0,0.0,1.0,2.0,1.0,1.0,2.0,4.0,1.0,5.0,5.0,5.0,6.0,3.0,4.0,3.0,2.0,3.0,3.0,5.0,4.0,3.0,3.0,1.0,3.0,6.0,1.0,2.0,3.0,5.0,2.0,3.0,2.0,8.0,1.0,1.0,1.0,2.0,3.0,2.0,4.0,6.0,2.0,2.0,5.0,3.0,2.0,1.0,3.0,2.0,2.0,6.0,1.0,6.0,7.0,4.0,1.0,2.0,10.0,3.0,3.0,2.0,21.0,1.0,2.0,4.0,1.0,5.0,2.0,2.0,3.0,2.0,1.0,5.0,5.0,1.0,2.0,3.0,3.0,5.0,4.0,2.0,1.0,6.0,2.0,3.0,2.0,1.0,2.0,7.0,3.0,2.0,2.0,1.0,3.0,1.0,5.0,11.0,3.0,4.0,2.0,1.0,1.0,5.0,3.0,6.0,4.0,6.0,6.0,1.0,5.0,3.0,3.0,4.0,4.0,6.0,3.0,1.0,4.0,2.0,1.0,3.0,2.0,11.0,1.0,3.0,2.0,7.0,5.0,1.0,2.0,10.0,5.0,3.0,5.0,1.0,2.0,4.0,3.0,3.0,4.0,2.0,2.0,2.0,1.0,2.0,4.0,4.0,2.0,4.0,6.0,3.0,3.0,2.0,0.0,1.0,2.0,3.0,2.0,3.0,1.0,4.0,3.0,2.0,3.0,11.0,1.0,6.0,4.0,5.0,3.0,2.0,2.0,4.0,5.0,1.0,2.0,2.0,1.0,3.0,4.0,1.0,3.0,2.0,4.0,3.0,5.0,2.0,5.0,5.0,2.0,2.0,2.0,2.0,3.0,2.0,1.0,2.0,4.0,1.0,10.0,3.0,3.0,1.0,1.0,3.0,2.0,2.0,2.0,1.0,1.0,2.0,3.0,3.0,3.0,3.0,1.0,6.0,1.0,2.0,3.0,3.0,1.0,3.0,3.0,6.0,4.0,2.0,2.0,9.0,1.0,1.0,2.0,4.0,2.0,4.0,6.0,9.0,1.0,1.0,2.0,2.0,2.0,4.0,3.0,6.0,2.0,2.0,2.0,1.0,3.0,3.0,1.0,1.0,3.0,1.0,1.0,4.0,1.0,1.0,1.0,5.0,4.0,3.0,4.0,3.0,1.0,2.0,3.0,4.0,1.0,2.0,2.0,1.0,3.0,2.0,4.0,3.0,2.0,3.0,1.0,3.0,2.0,1.0,3.0,5.0,3.0,4.0,3.0,2.0,3.0,1.0,1.0,12.0,6.0,2.0,1.0,3.0,1.0,5.0,3.0,4.0,3.0,2.0,2.0,2.0,6.0,2.0,1.0,3.0,6.0,3.0,3.0,1.0,4.0,1.0,2.0,2.0,1.0,2.0,1.0,3.0,6.0,1.0,3.0,3.0,1.0,6.0,3.0,7.0,3.0,2.0,3.0,1.0,3.0,5.0,1.0,5.0,2.0,2.0,6.0,2.0,3.0,1.0,6.0,5.0,3.0,5.0,1.0,1.0,2.0,5.0,2.0,7.0,2.0,3.0,2.0,6.0,4.0,2.0,3.0,6.0,2.0,3.0,5.0,2.0,3.0,3.0,2.0,3.0,1.0,1.0,2.0,2.0,2.0,7.0,8.0,4.0,5.0,5.0,3.0,5.0,2.0,2.0,2.0,2.0,2.0,2.0,1.0,3.0,2.0,6.0,6.0,3.0,3.0,3.0,1.0,1.0,3.0,5.0,3.0,2.0,2.0,2.0,2.0,1.0,4.0,2.0,3.0,6.0,1.0,4.0,2.0,3.0,2.0,2.0,1.0,5.0,5.0,1.0,2.0,6.0,2.0,0.0,2.0,2.0,6.0,2.0,5.0,3.0,9.0,2.0,4.0,9.0,4.0,5.0,3.0,3.0,2.0,1.0,2.0,2.0,4.0,3.0,3.0,3.0,2.0,6.0,4.0,2.0,2.0,3.0,6.0,1.0,1.0,2.0,4.0,2.0,6.0,2.0,5.0,1.0,2.0,5.0,2.0,1.0,3.0,2.0,2.0,3.0,2.0,5.0,2.0,3.0,5.0,5.0,3.0,2.0,2.0,6.0,4.0,6.0,3.0,5.0,6.0,4.0,2.0,7.0,5.0,3.0,1.0,2.0,5.0,2.0,3.0,2.0,2.0,2.0,0.0,2.0,6.0,9.0,3.0,4.0,8.0,7.0,1.0,2.0,4.0,7.0,3.0,0.0,4.0,3.0,3.0,1.0,5.0,1.0,1.0,4.0,1.0,2.0,2.0,3.0,3.0,3.0,1.0,3.0,2.0,2.0,1.0,2.0,3.0,3.0,5.0,2.0,3.0,5.0,1.0,2.0,1.0,3.0,1.0,3.0,4.0,3.0,2.0,6.0,2.0,3.0,4.0,3.0,2.0,2.0,5.0,3.0,5.0,6.0,1.0,5.0,2.0,4.0,3.0,7.0,2.0,1.0,4.0,1.0,1.0,2.0,8.0,3.0,3.0,1.0,2.0,1.0,1.0,4.0,3.0,5.0,2.0,4.0,2.0,1.0,3.0,3.0,1.0,1.0,3.0,4.0,2.0,3.0,3.0,4.0,2.0,2.0,3.0,3.0,4.0,2.0,5.0,3.0,2.0,10.0,4.0,3.0,3.0,3.0,1.0,3.0,5.0,2.0,2.0,3.0,7.0,3.0,3.0,7.0,3.0,2.0,1.0,3.0,1.0,8.0,1.0,1.0,3.0,5.0,1.0,2.0,1.0,5.0,1.0,4.0,4.0,3.0,4.0,3.0,4.0,3.0,5.0,2.0,3.0,4.0,1.0,2.0,2.0,1.0,4.0,3.0,1.0,3.0,2.0,1.0,5.0,8.0,2.0,4.0,3.0,3.0,2.0,1.0,3.0,4.0,5.0,2.0,10.0,3.0,3.0,7.0,1.0,3.0,1.0,1.0,4.0,3.0,4.0,6.0,2.0,2.0,5.0,2.0,2.0,3.0,0.0,3.0,2.0,1.0,4.0,2.0,3.0,1.0,3.0,2.0,2.0,1.0,6.0,2.0,7.0,1.0,3.0,9.0,1.0,2.0,3.0,5.0,1.0,3.0,3.0,3.0,5.0,3.0,5.0,2.0,6.0,2.0,2.0,1.0,0.0,4.0,3.0,2.0,4.0,2.0,2.0,1.0,2.0,1.0,9.0,3.0,3.0,3.0,3.0,3.0,1.0,4.0,1.0,3.0,1.0,0.0,4.0,1.0,3.0,2.0,4.0,6.0,2.0,3.0,3.0,1.0,1.0,1.0,2.0,2.0,1.0,2.0,5.0,3.0,4.0,3.0,6.0,4.0,1.0,3.0,3.0,3.0,1.0,1.0,4.0,6.0,1.0,2.0,3.0,6.0,2.0,2.0,3.0,2.0,3.0,3.0,3.0,8.0,2.0,3.0,4.0,4.0,4.0,3.0,1.0,1.0,1.0,0.0,5.0,2.0,1.0,2.0,5.0,4.0,7.0,4.0,4.0,1.0,3.0,3.0,5.0,3.0,2.0,5.0,2.0,2.0,3.0,2.0,13.0,2.0,3.0,3.0,3.0,2.0,3.0,2.0,1.0,1.0,3.0,2.0,2.0,3.0,1.0,4.0,2.0,3.0,1.0,2.0,1.0,2.0,2.0,5.0,4.0,5.0,2.0,2.0,5.0,2.0,1.0,1.0,1.0,2.0,5.0,3.0,8.0,2.0,1.0,0.0,2.0,1.0,3.0,4.0,2.0,1.0,2.0,3.0,5.0,4.0,3.0,4.0,5.0,4.0,2.0,2.0,1.0,3.0,5.0,1.0,2.0,3.0,3.0,8.0,2.0,4.0,3.0,2.0,2.0,2.0,4.0,2.0,7.0,1.0,1.0,2.0,2.0,5.0,2.0,2.0,3.0,5.0,2.0,1.0,2.0,15.0,2.0,4.0,2.0,1.0,3.0,3.0,4.0,2.0,1.0,3.0,2.0,2.0,2.0,5.0,2.0,3.0,5.0,3.0,1.0,0.0,3.0,4.0,8.0,1.0,2.0,5.0,1.0,2.0,3.0,2.0,2.0,3.0,2.0,3.0,2.0,7.0,1.0,3.0,2.0,1.0,3.0,3.0,2.0,2.0,4.0,2.0,3.0,2.0,3.0,4.0,1.0,4.0,3.0,6.0,5.0,2.0,0.0,0.0,4.0,4.0,4.0,1.0,1.0,1.0,6.0,3.0,1.0,4.0,4.0,1.0,2.0,4.0,2.0,3.0,1.0,3.0,2.0,6.0,1.0,1.0,1.0,2.0,2.0,2.0,7.0,4.0,2.0,5.0,7.0,3.0,3.0,1.0,2.0,3.0,2.0,2.0,2.0,4.0,4.0,2.0,5.0,3.0,2.0,6.0,2.0,4.0,2.0,6.0,4.0,2.0,2.0,3.0,6.0,4.0,2.0,2.0,3.0,5.0,11.0,3.0,2.0,2.0,3.0,4.0,3.0,3.0,4.0,4.0,2.0,2.0,1.0,2.0,4.0,1.0,11.0,2.0,3.0,6.0,2.0,2.0,4.0,2.0,2.0,3.0,4.0,5.0,4.0,1.0,2.0,4.0,3.0,2.0,4.0,3.0,2.0,2.0,1.0,1.0,5.0,3.0,0.0,5.0,2.0,3.0,3.0,2.0,2.0,3.0,2.0,3.0,6.0,1.0,2.0,3.0,5.0,3.0,2.0,1.0,2.0,10.0,6.0,1.0,5.0,4.0,2.0,6.0,2.0,4.0,5.0,2.0,1.0,2.0,4.0,3.0,2.0,0.0,2.0,7.0,2.0,1.0,3.0,5.0,2.0,4.0,2.0,3.0,4.0,2.0,6.0,3.0,2.0,1.0,4.0,3.0,4.0,2.0,2.0,3.0,3.0,2.0,1.0,2.0,2.0,1.0,4.0,1.0,1.0,5.0,6.0,1.0,3.0,1.0,2.0,5.0,1.0,3.0,3.0,1.0,2.0,3.0,3.0,4.0,4.0,6.0,3.0,3.0,2.0,2.0,3.0,1.0,3.0,2.0,3.0,1.0,3.0,2.0,1.0,2.0,4.0,4.0,1.0,2.0,2.0,1.0,2.0,1.0,1.0,3.0,9.0,2.0,4.0,3.0,1.0,2.0,3.0,1.0,3.0,5.0,4.0,1.0,1.0,1.0,4.0,2.0,2.0,1.0,3.0,3.0,1.0,2.0,8.0,2.0,4.0,2.0,2.0,1.0,3.0,3.0,2.0,3.0,1.0,1.0,6.0,3.0,6.0,3.0,3.0,5.0,2.0,6.0,3.0,4.0,3.0,4.0,2.0,3.0,1.0,2.0,5.0,1.0,2.0,0.0,6.0,2.0,3.0,9.0,4.0,1.0,1.0,2.0,1.0,2.0,3.0,3.0,1.0,3.0,2.0,1.0,4.0,6.0,5.0,2.0,3.0,1.0,3.0,3.0,5.0,5.0,2.0,3.0,2.0,1.0,4.0,2.0,2.0,1.0,4.0,2.0,5.0,8.0,7.0,3.0,5.0,2.0,4.0,5.0,3.0,2.0,3.0,2.0,3.0,2.0,3.0,2.0,3.0,4.0,2.0,6.0,1.0,3.0,2.0,1.0,4.0,2.0,2.0,3.0,2.0,18.0,3.0,1.0,4.0,2.0,4.0,3.0,1.0,4.0,13.0,6.0,1.0,6.0,3.0,1.0,3.0,2.0,1.0,1.0,5.0,3.0,3.0,2.0,1.0,6.0,1.0,5.0,5.0,4.0,2.0,4.0,2.0,3.0,8.0,1.0,2.0,2.0,5.0,7.0,4.0,1.0,1.0,2.0,2.0,2.0,3.0,4.0,3.0,4.0,2.0,2.0,1.0,2.0,4.0,2.0,5.0,1.0,3.0,1.0,1.0,6.0,3.0,4.0,5.0,2.0,1.0,11.0,4.0,2.0,4.0,1.0,5.0,2.0,2.0,1.0,2.0,4.0,2.0,5.0,4.0,2.0,2.0,5.0,5.0,11.0,3.0,2.0,1.0,2.0,9.0,2.0,2.0,3.0,3.0,2.0,2.0,3.0,5.0,3.0,2.0,3.0,2.0,1.0,1.0,2.0,3.0,8.0,2.0,5.0,5.0,8.0,6.0,2.0,1.0,2.0,2.0,2.0,4.0,12.0,4.0,1.0,4.0,3.0,6.0,5.0,1.0,5.0,1.0,3.0,2.0,1.0,2.0,2.0,0.0,1.0,2.0,7.0,4.0,2.0,2.0,2.0,3.0,1.0,1.0,1.0,5.0,4.0,2.0,0.0,1.0,1.0,5.0,4.0,1.0,2.0,5.0,9.0,8.0,1.0,4.0,1.0,1.0,3.0,2.0,19.0,1.0,5.0,4.0,2.0,1.0,2.0,1.0,3.0,2.0,3.0,4.0,2.0,1.0,3.0,3.0,7.0,7.0,1.0,3.0,2.0,3.0,2.0,1.0,1.0,3.0,2.0,1.0,3.0,2.0,3.0,6.0,1.0,1.0,1.0,1.0,3.0,8.0,2.0,3.0,2.0,2.0,1.0,2.0,1.0,2.0,2.0,4.0,4.0,1.0,3.0,1.0,5.0,4.0,3.0,1.0,3.0,2.0,1.0,2.0,5.0,0.0,5.0,3.0,4.0,2.0,2.0,3.0,5.0,1.0,2.0,4.0,6.0,5.0,5.0,3.0,2.0,3.0,2.0,8.0,1.0,1.0,6.0,4.0,2.0,0.0,2.0,2.0,2.0,1.0,1.0,1.0,4.0,2.0,4.0,2.0,1.0,1.0,1.0,1.0,2.0,10.0,8.0,3.0,5.0,3.0,2.0,1.0,2.0,2.0,1.0,2.0,5.0,6.0,2.0,1.0,2.0,4.0,3.0,5.0,1.0,3.0,8.0,4.0,3.0,3.0,1.0,2.0,7.0,3.0,4.0,2.0,6.0,1.0,1.0,1.0,2.0,1.0,2.0,5.0,7.0,2.0,7.0,3.0,5.0,2.0,7.0,7.0,2.0,2.0,1.0,4.0,3.0,1.0,2.0,1.0,5.0,1.0,1.0,4.0,5.0,6.0,6.0,2.0,4.0,3.0,2.0,4.0,4.0,1.0,1.0,4.0,3.0,4.0,5.0,2.0,5.0,1.0,1.0,1.0,3.0,2.0,2.0,1.0,5.0,4.0,2.0,3.0,5.0,4.0,6.0,4.0,3.0,3.0,1.0,3.0,2.0,5.0,4.0,3.0,2.0,4.0,1.0,4.0,4.0,3.0,5.0,2.0,3.0,5.0,3.0,3.0,2.0,1.0,1.0,6.0,4.0,5.0,2.0,2.0,2.0,3.0,2.0,1.0,2.0,3.0,2.0,1.0,11.0,2.0,4.0,2.0,2.0,3.0,2.0,2.0,2.0,3.0,1.0,4.0,0.0,1.0,3.0,3.0,1.0,4.0,2.0,2.0,11.0,3.0,2.0,2.0,3.0,3.0,3.0,1.0,2.0,2.0,2.0,2.0,0.0,6.0,6.0,1.0,1.0,1.0,3.0,7.0,2.0,1.0,4.0,2.0,7.0,2.0,1.0,3.0,5.0,5.0,2.0,1.0,3.0,1.0,2.0,2.0,8.0,3.0,3.0,2.0,1.0,2.0,6.0,3.0,2.0,3.0,1.0,1.0,2.0,1.0,3.0,1.0,5.0,2.0,4.0,2.0,1.0,3.0,13.0,5.0,2.0,2.0,8.0,4.0,1.0,1.0,4.0,3.0,2.0,10.0,5.0,4.0,4.0,5.0,1.0,3.0,2.0,2.0,11.0,1.0,6.0,2.0,1.0,1.0,2.0,5.0,2.0,1.0,2.0,1.0,5.0,4.0,2.0,2.0,0.0,4.0,2.0,1.0,4.0,3.0,1.0,0.0,6.0,3.0,2.0,9.0,2.0,2.0,2.0,6.0,2.0,3.0,2.0,4.0,6.0,4.0,4.0,2.0,2.0,4.0,5.0,3.0,6.0,2.0,2.0,6.0,4.0,3.0,2.0,1.0,3.0,1.0,1.0,3.0,2.0,1.0,4.0,4.0,2.0,3.0,2.0,3.0,1.0,1.0,3.0,5.0,4.0,3.0,4.0,3.0,6.0,2.0,4.0,2.0,3.0,3.0,1.0,1.0,1.0,3.0,2.0,2.0,0.0,2.0,2.0,1.0,2.0,5.0,2.0,5.0,2.0,2.0,3.0,1.0,6.0,7.0,2.0,5.0,4.0,2.0,2.0,4.0,4.0,2.0,2.0,0.0,5.0,7.0,4.0,1.0,3.0,3.0,4.0,1.0,5.0,3.0,2.0,4.0,2.0,2.0,3.0,4.0,2.0,1.0,2.0,6.0,1.0,5.0,2.0,6.0,3.0,6.0,4.0,0.0,3.0,3.0,2.0,2.0,3.0,1.0,4.0,2.0,3.0,2.0,1.0,4.0,2.0,5.0,2.0,1.0,1.0,2.0,2.0,10.0,5.0,3.0,3.0,2.0,12.0,2.0,2.0,4.0,4.0,3.0,3.0,2.0,3.0,1.0,5.0,3.0,2.0,3.0,3.0,9.0,4.0,3.0,1.0,2.0,3.0,6.0,5.0,2.0,1.0,4.0,2.0,5.0,1.0,4.0,6.0,5.0,7.0,4.0,3.0,2.0,2.0,5.0,1.0,3.0,3.0,8.0,2.0,5.0,2.0,6.0,4.0,4.0,2.0,2.0,2.0,1.0,2.0,5.0,1.0,2.0,3.0,1.0,3.0,2.0,2.0,1.0,1.0,2.0,3.0,0.0,2.0,4.0,1.0,6.0,4.0,4.0,1.0,4.0,3.0,3.0,1.0,3.0,3.0,6.0,3.0,2.0,3.0,4.0,5.0,4.0,3.0,2.0,4.0,4.0,3.0,3.0,0.0,2.0,4.0,1.0,0.0,3.0,0.0,4.0,3.0,9.0,3.0,4.0,4.0,2.0,3.0,3.0,3.0,6.0,2.0,4.0,3.0,1.0,3.0,2.0,5.0,1.0,2.0,1.0,1.0,3.0,1.0,0.0,3.0,3.0,1.0,7.0,1.0,3.0,3.0,3.0,1.0,5.0,1.0,1.0,4.0,2.0,2.0,2.0,3.0,7.0,10.0,1.0,2.0,1.0,3.0,1.0,3.0,3.0,2.0,6.0,5.0,3.0,2.0,2.0,1.0,3.0,2.0,3.0,8.0,3.0,5.0,3.0,5.0,4.0,3.0,3.0,3.0,2.0,1.0,7.0,4.0,1.0,1.0,1.0,1.0,4.0,1.0,1.0,4.0,6.0,1.0,3.0,2.0,3.0,2.0,2.0,2.0,6.0,5.0,2.0,4.0,1.0,5.0,2.0,1.0,3.0,3.0,7.0,4.0,2.0,2.0,1.0,1.0,6.0,3.0,4.0,1.0,2.0,1.0,3.0,2.0,2.0,1.0,1.0,3.0,2.0,1.0,4.0,5.0,4.0,2.0,2.0,3.0,5.0,3.0,3.0,4.0,1.0,3.0,4.0,2.0,5.0,2.0,3.0,3.0,2.0,3.0,1.0,2.0,3.0,1.0,1.0,1.0,5.0,2.0,6.0,3.0,1.0,6.0,2.0,1.0,5.0,3.0,0.0,3.0,2.0,3.0,2.0,4.0,1.0,4.0,2.0,1.0,5.0,1.0,3.0,7.0,2.0,5.0,2.0,4.0,5.0,2.0,3.0,1.0,3.0,0.0,3.0,6.0,6.0,2.0,6.0,3.0,2.0,1.0,7.0,4.0,0.0,8.0,4.0,6.0,5.0,3.0,5.0,1.0,10.0,3.0,2.0,3.0,3.0,4.0,9.0,2.0,3.0,1.0,7.0,2.0,2.0,1.0,2.0,3.0,1.0,5.0,0.0,1.0,2.0,2.0,1.0,1.0,2.0,4.0,1.0,1.0,2.0,3.0,2.0,2.0,3.0,3.0,6.0,5.0,2.0,5.0,5.0,0.0,3.0,2.0,1.0,4.0,6.0,2.0,1.0,1.0,4.0,1.0,2.0,2.0,4.0,12.0,2.0,5.0,1.0,2.0,4.0,2.0,2.0,4.0,2.0,1.0,2.0,5.0,2.0,5.0,9.0,15.0,4.0,3.0,1.0,3.0,3.0,1.0,1.0,1.0,6.0,2.0,2.0,2.0,6.0,3.0,2.0,1.0,3.0,2.0,2.0,6.0,1.0,4.0,4.0,0.0,4.0,4.0,1.0,2.0,3.0,2.0,5.0,3.0,2.0,2.0,7.0,1.0,1.0,2.0,3.0,1.0,3.0,4.0,1.0,0.0,2.0,4.0,1.0,7.0,2.0,3.0,2.0,3.0,1.0,3.0,6.0,5.0,1.0,0.0,1.0,1.0,2.0,3.0,2.0,1.0,2.0,2.0,1.0,4.0,3.0,3.0,1.0,2.0,4.0,5.0,3.0,2.0,3.0,2.0,7.0,2.0,4.0,9.0,1.0,1.0,3.0,11.0,5.0,3.0,5.0,4.0,5.0,2.0,1.0,3.0,7.0,2.0,4.0,2.0,8.0,2.0,2.0,1.0,1.0,3.0,2.0,2.0,2.0,2.0,2.0,4.0,1.0,3.0,1.0,4.0,3.0,2.0,3.0,1.0,1.0,9.0,2.0,1.0,2.0,2.0,8.0,2.0,1.0,2.0,1.0,3.0,2.0,2.0,1.0,1.0,1.0,3.0,1.0,5.0,2.0,3.0,2.0,3.0,4.0,2.0,3.0,3.0,2.0,1.0,1.0,2.0,6.0,5.0,1.0,4.0,8.0,3.0,3.0,1.0,4.0,2.0,1.0,3.0,1.0,1.0,3.0,3.0,5.0,1.0,2.0,5.0,3.0,5.0,2.0,1.0,2.0,9.0,5.0,8.0,3.0,1.0,2.0,3.0,5.0,2.0,5.0,3.0,5.0,2.0,3.0,3.0,5.0,2.0,4.0,5.0,3.0,3.0,2.0,3.0,3.0,2.0,8.0,3.0,1.0,2.0,0.0,3.0,4.0,2.0,13.0,3.0,1.0,0.0,6.0,2.0,3.0,4.0,3.0,1.0,2.0,2.0,4.0,1.0,2.0,1.0,1.0,2.0,4.0,6.0,3.0,1.0,1.0,3.0,1.0,3.0,1.0,4.0,8.0,1.0,3.0,4.0,6.0,3.0,2.0,3.0,5.0,3.0,3.0,1.0,6.0,1.0,3.0,3.0,3.0,2.0,6.0,3.0,5.0,1.0,2.0,2.0,1.0,2.0,3.0,3.0,3.0,2.0,9.0,1.0,3.0,1.0,2.0,4.0,4.0,2.0,2.0,4.0,6.0,8.0,2.0,5.0,1.0,2.0,3.0,4.0,4.0,2.0,4.0,3.0,2.0,4.0,1.0,3.0,7.0,2.0,1.0,3.0,4.0,3.0,2.0,1.0,5.0,3.0,5.0,2.0,5.0,1.0,3.0,2.0,1.0,5.0,3.0,3.0,2.0,2.0,9.0,3.0,2.0,7.0,1.0,2.0,3.0,5.0,2.0,4.0,3.0,6.0,2.0,5.0,1.0,4.0,2.0,1.0,4.0,2.0,2.0,5.0,7.0,3.0,3.0,3.0,2.0,4.0,2.0,2.0,2.0,4.0,5.0,7.0,3.0,2.0,1.0,1.0,2.0,4.0,4.0,1.0,2.0,3.0,3.0,7.0,0.0,3.0,5.0,1.0,5.0,8.0,5.0,15.0,3.0,1.0,5.0,2.0,1.0,7.0,3.0,1.0,2.0,3.0,3.0,2.0,12.0,5.0,3.0,5.0,7.0,2.0,1.0,2.0,4.0,1.0,2.0,2.0,2.0,1.0,2.0,4.0,1.0,8.0,2.0,2.0,9.0,1.0,2.0,3.0,2.0,3.0,3.0,4.0,2.0,2.0,2.0,4.0,1.0,3.0,3.0,3.0,2.0,2.0,3.0,2.0,4.0,6.0,7.0,3.0,4.0,4.0,1.0,3.0,2.0,2.0,4.0,1.0,9.0,1.0,5.0,5.0,2.0,3.0,6.0,1.0,4.0,6.0,1.0,3.0,3.0,3.0,2.0,1.0,3.0,2.0,1.0,1.0,4.0,4.0,4.0,3.0,7.0,5.0,1.0,5.0,2.0,1.0,3.0,8.0,7.0,3.0,3.0,1.0,5.0,3.0,1.0,6.0,2.0,3.0,5.0,7.0,3.0,3.0,2.0,1.0,7.0,0.0,1.0,3.0,1.0,4.0,5.0,2.0,2.0,8.0,3.0,2.0,3.0,1.0,3.0,4.0,2.0,4.0,4.0,2.0,1.0,2.0,2.0,4.0,3.0,1.0,3.0,1.0,3.0,4.0,1.0,14.0,1.0,5.0,1.0,2.0,3.0,3.0,2.0,2.0,10.0,1.0,2.0,2.0,3.0,5.0,1.0,4.0,1.0,4.0,3.0,2.0,3.0,3.0,1.0,3.0,1.0,7.0,4.0,11.0,1.0,1.0,4.0,7.0,11.0,4.0,1.0,5.0,4.0,1.0,3.0,1.0,4.0,0.0,5.0,1.0,4.0,0.0,2.0,4.0,10.0,1.0,2.0,1.0,2.0,1.0,1.0,1.0,1.0,5.0,2.0,3.0,4.0,1.0,7.0,1.0,1.0,3.0,2.0,2.0,3.0,3.0,1.0,1.0,3.0,11.0,5.0,4.0,2.0,1.0,6.0,4.0,2.0,0.0,1.0,1.0,2.0,4.0,2.0,2.0,3.0,6.0,2.0,4.0,4.0,5.0,2.0,4.0,4.0,2.0,11.0,4.0,2.0,1.0,5.0,2.0,5.0,0.0,3.0,3.0,2.0,5.0,2.0,6.0,2.0,3.0,4.0,4.0,4.0,1.0,3.0,1.0,1.0,1.0,5.0,4.0,3.0,5.0,2.0,2.0,7.0,3.0,3.0,4.0,1.0,3.0,2.0,1.0,2.0,3.0,5.0,2.0,1.0,4.0,2.0,4.0,5.0,2.0,2.0,2.0,2.0,2.0,2.0,4.0,5.0,1.0,3.0,2.0,3.0,5.0,3.0,2.0,6.0,2.0,3.0,2.0,5.0,2.0,1.0,1.0,4.0,2.0,3.0,4.0,1.0,2.0,1.0,2.0,6.0,1.0,1.0,4.0,11.0,3.0,10.0,5.0,3.0,4.0,1.0,1.0,3.0,3.0,7.0,1.0,1.0,1.0,3.0,6.0,7.0,4.0,1.0,1.0,7.0,4.0,4.0,2.0,2.0,3.0,2.0,3.0,3.0,4.0,1.0,3.0,2.0,4.0,1.0,1.0,4.0,6.0,3.0,8.0,3.0,2.0,3.0,2.0,3.0,1.0,5.0,7.0,7.0,5.0,4.0,1.0,4.0,4.0,5.0,2.0,4.0,3.0,2.0,2.0,2.0,2.0,3.0,1.0,1.0,4.0,3.0,2.0,4.0,2.0,3.0,2.0,3.0,2.0,3.0,5.0,3.0,1.0,2.0,5.0,1.0,3.0,4.0,2.0,3.0,4.0,2.0,1.0,14.0,5.0,2.0,6.0,3.0,2.0,2.0,4.0,3.0,9.0,2.0,3.0,1.0,1.0,1.0,3.0,1.0,4.0,2.0,5.0,3.0,1.0,5.0,1.0,4.0,1.0,2.0,8.0,2.0,4.0,2.0,9.0,1.0,2.0,2.0,1.0,7.0,5.0,2.0,7.0,7.0,2.0,2.0,2.0,2.0,3.0,1.0,4.0,1.0,1.0,4.0,1.0,4.0,4.0,3.0,3.0,2.0,4.0,1.0,3.0,5.0,2.0,5.0,2.0,3.0,2.0,2.0,2.0,7.0,4.0,3.0,5.0,2.0,2.0,1.0,1.0,2.0,1.0,6.0,2.0,2.0,3.0,5.0,3.0,3.0,3.0,4.0,1.0,3.0,3.0,4.0,1.0,1.0,2.0,2.0,1.0,4.0,9.0,3.0,2.0,1.0,2.0,1.0,3.0,4.0,2.0,3.0,1.0,4.0,4.0,3.0,1.0,1.0,5.0,2.0,2.0,4.0,1.0,5.0,1.0,1.0,1.0,2.0,6.0,0.0,2.0,1.0,6.0,3.0,5.0,4.0,3.0,5.0,2.0,2.0,15.0,1.0,3.0,3.0,2.0,1.0,6.0,3.0,2.0,2.0,4.0,7.0,3.0,2.0,6.0,10.0,2.0,7.0,3.0,9.0,6.0,2.0,2.0,4.0,2.0,2.0,7.0,4.0,2.0,3.0,1.0,5.0,2.0,1.0,10.0,4.0,1.0,5.0,4.0,4.0,2.0,4.0,7.0,3.0,5.0,2.0,4.0,3.0,3.0,5.0,3.0,2.0,3.0,3.0,1.0,2.0,2.0,2.0,3.0,4.0,2.0,2.0,2.0,2.0,2.0,2.0,3.0,3.0,3.0,3.0,3.0,2.0,4.0,4.0,5.0,1.0,4.0,2.0,1.0,2.0,4.0,3.0,2.0,3.0,3.0,3.0,5.0,2.0,2.0,2.0,3.0,2.0,8.0,3.0,2.0,4.0,3.0,5.0,3.0,1.0,1.0,2.0,3.0,1.0,2.0,2.0,3.0,1.0,5.0,4.0,7.0,3.0,1.0,2.0,2.0,2.0,2.0,9.0,3.0,1.0,2.0,2.0,3.0,1.0,4.0,4.0,2.0,1.0,4.0,5.0,2.0,6.0,2.0,1.0,4.0,6.0,9.0,1.0,2.0,3.0,3.0,3.0,5.0,1.0,1.0,1.0,1.0,2.0,3.0,4.0,3.0,4.0,5.0,3.0,4.0,1.0,4.0,1.0,2.0,1.0,3.0,1.0,1.0,9.0,1.0,1.0,1.0,2.0,4.0,1.0,4.0,2.0,4.0,2.0,4.0,3.0,1.0,3.0,2.0,2.0,4.0,3.0,1.0,1.0,2.0,2.0,1.0,9.0,2.0,2.0,1.0,5.0,1.0,10.0,1.0,5.0,1.0,4.0,2.0,2.0,2.0,3.0,4.0,5.0,3.0,1.0,4.0,0.0,2.0,4.0,2.0,2.0,3.0,0.0,3.0,3.0,3.0,3.0,1.0,2.0,2.0,1.0,1.0,4.0,3.0,2.0,0.0,3.0,2.0,1.0,2.0,6.0,1.0,0.0,3.0,2.0,2.0,1.0,7.0,5.0,2.0,2.0,1.0,5.0,3.0,3.0,3.0,1.0,3.0,5.0,2.0,2.0,2.0,6.0,2.0,1.0,2.0,1.0,2.0,5.0,3.0,6.0,3.0,5.0,1.0,7.0,2.0,4.0,1.0,3.0,1.0,2.0,4.0,3.0,3.0,2.0,2.0,2.0,5.0,2.0,2.0,1.0,2.0,3.0,1.0,1.0,1.0,2.0,2.0,3.0,5.0,3.0,5.0,2.0,6.0,1.0,4.0,4.0,2.0,2.0,3.0,3.0,3.0,4.0,4.0,2.0,2.0,4.0,1.0,2.0,3.0,3.0,1.0,2.0,4.0,3.0,3.0,2.0,4.0,2.0,3.0,4.0,5.0,4.0,3.0,5.0,1.0,1.0,1.0,3.0,2.0,1.0,1.0,3.0,1.0,2.0,1.0,0.0,2.0,2.0,2.0,1.0,3.0,2.0,10.0,3.0,1.0,2.0,5.0,2.0,2.0,5.0,3.0,2.0,4.0,2.0,1.0,3.0,3.0,1.0,5.0,1.0,2.0,1.0,1.0,1.0,1.0,3.0,2.0,7.0,4.0,1.0,2.0,3.0,1.0,1.0,3.0,5.0,1.0,4.0,2.0,5.0,3.0,5.0,2.0,1.0,3.0,3.0,2.0,2.0,5.0,3.0,4.0,2.0,4.0,2.0,3.0,1.0,4.0,4.0,4.0,2.0,1.0,1.0,4.0,2.0,5.0,4.0,0.0,5.0,11.0,1.0,2.0,3.0,9.0,2.0,1.0,3.0,1.0,3.0,1.0,2.0,2.0,1.0,5.0,1.0,12.0,1.0,6.0,0.0,1.0,3.0,3.0,2.0,1.0,4.0,6.0,2.0,3.0,3.0,4.0,5.0,1.0,4.0,2.0,0.0,4.0,2.0,1.0,4.0,5.0,2.0,5.0,1.0,9.0,1.0,6.0,6.0,3.0,6.0,2.0,2.0,4.0,7.0,2.0,3.0,6.0,2.0,1.0,6.0,1.0,2.0,5.0,2.0,2.0,11.0,1.0,5.0,3.0,3.0,4.0,5.0,1.0,2.0,4.0,4.0,4.0,5.0,3.0,3.0,5.0,1.0,2.0,3.0,9.0,6.0,2.0,5.0,11.0,1.0,2.0,2.0,4.0,2.0,2.0,5.0,2.0,9.0,3.0,5.0,6.0,2.0,2.0,2.0,1.0,3.0,2.0,1.0,2.0,1.0,3.0,2.0,2.0,5.0,3.0,7.0,3.0,3.0,1.0,6.0,1.0,4.0,8.0,3.0,2.0,1.0,1.0,8.0,4.0,3.0,1.0,3.0,3.0,1.0,3.0,8.0,2.0,7.0,3.0,6.0,0.0,4.0,3.0,2.0,4.0,2.0,5.0,3.0,0.0,9.0,5.0,2.0,11.0,4.0,9.0,3.0,4.0,3.0,3.0,4.0,11.0,3.0,2.0,4.0,4.0,10.0,3.0,2.0,10.0,0.0,1.0,2.0,9.0,2.0,2.0,3.0,2.0,0.0,1.0,4.0,3.0,1.0,4.0,2.0,3.0,3.0,2.0,4.0,1.0,1.0,4.0,2.0,5.0,3.0,1.0,2.0,1.0,5.0,4.0,3.0,0.0,4.0,1.0,3.0,2.0,2.0,6.0,3.0,2.0,3.0,3.0,4.0,2.0,5.0,12.0,1.0,2.0,5.0,3.0,3.0,3.0,5.0,4.0,7.0,3.0,1.0,2.0,4.0,3.0,6.0,3.0,2.0,2.0,3.0,3.0,2.0,3.0,1.0,4.0,2.0,4.0,18.0,1.0,5.0,2.0,1.0,2.0,3.0,3.0,3.0,2.0,1.0,4.0,2.0,4.0,2.0,6.0,1.0,2.0,0.0,2.0,4.0,4.0,5.0,7.0,2.0,4.0,0.0,5.0,1.0,3.0,3.0,5.0,2.0,4.0,1.0,1.0,5.0,5.0,3.0,10.0,6.0,4.0,6.0,1.0,2.0,5.0,3.0,2.0,3.0,3.0,2.0,2.0,5.0,5.0,2.0,1.0,5.0,5.0,3.0,7.0,4.0,9.0,3.0,2.0,5.0,3.0,2.0,4.0,4.0,1.0,1.0,1.0,2.0,1.0,1.0,2.0,1.0,4.0,2.0,2.0,7.0,2.0,8.0,2.0,3.0,3.0,3.0,2.0,6.0,1.0,3.0,6.0,1.0,2.0,2.0,2.0,1.0,2.0,3.0,2.0,7.0,3.0,2.0,6.0,1.0,3.0,5.0,2.0,5.0,6.0,3.0,2.0,3.0,4.0,0.0,1.0,4.0,4.0,5.0,2.0,0.0,2.0,1.0,1.0,5.0,3.0,3.0,1.0,4.0,3.0,1.0,2.0,3.0,2.0,6.0,3.0,5.0,1.0,6.0,2.0,2.0,2.0,3.0,2.0,3.0,1.0,3.0,3.0,7.0,5.0,2.0,2.0,5.0,1.0,2.0,4.0,4.0,3.0,1.0,4.0,2.0,1.0,2.0,10.0,2.0,5.0,3.0,3.0,3.0,1.0,2.0,0.0,2.0,1.0,2.0,5.0,2.0,3.0,3.0,5.0,0.0,4.0,1.0,2.0,3.0,1.0,2.0,2.0,4.0,9.0,0.0,1.0,5.0,3.0,2.0,6.0,3.0,2.0,0.0,1.0,4.0,11.0,4.0,3.0,2.0,6.0,5.0,2.0,2.0,4.0,3.0,3.0,4.0,3.0,1.0,1.0,2.0,3.0,6.0,3.0,1.0,3.0,6.0,5.0,3.0,4.0,15.0,1.0,4.0,2.0,4.0,0.0,2.0,7.0,3.0,6.0,1.0,4.0,1.0,0.0,2.0,3.0,4.0,1.0,0.0,3.0,6.0,4.0,7.0,2.0,2.0,1.0,2.0,2.0,4.0,1.0,5.0,3.0,4.0,1.0,4.0,4.0,4.0,2.0,1.0,2.0,2.0,3.0,1.0,2.0,2.0,3.0,2.0,3.0,3.0,2.0,6.0,1.0,4.0,3.0,3.0,2.0,1.0,2.0,2.0,3.0,4.0,1.0,2.0,2.0,1.0,6.0,2.0,2.0,1.0,2.0,2.0,1.0,4.0,4.0,3.0,8.0,1.0,8.0,4.0,3.0,2.0,2.0,1.0,2.0,1.0,5.0,8.0,3.0,2.0,2.0,2.0,3.0,12.0,2.0,4.0,5.0,2.0,2.0,2.0,3.0,3.0,4.0,3.0,3.0,2.0,3.0,2.0,2.0,3.0,1.0,1.0,4.0,0.0,2.0,1.0,1.0,1.0,4.0,3.0,6.0,2.0,9.0,6.0,2.0,2.0,3.0,4.0,7.0,2.0,3.0,2.0,3.0,2.0,2.0,4.0,2.0,4.0,1.0,7.0,7.0,2.0,1.0,6.0,3.0,1.0,1.0,2.0,3.0,1.0,14.0,1.0,2.0,2.0,1.0,5.0,1.0,2.0,1.0,2.0,1.0,2.0,1.0,2.0,4.0,3.0,7.0,2.0,5.0,1.0,7.0,3.0,4.0,1.0,1.0,4.0,2.0,2.0,4.0,2.0,1.0,7.0,2.0,3.0,6.0,4.0,1.0,4.0,3.0,2.0,4.0,1.0,1.0,4.0,3.0,7.0,3.0,2.0,4.0,0.0,1.0,3.0,4.0,3.0,5.0,6.0,5.0,1.0,3.0,1.0,2.0,1.0,4.0,1.0,1.0,6.0,2.0,1.0,2.0,3.0,3.0,4.0,1.0,2.0,4.0,3.0,0.0,2.0,1.0,1.0,1.0,5.0,1.0,4.0,3.0,2.0,4.0,1.0,3.0,3.0,5.0,3.0,4.0,5.0,6.0,1.0,1.0,3.0,8.0,2.0,7.0,2.0,2.0,15.0,2.0,3.0,4.0,2.0,1.0,4.0,3.0,2.0,2.0,3.0,1.0,2.0,3.0,2.0,2.0,1.0,3.0,5.0,4.0,3.0,6.0,3.0,4.0,1.0,6.0,2.0,6.0,1.0,2.0,2.0,3.0,4.0,3.0,2.0,2.0,1.0,2.0,2.0,3.0,2.0,3.0,4.0,1.0,2.0,1.0,2.0,3.0,4.0,5.0,4.0,1.0,1.0,2.0,3.0,3.0,1.0,4.0,3.0,5.0,5.0,3.0,4.0,4.0,2.0,1.0,2.0,1.0,2.0,2.0,2.0,5.0,5.0,3.0,4.0,5.0,2.0,1.0,2.0,3.0,3.0,3.0,6.0,5.0,4.0,2.0,1.0,2.0,4.0,2.0,5.0,2.0,1.0,1.0,1.0,2.0,3.0,2.0,4.0,5.0,3.0,3.0,4.0,2.0,3.0,4.0,1.0,1.0,5.0,2.0,5.0,3.0,9.0,3.0,6.0,4.0,3.0,2.0,3.0,5.0,1.0,2.0,1.0,3.0,3.0,10.0,0.0,6.0,4.0,9.0,3.0,3.0,3.0,2.0,1.0,4.0,2.0,3.0,3.0,3.0,1.0,4.0,6.0,7.0,1.0,6.0,5.0,9.0,3.0,3.0,2.0,2.0,5.0,5.0,2.0,2.0,3.0,2.0,3.0,1.0,1.0,1.0,2.0,2.0,2.0,2.0,1.0,2.0,3.0,4.0,2.0,2.0,2.0,1.0,3.0,3.0,2.0,2.0,3.0,2.0,3.0,4.0,6.0,2.0,3.0,3.0,1.0,2.0,3.0,2.0,4.0,4.0,1.0,1.0,4.0,4.0,2.0,2.0,4.0,2.0,4.0,2.0,1.0,2.0,2.0,7.0,1.0,4.0,1.0,2.0,4.0,5.0,11.0,3.0,2.0,2.0,3.0,0.0,1.0,4.0,3.0,2.0,4.0,3.0,6.0,3.0,3.0,2.0,2.0,2.0,7.0,1.0,1.0,3.0,3.0,4.0,3.0,3.0,4.0,3.0,1.0,1.0,5.0,3.0,0.0,2.0,1.0,5.0,5.0,3.0,1.0,3.0,1.0,3.0,5.0,2.0,5.0,5.0,3.0,4.0,1.0,3.0,3.0,4.0,3.0,3.0,2.0,1.0,4.0,4.0,3.0,2.0,1.0,3.0,1.0,6.0,3.0,0.0,3.0,4.0,2.0,1.0,2.0,5.0,3.0,3.0,1.0,4.0,6.0,2.0,3.0,2.0,3.0,2.0,2.0,1.0,1.0,5.0,1.0,2.0,2.0,2.0,3.0,1.0,2.0,5.0,2.0,5.0,3.0,0.0,1.0,2.0,3.0,7.0,1.0,1.0,4.0,1.0,2.0,3.0,2.0,1.0,1.0,3.0,2.0,5.0,5.0,2.0,5.0,7.0,3.0,2.0,3.0,5.0,2.0,1.0,2.0,1.0,3.0,4.0,5.0,1.0,9.0,7.0,7.0,3.0,1.0,1.0,13.0,1.0,2.0,3.0,2.0,1.0,2.0,3.0,5.0,4.0,2.0,0.0,2.0,1.0,2.0,1.0,5.0,1.0,3.0,2.0,1.0,2.0,4.0,1.0,5.0,2.0,3.0,3.0,6.0,2.0,8.0,3.0,1.0,1.0,5.0,2.0,2.0,2.0,4.0,3.0,2.0,1.0,3.0,2.0,3.0,6.0,2.0,7.0,1.0,5.0,4.0,3.0,2.0,5.0,1.0,15.0,4.0,2.0,2.0,2.0,3.0,2.0,2.0,1.0,2.0,1.0,9.0,2.0,6.0,2.0,5.0,4.0,4.0,4.0,8.0,4.0,1.0,1.0,2.0,4.0,3.0,2.0,2.0,3.0,3.0,1.0,1.0,5.0,3.0,1.0,8.0,3.0,2.0,7.0,5.0,4.0,6.0,2.0,5.0,3.0,2.0,2.0,3.0,1.0,4.0,3.0,2.0,8.0,7.0,7.0,2.0,2.0,9.0,2.0,4.0,4.0,1.0,5.0,7.0,3.0,4.0,0.0,2.0,5.0,5.0,1.0,5.0,1.0,10.0,2.0,1.0,4.0,1.0,1.0,2.0,3.0,3.0,3.0,1.0,4.0,4.0,3.0,1.0,7.0,1.0,5.0,4.0,1.0,2.0,2.0,1.0,1.0,2.0,1.0,1.0,1.0,5.0,3.0,2.0,3.0,1.0,1.0,2.0,2.0,5.0,1.0,2.0,1.0,3.0,3.0,3.0,2.0,2.0,1.0,2.0,1.0,3.0,2.0,5.0,4.0,3.0,2.0,4.0,2.0,4.0,3.0,4.0,2.0,2.0,6.0,5.0,4.0,1.0,3.0,2.0,3.0,3.0,2.0,2.0,6.0,1.0,0.0,4.0,3.0,1.0,4.0,1.0,2.0,4.0,4.0,1.0,2.0,2.0,3.0,4.0,3.0,3.0,4.0,2.0,0.0,3.0,1.0,6.0,4.0,1.0,2.0,6.0,3.0,3.0,2.0,1.0,2.0,1.0,3.0,3.0,3.0,2.0,3.0,5.0,2.0,4.0,3.0,1.0,2.0,7.0,4.0,5.0,2.0,3.0,2.0,7.0,1.0,3.0,2.0,5.0,2.0,5.0,1.0,1.0,3.0,5.0,3.0,6.0,3.0,3.0,4.0,3.0,1.0,4.0,3.0,5.0,2.0,3.0,4.0,1.0,3.0,3.0,3.0,3.0,2.0,1.0,2.0,3.0,2.0,2.0,3.0,1.0,11.0,8.0,2.0,2.0,3.0,6.0,5.0,1.0,1.0,6.0,3.0,4.0,3.0,2.0,3.0,2.0,2.0,3.0,2.0,4.0,2.0,3.0,4.0,2.0,2.0,9.0,2.0,9.0,10.0,5.0,3.0,2.0,6.0,2.0,1.0,2.0,2.0,1.0,3.0,3.0,1.0,2.0,1.0,8.0,4.0,1.0,4.0,2.0,6.0,2.0,3.0,4.0,1.0,1.0,4.0,3.0,7.0,4.0,3.0,4.0,4.0,2.0,4.0,8.0,2.0,1.0,1.0,2.0,2.0,5.0,2.0,2.0,8.0,4.0,5.0,1.0,5.0,1.0,2.0,1.0,2.0,2.0,1.0,5.0,2.0,1.0,3.0,1.0,3.0,4.0,3.0,2.0,2.0,2.0,1.0,1.0,6.0,10.0,4.0,3.0,7.0,2.0,3.0,3.0,4.0,6.0,4.0,2.0,1.0,2.0,2.0,3.0,1.0,1.0,2.0,2.0,3.0,2.0,2.0,4.0,2.0,2.0,2.0,3.0,1.0,3.0,4.0,2.0,1.0,4.0,2.0,4.0,12.0,2.0,1.0,4.0,2.0,2.0,3.0,4.0,3.0,4.0,3.0,2.0,4.0,1.0,2.0,1.0,2.0,2.0,1.0,2.0,2.0,2.0,2.0,3.0,1.0,1.0,4.0,1.0,3.0,5.0,2.0,1.0,1.0,5.0,3.0,3.0,4.0,1.0,1.0,1.0,1.0,4.0,2.0,3.0,2.0,3.0,5.0,1.0,2.0,8.0,2.0,1.0,5.0,5.0,4.0,2.0,7.0,4.0,4.0,3.0,3.0,4.0,5.0,6.0,6.0,6.0,9.0,1.0,1.0,2.0,1.0,7.0,6.0,4.0,0.0,6.0,4.0,2.0,1.0,1.0,3.0,1.0,2.0,2.0,2.0,2.0,1.0,5.0,9.0,5.0,3.0,2.0,2.0,5.0,5.0,5.0,4.0,2.0,1.0,1.0,3.0,1.0,2.0,1.0,2.0,5.0,4.0,1.0,0.0,4.0,2.0,4.0,6.0,5.0,1.0,3.0,1.0,2.0,5.0,2.0,2.0,2.0,1.0,1.0,2.0,3.0,2.0,2.0,1.0,1.0,3.0,4.0,4.0,3.0,2.0,3.0,1.0,2.0,1.0,1.0,1.0,2.0,4.0,2.0,10.0,1.0,3.0,4.0,5.0,3.0,4.0,4.0,18.0,3.0,3.0,1.0,3.0,8.0,0.0,8.0,2.0,1.0,2.0,1.0,4.0,4.0,5.0,2.0,2.0,2.0,2.0,6.0,1.0,1.0,1.0,3.0,3.0,5.0,10.0,6.0,1.0,4.0,2.0,2.0,1.0,2.0,3.0,4.0,3.0,2.0,4.0,2.0,1.0,2.0,5.0,13.0,1.0,4.0,2.0,1.0,3.0,5.0,4.0,2.0,8.0,3.0,2.0,2.0,3.0,5.0,3.0,2.0,2.0,6.0,2.0,4.0,4.0,2.0,1.0,8.0,1.0,2.0,5.0,0.0,5.0,0.0,5.0,4.0,8.0,3.0,1.0,2.0,2.0,4.0,2.0,3.0,2.0,4.0,2.0,2.0,4.0,4.0,2.0,2.0,2.0,6.0,2.0,4.0,2.0,3.0,1.0,2.0,2.0,2.0,7.0,1.0,4.0,4.0,1.0,2.0,2.0,5.0,0.0,4.0,1.0,2.0,2.0,4.0,5.0,1.0,2.0,4.0,3.0,2.0,1.0,3.0,3.0,1.0,6.0,2.0,1.0,5.0,2.0,1.0,4.0,1.0,4.0,1.0,6.0,3.0,1.0,4.0,3.0,2.0,3.0,2.0,1.0,1.0,5.0,5.0,0.0,4.0,4.0,10.0,1.0,1.0,1.0,1.0,4.0,3.0,6.0,1.0,6.0,3.0,2.0,1.0,9.0,0.0,4.0,2.0,1.0,1.0,2.0,2.0,3.0,1.0,1.0,4.0,1.0,10.0,1.0,1.0,1.0,2.0,1.0,1.0,7.0,2.0,5.0,1.0,2.0,2.0,3.0,0.0,1.0,4.0,1.0,5.0,2.0,2.0,3.0,2.0,4.0,1.0,5.0,2.0,3.0,2.0,1.0,5.0,4.0,2.0,1.0,2.0,1.0,2.0,1.0,8.0,7.0,8.0,4.0,5.0,3.0,5.0,3.0,2.0,3.0,1.0,2.0,2.0,3.0,10.0,2.0,7.0,1.0,1.0,9.0,4.0,3.0,2.0,3.0,3.0,2.0,5.0,4.0,3.0,1.0,2.0,1.0,3.0,2.0,3.0,3.0,2.0,5.0,2.0,3.0,5.0,5.0,2.0,2.0,2.0,4.0,2.0,7.0,1.0,3.0,6.0,3.0,2.0,3.0,5.0,1.0,4.0,2.0,6.0,3.0,3.0,3.0,2.0,2.0,2.0,0.0,2.0,0.0,3.0,3.0,2.0,2.0,2.0,5.0,3.0,10.0,5.0,3.0,1.0,2.0,2.0,2.0,2.0,2.0,3.0,2.0,2.0,1.0,2.0,2.0,4.0,10.0,3.0,4.0,3.0,5.0,4.0,2.0,1.0,5.0,3.0,3.0,6.0,2.0,8.0,5.0,1.0,2.0,2.0,2.0,2.0,2.0,4.0,8.0,1.0,1.0,2.0,1.0,7.0,2.0,4.0,6.0,6.0,4.0,4.0,4.0,2.0,1.0,7.0,5.0,1.0,5.0,2.0,2.0,3.0,2.0,1.0,3.0,4.0,1.0,3.0,4.0,3.0,3.0,11.0,3.0,3.0,5.0,3.0,1.0,1.0,3.0,2.0,5.0,2.0,4.0,0.0,1.0,6.0,3.0,2.0,10.0,1.0,2.0,2.0,1.0,2.0,6.0,9.0,2.0,4.0,6.0,2.0,1.0,5.0,2.0,5.0,1.0,5.0,6.0,2.0,3.0,1.0,5.0,1.0,5.0,4.0,2.0,2.0,4.0,1.0,2.0,2.0,2.0,4.0,2.0,3.0,3.0,2.0,1.0,2.0,4.0,3.0,0.0,3.0,3.0,2.0,3.0,3.0,2.0,4.0,1.0,2.0,6.0,5.0,7.0,4.0,3.0,4.0,2.0,2.0,4.0,2.0,8.0,2.0,3.0,2.0,10.0,2.0,5.0,1.0,2.0,2.0,2.0,6.0,6.0,5.0,1.0,3.0,2.0,2.0,4.0,2.0,2.0,7.0,3.0,8.0,1.0,2.0,5.0,1.0,3.0,3.0,4.0,4.0,1.0,2.0,3.0,1.0,2.0,6.0,2.0,2.0,2.0,2.0,6.0,2.0,1.0,3.0,2.0,6.0,3.0,2.0,2.0,2.0,3.0,4.0,2.0,5.0,4.0,3.0,5.0,2.0,1.0,1.0,5.0,3.0,3.0,3.0,2.0,4.0,3.0,4.0,5.0,1.0,7.0,3.0,3.0,2.0,12.0,3.0,3.0,1.0,2.0,6.0,7.0,3.0,3.0,5.0,2.0,2.0,5.0,1.0,1.0,1.0,1.0,7.0,3.0,2.0,4.0,1.0,4.0,1.0,6.0,3.0,2.0,3.0,1.0,3.0,1.0,0.0,9.0,4.0,3.0,3.0,3.0,2.0,7.0,2.0,6.0,2.0,7.0,5.0,6.0,20.0,3.0,2.0,1.0,3.0,1.0,2.0,5.0,2.0,3.0,1.0,3.0,1.0,3.0,2.0,2.0,1.0,3.0,4.0,1.0,2.0,4.0,2.0,4.0,7.0,1.0,3.0,3.0,1.0,3.0,2.0,5.0,4.0,3.0,2.0,1.0,2.0,0.0,5.0,2.0,3.0,4.0,4.0,3.0,5.0,1.0,9.0,3.0,2.0,2.0,6.0,2.0,1.0,3.0,3.0,1.0,5.0,1.0,1.0,7.0,2.0,1.0,0.0,1.0,2.0,1.0,3.0,6.0,2.0,2.0,3.0,4.0,8.0,1.0,12.0,1.0,2.0,2.0,3.0,3.0,3.0,2.0,1.0,3.0,6.0,2.0,3.0,2.0,3.0,4.0,2.0,6.0,3.0,2.0,0.0,2.0,5.0,5.0,1.0,1.0,4.0,0.0,3.0,1.0,5.0,4.0,4.0,1.0,3.0,1.0,1.0,4.0,4.0,2.0,1.0,0.0,1.0,3.0,7.0,4.0,5.0,6.0,2.0,1.0,2.0,2.0,2.0,6.0,3.0,6.0,1.0,1.0,1.0,6.0,5.0,3.0,2.0,3.0,1.0,16.0,2.0,4.0,5.0,1.0,4.0,4.0,1.0,1.0,1.0,2.0,8.0,2.0,8.0,2.0,2.0,3.0,1.0,2.0,4.0,2.0,2.0,4.0,1.0,4.0,8.0,2.0,2.0,9.0,4.0,3.0,3.0,5.0,3.0,2.0,1.0,4.0,2.0,9.0,2.0,4.0,3.0,3.0,3.0,5.0,2.0,2.0,8.0,3.0,1.0,2.0,3.0,0.0,6.0,6.0,4.0,5.0,12.0,2.0,1.0,1.0,3.0,3.0,4.0,2.0,3.0,0.0,4.0,1.0,2.0,6.0,2.0,2.0,0.0,3.0,4.0,3.0,3.0,3.0,7.0,5.0,3.0,2.0,4.0,2.0,4.0,2.0,7.0,2.0,1.0,6.0,3.0,4.0,6.0,2.0,3.0,4.0,2.0,3.0,3.0,4.0,4.0,7.0,2.0,2.0,2.0,11.0,2.0,2.0,1.0,1.0,0.0,6.0,12.0,5.0,1.0,1.0,3.0,4.0,2.0,5.0,3.0,5.0,3.0,3.0,3.0,1.0,2.0,1.0,2.0,4.0,8.0,3.0,4.0,3.0,3.0,2.0,5.0,3.0,2.0,4.0,5.0,2.0,3.0,2.0,3.0,4.0,5.0,3.0,5.0,1.0,4.0,3.0,3.0,7.0,3.0,3.0,2.0,3.0,3.0,6.0,2.0,4.0,2.0,1.0,7.0,1.0,4.0,5.0,1.0,0.0,1.0,2.0,3.0,1.0,1.0,1.0,1.0,1.0,2.0,4.0,4.0,2.0,7.0,7.0,1.0,11.0,4.0,6.0,3.0,3.0,1.0,3.0,7.0,4.0,10.0,4.0,1.0,1.0,8.0,2.0,2.0,2.0,2.0,3.0,5.0,3.0,1.0,2.0,1.0,0.0,2.0,1.0,4.0,5.0,1.0,2.0,1.0,2.0,1.0,1.0,2.0,2.0,4.0,2.0,4.0,4.0,8.0,1.0,1.0,2.0,4.0,4.0,3.0,4.0,3.0,5.0,3.0,4.0,6.0,6.0,6.0,3.0,2.0,2.0,2.0,4.0,2.0,2.0,4.0,7.0,2.0,2.0,7.0,3.0,5.0,2.0,2.0,2.0,3.0,1.0,5.0,2.0,0.0,2.0,4.0,1.0,0.0,4.0,5.0,1.0,1.0,3.0,4.0,2.0,1.0,1.0,2.0,1.0,5.0,1.0,3.0,1.0,2.0,3.0,3.0,1.0,3.0,3.0,7.0,2.0,8.0,1.0,1.0,2.0,1.0,1.0,3.0,5.0,2.0,3.0,3.0,2.0,2.0,2.0,3.0,2.0,4.0,3.0,1.0,1.0,4.0,2.0,1.0,2.0,5.0,2.0,2.0,4.0,4.0,1.0,2.0,8.0,1.0,2.0,5.0,4.0,2.0,3.0,3.0,3.0,3.0,1.0,5.0,1.0,4.0,3.0,3.0,3.0,2.0,2.0,1.0,3.0,7.0,0.0,1.0,3.0,3.0,4.0,1.0,6.0,2.0,2.0,4.0,2.0,2.0,2.0,4.0,5.0,6.0,1.0,3.0,1.0,1.0,9.0,4.0,2.0,4.0,2.0,4.0,5.0,1.0,6.0,7.0,3.0,1.0,3.0,7.0,3.0,2.0,7.0,5.0,1.0,2.0,1.0,1.0,2.0,4.0,4.0,2.0,3.0,3.0,1.0,0.0,3.0,1.0,3.0,2.0,2.0,7.0,3.0,7.0,1.0,3.0,4.0,9.0,7.0,1.0,2.0,9.0,3.0,0.0,3.0,0.0,6.0,2.0,4.0,2.0,1.0,2.0,4.0,4.0,2.0,5.0,1.0,5.0,2.0,1.0,4.0,2.0,2.0,2.0,1.0,5.0,7.0,4.0,1.0,2.0,2.0,3.0,1.0,1.0,2.0,5.0,5.0,11.0,5.0,2.0,16.0,2.0,1.0,2.0,2.0,6.0,2.0,2.0,2.0,4.0,2.0,5.0,1.0,2.0,1.0,1.0,5.0,4.0,4.0,1.0,6.0,3.0,4.0,2.0,14.0,3.0,3.0,5.0,3.0,1.0,3.0,1.0,1.0,2.0,5.0,2.0,3.0,2.0,2.0,2.0,3.0,3.0,1.0,1.0,2.0,6.0,1.0,3.0,2.0,1.0,7.0,1.0,3.0,1.0,3.0,2.0,6.0,1.0,1.0,4.0,1.0,14.0,8.0,7.0,2.0,6.0,1.0,3.0,5.0,4.0,4.0,2.0,1.0,7.0,2.0,1.0,3.0,3.0,4.0,2.0,2.0,3.0,3.0,4.0,4.0,1.0,2.0,5.0,1.0,3.0,6.0,4.0,6.0,2.0,1.0,2.0,5.0,9.0,10.0,2.0,2.0,1.0,2.0,4.0,2.0,0.0,3.0,7.0,3.0,3.0,2.0,2.0,0.0,3.0,2.0,3.0,3.0,2.0,3.0,8.0,4.0,2.0,2.0,1.0,1.0,3.0,3.0,1.0,1.0,1.0,0.0,1.0,2.0,4.0,0.0,2.0,1.0,4.0,3.0,5.0,3.0,6.0,6.0,2.0,2.0,4.0,4.0,1.0,4.0,9.0,3.0,5.0,5.0,3.0,2.0,1.0,1.0,3.0,3.0,10.0,4.0,3.0,3.0,5.0,2.0,2.0,4.0,2.0,1.0,3.0,2.0,2.0,0.0,2.0,1.0,10.0,2.0,1.0,4.0,4.0,2.0,2.0,5.0,4.0,3.0,8.0,3.0,4.0,1.0,1.0,2.0,8.0,1.0,2.0,2.0,2.0,0.0,3.0,3.0,1.0,1.0,3.0,3.0,3.0,3.0,1.0,3.0,3.0,2.0,0.0,1.0,4.0,1.0,2.0,4.0,7.0,1.0,3.0,4.0,4.0,5.0,4.0,7.0,2.0,2.0,1.0,15.0,2.0,1.0,1.0,1.0,6.0,1.0,1.0,2.0,1.0,2.0,4.0,4.0,1.0,2.0,3.0,3.0,2.0,7.0,1.0,3.0,2.0,7.0,4.0,5.0,2.0,4.0,3.0,1.0,1.0,2.0,3.0,3.0,4.0,2.0,3.0,2.0,3.0,5.0,1.0,4.0,2.0,1.0,1.0,2.0,1.0,2.0,1.0,1.0,5.0,4.0,1.0,6.0,2.0,2.0,5.0,3.0,4.0,4.0,2.0,1.0,1.0,2.0,7.0,1.0,1.0,5.0,10.0,2.0,4.0,8.0,4.0,2.0,5.0,2.0,3.0,3.0,4.0,1.0,1.0,3.0,4.0,2.0,4.0,3.0,5.0,10.0,4.0,4.0,3.0,3.0,2.0,3.0,2.0,2.0,2.0,5.0,4.0,1.0,3.0,2.0,9.0,2.0,2.0,1.0,6.0,5.0,1.0,2.0,4.0,1.0,1.0,4.0,1.0,3.0,3.0,5.0,3.0,1.0,5.0,4.0,4.0,1.0,2.0,0.0,3.0,3.0,5.0,3.0,6.0,2.0,1.0,3.0,2.0,3.0,2.0,2.0,1.0,2.0,2.0,6.0,4.0,1.0,7.0,2.0,3.0,4.0,2.0,2.0,4.0,1.0,1.0,3.0,2.0,2.0,3.0,3.0,3.0,1.0,9.0,2.0,2.0,10.0,3.0,3.0,3.0,6.0,2.0,1.0,2.0,1.0,1.0,1.0,1.0,6.0,34.0,3.0,10.0,2.0,2.0,2.0,4.0,1.0,4.0,4.0,9.0,3.0,4.0,7.0,2.0,3.0,3.0,3.0,1.0,2.0,3.0,1.0,3.0,7.0,2.0,5.0,5.0,0.0,3.0,6.0,3.0,2.0,10.0,4.0,1.0,3.0,6.0,1.0,3.0,3.0,1.0,5.0,5.0,5.0,4.0,4.0,4.0,3.0,1.0,2.0,3.0,1.0,2.0,1.0,4.0,1.0,2.0,3.0,6.0,6.0,4.0,8.0,4.0,8.0,3.0,3.0,5.0,5.0,8.0,7.0,0.0,6.0,3.0,2.0,1.0,2.0,3.0,2.0,4.0,1.0,2.0,6.0,1.0,3.0,1.0,3.0,4.0,7.0,5.0,1.0,2.0,1.0,3.0,4.0,6.0,1.0,3.0,2.0,1.0,4.0,5.0,2.0,2.0,3.0,2.0,3.0,3.0,3.0,1.0,1.0,1.0,2.0,1.0,2.0,2.0,6.0,5.0,6.0,1.0,3.0,2.0,1.0,2.0,1.0,3.0,4.0,1.0,2.0,2.0,1.0,3.0,3.0,6.0,2.0,2.0,6.0,7.0,4.0,3.0,2.0,4.0,1.0,12.0,3.0,2.0,11.0,4.0,4.0,1.0,3.0,3.0,4.0,2.0,2.0,2.0,2.0,2.0,15.0,8.0,5.0,4.0,3.0,1.0,7.0,10.0,5.0,3.0,2.0,2.0,1.0,3.0,5.0,1.0,2.0,2.0,2.0,3.0,2.0,9.0,2.0,2.0,1.0,4.0,5.0,12.0,3.0,1.0,2.0,5.0,2.0,1.0,9.0,3.0,2.0,6.0,1.0,1.0,3.0,1.0,5.0,2.0,3.0,1.0,3.0,2.0,1.0,1.0,1.0,1.0,4.0,5.0,2.0,3.0,4.0,2.0,7.0,4.0,1.0,2.0,3.0,5.0,1.0,3.0,1.0,2.0,6.0,3.0,9.0,6.0,1.0,0.0,3.0,5.0,11.0,4.0,6.0,4.0,5.0,2.0,1.0,1.0,2.0,1.0,3.0,3.0,6.0,3.0,2.0,1.0,2.0,2.0,1.0,1.0,0.0,3.0,4.0,2.0,2.0,3.0,2.0,3.0,1.0,3.0,3.0,2.0,1.0,3.0,2.0,2.0,2.0,3.0,1.0,3.0,2.0,3.0,2.0,9.0,2.0,6.0,2.0,9.0,2.0,3.0,3.0,3.0,8.0,3.0,4.0,2.0,7.0,2.0,3.0,2.0,5.0,2.0,8.0,4.0,3.0,3.0,3.0,2.0,4.0,1.0,2.0,2.0,5.0,3.0,9.0,3.0,3.0,1.0,1.0,7.0,5.0,2.0,1.0,4.0,4.0,3.0,1.0,6.0,1.0,4.0,3.0,3.0,2.0,3.0,3.0,1.0,4.0,2.0,4.0,3.0,4.0,2.0,3.0,6.0,2.0,4.0,1.0,2.0,5.0,3.0,2.0,1.0,2.0,4.0,1.0,1.0,1.0,1.0,6.0,2.0,1.0,6.0,1.0,5.0,0.0,2.0,3.0,1.0,5.0,1.0,5.0,3.0,1.0,2.0,2.0,3.0,2.0,2.0,4.0,1.0,2.0,2.0,3.0,1.0,4.0,5.0,0.0,2.0,2.0,4.0,2.0,1.0,1.0,3.0,4.0,1.0,5.0,2.0,5.0,8.0,4.0,0.0,3.0,3.0,3.0,6.0,2.0,3.0,2.0,2.0,2.0,3.0,3.0,1.0,2.0,3.0,3.0,2.0,3.0,6.0,2.0,1.0,3.0,4.0,3.0,2.0,5.0,3.0,1.0,2.0,2.0,5.0,1.0,2.0,4.0,4.0,1.0,6.0,3.0,3.0,1.0,2.0,3.0,1.0,3.0,4.0,1.0,2.0,5.0,5.0,1.0,2.0,2.0,3.0,2.0,8.0,5.0,5.0,2.0,3.0,3.0,3.0,4.0,11.0,2.0,4.0,3.0,3.0,2.0,2.0,2.0,3.0,3.0,3.0,8.0,1.0,5.0,3.0,2.0,1.0,1.0,1.0,1.0,1.0,1.0,2.0,1.0,1.0,1.0,4.0,2.0,6.0,3.0,4.0,4.0,1.0,3.0,1.0,3.0,2.0,0.0,5.0,1.0,6.0,1.0,3.0,3.0,1.0,2.0,3.0,2.0,2.0,3.0,5.0,0.0,1.0,3.0,1.0,1.0,3.0,3.0,4.0,5.0,2.0,3.0,3.0,2.0,0.0,1.0,2.0,2.0,1.0,2.0,1.0,9.0,3.0,0.0,4.0,5.0,2.0,5.0,1.0,1.0,4.0,1.0,5.0,2.0,3.0,4.0,5.0,1.0,2.0,6.0,1.0,1.0,2.0,3.0,1.0,3.0,3.0,1.0,1.0,2.0,2.0,2.0,1.0,3.0,4.0,1.0,2.0,3.0,1.0,4.0,1.0,4.0,1.0,4.0,8.0,4.0,2.0,1.0,3.0,4.0,3.0,0.0,16.0,2.0,6.0,4.0,1.0,0.0,3.0,1.0,3.0,3.0,2.0,3.0,4.0,5.0,1.0,6.0,6.0,3.0,1.0,2.0,5.0,1.0,2.0,1.0,1.0,2.0,6.0,1.0,2.0,4.0,7.0,4.0,1.0,2.0,3.0,2.0,0.0,15.0,3.0,1.0,3.0,1.0,1.0,2.0,1.0,4.0,2.0,1.0,4.0,2.0,3.0,1.0,1.0,3.0,3.0,2.0,2.0,2.0,6.0,2.0,2.0,2.0,3.0,1.0,3.0,3.0,1.0,1.0,5.0,2.0,5.0,2.0,1.0,1.0,4.0,6.0,1.0,3.0,2.0,1.0,1.0,3.0,6.0,5.0,1.0,8.0,0.0,6.0,3.0,2.0,1.0,3.0,6.0,6.0,6.0,4.0,4.0,1.0,1.0,2.0,1.0,2.0,1.0,2.0,1.0,2.0,8.0,3.0,8.0,1.0,6.0,2.0,1.0,4.0,4.0,5.0,1.0,1.0,1.0,5.0,2.0,5.0,4.0,2.0,1.0,2.0,3.0,5.0,2.0,2.0,1.0,2.0,1.0,6.0,2.0,3.0,4.0,3.0,2.0,8.0,2.0,6.0,2.0,6.0,1.0,1.0,8.0,2.0,4.0,1.0,2.0,4.0,3.0,5.0,1.0,8.0,4.0,1.0,3.0,2.0,6.0,2.0,7.0,2.0,1.0,5.0,4.0,2.0,1.0,1.0,1.0,3.0,1.0,4.0,3.0,1.0,4.0,4.0,2.0,2.0,2.0,1.0,4.0,6.0,4.0,1.0,2.0,1.0,2.0,1.0,1.0,1.0,2.0,2.0,2.0,6.0,1.0,4.0,3.0,2.0,1.0,11.0,1.0,10.0,4.0,3.0,2.0,4.0,18.0,1.0,1.0,5.0,3.0,1.0,1.0,2.0,4.0,3.0,2.0,3.0,6.0,3.0,1.0,1.0,2.0,5.0,3.0,3.0,7.0,4.0,6.0,4.0,4.0,2.0,2.0,4.0,0.0,5.0,3.0,4.0,4.0,2.0,4.0,4.0,3.0,3.0,2.0,1.0,4.0,2.0,1.0,2.0,1.0,4.0,2.0,4.0,3.0,3.0,1.0,2.0,2.0,2.0,2.0,3.0,1.0,1.0,2.0,12.0,7.0,3.0,2.0,3.0,3.0,3.0,1.0,1.0,2.0,2.0,3.0,1.0,2.0,1.0,4.0,2.0,2.0,2.0,2.0,2.0,2.0,3.0,1.0,3.0,3.0,12.0,1.0,2.0,16.0,1.0,5.0,1.0,1.0,2.0,2.0,1.0,3.0,2.0,1.0,1.0,2.0,2.0,5.0,3.0,4.0,1.0,1.0,2.0,3.0,3.0,2.0,3.0,2.0,4.0,9.0,1.0,1.0,1.0,1.0,5.0,2.0,8.0,10.0,2.0,1.0,3.0,8.0,3.0,2.0,9.0,2.0,5.0,6.0,7.0,3.0,5.0,9.0,3.0,4.0,1.0,5.0,2.0,4.0,2.0,4.0,5.0,2.0,4.0,1.0,2.0,2.0,4.0,1.0,3.0,2.0,3.0,2.0,2.0,4.0,2.0,2.0,2.0,2.0,3.0,3.0,2.0,4.0,3.0,3.0,3.0,4.0,2.0,1.0,1.0,4.0,3.0,4.0,10.0,3.0,6.0,2.0,1.0,1.0,3.0,3.0,4.0,2.0,2.0,4.0,2.0,1.0,2.0,1.0,5.0,3.0,3.0,9.0,2.0,4.0,2.0,1.0,2.0,2.0,2.0,1.0,2.0,5.0,6.0,3.0,1.0,3.0,3.0,3.0,4.0,2.0,3.0,1.0,4.0,4.0,1.0,1.0,6.0,2.0,3.0,2.0,1.0,2.0,1.0,3.0,1.0,20.0,3.0,5.0,1.0,3.0,2.0,3.0,1.0,5.0,4.0,4.0,4.0,3.0,2.0,1.0,2.0,3.0,3.0,5.0,1.0,5.0,0.0,2.0,3.0,1.0,3.0,2.0,1.0,6.0,5.0,3.0,1.0,1.0,1.0,4.0,3.0,4.0,3.0,0.0,4.0,1.0,4.0,4.0,3.0,4.0,2.0,2.0,3.0,3.0,2.0,2.0,5.0,4.0,0.0,8.0,10.0,2.0,1.0,5.0,6.0,1.0,2.0,2.0,1.0,2.0,2.0,2.0,1.0,10.0,4.0,2.0,4.0,2.0,2.0,2.0,2.0,1.0,1.0,1.0,1.0,2.0,4.0,3.0,1.0,3.0,6.0,2.0,3.0,3.0,1.0,5.0,1.0,1.0,4.0,3.0,4.0,1.0,7.0,4.0,2.0,6.0,3.0,2.0,3.0,1.0,2.0,6.0,3.0,8.0,1.0,10.0,1.0,1.0,1.0,2.0,2.0,1.0,1.0,2.0,5.0,2.0,2.0,4.0,6.0,3.0,4.0,2.0,1.0,3.0,3.0,2.0,1.0,3.0,3.0,1.0,1.0,7.0,1.0,5.0,6.0,2.0,5.0,4.0,4.0,2.0,2.0,2.0,4.0,1.0,0.0,3.0,6.0,2.0,2.0,3.0,1.0,4.0,6.0,3.0,10.0,8.0,4.0,2.0,2.0,2.0,1.0,2.0,1.0,1.0,4.0,2.0,4.0,1.0,7.0,8.0,2.0,2.0,2.0,1.0,3.0,3.0,3.0,2.0,3.0,1.0,2.0,4.0,1.0,3.0,2.0,3.0,4.0,8.0,2.0,5.0,5.0,1.0,1.0,7.0,4.0,2.0,4.0,1.0,4.0,3.0,3.0,4.0,7.0,3.0,3.0,6.0,4.0,2.0,1.0,2.0,3.0,3.0,3.0,2.0,3.0,2.0,5.0,2.0,5.0,2.0,8.0,2.0,3.0,2.0,4.0,1.0,1.0,2.0,2.0,9.0,2.0,3.0,4.0,1.0,0.0,6.0,6.0,1.0,1.0,2.0,1.0,6.0,2.0,4.0,3.0,4.0,1.0,6.0,2.0,6.0,4.0,1.0,3.0,2.0,2.0,4.0,2.0,1.0,5.0,6.0,3.0,2.0,4.0,2.0,7.0,3.0,2.0,4.0,2.0,2.0,3.0,2.0,2.0,7.0,5.0,6.0,4.0,0.0,2.0,3.0,2.0,1.0,4.0,1.0,2.0,2.0,2.0,5.0,1.0,3.0,2.0,7.0,4.0,4.0,4.0,4.0,3.0,2.0,2.0,2.0,2.0,7.0,2.0,2.0,7.0,2.0,4.0,5.0,5.0,3.0,4.0,3.0,6.0,3.0,3.0,3.0,5.0,2.0,3.0,6.0,5.0,2.0,2.0,4.0,3.0,3.0,3.0,2.0,8.0,2.0,2.0,5.0,1.0,4.0,1.0,1.0,3.0,1.0,1.0,2.0,5.0,2.0,0.0,5.0,3.0,5.0,5.0,2.0,3.0,2.0,8.0,3.0,3.0,2.0,4.0,3.0,4.0,5.0,1.0,1.0,3.0,3.0,3.0,1.0,4.0,1.0,3.0,5.0,4.0,2.0,6.0,2.0,2.0,2.0,3.0,7.0,2.0,1.0,2.0,3.0,6.0,9.0,1.0,4.0,1.0,4.0,1.0,2.0,2.0,2.0,3.0,1.0,6.0,5.0,3.0,10.0,1.0,3.0,3.0,4.0,3.0,4.0,3.0,3.0,5.0,3.0,4.0,2.0,4.0,1.0,1.0,2.0,4.0,3.0,4.0,2.0,5.0,2.0,3.0,3.0,6.0,5.0,6.0,4.0,3.0,3.0,1.0,5.0,2.0,2.0,3.0,4.0,1.0,3.0,3.0,3.0,7.0,2.0,6.0,4.0,2.0,3.0,1.0,3.0,5.0,3.0,2.0,8.0,3.0,4.0,3.0,3.0,1.0,4.0,3.0,1.0,2.0,2.0,13.0,2.0,1.0,1.0,3.0,6.0,1.0,4.0,2.0,1.0,2.0,6.0,2.0,5.0,1.0,4.0,1.0,2.0,2.0,1.0,3.0,2.0,12.0,2.0,14.0,0.0,11.0,7.0,5.0,2.0,2.0,8.0,3.0,1.0,2.0,1.0,0.0,4.0,2.0,1.0,4.0,2.0,5.0,7.0,4.0,4.0,1.0,4.0,2.0,2.0,1.0,1.0,7.0,4.0,1.0,1.0,8.0,2.0,4.0,5.0,4.0,3.0,1.0,1.0,4.0,7.0,2.0,3.0,7.0,1.0,1.0,6.0,2.0,2.0,1.0,3.0,5.0,2.0,5.0,1.0,2.0,4.0,2.0,2.0,1.0,2.0,4.0,2.0,6.0,3.0,1.0,4.0,2.0,2.0,8.0,1.0,8.0,3.0,4.0,2.0,3.0,10.0,3.0,4.0,1.0,1.0,3.0,2.0,3.0,6.0,3.0,3.0,1.0,2.0,4.0,2.0,3.0,6.0,2.0,2.0,2.0,2.0,5.0,1.0,3.0,2.0,4.0,2.0,2.0,8.0,8.0,2.0,3.0,1.0,1.0,0.0,4.0,3.0,1.0,1.0,3.0,1.0,3.0,2.0,2.0,1.0,4.0,2.0,3.0,10.0,2.0,1.0,1.0,4.0,1.0,2.0,3.0,3.0,2.0,5.0,1.0,2.0,4.0,1.0,1.0,2.0,3.0,2.0,4.0,2.0,6.0,6.0,3.0,3.0,3.0,3.0,1.0,2.0,4.0,3.0,3.0,3.0,1.0,6.0,4.0,4.0,3.0,1.0,1.0,3.0,4.0,2.0,5.0,5.0,1.0,1.0,2.0,4.0,3.0,2.0,2.0,1.0,2.0,1.0,2.0,4.0,8.0,4.0,4.0,3.0,4.0,6.0,4.0,1.0,1.0,4.0,1.0,3.0,3.0,5.0,12.0,2.0,1.0,2.0,4.0,6.0,10.0,3.0,5.0,2.0,0.0,3.0,3.0,9.0,2.0,3.0,8.0,2.0,1.0,5.0,4.0,3.0,0.0,2.0,2.0,2.0,2.0,5.0,1.0,4.0,3.0,4.0,0.0,3.0,4.0,1.0,7.0,0.0,1.0,1.0,3.0,1.0,1.0,6.0,1.0,1.0,3.0,2.0,2.0,1.0,2.0,3.0,3.0,3.0,4.0,1.0,1.0,4.0,6.0,0.0,4.0,2.0,4.0,2.0,3.0,4.0,10.0,4.0,2.0,5.0,1.0,4.0,3.0,3.0,1.0,3.0,5.0,2.0,4.0,1.0,7.0,2.0,2.0,5.0,2.0,8.0,5.0,2.0,1.0,1.0,2.0,0.0,8.0,2.0,1.0,3.0,3.0,3.0,1.0,3.0,2.0,1.0,4.0,3.0,1.0,2.0,3.0,1.0,2.0,2.0,9.0,2.0,7.0,1.0,4.0,5.0,2.0,3.0,7.0,3.0,2.0,2.0,2.0,11.0,3.0,4.0,2.0,1.0,2.0,3.0,2.0,3.0,3.0,2.0,4.0,2.0,3.0,4.0,3.0,5.0,6.0,3.0,2.0,1.0,2.0,3.0,3.0,4.0,6.0,8.0,3.0,2.0,4.0,3.0,5.0,4.0,2.0,2.0,1.0,8.0,2.0,5.0,4.0,2.0,4.0,4.0,4.0,15.0,1.0,5.0,1.0,4.0,1.0,1.0,3.0,2.0,7.0,10.0,0.0,3.0,2.0,3.0,3.0,2.0,1.0,2.0,12.0,4.0,1.0,3.0,1.0,2.0,3.0,3.0,2.0,3.0,8.0,2.0,1.0,3.0,6.0,0.0,2.0,2.0,3.0,1.0,8.0,2.0,3.0,5.0,4.0,3.0,1.0,3.0,2.0,0.0,1.0,5.0,4.0,2.0,1.0,3.0,3.0,11.0,4.0,1.0,3.0,1.0,3.0,3.0,1.0,2.0,1.0,5.0,3.0,12.0,2.0,2.0,3.0,2.0,0.0,3.0,4.0,4.0,3.0,6.0,1.0,1.0,2.0,3.0,3.0,3.0,3.0,2.0,4.0,2.0,2.0,1.0,4.0,1.0,1.0,3.0,4.0,2.0,4.0,4.0,6.0,3.0,4.0,2.0,3.0,3.0,6.0,1.0,3.0,2.0,3.0,1.0,7.0,3.0,5.0,2.0,1.0,1.0,2.0,5.0,2.0,5.0,2.0,9.0,2.0,4.0,7.0,6.0,5.0,6.0,7.0,1.0,4.0,5.0,2.0,4.0,2.0,3.0,4.0,2.0,1.0,2.0,3.0,3.0,7.0,3.0,8.0,2.0,7.0,2.0,5.0,5.0,2.0,2.0,5.0,5.0,3.0,4.0,2.0,2.0,2.0,4.0,2.0,4.0,2.0,1.0,1.0,3.0,6.0,4.0,1.0,6.0,6.0,1.0,1.0,5.0,10.0,5.0,2.0,2.0,3.0,1.0,2.0,5.0,5.0,5.0,3.0,3.0,2.0,5.0,3.0,3.0,6.0,1.0,5.0,5.0,2.0,1.0,6.0,1.0,3.0,8.0,1.0,1.0,3.0,4.0,7.0,6.0,8.0,2.0,1.0,4.0,1.0,1.0,1.0,9.0,2.0,3.0,2.0,3.0,3.0,12.0,4.0,1.0,1.0,2.0,3.0,2.0,1.0,1.0,4.0,3.0,2.0,3.0,3.0,1.0,5.0,5.0,1.0,5.0,2.0,2.0,2.0,3.0,4.0,6.0,1.0,3.0,3.0,2.0,3.0,3.0,1.0,2.0,1.0,5.0,3.0,3.0,3.0,3.0,3.0,3.0,4.0,4.0,2.0,3.0,3.0,2.0,0.0,2.0,2.0,3.0,7.0,1.0,4.0,8.0,3.0,2.0,5.0,5.0,2.0,2.0,8.0,4.0,7.0,2.0,2.0,1.0,4.0,2.0,2.0,3.0,1.0,2.0,1.0,3.0,4.0,4.0,1.0,1.0,2.0,2.0,4.0,2.0,3.0,7.0,2.0,4.0,3.0,3.0,11.0,1.0,1.0,2.0,4.0,2.0,4.0,6.0,3.0,9.0,1.0,7.0,6.0,1.0,3.0,4.0,3.0,2.0,4.0,2.0,4.0,6.0,3.0,6.0,10.0,9.0,2.0,1.0,3.0,5.0,11.0,4.0,4.0,4.0,5.0,2.0,2.0,2.0,7.0,9.0,1.0,2.0,3.0,1.0,5.0,2.0,2.0,3.0,5.0,9.0,1.0,6.0,2.0,1.0,4.0,6.0,3.0,1.0,2.0,1.0,4.0,1.0,4.0,1.0,4.0,2.0,1.0,2.0,4.0,2.0,2.0,2.0,4.0,1.0,1.0,5.0,6.0,4.0,2.0,1.0,1.0,1.0,1.0,12.0,8.0,1.0,2.0,3.0,6.0,6.0,6.0,2.0,1.0,3.0,7.0,2.0,4.0,3.0,5.0,4.0,2.0,2.0,1.0,4.0,2.0,4.0,7.0,2.0,1.0,3.0,5.0,4.0,5.0,1.0,3.0,1.0,3.0,3.0,2.0,3.0,2.0,2.0,4.0,3.0,2.0,2.0,8.0,2.0,2.0,2.0,4.0,2.0,3.0,2.0,3.0,5.0,3.0,2.0,3.0,2.0,4.0,3.0,4.0,1.0,4.0,1.0,1.0,0.0,3.0,2.0,3.0,3.0,3.0,6.0,7.0,2.0,2.0,1.0,5.0,6.0,1.0,5.0,1.0,3.0,7.0,2.0,4.0,1.0,2.0,3.0,1.0,3.0,4.0,5.0,7.0,4.0,3.0,3.0,2.0,2.0,6.0,1.0,6.0,3.0,2.0,4.0,3.0,4.0,5.0,2.0,2.0,2.0,5.0,3.0,7.0,0.0,5.0,5.0,4.0,1.0,1.0,1.0,3.0,5.0,4.0,4.0,5.0,1.0,2.0,2.0,4.0,5.0,5.0,2.0,4.0,2.0,3.0,1.0,4.0,2.0,2.0,3.0,2.0,1.0,2.0,6.0,2.0,3.0,3.0,1.0,1.0,3.0,2.0,3.0,2.0,4.0,10.0,3.0,2.0,4.0,3.0,2.0,2.0,2.0,3.0,4.0,2.0,4.0,2.0,4.0,4.0,1.0,7.0,1.0,2.0,5.0,1.0,7.0,1.0,2.0,8.0,1.0,1.0,2.0,9.0,6.0,1.0,4.0,2.0,1.0,2.0,2.0,9.0,4.0,8.0,2.0,2.0,4.0,2.0,2.0,5.0,1.0,1.0,7.0,5.0,1.0,2.0,1.0,2.0,3.0,1.0,3.0,10.0,1.0,3.0,3.0,1.0,1.0,1.0,3.0,1.0,2.0,1.0,2.0,3.0,4.0,2.0,2.0,12.0,3.0,6.0,4.0,2.0,1.0,3.0,2.0,9.0,3.0,2.0,4.0,3.0,5.0,3.0,2.0,3.0,2.0,4.0,5.0,8.0,2.0,9.0,6.0,4.0,1.0,5.0,7.0,6.0,2.0,1.0,3.0,3.0,5.0,1.0,2.0,2.0,6.0,4.0,5.0,3.0,4.0,1.0,4.0,3.0,6.0,3.0,4.0,2.0,3.0,2.0,3.0,6.0,3.0,2.0,3.0,1.0,3.0,1.0,3.0,2.0,8.0,2.0,7.0,3.0,2.0,2.0,17.0,2.0,2.0,4.0,1.0,3.0,1.0,2.0,8.0,3.0,2.0,5.0,3.0,3.0,4.0,1.0,2.0,2.0,7.0,1.0,3.0,6.0,9.0,4.0,1.0,3.0,2.0,4.0,5.0,2.0,1.0,5.0,1.0,3.0,2.0,2.0,1.0,5.0,5.0,2.0,3.0,3.0,5.0,0.0,4.0,1.0,4.0,1.0,0.0,0.0,1.0,3.0,6.0,6.0,4.0,1.0,2.0,4.0,2.0,4.0,4.0,4.0,0.0,2.0,1.0,1.0,5.0,4.0,7.0,1.0,1.0,5.0,2.0,2.0,14.0,6.0,2.0,5.0,1.0,2.0,4.0,1.0,1.0,3.0,2.0,1.0,1.0,0.0,1.0,2.0,1.0,9.0,3.0,4.0,2.0,2.0,4.0,5.0,2.0,4.0,3.0,1.0,3.0,1.0,3.0,1.0,2.0,2.0,1.0,1.0,1.0,3.0,1.0,1.0,4.0,2.0,2.0,1.0,2.0,3.0,2.0,3.0,3.0,3.0,3.0,3.0,4.0,3.0,3.0,6.0,2.0,1.0,1.0,3.0,2.0,2.0,1.0,5.0,4.0,6.0,3.0,2.0,3.0,4.0,2.0,2.0,7.0,1.0,3.0,2.0,1.0,6.0,1.0,2.0,2.0,4.0,1.0,7.0,2.0,3.0,1.0,2.0,2.0,5.0,4.0,2.0,2.0,6.0,1.0,5.0,4.0,4.0,3.0,2.0,4.0,7.0,5.0,1.0,2.0,2.0,2.0,2.0,3.0,2.0,3.0,5.0,1.0,3.0,4.0,1.0,2.0,1.0,1.0,4.0,1.0,7.0,9.0,2.0,3.0,3.0,3.0,13.0,2.0,3.0,5.0,6.0,2.0,1.0,1.0,4.0,1.0,3.0,2.0,2.0,2.0,4.0,9.0,5.0,3.0,2.0,2.0,3.0,3.0,2.0,2.0,3.0,2.0,2.0,6.0,3.0,3.0,3.0,2.0,2.0,2.0,1.0,1.0,1.0,2.0,3.0,4.0,12.0,2.0,3.0,3.0,4.0,2.0,4.0,3.0,4.0,2.0,4.0,3.0,3.0,3.0,1.0,4.0,2.0,1.0,1.0,7.0,7.0,2.0,1.0,0.0,4.0,2.0,1.0,4.0,3.0,3.0,3.0,3.0,2.0,4.0,2.0,2.0,2.0,3.0,2.0,3.0,5.0,3.0,1.0,1.0,1.0,3.0,3.0,5.0,4.0,3.0,6.0,3.0,2.0,3.0,4.0,2.0,3.0,5.0,4.0,3.0,2.0,6.0,4.0,3.0,2.0,3.0,3.0,3.0,5.0,3.0,2.0,4.0,3.0,2.0,3.0,4.0,4.0,2.0,7.0,1.0,1.0,5.0,3.0,2.0,5.0,3.0,2.0,3.0,4.0,2.0,1.0,3.0,1.0,1.0,2.0,3.0,4.0,2.0,2.0,1.0,0.0,7.0,2.0,2.0,2.0,2.0,1.0,2.0,9.0,3.0,2.0,1.0,2.0,2.0,2.0,3.0,3.0,2.0,1.0,9.0,2.0,3.0,1.0,1.0,1.0,5.0,4.0,1.0,3.0,5.0,1.0,3.0,4.0,5.0,1.0,3.0,2.0,4.0,4.0,1.0,5.0,2.0,1.0,3.0,1.0,5.0,12.0,1.0,4.0,2.0,6.0,2.0,4.0,1.0,6.0,2.0,3.0,10.0,5.0,9.0,4.0,3.0,3.0,8.0,1.0,3.0,4.0,3.0,1.0,1.0,3.0,1.0,2.0,4.0,3.0,0.0,2.0,3.0,3.0,1.0,3.0,3.0,3.0,8.0,5.0,2.0,1.0,5.0,2.0,1.0,2.0,1.0,3.0,2.0,3.0,2.0,3.0,2.0,2.0,5.0,2.0,3.0,5.0,2.0,2.0,7.0,3.0,1.0,3.0,2.0,1.0,5.0,4.0,4.0,5.0,3.0,3.0,8.0,5.0,2.0,1.0,2.0,2.0,4.0,3.0,3.0,5.0,2.0,2.0,3.0,1.0,9.0,1.0,2.0,4.0,5.0,2.0,2.0,1.0,3.0,4.0,2.0,2.0,4.0,11.0,1.0,3.0,6.0,2.0,2.0,7.0,2.0,2.0,2.0,6.0,3.0,3.0,2.0,3.0,5.0,1.0,1.0,2.0,2.0,4.0,7.0,1.0,6.0,1.0,2.0,3.0,3.0,4.0,3.0,3.0,3.0,3.0,5.0,1.0,1.0,4.0,8.0,1.0,1.0,2.0,5.0,1.0,4.0,5.0,3.0,3.0,2.0,2.0,3.0,1.0,2.0,2.0,8.0,4.0,1.0,1.0,2.0,0.0,3.0,2.0,1.0,3.0,5.0,4.0,3.0,4.0,2.0,1.0,3.0,3.0,5.0,9.0,4.0,2.0,2.0,2.0,2.0,5.0,3.0,6.0,2.0,4.0,2.0,2.0,1.0,2.0,2.0,1.0,1.0,4.0,4.0,2.0,1.0,5.0,4.0,4.0,3.0,5.0,4.0,2.0,8.0,1.0,2.0,3.0,1.0,6.0,1.0,0.0,2.0,3.0,3.0,2.0,2.0,2.0,1.0,1.0,2.0,3.0,3.0,5.0,5.0,1.0,2.0,3.0,1.0,1.0,3.0,4.0,2.0,2.0,2.0,1.0,2.0,7.0,2.0,0.0,4.0,3.0,2.0,4.0,1.0,2.0,5.0,2.0,12.0,5.0,4.0,4.0,2.0,2.0,2.0,3.0,2.0,1.0,1.0,3.0,2.0,3.0,2.0,3.0,1.0,2.0,4.0,4.0,6.0,2.0,2.0,7.0,3.0,3.0,1.0,1.0,8.0,1.0,1.0,2.0,4.0,8.0,3.0,3.0,3.0,2.0,3.0,1.0,2.0,2.0,3.0,5.0,2.0,5.0,1.0,4.0,4.0,3.0,1.0,1.0,5.0,3.0,1.0,2.0,6.0,3.0,3.0,2.0,3.0,2.0,5.0,1.0,3.0,3.0,11.0,1.0,7.0,1.0,1.0,2.0,6.0,3.0,4.0,4.0,2.0,1.0,1.0,4.0,2.0,2.0,2.0,3.0,1.0,1.0,6.0,1.0,3.0,4.0,1.0,0.0,3.0,5.0,2.0,4.0,3.0,9.0,3.0,2.0,6.0,2.0,3.0,2.0,4.0,1.0,2.0,4.0,2.0,4.0,1.0,2.0,16.0,1.0,1.0,1.0,3.0,2.0,1.0,2.0,2.0,1.0,3.0,1.0,2.0,1.0,6.0,0.0,1.0,2.0,6.0,3.0,2.0,2.0,5.0,6.0,1.0,2.0,3.0,6.0,3.0,2.0,4.0,8.0,3.0,9.0,2.0,2.0,2.0,2.0,2.0,2.0,4.0,4.0,6.0,1.0,1.0,3.0,2.0,2.0,4.0,4.0,2.0,3.0,4.0,4.0,4.0,2.0,1.0,3.0,3.0,2.0,1.0,1.0,2.0,3.0,1.0,1.0,13.0,3.0,3.0,1.0,2.0,4.0,2.0,3.0,1.0,5.0,5.0,2.0,3.0,1.0,6.0,11.0,1.0,1.0,2.0,2.0,3.0,3.0,3.0,4.0,2.0,3.0,3.0,3.0,1.0,3.0,5.0,2.0,12.0,4.0,3.0,3.0,3.0,1.0,7.0,5.0,1.0,6.0,4.0,7.0,4.0,2.0,2.0,2.0,2.0,3.0,1.0,3.0,3.0,0.0,2.0,3.0,2.0,5.0,2.0,1.0,3.0,1.0,2.0,9.0,2.0,14.0,3.0,2.0,4.0,2.0,2.0,4.0,1.0,2.0,1.0,5.0,1.0,5.0,2.0,1.0,3.0,3.0,3.0,3.0,7.0,5.0,7.0,2.0,4.0,2.0,2.0,6.0,1.0,4.0,0.0,3.0,9.0,2.0,1.0,1.0,7.0,8.0,4.0,1.0,2.0,2.0,3.0,2.0,4.0,2.0,4.0,3.0,2.0,2.0,11.0,2.0,2.0,3.0,3.0,4.0,2.0,4.0,1.0,2.0,3.0,3.0,15.0,2.0,5.0,4.0,2.0,1.0,3.0,5.0,1.0,3.0,5.0,3.0,4.0,2.0,4.0,5.0,1.0,2.0,2.0,10.0,5.0,4.0,2.0,2.0,1.0,3.0,1.0,3.0,3.0,2.0,4.0,6.0,2.0,2.0,1.0,1.0,2.0,4.0,4.0,1.0,5.0,0.0,11.0,5.0,4.0,3.0,3.0,2.0,4.0,9.0,5.0,2.0,9.0,3.0,1.0,3.0,6.0,2.0,2.0,1.0,3.0,9.0,3.0,5.0,9.0,1.0,1.0,3.0,3.0,2.0,1.0,4.0,3.0,4.0,3.0,4.0,3.0,1.0,2.0,1.0,1.0,2.0,0.0,1.0,1.0,2.0,3.0,1.0,1.0,0.0,3.0,15.0,3.0,1.0,12.0,2.0,0.0,1.0,1.0,3.0,2.0,2.0,3.0,3.0,4.0,1.0,3.0,2.0,2.0,1.0,3.0,4.0,5.0,1.0,3.0,1.0,5.0,3.0,3.0,4.0,5.0,3.0,4.0,2.0,2.0,4.0,4.0,2.0,10.0,5.0,1.0,0.0,1.0,1.0,2.0,4.0,1.0,3.0,4.0,1.0,4.0,2.0,5.0,3.0,3.0,2.0,4.0,3.0,1.0,1.0,0.0,4.0,1.0,2.0,5.0,7.0,2.0,5.0,2.0,4.0,3.0,2.0,4.0,2.0,1.0,4.0,4.0,4.0,2.0,2.0,2.0,2.0,5.0,1.0,2.0,11.0,2.0,0.0,1.0,1.0,4.0,1.0,3.0,6.0,1.0,3.0,1.0,1.0,5.0,1.0,5.0,7.0,3.0,2.0,2.0,3.0,1.0,7.0,2.0,3.0,3.0,3.0,3.0,5.0,6.0,5.0,3.0,1.0,0.0,2.0,7.0,2.0,3.0,2.0,5.0,2.0,1.0,3.0,1.0,2.0,2.0,0.0,3.0,2.0,2.0,1.0,7.0,1.0,1.0,3.0,9.0,5.0,3.0,3.0,2.0,7.0,5.0,4.0,3.0,3.0,3.0,3.0,5.0,1.0,6.0,3.0,1.0,5.0,4.0,7.0,1.0,1.0,4.0,2.0,2.0,2.0,1.0,4.0,1.0,2.0,1.0,2.0,1.0,4.0,5.0,3.0,2.0,3.0,2.0,3.0,3.0,0.0,4.0,13.0,3.0,3.0,6.0,2.0,1.0,0.0,4.0,1.0,1.0,8.0,2.0,2.0,3.0,6.0,1.0,5.0,4.0,4.0,1.0,4.0,3.0,5.0,1.0,1.0,1.0,2.0,4.0,3.0,2.0,9.0,5.0,2.0,2.0,3.0,4.0,1.0,2.0,4.0,2.0,2.0,2.0,1.0,3.0,2.0,7.0,2.0,2.0,3.0,5.0,2.0,1.0,9.0,8.0,2.0,1.0,2.0,5.0,4.0,3.0,2.0,5.0,1.0,3.0,1.0,3.0,3.0,4.0,1.0,2.0,3.0,4.0,2.0,4.0,9.0,3.0,1.0,2.0,5.0,5.0,2.0,2.0,2.0,4.0,0.0,2.0,7.0,2.0,3.0,2.0,2.0,7.0,4.0,4.0,2.0,5.0,1.0,3.0,6.0,1.0,1.0,4.0,3.0,1.0,12.0,9.0,2.0,2.0,2.0,2.0,1.0,1.0,1.0,0.0,4.0,2.0,1.0,1.0,2.0,0.0,1.0,3.0,6.0,2.0,5.0,2.0,1.0,3.0,1.0,6.0,6.0,2.0,2.0,3.0,4.0,1.0,3.0,3.0,4.0,2.0,6.0,1.0,1.0,4.0,2.0,1.0,1.0,3.0,5.0,1.0,0.0,1.0,2.0,2.0,0.0,0.0,2.0,6.0,3.0,5.0,4.0,6.0,2.0,3.0,3.0,7.0,3.0,1.0,2.0,1.0,2.0,2.0,2.0,8.0,3.0,6.0,3.0,4.0,3.0,4.0,4.0,5.0,4.0,5.0,3.0,1.0,1.0,1.0,2.0,3.0,3.0,4.0,1.0,4.0,3.0,2.0,6.0,3.0,7.0,3.0,0.0,4.0,1.0,4.0,3.0,1.0,2.0,3.0,1.0,2.0,1.0,1.0,6.0,3.0,2.0,1.0,4.0,1.0,3.0,2.0,2.0,1.0,4.0,7.0,2.0,14.0,2.0,3.0,2.0,2.0,4.0,8.0,1.0,3.0,1.0,1.0,2.0,9.0,3.0,2.0,3.0,3.0,5.0,2.0,2.0,1.0,1.0,2.0,4.0,3.0,2.0,3.0,4.0,3.0,9.0,2.0,7.0,2.0,1.0,3.0,1.0,3.0,2.0,3.0,2.0,1.0,3.0,3.0,6.0,4.0,3.0,7.0,2.0,6.0,2.0,3.0,5.0,2.0,4.0,2.0,2.0,2.0,5.0,0.0,2.0,5.0,6.0,3.0,4.0,4.0,4.0,1.0,3.0,2.0,2.0,3.0,2.0,1.0,4.0,2.0,3.0,4.0,2.0,1.0,2.0,3.0,4.0,2.0,4.0,1.0,3.0,1.0,3.0,2.0,5.0,3.0,2.0,4.0,1.0,4.0,4.0,7.0,2.0,6.0,4.0,1.0,3.0,2.0,2.0,5.0,3.0,3.0,7.0,3.0,3.0,3.0,9.0,3.0,4.0,3.0,5.0,2.0,1.0,4.0,4.0,5.0,2.0,2.0,3.0,1.0,1.0,2.0,2.0,3.0,5.0,2.0,2.0,14.0,8.0,2.0,1.0,1.0,2.0,1.0,3.0,3.0,2.0,1.0,5.0,2.0,2.0,4.0,3.0,2.0,4.0,2.0,2.0,4.0,4.0,5.0,2.0,5.0,8.0,4.0,2.0,2.0,2.0,1.0,6.0,1.0,5.0,3.0,2.0,3.0,2.0,10.0,4.0,2.0,2.0,7.0,6.0,2.0,1.0,3.0,1.0,3.0,6.0,2.0,2.0,3.0,10.0,1.0,1.0,4.0,6.0,2.0,4.0,4.0,2.0,1.0,4.0,2.0,3.0,4.0,4.0,5.0,1.0,4.0,3.0,3.0,2.0,7.0,2.0,4.0,1.0,1.0,2.0,6.0,1.0,2.0,4.0,2.0,2.0,3.0,4.0,1.0,2.0,3.0,1.0,2.0,1.0,4.0,4.0,4.0,2.0,3.0,1.0,1.0,2.0,6.0,1.0,5.0,4.0,1.0,5.0,3.0,3.0,2.0,3.0,3.0,4.0,1.0,0.0,2.0,2.0,2.0,2.0,6.0,4.0,4.0,2.0,1.0,1.0,3.0,5.0,3.0,4.0,2.0,6.0,1.0,1.0,1.0,4.0,3.0,2.0,2.0,3.0,4.0,3.0,1.0,3.0,1.0,3.0,2.0,5.0,1.0,2.0,2.0,6.0,4.0,1.0,1.0,5.0,5.0,4.0,3.0,3.0,1.0,2.0,3.0,3.0,3.0,3.0,3.0,5.0,3.0,10.0,1.0,1.0,2.0,3.0,2.0,3.0,3.0,2.0,1.0,3.0,2.0,4.0,4.0,1.0,2.0,2.0,2.0,4.0,3.0,4.0,1.0,2.0,2.0,2.0,2.0,3.0,1.0,1.0,2.0,10.0,2.0,5.0,3.0,3.0,6.0,4.0,1.0,6.0,1.0,5.0,2.0,0.0,2.0,3.0,2.0,3.0,2.0,4.0,2.0,3.0,3.0,3.0,3.0,3.0,4.0,2.0,2.0,6.0,4.0,2.0,5.0,8.0,1.0,2.0,2.0,2.0,3.0,3.0,1.0,1.0,2.0,6.0,0.0,4.0,2.0,1.0,1.0,11.0,2.0,1.0,3.0,2.0,4.0,4.0,2.0,3.0,3.0,1.0,3.0,0.0,3.0,1.0,3.0,3.0,5.0,10.0,11.0,2.0,5.0,4.0,6.0,3.0,4.0,4.0,3.0,6.0,3.0,2.0,2.0,2.0,2.0,3.0,3.0,1.0,4.0,3.0,2.0,1.0,2.0,3.0,1.0,1.0,8.0,4.0,2.0,4.0,3.0,4.0,5.0,2.0,4.0,3.0,7.0,2.0,3.0,1.0,8.0,0.0,9.0,3.0,1.0,5.0,2.0,2.0,4.0,2.0,2.0,7.0,2.0,7.0,6.0,2.0,3.0,3.0,18.0,2.0,2.0,4.0,3.0,1.0,2.0,3.0,4.0,1.0,7.0,2.0,11.0,1.0,3.0,1.0,3.0,1.0,3.0,1.0,8.0,3.0,1.0,1.0,6.0,1.0,1.0,1.0,3.0,2.0,4.0,2.0,1.0,2.0,4.0,4.0,2.0,2.0,3.0,2.0,4.0,2.0,1.0,1.0,6.0,4.0,1.0,1.0,1.0,2.0,3.0,3.0,7.0,5.0,2.0,5.0,2.0,4.0,2.0,2.0,7.0,5.0,3.0,3.0,1.0,0.0,4.0,2.0,2.0,7.0,3.0,3.0,3.0,3.0,1.0,1.0,4.0,2.0,10.0,3.0,2.0,2.0,3.0,4.0,2.0,4.0,4.0,5.0,4.0,2.0,3.0,4.0,8.0,3.0,4.0,9.0,1.0,2.0,3.0,3.0,9.0,1.0,2.0,4.0,6.0,2.0,5.0,4.0,2.0,2.0,2.0,3.0,3.0,1.0,4.0,2.0,1.0,2.0,2.0,1.0,1.0,5.0,2.0,4.0,1.0,3.0,5.0,2.0,1.0,7.0,5.0,0.0,2.0,5.0,2.0,2.0,2.0,6.0,1.0,7.0,2.0,5.0,1.0,5.0,4.0,5.0,1.0,1.0,3.0,4.0,2.0,2.0,2.0,1.0,4.0,10.0,3.0,1.0,3.0,6.0,7.0,1.0,1.0,4.0,1.0,2.0,1.0,5.0,3.0,5.0,6.0,3.0,3.0,1.0,2.0,3.0,2.0,2.0,3.0,6.0,4.0,2.0,2.0,3.0,3.0,2.0,4.0,4.0,3.0,7.0,3.0,1.0,1.0,3.0,2.0,1.0,1.0,1.0,3.0,4.0,5.0,1.0,1.0,2.0,1.0,2.0,3.0,1.0,1.0,3.0,2.0,4.0,1.0,8.0,2.0,4.0,4.0,2.0,1.0,5.0,0.0,2.0,2.0,1.0,1.0,3.0,2.0,5.0,1.0,5.0,8.0,8.0,1.0,4.0,5.0,1.0,5.0,8.0,3.0,8.0,5.0,1.0,4.0,1.0,3.0,2.0,2.0,2.0,3.0,4.0,1.0,3.0,0.0,5.0,3.0,0.0,2.0,5.0,3.0,4.0,5.0,3.0,2.0,1.0,1.0,6.0,2.0,7.0,1.0,3.0,5.0,3.0,3.0,9.0,1.0,3.0,4.0,2.0,2.0,1.0,2.0,4.0,4.0,2.0,6.0,4.0,1.0,1.0,2.0,3.0,1.0,1.0,3.0,5.0,6.0,3.0,4.0,1.0,2.0,5.0,3.0,5.0,4.0,1.0,2.0,4.0,3.0,2.0,5.0,4.0,1.0,4.0,6.0,2.0,2.0,2.0,6.0,7.0,2.0,1.0,2.0,9.0,1.0,3.0,2.0,2.0,4.0,4.0,3.0,3.0,2.0,4.0,1.0,1.0,9.0,0.0,2.0,3.0,4.0,0.0,5.0,4.0,4.0,1.0,5.0,8.0,3.0,2.0,6.0,2.0,3.0,2.0,2.0,7.0,3.0,2.0,3.0,3.0,4.0,2.0,2.0,3.0,3.0,3.0,2.0,3.0,4.0,2.0,1.0,1.0,4.0,1.0,2.0,3.0,2.0,1.0,4.0,4.0,4.0,2.0,4.0,1.0,3.0,6.0,4.0,2.0,5.0,4.0,3.0,6.0,2.0,5.0,7.0,10.0,2.0,4.0,1.0,4.0,3.0,3.0,4.0,1.0,2.0,7.0,7.0,1.0,3.0,2.0,3.0,1.0,1.0,1.0,2.0,3.0,3.0,6.0,1.0,4.0,2.0,3.0,3.0,1.0,2.0,4.0,3.0,3.0,5.0,0.0,2.0,4.0,7.0,2.0,2.0,5.0,2.0,2.0,6.0,5.0,5.0,4.0,2.0,1.0,3.0,2.0,2.0,1.0,3.0,2.0,8.0,6.0,3.0,5.0,5.0,2.0,1.0,3.0,5.0,2.0,1.0,5.0,5.0,2.0,1.0,2.0,6.0,7.0,2.0,2.0,1.0,2.0,3.0,1.0,8.0,3.0,0.0,4.0,5.0,1.0,1.0,4.0,0.0,2.0,2.0,3.0,1.0,3.0,3.0,2.0,2.0,3.0,1.0,0.0,4.0,2.0,2.0,5.0,6.0,1.0,2.0,3.0,3.0,4.0,3.0,0.0,1.0,2.0,1.0,3.0,1.0,6.0,1.0,2.0,2.0,4.0,5.0,6.0,3.0,2.0,3.0,1.0,4.0,2.0,8.0,4.0,2.0,2.0,3.0,3.0,3.0,2.0,1.0,3.0,2.0,6.0,1.0,3.0,3.0,6.0,2.0,1.0,1.0,1.0,1.0,2.0,3.0,1.0,2.0,3.0,2.0,35.0,4.0,1.0,3.0,7.0,1.0,3.0,1.0,2.0,2.0,6.0,2.0,2.0,4.0,2.0,0.0,1.0,2.0,2.0,3.0,3.0,3.0,1.0,3.0,2.0,3.0,1.0,3.0,2.0,4.0,2.0,1.0,3.0,7.0,2.0,4.0,7.0,1.0,1.0,4.0,9.0,5.0,2.0,3.0,3.0,2.0,4.0,3.0,2.0,5.0,7.0,7.0,0.0,3.0,14.0,3.0,7.0,4.0,1.0,5.0,3.0,4.0,11.0,2.0,4.0,5.0,9.0,4.0,3.0,4.0,2.0,1.0,2.0,8.0,1.0,5.0,8.0,6.0,2.0,4.0,4.0,2.0,2.0,1.0,3.0,2.0,3.0,7.0,3.0,3.0,6.0,4.0,6.0,3.0,8.0,5.0,1.0,0.0,2.0,2.0,2.0,7.0,6.0,1.0,2.0,3.0,10.0,5.0,4.0,3.0,1.0,3.0,2.0,1.0,4.0,4.0,13.0,10.0,5.0,7.0,2.0,2.0,5.0,16.0,1.0,1.0,2.0,3.0,2.0,8.0,2.0,1.0,1.0,2.0,3.0,4.0,2.0,3.0,3.0,1.0,2.0,6.0,1.0,4.0,4.0,7.0,4.0,5.0,3.0,3.0,7.0,0.0,3.0,2.0,3.0,2.0,2.0,1.0,2.0,2.0,5.0,4.0,5.0,2.0,2.0,2.0,2.0,6.0,6.0,1.0,2.0,3.0,3.0,1.0,2.0,2.0,1.0,3.0,5.0,3.0,6.0,6.0,2.0,6.0,4.0,3.0,5.0,1.0,2.0,1.0,2.0,2.0,2.0,9.0,7.0,1.0,1.0,4.0,4.0,3.0,4.0,3.0,4.0,5.0,1.0,14.0,2.0,2.0,11.0,10.0,1.0,3.0,5.0,11.0,1.0,1.0,3.0,3.0,2.0,1.0,3.0,3.0,4.0,2.0,5.0,1.0,5.0,5.0,1.0,3.0,2.0,3.0,4.0,2.0,2.0,2.0,3.0,1.0,4.0,9.0,4.0,3.0,2.0,3.0,2.0,3.0,3.0,3.0,5.0,4.0,7.0,2.0,2.0,2.0,2.0,2.0,2.0,3.0,6.0,5.0,2.0,11.0,4.0,3.0,6.0,2.0,7.0,3.0,3.0,14.0,4.0,4.0,2.0,1.0,3.0,1.0,2.0,4.0,4.0,1.0,6.0,1.0,3.0,6.0,1.0,3.0,3.0,6.0,10.0,1.0,3.0,1.0,4.0,1.0,2.0,3.0,2.0,2.0,4.0,3.0,7.0,2.0,5.0,1.0,4.0,6.0,3.0,5.0,7.0,1.0,1.0,3.0,2.0,2.0,5.0,4.0,2.0,3.0,6.0,1.0,1.0,9.0,2.0,4.0,2.0,1.0,2.0,1.0,1.0,1.0,1.0,3.0,2.0,6.0,3.0,4.0,6.0,8.0,2.0,3.0,2.0,1.0,6.0,1.0,3.0,3.0,2.0,3.0,2.0,1.0,3.0,2.0,7.0,6.0,2.0,4.0,2.0,2.0,7.0,7.0,3.0,4.0,2.0,3.0,1.0,2.0,4.0,3.0,5.0,4.0,1.0,2.0,2.0,3.0,1.0,2.0,2.0,3.0,2.0,0.0,3.0,3.0,1.0,1.0,4.0,3.0,17.0,3.0,3.0,2.0,2.0,1.0,5.0,2.0,1.0,2.0,3.0,2.0,2.0,2.0,2.0,3.0,5.0,3.0,4.0,3.0,2.0,3.0,11.0,2.0,2.0,2.0,6.0,1.0,4.0,1.0,4.0,3.0,5.0,4.0,3.0,4.0,4.0,1.0,3.0,8.0,5.0,3.0,2.0,2.0,2.0,2.0,4.0,4.0,1.0,3.0,2.0,3.0,3.0,2.0,5.0,21.0,3.0,6.0,8.0,4.0,4.0,3.0,5.0,1.0,6.0,6.0,1.0,1.0,3.0,1.0,1.0,1.0,2.0,2.0,6.0,6.0,1.0,4.0,2.0,2.0,1.0,2.0,6.0,2.0,6.0,3.0,1.0,2.0,1.0,1.0,3.0,1.0,3.0,2.0,3.0,3.0,3.0,2.0,1.0,1.0,1.0,4.0,2.0,3.0,3.0,8.0,3.0,3.0,1.0,2.0,0.0,0.0,3.0,2.0,3.0,2.0,1.0,3.0,5.0,1.0,4.0,3.0,2.0,1.0,9.0,5.0,1.0,1.0,2.0,0.0,2.0,8.0,4.0,2.0,2.0,2.0,6.0,1.0,3.0,7.0,3.0,3.0,5.0,7.0,3.0,2.0,3.0,3.0,7.0,9.0,3.0,4.0,7.0,4.0,12.0,1.0,2.0,2.0,3.0,3.0,1.0,3.0,4.0,4.0,7.0,3.0,2.0,2.0,2.0,0.0,3.0,3.0,1.0,1.0,7.0,2.0,3.0,3.0,1.0,2.0,1.0,2.0,5.0,11.0,3.0,2.0,6.0,1.0,2.0,5.0,2.0,3.0,2.0,3.0,6.0,3.0,5.0,2.0,1.0,8.0,1.0,1.0,1.0,4.0,3.0,6.0,1.0,5.0,3.0,3.0,1.0,1.0,2.0,0.0,1.0,2.0,1.0,3.0,5.0,2.0,2.0,4.0,1.0,2.0,5.0,5.0,4.0,4.0,2.0,2.0,4.0,4.0,3.0,2.0,4.0,2.0,4.0,4.0,1.0,7.0,4.0,3.0,2.0,6.0,16.0,9.0,1.0,3.0,3.0,2.0,1.0,1.0,2.0,3.0,5.0,4.0,1.0,1.0,2.0,1.0,2.0,3.0,1.0,4.0,6.0,2.0,1.0,7.0,3.0,2.0,3.0,4.0,6.0,3.0,1.0,2.0,14.0,1.0,3.0,2.0,4.0,1.0,2.0,1.0,5.0,2.0,1.0,3.0,2.0,5.0,6.0,1.0,3.0,2.0,3.0,3.0,5.0,4.0,2.0,4.0,4.0,5.0,3.0,6.0,3.0,1.0,4.0,6.0,6.0,1.0,4.0,0.0,2.0,3.0,1.0,2.0,4.0,2.0,1.0,1.0,6.0,3.0,0.0,1.0,2.0,4.0,4.0,9.0,2.0,7.0,1.0,6.0,1.0,2.0,1.0,4.0,2.0,5.0,2.0,4.0,6.0,3.0,2.0,4.0,2.0,7.0,3.0,1.0,4.0,7.0,2.0,1.0,1.0,6.0,5.0,0.0,4.0,4.0,3.0,2.0,2.0,5.0,4.0,4.0,2.0,2.0,2.0,2.0,3.0,7.0,18.0,3.0,2.0,2.0,4.0,1.0,3.0,2.0,4.0,1.0,2.0,1.0,3.0,2.0,3.0,1.0,1.0,6.0,2.0,1.0,3.0,11.0,1.0,2.0,2.0,3.0,5.0,2.0,7.0,2.0,1.0,1.0,5.0,8.0,2.0,2.0,3.0,2.0,2.0,4.0,3.0,10.0,6.0,2.0,9.0,2.0,3.0,3.0,3.0,1.0,2.0,2.0,1.0,4.0,8.0,1.0,2.0,1.0,2.0,3.0,1.0,6.0,3.0,0.0,2.0,3.0,2.0,3.0,2.0,2.0,3.0,2.0,5.0,4.0,4.0,3.0,5.0,4.0,3.0,6.0,4.0,3.0,3.0,4.0,1.0,3.0,6.0,5.0,1.0,3.0,1.0,2.0,3.0,3.0,1.0,5.0,2.0,6.0,1.0,2.0,4.0,3.0,2.0,2.0,3.0,2.0,5.0,3.0,2.0,4.0,2.0,7.0,3.0,1.0,1.0,3.0,0.0,1.0,3.0,2.0,2.0,4.0,0.0,3.0,1.0,1.0,3.0,1.0,9.0,3.0,4.0,1.0,1.0,4.0,3.0,2.0,3.0,5.0,1.0,2.0,3.0,5.0,1.0,4.0,2.0,2.0,2.0,6.0,2.0,3.0,4.0,4.0,1.0,6.0,2.0,3.0,4.0,4.0,2.0,3.0,1.0,3.0,4.0,1.0,3.0,3.0,6.0,2.0,3.0,2.0,2.0,3.0,3.0,3.0,4.0,3.0,4.0,3.0,2.0,4.0,5.0,7.0,1.0,5.0,3.0,2.0,1.0,1.0,1.0,2.0,4.0,10.0,1.0,5.0,0.0,3.0,6.0,3.0,4.0,5.0,12.0,1.0,2.0,2.0,2.0,3.0,2.0,6.0,4.0,2.0,4.0,15.0,6.0,5.0,6.0,3.0,1.0,5.0,2.0,1.0,8.0,2.0,3.0,2.0,4.0,4.0,1.0,4.0,2.0,5.0,2.0,0.0,7.0,2.0,4.0,3.0,2.0,1.0,4.0,2.0,1.0,3.0,5.0,5.0,2.0,3.0,2.0,2.0,4.0,1.0,4.0,9.0,2.0,2.0,2.0,2.0,3.0,2.0,1.0,3.0,1.0,5.0,2.0,2.0,1.0,4.0,0.0,3.0,1.0,5.0,2.0,13.0,2.0,3.0,3.0,0.0,6.0,1.0,0.0,3.0,3.0,5.0,6.0,1.0,2.0,3.0,0.0,2.0,1.0,2.0,3.0,4.0,1.0,1.0,3.0,2.0,3.0,2.0,2.0,5.0,5.0,4.0,5.0,1.0,10.0,2.0,0.0,4.0,1.0,3.0,5.0,2.0,4.0,2.0,6.0,2.0,4.0,1.0,7.0,4.0,2.0,1.0,7.0,2.0,2.0,2.0,1.0,1.0,1.0,4.0,2.0,1.0,4.0,2.0,1.0,1.0,5.0,2.0,3.0,2.0,0.0,3.0,2.0,2.0,2.0,1.0,1.0,2.0,1.0,3.0,2.0,5.0,1.0,3.0,5.0,8.0,3.0,3.0,2.0,10.0,5.0,2.0,2.0,2.0,1.0,5.0,6.0,4.0,3.0,3.0,3.0,4.0,10.0,1.0,2.0,6.0,3.0,4.0,5.0,4.0,1.0,1.0,2.0,3.0,0.0,8.0,2.0,2.0,8.0,2.0,3.0,5.0,8.0,1.0,4.0,3.0,3.0,2.0,2.0,3.0,4.0,5.0,9.0,3.0,2.0,2.0,3.0,3.0,6.0,2.0,3.0,1.0,3.0,5.0,4.0,1.0,4.0,2.0,2.0,2.0,4.0,1.0,3.0,2.0,4.0,3.0,18.0,2.0,4.0,3.0,4.0,1.0,8.0,1.0,7.0,2.0,3.0,3.0,2.0,2.0,3.0,2.0,2.0,1.0,2.0,2.0,2.0,4.0,1.0,6.0,3.0,1.0,2.0,1.0,2.0,4.0,4.0,0.0,5.0,3.0,3.0,2.0,2.0,1.0,6.0,7.0,3.0,2.0,6.0,1.0,3.0,4.0,2.0,3.0,3.0,2.0,1.0,3.0,1.0,2.0,2.0,2.0,7.0,1.0,5.0,4.0,4.0,4.0,6.0,15.0,1.0,2.0,3.0,13.0,5.0,3.0,3.0,8.0,1.0,4.0,1.0,4.0,3.0,11.0,5.0,3.0,5.0,2.0,14.0,2.0,0.0,5.0,4.0,1.0,7.0,1.0,1.0,5.0,2.0,1.0,1.0,10.0,4.0,4.0,2.0,1.0,2.0,3.0,3.0,4.0,7.0,7.0,2.0,2.0,3.0,5.0,4.0,1.0,2.0,3.0,3.0,5.0,2.0,2.0,4.0,5.0,4.0,3.0,2.0,2.0,3.0,6.0,5.0,3.0,3.0,2.0,3.0,4.0,1.0,4.0,6.0,3.0,2.0,5.0,4.0,2.0,2.0,3.0,2.0,2.0,5.0,2.0,5.0,4.0,1.0,2.0,1.0,6.0,7.0,5.0,5.0,8.0,0.0,2.0,4.0,2.0,16.0,6.0,4.0,1.0,1.0,3.0,2.0,2.0,3.0,9.0,3.0,1.0,10.0,3.0,5.0,1.0,2.0,2.0,2.0,1.0,2.0,6.0,5.0,7.0,1.0,1.0,1.0,2.0,3.0,5.0,4.0,3.0,3.0,2.0,5.0,2.0,9.0,3.0,2.0,2.0,2.0,7.0,4.0,2.0,2.0,3.0,1.0,3.0,3.0,4.0,2.0,3.0,2.0,5.0,4.0,1.0,1.0,1.0,2.0,1.0,2.0,1.0,2.0,1.0,4.0,5.0,2.0,3.0,2.0,0.0,6.0,5.0,2.0,5.0,3.0,5.0,5.0,3.0,2.0,2.0,4.0,2.0,4.0,5.0,2.0,2.0,1.0,1.0,2.0,3.0,4.0,3.0,5.0,0.0,1.0,4.0,3.0,4.0,6.0,2.0,3.0,3.0,2.0,6.0,5.0,4.0,1.0,3.0,4.0,1.0,5.0,5.0,1.0,3.0,5.0,2.0,3.0,2.0,2.0,1.0,4.0,1.0,5.0,10.0,2.0,3.0,1.0,3.0,1.0,1.0,4.0,5.0,1.0,3.0,6.0,0.0,1.0,5.0,2.0,3.0,4.0,5.0,2.0,1.0,3.0,2.0,0.0,2.0,2.0,8.0,4.0,1.0,3.0,6.0,1.0,3.0,4.0,1.0,1.0,4.0,3.0,6.0,6.0,2.0,9.0,4.0,0.0,6.0,4.0,1.0,4.0,3.0,2.0,2.0,1.0,4.0,1.0,1.0,3.0,3.0,2.0,1.0,3.0,2.0,5.0,1.0,2.0,1.0,4.0,2.0,3.0,4.0,2.0,3.0,3.0,4.0,2.0,5.0,4.0,3.0,3.0,2.0,3.0,1.0,1.0,1.0,3.0,1.0,1.0,12.0,3.0,2.0,3.0,4.0,4.0,1.0,2.0,1.0,0.0,4.0,1.0,1.0,2.0,4.0,4.0,2.0,1.0,5.0,2.0,5.0,3.0,2.0,3.0,3.0,10.0,0.0,4.0,2.0,6.0,11.0,2.0,1.0,1.0,2.0,7.0,2.0,7.0,6.0,8.0,3.0,1.0,3.0,4.0,6.0,5.0,3.0,1.0,1.0,3.0,1.0,4.0,1.0,2.0,3.0,2.0,14.0,1.0,11.0,1.0,5.0,1.0,2.0,5.0,3.0,3.0,14.0,4.0,2.0,12.0,5.0,6.0,0.0,2.0,4.0,2.0,3.0,3.0,3.0,1.0,4.0,2.0,11.0,4.0,8.0,4.0,3.0,4.0,3.0,7.0,2.0,3.0,2.0,1.0,3.0,3.0,7.0,3.0,2.0,3.0,5.0,4.0,3.0,3.0,7.0,4.0,1.0,2.0,3.0,2.0,3.0,5.0,4.0,6.0,5.0,4.0,12.0,3.0,4.0,1.0,3.0,5.0,4.0,1.0,10.0,2.0,0.0,3.0,1.0,6.0,1.0,2.0,3.0,1.0,4.0,1.0,2.0,5.0,2.0,1.0,2.0,2.0,8.0,4.0,3.0,2.0,2.0,3.0,3.0,2.0,3.0,3.0,5.0,2.0,3.0,3.0,3.0,5.0,6.0,3.0,1.0,7.0,1.0,1.0,4.0,4.0,5.0,1.0,1.0,4.0,7.0,10.0,2.0,2.0,4.0,2.0,1.0,8.0,2.0,4.0,2.0,6.0,4.0,5.0,4.0,1.0,1.0,2.0,8.0,1.0,2.0,2.0,4.0,4.0,0.0,2.0,2.0,4.0,1.0,2.0,2.0,3.0,2.0,1.0,3.0,3.0,1.0,6.0,2.0,1.0,6.0,7.0,2.0,1.0,2.0,2.0,4.0,2.0,6.0,2.0,2.0,2.0,6.0,1.0,6.0,1.0,3.0,6.0,5.0,2.0,3.0,1.0,2.0,2.0,5.0,2.0,4.0,6.0,2.0,5.0,2.0,1.0,4.0,4.0,4.0,1.0,2.0,4.0,6.0,2.0,4.0,1.0,2.0,9.0,1.0,5.0,9.0,2.0,2.0,2.0,4.0,3.0,3.0,2.0,2.0,3.0,4.0,2.0,4.0,6.0,2.0,2.0,2.0,2.0,2.0,5.0,2.0,3.0,3.0,2.0,1.0,2.0,3.0,3.0,5.0,5.0,7.0,4.0,1.0,6.0,5.0,4.0,4.0,1.0,2.0,2.0,3.0,1.0,7.0,1.0,2.0,3.0,3.0,3.0,3.0,4.0,4.0,3.0,3.0,2.0,4.0,1.0,3.0,7.0,4.0,5.0,3.0,1.0,1.0,7.0,1.0,1.0,3.0,2.0,2.0,6.0,0.0,3.0,3.0,3.0,1.0,4.0,3.0,5.0,4.0,3.0,1.0,5.0,4.0,1.0,4.0,3.0,2.0,2.0,3.0,2.0,3.0,5.0,2.0,2.0,2.0,1.0,2.0,8.0,2.0,4.0,1.0,3.0,1.0,2.0,2.0,2.0,2.0,3.0,3.0,3.0,1.0,4.0,2.0,5.0,5.0,3.0,2.0,3.0,1.0,1.0,4.0,2.0,1.0,2.0,4.0,2.0,5.0,1.0,4.0,2.0,1.0,4.0,1.0,3.0,2.0,0.0,2.0,1.0,2.0,3.0,7.0,2.0,1.0,2.0,5.0,2.0,4.0,1.0,1.0,4.0,4.0,4.0,4.0,2.0,3.0,4.0,2.0,2.0,4.0,3.0,6.0,4.0,2.0,3.0,2.0,5.0,3.0,3.0,1.0,3.0,1.0,4.0,2.0,2.0,1.0,3.0,3.0,3.0,4.0,8.0,2.0,3.0,5.0,8.0,4.0,1.0,2.0,6.0,2.0,4.0,8.0,8.0,2.0,2.0,5.0,9.0,4.0,4.0,3.0,3.0,2.0,8.0,3.0,1.0,3.0,2.0,3.0,3.0,1.0,4.0,4.0,1.0,2.0,2.0,5.0,1.0,8.0,2.0,1.0,2.0,2.0,3.0,3.0,2.0,2.0,2.0,1.0,4.0,3.0,2.0,1.0,0.0,2.0,3.0,3.0,8.0,5.0,5.0,3.0,1.0,1.0,2.0,2.0,2.0,2.0,3.0,2.0,3.0,3.0,4.0,3.0,3.0,1.0,4.0,3.0,7.0,6.0,1.0,2.0,4.0,3.0,6.0,3.0,1.0,6.0,6.0,1.0,4.0,4.0,3.0,4.0,3.0,5.0,2.0,2.0,2.0,2.0,18.0,3.0,2.0,6.0,4.0,13.0,4.0,4.0,3.0,2.0,1.0,3.0,4.0,3.0,2.0,2.0,3.0,1.0,2.0,2.0,2.0,5.0,1.0,3.0,1.0,2.0,2.0,3.0,4.0,3.0,4.0,2.0,2.0,5.0,5.0,1.0,3.0,3.0,4.0,1.0,1.0,3.0,3.0,3.0,2.0,2.0,6.0,3.0,9.0,2.0,6.0,2.0,9.0,0.0,2.0,3.0,3.0,7.0,7.0,2.0,6.0,2.0,1.0,1.0,5.0,2.0,2.0,2.0,0.0,4.0,2.0,3.0,3.0,1.0,4.0,2.0,2.0,4.0,2.0,1.0,3.0,2.0,1.0,6.0,5.0,1.0,2.0,2.0,3.0,2.0,1.0,4.0,3.0,4.0,2.0,2.0,1.0,2.0,2.0,2.0,2.0,2.0,3.0,2.0,3.0,2.0,9.0,3.0,1.0,3.0,2.0,1.0,2.0,4.0,2.0,5.0,3.0,1.0,1.0,1.0,2.0,2.0,0.0,10.0,9.0,1.0,1.0,6.0,1.0,1.0,3.0,3.0,4.0,3.0,1.0,2.0,7.0,3.0,1.0,1.0,3.0,5.0,1.0,4.0,5.0,2.0,2.0,7.0,4.0,0.0,2.0,3.0,4.0,4.0,11.0,4.0,3.0,1.0,1.0,9.0,2.0,4.0,3.0,3.0,6.0,4.0,2.0,7.0,4.0,2.0,5.0,3.0,0.0,3.0,4.0,1.0,8.0,5.0,4.0,2.0,2.0,10.0,2.0,2.0,2.0,3.0,2.0,1.0,4.0,5.0,4.0,7.0,3.0,7.0,1.0,2.0,2.0,9.0,10.0,1.0,1.0,5.0,3.0,3.0,3.0,5.0,3.0,5.0,1.0,2.0,2.0,4.0,2.0,1.0,1.0,3.0,2.0,3.0,2.0,7.0,3.0,2.0,1.0,8.0,18.0,4.0,7.0,2.0,5.0,5.0,4.0,4.0,3.0,0.0,2.0,1.0,8.0,2.0,2.0,2.0,2.0,1.0,6.0,2.0,4.0,2.0,13.0,3.0,5.0,5.0,1.0,1.0,7.0,2.0,1.0,4.0,2.0,3.0,5.0,2.0,3.0,3.0,4.0,1.0,3.0,1.0,2.0,2.0,10.0,4.0,1.0,1.0,2.0,5.0,6.0,2.0,2.0,6.0,1.0,2.0,4.0,3.0,5.0,4.0,1.0,2.0,2.0,2.0,3.0,1.0,11.0,3.0,4.0,3.0,2.0,6.0,1.0,5.0,14.0,3.0,3.0,2.0,1.0,1.0,5.0,1.0,4.0,11.0,2.0,2.0,6.0,8.0,3.0,2.0,4.0,1.0,3.0,3.0,2.0,3.0,3.0,1.0,2.0,2.0,4.0,3.0,3.0,3.0,1.0,5.0,2.0,3.0,3.0,2.0,2.0,1.0,1.0,1.0,5.0,2.0,2.0,5.0,0.0,4.0,3.0,3.0,2.0,2.0,3.0,2.0,1.0,1.0,2.0,3.0,3.0,1.0,4.0,2.0,8.0,6.0,1.0,1.0,2.0,1.0,2.0,8.0,2.0,2.0,1.0,2.0,3.0,1.0,1.0,6.0,5.0,1.0,4.0,1.0,4.0,3.0,2.0,6.0,3.0,3.0,3.0,2.0,4.0,2.0,3.0,10.0,8.0,6.0,2.0,2.0,2.0,3.0,1.0,12.0,2.0,8.0,2.0,1.0,1.0,6.0,2.0,5.0,3.0,5.0,1.0,2.0,5.0,2.0,3.0,1.0,6.0,2.0,6.0,2.0,2.0,1.0,2.0,10.0,4.0,1.0,0.0,1.0,2.0,5.0,3.0,1.0,1.0,10.0,1.0,5.0,2.0,7.0,3.0,3.0,2.0,6.0,4.0,1.0,4.0,1.0,2.0,4.0,2.0,4.0,4.0,2.0,1.0,2.0,1.0,2.0,7.0,5.0,5.0,2.0,1.0,3.0,3.0,6.0,3.0,5.0,7.0,3.0,5.0,7.0,1.0,3.0,3.0,7.0,3.0,1.0,0.0,6.0,1.0,8.0,6.0,8.0,4.0,11.0,2.0,2.0,4.0,3.0,1.0,1.0,2.0,4.0,2.0,0.0,1.0,2.0,1.0,1.0,2.0,1.0,1.0,4.0,2.0,2.0,4.0,2.0,3.0,1.0,1.0,2.0,5.0,1.0,4.0,3.0,1.0,1.0,5.0,5.0,2.0,2.0,3.0,3.0,5.0,4.0,1.0,21.0,2.0,3.0,4.0,1.0,6.0,7.0,1.0,9.0,2.0,4.0,4.0,2.0,2.0,3.0,3.0,2.0,1.0,2.0,1.0,4.0,2.0,0.0,3.0,3.0,2.0,2.0,7.0,2.0,4.0,2.0,2.0,2.0,2.0,1.0,4.0,6.0,3.0,1.0,1.0,19.0,0.0,1.0,2.0,4.0,3.0,2.0,5.0,5.0,1.0,1.0,2.0,2.0,3.0,2.0,5.0,2.0,2.0,1.0,4.0,1.0,3.0,2.0,2.0,4.0,1.0,5.0,2.0,6.0,3.0,1.0,2.0,5.0,3.0,4.0,1.0,3.0,4.0,2.0,10.0,2.0,2.0,4.0,2.0,3.0,4.0,2.0,3.0,4.0,1.0,2.0,2.0,9.0,2.0,2.0,2.0,1.0,3.0,2.0,3.0,1.0,3.0,1.0,3.0,2.0,3.0,1.0,2.0,5.0,3.0,3.0,2.0,8.0,1.0,4.0,5.0,7.0,2.0,2.0,4.0,4.0,3.0,2.0,5.0,6.0,2.0,2.0,2.0,3.0,1.0,9.0,2.0,2.0,2.0,18.0,1.0,5.0,1.0,2.0,1.0,9.0,4.0,3.0,1.0,1.0,2.0,4.0,0.0,6.0,1.0,4.0,6.0,3.0,2.0,3.0,3.0,3.0,4.0,1.0,2.0,1.0,1.0,1.0,1.0,2.0,3.0,4.0,1.0,6.0,9.0,3.0,1.0,3.0,1.0,3.0,2.0,2.0,1.0,3.0,2.0,2.0,1.0,4.0,4.0,3.0,5.0,2.0,4.0,3.0,3.0,2.0,2.0,1.0,2.0,3.0,2.0,0.0,3.0,7.0,2.0,1.0,1.0,2.0,4.0,5.0,5.0,1.0,6.0,1.0,4.0,5.0,7.0,4.0,2.0,2.0,1.0,2.0,3.0,3.0,2.0,1.0,3.0,5.0,2.0,5.0,1.0,4.0,2.0,2.0,3.0,6.0,3.0,1.0,2.0,8.0,7.0,2.0,6.0,4.0,3.0,2.0,1.0,2.0,2.0,2.0,4.0,2.0,7.0,2.0,3.0,3.0,1.0,5.0,5.0,3.0,3.0,5.0,3.0,4.0,3.0,1.0,1.0,0.0,3.0,1.0,6.0,4.0,2.0,7.0,4.0,2.0,6.0,4.0,4.0,2.0,3.0,1.0,2.0,2.0,3.0,4.0,5.0,3.0,3.0,1.0,2.0,2.0,3.0,2.0,2.0,5.0,3.0,3.0,5.0,3.0,2.0,2.0,4.0,4.0,8.0,2.0,2.0,1.0,1.0,2.0,1.0,4.0,1.0,3.0,2.0,4.0,14.0,4.0,6.0,9.0,2.0,7.0,5.0,4.0,5.0,3.0,2.0,9.0,1.0,1.0,5.0,2.0,3.0,1.0,1.0,6.0,3.0,1.0,2.0,1.0,2.0,1.0,5.0,2.0,2.0,8.0,4.0,5.0,7.0,3.0,2.0,2.0,3.0,0.0,3.0,2.0,2.0,1.0,1.0,2.0,1.0,2.0,2.0,4.0,5.0,3.0,8.0,7.0,7.0,1.0,2.0,6.0,2.0,1.0,3.0,2.0,2.0,7.0,4.0,1.0,1.0,6.0,3.0,6.0,4.0,4.0,2.0,6.0,1.0,2.0,2.0,4.0,2.0,2.0,3.0,4.0,0.0,5.0,4.0,5.0,3.0,3.0,2.0,5.0,4.0,3.0,0.0,4.0,2.0,0.0,3.0,2.0,8.0,1.0,4.0,1.0,5.0,2.0,2.0,1.0,2.0,4.0,2.0,3.0,1.0,1.0,3.0,3.0,7.0,1.0,5.0,1.0,3.0,4.0,2.0,2.0,1.0,1.0,1.0,3.0,2.0,2.0,1.0,1.0,4.0,9.0,2.0,4.0,2.0,6.0,2.0,3.0,4.0,1.0,1.0,6.0,1.0,3.0,1.0,4.0,0.0,3.0,3.0,3.0,2.0,5.0,1.0,3.0,9.0,2.0,7.0,2.0,3.0,3.0,1.0,5.0,1.0,7.0,4.0,2.0,4.0,2.0,3.0,7.0,7.0,2.0,6.0,2.0,8.0,2.0,2.0,3.0,1.0,2.0,8.0,1.0,3.0,7.0,4.0,6.0,2.0,4.0,3.0,1.0,3.0,6.0,5.0,3.0,1.0,3.0,2.0,2.0,2.0,2.0,2.0,1.0,4.0,1.0,5.0,4.0,6.0,2.0,4.0,2.0,4.0,9.0,4.0,4.0,2.0,1.0,2.0,5.0,4.0,4.0,1.0,3.0,10.0,11.0,2.0,3.0,1.0,6.0,4.0,1.0,2.0,2.0,6.0,5.0,4.0,3.0,5.0,1.0,4.0,1.0,3.0,1.0,1.0,1.0,5.0,3.0,2.0,2.0,4.0,5.0,2.0,2.0,7.0,9.0,3.0,3.0,3.0,5.0,5.0,3.0,2.0,14.0,5.0,8.0,2.0,2.0,9.0,6.0,5.0,5.0,3.0,1.0,3.0,2.0,2.0,3.0,2.0,2.0,4.0,2.0,1.0,2.0,2.0,3.0,1.0,3.0,2.0,6.0,1.0,4.0,7.0,2.0,4.0,4.0,2.0,2.0,1.0,2.0,2.0,2.0,1.0,1.0,1.0,2.0,4.0,3.0,7.0,3.0,7.0,3.0,4.0,4.0,4.0,2.0,0.0,2.0,3.0,2.0,8.0,3.0,1.0,0.0,2.0,3.0,1.0,6.0,1.0,5.0,10.0,1.0,1.0,4.0,7.0,3.0,6.0,3.0,3.0,4.0,3.0,1.0,4.0,2.0,2.0,1.0,2.0,3.0,3.0,3.0,3.0,2.0,2.0,2.0,4.0,2.0,1.0,5.0,3.0,2.0,1.0,4.0,8.0,8.0,3.0,3.0,7.0,1.0,7.0,2.0,3.0,5.0,7.0,1.0,4.0,2.0,4.0,1.0,3.0,2.0,4.0,2.0,5.0,1.0,3.0,2.0,2.0,3.0,2.0,2.0,3.0,2.0,2.0,3.0,3.0,5.0,7.0,2.0,1.0,3.0,4.0,3.0,1.0,1.0,6.0,3.0,2.0,1.0,5.0,3.0,4.0,3.0,3.0,2.0,1.0,6.0,2.0,1.0,2.0,1.0,1.0,2.0,1.0,2.0,3.0,7.0,3.0,2.0,1.0,3.0,7.0,3.0,3.0,1.0,1.0,1.0,5.0,2.0,4.0,3.0,8.0,6.0,4.0,2.0,5.0,7.0,5.0,1.0,3.0,3.0,3.0,6.0,3.0,2.0,0.0,1.0,1.0,2.0,2.0,4.0,2.0,2.0,1.0,5.0,3.0,4.0,3.0,0.0,6.0,2.0,3.0,1.0,1.0,1.0,4.0,2.0,4.0,2.0,3.0,5.0,2.0,5.0,1.0,8.0,2.0,3.0,1.0,1.0,6.0,3.0,2.0,6.0,3.0,1.0,4.0,1.0,1.0,2.0,2.0,1.0,1.0,3.0,5.0,1.0,3.0,4.0,6.0,1.0,2.0,8.0,2.0,4.0,3.0,3.0,2.0,8.0,7.0,3.0,1.0,4.0,3.0,1.0,2.0,1.0,2.0,6.0,1.0,5.0,1.0,3.0,1.0,1.0,3.0,3.0,4.0,2.0,2.0,2.0,1.0,2.0,4.0,3.0,1.0,9.0,4.0,7.0,4.0,2.0,2.0,7.0,2.0,1.0,14.0,6.0,2.0,2.0,4.0,2.0,3.0,4.0,1.0,1.0,4.0,1.0,15.0,1.0,4.0,3.0,4.0,1.0,6.0,3.0,1.0,5.0,2.0,3.0,16.0,2.0,2.0,2.0,2.0,4.0,4.0,5.0,2.0,5.0,2.0,5.0,2.0,3.0,4.0,1.0,5.0,3.0,2.0,2.0,3.0,2.0,4.0,4.0,2.0,6.0,5.0,1.0,10.0,1.0,3.0,4.0,2.0,3.0,1.0,1.0,5.0,1.0,1.0,6.0,1.0,3.0,0.0,1.0,6.0,2.0,2.0,1.0,1.0,5.0,4.0,2.0,2.0,1.0,2.0,4.0,11.0,1.0,1.0,2.0,2.0,2.0,4.0,2.0,1.0,2.0,3.0,3.0,3.0,3.0,4.0,6.0,1.0,3.0,1.0,3.0,1.0,2.0,1.0,4.0,2.0,4.0,2.0,7.0,3.0,3.0,13.0,16.0,3.0,6.0,7.0,0.0,2.0,2.0,1.0,2.0,2.0,2.0,3.0,2.0,1.0,1.0,6.0,2.0,1.0,1.0,1.0,2.0,8.0,4.0,3.0,6.0,2.0,1.0,2.0,3.0,1.0,1.0,2.0,3.0,5.0,3.0,3.0,2.0,5.0,4.0,3.0,3.0,2.0,0.0,6.0,0.0,3.0,4.0,2.0,4.0,3.0,4.0,2.0,3.0,1.0,2.0,4.0,2.0,4.0,2.0,1.0,2.0,2.0,2.0,2.0,5.0,3.0,4.0,7.0,5.0,1.0,2.0,4.0,1.0,6.0,2.0,1.0,1.0,1.0,1.0,5.0,6.0,2.0,3.0,1.0,6.0,2.0,1.0,6.0,1.0,7.0,4.0,4.0,3.0,4.0,2.0,2.0,6.0,1.0,5.0,3.0,5.0,3.0,2.0,1.0,2.0,1.0,2.0,4.0,3.0,3.0,1.0,3.0,4.0,4.0,7.0,3.0,6.0,1.0,1.0,3.0,1.0,1.0,4.0,5.0,3.0,1.0,5.0,4.0,4.0,5.0,3.0,5.0,5.0,3.0,4.0,4.0,2.0,1.0,6.0,2.0,2.0,2.0,2.0,5.0,3.0,2.0,3.0,3.0,3.0,5.0,3.0,3.0,4.0,2.0,5.0,2.0,2.0,4.0,3.0,11.0,2.0,2.0,5.0,3.0,6.0,3.0,2.0,2.0,4.0,1.0,2.0,1.0,4.0,1.0,5.0,2.0,3.0,2.0,1.0,6.0,2.0,4.0,1.0,2.0,1.0,3.0,2.0,2.0,2.0,6.0,3.0,4.0,5.0,5.0,2.0,5.0,3.0,3.0,8.0,1.0,1.0,2.0,3.0,2.0,3.0,10.0,2.0,5.0,3.0,3.0,1.0,3.0,1.0,6.0,1.0,2.0,16.0,2.0,3.0,9.0,3.0,5.0,2.0,3.0,1.0,2.0,1.0,4.0,1.0,2.0,1.0,1.0,8.0,3.0,2.0,1.0,2.0,3.0,3.0,2.0,3.0,8.0,1.0,5.0,2.0,3.0,1.0,3.0,3.0,1.0,2.0,5.0,3.0,1.0,3.0,2.0,4.0,6.0,2.0,2.0,1.0,2.0,3.0,3.0,3.0,2.0,3.0,4.0,4.0,2.0,4.0,1.0,1.0,2.0,2.0,1.0,4.0,1.0,1.0,2.0,3.0,2.0,5.0,2.0,1.0,2.0,2.0,1.0,6.0,4.0,1.0,1.0,5.0,2.0,2.0,5.0,13.0,1.0,2.0,1.0,4.0,3.0,0.0,2.0,6.0,0.0,1.0,2.0,3.0,4.0,3.0,2.0,1.0,2.0,0.0,2.0,2.0,15.0,1.0,6.0,7.0,3.0,2.0,2.0,2.0,4.0,5.0,4.0,4.0,3.0,2.0,8.0,1.0,6.0,4.0,2.0,3.0,3.0,5.0,1.0,3.0,3.0,5.0,1.0,8.0,3.0,3.0,4.0,0.0,3.0,2.0,3.0,4.0,3.0,1.0,2.0,2.0,1.0,1.0,3.0,12.0,2.0,5.0,1.0,1.0,4.0,10.0,2.0,6.0,1.0,3.0,2.0,1.0,6.0,6.0,3.0,5.0,2.0,3.0,2.0,1.0,1.0,0.0,1.0,3.0,8.0,2.0,2.0,3.0,2.0,7.0,2.0,3.0,6.0,2.0,1.0,2.0,3.0,2.0,1.0,4.0,3.0,3.0,2.0,2.0,4.0,2.0,2.0,2.0,3.0,1.0,4.0,8.0,4.0,1.0,5.0,1.0,1.0,5.0,4.0,5.0,8.0,1.0,3.0,3.0,3.0,3.0,1.0,2.0,2.0,2.0,1.0,1.0,6.0,1.0,3.0,2.0,4.0,2.0,2.0,1.0,1.0,4.0,2.0,4.0,2.0,2.0,2.0,2.0,4.0,3.0,1.0,2.0,2.0,4.0,1.0,1.0,1.0,3.0,1.0,1.0,2.0,1.0,2.0,2.0,1.0,4.0,4.0,2.0,3.0,1.0,1.0,1.0,3.0,4.0,1.0,3.0,3.0,3.0,2.0,2.0,1.0,4.0,7.0,0.0,3.0,2.0,3.0,7.0,2.0,2.0,2.0,6.0,4.0,5.0,6.0,2.0,1.0,3.0,2.0,3.0,3.0,4.0,1.0,6.0,3.0,7.0,5.0,1.0,1.0,6.0,6.0,2.0,3.0,3.0,7.0,2.0,2.0,6.0,3.0,1.0,6.0,1.0,3.0,3.0,6.0,3.0,6.0,8.0,2.0,1.0,2.0,2.0,6.0,2.0,5.0,2.0,2.0,3.0,4.0,1.0,3.0,4.0,1.0,3.0,2.0,2.0,1.0,1.0,2.0,6.0,1.0,2.0,7.0,3.0,4.0,4.0,2.0,2.0,4.0,2.0,5.0,2.0,7.0,1.0,1.0,3.0,5.0,4.0,4.0,9.0,1.0,3.0,4.0,2.0,7.0,2.0,8.0,2.0,3.0,3.0,3.0,3.0,2.0,3.0,2.0,4.0,1.0,6.0,4.0,2.0,1.0,3.0,4.0,5.0,4.0,4.0,2.0,2.0,0.0,3.0,2.0,4.0,1.0,2.0,5.0,3.0,3.0,3.0,2.0,3.0,5.0,3.0,5.0,0.0,4.0,1.0,7.0,2.0,5.0,3.0,2.0,3.0,5.0,1.0,5.0,4.0,1.0,7.0,4.0,1.0,4.0,2.0,11.0,8.0,1.0,3.0,0.0,1.0,3.0,2.0,6.0,3.0,3.0,2.0,4.0,1.0,3.0,5.0,3.0,1.0,1.0,7.0,3.0,2.0,4.0,3.0,2.0,3.0,0.0,0.0,7.0,7.0,1.0,2.0,7.0,6.0,1.0,7.0,1.0,1.0,5.0,1.0,2.0,3.0,4.0,2.0,2.0,3.0,4.0,2.0,5.0,1.0,4.0,2.0,1.0,1.0,3.0,2.0,7.0,3.0,10.0,3.0,7.0,3.0,5.0,5.0,2.0,3.0,5.0,4.0,9.0,3.0,2.0,3.0,1.0,2.0,6.0,2.0,2.0,1.0,2.0,2.0,1.0,3.0,2.0,5.0,1.0,5.0,1.0,2.0,2.0,3.0,2.0,3.0,8.0,1.0,2.0,3.0,3.0,4.0,3.0,4.0,3.0,3.0,4.0,2.0,1.0,2.0,7.0,3.0,1.0,1.0,1.0,4.0,1.0,2.0,2.0,3.0,1.0,1.0,7.0,5.0,2.0,2.0,2.0,2.0,0.0,6.0,15.0,2.0,2.0,5.0,3.0,2.0,7.0,0.0,2.0,4.0,3.0,1.0,4.0,1.0,4.0,8.0,3.0,3.0,4.0,3.0,5.0,1.0,4.0,2.0,1.0,2.0,4.0,1.0,1.0,1.0,3.0,2.0,2.0,2.0,2.0,3.0,2.0,8.0,1.0,1.0,3.0,4.0,4.0,1.0,2.0,4.0,2.0,2.0,3.0,3.0,2.0,1.0,4.0,3.0,1.0,3.0,5.0,2.0,0.0,4.0,5.0,2.0,3.0,3.0,5.0,1.0,3.0,3.0,9.0,2.0,2.0,3.0,4.0,6.0,1.0,6.0,4.0,2.0,3.0,2.0,4.0,6.0,1.0,4.0,7.0,1.0,3.0,3.0,3.0,5.0,1.0,3.0,10.0,5.0,2.0,2.0,2.0,1.0,4.0,3.0,2.0,3.0,2.0,9.0,2.0,3.0,4.0,5.0,3.0,2.0,4.0,1.0,7.0,1.0,8.0,0.0,3.0,4.0,1.0,1.0,1.0,6.0,3.0,3.0,3.0,2.0,2.0,1.0,2.0,2.0,2.0,2.0,4.0,0.0,3.0,4.0,6.0,1.0,1.0,8.0,6.0,6.0,5.0,5.0,1.0,5.0,1.0,6.0,2.0,2.0,3.0,2.0,2.0,2.0,10.0,13.0,7.0,3.0,3.0,3.0,5.0,1.0,2.0,3.0,0.0,9.0,1.0,5.0,2.0,3.0,1.0,1.0,5.0,2.0,4.0,4.0,1.0,0.0,2.0,1.0,1.0,1.0,3.0,5.0,3.0,1.0,3.0,2.0,5.0,6.0,1.0,0.0,1.0,2.0,5.0,4.0,1.0,3.0,4.0,2.0,4.0,3.0,4.0,1.0,2.0,4.0,1.0,3.0,3.0,2.0,3.0,3.0,1.0,1.0,3.0,2.0,6.0,2.0,3.0,3.0,2.0,1.0,0.0,1.0,5.0,1.0,5.0,3.0,4.0,3.0,1.0,3.0,1.0,3.0,2.0,3.0,3.0,1.0,1.0,6.0,2.0,7.0,3.0,4.0,2.0,2.0,7.0,1.0,4.0,3.0,3.0,5.0,7.0,4.0,4.0,2.0,2.0,3.0,1.0,1.0,3.0,4.0,2.0,2.0,2.0,2.0,1.0,2.0,2.0,2.0,7.0,1.0,3.0,2.0,8.0,1.0,2.0,3.0,3.0,5.0,0.0,4.0,1.0,2.0,8.0,1.0,1.0,2.0,2.0,2.0,3.0,5.0,3.0,2.0,3.0,4.0,0.0,1.0,2.0,2.0,2.0,1.0,3.0,0.0,2.0,4.0,3.0,2.0,3.0,7.0,1.0,2.0,6.0,1.0,2.0,2.0,1.0,1.0,2.0,4.0,1.0,1.0,2.0,6.0,3.0,2.0,1.0,3.0,1.0,3.0,4.0,1.0,2.0,2.0,2.0,8.0,2.0,5.0,1.0,3.0,2.0,2.0,2.0,4.0,2.0,2.0,4.0,2.0,1.0,1.0,1.0,3.0,3.0,8.0,4.0,2.0,3.0,1.0,2.0,4.0,6.0,4.0,2.0,2.0,4.0,3.0,3.0,2.0,4.0,1.0,2.0,2.0,5.0,2.0,1.0,8.0,2.0,2.0,9.0,1.0,7.0,1.0,4.0,1.0,6.0,4.0,3.0,3.0,3.0,4.0,4.0,2.0,3.0,3.0,3.0,3.0,2.0,3.0,6.0,1.0,2.0,1.0,2.0,2.0,1.0,2.0,3.0,3.0,2.0,4.0,1.0,3.0,5.0,5.0,1.0,3.0,1.0,2.0,2.0,1.0,1.0,6.0,2.0,3.0,4.0,3.0,8.0,7.0,1.0,4.0,8.0,2.0,3.0,4.0,2.0,6.0,4.0,6.0,2.0,3.0,2.0,6.0,10.0,2.0,4.0,2.0,3.0,2.0,4.0,2.0,11.0,1.0,2.0,5.0,3.0,0.0,2.0,5.0,4.0,2.0,3.0,1.0,1.0,5.0,3.0,2.0,1.0,2.0,4.0,2.0,1.0,5.0,2.0,4.0,5.0,3.0,10.0,3.0,1.0,3.0,2.0,2.0,2.0,5.0,3.0,4.0,3.0,3.0,3.0,5.0,1.0,4.0,2.0,0.0,1.0,2.0,4.0,2.0,5.0,2.0,18.0,3.0,2.0,2.0,4.0,1.0,2.0,4.0,5.0,1.0,2.0,2.0,4.0,4.0,3.0,4.0,1.0,5.0,2.0,2.0,4.0,3.0,8.0,2.0,4.0,6.0,1.0,1.0,1.0,4.0,1.0,2.0,2.0,4.0,3.0,10.0,1.0,8.0,3.0,2.0,1.0,1.0,1.0,2.0,4.0,2.0,3.0,2.0,1.0,2.0,3.0,4.0,5.0,3.0,2.0,1.0,6.0,7.0,2.0,4.0,2.0,1.0,2.0,2.0,2.0,3.0,5.0,1.0,7.0,2.0,3.0,4.0,4.0,2.0,3.0,2.0,7.0,3.0,3.0,0.0,3.0,3.0,1.0,3.0,2.0,2.0,6.0,2.0,1.0,5.0,1.0,1.0,2.0,3.0,1.0,3.0,2.0,1.0,3.0,2.0,1.0,2.0,4.0,1.0,2.0,2.0,1.0,2.0,1.0,3.0,1.0,2.0,0.0,4.0,6.0,2.0,1.0,2.0,4.0,2.0,1.0,4.0,2.0,6.0,3.0,1.0,8.0,3.0,1.0,3.0,2.0,2.0,3.0,1.0,3.0,7.0,3.0,2.0,5.0,1.0,2.0,7.0,7.0,5.0,1.0,3.0,1.0,0.0,2.0,2.0,4.0,1.0,2.0,5.0,3.0,5.0,1.0,7.0,2.0,1.0,3.0,2.0,3.0,4.0,3.0,1.0,6.0,4.0,3.0,2.0,4.0,11.0,3.0,3.0,2.0,3.0,1.0,4.0,1.0,2.0,3.0,1.0,5.0,3.0,2.0,1.0,10.0,6.0,2.0,1.0,3.0,8.0,1.0,6.0,10.0,3.0,3.0,13.0,3.0,4.0,0.0,2.0,5.0,2.0,2.0,2.0,2.0,0.0,4.0,3.0,6.0,4.0,7.0,3.0,5.0,4.0,3.0,0.0,6.0,6.0,7.0,1.0,4.0,4.0,3.0,4.0,3.0,2.0,3.0,7.0,2.0,1.0,0.0,2.0,3.0,4.0,3.0,4.0,3.0,2.0,4.0,3.0,3.0,3.0,5.0,1.0,1.0,3.0,3.0,5.0,3.0,1.0,4.0,4.0,12.0,2.0,2.0,4.0,1.0,1.0,5.0,4.0,4.0,1.0,3.0,4.0,2.0,6.0,2.0,5.0,2.0,2.0,3.0,2.0,4.0,7.0,2.0,4.0,2.0,2.0,2.0,2.0,2.0,6.0,3.0,2.0,2.0,2.0,4.0,3.0,3.0,2.0,2.0,2.0,2.0,2.0,2.0,2.0,2.0,1.0,2.0,2.0,2.0,2.0,2.0,4.0,1.0,1.0,2.0,8.0,3.0,2.0,5.0,2.0,1.0,3.0,4.0,5.0,3.0,3.0,3.0,6.0,1.0,2.0,3.0,3.0,2.0,3.0,7.0,1.0,2.0,1.0,2.0,4.0,2.0,2.0,2.0,5.0,4.0,1.0,2.0,2.0,5.0,2.0,5.0,6.0,9.0,3.0,7.0,2.0,1.0,4.0,3.0,3.0,3.0,4.0,3.0,2.0,4.0,2.0,3.0,1.0,1.0,3.0,3.0,5.0,7.0,4.0,2.0,6.0,4.0,2.0,4.0,1.0,3.0,1.0,1.0,4.0,2.0,1.0,1.0,2.0,2.0,1.0,8.0,4.0,1.0,7.0,4.0,3.0,1.0,2.0,1.0,6.0,3.0,4.0,2.0,3.0,2.0,3.0,3.0,3.0,12.0,1.0,2.0,3.0,2.0,2.0,4.0,3.0,3.0,7.0,3.0,4.0,4.0,2.0,3.0,2.0,3.0,3.0,7.0,3.0,1.0,3.0,4.0,2.0,13.0,4.0,8.0,4.0,8.0,1.0,4.0,2.0,1.0,1.0,2.0,1.0,1.0,3.0,3.0,3.0,2.0,1.0,3.0,2.0,1.0,3.0,7.0,1.0,2.0,2.0,5.0,12.0,3.0,1.0,4.0,2.0,9.0,6.0,6.0,2.0,1.0,2.0,3.0,3.0,3.0,2.0,5.0,1.0,1.0,2.0,7.0,3.0,5.0,1.0,2.0,3.0,2.0,2.0,4.0,3.0,2.0,2.0,2.0,6.0,3.0,4.0,4.0,2.0,2.0,4.0,3.0,5.0,3.0,3.0,2.0,2.0,2.0,4.0,4.0,2.0,6.0,1.0,3.0,1.0,4.0,3.0,3.0,1.0,2.0,3.0,4.0,4.0,4.0,4.0,4.0,4.0,2.0,2.0,2.0,5.0,6.0,4.0,2.0,7.0,2.0,9.0,4.0,7.0,8.0,1.0,3.0,3.0,5.0,2.0,2.0,2.0,1.0,4.0,1.0,3.0,6.0,4.0,4.0,4.0,3.0,1.0,2.0,3.0,1.0,3.0,5.0,2.0,3.0,3.0,3.0,2.0,5.0,3.0,2.0,1.0,1.0,2.0,8.0,6.0,3.0,1.0,2.0,1.0,3.0,1.0,3.0,2.0,5.0,4.0,1.0,5.0,1.0,2.0,0.0,3.0,1.0,2.0,2.0,2.0,2.0,8.0,3.0,7.0,1.0,1.0,3.0,2.0,1.0,5.0,1.0,5.0,1.0,2.0,7.0,3.0,3.0,5.0,4.0,3.0,3.0,16.0,2.0,1.0,5.0,5.0,4.0,4.0,5.0,2.0,2.0,1.0,3.0,3.0,1.0,3.0,2.0,3.0,4.0,4.0,1.0,1.0,2.0,2.0,2.0,1.0,3.0,7.0,3.0,4.0,3.0,6.0,2.0,7.0,2.0,1.0,0.0,1.0,0.0,4.0,1.0,11.0,2.0,1.0,2.0,4.0,4.0,4.0,4.0,3.0,2.0,2.0,1.0,3.0,2.0,1.0,6.0,2.0,2.0,1.0,2.0,4.0,1.0,2.0,2.0,4.0,2.0,5.0,4.0,2.0,4.0,4.0,4.0,2.0,2.0,2.0,5.0,1.0,3.0,3.0,2.0,2.0,8.0,4.0,3.0,1.0,3.0,2.0,0.0,2.0,5.0,3.0,0.0,8.0,1.0,2.0,4.0,2.0,2.0,1.0,7.0,3.0,1.0,5.0,2.0,5.0,3.0,1.0,2.0,2.0,1.0,1.0,3.0,6.0,1.0,5.0,6.0,3.0,5.0,1.0,3.0,3.0,5.0,2.0,1.0,4.0,3.0,1.0,1.0,2.0,1.0,9.0,2.0,6.0,5.0,3.0,4.0,3.0,4.0,4.0,4.0,7.0,5.0,6.0,8.0,5.0,2.0,4.0,2.0,2.0,5.0,3.0,1.0,1.0,2.0,3.0,1.0,2.0,1.0,6.0,2.0,2.0,3.0,3.0,6.0,1.0,3.0,1.0,2.0,3.0,9.0,5.0,3.0,4.0,3.0,1.0,2.0,2.0,3.0,4.0,6.0,3.0,1.0,5.0,1.0,3.0,0.0,1.0,0.0,3.0,3.0,3.0,3.0,2.0,2.0,10.0,2.0,1.0,1.0,2.0,6.0,1.0,3.0,2.0,1.0,6.0,2.0,4.0,0.0,1.0,2.0,4.0,2.0,4.0,2.0,6.0,3.0,5.0,2.0,3.0,7.0,2.0,3.0,3.0,3.0,3.0,1.0,2.0,1.0,2.0,3.0,1.0,3.0,8.0,1.0,1.0,0.0,1.0,4.0,1.0,3.0,1.0,5.0,3.0,10.0,3.0,6.0,1.0,2.0,1.0,4.0,8.0,1.0,2.0,0.0,3.0,1.0,1.0,2.0,1.0,3.0,1.0,1.0,2.0,3.0,2.0,2.0,1.0,3.0,4.0,2.0,7.0,2.0,2.0,2.0,3.0,2.0,2.0,3.0,3.0,2.0,5.0,4.0,3.0,4.0,1.0,7.0,3.0,1.0,2.0,2.0,1.0,3.0,2.0,6.0,3.0,5.0,6.0,8.0,1.0,2.0,4.0,2.0,4.0,1.0,2.0,3.0,6.0,3.0,2.0,2.0,8.0,2.0,6.0,4.0,3.0,6.0,4.0,3.0,1.0,2.0,1.0,5.0,8.0,5.0,3.0,2.0,5.0,2.0,7.0,2.0,3.0,1.0,2.0,2.0,7.0,2.0,1.0,1.0,3.0,1.0,4.0,2.0,2.0,3.0,3.0,1.0,4.0,3.0,2.0,3.0,2.0,7.0,2.0,2.0,1.0,4.0,1.0,1.0,4.0,4.0,9.0,1.0,3.0,5.0,3.0,2.0,7.0,5.0,7.0,1.0,3.0,5.0,4.0,4.0,2.0,4.0,2.0,5.0,2.0,1.0,1.0,4.0,2.0,3.0,2.0,4.0,3.0,4.0,1.0,2.0,9.0,1.0,3.0,3.0,3.0,5.0,5.0,2.0,4.0,2.0,3.0,2.0,3.0,1.0,5.0,3.0,1.0,5.0,2.0,2.0,9.0,7.0,2.0,5.0,2.0,1.0,4.0,3.0,3.0,3.0,8.0,3.0,3.0,3.0,1.0,3.0,5.0,4.0,2.0,2.0,5.0,2.0,5.0,4.0,5.0,6.0,2.0,2.0,3.0,1.0,7.0,3.0,2.0,4.0,4.0,5.0,2.0,4.0,4.0,5.0,2.0,2.0,5.0,2.0,4.0,3.0,2.0,3.0,9.0,4.0,3.0,4.0,2.0,2.0,3.0,3.0,3.0,3.0,5.0,1.0,4.0,1.0,4.0,3.0,4.0,2.0,2.0,4.0,4.0,5.0,2.0,2.0,1.0,5.0,1.0,3.0,0.0,2.0,1.0,3.0,2.0,2.0,2.0,4.0,2.0,1.0,1.0,2.0,4.0,7.0,4.0,3.0,2.0,5.0,3.0,1.0,5.0,6.0,2.0,3.0,1.0,3.0,5.0,2.0,4.0,2.0,2.0,3.0,4.0,1.0,6.0,4.0,2.0,1.0,1.0,8.0,4.0,1.0,2.0,5.0,3.0,5.0,2.0,4.0,4.0,2.0,3.0,1.0,2.0,4.0,5.0,7.0,3.0,1.0,1.0,1.0,2.0,4.0,3.0,3.0,7.0,4.0,2.0,0.0,2.0,2.0,2.0,2.0,4.0,0.0,1.0,1.0,2.0,5.0,2.0,6.0,1.0,3.0,1.0,4.0,4.0,3.0,2.0,2.0,1.0,4.0,4.0,5.0,3.0,1.0,2.0,4.0,6.0,2.0,3.0,4.0,5.0,1.0,1.0,4.0,3.0,7.0,7.0,1.0,3.0,2.0,1.0,1.0,1.0,6.0,1.0,1.0,1.0,3.0,1.0,3.0,1.0,3.0,2.0,3.0,3.0,2.0,2.0,4.0,2.0,4.0,4.0,1.0,1.0,2.0,3.0,3.0,2.0,6.0,2.0,2.0,4.0,5.0,1.0,2.0,1.0,8.0,3.0,3.0,4.0,2.0,4.0,6.0,1.0,3.0,4.0,5.0,1.0,4.0,4.0,4.0,3.0,6.0,3.0,2.0,2.0,3.0,3.0,2.0,3.0,1.0,4.0,2.0,2.0,2.0,2.0,2.0,1.0,2.0,1.0,4.0,1.0,2.0,2.0,2.0,9.0,8.0,1.0,4.0,3.0,2.0,4.0,2.0,2.0,9.0,2.0,4.0,2.0,1.0,7.0,2.0,2.0,3.0,2.0,6.0,3.0,4.0,2.0,1.0,2.0,3.0,4.0,1.0,1.0,2.0,3.0,3.0,5.0,1.0,1.0,2.0,1.0,1.0,6.0,4.0,2.0,6.0,2.0,1.0,4.0,4.0,2.0,1.0,2.0,2.0,5.0,11.0,1.0,1.0,10.0,2.0,8.0,1.0,3.0,4.0,2.0,0.0,4.0,2.0,5.0,4.0,3.0,5.0,3.0,1.0,7.0,2.0,8.0,1.0,2.0,1.0,7.0,2.0,4.0,3.0,4.0,11.0,11.0,4.0,1.0,1.0,1.0,3.0,6.0,1.0,1.0,3.0,10.0,4.0,2.0,4.0,4.0,3.0,0.0,1.0,8.0,2.0,2.0,12.0,2.0,4.0,3.0,4.0,2.0,2.0,1.0,2.0,2.0,4.0,2.0,4.0,2.0,3.0,3.0,3.0,3.0,3.0,3.0,3.0,5.0,4.0,4.0,4.0,3.0,1.0,5.0,4.0,3.0,2.0,2.0,3.0,1.0,5.0,1.0,2.0,1.0,3.0,2.0,0.0,2.0,1.0,5.0,6.0,4.0,2.0,5.0,2.0,2.0,4.0,2.0,3.0,4.0,2.0,3.0,5.0,1.0,3.0,5.0,4.0,0.0,5.0,3.0,3.0,2.0,4.0,4.0,1.0,2.0,2.0,2.0,5.0,1.0,2.0,4.0,13.0,1.0,4.0,4.0,6.0,2.0,6.0,2.0,2.0,0.0,1.0,1.0,4.0,2.0,4.0,5.0,5.0,7.0,4.0,3.0,3.0,2.0,3.0,4.0,2.0,1.0,3.0,2.0,2.0,1.0,6.0,2.0,3.0,2.0,2.0,5.0,2.0,3.0,2.0,5.0,1.0,1.0,3.0,3.0,2.0,4.0,3.0,2.0,3.0,2.0,2.0,2.0,4.0,6.0,3.0,3.0,4.0,5.0,12.0,1.0,10.0,2.0,1.0,3.0,4.0,2.0,1.0,3.0,6.0,4.0,5.0,7.0,4.0,1.0,1.0,2.0,7.0,2.0,1.0,5.0,1.0,2.0,4.0,4.0,4.0,5.0,3.0,4.0,4.0,4.0,6.0,4.0,3.0,6.0,2.0,1.0,3.0,1.0,4.0,2.0,5.0,6.0,2.0,3.0,5.0,3.0,3.0,0.0,1.0,5.0,1.0,2.0,1.0,2.0,2.0,5.0,2.0,1.0,2.0,3.0,2.0,2.0,6.0,3.0,1.0,2.0,5.0,4.0,4.0,6.0,1.0,5.0,3.0,5.0,1.0,4.0,7.0,3.0,4.0,1.0,3.0,1.0,8.0,1.0,3.0,1.0,2.0,2.0,2.0,1.0,4.0,1.0,2.0,4.0,1.0,4.0,2.0,0.0,6.0,3.0,2.0,5.0,4.0,3.0,2.0,2.0,7.0,2.0,6.0,1.0,1.0,6.0,2.0,1.0,6.0,0.0,4.0,3.0,1.0,3.0,2.0,7.0,4.0,8.0,1.0,3.0,3.0,5.0,1.0,1.0,1.0,1.0,3.0,3.0,2.0,3.0,1.0,2.0,5.0,2.0,7.0,4.0,8.0,2.0,6.0,2.0,2.0,3.0,9.0,5.0,2.0,6.0,1.0,2.0,2.0,7.0,1.0,2.0,3.0,5.0,1.0,3.0,1.0,6.0,4.0,1.0,5.0,3.0,2.0,3.0,3.0,5.0,3.0,1.0,1.0,1.0,6.0,1.0,3.0,1.0,10.0,4.0,3.0,3.0,4.0,1.0,3.0,3.0,2.0,3.0,3.0,6.0,3.0,3.0,3.0,6.0,1.0,4.0,6.0,1.0,1.0,1.0,1.0,0.0,1.0,2.0,5.0,3.0,3.0,2.0,3.0,3.0,2.0,3.0,1.0,2.0,4.0,4.0,2.0,3.0,2.0,3.0,3.0,1.0,6.0,7.0,3.0,4.0,3.0,2.0,4.0,2.0,5.0,3.0,7.0,2.0,1.0,7.0,3.0,1.0,2.0,2.0,1.0,1.0,2.0,1.0,4.0,2.0,1.0,3.0,0.0,5.0,3.0,7.0,1.0,3.0,4.0,2.0,3.0,2.0,1.0,3.0,7.0,2.0,3.0,0.0,2.0,2.0,5.0,1.0,2.0,2.0,4.0,1.0,3.0,1.0,4.0,2.0,4.0,7.0,1.0,4.0,4.0,4.0,7.0,2.0,2.0,5.0,3.0,4.0,2.0,4.0,1.0,4.0,1.0,5.0,2.0,4.0,5.0,3.0,2.0,2.0,6.0,9.0,2.0,1.0,7.0,6.0,3.0,1.0,2.0,1.0,4.0,3.0,3.0,1.0,1.0,3.0,7.0,7.0,4.0,1.0,4.0,2.0,3.0,4.0,2.0,4.0,5.0,1.0,5.0,3.0,3.0,2.0,1.0,9.0,2.0,2.0,5.0,1.0,7.0,1.0,4.0,4.0,3.0,2.0,4.0,3.0,3.0,3.0,5.0,4.0,3.0,1.0,4.0,13.0,1.0,1.0,5.0,1.0,4.0,1.0,2.0,3.0,4.0,1.0,7.0,3.0,4.0,4.0,1.0,2.0,2.0,4.0,1.0,8.0,2.0,13.0,10.0,4.0,11.0,8.0,3.0,1.0,2.0,1.0,7.0,1.0,3.0,2.0,2.0,1.0,6.0,2.0,1.0,1.0,3.0,2.0,2.0,6.0,2.0,1.0,1.0,9.0,3.0,7.0,7.0,4.0,2.0,6.0,6.0,5.0,9.0,6.0,2.0,2.0,2.0,2.0,6.0,2.0,2.0,1.0,1.0,3.0,3.0,5.0,2.0,6.0,1.0,4.0,0.0,3.0,7.0,3.0,3.0,2.0,1.0,4.0,1.0,5.0,1.0,2.0,3.0,3.0,4.0,4.0,1.0,1.0,4.0,4.0,6.0,8.0,1.0,6.0,2.0,5.0,4.0,3.0,1.0,6.0,1.0,3.0,1.0,3.0,4.0,2.0,6.0,1.0,4.0,3.0,6.0,1.0,9.0,2.0,2.0,6.0,1.0,2.0,0.0,5.0,5.0,7.0,2.0,4.0,6.0,3.0,3.0,2.0,3.0,2.0,1.0,2.0,3.0,5.0,3.0,2.0,3.0,2.0,2.0,3.0,7.0,6.0,4.0,1.0,1.0,1.0,3.0,3.0,3.0,4.0,1.0,3.0,3.0,3.0,4.0,2.0,3.0,3.0,1.0,1.0,1.0,2.0,1.0,2.0,2.0,1.0,2.0,2.0,6.0,4.0,2.0,4.0,1.0,4.0,4.0,10.0,6.0,2.0,2.0,3.0,1.0,3.0,2.0,6.0,2.0,5.0,3.0,5.0,3.0,14.0,3.0,4.0,5.0,1.0,2.0,3.0,2.0,2.0,5.0,1.0,4.0,5.0,2.0,7.0,2.0,7.0,2.0,0.0,1.0,3.0,2.0,4.0,1.0,2.0,15.0,2.0,6.0,8.0,1.0,2.0,4.0,1.0,3.0,1.0,3.0,2.0,1.0,5.0,1.0,1.0,6.0,3.0,1.0,8.0,9.0,2.0,2.0,2.0,1.0,4.0,4.0,3.0,7.0,5.0,1.0,6.0,3.0,3.0,2.0,4.0,7.0,6.0,2.0,6.0,4.0,4.0,6.0,1.0,1.0,7.0,3.0,6.0,7.0,2.0,3.0,1.0,4.0,3.0,3.0,10.0,2.0,1.0,2.0,2.0,2.0,1.0,1.0,4.0,3.0,1.0,2.0,5.0,1.0,6.0,2.0,3.0,1.0,5.0,10.0,4.0,3.0,1.0,7.0,2.0,1.0,2.0,3.0,4.0,1.0,4.0,5.0,2.0,4.0,1.0,2.0,6.0,8.0,4.0,2.0,3.0,2.0,3.0,4.0,2.0,4.0,3.0,5.0,2.0,1.0,8.0,2.0,3.0,5.0,5.0,9.0,2.0,1.0,4.0,4.0,2.0,4.0,4.0,2.0,3.0,1.0,3.0,3.0,2.0,2.0,2.0,1.0,4.0,2.0,6.0,7.0,1.0,1.0,1.0,3.0,2.0,2.0,3.0,1.0,2.0,5.0,5.0,3.0,0.0,3.0,2.0,4.0,5.0,5.0,2.0,7.0,4.0,6.0,7.0,1.0,1.0,2.0,1.0,2.0,1.0,2.0,1.0,1.0,9.0,7.0,2.0,5.0,4.0,2.0,7.0,2.0,2.0,2.0,2.0,4.0,2.0,4.0,6.0,3.0,1.0,2.0,2.0,1.0,4.0,3.0,5.0,5.0,3.0,2.0,4.0,2.0,2.0,1.0,2.0,3.0,5.0,4.0,4.0,1.0,3.0,3.0,2.0,2.0,2.0,2.0,3.0,7.0,1.0,2.0,1.0,5.0,6.0,4.0,2.0,6.0,5.0,4.0,1.0,4.0,3.0,1.0,3.0,3.0,3.0,4.0,3.0,2.0,2.0,5.0,4.0,2.0,2.0,1.0,5.0,2.0,3.0,3.0,3.0,1.0,2.0,2.0,2.0,1.0,1.0,4.0,1.0,4.0,3.0,3.0,1.0,4.0,2.0,3.0,3.0,2.0,1.0,1.0,5.0,2.0,1.0,4.0,2.0,2.0,3.0,3.0,3.0,1.0,2.0,5.0,3.0,3.0,2.0,4.0,1.0,5.0,2.0,2.0,3.0,1.0,2.0,1.0,3.0,5.0,2.0,4.0,2.0,4.0,3.0,2.0,1.0,2.0,4.0,7.0,3.0,3.0,5.0,2.0,1.0,5.0,3.0,6.0,9.0,3.0,2.0,1.0,3.0,2.0,1.0,4.0,1.0,11.0,8.0,1.0,2.0,1.0,3.0,2.0,4.0,3.0,1.0,4.0,3.0,2.0,2.0,3.0,2.0,3.0,13.0,6.0,5.0,4.0,7.0,2.0,4.0,2.0,6.0,1.0,3.0,6.0,2.0,3.0,2.0,1.0,3.0,1.0,5.0,4.0,3.0,5.0,4.0,4.0,5.0,3.0,1.0,3.0,3.0,1.0,3.0,2.0,3.0,2.0,4.0,1.0,1.0,4.0,4.0,3.0,5.0,3.0,3.0,6.0,3.0,4.0,1.0,2.0,2.0,2.0,7.0,0.0,5.0,1.0,2.0,1.0,3.0,4.0,6.0,5.0,1.0,2.0,9.0,2.0,1.0,4.0,2.0,6.0,4.0,4.0,7.0,6.0,4.0,5.0,5.0,3.0,5.0,2.0,2.0,5.0,1.0,5.0,2.0,2.0,3.0,1.0,4.0,2.0,1.0,1.0,2.0,4.0,2.0,0.0,5.0,1.0,3.0,2.0,4.0,1.0,9.0,1.0,1.0,2.0,3.0,3.0,4.0,1.0,1.0,3.0,1.0,2.0,3.0,2.0,3.0,3.0,2.0,2.0,2.0,7.0,4.0,3.0,1.0,1.0,3.0,4.0,3.0,9.0,3.0,5.0,3.0,5.0,5.0,1.0,1.0,3.0,4.0,1.0,1.0,3.0,6.0,1.0,5.0,3.0,3.0,1.0,1.0,6.0,2.0,4.0,8.0,1.0,4.0,0.0,2.0,7.0,1.0,2.0,1.0,1.0,4.0,2.0,3.0,2.0,3.0,1.0,2.0,3.0,4.0,4.0,2.0,3.0,1.0,3.0,1.0,15.0,1.0,0.0,3.0,2.0,2.0,3.0,1.0,7.0,6.0,3.0,2.0,4.0,4.0,4.0,4.0,2.0,2.0,3.0,2.0,1.0,2.0,1.0,3.0,1.0,2.0,2.0,2.0,5.0,1.0,4.0,2.0,2.0,3.0,1.0,1.0,2.0,1.0,1.0,5.0,1.0,1.0,3.0,5.0,2.0,1.0,2.0,2.0,3.0,4.0,1.0,2.0,2.0,4.0,3.0,3.0,2.0,3.0,0.0,3.0,2.0,3.0,3.0,3.0,2.0,4.0,8.0,2.0,2.0,4.0,2.0,16.0,1.0,2.0,1.0,4.0,3.0,0.0,1.0,4.0,1.0,6.0,10.0,2.0,3.0,2.0,1.0,1.0,4.0,1.0,5.0,2.0,3.0,4.0,5.0,6.0,3.0,2.0,6.0,3.0,5.0,2.0,0.0,5.0,1.0,6.0,2.0,3.0,3.0,1.0,4.0,1.0,1.0,2.0,4.0,9.0,3.0,2.0,4.0,4.0,3.0,1.0,4.0,4.0,3.0,2.0,4.0,2.0,2.0,9.0,1.0,5.0,3.0,2.0,3.0,2.0,3.0,1.0,3.0,4.0,5.0,6.0,1.0,4.0,2.0,2.0,1.0,1.0,1.0,3.0,4.0,1.0,1.0,2.0,3.0,2.0,2.0,2.0,2.0,1.0,5.0,6.0,7.0,5.0,4.0,4.0,10.0,2.0,3.0,3.0,1.0,4.0,7.0,3.0,6.0,7.0,2.0,7.0,3.0,5.0,1.0,0.0,6.0,2.0,2.0,2.0,5.0,1.0,7.0,1.0,7.0,1.0,2.0,5.0,2.0,2.0,1.0,2.0,2.0,0.0,2.0,3.0,6.0,3.0,0.0,3.0,1.0,3.0,5.0,2.0,1.0,2.0,3.0,1.0,2.0,8.0,4.0,5.0,2.0,1.0,1.0,2.0,1.0,1.0,0.0,2.0,1.0,4.0,2.0,3.0,5.0,5.0,4.0,1.0,3.0,2.0,5.0,1.0,8.0,3.0,2.0,4.0,3.0,2.0,2.0,1.0,4.0,2.0,1.0,4.0,5.0,1.0,3.0,3.0,4.0,8.0,2.0,2.0,1.0,2.0,1.0,7.0,3.0,5.0,3.0,4.0,7.0,6.0,2.0,1.0,1.0,1.0,8.0,3.0,4.0,2.0,7.0,4.0,2.0,3.0,1.0,3.0,2.0,2.0,3.0,4.0,3.0,13.0,5.0,2.0,3.0,3.0,8.0,4.0,3.0,3.0,1.0,5.0,3.0,3.0,2.0,2.0,1.0,8.0,5.0,3.0,1.0,3.0,3.0,3.0,6.0,1.0,6.0,12.0,2.0,5.0,4.0,3.0,5.0,4.0,2.0,1.0,8.0,3.0,4.0,3.0,4.0,3.0,5.0,5.0,1.0,3.0,1.0,5.0,2.0,1.0,3.0,1.0,2.0,2.0,2.0,6.0,0.0,2.0,2.0,8.0,2.0,2.0,2.0,5.0,2.0,1.0,4.0,1.0,4.0,3.0,8.0,1.0,2.0,3.0,2.0,2.0,3.0,1.0,3.0,1.0,2.0,6.0,4.0,4.0,3.0,4.0,2.0,5.0,14.0,4.0,3.0,10.0,1.0,2.0,2.0,6.0,3.0,3.0,1.0,3.0,2.0,2.0,1.0,3.0,1.0,2.0,6.0,3.0,2.0,2.0,2.0,6.0,3.0,2.0,2.0,3.0,1.0,4.0,3.0,5.0,6.0,2.0,3.0,3.0,2.0,1.0,2.0,6.0,2.0,1.0,7.0,2.0,9.0,1.0,3.0,7.0,2.0,3.0,3.0,2.0,3.0,4.0,4.0,3.0,2.0,5.0,2.0,6.0,1.0,3.0,3.0,2.0,1.0,1.0,9.0,4.0,3.0,6.0,1.0,2.0,4.0,4.0,2.0,2.0,4.0,5.0,1.0,2.0,0.0,2.0,1.0,2.0,2.0,3.0,1.0,3.0,2.0,3.0,3.0,2.0,2.0,2.0,2.0,2.0,6.0,1.0,3.0,3.0,2.0,1.0,3.0,1.0,1.0,1.0,1.0,10.0,3.0,2.0,6.0,1.0,3.0,3.0,4.0,2.0,2.0,5.0,0.0,4.0,7.0,3.0,5.0,2.0,6.0,2.0,10.0,1.0,1.0,2.0,1.0,3.0,1.0,1.0,7.0,2.0,1.0,2.0,1.0,1.0,2.0,3.0,1.0,4.0,1.0,2.0,1.0,4.0,1.0,1.0,3.0,2.0,2.0,0.0,2.0,2.0,4.0,1.0,3.0,2.0,1.0,4.0,2.0,3.0,2.0,4.0,2.0,6.0,4.0,3.0,5.0,5.0,4.0,2.0,2.0,3.0,3.0,2.0,1.0,5.0,3.0,2.0,4.0,0.0,5.0,3.0,3.0,3.0,3.0,3.0,1.0,1.0,2.0,1.0,7.0,5.0,1.0,1.0,2.0,5.0,3.0,2.0,3.0,3.0,2.0,1.0,2.0,2.0,3.0,2.0,8.0,5.0,3.0,1.0,5.0,3.0,2.0,3.0,1.0,5.0,12.0,4.0,3.0,2.0,3.0,2.0,2.0,1.0,6.0,2.0,2.0,4.0,3.0,6.0,6.0,2.0,2.0,1.0,1.0,1.0,8.0,2.0,0.0,4.0,2.0,2.0,3.0,3.0,1.0,3.0,2.0,3.0,6.0,6.0,4.0,5.0,2.0,10.0,1.0,2.0,5.0,4.0,3.0,2.0,2.0,1.0,2.0,5.0,4.0,3.0,3.0,2.0,3.0,5.0,2.0,1.0,2.0,3.0,3.0,4.0,1.0,1.0,3.0,6.0,0.0,3.0,8.0,2.0,1.0,9.0,0.0,2.0,5.0,5.0,3.0,1.0,1.0,3.0,2.0,5.0,1.0,2.0,2.0,3.0,2.0,1.0,4.0,3.0,4.0,2.0,2.0,2.0,2.0,1.0,1.0,1.0,4.0,1.0,1.0,4.0,5.0,4.0,1.0,3.0,5.0,3.0,1.0,1.0,1.0,2.0,7.0,1.0,1.0,4.0,4.0,1.0,3.0,3.0,1.0,3.0,5.0,2.0,5.0,1.0,1.0,2.0,1.0,1.0,1.0,7.0,4.0,8.0,8.0,4.0,6.0,1.0,3.0,4.0,2.0,2.0,4.0,4.0,0.0,7.0,4.0,1.0,3.0,2.0,6.0,4.0,1.0,3.0,6.0,2.0,4.0,2.0,1.0,3.0,5.0,3.0,1.0,2.0,1.0,5.0,2.0,5.0,2.0,1.0,1.0,3.0,2.0,1.0,1.0,7.0,2.0,7.0,3.0,1.0,1.0,2.0,2.0,3.0,3.0,3.0,4.0,3.0,8.0,2.0,4.0,4.0,2.0,1.0,5.0,7.0,5.0,1.0,3.0,1.0,4.0,3.0,3.0,5.0,3.0,1.0,6.0,3.0,3.0,2.0,3.0,2.0,3.0,1.0,4.0,1.0,1.0,1.0,1.0,4.0,3.0,4.0,1.0,6.0,1.0,3.0,4.0,4.0,3.0,2.0,1.0,1.0,2.0,2.0,3.0,1.0,1.0,2.0,4.0,7.0,6.0,2.0,4.0,6.0,2.0,3.0,2.0,2.0,5.0,2.0,4.0,2.0,4.0,1.0,3.0,1.0,2.0,5.0,4.0,2.0,1.0,1.0,2.0,5.0,2.0,3.0,4.0,5.0,10.0,5.0,4.0,2.0,2.0,5.0,2.0,2.0,4.0,6.0,3.0,4.0,1.0,2.0,8.0,2.0,2.0,6.0,2.0,6.0,1.0,4.0,6.0,5.0,3.0,3.0,2.0,2.0,7.0,4.0,1.0,2.0,4.0,1.0,1.0,3.0,2.0,7.0,1.0,2.0,2.0,3.0,5.0,8.0,3.0,1.0,1.0,4.0,1.0,2.0,3.0,3.0,2.0,2.0,5.0,2.0,2.0,1.0,5.0,3.0,4.0,2.0,7.0,0.0,2.0,2.0,3.0,1.0,5.0,8.0,2.0,3.0,1.0,1.0,2.0,2.0,3.0,3.0,3.0,1.0,3.0,3.0,3.0,3.0,1.0,8.0,3.0,2.0,3.0,9.0,1.0,1.0,1.0,3.0,6.0,2.0,5.0,2.0,5.0,2.0,5.0,5.0,2.0,2.0,2.0,2.0,1.0,2.0,2.0,4.0,1.0,2.0,3.0,2.0,4.0,3.0,3.0,2.0,3.0,3.0,1.0,1.0,3.0,5.0,2.0,2.0,2.0,4.0,1.0,3.0,1.0,7.0,3.0,5.0,3.0,3.0,7.0,3.0,4.0,6.0,2.0,1.0,1.0,3.0,2.0,2.0,2.0,1.0,1.0,3.0,11.0,8.0,1.0,2.0,4.0,4.0,2.0,7.0,2.0,4.0,1.0,2.0,4.0,3.0,5.0,2.0,3.0,1.0,2.0,4.0,4.0,3.0,2.0,1.0,3.0,5.0,2.0,3.0,6.0,5.0,4.0,2.0,4.0,2.0,2.0,4.0,5.0,1.0,2.0,2.0,7.0,3.0,2.0,1.0,3.0,1.0,0.0,2.0,1.0,6.0,1.0,2.0,1.0,3.0,1.0,6.0,1.0,2.0,2.0,5.0,1.0,8.0,6.0,5.0,5.0,5.0,1.0,2.0,7.0,2.0,3.0,2.0,2.0,2.0,5.0,2.0,1.0,2.0,1.0,2.0,4.0,10.0,3.0,3.0,1.0,4.0,2.0,2.0,2.0,2.0,1.0,4.0,5.0,3.0,3.0,6.0,2.0,10.0,1.0,4.0,1.0,3.0,1.0,1.0,5.0,1.0,5.0,5.0,4.0,7.0,4.0,2.0,4.0,7.0,2.0,5.0,3.0,3.0,3.0,7.0,3.0,2.0,1.0,2.0,3.0,1.0,1.0,1.0,3.0,3.0,6.0,3.0,1.0,3.0,3.0,1.0,1.0,1.0,6.0,2.0,1.0,1.0,4.0,3.0,2.0,5.0,8.0,7.0,3.0,1.0,4.0,2.0,1.0,1.0,2.0,5.0,5.0,1.0,3.0,2.0,0.0,3.0,2.0,2.0,2.0,3.0,3.0,3.0,3.0,2.0,2.0,2.0,1.0,3.0,0.0,1.0,4.0,4.0,5.0,1.0,2.0,3.0,2.0,1.0,1.0,1.0,6.0,3.0,3.0,5.0,3.0,1.0,1.0,3.0,3.0,2.0,4.0,3.0,6.0,3.0,1.0,2.0,0.0,2.0,2.0,3.0,1.0,6.0,2.0,3.0,2.0,4.0,1.0,4.0,4.0,3.0,3.0,2.0,3.0,1.0,6.0,2.0,2.0,2.0,3.0,1.0,3.0,1.0,2.0,5.0,3.0,8.0,5.0,3.0,4.0,1.0,3.0,3.0,3.0,1.0,2.0,2.0,1.0,1.0,4.0,3.0,3.0,5.0,3.0,1.0,2.0,5.0,3.0,2.0,5.0,11.0,3.0,0.0,2.0,5.0,3.0,1.0,5.0,3.0,1.0,4.0,4.0,4.0,4.0,3.0,2.0,2.0,3.0,3.0,4.0,1.0,3.0,6.0,4.0,5.0,3.0,3.0,1.0,2.0,3.0,1.0,1.0,4.0,1.0,3.0,2.0,3.0,3.0,2.0,2.0,4.0,0.0,1.0,2.0,6.0,1.0,2.0,1.0,2.0,1.0,3.0,1.0,1.0,1.0,3.0,2.0,2.0,1.0,3.0,0.0,2.0,1.0,5.0,0.0,4.0,2.0,6.0,1.0,1.0,2.0,1.0,3.0,1.0,2.0,1.0,3.0,2.0,6.0,3.0,1.0,2.0,1.0,2.0,3.0,6.0,2.0,2.0,2.0,3.0,5.0,2.0,2.0,5.0,1.0,1.0,2.0,6.0,6.0,2.0,6.0,3.0,3.0,1.0,2.0,3.0,2.0,2.0,8.0,8.0,5.0,5.0,4.0,3.0,3.0,3.0,2.0,3.0,3.0,1.0,3.0,6.0,2.0,3.0,2.0,2.0,2.0,1.0,2.0,2.0,1.0,3.0,4.0,4.0,3.0,1.0,2.0,1.0,3.0,4.0,1.0,3.0,2.0,7.0,5.0,3.0,3.0,2.0,1.0,1.0,2.0,9.0,4.0,2.0,4.0,3.0,1.0,2.0,2.0,5.0,3.0,3.0,2.0,5.0,3.0,3.0,4.0,4.0,2.0,6.0,4.0,2.0,1.0,2.0,1.0,9.0,6.0,3.0,1.0,3.0,1.0,3.0,3.0,1.0,2.0,2.0,1.0,2.0,5.0,1.0,4.0,1.0,1.0,9.0,5.0,3.0,6.0,0.0,2.0,3.0,1.0,2.0,1.0,2.0,2.0,3.0,3.0,4.0,1.0,3.0,2.0,4.0,4.0,4.0,4.0,2.0,4.0,2.0,5.0,3.0,5.0,3.0,6.0,2.0,3.0,3.0,2.0,6.0,6.0,4.0,1.0,4.0,0.0,1.0,4.0,4.0,0.0,4.0,2.0,2.0,3.0,8.0,2.0,1.0,7.0,3.0,4.0,3.0,8.0,1.0,2.0,5.0,2.0,2.0,2.0,4.0,7.0,3.0,1.0,2.0,2.0,2.0,3.0,5.0,5.0,4.0,2.0,3.0,1.0,2.0,2.0,3.0,1.0,3.0,4.0,3.0,3.0,1.0,3.0,2.0,4.0,1.0,6.0,4.0,1.0,1.0,3.0,9.0,2.0,2.0,3.0,2.0,4.0,2.0,4.0,4.0,1.0,3.0,5.0,2.0,3.0,3.0,5.0,2.0,3.0,7.0,4.0,4.0,2.0,5.0,3.0,4.0,2.0,2.0,2.0,2.0,1.0,4.0,3.0,3.0,1.0,1.0,3.0,3.0,8.0,2.0,3.0,4.0,4.0,2.0,6.0,3.0,19.0,1.0,2.0,1.0,5.0,5.0,3.0,4.0,2.0,1.0,1.0,2.0,2.0,2.0,1.0,4.0,6.0,4.0,3.0,2.0,2.0,4.0,10.0,4.0,4.0,8.0,1.0,1.0,2.0,4.0,5.0,3.0,1.0,1.0,5.0,1.0,1.0,1.0,2.0,1.0,4.0,5.0,2.0,3.0,3.0,2.0,4.0,3.0,3.0,2.0,3.0,2.0,1.0,2.0,5.0,5.0,2.0,1.0,2.0,8.0,2.0,3.0,3.0,2.0,1.0,1.0,2.0,4.0,4.0,1.0,5.0,6.0,1.0,2.0,3.0,3.0,3.0,3.0,2.0,3.0,1.0,0.0,5.0,0.0,6.0,5.0,7.0,3.0,3.0,3.0,2.0,2.0,3.0,1.0,1.0,2.0,1.0,4.0,3.0,3.0,1.0,2.0,1.0,3.0,6.0,1.0,2.0,4.0,3.0,2.0,10.0,2.0,1.0,1.0,2.0,2.0,5.0,3.0,1.0,11.0,2.0,2.0,1.0,1.0,3.0,4.0,4.0,4.0,2.0,2.0,4.0,5.0,6.0,3.0,2.0,6.0,4.0,4.0,4.0,4.0,1.0,1.0,1.0,2.0,4.0,2.0,2.0,1.0,2.0,8.0,4.0,5.0,2.0,1.0,1.0,6.0,2.0,4.0,3.0,3.0,2.0,3.0,9.0,1.0,2.0,2.0,2.0,2.0,5.0,2.0,4.0,3.0,2.0,5.0,2.0,1.0,4.0,3.0,3.0,4.0,3.0,12.0,4.0,5.0,2.0,1.0,2.0,2.0,1.0,7.0,6.0,3.0,2.0,3.0,4.0,3.0,4.0,1.0,2.0,2.0,5.0,2.0,2.0,2.0,3.0,5.0,5.0,1.0,5.0,5.0,1.0,2.0,4.0,6.0,8.0,6.0,5.0,2.0,8.0,3.0,10.0,2.0,2.0,6.0,2.0,4.0,3.0,2.0,1.0,3.0,9.0,9.0,4.0,7.0,2.0,1.0,10.0,1.0,6.0,9.0,1.0,1.0,1.0,3.0,3.0,5.0,0.0,3.0,3.0,3.0,6.0,3.0,3.0,3.0,2.0,2.0,3.0,3.0,1.0,0.0,1.0,4.0,2.0,4.0,3.0,1.0,1.0,3.0,6.0,2.0,1.0,4.0,3.0,3.0,3.0,4.0,3.0,1.0,2.0,5.0,1.0,1.0,2.0,1.0,1.0,2.0,3.0,2.0,3.0,3.0,1.0,2.0,1.0,2.0,4.0,4.0,2.0,5.0,1.0,2.0,3.0,2.0,4.0,1.0,2.0,6.0,4.0,2.0,4.0,6.0,2.0,1.0,2.0,3.0,6.0,2.0,3.0,2.0,3.0,3.0,1.0,3.0,0.0,3.0,6.0,3.0,2.0,1.0,2.0,3.0,3.0,7.0,2.0,2.0,2.0,1.0,4.0,3.0,3.0,7.0,3.0,3.0,2.0,4.0,4.0,6.0,13.0,2.0,2.0,1.0,7.0,2.0,1.0,4.0,1.0,2.0,2.0,1.0,2.0,1.0,4.0,1.0,2.0,3.0,2.0,2.0,1.0,4.0,1.0,3.0,5.0,5.0,2.0,5.0,2.0,2.0,3.0,9.0,4.0,6.0,0.0,3.0,1.0,3.0,4.0,2.0,3.0,2.0,3.0,1.0,1.0,3.0,4.0,2.0,1.0,5.0,1.0,4.0,1.0,2.0,6.0,3.0,2.0,1.0,9.0,1.0,4.0,9.0,3.0,2.0,3.0,3.0,3.0,2.0,5.0,5.0,5.0,1.0,1.0,2.0,3.0,6.0,3.0,1.0,2.0,1.0,1.0,3.0,2.0,3.0,3.0,1.0,0.0,3.0,1.0,2.0,1.0,6.0,2.0,2.0,3.0,2.0,2.0,2.0,1.0,3.0,2.0,2.0,2.0,2.0,1.0,5.0,4.0,2.0,5.0,3.0,3.0,3.0,1.0,3.0,2.0,2.0,1.0,5.0,2.0,7.0,3.0,11.0,3.0,3.0,1.0,1.0,1.0,1.0,3.0,1.0,3.0,2.0,2.0,9.0,5.0,1.0,2.0,2.0,4.0,4.0,4.0,5.0,2.0,3.0,1.0,1.0,2.0,1.0,6.0,1.0,2.0,1.0,2.0,6.0,3.0,2.0,2.0,3.0,3.0,4.0,6.0,2.0,2.0,2.0,2.0,2.0,1.0,1.0,1.0,2.0,3.0,2.0,2.0,6.0,2.0,2.0,1.0,4.0,4.0,1.0,2.0,1.0,1.0,7.0,6.0,1.0,10.0,2.0,1.0,2.0,2.0,4.0,2.0,3.0,1.0,1.0,2.0,4.0,2.0,4.0,8.0,1.0,2.0,6.0,2.0,1.0,2.0,2.0,9.0,9.0,7.0,2.0,0.0,2.0,3.0,2.0,3.0,1.0,1.0,4.0,0.0,3.0,4.0,2.0,2.0,4.0,1.0,3.0,3.0,2.0,4.0,7.0,2.0,1.0,3.0,3.0,1.0,9.0,4.0,4.0,2.0,1.0,3.0,0.0,2.0,3.0,2.0,1.0,2.0,6.0,2.0,1.0,1.0,6.0,2.0,2.0,3.0,3.0,3.0,2.0,1.0,4.0,2.0,6.0,5.0,4.0,3.0,4.0,2.0,2.0,3.0,1.0,2.0,1.0,5.0,4.0,2.0,2.0,2.0,8.0,3.0,1.0,4.0,2.0,3.0,3.0,9.0,4.0,2.0,1.0,2.0,2.0,2.0,2.0,3.0,2.0,5.0,1.0,3.0,3.0,3.0,7.0,1.0,2.0,2.0,6.0,2.0,1.0,3.0,1.0,8.0,2.0,3.0,4.0,4.0,3.0,1.0,5.0,1.0,1.0,1.0,3.0,3.0,3.0,1.0,3.0,2.0,7.0,2.0,4.0,1.0,4.0,1.0,2.0,4.0,2.0,3.0,1.0,3.0,2.0,3.0,7.0,3.0,1.0,4.0,3.0,2.0,2.0,1.0,1.0,2.0,1.0,3.0,4.0,2.0,3.0,3.0,3.0,4.0,4.0,3.0,4.0,6.0,2.0,7.0,4.0,1.0,2.0,3.0,5.0,5.0,6.0,1.0,1.0,2.0,3.0,4.0,2.0,1.0,1.0,2.0,5.0,2.0,1.0,6.0,0.0,8.0,1.0,5.0,1.0,3.0,4.0,4.0,11.0,2.0,4.0,4.0,2.0,2.0,6.0,4.0,1.0,4.0,6.0,2.0,2.0,4.0,3.0,3.0,2.0,1.0,1.0,4.0,1.0,2.0,4.0,4.0,2.0,2.0,4.0,4.0,2.0,0.0,3.0,5.0,3.0,3.0,3.0,5.0,1.0,1.0,3.0,2.0,1.0,1.0,3.0,3.0,6.0,5.0,3.0,1.0,5.0,3.0,2.0,4.0,1.0,0.0,5.0,2.0,3.0,7.0,2.0,2.0,4.0,2.0,5.0,4.0,6.0,5.0,1.0,1.0,2.0,3.0,1.0,3.0,1.0,4.0,2.0,5.0,3.0,3.0,3.0,2.0,1.0,4.0,1.0,3.0,1.0,5.0,4.0,2.0,3.0,3.0,1.0,3.0,1.0,4.0,2.0,3.0,1.0,1.0,5.0,3.0,2.0,3.0,1.0,2.0,2.0,3.0,1.0,3.0,2.0,10.0,2.0,3.0,3.0,7.0,2.0,3.0,4.0,4.0,3.0,1.0,3.0,3.0,6.0,3.0,4.0,7.0,2.0,3.0,3.0,1.0,1.0,2.0,1.0,9.0,4.0,3.0,8.0,7.0,9.0,4.0,4.0,1.0,1.0,7.0,3.0,4.0,3.0,4.0,3.0,3.0,1.0,3.0,4.0,4.0,2.0,4.0,3.0,1.0,2.0,1.0,4.0,3.0,3.0,2.0,3.0,0.0,2.0,6.0,2.0,1.0,2.0,8.0,10.0,3.0,3.0,7.0,3.0,3.0,3.0,2.0,2.0,2.0,7.0,1.0,0.0,3.0,2.0,3.0,3.0,1.0,3.0,1.0,2.0,5.0,2.0,3.0,6.0,3.0,3.0,5.0,1.0,4.0,2.0,4.0,2.0,2.0,2.0,1.0,1.0,4.0,4.0,5.0,7.0,3.0,1.0,1.0,4.0,2.0,1.0,5.0,6.0,3.0,1.0,3.0,0.0,3.0,4.0,3.0,1.0,4.0,3.0,1.0,1.0,1.0,3.0,1.0,3.0,2.0,2.0,2.0,3.0,4.0,5.0,1.0,4.0,5.0,2.0,6.0,2.0,5.0,1.0,1.0,16.0,1.0,5.0,3.0,2.0,2.0,2.0,3.0,2.0,0.0,3.0,2.0,1.0,7.0,2.0,3.0,0.0,2.0,3.0,13.0,14.0,2.0,3.0,3.0,4.0,4.0,2.0,1.0,2.0,7.0,3.0,5.0,2.0,3.0,4.0,6.0,3.0,1.0,5.0,3.0,1.0,3.0,2.0,1.0,3.0,2.0,6.0,1.0,3.0,3.0,2.0,5.0,1.0,3.0,6.0,9.0,5.0,3.0,0.0,7.0,3.0,3.0,4.0,1.0,2.0,3.0,6.0,6.0,3.0,4.0,4.0,6.0,2.0,2.0,1.0,3.0,4.0,3.0,5.0,2.0,3.0,1.0,2.0,6.0,0.0,3.0,5.0,0.0,1.0,5.0,0.0,1.0,3.0,1.0,3.0,3.0,2.0,2.0,3.0,3.0,3.0,2.0,1.0,5.0,1.0,1.0,5.0,3.0,8.0,4.0,7.0,9.0,1.0,3.0,4.0,4.0,3.0,3.0,2.0,3.0,2.0,4.0,2.0,1.0,1.0,2.0,1.0,2.0,3.0,3.0,7.0,3.0,1.0,5.0,3.0,2.0,1.0,2.0,2.0,1.0,1.0,2.0,2.0,2.0,3.0,2.0,1.0,4.0,2.0,5.0,1.0,1.0,2.0,1.0,2.0,2.0,5.0,4.0,7.0,5.0,2.0,2.0,3.0,7.0,3.0,3.0,4.0,2.0,4.0,2.0,3.0,3.0,3.0,1.0,3.0,1.0,6.0,2.0,2.0,1.0,1.0,1.0,4.0,3.0,4.0,2.0,2.0,2.0,3.0,6.0,2.0,4.0,4.0,2.0,2.0,3.0,1.0,5.0,1.0,2.0,1.0,11.0,2.0,5.0,6.0,4.0,1.0,3.0,3.0,7.0,3.0,3.0,3.0,3.0,4.0,2.0,1.0,2.0,11.0,1.0,2.0,5.0,3.0,1.0,1.0,2.0,5.0,3.0,2.0,2.0,7.0,5.0,2.0,3.0,3.0,1.0,3.0,4.0,2.0,6.0,2.0,1.0,1.0,1.0,3.0,1.0,10.0,4.0,5.0,2.0,2.0,2.0,3.0,5.0,8.0,4.0,1.0,3.0,1.0,8.0,2.0,4.0,7.0,2.0,6.0,3.0,5.0,3.0,2.0,2.0,5.0,4.0,5.0,2.0,1.0,2.0,2.0,7.0,3.0,3.0,4.0,1.0,0.0,3.0,1.0,1.0,1.0,2.0,3.0,4.0,2.0,6.0,1.0,1.0,2.0,1.0,1.0,3.0,6.0,4.0,3.0,1.0,2.0,6.0,2.0,1.0,1.0,3.0,2.0,3.0,1.0,4.0,1.0,2.0,1.0,4.0,4.0,5.0,1.0,7.0,3.0,3.0,7.0,3.0,2.0,1.0,2.0,3.0,5.0,1.0,1.0,4.0,4.0,6.0,2.0,1.0,2.0,2.0,2.0,3.0,3.0,2.0,1.0,1.0,6.0,2.0,4.0,1.0,6.0,4.0,4.0,2.0,5.0,4.0,1.0,2.0,0.0,2.0,3.0,7.0,5.0,5.0,2.0,2.0,1.0,5.0,5.0,4.0,1.0,2.0,1.0,4.0,2.0,1.0,2.0,2.0,12.0,2.0,7.0,3.0,6.0,2.0,6.0,2.0,1.0,1.0,1.0,1.0,4.0,2.0,4.0,4.0,3.0,2.0,4.0,4.0,2.0,1.0,1.0,2.0,2.0,1.0,5.0,2.0,1.0,3.0,4.0,0.0,2.0,2.0,2.0,5.0,2.0,1.0,6.0,2.0,2.0,4.0,2.0,3.0,2.0,3.0,7.0,0.0,1.0,3.0,2.0,4.0,2.0,4.0,5.0,1.0,3.0,1.0,2.0,5.0,1.0,6.0,2.0,4.0,2.0,1.0,2.0,2.0,2.0,4.0,3.0,2.0,4.0,4.0,1.0,3.0,5.0,2.0,2.0,3.0,3.0,1.0,3.0,2.0,7.0,2.0,1.0,3.0,6.0,1.0,7.0,6.0,4.0,3.0,4.0,6.0,3.0,3.0,3.0,3.0,3.0,1.0,2.0,3.0,2.0,5.0,4.0,4.0,2.0,1.0,2.0,4.0,12.0,4.0,2.0,3.0,1.0,7.0,1.0,2.0,4.0,2.0,4.0,1.0,1.0,7.0,2.0,4.0,2.0,5.0,2.0,2.0,1.0,1.0,4.0,2.0,5.0,1.0,2.0,2.0,5.0,4.0,3.0,3.0,2.0,1.0,3.0,4.0,3.0,2.0,2.0,2.0,1.0,6.0,2.0,5.0,1.0,4.0,2.0,2.0,6.0,3.0,4.0,1.0,2.0,10.0,3.0,3.0,1.0,2.0,4.0,2.0,3.0,8.0,6.0,1.0,12.0,3.0,2.0,6.0,2.0,2.0,4.0,5.0,4.0,7.0,2.0,2.0,4.0,2.0,6.0,3.0,2.0,1.0,2.0,2.0,1.0,5.0,4.0,2.0,1.0,2.0,5.0,1.0,2.0,2.0,5.0,7.0,2.0,5.0,3.0,7.0,3.0,3.0,3.0,2.0,2.0,6.0,6.0,4.0,2.0,2.0,4.0,1.0,2.0,8.0,1.0,3.0,2.0,6.0,3.0,4.0,2.0,3.0,3.0,3.0,2.0,1.0,1.0,6.0,2.0,4.0,4.0,3.0,2.0,1.0,1.0,3.0,4.0,2.0,1.0,2.0,5.0,4.0,4.0,2.0,2.0,1.0,1.0,1.0,3.0,1.0,2.0,3.0,3.0,6.0,5.0,1.0,0.0,1.0,2.0,4.0,1.0,3.0,1.0,0.0,4.0,2.0,1.0,4.0,4.0,7.0,1.0,2.0,6.0,2.0,2.0,4.0,6.0,5.0,1.0,1.0,1.0,1.0,2.0,3.0,1.0,2.0,8.0,2.0,2.0,3.0,2.0,3.0,1.0,1.0,5.0,2.0,2.0,2.0,1.0,1.0,5.0,1.0,1.0,1.0,5.0,1.0,2.0,2.0,4.0,1.0,2.0,2.0,3.0,2.0,2.0,7.0,2.0,6.0,7.0,3.0,1.0,5.0,9.0,4.0,3.0,7.0,1.0,2.0,8.0,7.0,2.0,3.0,3.0,3.0,4.0,1.0,2.0,3.0,5.0,7.0,3.0,5.0,3.0,3.0,4.0,3.0,5.0,2.0,7.0,1.0,3.0,3.0,3.0,2.0,3.0,2.0,4.0,4.0,3.0,2.0,2.0,3.0,8.0,3.0,8.0,1.0,2.0,1.0,2.0,5.0,1.0,2.0,4.0,2.0,2.0,2.0,3.0,7.0,2.0,2.0,3.0,1.0,3.0,2.0,2.0,3.0,4.0,1.0,3.0,1.0,3.0,3.0,1.0,1.0,2.0,8.0,2.0,4.0,4.0,3.0,3.0,2.0,2.0,3.0,9.0,2.0,6.0,3.0,1.0,3.0,4.0,2.0,10.0,6.0,4.0,3.0,2.0,2.0,11.0,4.0,8.0,3.0,1.0,2.0,3.0,6.0,7.0,1.0,1.0,5.0,2.0,4.0,2.0,1.0,2.0,7.0,0.0,11.0,2.0,4.0,2.0,5.0,1.0,3.0,3.0,1.0,3.0,2.0,3.0,1.0,3.0,1.0,2.0,2.0,3.0,2.0,4.0,6.0,4.0,4.0,1.0,4.0,1.0,5.0,2.0,2.0,2.0,2.0,0.0,6.0,4.0,2.0,6.0,2.0,6.0,3.0,0.0,1.0,1.0,2.0,3.0,5.0,3.0,6.0,2.0,3.0,1.0,1.0,3.0,3.0,5.0,2.0,1.0,3.0,1.0,1.0,1.0,6.0,3.0,2.0,2.0,2.0,1.0,1.0,2.0,1.0,1.0,2.0,4.0,3.0,3.0,1.0,4.0,4.0,7.0,4.0,2.0,1.0,2.0,0.0,4.0,2.0,2.0,10.0,2.0,11.0,3.0,3.0,4.0,7.0,1.0,1.0,2.0,10.0,3.0,1.0,1.0,1.0,2.0,2.0,2.0,4.0,3.0,1.0,3.0,8.0,5.0,5.0,2.0,6.0,5.0,4.0,5.0,2.0,4.0,3.0,3.0,1.0,2.0,7.0,7.0,1.0,1.0,1.0,10.0,2.0,2.0,1.0,4.0,2.0,2.0,1.0,2.0,6.0,3.0,4.0,14.0,4.0,5.0,4.0,1.0,4.0,6.0,1.0,1.0,2.0,2.0,9.0,4.0,1.0,4.0,2.0,0.0,1.0,5.0,4.0,4.0,4.0,1.0,2.0,12.0,4.0,8.0,2.0,6.0,3.0,2.0,2.0,5.0,2.0,1.0,4.0,2.0,7.0,1.0,2.0,3.0,3.0,1.0,3.0,4.0,1.0,1.0,4.0,0.0,2.0,4.0,9.0,1.0,1.0,2.0,2.0,3.0,3.0,5.0,1.0,1.0,11.0,3.0,8.0,4.0,3.0,4.0,3.0,8.0,4.0,4.0,1.0,2.0,3.0,3.0,8.0,3.0,5.0,6.0,1.0,4.0,3.0,6.0,3.0,2.0,3.0,0.0,3.0,3.0,1.0,3.0,1.0,4.0,1.0,2.0,3.0,5.0,2.0,2.0,3.0,4.0,3.0,3.0,2.0,3.0,2.0,1.0],\"yaxis\":\"y\",\"ybingroup\":\"y\",\"type\":\"histogram2d\"}],                        {\"template\":{\"data\":{\"bar\":[{\"error_x\":{\"color\":\"#2a3f5f\"},\"error_y\":{\"color\":\"#2a3f5f\"},\"marker\":{\"line\":{\"color\":\"#E5ECF6\",\"width\":0.5},\"pattern\":{\"fillmode\":\"overlay\",\"size\":10,\"solidity\":0.2}},\"type\":\"bar\"}],\"barpolar\":[{\"marker\":{\"line\":{\"color\":\"#E5ECF6\",\"width\":0.5},\"pattern\":{\"fillmode\":\"overlay\",\"size\":10,\"solidity\":0.2}},\"type\":\"barpolar\"}],\"carpet\":[{\"aaxis\":{\"endlinecolor\":\"#2a3f5f\",\"gridcolor\":\"white\",\"linecolor\":\"white\",\"minorgridcolor\":\"white\",\"startlinecolor\":\"#2a3f5f\"},\"baxis\":{\"endlinecolor\":\"#2a3f5f\",\"gridcolor\":\"white\",\"linecolor\":\"white\",\"minorgridcolor\":\"white\",\"startlinecolor\":\"#2a3f5f\"},\"type\":\"carpet\"}],\"choropleth\":[{\"colorbar\":{\"outlinewidth\":0,\"ticks\":\"\"},\"type\":\"choropleth\"}],\"contour\":[{\"colorbar\":{\"outlinewidth\":0,\"ticks\":\"\"},\"colorscale\":[[0.0,\"#0d0887\"],[0.1111111111111111,\"#46039f\"],[0.2222222222222222,\"#7201a8\"],[0.3333333333333333,\"#9c179e\"],[0.4444444444444444,\"#bd3786\"],[0.5555555555555556,\"#d8576b\"],[0.6666666666666666,\"#ed7953\"],[0.7777777777777778,\"#fb9f3a\"],[0.8888888888888888,\"#fdca26\"],[1.0,\"#f0f921\"]],\"type\":\"contour\"}],\"contourcarpet\":[{\"colorbar\":{\"outlinewidth\":0,\"ticks\":\"\"},\"type\":\"contourcarpet\"}],\"heatmap\":[{\"colorbar\":{\"outlinewidth\":0,\"ticks\":\"\"},\"colorscale\":[[0.0,\"#0d0887\"],[0.1111111111111111,\"#46039f\"],[0.2222222222222222,\"#7201a8\"],[0.3333333333333333,\"#9c179e\"],[0.4444444444444444,\"#bd3786\"],[0.5555555555555556,\"#d8576b\"],[0.6666666666666666,\"#ed7953\"],[0.7777777777777778,\"#fb9f3a\"],[0.8888888888888888,\"#fdca26\"],[1.0,\"#f0f921\"]],\"type\":\"heatmap\"}],\"heatmapgl\":[{\"colorbar\":{\"outlinewidth\":0,\"ticks\":\"\"},\"colorscale\":[[0.0,\"#0d0887\"],[0.1111111111111111,\"#46039f\"],[0.2222222222222222,\"#7201a8\"],[0.3333333333333333,\"#9c179e\"],[0.4444444444444444,\"#bd3786\"],[0.5555555555555556,\"#d8576b\"],[0.6666666666666666,\"#ed7953\"],[0.7777777777777778,\"#fb9f3a\"],[0.8888888888888888,\"#fdca26\"],[1.0,\"#f0f921\"]],\"type\":\"heatmapgl\"}],\"histogram\":[{\"marker\":{\"pattern\":{\"fillmode\":\"overlay\",\"size\":10,\"solidity\":0.2}},\"type\":\"histogram\"}],\"histogram2d\":[{\"colorbar\":{\"outlinewidth\":0,\"ticks\":\"\"},\"colorscale\":[[0.0,\"#0d0887\"],[0.1111111111111111,\"#46039f\"],[0.2222222222222222,\"#7201a8\"],[0.3333333333333333,\"#9c179e\"],[0.4444444444444444,\"#bd3786\"],[0.5555555555555556,\"#d8576b\"],[0.6666666666666666,\"#ed7953\"],[0.7777777777777778,\"#fb9f3a\"],[0.8888888888888888,\"#fdca26\"],[1.0,\"#f0f921\"]],\"type\":\"histogram2d\"}],\"histogram2dcontour\":[{\"colorbar\":{\"outlinewidth\":0,\"ticks\":\"\"},\"colorscale\":[[0.0,\"#0d0887\"],[0.1111111111111111,\"#46039f\"],[0.2222222222222222,\"#7201a8\"],[0.3333333333333333,\"#9c179e\"],[0.4444444444444444,\"#bd3786\"],[0.5555555555555556,\"#d8576b\"],[0.6666666666666666,\"#ed7953\"],[0.7777777777777778,\"#fb9f3a\"],[0.8888888888888888,\"#fdca26\"],[1.0,\"#f0f921\"]],\"type\":\"histogram2dcontour\"}],\"mesh3d\":[{\"colorbar\":{\"outlinewidth\":0,\"ticks\":\"\"},\"type\":\"mesh3d\"}],\"parcoords\":[{\"line\":{\"colorbar\":{\"outlinewidth\":0,\"ticks\":\"\"}},\"type\":\"parcoords\"}],\"pie\":[{\"automargin\":true,\"type\":\"pie\"}],\"scatter\":[{\"marker\":{\"colorbar\":{\"outlinewidth\":0,\"ticks\":\"\"}},\"type\":\"scatter\"}],\"scatter3d\":[{\"line\":{\"colorbar\":{\"outlinewidth\":0,\"ticks\":\"\"}},\"marker\":{\"colorbar\":{\"outlinewidth\":0,\"ticks\":\"\"}},\"type\":\"scatter3d\"}],\"scattercarpet\":[{\"marker\":{\"colorbar\":{\"outlinewidth\":0,\"ticks\":\"\"}},\"type\":\"scattercarpet\"}],\"scattergeo\":[{\"marker\":{\"colorbar\":{\"outlinewidth\":0,\"ticks\":\"\"}},\"type\":\"scattergeo\"}],\"scattergl\":[{\"marker\":{\"colorbar\":{\"outlinewidth\":0,\"ticks\":\"\"}},\"type\":\"scattergl\"}],\"scattermapbox\":[{\"marker\":{\"colorbar\":{\"outlinewidth\":0,\"ticks\":\"\"}},\"type\":\"scattermapbox\"}],\"scatterpolar\":[{\"marker\":{\"colorbar\":{\"outlinewidth\":0,\"ticks\":\"\"}},\"type\":\"scatterpolar\"}],\"scatterpolargl\":[{\"marker\":{\"colorbar\":{\"outlinewidth\":0,\"ticks\":\"\"}},\"type\":\"scatterpolargl\"}],\"scatterternary\":[{\"marker\":{\"colorbar\":{\"outlinewidth\":0,\"ticks\":\"\"}},\"type\":\"scatterternary\"}],\"surface\":[{\"colorbar\":{\"outlinewidth\":0,\"ticks\":\"\"},\"colorscale\":[[0.0,\"#0d0887\"],[0.1111111111111111,\"#46039f\"],[0.2222222222222222,\"#7201a8\"],[0.3333333333333333,\"#9c179e\"],[0.4444444444444444,\"#bd3786\"],[0.5555555555555556,\"#d8576b\"],[0.6666666666666666,\"#ed7953\"],[0.7777777777777778,\"#fb9f3a\"],[0.8888888888888888,\"#fdca26\"],[1.0,\"#f0f921\"]],\"type\":\"surface\"}],\"table\":[{\"cells\":{\"fill\":{\"color\":\"#EBF0F8\"},\"line\":{\"color\":\"white\"}},\"header\":{\"fill\":{\"color\":\"#C8D4E3\"},\"line\":{\"color\":\"white\"}},\"type\":\"table\"}]},\"layout\":{\"annotationdefaults\":{\"arrowcolor\":\"#2a3f5f\",\"arrowhead\":0,\"arrowwidth\":1},\"autotypenumbers\":\"strict\",\"coloraxis\":{\"colorbar\":{\"outlinewidth\":0,\"ticks\":\"\"}},\"colorscale\":{\"diverging\":[[0,\"#8e0152\"],[0.1,\"#c51b7d\"],[0.2,\"#de77ae\"],[0.3,\"#f1b6da\"],[0.4,\"#fde0ef\"],[0.5,\"#f7f7f7\"],[0.6,\"#e6f5d0\"],[0.7,\"#b8e186\"],[0.8,\"#7fbc41\"],[0.9,\"#4d9221\"],[1,\"#276419\"]],\"sequential\":[[0.0,\"#0d0887\"],[0.1111111111111111,\"#46039f\"],[0.2222222222222222,\"#7201a8\"],[0.3333333333333333,\"#9c179e\"],[0.4444444444444444,\"#bd3786\"],[0.5555555555555556,\"#d8576b\"],[0.6666666666666666,\"#ed7953\"],[0.7777777777777778,\"#fb9f3a\"],[0.8888888888888888,\"#fdca26\"],[1.0,\"#f0f921\"]],\"sequentialminus\":[[0.0,\"#0d0887\"],[0.1111111111111111,\"#46039f\"],[0.2222222222222222,\"#7201a8\"],[0.3333333333333333,\"#9c179e\"],[0.4444444444444444,\"#bd3786\"],[0.5555555555555556,\"#d8576b\"],[0.6666666666666666,\"#ed7953\"],[0.7777777777777778,\"#fb9f3a\"],[0.8888888888888888,\"#fdca26\"],[1.0,\"#f0f921\"]]},\"colorway\":[\"#636efa\",\"#EF553B\",\"#00cc96\",\"#ab63fa\",\"#FFA15A\",\"#19d3f3\",\"#FF6692\",\"#B6E880\",\"#FF97FF\",\"#FECB52\"],\"font\":{\"color\":\"#2a3f5f\"},\"geo\":{\"bgcolor\":\"white\",\"lakecolor\":\"white\",\"landcolor\":\"#E5ECF6\",\"showlakes\":true,\"showland\":true,\"subunitcolor\":\"white\"},\"hoverlabel\":{\"align\":\"left\"},\"hovermode\":\"closest\",\"mapbox\":{\"style\":\"light\"},\"paper_bgcolor\":\"white\",\"plot_bgcolor\":\"#E5ECF6\",\"polar\":{\"angularaxis\":{\"gridcolor\":\"white\",\"linecolor\":\"white\",\"ticks\":\"\"},\"bgcolor\":\"#E5ECF6\",\"radialaxis\":{\"gridcolor\":\"white\",\"linecolor\":\"white\",\"ticks\":\"\"}},\"scene\":{\"xaxis\":{\"backgroundcolor\":\"#E5ECF6\",\"gridcolor\":\"white\",\"gridwidth\":2,\"linecolor\":\"white\",\"showbackground\":true,\"ticks\":\"\",\"zerolinecolor\":\"white\"},\"yaxis\":{\"backgroundcolor\":\"#E5ECF6\",\"gridcolor\":\"white\",\"gridwidth\":2,\"linecolor\":\"white\",\"showbackground\":true,\"ticks\":\"\",\"zerolinecolor\":\"white\"},\"zaxis\":{\"backgroundcolor\":\"#E5ECF6\",\"gridcolor\":\"white\",\"gridwidth\":2,\"linecolor\":\"white\",\"showbackground\":true,\"ticks\":\"\",\"zerolinecolor\":\"white\"}},\"shapedefaults\":{\"line\":{\"color\":\"#2a3f5f\"}},\"ternary\":{\"aaxis\":{\"gridcolor\":\"white\",\"linecolor\":\"white\",\"ticks\":\"\"},\"baxis\":{\"gridcolor\":\"white\",\"linecolor\":\"white\",\"ticks\":\"\"},\"bgcolor\":\"#E5ECF6\",\"caxis\":{\"gridcolor\":\"white\",\"linecolor\":\"white\",\"ticks\":\"\"}},\"title\":{\"x\":0.05},\"xaxis\":{\"automargin\":true,\"gridcolor\":\"white\",\"linecolor\":\"white\",\"ticks\":\"\",\"title\":{\"standoff\":15},\"zerolinecolor\":\"white\",\"zerolinewidth\":2},\"yaxis\":{\"automargin\":true,\"gridcolor\":\"white\",\"linecolor\":\"white\",\"ticks\":\"\",\"title\":{\"standoff\":15},\"zerolinecolor\":\"white\",\"zerolinewidth\":2}}},\"xaxis\":{\"anchor\":\"y\",\"domain\":[0.0,1.0],\"title\":{\"text\":\"Target90Days\"}},\"yaxis\":{\"anchor\":\"x\",\"domain\":[0.0,1.0],\"title\":{\"text\":\"NumberOfTelephonesCI\"}},\"coloraxis\":{\"colorbar\":{\"title\":{\"text\":\"count\"}},\"colorscale\":[[0.0,\"#0d0887\"],[0.1111111111111111,\"#46039f\"],[0.2222222222222222,\"#7201a8\"],[0.3333333333333333,\"#9c179e\"],[0.4444444444444444,\"#bd3786\"],[0.5555555555555556,\"#d8576b\"],[0.6666666666666666,\"#ed7953\"],[0.7777777777777778,\"#fb9f3a\"],[0.8888888888888888,\"#fdca26\"],[1.0,\"#f0f921\"]]},\"legend\":{\"tracegroupgap\":0},\"margin\":{\"t\":60}},                        {\"responsive\": true}                    ).then(function(){\n",
              "                            \n",
              "var gd = document.getElementById('33fe2bb2-d787-4be1-9cc4-b1197ef051da');\n",
              "var x = new MutationObserver(function (mutations, observer) {{\n",
              "        var display = window.getComputedStyle(gd).display;\n",
              "        if (!display || display === 'none') {{\n",
              "            console.log([gd, 'removed!']);\n",
              "            Plotly.purge(gd);\n",
              "            observer.disconnect();\n",
              "        }}\n",
              "}});\n",
              "\n",
              "// Listen for the removal of the full notebook cells\n",
              "var notebookContainer = gd.closest('#notebook-container');\n",
              "if (notebookContainer) {{\n",
              "    x.observe(notebookContainer, {childList: true});\n",
              "}}\n",
              "\n",
              "// Listen for the clearing of the current output cell\n",
              "var outputEl = gd.closest('.output');\n",
              "if (outputEl) {{\n",
              "    x.observe(outputEl, {childList: true});\n",
              "}}\n",
              "\n",
              "                        })                };                            </script>        </div>\n",
              "</body>\n",
              "</html>"
            ]
          },
          "metadata": {}
        }
      ]
    },
    {
      "cell_type": "markdown",
      "source": [
        "## Feature  Engineering"
      ],
      "metadata": {
        "id": "dxkZvUEgEEZj"
      }
    },
    {
      "cell_type": "markdown",
      "source": [
        ">**Normalmente este es el paso más importante.**\n",
        ">\n",
        ">Pero me faltan conocimientos de negocio para el sector de la cobranza.."
      ],
      "metadata": {
        "id": "vUoC540fo3xp"
      }
    },
    {
      "cell_type": "markdown",
      "source": [
        "> * para simplificar el ejercicio, me permito borrar las columnas con +40% de Nan's\n",
        "> \n",
        "> * Esto afectará mi búsqueda de F1score con seguridad.\n",
        "> \n",
        "> No obstente, tengo problemas con el simplo `metadata` para interpretar estas columnas para la gestión de valores faltantes."
      ],
      "metadata": {
        "id": "E0O6ckcEpd3A"
      }
    },
    {
      "cell_type": "code",
      "source": [
        "#do not run\n",
        "\n",
        "to_drop = ['keydate', \n",
        "         'RatioOfCustomersAtAddressWithSuccessfullyClosedCasesLast36Months', \n",
        "         'NumberOfSuccessfullyClosedCasesInLast24Months']\n",
        "\n",
        "df.drop(to_drop, axis = 1, inplace = True)"
      ],
      "metadata": {
        "id": "OFrj1sTGEI6i"
      },
      "execution_count": null,
      "outputs": []
    },
    {
      "cell_type": "code",
      "source": [
        "to_drop = ['keydate', \n",
        "         'RatioOfCustomersAtAddressWithSuccessfullyClosedCasesLast36Months', \n",
        "         'NumberOfSuccessfullyClosedCasesInLast24Months', 'TargetAmount90Days']\n",
        "\n",
        "df.drop(to_drop, axis = 1, inplace = True)"
      ],
      "metadata": {
        "id": "UGtnbaPyZ6-M"
      },
      "execution_count": null,
      "outputs": []
    },
    {
      "cell_type": "code",
      "source": [
        "#df['TargetAmount90Days'] = df['TargetAmount90Days'] .astype(float)\n",
        "df['case_id'] = df['case_id'] .astype(float)\n",
        "df['Target90Days'] = df['Target90Days'] .astype(float)\n",
        "df['ClientName'] = df['ClientName'] .astype(float)\n",
        "df['NumberOfTelephonesCI'] = df['NumberOfTelephonesCI'] .astype(float)\n",
        "df['AgeOfDebt'] = df['AgeOfDebt'] .astype(float)\n",
        "df['NumberOfCustomerIncomingCallDatesTee'] = df['NumberOfCustomerIncomingCallDatesTee'] .astype(float)\n",
        "df['LastOriginalClosingCodeOfCustomer'] = df['LastOriginalClosingCodeOfCustomer'] .astype(float)"
      ],
      "metadata": {
        "id": "BGbsovlfFLv_"
      },
      "execution_count": null,
      "outputs": []
    },
    {
      "cell_type": "markdown",
      "source": [
        "# 1ra Iteración \n"
      ],
      "metadata": {
        "id": "7JjYQWKzzYvq"
      }
    },
    {
      "cell_type": "markdown",
      "source": [
        "## Clasificacion"
      ],
      "metadata": {
        "id": "VpvldykEq6ts"
      }
    },
    {
      "cell_type": "code",
      "source": [
        "df.info()"
      ],
      "metadata": {
        "id": "YSOvOT2GAhXt"
      },
      "execution_count": null,
      "outputs": []
    },
    {
      "cell_type": "code",
      "source": [
        "# Création des dataframes de cible et de données\n",
        "target = df[['Target90Days']]\n",
        "data=df.drop(['Target90Days'],axis=1)\n",
        "\n",
        "# Création des dataframes d'entraînement et de test \n",
        "X_train, X_test, y_train, y_test = train_test_split(data, target, test_size=0.2)\n",
        "\n",
        "# Standardisation des données\n",
        "scaler = StandardScaler()\n",
        "X_train = scaler.fit_transform(X_train)\n",
        "X_test = scaler.transform(X_test)\n",
        "y_test = y_test.to_numpy().ravel()\n",
        "y_train = y_train.to_numpy().ravel()\n",
        "\n",
        "print(X_train.shape)\n",
        "print(X_test.shape)\n",
        "print(y_train.shape)\n",
        "print(y_test.shape)"
      ],
      "metadata": {
        "colab": {
          "base_uri": "https://localhost:8080/"
        },
        "id": "HJxp7oWu4x61",
        "outputId": "493736ce-2a7b-4e96-dd29-4d96d53d7649"
      },
      "execution_count": null,
      "outputs": [
        {
          "output_type": "stream",
          "name": "stdout",
          "text": [
            "(23945, 14)\n",
            "(5987, 14)\n",
            "(23945,)\n",
            "(5987,)\n"
          ]
        }
      ]
    },
    {
      "cell_type": "code",
      "source": [
        "# Train\n",
        "df_y_train=pd.DataFrame(y_train, columns=['Target90Days'])\n",
        "print(\"% coincidencias por resultado en la muestra de entrenamiento\")\n",
        "display(df_y_train.Target90Days.value_counts(normalize=True).to_frame())\n",
        "\n",
        "# Test\n",
        "df_y_test=pd.DataFrame(y_test, columns=['Target90Days'])\n",
        "print(\"% de coincidencias por resultado en la muestra de test\")\n",
        "display(df_y_test.Target90Days.value_counts(normalize=True).to_frame())"
      ],
      "metadata": {
        "colab": {
          "base_uri": "https://localhost:8080/",
          "height": 243
        },
        "id": "tW-OOU5W5zS9",
        "outputId": "5806564d-76f7-4ba5-b320-06bb72c1d1f9"
      },
      "execution_count": null,
      "outputs": [
        {
          "output_type": "stream",
          "name": "stdout",
          "text": [
            "% coincidencias por resultado en la muestra de entrenamiento\n"
          ]
        },
        {
          "output_type": "display_data",
          "data": {
            "text/plain": [
              "     Target90Days\n",
              "0.0      0.829985\n",
              "1.0      0.170015"
            ],
            "text/html": [
              "\n",
              "  <div id=\"df-3f247909-39ce-4e18-bd47-f7f669912e56\">\n",
              "    <div class=\"colab-df-container\">\n",
              "      <div>\n",
              "<style scoped>\n",
              "    .dataframe tbody tr th:only-of-type {\n",
              "        vertical-align: middle;\n",
              "    }\n",
              "\n",
              "    .dataframe tbody tr th {\n",
              "        vertical-align: top;\n",
              "    }\n",
              "\n",
              "    .dataframe thead th {\n",
              "        text-align: right;\n",
              "    }\n",
              "</style>\n",
              "<table border=\"1\" class=\"dataframe\">\n",
              "  <thead>\n",
              "    <tr style=\"text-align: right;\">\n",
              "      <th></th>\n",
              "      <th>Target90Days</th>\n",
              "    </tr>\n",
              "  </thead>\n",
              "  <tbody>\n",
              "    <tr>\n",
              "      <th>0.0</th>\n",
              "      <td>0.829985</td>\n",
              "    </tr>\n",
              "    <tr>\n",
              "      <th>1.0</th>\n",
              "      <td>0.170015</td>\n",
              "    </tr>\n",
              "  </tbody>\n",
              "</table>\n",
              "</div>\n",
              "      <button class=\"colab-df-convert\" onclick=\"convertToInteractive('df-3f247909-39ce-4e18-bd47-f7f669912e56')\"\n",
              "              title=\"Convert this dataframe to an interactive table.\"\n",
              "              style=\"display:none;\">\n",
              "        \n",
              "  <svg xmlns=\"http://www.w3.org/2000/svg\" height=\"24px\"viewBox=\"0 0 24 24\"\n",
              "       width=\"24px\">\n",
              "    <path d=\"M0 0h24v24H0V0z\" fill=\"none\"/>\n",
              "    <path d=\"M18.56 5.44l.94 2.06.94-2.06 2.06-.94-2.06-.94-.94-2.06-.94 2.06-2.06.94zm-11 1L8.5 8.5l.94-2.06 2.06-.94-2.06-.94L8.5 2.5l-.94 2.06-2.06.94zm10 10l.94 2.06.94-2.06 2.06-.94-2.06-.94-.94-2.06-.94 2.06-2.06.94z\"/><path d=\"M17.41 7.96l-1.37-1.37c-.4-.4-.92-.59-1.43-.59-.52 0-1.04.2-1.43.59L10.3 9.45l-7.72 7.72c-.78.78-.78 2.05 0 2.83L4 21.41c.39.39.9.59 1.41.59.51 0 1.02-.2 1.41-.59l7.78-7.78 2.81-2.81c.8-.78.8-2.07 0-2.86zM5.41 20L4 18.59l7.72-7.72 1.47 1.35L5.41 20z\"/>\n",
              "  </svg>\n",
              "      </button>\n",
              "      \n",
              "  <style>\n",
              "    .colab-df-container {\n",
              "      display:flex;\n",
              "      flex-wrap:wrap;\n",
              "      gap: 12px;\n",
              "    }\n",
              "\n",
              "    .colab-df-convert {\n",
              "      background-color: #E8F0FE;\n",
              "      border: none;\n",
              "      border-radius: 50%;\n",
              "      cursor: pointer;\n",
              "      display: none;\n",
              "      fill: #1967D2;\n",
              "      height: 32px;\n",
              "      padding: 0 0 0 0;\n",
              "      width: 32px;\n",
              "    }\n",
              "\n",
              "    .colab-df-convert:hover {\n",
              "      background-color: #E2EBFA;\n",
              "      box-shadow: 0px 1px 2px rgba(60, 64, 67, 0.3), 0px 1px 3px 1px rgba(60, 64, 67, 0.15);\n",
              "      fill: #174EA6;\n",
              "    }\n",
              "\n",
              "    [theme=dark] .colab-df-convert {\n",
              "      background-color: #3B4455;\n",
              "      fill: #D2E3FC;\n",
              "    }\n",
              "\n",
              "    [theme=dark] .colab-df-convert:hover {\n",
              "      background-color: #434B5C;\n",
              "      box-shadow: 0px 1px 3px 1px rgba(0, 0, 0, 0.15);\n",
              "      filter: drop-shadow(0px 1px 2px rgba(0, 0, 0, 0.3));\n",
              "      fill: #FFFFFF;\n",
              "    }\n",
              "  </style>\n",
              "\n",
              "      <script>\n",
              "        const buttonEl =\n",
              "          document.querySelector('#df-3f247909-39ce-4e18-bd47-f7f669912e56 button.colab-df-convert');\n",
              "        buttonEl.style.display =\n",
              "          google.colab.kernel.accessAllowed ? 'block' : 'none';\n",
              "\n",
              "        async function convertToInteractive(key) {\n",
              "          const element = document.querySelector('#df-3f247909-39ce-4e18-bd47-f7f669912e56');\n",
              "          const dataTable =\n",
              "            await google.colab.kernel.invokeFunction('convertToInteractive',\n",
              "                                                     [key], {});\n",
              "          if (!dataTable) return;\n",
              "\n",
              "          const docLinkHtml = 'Like what you see? Visit the ' +\n",
              "            '<a target=\"_blank\" href=https://colab.research.google.com/notebooks/data_table.ipynb>data table notebook</a>'\n",
              "            + ' to learn more about interactive tables.';\n",
              "          element.innerHTML = '';\n",
              "          dataTable['output_type'] = 'display_data';\n",
              "          await google.colab.output.renderOutput(dataTable, element);\n",
              "          const docLink = document.createElement('div');\n",
              "          docLink.innerHTML = docLinkHtml;\n",
              "          element.appendChild(docLink);\n",
              "        }\n",
              "      </script>\n",
              "    </div>\n",
              "  </div>\n",
              "  "
            ]
          },
          "metadata": {}
        },
        {
          "output_type": "stream",
          "name": "stdout",
          "text": [
            "% de coincidencias por resultado en la muestra de test\n"
          ]
        },
        {
          "output_type": "display_data",
          "data": {
            "text/plain": [
              "     Target90Days\n",
              "0.0       0.83531\n",
              "1.0       0.16469"
            ],
            "text/html": [
              "\n",
              "  <div id=\"df-be2047b5-d055-4242-b073-763ae2fa6069\">\n",
              "    <div class=\"colab-df-container\">\n",
              "      <div>\n",
              "<style scoped>\n",
              "    .dataframe tbody tr th:only-of-type {\n",
              "        vertical-align: middle;\n",
              "    }\n",
              "\n",
              "    .dataframe tbody tr th {\n",
              "        vertical-align: top;\n",
              "    }\n",
              "\n",
              "    .dataframe thead th {\n",
              "        text-align: right;\n",
              "    }\n",
              "</style>\n",
              "<table border=\"1\" class=\"dataframe\">\n",
              "  <thead>\n",
              "    <tr style=\"text-align: right;\">\n",
              "      <th></th>\n",
              "      <th>Target90Days</th>\n",
              "    </tr>\n",
              "  </thead>\n",
              "  <tbody>\n",
              "    <tr>\n",
              "      <th>0.0</th>\n",
              "      <td>0.83531</td>\n",
              "    </tr>\n",
              "    <tr>\n",
              "      <th>1.0</th>\n",
              "      <td>0.16469</td>\n",
              "    </tr>\n",
              "  </tbody>\n",
              "</table>\n",
              "</div>\n",
              "      <button class=\"colab-df-convert\" onclick=\"convertToInteractive('df-be2047b5-d055-4242-b073-763ae2fa6069')\"\n",
              "              title=\"Convert this dataframe to an interactive table.\"\n",
              "              style=\"display:none;\">\n",
              "        \n",
              "  <svg xmlns=\"http://www.w3.org/2000/svg\" height=\"24px\"viewBox=\"0 0 24 24\"\n",
              "       width=\"24px\">\n",
              "    <path d=\"M0 0h24v24H0V0z\" fill=\"none\"/>\n",
              "    <path d=\"M18.56 5.44l.94 2.06.94-2.06 2.06-.94-2.06-.94-.94-2.06-.94 2.06-2.06.94zm-11 1L8.5 8.5l.94-2.06 2.06-.94-2.06-.94L8.5 2.5l-.94 2.06-2.06.94zm10 10l.94 2.06.94-2.06 2.06-.94-2.06-.94-.94-2.06-.94 2.06-2.06.94z\"/><path d=\"M17.41 7.96l-1.37-1.37c-.4-.4-.92-.59-1.43-.59-.52 0-1.04.2-1.43.59L10.3 9.45l-7.72 7.72c-.78.78-.78 2.05 0 2.83L4 21.41c.39.39.9.59 1.41.59.51 0 1.02-.2 1.41-.59l7.78-7.78 2.81-2.81c.8-.78.8-2.07 0-2.86zM5.41 20L4 18.59l7.72-7.72 1.47 1.35L5.41 20z\"/>\n",
              "  </svg>\n",
              "      </button>\n",
              "      \n",
              "  <style>\n",
              "    .colab-df-container {\n",
              "      display:flex;\n",
              "      flex-wrap:wrap;\n",
              "      gap: 12px;\n",
              "    }\n",
              "\n",
              "    .colab-df-convert {\n",
              "      background-color: #E8F0FE;\n",
              "      border: none;\n",
              "      border-radius: 50%;\n",
              "      cursor: pointer;\n",
              "      display: none;\n",
              "      fill: #1967D2;\n",
              "      height: 32px;\n",
              "      padding: 0 0 0 0;\n",
              "      width: 32px;\n",
              "    }\n",
              "\n",
              "    .colab-df-convert:hover {\n",
              "      background-color: #E2EBFA;\n",
              "      box-shadow: 0px 1px 2px rgba(60, 64, 67, 0.3), 0px 1px 3px 1px rgba(60, 64, 67, 0.15);\n",
              "      fill: #174EA6;\n",
              "    }\n",
              "\n",
              "    [theme=dark] .colab-df-convert {\n",
              "      background-color: #3B4455;\n",
              "      fill: #D2E3FC;\n",
              "    }\n",
              "\n",
              "    [theme=dark] .colab-df-convert:hover {\n",
              "      background-color: #434B5C;\n",
              "      box-shadow: 0px 1px 3px 1px rgba(0, 0, 0, 0.15);\n",
              "      filter: drop-shadow(0px 1px 2px rgba(0, 0, 0, 0.3));\n",
              "      fill: #FFFFFF;\n",
              "    }\n",
              "  </style>\n",
              "\n",
              "      <script>\n",
              "        const buttonEl =\n",
              "          document.querySelector('#df-be2047b5-d055-4242-b073-763ae2fa6069 button.colab-df-convert');\n",
              "        buttonEl.style.display =\n",
              "          google.colab.kernel.accessAllowed ? 'block' : 'none';\n",
              "\n",
              "        async function convertToInteractive(key) {\n",
              "          const element = document.querySelector('#df-be2047b5-d055-4242-b073-763ae2fa6069');\n",
              "          const dataTable =\n",
              "            await google.colab.kernel.invokeFunction('convertToInteractive',\n",
              "                                                     [key], {});\n",
              "          if (!dataTable) return;\n",
              "\n",
              "          const docLinkHtml = 'Like what you see? Visit the ' +\n",
              "            '<a target=\"_blank\" href=https://colab.research.google.com/notebooks/data_table.ipynb>data table notebook</a>'\n",
              "            + ' to learn more about interactive tables.';\n",
              "          element.innerHTML = '';\n",
              "          dataTable['output_type'] = 'display_data';\n",
              "          await google.colab.output.renderOutput(dataTable, element);\n",
              "          const docLink = document.createElement('div');\n",
              "          docLink.innerHTML = docLinkHtml;\n",
              "          element.appendChild(docLink);\n",
              "        }\n",
              "      </script>\n",
              "    </div>\n",
              "  </div>\n",
              "  "
            ]
          },
          "metadata": {}
        }
      ]
    },
    {
      "cell_type": "markdown",
      "source": [
        "### SVM"
      ],
      "metadata": {
        "id": "WQzsEzuCNXZT"
      }
    },
    {
      "cell_type": "code",
      "source": [
        "# Modèle SVM avec les paramètres par défaut\n",
        "svm = svm.SVC()\n",
        "svm.fit(X_train, y_train)\n",
        "\n",
        "# Matrice de confusion et scores\n",
        "y_pred_svm = svm.predict(X_test)\n",
        "confusion_matrix = pd.crosstab(y_test, y_pred_svm, rownames = ['Classe réelle'], colnames = ['Classe prédite par SVM'])\n",
        "sns.heatmap(confusion_matrix, annot = True)\n",
        "print('Accuracy SVM: ',metrics.accuracy_score(y_test, y_pred_svm));"
      ],
      "metadata": {
        "colab": {
          "base_uri": "https://localhost:8080/",
          "height": 301
        },
        "id": "I8HZ-3_fHneb",
        "outputId": "2aab94df-2ca5-480a-a303-e69f52991073"
      },
      "execution_count": null,
      "outputs": [
        {
          "output_type": "stream",
          "name": "stdout",
          "text": [
            "Accuracy SVM:  0.8356438951060632\n"
          ]
        },
        {
          "output_type": "display_data",
          "data": {
            "text/plain": [
              "<Figure size 432x288 with 2 Axes>"
            ],
            "image/png": "[encoded data removed]"
          },
          "metadata": {
            "needs_background": "light"
          }
        }
      ]
    },
    {
      "cell_type": "code",
      "source": [
        "# Rapport de classification\n",
        "print(classification_report_imbalanced(y_test, y_pred_svm))"
      ],
      "metadata": {
        "colab": {
          "base_uri": "https://localhost:8080/"
        },
        "id": "8f0gwqnHIPUW",
        "outputId": "01940dcd-42e6-4782-bdfa-cd688e3554ac"
      },
      "execution_count": null,
      "outputs": [
        {
          "output_type": "stream",
          "name": "stdout",
          "text": [
            "                   pre       rec       spe        f1       geo       iba       sup\n",
            "\n",
            "        0.0       0.84      1.00      0.00      0.91      0.05      0.00      5001\n",
            "        1.0       1.00      0.00      1.00      0.00      0.05      0.00       986\n",
            "\n",
            "avg / total       0.86      0.84      0.17      0.76      0.05      0.00      5987\n",
            "\n"
          ]
        }
      ]
    },
    {
      "cell_type": "markdown",
      "source": [
        "### Random Forest"
      ],
      "metadata": {
        "id": "xWUC_cpn69mS"
      }
    },
    {
      "cell_type": "code",
      "source": [
        "# Modèle Random Forest avec les paramètres par défaut\n",
        "rf = RandomForestClassifier()\n",
        "rf.fit(X_train, y_train)\n",
        "\n",
        "# Matrice de confusion et scores\n",
        "y_pred_rf = rf.predict(X_test)\n",
        "confusion_matrix = pd.crosstab(y_test, y_pred_rf, rownames = ['Classe réelle'], colnames = ['Classe prédite par Random Forest'])\n",
        "sns.heatmap(confusion_matrix, annot = True)\n",
        "print('Accuracy RandomForest: ',metrics.accuracy_score(y_test, y_pred_rf));"
      ],
      "metadata": {
        "colab": {
          "base_uri": "https://localhost:8080/",
          "height": 297
        },
        "id": "93Tu1Z5Y69Et",
        "outputId": "cb0c82a5-51cd-4abc-f11a-555dc18fbaaf"
      },
      "execution_count": null,
      "outputs": [
        {
          "output_type": "stream",
          "name": "stdout",
          "text": [
            "Accuracy RandomForest:  0.8328044095540338\n"
          ]
        },
        {
          "output_type": "display_data",
          "data": {
            "text/plain": [
              "<Figure size 432x288 with 2 Axes>"
            ],
            "image/png": "[encoded data removed]"
          },
          "metadata": {
            "needs_background": "light"
          }
        }
      ]
    },
    {
      "cell_type": "code",
      "source": [
        "# Rapport de classification\n",
        "print(classification_report_imbalanced(y_test, y_pred_rf))"
      ],
      "metadata": {
        "colab": {
          "base_uri": "https://localhost:8080/"
        },
        "id": "dje7ZpQzILSI",
        "outputId": "09d21d08-ae9d-4753-8c39-15f836a3e9d0"
      },
      "execution_count": null,
      "outputs": [
        {
          "output_type": "stream",
          "name": "stdout",
          "text": [
            "                   pre       rec       spe        f1       geo       iba       sup\n",
            "\n",
            "        0.0       0.84      0.98      0.07      0.91      0.26      0.07      5001\n",
            "        1.0       0.45      0.07      0.98      0.12      0.26      0.06       986\n",
            "\n",
            "avg / total       0.78      0.83      0.22      0.78      0.26      0.07      5987\n",
            "\n"
          ]
        }
      ]
    },
    {
      "cell_type": "markdown",
      "source": [
        "### KNN"
      ],
      "metadata": {
        "id": "MUdEmfXDC3cq"
      }
    },
    {
      "cell_type": "code",
      "source": [
        "# Modèle KNN avec les paramètres par défaut\n",
        "knn = KNeighborsClassifier()\n",
        "knn.fit(X_train, y_train)\n",
        "\n",
        "# Matrice de confusion et scores\n",
        "y_pred_knn = knn.predict(X_test)\n",
        "confusion_matrix = pd.crosstab(y_test, y_pred_knn, rownames = ['Classe réelle'], colnames = ['Classe prédite par KNN'])\n",
        "sns.heatmap(confusion_matrix, annot = True)\n",
        "print('Accuracy KNN: ',metrics.accuracy_score(y_test, y_pred_knn));"
      ],
      "metadata": {
        "colab": {
          "base_uri": "https://localhost:8080/",
          "height": 297
        },
        "id": "bw-JBfc4C5jq",
        "outputId": "10f8c598-81d2-42dd-98c6-c8b40b8149f2"
      },
      "execution_count": null,
      "outputs": [
        {
          "output_type": "stream",
          "name": "stdout",
          "text": [
            "Accuracy KNN:  0.8124269250041757\n"
          ]
        },
        {
          "output_type": "display_data",
          "data": {
            "text/plain": [
              "<Figure size 432x288 with 2 Axes>"
            ],
            "image/png": "[encoded data removed]"
          },
          "metadata": {
            "needs_background": "light"
          }
        }
      ]
    },
    {
      "cell_type": "code",
      "source": [
        "# Rapport de classification\n",
        "print(classification_report_imbalanced(y_test, y_pred_knn))"
      ],
      "metadata": {
        "colab": {
          "base_uri": "https://localhost:8080/"
        },
        "id": "GLy3ypPcIT0t",
        "outputId": "def8e96c-92b4-44f8-eda1-41023a0e3fb1"
      },
      "execution_count": null,
      "outputs": [
        {
          "output_type": "stream",
          "name": "stdout",
          "text": [
            "                   pre       rec       spe        f1       geo       iba       sup\n",
            "\n",
            "        0.0       0.85      0.94      0.14      0.89      0.37      0.15      5001\n",
            "        1.0       0.34      0.14      0.94      0.20      0.37      0.13       986\n",
            "\n",
            "avg / total       0.76      0.81      0.28      0.78      0.37      0.14      5987\n",
            "\n"
          ]
        }
      ]
    },
    {
      "cell_type": "markdown",
      "source": [
        "### Bagging"
      ],
      "metadata": {
        "id": "RDw9JS_iIX2P"
      }
    },
    {
      "cell_type": "code",
      "source": [
        "bc = BaggingClassifier(n_estimators = 1000, oob_score = True)\n",
        "bc.fit(X_train, y_train)\n",
        "\n",
        "# Erreur Out Of Bag\n",
        "bc.oob_score_"
      ],
      "metadata": {
        "colab": {
          "base_uri": "https://localhost:8080/"
        },
        "id": "BNmGaobHIasA",
        "outputId": "37f15cca-f7b0-46c5-c5ed-3bf2786b2d6a"
      },
      "execution_count": null,
      "outputs": [
        {
          "output_type": "execute_result",
          "data": {
            "text/plain": [
              "0.8254332846105659"
            ]
          },
          "metadata": {},
          "execution_count": 26
        }
      ]
    },
    {
      "cell_type": "code",
      "source": [
        "# Score\n",
        "print('Accuracy Bagging',bc.score(X_test, y_test))"
      ],
      "metadata": {
        "colab": {
          "base_uri": "https://localhost:8080/"
        },
        "id": "Kz4BUgdnIiHp",
        "outputId": "e0eb9320-b84b-4c5b-f130-1320a094ec4c"
      },
      "execution_count": null,
      "outputs": [
        {
          "output_type": "stream",
          "name": "stdout",
          "text": [
            "Accuracy Bagging 0.8297978954401203\n"
          ]
        }
      ]
    },
    {
      "cell_type": "markdown",
      "source": [
        "### XGBoost"
      ],
      "metadata": {
        "id": "8ACIl3XaInsQ"
      }
    },
    {
      "cell_type": "code",
      "source": [
        "boost = XGBClassifier()\n",
        "boost.fit(X_train, y_train)\n",
        "\n",
        "# Matrice de confusion et scores\n",
        "y_pred_boost = boost.predict(X_test)\n",
        "confusion_matrix = pd.crosstab(y_test,y_pred_boost, rownames = ['Classe réelle'], colnames = ['Classe prédite par XGB'])\n",
        "sns.heatmap(confusion_matrix, annot = True)\n",
        "print('Accuracy XGBoost: ',metrics.accuracy_score(y_test, y_pred_boost));"
      ],
      "metadata": {
        "colab": {
          "base_uri": "https://localhost:8080/",
          "height": 297
        },
        "id": "okzMCyBdIt11",
        "outputId": "cd7b6b2a-090b-42ea-ed2d-6ff7b67cf063"
      },
      "execution_count": null,
      "outputs": [
        {
          "output_type": "stream",
          "name": "stdout",
          "text": [
            "Accuracy XGBoost:  0.835309837982295\n"
          ]
        },
        {
          "output_type": "display_data",
          "data": {
            "text/plain": [
              "<Figure size 432x288 with 2 Axes>"
            ],
            "image/png": "[encoded data removed]"
          },
          "metadata": {
            "needs_background": "light"
          }
        }
      ]
    },
    {
      "cell_type": "markdown",
      "source": [
        "### Reduction de dimension - PCA"
      ],
      "metadata": {
        "id": "OsDz_8y7I8S9"
      }
    },
    {
      "cell_type": "code",
      "source": [
        "clf=KNeighborsClassifier(algorithm='auto', metric='manhattan', n_neighbors= 55, weights= 'distance')\n",
        "\n",
        "pca = PCA(n_components = 0.9)\n",
        "X_train_pca = pca.fit_transform(X_train)\n",
        "X_test_pca = pca.transform(X_test)\n",
        "clf.fit(X_train_pca, y_train)\n",
        "print('Accuracy With PCA', clf.score(X_test_pca, y_test))"
      ],
      "metadata": {
        "colab": {
          "base_uri": "https://localhost:8080/"
        },
        "id": "s28AB7WoI7Op",
        "outputId": "c3d53a23-ee4e-464b-ac37-407e3b8facc8"
      },
      "execution_count": null,
      "outputs": [
        {
          "output_type": "stream",
          "name": "stdout",
          "text": [
            "Accuracy With PCA 0.8344746951728745\n"
          ]
        }
      ]
    },
    {
      "cell_type": "code",
      "source": [
        "print(pca.n_components_)"
      ],
      "metadata": {
        "colab": {
          "base_uri": "https://localhost:8080/"
        },
        "id": "6PTl7fIoJECw",
        "outputId": "af865aee-9572-4357-e66c-22688346ec4b"
      },
      "execution_count": null,
      "outputs": [
        {
          "output_type": "stream",
          "name": "stdout",
          "text": [
            "11\n"
          ]
        }
      ]
    },
    {
      "cell_type": "markdown",
      "source": [
        "### Undersampling"
      ],
      "metadata": {
        "id": "gb37zjCVXxrv"
      }
    },
    {
      "cell_type": "code",
      "source": [
        "#Random Undersampling\n",
        "rUs = RandomUnderSampler()\n",
        "X_ru, y_ru = rUs.fit_resample(X_train, y_train)\n",
        "#print('Classes échantillon undersampled :', dict(pd.Series(y_ru).value_counts()))\n",
        "\n",
        "#Centroids\n",
        "cc = ClusterCentroids()\n",
        "X_cc, y_cc = cc.fit_resample(X_train, y_train)\n",
        "#print('Classes échantillon CC :', dict(pd.Series(y_cc).value_counts()))"
      ],
      "metadata": {
        "id": "TOOyVJytXzfi"
      },
      "execution_count": null,
      "outputs": []
    },
    {
      "cell_type": "code",
      "source": [
        "svm = SVC(gamma='scale')\n",
        "svm.fit(X_ru, y_ru)\n",
        "\n",
        "y_pred = svm.predict(X_test)\n",
        "print(pd.crosstab(y_test, y_pred))\n",
        "print(classification_report_imbalanced(y_test, y_pred))"
      ],
      "metadata": {
        "colab": {
          "base_uri": "https://localhost:8080/"
        },
        "id": "19EZ_ibmX9Yt",
        "outputId": "779312cf-1b37-43ae-a6af-0099e6a84b3d"
      },
      "execution_count": null,
      "outputs": [
        {
          "output_type": "stream",
          "name": "stdout",
          "text": [
            "col_0   0.0   1.0\n",
            "row_0            \n",
            "0.0    3007  1994\n",
            "1.0     330   656\n",
            "                   pre       rec       spe        f1       geo       iba       sup\n",
            "\n",
            "        0.0       0.90      0.60      0.67      0.72      0.63      0.40      5001\n",
            "        1.0       0.25      0.67      0.60      0.36      0.63      0.40       986\n",
            "\n",
            "avg / total       0.79      0.61      0.65      0.66      0.63      0.40      5987\n",
            "\n"
          ]
        }
      ]
    },
    {
      "cell_type": "code",
      "source": [
        "svm = SVC(gamma='scale')\n",
        "svm.fit(X_cc, y_cc)\n",
        "\n",
        "y_pred = svm.predict(X_test)\n",
        "print(pd.crosstab(y_test, y_pred))\n",
        "print(classification_report_imbalanced(y_test, y_pred))"
      ],
      "metadata": {
        "colab": {
          "base_uri": "https://localhost:8080/"
        },
        "id": "IqtjY6lDX95b",
        "outputId": "cbe92bfc-8bde-44ae-b8d0-9f4ac40e25a6"
      },
      "execution_count": null,
      "outputs": [
        {
          "output_type": "stream",
          "name": "stdout",
          "text": [
            "col_0   0.0   1.0\n",
            "row_0            \n",
            "0.0    1937  3064\n",
            "1.0     255   731\n",
            "                   pre       rec       spe        f1       geo       iba       sup\n",
            "\n",
            "        0.0       0.88      0.39      0.74      0.54      0.54      0.28      5001\n",
            "        1.0       0.19      0.74      0.39      0.31      0.54      0.30       986\n",
            "\n",
            "avg / total       0.77      0.45      0.68      0.50      0.54      0.28      5987\n",
            "\n"
          ]
        }
      ]
    },
    {
      "cell_type": "markdown",
      "source": [
        "### BalancedRandomForestClassifier"
      ],
      "metadata": {
        "id": "3H-90vT7YJ17"
      }
    },
    {
      "cell_type": "code",
      "source": [
        "bclf = BalancedRandomForestClassifier()\n",
        "bclf.fit(X_train, y_train) \n",
        "y_pred = bclf.predict(X_test)\n",
        "pd.crosstab(y_test, y_pred)\n",
        "\n",
        "print('Accuracy With BalancedRandomForestClassifier', bclf.score(X_test, y_test))"
      ],
      "metadata": {
        "colab": {
          "base_uri": "https://localhost:8080/"
        },
        "id": "b5QBcoQWXkrb",
        "outputId": "40945d6b-6146-4f2b-acd2-6c52465d803f"
      },
      "execution_count": null,
      "outputs": [
        {
          "output_type": "stream",
          "name": "stdout",
          "text": [
            "Accuracy With BalancedRandomForestClassifier 0.6697845331551695\n"
          ]
        }
      ]
    },
    {
      "cell_type": "markdown",
      "source": [
        "### Recap"
      ],
      "metadata": {
        "id": "i8qorN6VYwRT"
      }
    },
    {
      "cell_type": "code",
      "source": [
        "print('Accuracy SVM: ',metrics.accuracy_score(y_test, y_pred_svm));\n",
        "print('Accuracy RandomForest: ',metrics.accuracy_score(y_test, y_pred_rf));\n",
        "print('Accuracy KNN: ',metrics.accuracy_score(y_test, y_pred_knn));\n",
        "print('Accuracy Bagging',bc.score(X_test, y_test))\n",
        "print('Accuracy XGBoost: ',metrics.accuracy_score(y_test, y_pred_boost));\n",
        "print('Accuracy With PCA', clf.score(X_test_pca, y_test))\n",
        "print('Accuracy With BalancedRandomForestClassifier', bclf.score(X_test, y_test))\n"
      ],
      "metadata": {
        "colab": {
          "base_uri": "https://localhost:8080/"
        },
        "id": "6LKQEGgLQEJD",
        "outputId": "890ad461-0f98-4bb2-b733-e6f461b2e0be"
      },
      "execution_count": null,
      "outputs": [
        {
          "output_type": "stream",
          "name": "stdout",
          "text": [
            "Accuracy SVM:  0.8356438951060632\n",
            "Accuracy RandomForest:  0.8328044095540338\n",
            "Accuracy KNN:  0.8124269250041757\n",
            "Accuracy Bagging 0.8297978954401203\n",
            "Accuracy XGBoost:  0.835309837982295\n",
            "Accuracy With PCA 0.8344746951728745\n",
            "Accuracy With BalancedRandomForestClassifier 0.6697845331551695\n"
          ]
        }
      ]
    },
    {
      "cell_type": "markdown",
      "source": [
        "# Modelado Final\n"
      ],
      "metadata": {
        "id": "HPmJWPkWSbT4"
      }
    },
    {
      "cell_type": "markdown",
      "source": [
        "> Dadas las altas puntuaciones.\n",
        "> \n",
        "> Debido a mi falta de conocimiento comercial en esta etapa, pero también a mis atajos en feature engineering ;\n",
        ">> \n",
        ">> Tomare la accuracy mas baja para las interpretaciones finales...\n"
      ],
      "metadata": {
        "id": "hFjXIQsMxceK"
      }
    },
    {
      "cell_type": "markdown",
      "source": [
        "### Modelo con peor desempeno"
      ],
      "metadata": {
        "id": "tqZxDGXrTTGn"
      }
    },
    {
      "cell_type": "markdown",
      "source": [
        "* DO NOT RUN! demasiado recurso de TPU"
      ],
      "metadata": {
        "id": "l0rlBmQy3IV5"
      }
    },
    {
      "cell_type": "code",
      "source": [
        "#@title\n",
        "# Modèle SVM\n",
        "svm = svm.SVC()\n",
        "parametres_svm = {'C':[0.1,1,2,5], \n",
        "                  'kernel':['rbf','linear', 'poly'], \n",
        "                  'gamma':[0.001, 0.1,0.2, 0.5]}\n",
        "\n",
        "grid_svm = GridSearchCV(estimator = svm, param_grid = parametres_svm)\n",
        "\n",
        "# Modèle KNN\n",
        "knn = KNeighborsClassifier()\n",
        "parametres_knn = {'n_neighbors' : [k for k in range(10,60,5)],\n",
        "                  'weights' : ['uniform', 'distance'],\n",
        "                 'algorithm' : ['auto', 'ball_tree', 'kd_tree', 'brute'],\n",
        "                 'metric' : ['minkowski', 'manhattan', 'chebyshev', 'euclidean']}\n",
        "\n",
        "grid_knn = GridSearchCV(estimator = knn, param_grid = parametres_knn)\n",
        "\n",
        "# Modèle RF\n",
        "rf = RandomForestClassifier()\n",
        "parametres_rf = {'max_features': [\"sqrt\", \"log2\"], \n",
        "                 'min_samples_split': range(20, 50, 2)}\n",
        "\n",
        "grid_rf = GridSearchCV(estimator=rf, param_grid = parametres_rf, cv=4)\n",
        "\n",
        "# Validation croisée\n",
        "cv = KFold(n_splits=3, random_state=22 , shuffle = True)\n",
        "\n",
        "for clf, label in zip([grid_svm, grid_knn, grid_rf], ['SVM','KNN', 'Random Forest']):\n",
        "    scores = cross_validate(clf, X_train, y_train, cv=cv, scoring=['accuracy','f1_micro', 'f1_macro', 'f1_weighted'])\n",
        "    clf.fit(X_train, y_train)\n",
        "    print('Meilleurs paramètres :', clf.best_params_)\n",
        "\n",
        "    print(\"[%s]: \\n Accuracy: %0.2f (+/- %0.2f)\" % (label, scores['test_accuracy'].mean(), scores['test_accuracy'].std()),\n",
        "          \"F1 micro score: %0.2f (+/- %0.2f)\" % (scores['test_f1_micro'].mean(), scores['test_f1_micro'].std()),\n",
        "          \"F1 macro score: %0.2f (+/- %0.2f)\" % (scores['test_f1_macro'].mean(), scores['test_f1_macro'].std()),\n",
        "          \"F1 weighted score: %0.2f (+/- %0.2f)\" % (scores['test_f1_weighted'].mean(), scores['test_f1_weighted'].std()),)"
      ],
      "metadata": {
        "id": "1JttNceBJcHj"
      },
      "execution_count": null,
      "outputs": []
    },
    {
      "cell_type": "code",
      "source": [
        "#@title\n",
        "# Matrice de confusion et score pour SVM\n",
        "y_pred_svm = grid_svm.predict(X_test)\n",
        "confusion_matrix=pd.crosstab(y_test, y_pred_svm, rownames = ['Classe réelle'], colnames = ['Classe prédite par SVM'])\n",
        "sns.heatmap(confusion_matrix, annot=True)\n",
        "print('Accuracy: ',metrics.accuracy_score(y_test, y_pred_svm));\n",
        "\n",
        "# Rapport de classification\n",
        "print(classification_report_imbalanced(y_test, y_pred_svm)) "
      ],
      "metadata": {
        "cellView": "form",
        "id": "LMnjGLX-nvnI"
      },
      "execution_count": null,
      "outputs": []
    },
    {
      "cell_type": "code",
      "source": [
        "#@title\n",
        "# Matrice de confusion et score pour KNN\n",
        "y_pred_knn = grid_knn.predict(X_test)\n",
        "confusion_matrix=pd.crosstab(y_test, y_pred_knn, rownames = ['Classe réelle'], colnames = ['Classe prédite par KNN'])\n",
        "sns.heatmap(confusion_matrix, annot=True)\n",
        "print('Accuracy: ',metrics.accuracy_score(y_test, y_pred_knn));\n",
        "\n",
        "# Rapport de classification\n",
        "print(classification_report_imbalanced(y_test, y_pred_knn)) "
      ],
      "metadata": {
        "cellView": "form",
        "id": "RJPIJR9_nyBu"
      },
      "execution_count": null,
      "outputs": []
    },
    {
      "cell_type": "code",
      "source": [
        "#@title\n",
        "# Matrice de confusion et score pour RF\n",
        "y_pred_rf = grid_rf.predict(X_test)\n",
        "confusion_matrix=pd.crosstab(y_test, y_pred_rf, rownames = ['Classe réelle'], colnames = ['Classe prédite par RF'])\n",
        "sns.heatmap(confusion_matrix, annot=True)\n",
        "print('Accuracy: ',metrics.accuracy_score(y_test, y_pred_rf));\n",
        "\n",
        "# Rapport de classification\n",
        "print(classification_report_imbalanced(y_test, y_pred_rf)) "
      ],
      "metadata": {
        "cellView": "form",
        "id": "34BTqyL8n1NW"
      },
      "execution_count": null,
      "outputs": []
    },
    {
      "cell_type": "markdown",
      "source": [
        "### Voting Classifier"
      ],
      "metadata": {
        "id": "ih22ouoTSxt9"
      }
    },
    {
      "cell_type": "markdown",
      "source": [
        "* Recreamos los tres primeros modelos anteriores, \n",
        "con los peores parametros"
      ],
      "metadata": {
        "id": "glgUdO50yvCc"
      }
    },
    {
      "cell_type": "code",
      "source": [
        "from sklearn import svm\n",
        "\n",
        "# On recrée les trois modèles précédents\n",
        "svm  = svm.SVC(C = 1, gamma = 0.1, kernel ='rbf')\n",
        "rf = RandomForestClassifier(max_features ='sqrt', min_samples_split = 46)\n",
        "knn = KNeighborsClassifier(algorithm ='auto', metric ='minkowski', n_neighbors = 55, weights= 'uniform')\n",
        "\n",
        "\n",
        "vclf = VotingClassifier(estimators=[('knn', knn), ('rf', rf), ('svm', svm)], voting='hard')\n",
        "cv2 = KFold(n_splits=3, random_state=111 , shuffle = True)\n",
        "\n",
        "for clf, label in zip([knn, rf, svm, vclf], ['KNN', 'Random Forest', 'SVM', 'Voting Classifier']):\n",
        "    scores = cross_validate(clf, X_train, y_train, cv = cv2, scoring = ['accuracy','f1_micro', 'f1_macro', 'f1_weighted'])\n",
        "    print(\"[%s]: \\n Accuracy: %0.2f (+/- %0.2f)\" % (label, scores['test_accuracy'].mean(), scores['test_accuracy'].std()),\n",
        "          \"F1 micro score: %0.2f (+/- %0.2f)\" % (scores['test_f1_micro'].mean(), scores['test_f1_micro'].std()),\n",
        "          \"F1 macro score: %0.2f (+/- %0.2f)\" % (scores['test_f1_macro'].mean(), scores['test_f1_macro'].std()),\n",
        "          \"F1 weighted score: %0.2f (+/- %0.2f)\" % (scores['test_f1_weighted'].mean(), scores['test_f1_weighted'].std()),)"
      ],
      "metadata": {
        "colab": {
          "base_uri": "https://localhost:8080/"
        },
        "id": "sq8QGo8tTQV0",
        "outputId": "9eee314e-8694-4b43-d01b-419f631291e4"
      },
      "execution_count": null,
      "outputs": [
        {
          "output_type": "stream",
          "name": "stdout",
          "text": [
            "[KNN]: \n",
            " Accuracy: 0.83 (+/- 0.00) F1 micro score: 0.83 (+/- 0.00) F1 macro score: 0.46 (+/- 0.00) F1 weighted score: 0.75 (+/- 0.00)\n",
            "[Random Forest]: \n",
            " Accuracy: 0.83 (+/- 0.00) F1 micro score: 0.83 (+/- 0.00) F1 macro score: 0.49 (+/- 0.01) F1 weighted score: 0.76 (+/- 0.01)\n",
            "[SVM]: \n",
            " Accuracy: 0.83 (+/- 0.00) F1 micro score: 0.83 (+/- 0.00) F1 macro score: 0.45 (+/- 0.00) F1 weighted score: 0.75 (+/- 0.00)\n",
            "[Voting Classifier]: \n",
            " Accuracy: 0.83 (+/- 0.00) F1 micro score: 0.83 (+/- 0.00) F1 macro score: 0.46 (+/- 0.00) F1 weighted score: 0.75 (+/- 0.00)\n"
          ]
        }
      ]
    },
    {
      "cell_type": "markdown",
      "source": [
        "### with KNN"
      ],
      "metadata": {
        "id": "0v9uJuY8SUBb"
      }
    },
    {
      "cell_type": "markdown",
      "source": [
        "* Tomamos nuestro modelo KNN"
      ],
      "metadata": {
        "id": "GAMM2fSgy1Gk"
      }
    },
    {
      "cell_type": "code",
      "source": [
        "# On reprend notre modèle KNN\n",
        "knn = KNeighborsClassifier() #algorithm='auto', metric='minkowski', n_neighbors= 55, weights= 'uniform' ===== 0.88\n",
        "cv = KFold(n_splits=3, random_state=22 , shuffle = True)\n",
        "\n",
        "scores = cross_validate(knn, X_train, y_train, cv=cv, scoring=['accuracy','f1_micro', 'f1_macro', 'f1_weighted'])\n",
        "knn.fit(X_train, y_train)\n",
        "\n",
        "y_pred_knn = knn.predict(X_test)\n",
        "confusion_matrix=pd.crosstab(y_test, y_pred_knn, rownames = ['Classe réelle'], colnames = ['Classe prédite par random forest'])\n",
        "sns.heatmap(confusion_matrix, annot=True)\n",
        "print('Accuracy: ',metrics.accuracy_score(y_test, y_pred_knn));\n",
        "print(classification_report_imbalanced(y_test, y_pred_knn)) "
      ],
      "metadata": {
        "colab": {
          "base_uri": "https://localhost:8080/",
          "height": 419
        },
        "id": "w4aTQHVUSRGo",
        "outputId": "a492ea4b-e1c7-427b-aa77-4e7f313e771d"
      },
      "execution_count": null,
      "outputs": [
        {
          "output_type": "stream",
          "name": "stdout",
          "text": [
            "Accuracy:  0.8124269250041757\n",
            "                   pre       rec       spe        f1       geo       iba       sup\n",
            "\n",
            "        0.0       0.85      0.94      0.14      0.89      0.37      0.15      5001\n",
            "        1.0       0.34      0.14      0.94      0.20      0.37      0.13       986\n",
            "\n",
            "avg / total       0.76      0.81      0.28      0.78      0.37      0.14      5987\n",
            "\n"
          ]
        },
        {
          "output_type": "display_data",
          "data": {
            "text/plain": [
              "<Figure size 432x288 with 2 Axes>"
            ],
            "image/png": "[encoded data removed]"
          },
          "metadata": {
            "needs_background": "light"
          }
        }
      ]
    },
    {
      "cell_type": "markdown",
      "source": [
        "* Tambien tomamos los pronosticos sobre el partido de entrenamiento"
      ],
      "metadata": {
        "id": "uXQCZlt6y6jb"
      }
    },
    {
      "cell_type": "code",
      "source": [
        "# On prend aussi les prédictions sur le jeu d'entraînement\n",
        "y_pred_knn_train = knn.predict(X_train)\n",
        "confusion_matrix=pd.crosstab(y_train, y_pred_knn_train, rownames = ['Classe réelle'], colnames = ['Classe prédite par random forest'])\n",
        "sns.heatmap(confusion_matrix, annot=True)\n",
        "print('Accuracy: ',metrics.accuracy_score(y_train, y_pred_knn_train));"
      ],
      "metadata": {
        "colab": {
          "base_uri": "https://localhost:8080/",
          "height": 297
        },
        "id": "6GPxKxR2TmZ9",
        "outputId": "e0b11995-0bf0-4ebe-ea1a-9eed01abeef8"
      },
      "execution_count": null,
      "outputs": [
        {
          "output_type": "stream",
          "name": "stdout",
          "text": [
            "Accuracy:  0.8501148465232825\n"
          ]
        },
        {
          "output_type": "display_data",
          "data": {
            "text/plain": [
              "<Figure size 432x288 with 2 Axes>"
            ],
            "image/png": "[encoded data removed]"
          },
          "metadata": {
            "needs_background": "light"
          }
        }
      ]
    },
    {
      "cell_type": "markdown",
      "source": [
        "* Obtenemos nuestras predicciones en el dataframe"
      ],
      "metadata": {
        "id": "7k_IRpzGzBR2"
      }
    },
    {
      "cell_type": "code",
      "source": [
        "# On récupère nos prédictions dans un dataframe\n",
        "y_pred_knn_df= pd.DataFrame(y_pred_knn)\n",
        "y_pred_knn_train_df = pd.DataFrame(y_pred_knn_train)\n",
        "\n",
        "y = pd.concat([y_pred_knn_train_df, y_pred_knn_df])\n",
        "y.columns = ['Prediction']\n",
        "y.reset_index(inplace=True,drop=True)"
      ],
      "metadata": {
        "id": "B_nZZQ6qToR8"
      },
      "execution_count": null,
      "outputs": []
    },
    {
      "cell_type": "code",
      "source": [
        "# On récupère nos données de départ\n",
        "df_complet = df.copy()\n",
        "df_complet.reset_index(inplace=True,drop=True)\n",
        "# Ajout des prédictions faites à partir du KNN\n",
        "df_avec_pred = pd.concat([df_complet, y],axis=1)\n",
        "df_avec_pred.tail(20)"
      ],
      "metadata": {
        "colab": {
          "base_uri": "https://localhost:8080/",
          "height": 741
        },
        "id": "vkCDJ4u3iOJe",
        "outputId": "a7796e6c-77c0-4c4d-95c5-cc2cc261a568"
      },
      "execution_count": null,
      "outputs": [
        {
          "output_type": "execute_result",
          "data": {
            "text/plain": [
              "       case_id  Target90Days  OriginalCapitalOfCaseInvoices  IndustryCode  \\\n",
              "29912  29981.0           1.0                         237.74             7   \n",
              "29913  29982.0           0.0                          41.80             5   \n",
              "29914  29983.0           0.0                         613.00             5   \n",
              "29915  29984.0           0.0                         991.52             5   \n",
              "29916  29985.0           1.0                       10500.00             5   \n",
              "29917  29986.0           1.0                         851.52             5   \n",
              "29918  29987.0           0.0                         151.51             5   \n",
              "29919  29988.0           0.0                         338.27             7   \n",
              "29920  29989.0           0.0                         221.09             5   \n",
              "29921  29990.0           0.0                         456.47             5   \n",
              "29922  29991.0           0.0                         128.57             5   \n",
              "29923  29992.0           1.0                         250.07             5   \n",
              "29924  29993.0           0.0                         156.84             7   \n",
              "29925  29994.0           0.0                         995.25             5   \n",
              "29926  29995.0           0.0                         300.41             5   \n",
              "29927  29996.0           0.0                         435.46             5   \n",
              "29928  29997.0           1.0                         344.07             5   \n",
              "29929  29998.0           0.0                         417.23             5   \n",
              "29930  29999.0           0.0                         529.00             5   \n",
              "29931  30000.0           0.0                         174.23             0   \n",
              "\n",
              "       ClientName  NumberOfUnsuccessfullyClosedCustomerCasesLast36Months  \\\n",
              "29912        22.0                                                0.0       \n",
              "29913         2.0                                                0.0       \n",
              "29914        11.0                                                0.0       \n",
              "29915         6.0                                                1.0       \n",
              "29916       181.0                                                0.0       \n",
              "29917        67.0                                                1.0       \n",
              "29918         2.0                                                0.0       \n",
              "29919        55.0                                                1.0       \n",
              "29920        10.0                                                0.0       \n",
              "29921        11.0                                                0.0       \n",
              "29922         5.0                                                0.0       \n",
              "29923        10.0                                                1.0       \n",
              "29924         8.0                                                3.0       \n",
              "29925         2.0                                                1.0       \n",
              "29926        11.0                                                2.0       \n",
              "29927        27.0                                                0.0       \n",
              "29928        10.0                                                0.0       \n",
              "29929         6.0                                                1.0       \n",
              "29930        11.0                                                0.0       \n",
              "29931        36.0                                                0.0       \n",
              "\n",
              "       AmountOfCustomerPaymentsOnAllCasesBlevel  AmountOfCustomerOpenCases  \\\n",
              "29912                                     86.05                     499.37   \n",
              "29913                                     43.99                       0.00   \n",
              "29914                                     66.97                       0.00   \n",
              "29915                                      0.00                       0.00   \n",
              "29916                                      0.00                      75.43   \n",
              "29917                                    634.05                       0.00   \n",
              "29918                                      0.00                     322.11   \n",
              "29919                                      0.00                       0.00   \n",
              "29920                                      0.00                       0.00   \n",
              "29921                                      0.00                       0.00   \n",
              "29922                                    168.76                     109.59   \n",
              "29923                                     84.60                     178.38   \n",
              "29924                                    119.69                       0.00   \n",
              "29925                                   1071.99                       0.00   \n",
              "29926                                      0.00                       0.00   \n",
              "29927                                    978.62                     242.06   \n",
              "29928                                      0.00                   25408.75   \n",
              "29929                                      0.00                       0.00   \n",
              "29930                                    101.90                       0.00   \n",
              "29931                                     56.62                       0.00   \n",
              "\n",
              "       NumberOfTelephonesCI  AgeOfDebt  NumberOfCustomerIncomingCallDatesTee  \\\n",
              "29912                   3.0       12.0                                   1.0   \n",
              "29913                   3.0      103.0                                   0.0   \n",
              "29914                   1.0       62.0                                   0.0   \n",
              "29915                   3.0        4.0                                   0.0   \n",
              "29916                   1.0      531.0                                   0.0   \n",
              "29917                   4.0      523.0                                   5.0   \n",
              "29918                   1.0      108.0                                   0.0   \n",
              "29919                   2.0       62.0                                   0.0   \n",
              "29920                   3.0      129.0                                   0.0   \n",
              "29921                   5.0       65.0                                   0.0   \n",
              "29922                   2.0      292.0                                   0.0   \n",
              "29923                   2.0       46.0                                   0.0   \n",
              "29924                   3.0       70.0                                   0.0   \n",
              "29925                   4.0      109.0                                  14.0   \n",
              "29926                   3.0       65.0                                   0.0   \n",
              "29927                   3.0        4.0                                   0.0   \n",
              "29928                   2.0      111.0                                   1.0   \n",
              "29929                   3.0      103.0                                   0.0   \n",
              "29930                   2.0      199.0                                   0.0   \n",
              "29931                   1.0        7.0                                   0.0   \n",
              "\n",
              "       CustomerAge  NumberOfCustomerPaymentsInLast12Months  \\\n",
              "29912         46.0                                     5.0   \n",
              "29913         43.0                                     1.0   \n",
              "29914         39.0                                     0.0   \n",
              "29915         33.0                                     0.0   \n",
              "29916         27.0                                     0.0   \n",
              "29917         36.0                                     5.0   \n",
              "29918         42.0                                     0.0   \n",
              "29919         29.0                                     0.0   \n",
              "29920         60.0                                     0.0   \n",
              "29921         30.0                                     0.0   \n",
              "29922         45.0                                     1.0   \n",
              "29923         49.0                                     1.0   \n",
              "29924         64.0                                     1.0   \n",
              "29925         45.0                                     0.0   \n",
              "29926         32.0                                     0.0   \n",
              "29927         40.0                                     3.0   \n",
              "29928         40.0                                     0.0   \n",
              "29929         41.0                                     0.0   \n",
              "29930         54.0                                     0.0   \n",
              "29931         33.0                                     1.0   \n",
              "\n",
              "       LastOriginalClosingCodeOfCustomer  AmountOfCase  Prediction  \n",
              "29912                                4.0        287.74         0.0  \n",
              "29913                                6.0        102.80         0.0  \n",
              "29914                                7.0        628.00         0.0  \n",
              "29915                                1.0       1079.52         0.0  \n",
              "29916                                4.0      10500.00         0.0  \n",
              "29917                                7.0        851.52         0.0  \n",
              "29918                                4.0        212.88         0.0  \n",
              "29919                                1.0        338.27         1.0  \n",
              "29920                                1.0        241.56         0.0  \n",
              "29921                               38.0        471.47         0.0  \n",
              "29922                                8.0        148.84         0.0  \n",
              "29923                                1.0        270.14         0.0  \n",
              "29924                               11.0        187.78         0.0  \n",
              "29925                                1.0       1085.88         0.0  \n",
              "29926                                1.0        315.41         0.0  \n",
              "29927                                7.0        435.46         1.0  \n",
              "29928                                4.0        372.48         0.0  \n",
              "29929                                1.0        516.45         0.0  \n",
              "29930                                6.0        544.00         0.0  \n",
              "29931                                7.0        174.65         0.0  "
            ],
            "text/html": [
              "\n",
              "  <div id=\"df-ce7d9fd8-9e3b-40bc-9b94-796aae25f737\">\n",
              "    <div class=\"colab-df-container\">\n",
              "      <div>\n",
              "<style scoped>\n",
              "    .dataframe tbody tr th:only-of-type {\n",
              "        vertical-align: middle;\n",
              "    }\n",
              "\n",
              "    .dataframe tbody tr th {\n",
              "        vertical-align: top;\n",
              "    }\n",
              "\n",
              "    .dataframe thead th {\n",
              "        text-align: right;\n",
              "    }\n",
              "</style>\n",
              "<table border=\"1\" class=\"dataframe\">\n",
              "  <thead>\n",
              "    <tr style=\"text-align: right;\">\n",
              "      <th></th>\n",
              "      <th>case_id</th>\n",
              "      <th>Target90Days</th>\n",
              "      <th>OriginalCapitalOfCaseInvoices</th>\n",
              "      <th>IndustryCode</th>\n",
              "      <th>ClientName</th>\n",
              "      <th>NumberOfUnsuccessfullyClosedCustomerCasesLast36Months</th>\n",
              "      <th>AmountOfCustomerPaymentsOnAllCasesBlevel</th>\n",
              "      <th>AmountOfCustomerOpenCases</th>\n",
              "      <th>NumberOfTelephonesCI</th>\n",
              "      <th>AgeOfDebt</th>\n",
              "      <th>NumberOfCustomerIncomingCallDatesTee</th>\n",
              "      <th>CustomerAge</th>\n",
              "      <th>NumberOfCustomerPaymentsInLast12Months</th>\n",
              "      <th>LastOriginalClosingCodeOfCustomer</th>\n",
              "      <th>AmountOfCase</th>\n",
              "      <th>Prediction</th>\n",
              "    </tr>\n",
              "  </thead>\n",
              "  <tbody>\n",
              "    <tr>\n",
              "      <th>29912</th>\n",
              "      <td>29981.0</td>\n",
              "      <td>1.0</td>\n",
              "      <td>237.74</td>\n",
              "      <td>7</td>\n",
              "      <td>22.0</td>\n",
              "      <td>0.0</td>\n",
              "      <td>86.05</td>\n",
              "      <td>499.37</td>\n",
              "      <td>3.0</td>\n",
              "      <td>12.0</td>\n",
              "      <td>1.0</td>\n",
              "      <td>46.0</td>\n",
              "      <td>5.0</td>\n",
              "      <td>4.0</td>\n",
              "      <td>287.74</td>\n",
              "      <td>0.0</td>\n",
              "    </tr>\n",
              "    <tr>\n",
              "      <th>29913</th>\n",
              "      <td>29982.0</td>\n",
              "      <td>0.0</td>\n",
              "      <td>41.80</td>\n",
              "      <td>5</td>\n",
              "      <td>2.0</td>\n",
              "      <td>0.0</td>\n",
              "      <td>43.99</td>\n",
              "      <td>0.00</td>\n",
              "      <td>3.0</td>\n",
              "      <td>103.0</td>\n",
              "      <td>0.0</td>\n",
              "      <td>43.0</td>\n",
              "      <td>1.0</td>\n",
              "      <td>6.0</td>\n",
              "      <td>102.80</td>\n",
              "      <td>0.0</td>\n",
              "    </tr>\n",
              "    <tr>\n",
              "      <th>29914</th>\n",
              "      <td>29983.0</td>\n",
              "      <td>0.0</td>\n",
              "      <td>613.00</td>\n",
              "      <td>5</td>\n",
              "      <td>11.0</td>\n",
              "      <td>0.0</td>\n",
              "      <td>66.97</td>\n",
              "      <td>0.00</td>\n",
              "      <td>1.0</td>\n",
              "      <td>62.0</td>\n",
              "      <td>0.0</td>\n",
              "      <td>39.0</td>\n",
              "      <td>0.0</td>\n",
              "      <td>7.0</td>\n",
              "      <td>628.00</td>\n",
              "      <td>0.0</td>\n",
              "    </tr>\n",
              "    <tr>\n",
              "      <th>29915</th>\n",
              "      <td>29984.0</td>\n",
              "      <td>0.0</td>\n",
              "      <td>991.52</td>\n",
              "      <td>5</td>\n",
              "      <td>6.0</td>\n",
              "      <td>1.0</td>\n",
              "      <td>0.00</td>\n",
              "      <td>0.00</td>\n",
              "      <td>3.0</td>\n",
              "      <td>4.0</td>\n",
              "      <td>0.0</td>\n",
              "      <td>33.0</td>\n",
              "      <td>0.0</td>\n",
              "      <td>1.0</td>\n",
              "      <td>1079.52</td>\n",
              "      <td>0.0</td>\n",
              "    </tr>\n",
              "    <tr>\n",
              "      <th>29916</th>\n",
              "      <td>29985.0</td>\n",
              "      <td>1.0</td>\n",
              "      <td>10500.00</td>\n",
              "      <td>5</td>\n",
              "      <td>181.0</td>\n",
              "      <td>0.0</td>\n",
              "      <td>0.00</td>\n",
              "      <td>75.43</td>\n",
              "      <td>1.0</td>\n",
              "      <td>531.0</td>\n",
              "      <td>0.0</td>\n",
              "      <td>27.0</td>\n",
              "      <td>0.0</td>\n",
              "      <td>4.0</td>\n",
              "      <td>10500.00</td>\n",
              "      <td>0.0</td>\n",
              "    </tr>\n",
              "    <tr>\n",
              "      <th>29917</th>\n",
              "      <td>29986.0</td>\n",
              "      <td>1.0</td>\n",
              "      <td>851.52</td>\n",
              "      <td>5</td>\n",
              "      <td>67.0</td>\n",
              "      <td>1.0</td>\n",
              "      <td>634.05</td>\n",
              "      <td>0.00</td>\n",
              "      <td>4.0</td>\n",
              "      <td>523.0</td>\n",
              "      <td>5.0</td>\n",
              "      <td>36.0</td>\n",
              "      <td>5.0</td>\n",
              "      <td>7.0</td>\n",
              "      <td>851.52</td>\n",
              "      <td>0.0</td>\n",
              "    </tr>\n",
              "    <tr>\n",
              "      <th>29918</th>\n",
              "      <td>29987.0</td>\n",
              "      <td>0.0</td>\n",
              "      <td>151.51</td>\n",
              "      <td>5</td>\n",
              "      <td>2.0</td>\n",
              "      <td>0.0</td>\n",
              "      <td>0.00</td>\n",
              "      <td>322.11</td>\n",
              "      <td>1.0</td>\n",
              "      <td>108.0</td>\n",
              "      <td>0.0</td>\n",
              "      <td>42.0</td>\n",
              "      <td>0.0</td>\n",
              "      <td>4.0</td>\n",
              "      <td>212.88</td>\n",
              "      <td>0.0</td>\n",
              "    </tr>\n",
              "    <tr>\n",
              "      <th>29919</th>\n",
              "      <td>29988.0</td>\n",
              "      <td>0.0</td>\n",
              "      <td>338.27</td>\n",
              "      <td>7</td>\n",
              "      <td>55.0</td>\n",
              "      <td>1.0</td>\n",
              "      <td>0.00</td>\n",
              "      <td>0.00</td>\n",
              "      <td>2.0</td>\n",
              "      <td>62.0</td>\n",
              "      <td>0.0</td>\n",
              "      <td>29.0</td>\n",
              "      <td>0.0</td>\n",
              "      <td>1.0</td>\n",
              "      <td>338.27</td>\n",
              "      <td>1.0</td>\n",
              "    </tr>\n",
              "    <tr>\n",
              "      <th>29920</th>\n",
              "      <td>29989.0</td>\n",
              "      <td>0.0</td>\n",
              "      <td>221.09</td>\n",
              "      <td>5</td>\n",
              "      <td>10.0</td>\n",
              "      <td>0.0</td>\n",
              "      <td>0.00</td>\n",
              "      <td>0.00</td>\n",
              "      <td>3.0</td>\n",
              "      <td>129.0</td>\n",
              "      <td>0.0</td>\n",
              "      <td>60.0</td>\n",
              "      <td>0.0</td>\n",
              "      <td>1.0</td>\n",
              "      <td>241.56</td>\n",
              "      <td>0.0</td>\n",
              "    </tr>\n",
              "    <tr>\n",
              "      <th>29921</th>\n",
              "      <td>29990.0</td>\n",
              "      <td>0.0</td>\n",
              "      <td>456.47</td>\n",
              "      <td>5</td>\n",
              "      <td>11.0</td>\n",
              "      <td>0.0</td>\n",
              "      <td>0.00</td>\n",
              "      <td>0.00</td>\n",
              "      <td>5.0</td>\n",
              "      <td>65.0</td>\n",
              "      <td>0.0</td>\n",
              "      <td>30.0</td>\n",
              "      <td>0.0</td>\n",
              "      <td>38.0</td>\n",
              "      <td>471.47</td>\n",
              "      <td>0.0</td>\n",
              "    </tr>\n",
              "    <tr>\n",
              "      <th>29922</th>\n",
              "      <td>29991.0</td>\n",
              "      <td>0.0</td>\n",
              "      <td>128.57</td>\n",
              "      <td>5</td>\n",
              "      <td>5.0</td>\n",
              "      <td>0.0</td>\n",
              "      <td>168.76</td>\n",
              "      <td>109.59</td>\n",
              "      <td>2.0</td>\n",
              "      <td>292.0</td>\n",
              "      <td>0.0</td>\n",
              "      <td>45.0</td>\n",
              "      <td>1.0</td>\n",
              "      <td>8.0</td>\n",
              "      <td>148.84</td>\n",
              "      <td>0.0</td>\n",
              "    </tr>\n",
              "    <tr>\n",
              "      <th>29923</th>\n",
              "      <td>29992.0</td>\n",
              "      <td>1.0</td>\n",
              "      <td>250.07</td>\n",
              "      <td>5</td>\n",
              "      <td>10.0</td>\n",
              "      <td>1.0</td>\n",
              "      <td>84.60</td>\n",
              "      <td>178.38</td>\n",
              "      <td>2.0</td>\n",
              "      <td>46.0</td>\n",
              "      <td>0.0</td>\n",
              "      <td>49.0</td>\n",
              "      <td>1.0</td>\n",
              "      <td>1.0</td>\n",
              "      <td>270.14</td>\n",
              "      <td>0.0</td>\n",
              "    </tr>\n",
              "    <tr>\n",
              "      <th>29924</th>\n",
              "      <td>29993.0</td>\n",
              "      <td>0.0</td>\n",
              "      <td>156.84</td>\n",
              "      <td>7</td>\n",
              "      <td>8.0</td>\n",
              "      <td>3.0</td>\n",
              "      <td>119.69</td>\n",
              "      <td>0.00</td>\n",
              "      <td>3.0</td>\n",
              "      <td>70.0</td>\n",
              "      <td>0.0</td>\n",
              "      <td>64.0</td>\n",
              "      <td>1.0</td>\n",
              "      <td>11.0</td>\n",
              "      <td>187.78</td>\n",
              "      <td>0.0</td>\n",
              "    </tr>\n",
              "    <tr>\n",
              "      <th>29925</th>\n",
              "      <td>29994.0</td>\n",
              "      <td>0.0</td>\n",
              "      <td>995.25</td>\n",
              "      <td>5</td>\n",
              "      <td>2.0</td>\n",
              "      <td>1.0</td>\n",
              "      <td>1071.99</td>\n",
              "      <td>0.00</td>\n",
              "      <td>4.0</td>\n",
              "      <td>109.0</td>\n",
              "      <td>14.0</td>\n",
              "      <td>45.0</td>\n",
              "      <td>0.0</td>\n",
              "      <td>1.0</td>\n",
              "      <td>1085.88</td>\n",
              "      <td>0.0</td>\n",
              "    </tr>\n",
              "    <tr>\n",
              "      <th>29926</th>\n",
              "      <td>29995.0</td>\n",
              "      <td>0.0</td>\n",
              "      <td>300.41</td>\n",
              "      <td>5</td>\n",
              "      <td>11.0</td>\n",
              "      <td>2.0</td>\n",
              "      <td>0.00</td>\n",
              "      <td>0.00</td>\n",
              "      <td>3.0</td>\n",
              "      <td>65.0</td>\n",
              "      <td>0.0</td>\n",
              "      <td>32.0</td>\n",
              "      <td>0.0</td>\n",
              "      <td>1.0</td>\n",
              "      <td>315.41</td>\n",
              "      <td>0.0</td>\n",
              "    </tr>\n",
              "    <tr>\n",
              "      <th>29927</th>\n",
              "      <td>29996.0</td>\n",
              "      <td>0.0</td>\n",
              "      <td>435.46</td>\n",
              "      <td>5</td>\n",
              "      <td>27.0</td>\n",
              "      <td>0.0</td>\n",
              "      <td>978.62</td>\n",
              "      <td>242.06</td>\n",
              "      <td>3.0</td>\n",
              "      <td>4.0</td>\n",
              "      <td>0.0</td>\n",
              "      <td>40.0</td>\n",
              "      <td>3.0</td>\n",
              "      <td>7.0</td>\n",
              "      <td>435.46</td>\n",
              "      <td>1.0</td>\n",
              "    </tr>\n",
              "    <tr>\n",
              "      <th>29928</th>\n",
              "      <td>29997.0</td>\n",
              "      <td>1.0</td>\n",
              "      <td>344.07</td>\n",
              "      <td>5</td>\n",
              "      <td>10.0</td>\n",
              "      <td>0.0</td>\n",
              "      <td>0.00</td>\n",
              "      <td>25408.75</td>\n",
              "      <td>2.0</td>\n",
              "      <td>111.0</td>\n",
              "      <td>1.0</td>\n",
              "      <td>40.0</td>\n",
              "      <td>0.0</td>\n",
              "      <td>4.0</td>\n",
              "      <td>372.48</td>\n",
              "      <td>0.0</td>\n",
              "    </tr>\n",
              "    <tr>\n",
              "      <th>29929</th>\n",
              "      <td>29998.0</td>\n",
              "      <td>0.0</td>\n",
              "      <td>417.23</td>\n",
              "      <td>5</td>\n",
              "      <td>6.0</td>\n",
              "      <td>1.0</td>\n",
              "      <td>0.00</td>\n",
              "      <td>0.00</td>\n",
              "      <td>3.0</td>\n",
              "      <td>103.0</td>\n",
              "      <td>0.0</td>\n",
              "      <td>41.0</td>\n",
              "      <td>0.0</td>\n",
              "      <td>1.0</td>\n",
              "      <td>516.45</td>\n",
              "      <td>0.0</td>\n",
              "    </tr>\n",
              "    <tr>\n",
              "      <th>29930</th>\n",
              "      <td>29999.0</td>\n",
              "      <td>0.0</td>\n",
              "      <td>529.00</td>\n",
              "      <td>5</td>\n",
              "      <td>11.0</td>\n",
              "      <td>0.0</td>\n",
              "      <td>101.90</td>\n",
              "      <td>0.00</td>\n",
              "      <td>2.0</td>\n",
              "      <td>199.0</td>\n",
              "      <td>0.0</td>\n",
              "      <td>54.0</td>\n",
              "      <td>0.0</td>\n",
              "      <td>6.0</td>\n",
              "      <td>544.00</td>\n",
              "      <td>0.0</td>\n",
              "    </tr>\n",
              "    <tr>\n",
              "      <th>29931</th>\n",
              "      <td>30000.0</td>\n",
              "      <td>0.0</td>\n",
              "      <td>174.23</td>\n",
              "      <td>0</td>\n",
              "      <td>36.0</td>\n",
              "      <td>0.0</td>\n",
              "      <td>56.62</td>\n",
              "      <td>0.00</td>\n",
              "      <td>1.0</td>\n",
              "      <td>7.0</td>\n",
              "      <td>0.0</td>\n",
              "      <td>33.0</td>\n",
              "      <td>1.0</td>\n",
              "      <td>7.0</td>\n",
              "      <td>174.65</td>\n",
              "      <td>0.0</td>\n",
              "    </tr>\n",
              "  </tbody>\n",
              "</table>\n",
              "</div>\n",
              "      <button class=\"colab-df-convert\" onclick=\"convertToInteractive('df-ce7d9fd8-9e3b-40bc-9b94-796aae25f737')\"\n",
              "              title=\"Convert this dataframe to an interactive table.\"\n",
              "              style=\"display:none;\">\n",
              "        \n",
              "  <svg xmlns=\"http://www.w3.org/2000/svg\" height=\"24px\"viewBox=\"0 0 24 24\"\n",
              "       width=\"24px\">\n",
              "    <path d=\"M0 0h24v24H0V0z\" fill=\"none\"/>\n",
              "    <path d=\"M18.56 5.44l.94 2.06.94-2.06 2.06-.94-2.06-.94-.94-2.06-.94 2.06-2.06.94zm-11 1L8.5 8.5l.94-2.06 2.06-.94-2.06-.94L8.5 2.5l-.94 2.06-2.06.94zm10 10l.94 2.06.94-2.06 2.06-.94-2.06-.94-.94-2.06-.94 2.06-2.06.94z\"/><path d=\"M17.41 7.96l-1.37-1.37c-.4-.4-.92-.59-1.43-.59-.52 0-1.04.2-1.43.59L10.3 9.45l-7.72 7.72c-.78.78-.78 2.05 0 2.83L4 21.41c.39.39.9.59 1.41.59.51 0 1.02-.2 1.41-.59l7.78-7.78 2.81-2.81c.8-.78.8-2.07 0-2.86zM5.41 20L4 18.59l7.72-7.72 1.47 1.35L5.41 20z\"/>\n",
              "  </svg>\n",
              "      </button>\n",
              "      \n",
              "  <style>\n",
              "    .colab-df-container {\n",
              "      display:flex;\n",
              "      flex-wrap:wrap;\n",
              "      gap: 12px;\n",
              "    }\n",
              "\n",
              "    .colab-df-convert {\n",
              "      background-color: #E8F0FE;\n",
              "      border: none;\n",
              "      border-radius: 50%;\n",
              "      cursor: pointer;\n",
              "      display: none;\n",
              "      fill: #1967D2;\n",
              "      height: 32px;\n",
              "      padding: 0 0 0 0;\n",
              "      width: 32px;\n",
              "    }\n",
              "\n",
              "    .colab-df-convert:hover {\n",
              "      background-color: #E2EBFA;\n",
              "      box-shadow: 0px 1px 2px rgba(60, 64, 67, 0.3), 0px 1px 3px 1px rgba(60, 64, 67, 0.15);\n",
              "      fill: #174EA6;\n",
              "    }\n",
              "\n",
              "    [theme=dark] .colab-df-convert {\n",
              "      background-color: #3B4455;\n",
              "      fill: #D2E3FC;\n",
              "    }\n",
              "\n",
              "    [theme=dark] .colab-df-convert:hover {\n",
              "      background-color: #434B5C;\n",
              "      box-shadow: 0px 1px 3px 1px rgba(0, 0, 0, 0.15);\n",
              "      filter: drop-shadow(0px 1px 2px rgba(0, 0, 0, 0.3));\n",
              "      fill: #FFFFFF;\n",
              "    }\n",
              "  </style>\n",
              "\n",
              "      <script>\n",
              "        const buttonEl =\n",
              "          document.querySelector('#df-ce7d9fd8-9e3b-40bc-9b94-796aae25f737 button.colab-df-convert');\n",
              "        buttonEl.style.display =\n",
              "          google.colab.kernel.accessAllowed ? 'block' : 'none';\n",
              "\n",
              "        async function convertToInteractive(key) {\n",
              "          const element = document.querySelector('#df-ce7d9fd8-9e3b-40bc-9b94-796aae25f737');\n",
              "          const dataTable =\n",
              "            await google.colab.kernel.invokeFunction('convertToInteractive',\n",
              "                                                     [key], {});\n",
              "          if (!dataTable) return;\n",
              "\n",
              "          const docLinkHtml = 'Like what you see? Visit the ' +\n",
              "            '<a target=\"_blank\" href=https://colab.research.google.com/notebooks/data_table.ipynb>data table notebook</a>'\n",
              "            + ' to learn more about interactive tables.';\n",
              "          element.innerHTML = '';\n",
              "          dataTable['output_type'] = 'display_data';\n",
              "          await google.colab.output.renderOutput(dataTable, element);\n",
              "          const docLink = document.createElement('div');\n",
              "          docLink.innerHTML = docLinkHtml;\n",
              "          element.appendChild(docLink);\n",
              "        }\n",
              "      </script>\n",
              "    </div>\n",
              "  </div>\n",
              "  "
            ]
          },
          "metadata": {},
          "execution_count": 42
        }
      ]
    },
    {
      "cell_type": "markdown",
      "source": [
        "# Interpretacion"
      ],
      "metadata": {
        "id": "T2kXT1nVaLlH"
      }
    },
    {
      "cell_type": "markdown",
      "source": [
        "* Etude de l'importance des variables conservées avec un modèle Lasso"
      ],
      "metadata": {
        "id": "MMj7CpL40JTH"
      }
    },
    {
      "cell_type": "code",
      "source": [
        "# On reprend notre modèle KNN\n",
        "knn = KNeighborsClassifier()\n",
        "cv = KFold(n_splits=3, random_state=22 , shuffle = True)\n",
        "\n",
        "scores = cross_validate(knn, X_train, y_train, cv=cv, scoring=['accuracy','f1_micro', 'f1_macro', 'f1_weighted'])\n",
        "knn.fit(X_train, y_train)\n",
        "\n",
        "y_pred_knn = knn.predict(X_test)\n",
        "confusion_matrix=pd.crosstab(y_test, y_pred_knn, rownames = ['Classe réelle'], colnames = ['Classe prédite par random forest'])\n",
        "\n",
        "print('Accuracy: ',metrics.accuracy_score(y_test, y_pred_knn));"
      ],
      "metadata": {
        "id": "_z_RSI6YqLxS"
      },
      "execution_count": null,
      "outputs": []
    },
    {
      "cell_type": "code",
      "source": [
        "#@title\n",
        "from sklearn.linear_model import RidgeCV, LassoCV, Ridge, Lasso\n",
        "reg = LassoCV()\n",
        "reg.fit(X_train, y_train)\n",
        "print(\"Best alpha using built-in LassoCV: %f\" % reg.alpha_)\n",
        "print(\"Best score using built-in LassoCV: %f\" %reg.score(X_train,y_train))\n",
        "coef = pd.Series(reg.coef_, index = X_train)\n",
        "print(\"Lasso picked \" + str(sum(coef != 0)) + \" variables and eliminated the other \" +  str(sum(coef == 0)) + \" variables\")"
      ],
      "metadata": {
        "id": "SvQE2d65aNZY"
      },
      "execution_count": null,
      "outputs": []
    },
    {
      "cell_type": "code",
      "source": [
        "#@title\n",
        "fig = plt.figure(figsize=(6,6))\n",
        "imp_coef = coef.sort_values()\n",
        "import matplotlib\n",
        "matplotlib.rcParams['figure.figsize'] = (8.0, 10.0)\n",
        "imp_coef.plot(kind = \"barh\")\n",
        "plt.title(\"Importance des variables en utilisation un modèle Lasso\");"
      ],
      "metadata": {
        "id": "QkLXCpbaaP6n"
      },
      "execution_count": null,
      "outputs": []
    },
    {
      "cell_type": "code",
      "source": [
        "pip install shap"
      ],
      "metadata": {
        "id": "C53g1ppzaV7K"
      },
      "execution_count": null,
      "outputs": []
    },
    {
      "cell_type": "code",
      "source": [
        "import shap\n",
        "\n",
        "X_train=pd.DataFrame(X_train)\n",
        "X_test=pd.DataFrame(X_test)\n",
        "\n",
        "# Création des valeurs SHAP\n",
        "knn_explainer = shap.KernelExplainer(knn.predict,X_test)\n",
        "knn_shap_values = knn_explainer.shap_values(X_test)\n",
        "shap.summary_plot(knn_shap_values, X_test)"
      ],
      "metadata": {
        "id": "ibUKgjntaWYW"
      },
      "execution_count": null,
      "outputs": []
    }
  ]
}